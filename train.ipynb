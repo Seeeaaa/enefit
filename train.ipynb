{
 "cells": [
  {
   "cell_type": "markdown",
   "id": "c8e91539-52f2-4918-a49c-597e20e151c4",
   "metadata": {
    "editable": true,
    "slideshow": {
     "slide_type": ""
    },
    "tags": []
   },
   "source": [
    "# 1. Import"
   ]
  },
  {
   "cell_type": "code",
   "execution_count": 1,
   "id": "1d97019f-4f37-4bce-a8a2-dd5ec8c0a7f0",
   "metadata": {
    "execution": {
     "iopub.execute_input": "2024-09-09T17:53:35.194350Z",
     "iopub.status.busy": "2024-09-09T17:53:35.194350Z",
     "iopub.status.idle": "2024-09-09T17:53:35.431178Z",
     "shell.execute_reply": "2024-09-09T17:53:35.428172Z",
     "shell.execute_reply.started": "2024-09-09T17:53:35.194350Z"
    }
   },
   "outputs": [
    {
     "ename": "NameError",
     "evalue": "name 'q' is not defined",
     "output_type": "error",
     "traceback": [
      "\u001b[1;31m---------------------------------------------------------------------------\u001b[0m",
      "\u001b[1;31mNameError\u001b[0m                                 Traceback (most recent call last)",
      "Cell \u001b[1;32mIn[1], line 1\u001b[0m\n\u001b[1;32m----> 1\u001b[0m \u001b[43mq\u001b[49m\n",
      "\u001b[1;31mNameError\u001b[0m: name 'q' is not defined"
     ]
    }
   ],
   "source": [
    "q"
   ]
  },
  {
   "cell_type": "code",
   "execution_count": null,
   "id": "d8694e6f-4c39-4f4c-938a-d919b4fa6397",
   "metadata": {
    "execution": {
     "iopub.status.busy": "2024-09-09T17:53:35.431178Z",
     "iopub.status.idle": "2024-09-09T17:53:35.432180Z",
     "shell.execute_reply": "2024-09-09T17:53:35.432180Z",
     "shell.execute_reply.started": "2024-09-09T17:53:35.432180Z"
    }
   },
   "outputs": [],
   "source": [
    "import numpy as np\n",
    "import pandas as pd\n",
    "import matplotlib.pyplot as plt\n",
    "import seaborn as sns\n",
    "\n",
    "from sklearn.preprocessing import (\n",
    "    StandardScaler,\n",
    ")\n",
    "\n",
    "from sklearn.model_selection import (\n",
    "    train_test_split,\n",
    "    KFold,\n",
    "    StratifiedKFold,\n",
    "    GridSearchCV,\n",
    "    RandomizedSearchCV,\n",
    "    TimeSeriesSplit,\n",
    ")\n",
    "\n",
    "from sklearn.linear_model import (\n",
    "    LinearRegression,\n",
    "    LogisticRegression,\n",
    "    Ridge,\n",
    "    Lasso,\n",
    "    ElasticNet,\n",
    ")\n",
    "\n",
    "from sklearn.metrics import (\n",
    "    mean_absolute_error,\n",
    "    mean_squared_error,\n",
    "    r2_score,\n",
    "    mean_squared_log_error,\n",
    "    accuracy_score,\n",
    "    f1_score,\n",
    "    precision_score,\n",
    "    recall_score,\n",
    "    log_loss,\n",
    "    auc,\n",
    "    roc_auc_score,\n",
    "    roc_curve,\n",
    "    RocCurveDisplay,\n",
    "    precision_recall_curve,\n",
    "    classification_report,\n",
    ")\n",
    "\n",
    "from catboost import CatBoostRegressor\n",
    "from xgboost import XGBRegressor\n",
    "\n",
    "RAND = 10"
   ]
  },
  {
   "cell_type": "code",
   "execution_count": null,
   "id": "c426cd96-8c1c-4c75-88cf-261cff783c72",
   "metadata": {
    "execution": {
     "iopub.status.busy": "2024-09-09T17:53:35.433179Z",
     "iopub.status.idle": "2024-09-09T17:53:35.433179Z",
     "shell.execute_reply": "2024-09-09T17:53:35.433179Z",
     "shell.execute_reply.started": "2024-09-09T17:53:35.433179Z"
    }
   },
   "outputs": [],
   "source": [
    "train_df = pd.read_csv(\"train.csv\")"
   ]
  },
  {
   "cell_type": "markdown",
   "id": "99a5974b-0895-4c12-8017-9b9d01f6ae64",
   "metadata": {},
   "source": [
    "# 2. EDA"
   ]
  },
  {
   "cell_type": "code",
   "execution_count": null,
   "id": "e48549ad-2399-4454-b752-f680ab1b2be9",
   "metadata": {
    "execution": {
     "iopub.status.busy": "2024-09-09T17:53:35.434181Z",
     "iopub.status.idle": "2024-09-09T17:53:35.434181Z",
     "shell.execute_reply": "2024-09-09T17:53:35.434181Z",
     "shell.execute_reply.started": "2024-09-09T17:53:35.434181Z"
    }
   },
   "outputs": [],
   "source": [
    "train_df"
   ]
  },
  {
   "cell_type": "code",
   "execution_count": null,
   "id": "c5630cba-d558-4e04-b15e-053609da30c0",
   "metadata": {
    "execution": {
     "iopub.status.busy": "2024-09-09T17:53:35.435178Z",
     "iopub.status.idle": "2024-09-09T17:53:35.436184Z",
     "shell.execute_reply": "2024-09-09T17:53:35.435178Z",
     "shell.execute_reply.started": "2024-09-09T17:53:35.435178Z"
    }
   },
   "outputs": [],
   "source": [
    "train_df.info(show_counts=True)"
   ]
  },
  {
   "cell_type": "code",
   "execution_count": null,
   "id": "da90eef3-8376-4f7d-8215-bde259d16c7d",
   "metadata": {
    "execution": {
     "iopub.status.busy": "2024-09-09T17:53:35.436184Z",
     "iopub.status.idle": "2024-09-09T17:53:35.436184Z",
     "shell.execute_reply": "2024-09-09T17:53:35.436184Z",
     "shell.execute_reply.started": "2024-09-09T17:53:35.436184Z"
    }
   },
   "outputs": [],
   "source": [
    "train_df = train_df.astype({\n",
    "    \"county\": \"uint8\",\n",
    "    \"is_business\": \"bool\",\n",
    "    \"product_type\": \"uint8\",\n",
    "    \"is_consumption\": \"bool\",\n",
    "    \"datetime\": \"datetime64[ns]\",})"
   ]
  },
  {
   "cell_type": "code",
   "execution_count": null,
   "id": "b5f96f0f-8e34-44af-8171-3706103a9db5",
   "metadata": {
    "execution": {
     "iopub.status.busy": "2024-09-09T17:53:35.437178Z",
     "iopub.status.idle": "2024-09-09T17:53:35.437178Z",
     "shell.execute_reply": "2024-09-09T17:53:35.437178Z",
     "shell.execute_reply.started": "2024-09-09T17:53:35.437178Z"
    }
   },
   "outputs": [],
   "source": [
    "train_df.describe()"
   ]
  },
  {
   "cell_type": "code",
   "execution_count": null,
   "id": "0263e096-5835-405d-a27a-10f8dcf28516",
   "metadata": {
    "execution": {
     "iopub.status.busy": "2024-09-09T17:53:35.438179Z",
     "iopub.status.idle": "2024-09-09T17:53:35.438179Z",
     "shell.execute_reply": "2024-09-09T17:53:35.438179Z",
     "shell.execute_reply.started": "2024-09-09T17:53:35.438179Z"
    }
   },
   "outputs": [],
   "source": [
    "# train_df.describe(include = \"object\")"
   ]
  },
  {
   "cell_type": "code",
   "execution_count": null,
   "id": "08f0e125-387c-48e2-ada4-5da305da3a86",
   "metadata": {
    "execution": {
     "iopub.status.busy": "2024-09-09T17:53:35.439180Z",
     "iopub.status.idle": "2024-09-09T17:53:35.439180Z",
     "shell.execute_reply": "2024-09-09T17:53:35.439180Z",
     "shell.execute_reply.started": "2024-09-09T17:53:35.439180Z"
    }
   },
   "outputs": [],
   "source": [
    "train_df = train_df.astype(\n",
    "    {\n",
    "        \"county\": \"uint8\",\n",
    "        \"is_business\": \"bool\",\n",
    "        \"product_type\": \"uint8\",\n",
    "        \"is_consumption\": \"bool\",\n",
    "        \"datetime\": \"datetime64[ns]\",\n",
    "    }\n",
    ")"
   ]
  },
  {
   "cell_type": "code",
   "execution_count": null,
   "id": "682953c8-a02d-4345-bb84-5acbd34a7285",
   "metadata": {
    "execution": {
     "iopub.status.busy": "2024-09-09T17:53:35.441179Z",
     "iopub.status.idle": "2024-09-09T17:53:35.441179Z",
     "shell.execute_reply": "2024-09-09T17:53:35.441179Z",
     "shell.execute_reply.started": "2024-09-09T17:53:35.441179Z"
    }
   },
   "outputs": [],
   "source": [
    "# df = train_df.copy().set_index(\"datetime\")\n",
    "train_df[\"hour\"] = train_df[\"datetime\"].dt.hour.astype(\"uint8\")\n",
    "train_df[\"day_of_week\"] = train_df[\"datetime\"].dt.day_of_week.astype(\"uint8\")\n",
    "train_df[\"day\"] = train_df[\"datetime\"].dt.day.astype(\"uint16\")\n",
    "train_df[\"week_of_year\"] = (\n",
    "    train_df[\"datetime\"].dt.isocalendar().week.astype(\"int8\")\n",
    ")\n",
    "train_df[\"month\"] = train_df[\"datetime\"].dt.month.astype(\"int8\")\n",
    "train_df[\"quarter\"] = train_df[\"datetime\"].dt.quarter.astype(\"int8\")\n",
    "train_df[\"year\"] = train_df[\"datetime\"].dt.year.astype(\"uint16\")\n",
    "\n",
    "train_df[\"target_modified\"] = np.where(\n",
    "    train_df[\"is_consumption\"] == True,\n",
    "    train_df[\"target\"] * (-1),\n",
    "    train_df[\"target\"],\n",
    ")\n",
    "\n",
    "train_df.info()"
   ]
  },
  {
   "cell_type": "code",
   "execution_count": null,
   "id": "214e243a-8e47-4eda-a565-e72b12841a68",
   "metadata": {
    "execution": {
     "iopub.status.busy": "2024-09-09T17:53:35.442179Z",
     "iopub.status.idle": "2024-09-09T17:53:35.443179Z",
     "shell.execute_reply": "2024-09-09T17:53:35.442179Z",
     "shell.execute_reply.started": "2024-09-09T17:53:35.442179Z"
    }
   },
   "outputs": [],
   "source": [
    "fig, ax = plt.subplots(figsize=(20, 7))\n",
    "sns.scatterplot(\n",
    "    data=train_df,\n",
    "    x=\"datetime\",\n",
    "    y=\"target\",\n",
    "    s=1,\n",
    "    # hue=\"county\",\n",
    "    # style='is_business',\n",
    ")\n",
    "plt.title(\n",
    "    \"Energy consumption or production for the discrete segment for the hour\"\n",
    ")\n",
    "plt.show()"
   ]
  },
  {
   "cell_type": "code",
   "execution_count": null,
   "id": "0cacae87-e590-4a09-a29b-c039538698ea",
   "metadata": {
    "execution": {
     "iopub.status.busy": "2024-09-09T17:53:35.443179Z",
     "iopub.status.idle": "2024-09-09T17:53:35.444179Z",
     "shell.execute_reply": "2024-09-09T17:53:35.443179Z",
     "shell.execute_reply.started": "2024-09-09T17:53:35.443179Z"
    }
   },
   "outputs": [],
   "source": [
    "fig, ax = plt.subplots(figsize=(20, 10))\n",
    "sns.scatterplot(\n",
    "    data=train_df,\n",
    "    x=\"datetime\",\n",
    "    y=\"target_modified\",\n",
    "    hue=\"county\",\n",
    "    palette=\"deep\",\n",
    "    s=2,\n",
    "    # style='is_business',\n",
    ")\n",
    "\n",
    "plt.title(\n",
    "    \"Energy consumption (below 0) or production (above 0) for the relevant segment for hour\"\n",
    ")\n",
    "plt.legend(\n",
    "    bbox_to_anchor=(1.02, 1),\n",
    "    loc=\"upper left\",\n",
    "    borderaxespad=0,\n",
    "    markerscale=3,\n",
    ")\n",
    "# plt.yscale('symlog')\n",
    "plt.show()"
   ]
  },
  {
   "cell_type": "code",
   "execution_count": null,
   "id": "69a60e96-1a87-4afe-87f3-1299f698988e",
   "metadata": {
    "execution": {
     "iopub.status.busy": "2024-09-09T17:53:35.444179Z",
     "iopub.status.idle": "2024-09-09T17:53:35.445178Z",
     "shell.execute_reply": "2024-09-09T17:53:35.445178Z",
     "shell.execute_reply.started": "2024-09-09T17:53:35.445178Z"
    }
   },
   "outputs": [],
   "source": [
    "sns.displot(\n",
    "    data=train_df,\n",
    "    x=\"target\",\n",
    "    hue=\"is_consumption\",\n",
    "    log_scale=True,\n",
    ")\n",
    "\n",
    "plt.title(\"Target's distribution\")\n",
    "plt.show()"
   ]
  },
  {
   "cell_type": "code",
   "execution_count": null,
   "id": "bf78b418-5c1a-4aa7-b7a5-7888b6787ebf",
   "metadata": {
    "execution": {
     "iopub.status.busy": "2024-09-09T17:53:35.445178Z",
     "iopub.status.idle": "2024-09-09T17:53:35.445178Z",
     "shell.execute_reply": "2024-09-09T17:53:35.445178Z",
     "shell.execute_reply.started": "2024-09-09T17:53:35.445178Z"
    },
    "scrolled": true
   },
   "outputs": [],
   "source": [
    "# target_per_county = (\n",
    "#     train_df.groupby([\"is_consumption\", \"county\"])[[\"target\"]]\n",
    "#     .sum()\n",
    "#     .groupby(level=0)\n",
    "#     .apply(lambda x: x * 100 / x.sum())\n",
    "#     .reset_index(level=0, drop=True)\n",
    "#     .reset_index()\n",
    "#     .rename(columns={\"target\": \"percentage\"})\n",
    "# )\n",
    "# target_per_county"
   ]
  },
  {
   "cell_type": "code",
   "execution_count": null,
   "id": "5d754843-5f6a-4125-92b7-fa2971dd06f9",
   "metadata": {
    "execution": {
     "iopub.status.busy": "2024-09-09T17:53:35.446180Z",
     "iopub.status.idle": "2024-09-09T17:53:35.447178Z",
     "shell.execute_reply": "2024-09-09T17:53:35.447178Z",
     "shell.execute_reply.started": "2024-09-09T17:53:35.447178Z"
    }
   },
   "outputs": [],
   "source": [
    "# plt.figure(figsize=(18,6))\n",
    "\n",
    "# barplot = sns.barplot(\n",
    "#     data=target_per_county,\n",
    "#     x=\"county\",\n",
    "#     y=\"percentage\",\n",
    "#     hue=\"is_consumption\",\n",
    "# )\n",
    "\n",
    "# for container in barplot.containers:\n",
    "#     barplot.bar_label(\n",
    "#         container,\n",
    "#         fmt=\"%.2f\",\n",
    "#         fontsize=9,\n",
    "#     )\n",
    "\n",
    "# plt.show()"
   ]
  },
  {
   "cell_type": "code",
   "execution_count": null,
   "id": "76f5b406-72b9-4e3b-8fae-0f383beff43c",
   "metadata": {
    "execution": {
     "iopub.status.busy": "2024-09-09T17:53:35.448182Z",
     "iopub.status.idle": "2024-09-09T17:53:35.449180Z",
     "shell.execute_reply": "2024-09-09T17:53:35.448182Z",
     "shell.execute_reply.started": "2024-09-09T17:53:35.448182Z"
    }
   },
   "outputs": [],
   "source": [
    "def target_percentage_in_subgroup(\n",
    "    df: pd.DataFrame, feature: str, broken_down_by: str, target: str\n",
    ") -> pd.DataFrame:\n",
    "    df = (\n",
    "        df.groupby([broken_down_by, feature])[[target]]\n",
    "        .sum()\n",
    "        .groupby(level=0)\n",
    "        .apply(lambda x: x * 100 / x.sum())\n",
    "        .reset_index(level=0, drop=True)\n",
    "        .reset_index()\n",
    "        .rename(columns={\"target\": \"percentage\"})\n",
    "    )\n",
    "    return df"
   ]
  },
  {
   "cell_type": "code",
   "execution_count": null,
   "id": "08d86bc8-209c-4ab8-9bb6-1fedf70639c5",
   "metadata": {
    "editable": true,
    "execution": {
     "iopub.status.busy": "2024-09-09T17:53:35.449180Z",
     "iopub.status.idle": "2024-09-09T17:53:35.450179Z",
     "shell.execute_reply": "2024-09-09T17:53:35.450179Z",
     "shell.execute_reply.started": "2024-09-09T17:53:35.450179Z"
    },
    "slideshow": {
     "slide_type": ""
    },
    "tags": []
   },
   "outputs": [],
   "source": [
    "def plot_for_categorical_feature(\n",
    "    df: pd.DataFrame,\n",
    "    broken_down_by: str,\n",
    "    features_list: list[str],\n",
    "    target: str,\n",
    "):\n",
    "    length = len(features_list)\n",
    "    fig, axs = plt.subplots(\n",
    "        nrows=length,\n",
    "        ncols=1,\n",
    "        figsize=(18, 15),\n",
    "    )\n",
    "    fig.tight_layout(pad=5)\n",
    "\n",
    "    for idx, feature in enumerate(features_list):\n",
    "        plt.subplot(length, 1, 1 + idx)\n",
    "        data = target_percentage_in_subgroup(\n",
    "            df, feature, broken_down_by, target\n",
    "        )\n",
    "\n",
    "        barplot = sns.barplot(\n",
    "            data=data,\n",
    "            x=feature,\n",
    "            y=\"percentage\",\n",
    "            hue=broken_down_by,\n",
    "        )\n",
    "\n",
    "        for container in barplot.containers:\n",
    "            barplot.bar_label(\n",
    "                container,\n",
    "                fmt=\"%.2f\",\n",
    "            )\n",
    "\n",
    "        plt.title(f\"{feature} broken down by {broken_down_by}\")\n",
    "    plt.show()"
   ]
  },
  {
   "cell_type": "code",
   "execution_count": null,
   "id": "d1303764-89e7-4c93-9033-b1321388f163",
   "metadata": {
    "execution": {
     "iopub.status.busy": "2024-09-09T17:53:35.450179Z",
     "iopub.status.idle": "2024-09-09T17:53:35.451178Z",
     "shell.execute_reply": "2024-09-09T17:53:35.451178Z",
     "shell.execute_reply.started": "2024-09-09T17:53:35.451178Z"
    }
   },
   "outputs": [],
   "source": [
    "plot_for_categorical_feature(\n",
    "    train_df,\n",
    "    \"is_consumption\",\n",
    "    [\"county\", \"is_business\", \"product_type\"],\n",
    "    \"target\",\n",
    ")"
   ]
  },
  {
   "cell_type": "code",
   "execution_count": null,
   "id": "5a3346e6-a695-45fa-8c3a-cbb9ae604980",
   "metadata": {
    "execution": {
     "iopub.status.busy": "2024-09-09T17:53:35.452180Z",
     "iopub.status.idle": "2024-09-09T17:53:35.452180Z",
     "shell.execute_reply": "2024-09-09T17:53:35.452180Z",
     "shell.execute_reply.started": "2024-09-09T17:53:35.452180Z"
    }
   },
   "outputs": [],
   "source": [
    "# sns.relplot(\n",
    "#     data=train_df.loc[train_df['county'] == 2][[\"datetime\", \"target\", \"is_consumption\",'is_business']],\n",
    "#     x=\"datetime\",\n",
    "#     y=\"target\",\n",
    "#     col=\"is_consumption\",\n",
    "#     height=5,\n",
    "#     aspect=1.5,\n",
    "#     hue=\"is_business\",\n",
    "#     # size=\"size\",\n",
    "#     # style=\"sex\",\n",
    "#     # palette=[\"b\", \"r\"],\n",
    "#     # sizes=(10, 100),\n",
    "# )"
   ]
  },
  {
   "cell_type": "code",
   "execution_count": null,
   "id": "5b652891-b8fa-4213-8c92-64749cd66ddd",
   "metadata": {
    "execution": {
     "iopub.status.busy": "2024-09-09T17:53:35.453179Z",
     "iopub.status.idle": "2024-09-09T17:53:35.453179Z",
     "shell.execute_reply": "2024-09-09T17:53:35.453179Z",
     "shell.execute_reply.started": "2024-09-09T17:53:35.453179Z"
    }
   },
   "outputs": [],
   "source": [
    "# fig, ax = plt.subplots(figsize=(10, 2))\n",
    "# length = 24\n",
    "\n",
    "# sns.lineplot(\n",
    "#     data=[np.sin((2 * i * np.pi / (length))) for i in range(length)],\n",
    "# )\n",
    "# sns.lineplot(\n",
    "#     data=[np.cos(i / (length / 2 / np.pi)) for i in range(length)],\n",
    "# )\n",
    "# # sns.lineplot(\n",
    "# #     data=[np.sin((i * np.pi / 7)) for i in range(length)],\n",
    "# # )\n",
    "# # sns.lineplot(\n",
    "# #     data=[np.tan((i / (len / np.pi)) + np.pi/2 + np.pi/len) for i in range(len)],\n",
    "# # )\n",
    "\n",
    "# # plt.xticks(range(-1, 25))\n",
    "# # plt.yscale('symlog')\n",
    "# plt.grid()\n",
    "# plt.show()"
   ]
  },
  {
   "cell_type": "code",
   "execution_count": null,
   "id": "d0c8f119-3b5e-445a-8b7f-b3d629348056",
   "metadata": {
    "execution": {
     "iopub.status.busy": "2024-09-09T17:53:35.454185Z",
     "iopub.status.idle": "2024-09-09T17:53:35.455181Z",
     "shell.execute_reply": "2024-09-09T17:53:35.455181Z",
     "shell.execute_reply.started": "2024-09-09T17:53:35.455181Z"
    }
   },
   "outputs": [],
   "source": [
    "# length = 24\n",
    "# for idx, i in enumerate(zip([round(np.sin((2 * i * np.pi / (length))), 3) for i in range(length)], [round(np.cos((2 * i * np.pi / (length))), 3) for i in range(length)])):\n",
    "#     print(idx, i)"
   ]
  },
  {
   "cell_type": "code",
   "execution_count": null,
   "id": "7ff3c670-83e4-4c92-989a-f50d761de8fb",
   "metadata": {
    "execution": {
     "iopub.status.busy": "2024-09-09T17:53:35.456181Z",
     "iopub.status.idle": "2024-09-09T17:53:35.456181Z",
     "shell.execute_reply": "2024-09-09T17:53:35.456181Z",
     "shell.execute_reply.started": "2024-09-09T17:53:35.456181Z"
    }
   },
   "outputs": [],
   "source": [
    "# length = 365\n",
    "# [np.tan((i / (length / np.pi)) + np.pi/2) for i in range(length)]"
   ]
  },
  {
   "cell_type": "code",
   "execution_count": null,
   "id": "530422f6-fd3e-40d0-a7c9-1f5f1fefd127",
   "metadata": {
    "execution": {
     "iopub.status.busy": "2024-09-09T17:53:35.457179Z",
     "iopub.status.idle": "2024-09-09T17:53:35.457179Z",
     "shell.execute_reply": "2024-09-09T17:53:35.457179Z",
     "shell.execute_reply.started": "2024-09-09T17:53:35.457179Z"
    }
   },
   "outputs": [],
   "source": [
    "# list_of_sins = [np.sin(i / (len / 2 / np.pi)) for i in range(len)]\n",
    "# list_of_cos = [np.cos(i / (len / 2 / np.pi)) for i in range(len)]\n",
    "# list_of_tans = [(np.sin(i / (len / 2 / np.pi)))/(np.cos(i / (len / 2 / np.pi)))for i in range(len)]\n",
    "# for i in zip(list_of_sins, list_of_cos, list_of_tans):\n",
    "#     print(i)"
   ]
  },
  {
   "cell_type": "code",
   "execution_count": null,
   "id": "43d6abb5-0a2f-4002-852c-2bb3a47005fb",
   "metadata": {
    "execution": {
     "iopub.status.busy": "2024-09-09T17:53:35.458177Z",
     "iopub.status.idle": "2024-09-09T17:53:35.458177Z",
     "shell.execute_reply": "2024-09-09T17:53:35.458177Z",
     "shell.execute_reply.started": "2024-09-09T17:53:35.458177Z"
    }
   },
   "outputs": [],
   "source": [
    "fig, ax = plt.subplots(figsize=(10, 2))\n",
    "# len = 10\n",
    "sns.lineplot(\n",
    "    data=hours_list,\n",
    "    # x=\"datetime\",\n",
    "    # y=\"target\",\n",
    "    # s=1,\n",
    "    # hue=\"county\",\n",
    "    # style='is_business',\n",
    ")\n",
    "# ax.set(title = 'Energy consumption or production for the discrete segment for the hour')\n",
    "plt.grid()\n",
    "plt.show()"
   ]
  },
  {
   "cell_type": "code",
   "execution_count": null,
   "id": "c60dd247-9c8c-4238-8fc7-d78ee76358fa",
   "metadata": {
    "execution": {
     "iopub.status.busy": "2024-09-09T17:53:35.459179Z",
     "iopub.status.idle": "2024-09-09T17:53:35.459179Z",
     "shell.execute_reply": "2024-09-09T17:53:35.459179Z",
     "shell.execute_reply.started": "2024-09-09T17:53:35.459179Z"
    }
   },
   "outputs": [],
   "source": [
    "# df['hr_sin'] = np.sin(df.hr*(2.*np.pi/24))\n",
    "# df['hr_cos'] = np.cos(df.hr*(2.*np.pi/24))\n",
    "# df['mnth_sin'] = np.sin((df.mnth-1)*(2.*np.pi/12))\n",
    "# df['mnth_cos'] = np.cos((df.mnth-1)*(2.*np.pi/12))"
   ]
  },
  {
   "cell_type": "code",
   "execution_count": null,
   "id": "a116c510-bf18-40ad-9c6d-ce2b7f8db44d",
   "metadata": {
    "execution": {
     "iopub.status.busy": "2024-09-09T17:53:35.460183Z",
     "iopub.status.idle": "2024-09-09T17:53:35.460183Z",
     "shell.execute_reply": "2024-09-09T17:53:35.460183Z",
     "shell.execute_reply.started": "2024-09-09T17:53:35.460183Z"
    }
   },
   "outputs": [],
   "source": [
    "фывфы"
   ]
  },
  {
   "cell_type": "code",
   "execution_count": null,
   "id": "ba8ebcbd-5584-4a99-8d35-fce2bf77c6bd",
   "metadata": {},
   "outputs": [],
   "source": []
  },
  {
   "cell_type": "code",
   "execution_count": null,
   "id": "5f6b1da4-7148-40f7-9ab6-14c94a0b027d",
   "metadata": {
    "execution": {
     "iopub.status.busy": "2024-09-09T17:53:35.462180Z",
     "iopub.status.idle": "2024-09-09T17:53:35.462180Z",
     "shell.execute_reply": "2024-09-09T17:53:35.462180Z",
     "shell.execute_reply.started": "2024-09-09T17:53:35.462180Z"
    }
   },
   "outputs": [],
   "source": [
    "train_df.groupby(\"is_consumption\")[\"target\"].min()"
   ]
  },
  {
   "cell_type": "code",
   "execution_count": null,
   "id": "60ef8702-ebf8-4921-8f98-b87438a3be24",
   "metadata": {},
   "outputs": [],
   "source": []
  },
  {
   "cell_type": "code",
   "execution_count": null,
   "id": "b8ce09dc-b64f-454b-b980-6fa3de1734e3",
   "metadata": {
    "execution": {
     "iopub.status.busy": "2024-09-09T17:53:35.463182Z",
     "iopub.status.idle": "2024-09-09T17:53:35.463182Z",
     "shell.execute_reply": "2024-09-09T17:53:35.463182Z",
     "shell.execute_reply.started": "2024-09-09T17:53:35.463182Z"
    }
   },
   "outputs": [],
   "source": [
    "train_df.isna().sum()[train_df.isna().sum() != 0]"
   ]
  },
  {
   "cell_type": "code",
   "execution_count": null,
   "id": "139185da-f0e2-46a1-b376-288c9a5de542",
   "metadata": {
    "execution": {
     "iopub.status.busy": "2024-09-09T17:53:35.464179Z",
     "iopub.status.idle": "2024-09-09T17:53:35.464179Z",
     "shell.execute_reply": "2024-09-09T17:53:35.464179Z",
     "shell.execute_reply.started": "2024-09-09T17:53:35.464179Z"
    }
   },
   "outputs": [],
   "source": [
    "train_df.duplicated().sum()[train_df.duplicated().sum() != 0]"
   ]
  },
  {
   "cell_type": "code",
   "execution_count": null,
   "id": "e282aa69-901a-4bd4-8cb5-0ec8b536b45b",
   "metadata": {
    "execution": {
     "iopub.status.busy": "2024-09-09T17:53:35.465179Z",
     "iopub.status.idle": "2024-09-09T17:53:35.466179Z",
     "shell.execute_reply": "2024-09-09T17:53:35.465179Z",
     "shell.execute_reply.started": "2024-09-09T17:53:35.465179Z"
    }
   },
   "outputs": [],
   "source": [
    "train_df.loc[train_df.isna().any(axis=1)]"
   ]
  },
  {
   "cell_type": "code",
   "execution_count": null,
   "id": "a2d8c1df-48cb-4fa3-9a7d-5db2520ff752",
   "metadata": {
    "execution": {
     "iopub.status.busy": "2024-09-09T17:53:35.466179Z",
     "iopub.status.idle": "2024-09-09T17:53:35.467180Z",
     "shell.execute_reply": "2024-09-09T17:53:35.467180Z",
     "shell.execute_reply.started": "2024-09-09T17:53:35.467180Z"
    },
    "scrolled": true
   },
   "outputs": [],
   "source": [
    "(\n",
    "    train_df.query(\n",
    "        \"'2021-10-31 02:00:00' <= datetime <= '2021-10-31 04:00:00'\"\n",
    "    )\n",
    "    .sort_values(\n",
    "        by=[\n",
    "            \"county\",\n",
    "            \"is_business\",\n",
    "            \"product_type\",\n",
    "            \"is_consumption\",\n",
    "            \"datetime\",\n",
    "        ]\n",
    "    )\n",
    "    .head(21)\n",
    ")"
   ]
  },
  {
   "cell_type": "code",
   "execution_count": null,
   "id": "5ac007f7-60a1-4aa6-82a9-8800cb58c75c",
   "metadata": {
    "execution": {
     "iopub.status.busy": "2024-09-09T17:53:35.468186Z",
     "iopub.status.idle": "2024-09-09T17:53:35.469185Z",
     "shell.execute_reply": "2024-09-09T17:53:35.468186Z",
     "shell.execute_reply.started": "2024-09-09T17:53:35.468186Z"
    }
   },
   "outputs": [],
   "source": [
    "[train_df[train_df.isna().any(axis=1)].datetime.unique()]"
   ]
  },
  {
   "cell_type": "code",
   "execution_count": null,
   "id": "7a01a4bb-c17f-4881-ad68-d7e298623a95",
   "metadata": {
    "execution": {
     "iopub.status.busy": "2024-09-09T17:53:35.470179Z",
     "iopub.status.idle": "2024-09-09T17:53:35.470179Z",
     "shell.execute_reply": "2024-09-09T17:53:35.470179Z",
     "shell.execute_reply.started": "2024-09-09T17:53:35.470179Z"
    }
   },
   "outputs": [],
   "source": [
    "train_df = train_df.sort_values(\n",
    "    by=[\"county\", \"is_business\", \"product_type\", \"is_consumption\", \"datetime\"]\n",
    ").interpolate()"
   ]
  },
  {
   "cell_type": "code",
   "execution_count": null,
   "id": "50abd23f-9b48-429c-b73f-bd98b8a3dcb0",
   "metadata": {
    "execution": {
     "iopub.status.busy": "2024-09-09T17:53:35.471180Z",
     "iopub.status.idle": "2024-09-09T17:53:35.471180Z",
     "shell.execute_reply": "2024-09-09T17:53:35.471180Z",
     "shell.execute_reply.started": "2024-09-09T17:53:35.471180Z"
    },
    "scrolled": true
   },
   "outputs": [],
   "source": [
    "(\n",
    "    train_df.query(\n",
    "        \"'2021-10-31 02:00:00' <= datetime <= '2021-10-31 04:00:00'\"\n",
    "    ).head(21)\n",
    ")"
   ]
  },
  {
   "cell_type": "code",
   "execution_count": null,
   "id": "bfb0de5b-0c22-4f93-8a91-31365b5dd29d",
   "metadata": {
    "execution": {
     "iopub.status.busy": "2024-09-09T17:53:35.472180Z",
     "iopub.status.idle": "2024-09-09T17:53:35.472180Z",
     "shell.execute_reply": "2024-09-09T17:53:35.472180Z",
     "shell.execute_reply.started": "2024-09-09T17:53:35.472180Z"
    }
   },
   "outputs": [],
   "source": [
    "sns.displot(\n",
    "    data=train_df[[\"target\"]],\n",
    "    log_scale=True,\n",
    ")"
   ]
  },
  {
   "cell_type": "code",
   "execution_count": null,
   "id": "addcb661-d0c7-443b-9a62-5cfda437b054",
   "metadata": {
    "execution": {
     "iopub.status.busy": "2024-09-09T17:53:35.473179Z",
     "iopub.status.idle": "2024-09-09T17:53:35.473179Z",
     "shell.execute_reply": "2024-09-09T17:53:35.473179Z",
     "shell.execute_reply.started": "2024-09-09T17:53:35.473179Z"
    }
   },
   "outputs": [],
   "source": [
    "fig, ax = plt.subplots(figsize=(20, 6))\n",
    "sns.scatterplot(\n",
    "    data=df,\n",
    "    x=\"datetime\",\n",
    "    y=\"target\",\n",
    "    # hue=\"county\",\n",
    "    # style='is_business',\n",
    "    # log_scale=True,\n",
    ")\n",
    "plt.show()"
   ]
  },
  {
   "cell_type": "code",
   "execution_count": null,
   "id": "58e2f0da-c244-488f-9219-050e5bdb2740",
   "metadata": {
    "execution": {
     "iopub.status.busy": "2024-09-09T17:53:35.475182Z",
     "iopub.status.idle": "2024-09-09T17:53:35.476178Z",
     "shell.execute_reply": "2024-09-09T17:53:35.475182Z",
     "shell.execute_reply.started": "2024-09-09T17:53:35.475182Z"
    }
   },
   "outputs": [],
   "source": [
    "sns.displot(\n",
    "    data=train_df[[\"target\", \"is_business\", \"product_type\"]],\n",
    "    x=\"target\",\n",
    "    # bins=200,\n",
    "    element=\"poly\",\n",
    "    hue=\"is_business\",\n",
    "    col=\"product_type\",\n",
    "    log_scale=True,\n",
    ")"
   ]
  },
  {
   "cell_type": "code",
   "execution_count": null,
   "id": "d3d123c7-263d-4b6a-93f9-dc945b2fecae",
   "metadata": {
    "execution": {
     "iopub.status.busy": "2024-09-09T17:53:35.476178Z",
     "iopub.status.idle": "2024-09-09T17:53:35.477181Z",
     "shell.execute_reply": "2024-09-09T17:53:35.477181Z",
     "shell.execute_reply.started": "2024-09-09T17:53:35.477181Z"
    }
   },
   "outputs": [],
   "source": [
    "fig, ax = plt.subplots(figsize=(6, 5))\n",
    "sns.heatmap(train_df.corr(), annot=True, cmap=\"Blues\", fmt=\".2f\")\n",
    "plt.show()"
   ]
  },
  {
   "cell_type": "code",
   "execution_count": null,
   "id": "5e1ae294-d24b-4f68-8b6f-57a0247b9009",
   "metadata": {
    "execution": {
     "iopub.status.busy": "2024-09-09T17:53:35.478177Z",
     "iopub.status.idle": "2024-09-09T17:53:35.478177Z",
     "shell.execute_reply": "2024-09-09T17:53:35.478177Z",
     "shell.execute_reply.started": "2024-09-09T17:53:35.478177Z"
    }
   },
   "outputs": [],
   "source": [
    "sns.relplot(\n",
    "    data=train_df.query(\"county == 0 and is_business == False\"),\n",
    "    x=\"datetime\",\n",
    "    y=\"target\",\n",
    "    col=\"product_type\",\n",
    "    hue=\"is_consumption\",\n",
    ")\n",
    "plt.yscale(\"log\")"
   ]
  },
  {
   "cell_type": "code",
   "execution_count": null,
   "id": "80d7f9ca-c54b-4281-b221-3ab88ba3d449",
   "metadata": {
    "execution": {
     "iopub.status.busy": "2024-09-09T17:53:35.479182Z",
     "iopub.status.idle": "2024-09-09T17:53:35.479182Z",
     "shell.execute_reply": "2024-09-09T17:53:35.479182Z",
     "shell.execute_reply.started": "2024-09-09T17:53:35.479182Z"
    }
   },
   "outputs": [],
   "source": [
    "sns.relplot(\n",
    "    data=train_df.query(\"county == 0 and is_business == True\"),\n",
    "    x=\"datetime\",\n",
    "    y=\"target\",\n",
    "    col=\"product_type\",\n",
    "    hue=\"is_consumption\",\n",
    ")\n",
    "plt.yscale(\"log\")"
   ]
  },
  {
   "cell_type": "code",
   "execution_count": null,
   "id": "f3cc4b2e-c6c5-4727-892e-85003c541163",
   "metadata": {
    "execution": {
     "iopub.status.busy": "2024-09-09T17:53:35.480181Z",
     "iopub.status.idle": "2024-09-09T17:53:35.480181Z",
     "shell.execute_reply": "2024-09-09T17:53:35.480181Z",
     "shell.execute_reply.started": "2024-09-09T17:53:35.480181Z"
    }
   },
   "outputs": [],
   "source": [
    "sns.scatterplot(\n",
    "    data=train_df.query(\"county==0 and is_business == True\"),\n",
    "    x=\"datetime\",\n",
    "    y=\"target\",\n",
    "    hue=\"is_consumption\",\n",
    ")"
   ]
  },
  {
   "cell_type": "code",
   "execution_count": null,
   "id": "7baa1054-28cd-426c-b62c-d63b70217249",
   "metadata": {
    "execution": {
     "iopub.status.busy": "2024-09-09T17:53:35.481180Z",
     "iopub.status.idle": "2024-09-09T17:53:35.482179Z",
     "shell.execute_reply": "2024-09-09T17:53:35.482179Z",
     "shell.execute_reply.started": "2024-09-09T17:53:35.482179Z"
    }
   },
   "outputs": [],
   "source": [
    "sns.scatterplot(\n",
    "    data=train_df.query(\"is_business == True and is_consumption == False\"),\n",
    "    x=\"datetime\",\n",
    "    y=\"target\",\n",
    "    hue=\"county\",\n",
    ")"
   ]
  },
  {
   "cell_type": "markdown",
   "id": "a24f0279-5e57-4617-84d5-d75821221ebf",
   "metadata": {},
   "source": [
    "# 3. Feature Engineering"
   ]
  },
  {
   "cell_type": "code",
   "execution_count": null,
   "id": "d19b7128-a917-4f8a-927a-80bac52e46bc",
   "metadata": {
    "execution": {
     "iopub.status.busy": "2024-09-09T17:53:35.482179Z",
     "iopub.status.idle": "2024-09-09T17:53:35.483179Z",
     "shell.execute_reply": "2024-09-09T17:53:35.483179Z",
     "shell.execute_reply.started": "2024-09-09T17:53:35.483179Z"
    },
    "scrolled": true
   },
   "outputs": [],
   "source": [
    "df = train_df.copy().set_index(\"datetime\")\n",
    "df"
   ]
  },
  {
   "cell_type": "code",
   "execution_count": null,
   "id": "c8ef0644-e9f6-4ef8-b568-c77a21dc295e",
   "metadata": {
    "execution": {
     "iopub.status.busy": "2024-09-09T17:53:35.484178Z",
     "iopub.status.idle": "2024-09-09T17:53:35.484178Z",
     "shell.execute_reply": "2024-09-09T17:53:35.484178Z",
     "shell.execute_reply.started": "2024-09-09T17:53:35.484178Z"
    }
   },
   "outputs": [],
   "source": [
    "df[\"hour\"] = df.index.hour.astype(\"uint8\")\n",
    "df[\"day_of_week\"] = df.index.day_of_week.astype(\"uint8\")\n",
    "df[\"day\"] = df.index.day.astype(\"uint16\")\n",
    "df[\"week_of_year\"] = df.index.isocalendar().week.astype(\"int8\")\n",
    "df[\"month\"] = df.index.month.astype(\"int8\")\n",
    "df[\"quarter\"] = df.index.quarter.astype(\"int8\")\n",
    "df[\"year\"] = df.index.year.astype(\"uint16\")\n",
    "\n",
    "df[\"target_modified\"] = np.where(\n",
    "    df[\"is_consumption\"] == True, df[\"target\"] * (-1), df[\"target\"]\n",
    ")\n",
    "\n",
    "df.info()"
   ]
  },
  {
   "cell_type": "code",
   "execution_count": null,
   "id": "86d613dd-3ed2-4da6-9513-fb13cb720f63",
   "metadata": {
    "execution": {
     "iopub.status.busy": "2024-09-09T17:53:35.484178Z",
     "iopub.status.idle": "2024-09-09T17:53:35.484178Z",
     "shell.execute_reply": "2024-09-09T17:53:35.484178Z",
     "shell.execute_reply.started": "2024-09-09T17:53:35.484178Z"
    }
   },
   "outputs": [],
   "source": [
    "fig, ax = plt.subplots(figsize=(25, 8))\n",
    "sns.scatterplot(\n",
    "    data=df,\n",
    "    x=\"datetime\",\n",
    "    y=\"target_modified\",\n",
    "    # hue=\"county\",\n",
    "    # style='is_business',\n",
    "    # log_scale=True,\n",
    ")\n",
    "plt.show()"
   ]
  },
  {
   "cell_type": "code",
   "execution_count": null,
   "id": "fed5fce6-806a-4bd2-bcf9-e1927d285c95",
   "metadata": {
    "execution": {
     "iopub.status.busy": "2024-09-09T17:53:35.485177Z",
     "iopub.status.idle": "2024-09-09T17:53:35.485177Z",
     "shell.execute_reply": "2024-09-09T17:53:35.485177Z",
     "shell.execute_reply.started": "2024-09-09T17:53:35.485177Z"
    }
   },
   "outputs": [],
   "source": [
    "sns.displot(\n",
    "    data=df[[\"target_modified\"]],\n",
    "    x=\"target_modified\",\n",
    "    log_scale=True,\n",
    ")"
   ]
  },
  {
   "cell_type": "code",
   "execution_count": null,
   "id": "27832b8b-309b-4a11-8ce6-f4e3259bbedc",
   "metadata": {
    "execution": {
     "iopub.status.busy": "2024-09-09T17:53:35.486178Z",
     "iopub.status.idle": "2024-09-09T17:53:35.486178Z",
     "shell.execute_reply": "2024-09-09T17:53:35.486178Z",
     "shell.execute_reply.started": "2024-09-09T17:53:35.486178Z"
    }
   },
   "outputs": [],
   "source": [
    "sns.relplot(\n",
    "    data=df.query(\"county == 0\")[\n",
    "        [\"target_modified\", \"product_type\", \"is_consumption\", \"is_business\"]\n",
    "    ],\n",
    "    x=\"datetime\",\n",
    "    y=\"target_modified\",\n",
    "    col=\"product_type\",\n",
    "    hue=\"is_business\",\n",
    "    # size=\"size\",\n",
    "    # style=\"sex\",\n",
    "    # palette=[\"b\", \"r\"],\n",
    "    # sizes=(10, 100),\n",
    ")\n",
    "# plt.axhline(y = 10,\n",
    "#             color = 'r',\n",
    "#             linestyle = '-',\n",
    "#            lw=100,)\n",
    "# plt.xscale('log')\n",
    "plt.yscale(\"log\")\n",
    "plt.show()"
   ]
  },
  {
   "cell_type": "code",
   "execution_count": null,
   "id": "ebcc813e-835a-4a5d-a935-db50385c34d2",
   "metadata": {
    "execution": {
     "iopub.status.busy": "2024-09-09T17:53:35.488181Z",
     "iopub.status.idle": "2024-09-09T17:53:35.488181Z",
     "shell.execute_reply": "2024-09-09T17:53:35.488181Z",
     "shell.execute_reply.started": "2024-09-09T17:53:35.488181Z"
    }
   },
   "outputs": [],
   "source": [
    "df.columns"
   ]
  },
  {
   "cell_type": "code",
   "execution_count": null,
   "id": "3fb8c2b1-7631-4f5d-8af6-8b10dc9927e3",
   "metadata": {
    "execution": {
     "iopub.status.busy": "2024-09-09T17:53:35.489182Z",
     "iopub.status.idle": "2024-09-09T17:53:35.490180Z",
     "shell.execute_reply": "2024-09-09T17:53:35.490180Z",
     "shell.execute_reply.started": "2024-09-09T17:53:35.490180Z"
    }
   },
   "outputs": [],
   "source": [
    "sns.scatterplot(\n",
    "    data=df.query(\"county == 4 and product_type == 1 and is_business == 1\")[\n",
    "        [\n",
    "            \"target_modified\",\n",
    "            \"product_type\",\n",
    "            \"is_consumption\",\n",
    "            \"is_business\",\n",
    "        ]\n",
    "    ],\n",
    "    x=\"datetime\",\n",
    "    y=\"target_modified\",\n",
    ")\n",
    "plt.show()"
   ]
  },
  {
   "cell_type": "code",
   "execution_count": null,
   "id": "220cf297-667e-42ea-b661-469cd85c86a2",
   "metadata": {
    "execution": {
     "iopub.status.busy": "2024-09-09T17:53:35.491179Z",
     "iopub.status.idle": "2024-09-09T17:53:35.491179Z",
     "shell.execute_reply": "2024-09-09T17:53:35.491179Z",
     "shell.execute_reply.started": "2024-09-09T17:53:35.491179Z"
    }
   },
   "outputs": [],
   "source": [
    "# fig, ax = plt.subplots(figsize=(10, 8))\n",
    "\n",
    "# sns.heatmap(df.corr(), annot=True, cmap=\"Blues\", fmt=\".2f\")\n",
    "# # plt.figure(figsize=(25, 25))\n",
    "# plt.show()\n",
    "# # numeric_only=True"
   ]
  },
  {
   "cell_type": "code",
   "execution_count": null,
   "id": "7c05d8f7-f9d7-4f0e-ac1a-35b0aa853911",
   "metadata": {
    "execution": {
     "iopub.status.busy": "2024-09-09T17:53:35.492179Z",
     "iopub.status.idle": "2024-09-09T17:53:35.492179Z",
     "shell.execute_reply": "2024-09-09T17:53:35.492179Z",
     "shell.execute_reply.started": "2024-09-09T17:53:35.492179Z"
    }
   },
   "outputs": [],
   "source": [
    "fig, ax = plt.subplots(figsize=(20, 6))\n",
    "\n",
    "sns.scatterplot(\n",
    "    data=df.query(\n",
    "        \"'2023-01-1 8:00:00' <= datetime <= '2023-01-28 23:00:00' and \\\n",
    "        product_type == 3\"\n",
    "    )[\n",
    "        [\n",
    "            \"county\",\n",
    "            \"target_modified\",\n",
    "            \"product_type\",\n",
    "            \"is_consumption\",\n",
    "            \"is_business\",\n",
    "        ]\n",
    "    ],\n",
    "    x=\"datetime\",\n",
    "    y=\"target_modified\",\n",
    "    # col = 'product_type',\n",
    "    # product_type\n",
    "    style=\"is_business\",\n",
    "    hue=\"is_business\",\n",
    "    # aspect = 3,\n",
    "    # # height = 5,\n",
    "    alpha=0.5,\n",
    ")\n",
    "plt.show()\n",
    "\n",
    "# county\n",
    "# is_business\n",
    "# product_type\n",
    "# is_consumption"
   ]
  },
  {
   "cell_type": "code",
   "execution_count": null,
   "id": "abed618a-d92a-4a17-a9ac-5c8b1a68211b",
   "metadata": {
    "execution": {
     "iopub.status.busy": "2024-09-09T17:53:35.493178Z",
     "iopub.status.idle": "2024-09-09T17:53:35.493178Z",
     "shell.execute_reply": "2024-09-09T17:53:35.493178Z",
     "shell.execute_reply.started": "2024-09-09T17:53:35.493178Z"
    },
    "scrolled": true
   },
   "outputs": [],
   "source": [
    "hours_ago = (\n",
    "    [i for i in range(1, 25)]\n",
    "    + [24 * i for i in range(2, 8)]\n",
    "    + [168 * i for i in range(2, 9)]\n",
    "    + [672 * i for i in range(3, 13)]\n",
    ")\n",
    "for h in hours_ago:\n",
    "    df_hours[f\"tm_{h}h\"] = df_hours[\"target_modified\"].shift(h)\n",
    "df_hours.info()"
   ]
  },
  {
   "cell_type": "code",
   "execution_count": null,
   "id": "b23f9b85-42e8-414a-80df-a01be08a0bca",
   "metadata": {
    "execution": {
     "iopub.status.busy": "2024-09-09T17:53:35.494179Z",
     "iopub.status.idle": "2024-09-09T17:53:35.495181Z",
     "shell.execute_reply": "2024-09-09T17:53:35.495181Z",
     "shell.execute_reply.started": "2024-09-09T17:53:35.495181Z"
    },
    "scrolled": true
   },
   "outputs": [],
   "source": [
    "for h in i in range(24):\n",
    "    df[f\"tm_{i}h\"] = df[\"target_modified\"].shift(i)\n",
    "df[\"tm_1h\"] = df[\"target_modified\"].shift(1)"
   ]
  },
  {
   "cell_type": "code",
   "execution_count": null,
   "id": "50b384c2-3115-4a9d-b4d1-13e4c0ae34fc",
   "metadata": {
    "execution": {
     "iopub.status.busy": "2024-09-09T17:53:35.496183Z",
     "iopub.status.idle": "2024-09-09T17:53:35.496183Z",
     "shell.execute_reply": "2024-09-09T17:53:35.496183Z",
     "shell.execute_reply.started": "2024-09-09T17:53:35.496183Z"
    }
   },
   "outputs": [],
   "source": [
    "df.shift(periods=1)"
   ]
  },
  {
   "cell_type": "code",
   "execution_count": null,
   "id": "18a35937-f580-488f-ae59-ef17e4fc5fd3",
   "metadata": {
    "execution": {
     "iopub.status.busy": "2024-09-09T17:53:35.497181Z",
     "iopub.status.idle": "2024-09-09T17:53:35.498181Z",
     "shell.execute_reply": "2024-09-09T17:53:35.497181Z",
     "shell.execute_reply.started": "2024-09-09T17:53:35.497181Z"
    }
   },
   "outputs": [],
   "source": [
    "# def add_lags(df):\n",
    "#     target_map = df['PJME_MW'].to_dict()\n",
    "#     df['lag1'] = (df.index - pd.Timedelta('364 days')).map(target_map)\n",
    "#     df['lag2'] = (df.index - pd.Timedelta('728 days')).map(target_map)\n",
    "#     df['lag3'] = (df.index - pd.Timedelta('1092 days')).map(target_map)\n",
    "#     return df"
   ]
  },
  {
   "cell_type": "code",
   "execution_count": null,
   "id": "67aed01a-c82a-429e-a16e-c436fc042d6f",
   "metadata": {
    "execution": {
     "iopub.status.busy": "2024-09-09T17:53:35.499178Z",
     "iopub.status.idle": "2024-09-09T17:53:35.499178Z",
     "shell.execute_reply": "2024-09-09T17:53:35.499178Z",
     "shell.execute_reply.started": "2024-09-09T17:53:35.499178Z"
    },
    "scrolled": true
   },
   "outputs": [],
   "source": [
    "df_label = df.astype(\n",
    "    {\n",
    "        \"county\": \"category\",\n",
    "        \"is_business\": \"category\",\n",
    "        \"product_type\": \"category\",\n",
    "        \"is_consumption\": \"category\",\n",
    "    }\n",
    ")\n",
    "df_label.info()"
   ]
  },
  {
   "cell_type": "code",
   "execution_count": null,
   "id": "206e8953-d2dd-40a9-a474-797710cf9ecb",
   "metadata": {
    "execution": {
     "iopub.status.busy": "2024-09-09T17:53:35.500178Z",
     "iopub.status.idle": "2024-09-09T17:53:35.500178Z",
     "shell.execute_reply": "2024-09-09T17:53:35.500178Z",
     "shell.execute_reply.started": "2024-09-09T17:53:35.500178Z"
    }
   },
   "outputs": [],
   "source": [
    "df_label = pd.get_dummies(df_label, drop_first=True)\n",
    "df_label.info()"
   ]
  },
  {
   "cell_type": "code",
   "execution_count": null,
   "id": "8fe04b02-a1bf-4acf-84d3-2ec8c34b8afd",
   "metadata": {
    "execution": {
     "iopub.status.busy": "2024-09-09T17:53:35.501179Z",
     "iopub.status.idle": "2024-09-09T17:53:35.502179Z",
     "shell.execute_reply": "2024-09-09T17:53:35.501179Z",
     "shell.execute_reply.started": "2024-09-09T17:53:35.501179Z"
    }
   },
   "outputs": [],
   "source": [
    "df_label.columns"
   ]
  },
  {
   "cell_type": "code",
   "execution_count": null,
   "id": "4a961c50-b70a-454a-acfb-911ff580a56e",
   "metadata": {
    "execution": {
     "iopub.status.busy": "2024-09-09T17:53:35.503179Z",
     "iopub.status.idle": "2024-09-09T17:53:35.503179Z",
     "shell.execute_reply": "2024-09-09T17:53:35.503179Z",
     "shell.execute_reply.started": "2024-09-09T17:53:35.503179Z"
    }
   },
   "outputs": [],
   "source": [
    "X = df_label.drop(\n",
    "    columns=[\n",
    "        \"target\",\n",
    "        \"data_block_id\",\n",
    "        \"row_id\",\n",
    "        \"prediction_unit_id\",\n",
    "        \"target_modified\",\n",
    "    ],\n",
    "    axis=1,\n",
    ")\n",
    "\n",
    "y = df_label[\"target_modified\"].values\n",
    "\n",
    "X_train, X_test, y_train, y_test = train_test_split(\n",
    "    X, y, test_size=0.20, random_state=RAND\n",
    ")\n",
    "\n",
    "st = StandardScaler()\n",
    "X_train_std = st.fit_transform(X_train)\n",
    "X_test_std = st.transform(X_test)"
   ]
  },
  {
   "cell_type": "code",
   "execution_count": null,
   "id": "1fab19d1-f223-4c57-b205-fc5dc087d1e3",
   "metadata": {
    "execution": {
     "iopub.status.busy": "2024-09-09T17:53:35.504178Z",
     "iopub.status.idle": "2024-09-09T17:53:35.505179Z",
     "shell.execute_reply": "2024-09-09T17:53:35.505179Z",
     "shell.execute_reply.started": "2024-09-09T17:53:35.505179Z"
    }
   },
   "outputs": [],
   "source": [
    "def r2_adjusted(\n",
    "    y_true: np.ndarray, y_pred: np.ndarray, X_test: np.ndarray | int\n",
    ") -> float:\n",
    "    \"\"\"Коэффициент детерминации (множественная регрессия)\"\"\"\n",
    "    N_objects = len(y_true)\n",
    "\n",
    "    if isinstance(X_test, np.ndarray):\n",
    "        N_features = X_test.shape[1]\n",
    "    else:\n",
    "        N_features = X_test\n",
    "\n",
    "    #     N_features = X_test.shape[1]\n",
    "    r2 = r2_score(y_true, y_pred)\n",
    "    return 1 - (1 - r2) * (N_objects - 1) / (N_objects - N_features - 1)\n",
    "\n",
    "\n",
    "def mpe(y_true: np.ndarray, y_pred: np.ndarray) -> float:\n",
    "    \"\"\"Mean percentage error\"\"\"\n",
    "    return np.mean((y_true - y_pred) / y_true, axis=0) * 100\n",
    "\n",
    "\n",
    "def mape(y_true: np.ndarray, y_pred: np.ndarray) -> float:\n",
    "    \"\"\"Mean absolute percentage error\"\"\"\n",
    "    return np.mean(np.abs((y_pred - y_true) / y_true), axis=0) * 100\n",
    "\n",
    "\n",
    "def wape(y_true: np.ndarray, y_pred: np.ndarray) -> float:\n",
    "    \"\"\"Weighted Absolute Percent Error\"\"\"\n",
    "    return np.sum(np.abs(y_pred - y_true)) / np.sum(y_true) * 100\n",
    "\n",
    "\n",
    "def huber_loss(\n",
    "    y_true: np.ndarray | pd.DataFrame,\n",
    "    y_pred: np.ndarray | pd.DataFrame,\n",
    "    delta: float = 1.345,\n",
    "):\n",
    "    \"\"\"Функция ошибки Хьюбера\"\"\"\n",
    "\n",
    "    if isinstance(y_true, pd.DataFrame):\n",
    "        y_true = y_true.squeeze().to_numpy()\n",
    "    if isinstance(y_pred, pd.DataFrame):\n",
    "        y_pred = y_pred.squeeze().to_numpy()\n",
    "\n",
    "    assert len(y_true) == len(y_pred), \"Разные размеры данных\"\n",
    "    huber_sum = 0\n",
    "    for i in range(len(y_true)):\n",
    "        if abs(y_true[i] - y_pred[i]) <= delta:\n",
    "            huber_sum += 0.5 * (y_true[i] - y_pred[i]) ** 2\n",
    "        else:\n",
    "            huber_sum += delta * (abs(y_true[i] - y_pred[i]) - 0.5 * delta)\n",
    "    huber_sum /= len(y_true)\n",
    "    return huber_sum\n",
    "\n",
    "\n",
    "def logcosh(y_true: np.ndarray, y_pred: np.ndarray):\n",
    "    \"\"\"функция ошибки Лог-Кош\"\"\"\n",
    "    return np.sum(np.log(np.cosh(y_true - y_pred)))\n",
    "\n",
    "\n",
    "def rmsle(y_true: np.ndarray, y_pred: np.ndarray) -> np.float64:\n",
    "    \"\"\"\n",
    "    Root Mean Squared Log Error (RMSLE) metric\n",
    "    Логарифмическая ошибка средней квадратичной ошибки\n",
    "    \"\"\"\n",
    "    try:\n",
    "        return np.sqrt(mean_squared_log_error(y_true, y_pred))\n",
    "    except:\n",
    "        return None\n",
    "\n",
    "\n",
    "def get_metrics(\n",
    "    y_test: np.ndarray,\n",
    "    y_pred: np.ndarray,\n",
    "    X_test: np.ndarray,\n",
    "    name: str = None,\n",
    "    delta: float = 1.345,\n",
    "):\n",
    "    \"\"\"Генерация таблицы с метриками\"\"\"\n",
    "    df_metrics = pd.DataFrame()\n",
    "    df_metrics[\"model\"] = [name]\n",
    "\n",
    "    df_metrics[\"MAE\"] = mean_absolute_error(y_test, y_pred)\n",
    "    df_metrics[\"MSE\"] = mean_squared_error(y_test, y_pred)\n",
    "    df_metrics[\"Huber_loss\"] = huber_loss(y_test, y_pred, delta)\n",
    "    df_metrics[\"Logcosh\"] = logcosh(y_test, y_pred)\n",
    "    df_metrics[\"RMSE\"] = np.sqrt(mean_squared_error(y_test, y_pred))\n",
    "    df_metrics[\"RMSLE\"] = rmsle(y_test, y_pred)\n",
    "    df_metrics[\"R2 adjusted\"] = r2_adjusted(y_test, y_pred, X_test)\n",
    "    df_metrics[\"MPE_%\"] = mpe(y_test, y_pred)\n",
    "    df_metrics[\"MAPE_%\"] = mape(y_test, y_pred)\n",
    "    df_metrics[\"WAPE_%\"] = wape(y_test, y_pred)\n",
    "\n",
    "    return df_metrics"
   ]
  },
  {
   "cell_type": "code",
   "execution_count": null,
   "id": "9c61be9d-d40b-4ef8-80dd-e3fd686d52c1",
   "metadata": {
    "execution": {
     "iopub.status.busy": "2024-09-09T17:53:35.506178Z",
     "iopub.status.idle": "2024-09-09T17:53:35.506178Z",
     "shell.execute_reply": "2024-09-09T17:53:35.506178Z",
     "shell.execute_reply.started": "2024-09-09T17:53:35.506178Z"
    }
   },
   "outputs": [],
   "source": [
    "lr_skl = LinearRegression()\n",
    "lr_skl.fit(X_train_std, y_train)"
   ]
  },
  {
   "cell_type": "code",
   "execution_count": null,
   "id": "9f5fda38-2455-4c3f-867b-acd7c0bd950c",
   "metadata": {
    "execution": {
     "iopub.status.busy": "2024-09-09T17:53:35.507178Z",
     "iopub.status.idle": "2024-09-09T17:53:35.507178Z",
     "shell.execute_reply": "2024-09-09T17:53:35.507178Z",
     "shell.execute_reply.started": "2024-09-09T17:53:35.507178Z"
    }
   },
   "outputs": [],
   "source": [
    "lr_skl_pred = lr_skl.predict(X_test_std)"
   ]
  },
  {
   "cell_type": "code",
   "execution_count": null,
   "id": "f82aa99c-a05d-4a86-8638-06617768a57d",
   "metadata": {
    "execution": {
     "iopub.status.busy": "2024-09-09T17:53:35.508177Z",
     "iopub.status.idle": "2024-09-09T17:53:35.509182Z",
     "shell.execute_reply": "2024-09-09T17:53:35.509182Z",
     "shell.execute_reply.started": "2024-09-09T17:53:35.509182Z"
    }
   },
   "outputs": [],
   "source": [
    "skl_m = get_metrics(y_test, lr_skl_pred, X_test_std, name=\"skl_lr\")\n",
    "skl_m"
   ]
  },
  {
   "cell_type": "code",
   "execution_count": null,
   "id": "57a3bb2f-54a6-49bd-867d-f4c4887725f5",
   "metadata": {
    "execution": {
     "iopub.status.busy": "2024-09-09T17:53:35.510180Z",
     "iopub.status.idle": "2024-09-09T17:53:35.511181Z",
     "shell.execute_reply": "2024-09-09T17:53:35.510180Z",
     "shell.execute_reply.started": "2024-09-09T17:53:35.510180Z"
    }
   },
   "outputs": [],
   "source": [
    "df_hours = df_hours[\n",
    "    [\n",
    "        \"county\",\n",
    "        \"is_business\",\n",
    "        \"product_type\",\n",
    "        \"target\",\n",
    "        \"is_consumption\",\n",
    "        \"hour\",\n",
    "        \"day_of_week\",\n",
    "        \"day\",\n",
    "        \"week_of_year\",\n",
    "        \"month\",\n",
    "        \"quarter\",\n",
    "        \"year\",\n",
    "        \"target_modified\",\n",
    "        \"tm_1h\",\n",
    "        \"tm_2h\",\n",
    "        \"tm_3h\",\n",
    "        \"tm_4h\",\n",
    "        \"tm_5h\",\n",
    "        \"tm_6h\",\n",
    "        \"tm_7h\",\n",
    "        \"tm_8h\",\n",
    "        \"tm_9h\",\n",
    "        \"tm_10h\",\n",
    "        \"tm_11h\",\n",
    "        \"tm_12h\",\n",
    "        \"tm_13h\",\n",
    "        \"tm_14h\",\n",
    "        \"tm_15h\",\n",
    "        \"tm_16h\",\n",
    "        \"tm_17h\",\n",
    "        \"tm_18h\",\n",
    "        \"tm_19h\",\n",
    "        \"tm_20h\",\n",
    "        \"tm_21h\",\n",
    "        \"tm_22h\",\n",
    "        \"tm_23h\",\n",
    "        \"tm_24h\",\n",
    "        \"tm_48h\",\n",
    "        \"tm_72h\",\n",
    "        \"tm_96h\",\n",
    "        \"tm_120h\",\n",
    "        \"tm_144h\",\n",
    "        \"tm_168h\",\n",
    "        \"tm_336h\",\n",
    "        \"tm_504h\",\n",
    "        \"tm_672h\",\n",
    "        \"tm_840h\",\n",
    "        \"tm_1008h\",\n",
    "        \"tm_1176h\",\n",
    "        \"tm_1344h\",\n",
    "        \"tm_2016h\",\n",
    "        \"tm_2688h\",\n",
    "        \"tm_3360h\",\n",
    "        \"tm_4032h\",\n",
    "        \"tm_4704h\",\n",
    "        \"tm_5376h\",\n",
    "        \"tm_6048h\",\n",
    "        \"tm_6720h\",\n",
    "        \"tm_7392h\",\n",
    "        \"tm_8064h\",\n",
    "    ]\n",
    "]"
   ]
  },
  {
   "cell_type": "code",
   "execution_count": null,
   "id": "77fe3e3b-a122-471c-8abe-631d511f8e19",
   "metadata": {
    "execution": {
     "iopub.status.busy": "2024-09-09T17:53:35.511181Z",
     "iopub.status.idle": "2024-09-09T17:53:35.512181Z",
     "shell.execute_reply": "2024-09-09T17:53:35.512181Z",
     "shell.execute_reply.started": "2024-09-09T17:53:35.512181Z"
    }
   },
   "outputs": [],
   "source": [
    "df_hours = df_hours.sort_index()\n",
    "tss = TimeSeriesSplit(n_splits=3, test_size=300_000)"
   ]
  },
  {
   "cell_type": "code",
   "execution_count": null,
   "id": "7e7194de-f912-4c8d-bf34-fe154b1569ad",
   "metadata": {
    "execution": {
     "iopub.status.busy": "2024-09-09T17:53:35.513179Z",
     "iopub.status.idle": "2024-09-09T17:53:35.513179Z",
     "shell.execute_reply": "2024-09-09T17:53:35.513179Z",
     "shell.execute_reply.started": "2024-09-09T17:53:35.513179Z"
    },
    "scrolled": true
   },
   "outputs": [],
   "source": [
    "fold = 0\n",
    "preds = []\n",
    "scores = []\n",
    "for train_idx, val_idx in tss.split(df_hours):\n",
    "    train = df_hours.iloc[train_idx]\n",
    "    test = df_hours.iloc[val_idx]\n",
    "\n",
    "    reg = XGBRegressor(\n",
    "        n_estimators=2000,\n",
    "        early_stopping_rounds=50,\n",
    "        objective=\"reg:squarederror\",\n",
    "        enable_categorical=True,\n",
    "        eval_metric=\"mae\",\n",
    "        # max_depth=3,\n",
    "        learning_rate=0.01,\n",
    "        random_state=RAND,\n",
    "    )\n",
    "    FEATURES = [\n",
    "        \"county\",\n",
    "        \"is_business\",\n",
    "        \"product_type\",\n",
    "        \"is_consumption\",\n",
    "        \"hour\",\n",
    "        \"day_of_week\",\n",
    "        \"day\",\n",
    "        \"week_of_year\",\n",
    "        \"month\",\n",
    "        \"quarter\",\n",
    "        \"year\",\n",
    "        \"tm_1h\",\n",
    "        \"tm_2h\",\n",
    "        \"tm_3h\",\n",
    "        \"tm_4h\",\n",
    "        \"tm_5h\",\n",
    "        \"tm_6h\",\n",
    "        \"tm_7h\",\n",
    "        \"tm_8h\",\n",
    "        \"tm_9h\",\n",
    "        \"tm_10h\",\n",
    "        \"tm_11h\",\n",
    "        \"tm_12h\",\n",
    "        \"tm_13h\",\n",
    "        \"tm_14h\",\n",
    "        \"tm_15h\",\n",
    "        \"tm_16h\",\n",
    "        \"tm_17h\",\n",
    "        \"tm_18h\",\n",
    "        \"tm_19h\",\n",
    "        \"tm_20h\",\n",
    "        \"tm_21h\",\n",
    "        \"tm_22h\",\n",
    "        \"tm_23h\",\n",
    "        \"tm_24h\",\n",
    "        \"tm_48h\",\n",
    "        \"tm_72h\",\n",
    "        \"tm_96h\",\n",
    "        \"tm_120h\",\n",
    "        \"tm_144h\",\n",
    "        \"tm_168h\",\n",
    "        \"tm_336h\",\n",
    "        \"tm_504h\",\n",
    "        \"tm_672h\",\n",
    "        \"tm_840h\",\n",
    "        \"tm_1008h\",\n",
    "        \"tm_1176h\",\n",
    "        \"tm_1344h\",\n",
    "        \"tm_2016h\",\n",
    "        \"tm_2688h\",\n",
    "        \"tm_3360h\",\n",
    "        \"tm_4032h\",\n",
    "        \"tm_4704h\",\n",
    "        \"tm_5376h\",\n",
    "        \"tm_6048h\",\n",
    "        \"tm_6720h\",\n",
    "        \"tm_7392h\",\n",
    "        \"tm_8064h\",\n",
    "    ]\n",
    "    # TARGET = \"target_modified\"\n",
    "    TARGET = \"target\"\n",
    "\n",
    "    X_train = train[FEATURES]\n",
    "    y_train = train[TARGET]\n",
    "\n",
    "    X_test = test[FEATURES]\n",
    "    y_test = test[TARGET]\n",
    "\n",
    "    reg.fit(\n",
    "        X_train,\n",
    "        y_train,\n",
    "        eval_set=[(X_train, y_train), (X_test, y_test)],\n",
    "        verbose=20,\n",
    "    )\n",
    "\n",
    "    y_pred = reg.predict(X_test)\n",
    "    preds.append(y_pred)\n",
    "    score = np.sqrt(mean_squared_error(y_test, y_pred))\n",
    "    scores.append(score)"
   ]
  },
  {
   "cell_type": "code",
   "execution_count": null,
   "id": "cacaebe8-82d1-4e8d-8ab1-93d71c00cb28",
   "metadata": {
    "execution": {
     "iopub.status.busy": "2024-09-09T17:53:35.514179Z",
     "iopub.status.idle": "2024-09-09T17:53:35.514179Z",
     "shell.execute_reply": "2024-09-09T17:53:35.514179Z",
     "shell.execute_reply.started": "2024-09-09T17:53:35.514179Z"
    }
   },
   "outputs": [],
   "source": [
    "hours_ago = (\n",
    "    [i for i in range(1, 25)]\n",
    "    + [24 * i for i in range(2, 8)]\n",
    "    + [168 * i for i in range(2, 9)]\n",
    "    + [672 * i for i in range(3, 13)]\n",
    ")\n",
    "for h in hours_ago:\n",
    "    df[f\"t_{h}h\"] = df[\"target\"].shift(h)"
   ]
  },
  {
   "cell_type": "code",
   "execution_count": null,
   "id": "59a59dba-58ea-4b29-a6b0-533e7fe0be61",
   "metadata": {
    "execution": {
     "iopub.status.busy": "2024-09-09T17:53:35.515177Z",
     "iopub.status.idle": "2024-09-09T17:53:35.516179Z",
     "shell.execute_reply": "2024-09-09T17:53:35.516179Z",
     "shell.execute_reply.started": "2024-09-09T17:53:35.516179Z"
    }
   },
   "outputs": [],
   "source": [
    "fig, ax = plt.subplots(figsize=(35, 30))\n",
    "\n",
    "sns.heatmap(df_hours.corr(), annot=True, cmap=\"Blues\", fmt=\".1f\")\n",
    "# plt.figure(figsize=(25, 25))\n",
    "plt.show()\n",
    "# numeric_only=True"
   ]
  },
  {
   "cell_type": "code",
   "execution_count": null,
   "id": "886a636a-181c-4dea-8622-9a23cd0fb64d",
   "metadata": {},
   "outputs": [],
   "source": []
  },
  {
   "cell_type": "code",
   "execution_count": null,
   "id": "fe01bc03-c7f8-4744-a634-70dca959d298",
   "metadata": {
    "execution": {
     "iopub.status.busy": "2024-09-09T17:53:35.517179Z",
     "iopub.status.idle": "2024-09-09T17:53:35.517179Z",
     "shell.execute_reply": "2024-09-09T17:53:35.517179Z",
     "shell.execute_reply.started": "2024-09-09T17:53:35.517179Z"
    }
   },
   "outputs": [],
   "source": [
    "# df = df.sort_index().sort_values(\n",
    "#     [\"county\", \"is_business\", \"product_type\", \"is_consumption\"],\n",
    "#     kind=\"mergesort\",\n",
    "# )\n",
    "df.sort_index()\n",
    "tss = TimeSeriesSplit(n_splits=3, test_size=300_000)"
   ]
  },
  {
   "cell_type": "code",
   "execution_count": null,
   "id": "6790fd79-1e77-4e6f-bb8d-af83f47a57cd",
   "metadata": {},
   "outputs": [],
   "source": []
  },
  {
   "cell_type": "code",
   "execution_count": null,
   "id": "d62cb625-c7d6-4b82-83f6-dfe71f756156",
   "metadata": {
    "execution": {
     "iopub.status.busy": "2024-09-09T17:53:35.518178Z",
     "iopub.status.idle": "2024-09-09T17:53:35.519178Z",
     "shell.execute_reply": "2024-09-09T17:53:35.519178Z",
     "shell.execute_reply.started": "2024-09-09T17:53:35.519178Z"
    }
   },
   "outputs": [],
   "source": [
    "# for train_idx, val_idx in tss.split(df):\n",
    "# print('1 train:', train_idx)\n",
    "# display(df.iloc[train_idx].tail(5))\n",
    "# print('1 val:', val_idx)"
   ]
  },
  {
   "cell_type": "code",
   "execution_count": null,
   "id": "76417d13-25db-4e88-9af6-04d9e23b6afd",
   "metadata": {
    "execution": {
     "iopub.status.busy": "2024-09-09T17:53:35.519178Z",
     "iopub.status.idle": "2024-09-09T17:53:35.520180Z",
     "shell.execute_reply": "2024-09-09T17:53:35.520180Z",
     "shell.execute_reply.started": "2024-09-09T17:53:35.520180Z"
    }
   },
   "outputs": [],
   "source": [
    "tss = TimeSeriesSplit(n_splits=3, test_size=300_000)\n",
    "df = df.sort_index()\n",
    "\n",
    "fig, axs = plt.subplots(3, 1, figsize=(10, 10), sharex=True)\n",
    "fold = 0\n",
    "\n",
    "for train_idx, val_idx in tss.split(df):\n",
    "    train = df.iloc[train_idx]\n",
    "    test = df.iloc[val_idx]\n",
    "    train[\"target_modified\"].plot(\n",
    "        ax=axs[fold],\n",
    "        label=\"Training Set\",\n",
    "        title=f\"Data Train/Test Split Fold {fold}\",\n",
    "    )\n",
    "    test[\"target_modified\"].plot(ax=axs[fold], label=\"Test Set\")\n",
    "    axs[fold].axvline(test.index.min(), color=\"black\", ls=\"--\")\n",
    "    fold += 1\n",
    "plt.show()"
   ]
  },
  {
   "cell_type": "code",
   "execution_count": null,
   "id": "d4637896-c557-496a-bad6-0f7734fa9158",
   "metadata": {
    "execution": {
     "iopub.status.busy": "2024-09-09T17:53:35.520180Z",
     "iopub.status.idle": "2024-09-09T17:53:35.521183Z",
     "shell.execute_reply": "2024-09-09T17:53:35.521183Z",
     "shell.execute_reply.started": "2024-09-09T17:53:35.521183Z"
    },
    "scrolled": true
   },
   "outputs": [],
   "source": [
    "fold = 0\n",
    "preds = []\n",
    "scores = []\n",
    "for train_idx, val_idx in tss.split(df):\n",
    "    train = df.iloc[train_idx]\n",
    "    test = df.iloc[val_idx]\n",
    "\n",
    "    reg = XGBRegressor(\n",
    "        n_estimators=2000,\n",
    "        early_stopping_rounds=50,\n",
    "        objective=\"reg:squarederror\",\n",
    "        enable_categorical=True,\n",
    "        eval_metric=\"mae\",\n",
    "        # max_depth=3,\n",
    "        learning_rate=0.01,\n",
    "        random_state=RAND,\n",
    "    )\n",
    "    FEATURES = [\n",
    "        \"county\",\n",
    "        \"is_business\",\n",
    "        \"product_type\",\n",
    "        # 'target',\n",
    "        \"is_consumption\",\n",
    "        # 'data_block_id',\n",
    "        # 'row_id',\n",
    "        # 'prediction_unit_id',\n",
    "        \"hour\",\n",
    "        \"day_of_week\",\n",
    "        \"day\",\n",
    "        \"week_of_year\",\n",
    "        \"month\",\n",
    "        \"quarter\",\n",
    "        \"year\",\n",
    "        # 'target_modified',\n",
    "    ]\n",
    "    TARGET = \"target_modified\"\n",
    "\n",
    "    X_train = train[FEATURES]\n",
    "    y_train = train[TARGET]\n",
    "\n",
    "    X_test = test[FEATURES]\n",
    "    y_test = test[TARGET]\n",
    "\n",
    "    reg.fit(\n",
    "        X_train,\n",
    "        y_train,\n",
    "        eval_set=[(X_train, y_train), (X_test, y_test)],\n",
    "        verbose=20,\n",
    "    )\n",
    "\n",
    "    y_pred = reg.predict(X_test)\n",
    "    preds.append(y_pred)\n",
    "    score = np.sqrt(mean_squared_error(y_test, y_pred))\n",
    "    scores.append(score)"
   ]
  },
  {
   "cell_type": "markdown",
   "id": "11c5b9ef-41b8-45d9-97cb-47c8d32dcd2f",
   "metadata": {
    "execution": {
     "iopub.execute_input": "2023-11-23T13:02:48.363521Z",
     "iopub.status.busy": "2023-11-23T13:02:48.363521Z",
     "iopub.status.idle": "2023-11-23T13:02:48.371496Z",
     "shell.execute_reply": "2023-11-23T13:02:48.370980Z",
     "shell.execute_reply.started": "2023-11-23T13:02:48.363521Z"
    }
   },
   "source": [
    "- **county - An ID code for the county.**\n",
    "- **is_business - Boolean for whether or not the prosumer is a business.**\n",
    "- **product_type - ID code with the following mapping of codes to contract - types: {0: \"Combined\", 1: \"Fixed\", 2: \"General service\", 3: \"Spot\"}.**\n",
    "- **target - The consumption or production amount for the relevant segment for the hour. The segments are defined by the county, is_business, and product_type.**\n",
    "- **is_consumption - Boolean for whether or not this row's target is consumption or production.**\n",
    "- **datetime - The Estonian time in EET (UTC+2) / EEST (UTC+3).**\n",
    "- **data_block_id - All rows sharing the same data_block_id will be available at the same forecast time. This is a function of what information is available when forecasts are actually made, at 11 AM each morning. For example, if the forecast weather data_block_id for predictins made on October 31st is 100 then the historic weather data_block_id for October 31st will be 101 as the historic weather data is only actually available the next day.**\n",
    "- **row_id - A unique identifier for the row.**\n",
    "- **prediction_unit_id - A unique identifier for the county, is_business, and product_type combination. New prediction units can appear or disappear in the test set.**"
   ]
  }
 ],
 "metadata": {
  "kernelspec": {
   "display_name": "Python 3 (ipykernel)",
   "language": "python",
   "name": "python3"
  },
  "language_info": {
   "codemirror_mode": {
    "name": "ipython",
    "version": 3
   },
   "file_extension": ".py",
   "mimetype": "text/x-python",
   "name": "python",
   "nbconvert_exporter": "python",
   "pygments_lexer": "ipython3",
   "version": "3.11.9"
  }
 },
 "nbformat": 4,
 "nbformat_minor": 5
}
