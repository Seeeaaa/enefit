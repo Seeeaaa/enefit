{
 "cells": [
  {
   "cell_type": "markdown",
   "id": "476a7d74-e3b1-4955-8eec-a3d7cab79fcd",
   "metadata": {},
   "source": [
    "# 1. Overview"
   ]
  },
  {
   "cell_type": "markdown",
   "id": "c5e3a445-60c4-4f03-bb36-01ad873e783b",
   "metadata": {},
   "source": [
    "<font size=\"6\">Enefit - Predict Energy Behavior of Prosumers.</font>\n",
    "\n",
    "<font size=\"4\">Predict Prosumer Energy Patterns and Minimize Imbalance Costs.</font>\n",
    "\n",
    "https://www.kaggle.com/competitions/predict-energy-behavior-of-prosumers"
   ]
  },
  {
   "cell_type": "markdown",
   "id": "0cafcd45-663a-4a7c-a445-6f4e70336adc",
   "metadata": {},
   "source": [
    "The goal of the competition is to create an energy prediction model of prosumers to reduce energy imbalance costs. This competition aims to tackle the issue of energy imbalance, a situation where the energy expected to be used doesn't line up with the actual energy used or produced. Prosumers, who both consume and generate energy, contribute a large part of the energy imbalance. Despite being only a small part of all consumers, their unpredictable energy use causes logistical and financial problems for the energy companies."
   ]
  },
  {
   "cell_type": "markdown",
   "id": "dd3e8cf8-ff14-4431-bc5f-b6d57520b2cd",
   "metadata": {},
   "source": [
    "- **Description**\n",
    "\n",
    "The number of prosumers is rapidly increasing, and solving the problems of energy imbalance and their rising costs is vital. If left unaddressed, this could lead to increased operational costs, potential grid instability, and inefficient use of energy resources. If this problem were effectively solved, it would significantly reduce the imbalance costs, improve the reliability of the grid, and make the integration of prosumers into the energy system more efficient and sustainable. Moreover, it could potentially incentivize more consumers to become prosumers, knowing that their energy behavior can be adequately managed, thus promoting renewable energy production and use."
   ]
  },
  {
   "cell_type": "markdown",
   "id": "7ff9e9f8-5ecb-483f-9528-2216143f90d4",
   "metadata": {},
   "source": [
    "- **About us**\n",
    "\n",
    "Enefit is one of the biggest energy companies in Baltic region. As experts in the field of energy, we help customers plan their green journey in a personal and flexible manner as well as implement it by using environmentally friendly energy solutions.\n",
    "\n",
    "At present, Enefit is attempting to solve the imbalance problem by developing internal predictive models and relying on third-party forecasts. However, these methods have proven to be insufficient due to their low accuracy in forecasting the energy behavior of prosumers. The shortcomings of these current methods lie in their inability to accurately account for the wide range of variables that influence prosumer behavior, leading to high imbalance costs. By opening up the challenge to the world's best data scientists through the Kaggle platform, Enefit aims to leverage a broader pool of expertise and novel approaches to improve the accuracy of these predictions and consequently reduce the imbalance and associated costs."
   ]
  },
  {
   "cell_type": "markdown",
   "id": "57e9dd95-3acf-44b0-8d64-274dc7d5e496",
   "metadata": {
    "execution": {
     "iopub.execute_input": "2024-01-20T12:35:41.280972Z",
     "iopub.status.busy": "2024-01-20T12:35:41.279972Z",
     "iopub.status.idle": "2024-01-20T12:35:41.285991Z",
     "shell.execute_reply": "2024-01-20T12:35:41.285991Z",
     "shell.execute_reply.started": "2024-01-20T12:35:41.280972Z"
    }
   },
   "source": [
    "- **Evaluation**\n",
    "\n",
    "Submissions are evaluated on the Mean Absolute Error (MAE) between the predicted return and the observed target. The formula is given by:\n",
    "$$\n",
    "MAE = \\frac{1}{n} \\sum_{i=1}^{n}{|y_i-x_i|}\n",
    "$$\n",
    "\n",
    "\n",
    "Where:\n",
    "- $n$ is the total number of data points.\n",
    "- $y_i$ is the predicted value for data point i.\n",
    "- $x_i$ is the observed value for data point i."
   ]
  },
  {
   "cell_type": "markdown",
   "id": "b54f13ff-e686-4eb1-ad52-1aad8f4eefe3",
   "metadata": {},
   "source": [
    "- **Timeline**\n",
    "\n",
    "This is a future data prediction competition with an active training phase and a second period where selected submissions will be evaluated against future ground truth data.\n",
    "\n",
    "**Training Timeline**\n",
    "\n",
    "- November 1, 2023 - Start Date.\n",
    "\n",
    "- January 24, 2024 - Entry Deadline. You must accept the competition rules before this date in order to compete.\n",
    "\n",
    "- January 24, 2024 - Team Merger Deadline. This is the last day participants may join or merge teams.\n",
    "\n",
    "- January 31, 2024 - Final Submission Deadline.\n",
    "\n",
    "All deadlines are at 11:59 PM UTC on the corresponding day unless otherwise noted. The competition organizers reserve the right to update the contest timeline if they deem it necessary.\n",
    "\n",
    "**Prediction Timeline**\n",
    "\n",
    "Starting after the final submission deadline there will be periodic updates to the leaderboard to reflect future data updates that will be evaluated against selected submissions. We anticipate 1-3 updates before the final evaluation.\n",
    "\n",
    "- April 30, 2024 - Competition End Date."
   ]
  },
  {
   "cell_type": "markdown",
   "id": "a9f43dbe-7a07-4d87-876c-68e80dfc9908",
   "metadata": {},
   "source": [
    "# 2. Dataset Description"
   ]
  },
  {
   "cell_type": "markdown",
   "id": "979e6490-1627-4560-a3f6-e95fe0ade4a2",
   "metadata": {},
   "source": [
    "Dataset Description\n",
    "Your challenge in this competition is to predict the amount of electricity produced and consumed by Estonian energy customers who have installed solar panels. You'll have access to weather data, the relevant energy prices, and records of the installed photovoltaic capacity.\n",
    "\n",
    "This is a forecasting competition using the time series API. The private leaderboard will be determined using real data gathered after the submission period closes.\n",
    "\n",
    "💡 Nota bene:\n",
    "\n",
    "All datasets follow the same time convention. Time is given in EET/EEST. Most of the variables are a sum or an average over a period of 1 hour. The datetime column (whatever its name) always gives the start of the 1-hour period. However, for the weather datasets, some variables such as temperature or cloud cover, are given for a specific time, which is always the end of the 1-hour period."
   ]
  },
  {
   "cell_type": "markdown",
   "id": "c8717427-e790-4f0c-9e19-27ceaded38b4",
   "metadata": {},
   "source": [
    "## Files"
   ]
  },
  {
   "cell_type": "markdown",
   "id": "392ea999-dcb0-4d8f-9edf-ec1bee304633",
   "metadata": {},
   "source": [
    "### 1. train.csv\n",
    "- county - An ID code for the county.\n",
    "- is_business - Boolean for whether or not the prosumer is a business.\n",
    "- product_type - ID code with the following mapping of codes to contract types: {0: \"Combined\", 1: \"Fixed\", 2: \"General service\", 3: \"Spot\"}.\n",
    "- target - The consumption or production amount for the relevant segment for the hour. The segments are defined by the county, is_business, and product_type.\n",
    "- is_consumption - Boolean for whether or not this row's target is consumption or production.\n",
    "- datetime - The Estonian time in EET (UTC+2) / EEST (UTC+3).\n",
    "- data_block_id - All rows sharing the same data_block_id will be available at the same forecast time. This is a function of what information is available when forecasts are actually made, at 11 AM each morning. For example, if the forecast weather data_block_id for predictins made on October 31st is 100 then the historic weather data_block_id for October 31st will be 101 as the historic weather data is only actually available the next day.\n",
    "- row_id - A unique identifier for the row.\n",
    "- prediction_unit_id - A unique identifier for the county, is_business, and product_type combination. *New prediction units can appear or disappear in the test set*."
   ]
  },
  {
   "cell_type": "markdown",
   "id": "5822a6e5-040d-478b-8864-f69fd3db2cad",
   "metadata": {},
   "source": [
    "### 2. gas_prices.csv\n",
    "\n",
    "- origin_date - The date when the day-ahead prices became available.\n",
    "- forecast_date - The date when the forecast prices should be relevant.\n",
    "- [lowest/highest]_price_per_mwh - The lowest/highest price of natural gas that on the day ahead market that trading day, in Euros per megawatt hour equivalent.\n",
    "data_block_id\n",
    "- data_block_id"
   ]
  },
  {
   "cell_type": "markdown",
   "id": "990db1ff-6bab-417d-a3c8-3d41b604438a",
   "metadata": {},
   "source": [
    "### 3. client.csv\n",
    "- product_type\n",
    "- county - An ID code for the county. See county_id_to_name_map.json for the mapping of ID codes to county names.\n",
    "- eic_count - The aggregated number of consumption points (EICs - European Identifier Code).\n",
    "- installed_capacity - Installed photovoltaic solar panel capacity in kilowatts.\n",
    "- is_business - Boolean for whether or not the prosumer is a business.\n",
    "- date\n",
    "- data_block_id"
   ]
  },
  {
   "cell_type": "markdown",
   "id": "39fccb36-a7e3-48c0-87e4-aef112fcad16",
   "metadata": {
    "execution": {
     "iopub.execute_input": "2024-03-03T14:45:17.391075Z",
     "iopub.status.busy": "2024-03-03T14:45:17.387210Z",
     "iopub.status.idle": "2024-03-03T14:45:17.420041Z",
     "shell.execute_reply": "2024-03-03T14:45:17.419029Z",
     "shell.execute_reply.started": "2024-03-03T14:45:17.391075Z"
    }
   },
   "source": [
    "### 4. electricity_prices.csv\n",
    "- origin_date\n",
    "- forecast_date - Represents the start of the 1-hour period when the price is valid\n",
    "- euros_per_mwh - The price of electricity on the day ahead markets in euros per megawatt hour.\n",
    "- data_block_id"
   ]
  },
  {
   "cell_type": "markdown",
   "id": "3da3073d-bc1a-4d04-8f96-5bdbf85fad42",
   "metadata": {},
   "source": [
    "### 5. forecast_weather.csv\n",
    "Weather forecasts that would have been available at prediction time. Sourced from the [European Centre for Medium-Range Weather Forecasts](https://codes.ecmwf.int/grib/param-db/?filter=grib2).\n",
    "\n",
    "- [latitude/longitude] - The coordinates of the weather forecast.\n",
    "- origin_datetime - The timestamp of when the forecast was generated.\n",
    "- hours_ahead - The number of hours between the forecast generation and the forecast weather. Each forecast covers 48 hours in total.\n",
    "- temperature - The air temperature at 2 meters above ground in degrees Celsius. Estimated for the end of the 1-hour period.\n",
    "- dewpoint - The dew point temperature at 2 meters above ground in degrees Celsius. Estimated for the end of the 1-hour period.\n",
    "- cloudcover_[low/mid/high/total] - The percentage of the sky covered by clouds in the following altitude bands: 0-2 km, 2-6, 6+, and total. Estimated for the end of the 1-hour period.\n",
    "- 10_metre_[u/v]_wind_component - The [eastward/northward] component of wind speed measured 10 meters above surface in meters per second. Estimated for the end of the 1-hour period.\n",
    "- data_block_id\n",
    "- forecast_datetime - The timestamp of the predicted weather. Generated from origin_datetime plus hours_ahead. This represents the start of the 1-hour period for which weather data are forecasted.\n",
    "- direct_solar_radiation - The direct solar radiation reaching the surface on a plane perpendicular to the direction of the Sun accumulated during the hour, in watt-hours per square meter.\n",
    "- surface_solar_radiation_downwards - The solar radiation, both direct and diffuse, that reaches a horizontal plane at the surface of the Earth, accumulated during the hour, in watt-hours per square meter.\n",
    "- snowfall - Snowfall over hour in units of meters of water equivalent.\n",
    "- total_precipitation - The accumulated liquid, comprising rain and snow that falls on Earth's surface over the described hour, in units of meters."
   ]
  },
  {
   "cell_type": "markdown",
   "id": "4271f98b-15c6-4be1-9ca8-d51749946173",
   "metadata": {
    "execution": {
     "iopub.execute_input": "2024-03-03T14:51:13.183872Z",
     "iopub.status.busy": "2024-03-03T14:51:13.182524Z",
     "iopub.status.idle": "2024-03-03T14:51:13.194861Z",
     "shell.execute_reply": "2024-03-03T14:51:13.194861Z",
     "shell.execute_reply.started": "2024-03-03T14:51:13.183872Z"
    }
   },
   "source": [
    "### 6. historical_weather.csv\n",
    "[Historic weather data](https://open-meteo.com/en/docs).\n",
    "\n",
    "- datetime - This represents the start of the 1-hour period for which weather data are measured.\n",
    "- temperature - Measured at the end of the 1-hour period.\n",
    "- dewpoint - Measured at the end of the 1-hour period.\n",
    "- rain - Different from the forecast conventions. The rain from large scale weather systems of the hour in millimeters.\n",
    "- snowfall - Different from the forecast conventions. Snowfall over the hour in centimeters.\n",
    "- surface_pressure - The air pressure at surface in hectopascals.\n",
    "- cloudcover_[low/mid/high/total] - Different from the forecast conventions. Cloud cover at 0-3 km, 3-8, 8+, and total.\n",
    "- windspeed_10m - Different from the forecast conventions. The wind speed at 10 meters above ground in meters per second.\n",
    "- winddirection_10m - Different from the forecast conventions. The wind direction at 10 meters above ground in degrees.\n",
    "- shortwave_radiation - Different from the forecast conventions. The global horizontal irradiation in watt-hours per square meter.\n",
    "- direct_solar_radiation\n",
    "- diffuse_radiation - Different from the forecast conventions. The diffuse solar irradiation in watt-hours per square meter.\n",
    "- [latitude/longitude] - The coordinates of the weather station.\n",
    "- data_block_id"
   ]
  },
  {
   "cell_type": "markdown",
   "id": "c8e91539-52f2-4918-a49c-597e20e151c4",
   "metadata": {},
   "source": [
    "# 2. Import"
   ]
  },
  {
   "cell_type": "code",
   "execution_count": 1,
   "id": "d8694e6f-4c39-4f4c-938a-d919b4fa6397",
   "metadata": {
    "execution": {
     "iopub.execute_input": "2024-08-30T18:18:58.232930Z",
     "iopub.status.busy": "2024-08-30T18:18:58.232930Z",
     "iopub.status.idle": "2024-08-30T18:19:13.911883Z",
     "shell.execute_reply": "2024-08-30T18:19:13.907876Z",
     "shell.execute_reply.started": "2024-08-30T18:18:58.232930Z"
    }
   },
   "outputs": [
    {
     "ename": "ModuleNotFoundError",
     "evalue": "No module named 'colorcet'",
     "output_type": "error",
     "traceback": [
      "\u001b[1;31m---------------------------------------------------------------------------\u001b[0m",
      "\u001b[1;31mModuleNotFoundError\u001b[0m                       Traceback (most recent call last)",
      "Cell \u001b[1;32mIn[1], line 11\u001b[0m\n\u001b[0;32m      8\u001b[0m \u001b[38;5;28;01mimport\u001b[39;00m \u001b[38;5;21;01mmatplotlib\u001b[39;00m\u001b[38;5;21;01m.\u001b[39;00m\u001b[38;5;21;01mtransforms\u001b[39;00m \u001b[38;5;28;01mas\u001b[39;00m \u001b[38;5;21;01mmtransforms\u001b[39;00m\n\u001b[0;32m     10\u001b[0m \u001b[38;5;28;01mimport\u001b[39;00m \u001b[38;5;21;01mseaborn\u001b[39;00m \u001b[38;5;28;01mas\u001b[39;00m \u001b[38;5;21;01msns\u001b[39;00m\n\u001b[1;32m---> 11\u001b[0m \u001b[38;5;28;01mimport\u001b[39;00m \u001b[38;5;21;01mcolorcet\u001b[39;00m \u001b[38;5;28;01mas\u001b[39;00m \u001b[38;5;21;01mcc\u001b[39;00m\n\u001b[0;32m     13\u001b[0m \u001b[38;5;28;01mimport\u001b[39;00m \u001b[38;5;21;01mplotly\u001b[39;00m\u001b[38;5;21;01m.\u001b[39;00m\u001b[38;5;21;01mexpress\u001b[39;00m \u001b[38;5;28;01mas\u001b[39;00m \u001b[38;5;21;01mpx\u001b[39;00m\n\u001b[0;32m     14\u001b[0m \u001b[38;5;28;01mimport\u001b[39;00m \u001b[38;5;21;01mplotly\u001b[39;00m\u001b[38;5;21;01m.\u001b[39;00m\u001b[38;5;21;01mgraph_objects\u001b[39;00m \u001b[38;5;28;01mas\u001b[39;00m \u001b[38;5;21;01mgo\u001b[39;00m\n",
      "\u001b[1;31mModuleNotFoundError\u001b[0m: No module named 'colorcet'"
     ]
    }
   ],
   "source": [
    "import numpy as np\n",
    "import pandas as pd\n",
    "\n",
    "from statsmodels.tsa.seasonal import seasonal_decompose\n",
    "\n",
    "from matplotlib import dates as mdates\n",
    "import matplotlib.pyplot as plt\n",
    "import matplotlib.transforms as mtransforms\n",
    "\n",
    "import seaborn as sns\n",
    "import colorcet as cc\n",
    "\n",
    "import plotly.express as px\n",
    "import plotly.graph_objects as go"
   ]
  },
  {
   "cell_type": "code",
   "execution_count": 2,
   "id": "f655053f-3b59-443a-9b9f-239722d59d44",
   "metadata": {
    "execution": {
     "iopub.execute_input": "2024-08-30T18:19:21.904116Z",
     "iopub.status.busy": "2024-08-30T18:19:21.904116Z",
     "iopub.status.idle": "2024-08-30T18:19:30.617006Z",
     "shell.execute_reply": "2024-08-30T18:19:30.617006Z",
     "shell.execute_reply.started": "2024-08-30T18:19:21.904116Z"
    }
   },
   "outputs": [],
   "source": [
    "train_df = pd.read_csv(\"train.csv\")\n",
    "gas_prices_df = pd.read_csv(\"gas_prices.csv\")\n",
    "client_df = pd.read_csv('client.csv')\n",
    "electricity_prices_df = pd.read_csv(\"electricity_prices.csv\")\n",
    "forecast_weather_df = pd.read_csv(\"forecast_weather.csv\")\n",
    "historical_weather_df = pd.read_csv(\"historical_weather.csv\")\n",
    "\n",
    "station_county_mapping = pd.read_csv(\"weather_station_to_county_mapping.csv\")\n",
    "county_id_to_name_map = pd.read_json(\n",
    "    \"county_id_to_name_map.json\",\n",
    "    typ=\"series\",\n",
    ").str.capitalize()"
   ]
  },
  {
   "cell_type": "code",
   "execution_count": null,
   "id": "644f971b-a00d-4c26-a23c-dfdeb274f32f",
   "metadata": {
    "execution": {
     "iopub.status.busy": "2024-08-30T18:19:13.913884Z",
     "iopub.status.idle": "2024-08-30T18:19:13.913884Z",
     "shell.execute_reply": "2024-08-30T18:19:13.913884Z",
     "shell.execute_reply.started": "2024-08-30T18:19:13.913884Z"
    }
   },
   "outputs": [],
   "source": [
    "RAND = 10\n",
    "\n",
    "COLORS_LIST = (\n",
    "    cc.glasbey[:4]\n",
    "    + [cc.glasbey[8]]\n",
    "    + cc.glasbey[5:8]\n",
    "    + [cc.glasbey[4]]\n",
    "    + [cc.glasbey[12]]\n",
    "    + cc.glasbey[10:12]\n",
    "    + [cc.glasbey[9]]\n",
    "    + cc.glasbey[13:16]\n",
    ")\n",
    "PALETTE = sns.color_palette(COLORS_LIST)"
   ]
  },
  {
   "cell_type": "markdown",
   "id": "99a5974b-0895-4c12-8017-9b9d01f6ae64",
   "metadata": {},
   "source": [
    "# 3. EDA"
   ]
  },
  {
   "cell_type": "markdown",
   "id": "e2c66ce3-7cbb-43d0-9ec1-7040df60e811",
   "metadata": {},
   "source": [
    "## 3.1. General"
   ]
  },
  {
   "cell_type": "markdown",
   "id": "c693e567-40d0-4acf-bb28-eec0a234d0fb",
   "metadata": {
    "execution": {
     "iopub.execute_input": "2024-03-06T10:21:59.447092Z",
     "iopub.status.busy": "2024-03-06T10:21:59.446090Z",
     "iopub.status.idle": "2024-03-06T10:21:59.450906Z",
     "shell.execute_reply": "2024-03-06T10:21:59.450388Z",
     "shell.execute_reply.started": "2024-03-06T10:21:59.447092Z"
    }
   },
   "source": [
    "### 3.1.1 train.csv"
   ]
  },
  {
   "cell_type": "code",
   "execution_count": 3,
   "id": "7003bf43-7780-4858-b00c-fd417639482b",
   "metadata": {
    "execution": {
     "iopub.execute_input": "2024-08-30T18:19:34.691753Z",
     "iopub.status.busy": "2024-08-30T18:19:34.691753Z",
     "iopub.status.idle": "2024-08-30T18:19:34.755005Z",
     "shell.execute_reply": "2024-08-30T18:19:34.755005Z",
     "shell.execute_reply.started": "2024-08-30T18:19:34.691753Z"
    }
   },
   "outputs": [
    {
     "data": {
      "text/html": [
       "<div>\n",
       "<style scoped>\n",
       "    .dataframe tbody tr th:only-of-type {\n",
       "        vertical-align: middle;\n",
       "    }\n",
       "\n",
       "    .dataframe tbody tr th {\n",
       "        vertical-align: top;\n",
       "    }\n",
       "\n",
       "    .dataframe thead th {\n",
       "        text-align: right;\n",
       "    }\n",
       "</style>\n",
       "<table border=\"1\" class=\"dataframe\">\n",
       "  <thead>\n",
       "    <tr style=\"text-align: right;\">\n",
       "      <th></th>\n",
       "      <th>county</th>\n",
       "      <th>is_business</th>\n",
       "      <th>product_type</th>\n",
       "      <th>target</th>\n",
       "      <th>is_consumption</th>\n",
       "      <th>datetime</th>\n",
       "      <th>data_block_id</th>\n",
       "      <th>row_id</th>\n",
       "      <th>prediction_unit_id</th>\n",
       "    </tr>\n",
       "  </thead>\n",
       "  <tbody>\n",
       "    <tr>\n",
       "      <th>0</th>\n",
       "      <td>0</td>\n",
       "      <td>0</td>\n",
       "      <td>1</td>\n",
       "      <td>0.713</td>\n",
       "      <td>0</td>\n",
       "      <td>2021-09-01 00:00:00</td>\n",
       "      <td>0</td>\n",
       "      <td>0</td>\n",
       "      <td>0</td>\n",
       "    </tr>\n",
       "    <tr>\n",
       "      <th>1</th>\n",
       "      <td>0</td>\n",
       "      <td>0</td>\n",
       "      <td>1</td>\n",
       "      <td>96.590</td>\n",
       "      <td>1</td>\n",
       "      <td>2021-09-01 00:00:00</td>\n",
       "      <td>0</td>\n",
       "      <td>1</td>\n",
       "      <td>0</td>\n",
       "    </tr>\n",
       "    <tr>\n",
       "      <th>2</th>\n",
       "      <td>0</td>\n",
       "      <td>0</td>\n",
       "      <td>2</td>\n",
       "      <td>0.000</td>\n",
       "      <td>0</td>\n",
       "      <td>2021-09-01 00:00:00</td>\n",
       "      <td>0</td>\n",
       "      <td>2</td>\n",
       "      <td>1</td>\n",
       "    </tr>\n",
       "    <tr>\n",
       "      <th>3</th>\n",
       "      <td>0</td>\n",
       "      <td>0</td>\n",
       "      <td>2</td>\n",
       "      <td>17.314</td>\n",
       "      <td>1</td>\n",
       "      <td>2021-09-01 00:00:00</td>\n",
       "      <td>0</td>\n",
       "      <td>3</td>\n",
       "      <td>1</td>\n",
       "    </tr>\n",
       "    <tr>\n",
       "      <th>4</th>\n",
       "      <td>0</td>\n",
       "      <td>0</td>\n",
       "      <td>3</td>\n",
       "      <td>2.904</td>\n",
       "      <td>0</td>\n",
       "      <td>2021-09-01 00:00:00</td>\n",
       "      <td>0</td>\n",
       "      <td>4</td>\n",
       "      <td>2</td>\n",
       "    </tr>\n",
       "  </tbody>\n",
       "</table>\n",
       "</div>"
      ],
      "text/plain": [
       "   county  is_business  product_type  target  is_consumption  \\\n",
       "0       0            0             1   0.713               0   \n",
       "1       0            0             1  96.590               1   \n",
       "2       0            0             2   0.000               0   \n",
       "3       0            0             2  17.314               1   \n",
       "4       0            0             3   2.904               0   \n",
       "\n",
       "              datetime  data_block_id  row_id  prediction_unit_id  \n",
       "0  2021-09-01 00:00:00              0       0                   0  \n",
       "1  2021-09-01 00:00:00              0       1                   0  \n",
       "2  2021-09-01 00:00:00              0       2                   1  \n",
       "3  2021-09-01 00:00:00              0       3                   1  \n",
       "4  2021-09-01 00:00:00              0       4                   2  "
      ]
     },
     "execution_count": 3,
     "metadata": {},
     "output_type": "execute_result"
    }
   ],
   "source": [
    "df = train_df.copy()\n",
    "df.head()"
   ]
  },
  {
   "cell_type": "code",
   "execution_count": 4,
   "id": "c5630cba-d558-4e04-b15e-053609da30c0",
   "metadata": {
    "execution": {
     "iopub.execute_input": "2024-08-30T18:19:37.244844Z",
     "iopub.status.busy": "2024-08-30T18:19:37.244844Z",
     "iopub.status.idle": "2024-08-30T18:19:37.322553Z",
     "shell.execute_reply": "2024-08-30T18:19:37.322553Z",
     "shell.execute_reply.started": "2024-08-30T18:19:37.244844Z"
    }
   },
   "outputs": [
    {
     "name": "stdout",
     "output_type": "stream",
     "text": [
      "<class 'pandas.core.frame.DataFrame'>\n",
      "RangeIndex: 2018352 entries, 0 to 2018351\n",
      "Data columns (total 9 columns):\n",
      " #   Column              Non-Null Count    Dtype  \n",
      "---  ------              --------------    -----  \n",
      " 0   county              2018352 non-null  int64  \n",
      " 1   is_business         2018352 non-null  int64  \n",
      " 2   product_type        2018352 non-null  int64  \n",
      " 3   target              2017824 non-null  float64\n",
      " 4   is_consumption      2018352 non-null  int64  \n",
      " 5   datetime            2018352 non-null  object \n",
      " 6   data_block_id       2018352 non-null  int64  \n",
      " 7   row_id              2018352 non-null  int64  \n",
      " 8   prediction_unit_id  2018352 non-null  int64  \n",
      "dtypes: float64(1), int64(7), object(1)\n",
      "memory usage: 138.6+ MB\n"
     ]
    }
   ],
   "source": [
    "df.info(show_counts=True)"
   ]
  },
  {
   "cell_type": "markdown",
   "id": "5a1b0d83-dd65-470c-bace-79be97612b50",
   "metadata": {},
   "source": [
    "- The number of target values is smaller than the number of feature values."
   ]
  },
  {
   "cell_type": "code",
   "execution_count": null,
   "id": "b5f96f0f-8e34-44af-8171-3706103a9db5",
   "metadata": {
    "execution": {
     "iopub.status.busy": "2024-08-30T18:19:13.916883Z",
     "iopub.status.idle": "2024-08-30T18:19:13.916883Z",
     "shell.execute_reply": "2024-08-30T18:19:13.916883Z",
     "shell.execute_reply.started": "2024-08-30T18:19:13.916883Z"
    }
   },
   "outputs": [],
   "source": [
    "df.describe().apply(lambda x: x.apply('{0:.2f}'.format))"
   ]
  },
  {
   "cell_type": "code",
   "execution_count": null,
   "id": "15085d1f-195a-437f-9ef4-42703814843a",
   "metadata": {
    "execution": {
     "iopub.status.busy": "2024-08-30T18:19:13.917884Z",
     "iopub.status.idle": "2024-08-30T18:19:13.917884Z",
     "shell.execute_reply": "2024-08-30T18:19:13.917884Z",
     "shell.execute_reply.started": "2024-08-30T18:19:13.917884Z"
    }
   },
   "outputs": [],
   "source": [
    "df.describe(include='object')"
   ]
  },
  {
   "cell_type": "code",
   "execution_count": null,
   "id": "2f28aef7-af95-4bb9-b18c-7ee5868b446f",
   "metadata": {
    "execution": {
     "iopub.status.busy": "2024-08-30T18:19:13.918885Z",
     "iopub.status.idle": "2024-08-30T18:19:13.918885Z",
     "shell.execute_reply": "2024-08-30T18:19:13.918885Z",
     "shell.execute_reply.started": "2024-08-30T18:19:13.918885Z"
    }
   },
   "outputs": [],
   "source": [
    "# Renaming to avoid confusion and improve readability\n",
    "\n",
    "values_mapper = {\n",
    "    \"county\": county_id_to_name_map,\n",
    "    \"is_business\": {0: \"not_business\", 1: \"business\"},\n",
    "    \"is_consumption\": {0: \"production\", 1: \"consumption\"},\n",
    "    \"product_type\": {\n",
    "        0: \"combined\",\n",
    "        1: \"fixed\",\n",
    "        2: \"general_service\",\n",
    "        3: \"spot\",\n",
    "    },\n",
    "}\n",
    "\n",
    "for column in values_mapper:\n",
    "    df[column] = df[column].map(values_mapper[column])\n",
    "\n",
    "df = df.astype(\n",
    "    {\n",
    "        \"county\": \"category\",\n",
    "        \"is_business\": \"category\",\n",
    "        \"product_type\": \"category\",\n",
    "        \"is_consumption\": \"category\",\n",
    "        \"datetime\": \"datetime64[ns]\",\n",
    "    }\n",
    ")"
   ]
  },
  {
   "cell_type": "code",
   "execution_count": null,
   "id": "b4ac8f03-5b96-432c-8c28-85e9c9557f58",
   "metadata": {
    "execution": {
     "iopub.status.busy": "2024-08-30T18:19:13.918885Z",
     "iopub.status.idle": "2024-08-30T18:19:13.918885Z",
     "shell.execute_reply": "2024-08-30T18:19:13.918885Z",
     "shell.execute_reply.started": "2024-08-30T18:19:13.918885Z"
    }
   },
   "outputs": [],
   "source": [
    "# df = df.astype({\n",
    "#     \"county\": \"uint8\",\n",
    "#     \"is_business\": \"bool\",\n",
    "#     \"product_type\": \"uint8\",\n",
    "#     \"is_consumption\": \"bool\",\n",
    "#     \"datetime\": \"datetime64[ns]\",})"
   ]
  },
  {
   "cell_type": "code",
   "execution_count": null,
   "id": "80c78a3d-03ee-4f5f-8a6d-eebb94736a86",
   "metadata": {
    "execution": {
     "iopub.status.busy": "2024-08-30T18:19:13.919886Z",
     "iopub.status.idle": "2024-08-30T18:19:13.919886Z",
     "shell.execute_reply": "2024-08-30T18:19:13.919886Z",
     "shell.execute_reply.started": "2024-08-30T18:19:13.919886Z"
    }
   },
   "outputs": [],
   "source": [
    "# Adding new time-related features based on datetime\n",
    "\n",
    "df[\"hour\"] = df[\"datetime\"].dt.hour.astype(\"uint8\")\n",
    "df[\"day_of_week\"] = df[\"datetime\"].dt.day_of_week.astype(\"uint8\")\n",
    "df[\"day\"] = df[\"datetime\"].dt.day.astype(\"uint16\")\n",
    "df[\"week_of_year\"] = df[\"datetime\"].dt.isocalendar().week.astype(\"int8\")\n",
    "df[\"month\"] = df[\"datetime\"].dt.month.astype(\"int8\")\n",
    "df[\"quarter\"] = df[\"datetime\"].dt.quarter.astype(\"int8\")\n",
    "df[\"year\"] = df[\"datetime\"].dt.year.astype(\"uint16\")\n",
    "\n",
    "df[\"date\"] = df[\"datetime\"].dt.date"
   ]
  },
  {
   "cell_type": "markdown",
   "id": "bee221e3-449d-443a-8746-52dcfb1454b9",
   "metadata": {},
   "source": [
    "#### Missing values and duplicates"
   ]
  },
  {
   "cell_type": "code",
   "execution_count": null,
   "id": "99e18ec6-6550-43ad-923d-c6cee43c3835",
   "metadata": {
    "execution": {
     "iopub.status.busy": "2024-08-30T18:19:13.920885Z",
     "iopub.status.idle": "2024-08-30T18:19:13.920885Z",
     "shell.execute_reply": "2024-08-30T18:19:13.920885Z",
     "shell.execute_reply.started": "2024-08-30T18:19:13.920885Z"
    }
   },
   "outputs": [],
   "source": [
    "df.isna().sum()[df.isna().sum() != 0]"
   ]
  },
  {
   "cell_type": "code",
   "execution_count": null,
   "id": "c6c9864b-3694-4fc0-a527-b0e4646f01fa",
   "metadata": {
    "execution": {
     "iopub.status.busy": "2024-08-30T18:19:13.920885Z",
     "iopub.status.idle": "2024-08-30T18:19:13.921885Z",
     "shell.execute_reply": "2024-08-30T18:19:13.921885Z",
     "shell.execute_reply.started": "2024-08-30T18:19:13.921885Z"
    }
   },
   "outputs": [],
   "source": [
    "df.duplicated().sum()"
   ]
  },
  {
   "cell_type": "markdown",
   "id": "a0480be7-c5d7-4265-aa0a-67b4732a020c",
   "metadata": {},
   "source": [
    "- There is a small number (528/2018352 < 0.1%) of missing values and zero duplicates in the dataframe.\n",
    "- Only the target column has missing values."
   ]
  },
  {
   "cell_type": "code",
   "execution_count": null,
   "id": "13d10588-3878-4385-b003-daab024fd662",
   "metadata": {
    "execution": {
     "iopub.status.busy": "2024-08-30T18:19:13.921885Z",
     "iopub.status.idle": "2024-08-30T18:19:13.921885Z",
     "shell.execute_reply": "2024-08-30T18:19:13.921885Z",
     "shell.execute_reply.started": "2024-08-30T18:19:13.921885Z"
    }
   },
   "outputs": [],
   "source": [
    "df[df.isna().any(axis=1)].head().sort_values(by=['datetime'])"
   ]
  },
  {
   "cell_type": "markdown",
   "id": "643860a1-ba22-40a3-b2dc-bea5e521adbd",
   "metadata": {
    "execution": {
     "iopub.execute_input": "2024-03-06T10:44:57.900110Z",
     "iopub.status.busy": "2024-03-06T10:44:57.900110Z",
     "iopub.status.idle": "2024-03-06T10:44:57.904081Z",
     "shell.execute_reply": "2024-03-06T10:44:57.904081Z",
     "shell.execute_reply.started": "2024-03-06T10:44:57.900110Z"
    }
   },
   "source": [
    "- The datetime for missing target values started not from '2021-09-01 00:00:00'."
   ]
  },
  {
   "cell_type": "code",
   "execution_count": null,
   "id": "0f0a83d6-acc3-490d-87c3-fb762bc35da0",
   "metadata": {
    "execution": {
     "iopub.status.busy": "2024-08-30T18:19:13.922885Z",
     "iopub.status.idle": "2024-08-30T18:19:13.922885Z",
     "shell.execute_reply": "2024-08-30T18:19:13.922885Z",
     "shell.execute_reply.started": "2024-08-30T18:19:13.922885Z"
    }
   },
   "outputs": [],
   "source": [
    "na_datetimes = df[df.isna().any(axis=1)].datetime.unique()\n",
    "na_datetimes"
   ]
  },
  {
   "cell_type": "markdown",
   "id": "0be838fa-2d16-44f8-96df-b433498fe539",
   "metadata": {
    "execution": {
     "iopub.execute_input": "2023-12-17T16:40:02.041967Z",
     "iopub.status.busy": "2023-12-17T16:40:02.041967Z",
     "iopub.status.idle": "2023-12-17T16:40:02.046471Z",
     "shell.execute_reply": "2023-12-17T16:40:02.046471Z",
     "shell.execute_reply.started": "2023-12-17T16:40:02.041967Z"
    }
   },
   "source": [
    "- All missing values correspond to the first/last hours of daylight saving time."
   ]
  },
  {
   "cell_type": "code",
   "execution_count": null,
   "id": "5ed449f7-956d-45ad-8064-53eb1348afb8",
   "metadata": {
    "execution": {
     "iopub.status.busy": "2024-08-30T18:19:13.923885Z",
     "iopub.status.idle": "2024-08-30T18:19:13.923885Z",
     "shell.execute_reply": "2024-08-30T18:19:13.923885Z",
     "shell.execute_reply.started": "2024-08-30T18:19:13.923885Z"
    }
   },
   "outputs": [],
   "source": [
    "df.loc[df['datetime'].isin(na_datetimes), ['target']].shape[0]"
   ]
  },
  {
   "cell_type": "markdown",
   "id": "642330ac-1a10-4c32-a515-355d187c6c85",
   "metadata": {},
   "source": [
    "- All target values at these timestamps are missing."
   ]
  },
  {
   "cell_type": "markdown",
   "id": "b03a645b-9a1f-453d-bdd7-8b47f56a8b0e",
   "metadata": {},
   "source": [
    "#### Target distribution"
   ]
  },
  {
   "cell_type": "code",
   "execution_count": null,
   "id": "779643df-d453-4315-bbee-0112c335787c",
   "metadata": {
    "execution": {
     "iopub.status.busy": "2024-08-30T18:19:13.924884Z",
     "iopub.status.idle": "2024-08-30T18:19:13.924884Z",
     "shell.execute_reply": "2024-08-30T18:19:13.924884Z",
     "shell.execute_reply.started": "2024-08-30T18:19:13.924884Z"
    }
   },
   "outputs": [],
   "source": [
    "# Creating target's discrete intervals\n",
    "bins = 10\n",
    "plt.figure(figsize=(12, 6))\n",
    "\n",
    "target_bins_percentage = round(\n",
    "    pd\n",
    "    .cut(np.array(df.target), bins, precision=0)\n",
    "    .value_counts()\n",
    "    / df.shape[0]\n",
    "    * 100,\n",
    "    2)\n",
    "\n",
    "# Re-calculate first value so\n",
    "# that the sum of the percentages is equal to 100.0\n",
    "target_bins_percentage[0] = 100 - target_bins_percentage[1:].sum()\n",
    "target_bins_percentage = [f\"{i:.2f}%\" for i in target_bins_percentage]\n",
    "\n",
    "target_max = df.target.max()\n",
    "ticks = range(0, int(target_max) + 1, int(target_max / bins))\n",
    "\n",
    "ax = sns.histplot(df.target, bins=bins, kde=True, linewidth=.5,)\n",
    "\n",
    "# Adding group percentage to the top of each bar\n",
    "ax.bar_label(ax.containers[0], target_bins_percentage, padding=6, fontsize=11)\n",
    "\n",
    "plt.title('Histogram of 10 discrete bins of the target values with KDE-line')\n",
    "plt.xticks(ticks=ticks, rotation=0)\n",
    "plt.xlabel(\"Target values\")\n",
    "\n",
    "# Using a logarithmic scale for the y-axis for better visualization\n",
    "# of small quantities of target values\n",
    "plt.yscale(\"log\")\n",
    "plt.ylabel(\"Count, log scale\", rotation=0, labelpad=45)\n",
    "plt.show()"
   ]
  },
  {
   "cell_type": "markdown",
   "id": "127b5ac5-fe6d-42e8-bbbe-4912c562dacc",
   "metadata": {
    "execution": {
     "iopub.execute_input": "2024-01-20T12:56:31.144179Z",
     "iopub.status.busy": "2024-01-20T12:56:31.144179Z",
     "iopub.status.idle": "2024-01-20T12:56:31.154420Z",
     "shell.execute_reply": "2024-01-20T12:56:31.147415Z",
     "shell.execute_reply.started": "2024-01-20T12:56:31.144179Z"
    }
   },
   "source": [
    "- The target distribution is non-normal, it is right-skewed.\n",
    "- There are more values in the first discrete bin than the total number in the rest; the KDE-line shows that most of the values are near zero."
   ]
  },
  {
   "cell_type": "code",
   "execution_count": null,
   "id": "efa9a5ed-8d33-48e7-b4ee-8ad8a40aeda3",
   "metadata": {
    "execution": {
     "iopub.status.busy": "2024-08-30T18:19:13.924884Z",
     "iopub.status.idle": "2024-08-30T18:19:13.924884Z",
     "shell.execute_reply": "2024-08-30T18:19:13.924884Z",
     "shell.execute_reply.started": "2024-08-30T18:19:13.924884Z"
    }
   },
   "outputs": [],
   "source": [
    "levels = 5 # The number of boxenplot levels plus 2 (min and max)\n",
    "\n",
    "# list with data for additional lines and text\n",
    "# started from .25 because lower corresponding percentiles are the same\n",
    "\n",
    "levels_list = [.25] + np.cumsum(\n",
    "    [.5 / pow(2, i) for i in range(levels - 1)]).tolist()\n",
    "levels_values = df.target.describe(levels_list)[3:]"
   ]
  },
  {
   "cell_type": "code",
   "execution_count": null,
   "id": "dccbd808-2f4c-475f-bd43-0935f83926f2",
   "metadata": {
    "execution": {
     "iopub.status.busy": "2024-08-30T18:19:13.925886Z",
     "iopub.status.idle": "2024-08-30T18:19:13.925886Z",
     "shell.execute_reply": "2024-08-30T18:19:13.925886Z",
     "shell.execute_reply.started": "2024-08-30T18:19:13.925886Z"
    }
   },
   "outputs": [],
   "source": [
    "levels_values.values"
   ]
  },
  {
   "cell_type": "code",
   "execution_count": null,
   "id": "3c42b314-83d3-42dc-9d62-ce61fa2fde2a",
   "metadata": {
    "execution": {
     "iopub.status.busy": "2024-08-30T18:19:13.926886Z",
     "iopub.status.idle": "2024-08-30T18:19:13.926886Z",
     "shell.execute_reply": "2024-08-30T18:19:13.926886Z",
     "shell.execute_reply.started": "2024-08-30T18:19:13.926886Z"
    }
   },
   "outputs": [],
   "source": [
    "plt.figure(figsize=(3, 8))\n",
    "ax = sns.boxenplot(\n",
    "    df,\n",
    "    y=\"target\",\n",
    "    linewidth=0,\n",
    "    k_depth=levels - 2,\n",
    "    flier_kws={\n",
    "        'marker': '.',\n",
    "        's': .1,\n",
    "    })\n",
    "\n",
    "ax.set_xlim(ax.get_xlim()[0], ax.get_xlim()[1])\n",
    "\n",
    "plt.hlines(\n",
    "    levels_values.values,\n",
    "    0,\n",
    "    ax.get_xlim()[1],\n",
    "    'orange',\n",
    "    lw=1.2,\n",
    ")\n",
    "\n",
    "for ix, l in enumerate(levels_values):\n",
    "    plt.text(\n",
    "        ax.get_xlim()[1] + .03,\n",
    "        levels_values.values[ix],\n",
    "        f'{levels_values.index[ix]}: {levels_values.values[ix]:.2f}',\n",
    "        fontsize=11,\n",
    "        ha='left',\n",
    "        va='center',\n",
    "    )\n",
    "\n",
    "ax.set_ylim(-.1, 30_000)\n",
    "plt.yscale('symlog', linthresh=1)\n",
    "plt.title('Boxenplot of the target values with 3 levels')\n",
    "plt.ylabel(\"Target values, log scale\", rotation=0, labelpad=65)\n",
    "plt.yticks(fontsize=11)\n",
    "plt.show()"
   ]
  },
  {
   "cell_type": "markdown",
   "id": "6df2c8d5-4405-47b7-b54f-92943f139cc0",
   "metadata": {},
   "source": [
    "- Q<sub>1</sub> ≈ 0.38\n",
    "- Q<sub>2</sub> ≈ 31.13\n",
    "- Q<sub>3</sub> ≈ 180.21\n",
    "- There are only two levels on the Q<sub>1</sub> side of the boxenplot (as opposed to three levels on the Q<sub>3</sub> side), which means that there is a huge number of identical values that cannot be separated. That is, two different percentiles (6.25% and 12.5%) have the same value, which equal to the minimum value - 0."
   ]
  },
  {
   "cell_type": "code",
   "execution_count": null,
   "id": "271b8e51-1fbd-469e-8c2b-8b58785bba5c",
   "metadata": {
    "execution": {
     "iopub.status.busy": "2024-08-30T18:19:13.926886Z",
     "iopub.status.idle": "2024-08-30T18:19:13.927886Z",
     "shell.execute_reply": "2024-08-30T18:19:13.927886Z",
     "shell.execute_reply.started": "2024-08-30T18:19:13.927886Z"
    }
   },
   "outputs": [],
   "source": [
    "df.target.value_counts().head()"
   ]
  },
  {
   "cell_type": "code",
   "execution_count": null,
   "id": "61e7e79e-c01a-43de-bda8-693b7ec6b3b8",
   "metadata": {
    "execution": {
     "iopub.status.busy": "2024-08-30T18:19:13.927886Z",
     "iopub.status.idle": "2024-08-30T18:19:13.927886Z",
     "shell.execute_reply": "2024-08-30T18:19:13.927886Z",
     "shell.execute_reply.started": "2024-08-30T18:19:13.927886Z"
    }
   },
   "outputs": [],
   "source": [
    "df.target.count()"
   ]
  },
  {
   "cell_type": "markdown",
   "id": "63f8298e-0bcf-4291-9849-2d4b6dc9229d",
   "metadata": {
    "execution": {
     "iopub.execute_input": "2024-02-23T19:17:03.524071Z",
     "iopub.status.busy": "2024-02-23T19:17:03.524071Z",
     "iopub.status.idle": "2024-02-23T19:17:03.531117Z",
     "shell.execute_reply": "2024-02-23T19:17:03.530606Z",
     "shell.execute_reply.started": "2024-02-23T19:17:03.524071Z"
    }
   },
   "source": [
    "- Zero values are the most common and occur in more than 10 percent of the cases (351496 / 2017824)."
   ]
  },
  {
   "cell_type": "markdown",
   "id": "cf890c32-80a1-4438-9b91-994c39b5519a",
   "metadata": {},
   "source": [
    "#### County, is_business, and product_type combinations"
   ]
  },
  {
   "cell_type": "code",
   "execution_count": null,
   "id": "12e1c29a-3867-4e45-8724-d440a0add4bd",
   "metadata": {
    "execution": {
     "iopub.status.busy": "2024-08-30T18:19:13.928885Z",
     "iopub.status.idle": "2024-08-30T18:19:13.928885Z",
     "shell.execute_reply": "2024-08-30T18:19:13.928885Z",
     "shell.execute_reply.started": "2024-08-30T18:19:13.928885Z"
    }
   },
   "outputs": [],
   "source": [
    "df_categories = (df.groupby(\n",
    "    [\n",
    "        \"county\",\n",
    "        \"is_business\",\n",
    "        \"product_type\",\n",
    "        \"is_consumption\",\n",
    "    ],\n",
    "    observed=True,\n",
    ")[\"target\"].count().reset_index())\n",
    "df_categories[\"county_num\"] = df_categories[\"county\"].map(\n",
    "    pd.Series(county_id_to_name_map.index, county_id_to_name_map.values))\n",
    "df_categories.head()"
   ]
  },
  {
   "cell_type": "code",
   "execution_count": null,
   "id": "068370fd-fc11-4217-abc6-4f5049706da8",
   "metadata": {
    "execution": {
     "iopub.status.busy": "2024-08-30T18:19:13.928885Z",
     "iopub.status.idle": "2024-08-30T18:19:13.929886Z",
     "shell.execute_reply": "2024-08-30T18:19:13.928885Z",
     "shell.execute_reply.started": "2024-08-30T18:19:13.928885Z"
    }
   },
   "outputs": [],
   "source": [
    "# Create dimensions for each column\n",
    "county_dim = go.parcats.Dimension(values=df_categories.county, label=\"County\")\n",
    "is_business_dim = go.parcats.Dimension(\n",
    "    values=df_categories.is_business, label=\"Is business?\"\n",
    ")\n",
    "product_type_dim = go.parcats.Dimension(\n",
    "    values=df_categories.product_type, label=\"Product type\"\n",
    ")\n",
    "is_consumption_dim = go.parcats.Dimension(\n",
    "    values=df_categories.is_consumption, label=\"Is consumption?\"\n",
    ")\n",
    "county_num_dim = go.parcats.Dimension(\n",
    "    values=df_categories.county_num, label=\"County_num\"\n",
    ")\n",
    "\n",
    "color = df_categories.county_num\n",
    "colorscale = px.colors.make_colorscale(COLORS_LIST)\n",
    "\n",
    "fig = go.Figure(\n",
    "    data=[\n",
    "        go.Parcats(\n",
    "            dimensions=[\n",
    "                county_dim,\n",
    "                product_type_dim,\n",
    "                is_business_dim,\n",
    "                is_consumption_dim,\n",
    "            ],\n",
    "            line={\"color\": color, \"colorscale\": colorscale},\n",
    "            hoveron=\"dimension\",\n",
    "            labelfont={\"size\": 16, \"family\": \"sans-serif\"},\n",
    "            tickfont={\"size\": 16, \"family\": \"sans-serif\", \"color\": \"blue\"},\n",
    "            arrangement=\"freeform\",\n",
    "        )\n",
    "    ]\n",
    ")\n",
    "fig.update_layout(\n",
    "    width=1200,\n",
    "    height=800,\n",
    "    font={\"size\": 18, \"family\": \"sans-serif\"},\n",
    "    title=\"Parallel categories diagram for all observed combinations of catego\\\n",
    "rical features\",\n",
    ")\n",
    "fig.show()"
   ]
  },
  {
   "cell_type": "markdown",
   "id": "4a8304a0-8367-4d91-9cc9-601ad7da495d",
   "metadata": {},
   "source": [
    "- There are different combinations of county-product_type-is_business features. All these combinations have two variants for is_consumption feature. What this means is that it is possible for each timestamp there are two target values for county-product_type-is_business combinations corresponding to consumption and production.\n",
    "- Only two counties have one combiation of product_type-is_business features: Läänemaa and Unknown. Both of them have only 'spot' and 'business' values in corresponding features.\n",
    "- It is worth noting that the description of prediction_unit_id says that new combinations of county, is_business, and product_type features may appear or disappear."
   ]
  },
  {
   "cell_type": "code",
   "execution_count": null,
   "id": "dd327029-e702-4b6a-9594-20923358f161",
   "metadata": {
    "execution": {
     "iopub.status.busy": "2024-08-30T18:19:13.929886Z",
     "iopub.status.idle": "2024-08-30T18:19:13.929886Z",
     "shell.execute_reply": "2024-08-30T18:19:13.929886Z",
     "shell.execute_reply.started": "2024-08-30T18:19:13.929886Z"
    }
   },
   "outputs": [],
   "source": [
    "# Checking the first point\n",
    "\n",
    "# There are no timestamps in the dataframe,\n",
    "# for which there are only consumption or production values."
   ]
  },
  {
   "cell_type": "code",
   "execution_count": null,
   "id": "261edcdd-6bfd-4aa1-b3d3-9dde0f8f5be7",
   "metadata": {
    "execution": {
     "iopub.status.busy": "2024-08-30T18:19:13.930887Z",
     "iopub.status.idle": "2024-08-30T18:19:13.930887Z",
     "shell.execute_reply": "2024-08-30T18:19:13.930887Z",
     "shell.execute_reply.started": "2024-08-30T18:19:13.930887Z"
    }
   },
   "outputs": [],
   "source": [
    "def create_prodcons_df(\n",
    "    df: pd.DataFrame,\n",
    "    compare: str,\n",
    "    # group: list[str],\n",
    ") -> pd.DataFrame:\n",
    "    df = (\n",
    "        df.loc[df[\"is_consumption\"] == compare]\n",
    "        .groupby(\n",
    "            [\"datetime\", \"county\", \"is_business\", \"product_type\"],\n",
    "            observed=True,\n",
    "        )[\"target\"]\n",
    "        .count()\n",
    "        .reset_index()\n",
    "    )\n",
    "    return df"
   ]
  },
  {
   "cell_type": "code",
   "execution_count": null,
   "id": "9e1f7afd-d572-4898-b524-2ead1b5bce6a",
   "metadata": {
    "execution": {
     "iopub.status.busy": "2024-08-30T18:19:13.931887Z",
     "iopub.status.idle": "2024-08-30T18:19:13.931887Z",
     "shell.execute_reply": "2024-08-30T18:19:13.931887Z",
     "shell.execute_reply.started": "2024-08-30T18:19:13.931887Z"
    }
   },
   "outputs": [],
   "source": [
    "create_prodcons_df(df, 'consumption')"
   ]
  },
  {
   "cell_type": "code",
   "execution_count": null,
   "id": "06beac1a-ec6e-4d36-ae59-81742926e6b6",
   "metadata": {
    "execution": {
     "iopub.status.busy": "2024-08-30T18:19:13.932885Z",
     "iopub.status.idle": "2024-08-30T18:19:13.932885Z",
     "shell.execute_reply": "2024-08-30T18:19:13.932885Z",
     "shell.execute_reply.started": "2024-08-30T18:19:13.932885Z"
    }
   },
   "outputs": [],
   "source": [
    "create_prodcons_df(df, 'consumption').equals(create_prodcons_df(df, 'production'))"
   ]
  },
  {
   "cell_type": "markdown",
   "id": "f29dba8e-2236-4cc7-a35d-a4fb37b4cd30",
   "metadata": {},
   "source": [
    "Yes, the first point is correct.\n",
    "For each combinations of datetime-county-is_business-product_type features there are one consumption value and one production value (including nan values)."
   ]
  },
  {
   "cell_type": "code",
   "execution_count": null,
   "id": "80ddcb3e-b4ee-4033-8e23-dde2328bdd74",
   "metadata": {
    "execution": {
     "iopub.status.busy": "2024-08-30T18:19:13.932885Z",
     "iopub.status.idle": "2024-08-30T18:19:13.932885Z",
     "shell.execute_reply": "2024-08-30T18:19:13.932885Z",
     "shell.execute_reply.started": "2024-08-30T18:19:13.932885Z"
    }
   },
   "outputs": [],
   "source": [
    "fig, ax = plt.subplots(figsize=(14, 8))\n",
    "sns.scatterplot(data=df, x=\"datetime\", y=\"target\", s=1,)\n",
    "\n",
    "plt.title(\"Target values timeline\")\n",
    "plt.xlabel(\"Date\")\n",
    "plt.ylabel(\"Target values\", rotation=0, labelpad=40)\n",
    "plt.grid(alpha=.3)\n",
    "plt.show()"
   ]
  },
  {
   "cell_type": "markdown",
   "id": "da5fcc35-e010-48b3-a398-9b9d4bac4cce",
   "metadata": {
    "execution": {
     "iopub.execute_input": "2024-02-24T11:51:53.579029Z",
     "iopub.status.busy": "2024-02-24T11:51:53.578027Z",
     "iopub.status.idle": "2024-02-24T11:51:53.583627Z",
     "shell.execute_reply": "2024-02-24T11:51:53.583114Z",
     "shell.execute_reply.started": "2024-02-24T11:51:53.578027Z"
    }
   },
   "source": [
    "- Values less than 1500 are indistinguishable, the point density is too high for this plot.\n",
    "- The target variable has seasonal and weekly cycles.\n",
    "- There are 'voids' during the New Year holidays."
   ]
  },
  {
   "cell_type": "code",
   "execution_count": null,
   "id": "ae2f0a1b-8889-464c-9043-bd807d469c1d",
   "metadata": {
    "execution": {
     "iopub.status.busy": "2024-08-30T18:19:13.933885Z",
     "iopub.status.idle": "2024-08-30T18:19:13.933885Z",
     "shell.execute_reply": "2024-08-30T18:19:13.933885Z",
     "shell.execute_reply.started": "2024-08-30T18:19:13.933885Z"
    }
   },
   "outputs": [],
   "source": [
    "# Consumption values are multiplied by (-1) for better visualisation\n",
    "\n",
    "df[\"modified_target\"] = np.where(\n",
    "    df[\"is_consumption\"] == 'consumption',\n",
    "    df[\"target\"].mul(-1),\n",
    "    df[\"target\"],\n",
    ")"
   ]
  },
  {
   "cell_type": "code",
   "execution_count": null,
   "id": "b6722578-402d-46c4-919e-b044fd558418",
   "metadata": {
    "execution": {
     "iopub.status.busy": "2024-08-30T18:19:13.934886Z",
     "iopub.status.idle": "2024-08-30T18:19:13.934886Z",
     "shell.execute_reply": "2024-08-30T18:19:13.934886Z",
     "shell.execute_reply.started": "2024-08-30T18:19:13.934886Z"
    }
   },
   "outputs": [],
   "source": [
    "fig, ax = plt.subplots(figsize=(14, 8))\n",
    "sns.scatterplot(\n",
    "    df.groupby(\n",
    "        [\"date\", \"is_consumption\", \"county\", \"product_type\"], observed=True\n",
    "    )[\"modified_target\"]\n",
    "    .mean()\n",
    "    .reset_index(name=\"modified_target\"),\n",
    "    # df,\n",
    "    x=\"date\",\n",
    "    # x=\"datetime\",\n",
    "    y=\"modified_target\",\n",
    "    hue=\"county\",\n",
    "    palette=PALETTE,\n",
    "    s=10,\n",
    ")\n",
    "\n",
    "plt.title(\n",
    "    \"Average energy consumption (below 0) or production (above 0) for each \\\n",
    "day for each county\",\n",
    "    fontsize=13,\n",
    ")\n",
    "\n",
    "plt.legend(\n",
    "    title=\"County\",\n",
    "    title_fontsize=12,\n",
    "    bbox_to_anchor=(1.005, 1),\n",
    "    loc=\"upper left\",\n",
    "    borderaxespad=0,\n",
    "    markerscale=3,\n",
    "    frameon=False,\n",
    "    fontsize=11,\n",
    ")\n",
    "\n",
    "months_locator = mdates.MonthLocator()\n",
    "ax.xaxis.set_major_locator(months_locator)\n",
    "\n",
    "plt.xticks(rotation=45)\n",
    "plt.xlabel(\"Date\")\n",
    "plt.ylabel(\"Modified target\", rotation=0, labelpad=50)\n",
    "plt.grid(alpha=0.3)\n",
    "plt.show()"
   ]
  },
  {
   "cell_type": "markdown",
   "id": "9d6bec4c-086e-4ee8-a0fa-feca8f8bbef8",
   "metadata": {
    "execution": {
     "iopub.execute_input": "2024-02-28T15:11:10.588510Z",
     "iopub.status.busy": "2024-02-28T15:11:10.588510Z",
     "iopub.status.idle": "2024-02-28T15:11:10.595158Z",
     "shell.execute_reply": "2024-02-28T15:11:10.594644Z",
     "shell.execute_reply.started": "2024-02-28T15:11:10.588510Z"
    }
   },
   "source": [
    "1. Electricity consumption and production values are increasing from year to year.\n",
    "2. Energy production in winter is significantly lower than in summer.\n",
    "3. Energy consumption in winter is bigger than in summer.\n",
    "4. During the New Year holidays, there is a decrease in electricity consumption.\n",
    "5. Harjumaa county has highest average (per day) values of energy consumption (for the entire observation period) and production (for spring-autumn period). Tartumaa has second highest values for the entire observation period except last two weeks when Valgamaa get ahead in energy production."
   ]
  },
  {
   "cell_type": "code",
   "execution_count": null,
   "id": "b2f124fe-08b2-44ea-a4a5-c1140a17e394",
   "metadata": {
    "execution": {
     "iopub.status.busy": "2024-08-30T18:19:13.934886Z",
     "iopub.status.idle": "2024-08-30T18:19:13.935884Z",
     "shell.execute_reply": "2024-08-30T18:19:13.935884Z",
     "shell.execute_reply.started": "2024-08-30T18:19:13.935884Z"
    }
   },
   "outputs": [],
   "source": [
    "# Checking the first point\n",
    "\n",
    "# Electricity consumption and production values are\n",
    "# increasing from year to year."
   ]
  },
  {
   "cell_type": "code",
   "execution_count": null,
   "id": "98b8e614-28d8-4659-ac50-4188833f5597",
   "metadata": {
    "execution": {
     "iopub.status.busy": "2024-08-30T18:19:13.935884Z",
     "iopub.status.idle": "2024-08-30T18:19:13.935884Z",
     "shell.execute_reply": "2024-08-30T18:19:13.935884Z",
     "shell.execute_reply.started": "2024-08-30T18:19:13.935884Z"
    }
   },
   "outputs": [],
   "source": [
    "# Due to only one year being fully available,\n",
    "# the other two years will be compared with respective months of 2022."
   ]
  },
  {
   "cell_type": "code",
   "execution_count": null,
   "id": "a9deea5b-6ef4-45cd-a17e-691c49d1d037",
   "metadata": {
    "execution": {
     "iopub.status.busy": "2024-08-30T18:19:13.936885Z",
     "iopub.status.idle": "2024-08-30T18:19:13.936885Z",
     "shell.execute_reply": "2024-08-30T18:19:13.936885Z",
     "shell.execute_reply.started": "2024-08-30T18:19:13.936885Z"
    }
   },
   "outputs": [],
   "source": [
    "def create_target_comparison_by_year(\n",
    "    df: pd.DataFrame,\n",
    "    first_year: int,\n",
    "    second_year: int,\n",
    ") -> pd.DataFrame:\n",
    "\n",
    "    if df[df[\"year\"] == first_year].month.unique().size == 12:\n",
    "        complete_year = first_year\n",
    "        incomplete_year = second_year\n",
    "    else:\n",
    "        complete_year = second_year\n",
    "        incomplete_year = first_year\n",
    "\n",
    "    grouped = (df\n",
    "               .loc[df[\"year\"].isin([incomplete_year, complete_year]) & df.month.isin(df[df[\"year\"] == incomplete_year].month.unique())]\n",
    "               .groupby([\"is_consumption\",\"year\",], observed=True,)[\"target\"])\n",
    "\n",
    "    return (pd\n",
    "            .merge(\n",
    "                grouped.describe(),\n",
    "                grouped.sum(),\n",
    "                on=[\"is_consumption\", \"year\"])\n",
    "            .rename(columns={\"target\": \"sum\"})\n",
    "            .reset_index()\n",
    "            .melt(id_vars=[\"year\", \"is_consumption\"])\n",
    "           )"
   ]
  },
  {
   "cell_type": "code",
   "execution_count": null,
   "id": "465e18b6-92dd-4702-bd1d-b3cf1310d572",
   "metadata": {
    "execution": {
     "iopub.status.busy": "2024-08-30T18:19:13.936885Z",
     "iopub.status.idle": "2024-08-30T18:19:13.937884Z",
     "shell.execute_reply": "2024-08-30T18:19:13.937884Z",
     "shell.execute_reply.started": "2024-08-30T18:19:13.937884Z"
    }
   },
   "outputs": [],
   "source": [
    "for year in [2021, 2023]:\n",
    "    ax = sns.catplot(\n",
    "        create_target_comparison_by_year(df, year, 2022),\n",
    "        kind=\"bar\",\n",
    "        x=\"year\",\n",
    "        y=\"value\",\n",
    "        col=\"variable\",\n",
    "        hue=\"is_consumption\",\n",
    "        sharey=False,\n",
    "        height=2.7,\n",
    "        aspect=0.6,\n",
    "    ).set_titles(\"{col_name}\")\n",
    "    ax.fig.subplots_adjust(top=0.8)\n",
    "    if year > 2022:\n",
    "        ax.fig.suptitle(f\"Comparing descriptive statistics between 2022 and \\\n",
    "{year}\")\n",
    "    else:\n",
    "        ax.fig.suptitle(f\"Comparing descriptive statistics between {year} and \\\n",
    "2022\")\n",
    "    plt.show()"
   ]
  },
  {
   "cell_type": "markdown",
   "id": "172a84d3-a9fc-4e21-b226-7b2af63ea5cf",
   "metadata": {},
   "source": [
    "Yes, the first point is correct.\n",
    "- Total sum, quartiles, means and maximum values increase from year to year. The standard deviation also increase. The minimum value does not change; it is zero. None of the descriptive statistics decrease."
   ]
  },
  {
   "cell_type": "code",
   "execution_count": null,
   "id": "195136a2-f45d-4ff1-86d4-c18a3bc1eb65",
   "metadata": {
    "execution": {
     "iopub.status.busy": "2024-08-30T18:19:13.937884Z",
     "iopub.status.idle": "2024-08-30T18:19:13.937884Z",
     "shell.execute_reply": "2024-08-30T18:19:13.937884Z",
     "shell.execute_reply.started": "2024-08-30T18:19:13.937884Z"
    }
   },
   "outputs": [],
   "source": [
    "# Checking the second point\n",
    "# It appears that the relative growth rate of energy production is\n",
    "# growing faster than the relative growth rate of consumption."
   ]
  },
  {
   "cell_type": "code",
   "execution_count": null,
   "id": "750e6582-99bc-4003-a669-4b3ebcb5bb08",
   "metadata": {
    "execution": {
     "iopub.status.busy": "2024-08-30T18:19:13.939884Z",
     "iopub.status.idle": "2024-08-30T18:19:13.940886Z",
     "shell.execute_reply": "2024-08-30T18:19:13.940886Z",
     "shell.execute_reply.started": "2024-08-30T18:19:13.940886Z"
    }
   },
   "outputs": [],
   "source": [
    "# def calculate_difference_percentage(\n",
    "#     base_df: pd.DataFrame,\n",
    "#     first_year: int,\n",
    "#     second_year: int,\n",
    "# ) -> pd.DataFrame:\n",
    "\n",
    "#     df = create_target_comparison_by_year(base_df, first_year, second_year)\n",
    "#     # .sort_values(by=[\"is_consumption\", \"year\" , \"variable\"])\n",
    "#     # df = df[df[\"variable\"].isin([\"50%\", \"max\", \"mean\", \"sum\"])]\n",
    "\n",
    "#     first_df = df[df[\"year\"] == first_year].reset_index(drop=True)\n",
    "#     second_df = df[df[\"year\"] == second_year].reset_index(drop=True)\n",
    "\n",
    "#     percent = (\n",
    "#         (second_df.value - first_df.value) / first_df.value * 100\n",
    "#     ).rename(\"percentage_difference\")\n",
    "#     second_df = pd.concat(\n",
    "#         [\n",
    "#             second_df.drop(columns=[\"value\"]),\n",
    "#             first_df[\"value\"].rename(\"previous_value\"),\n",
    "#             second_df.value,\n",
    "#             percent,\n",
    "#         ],\n",
    "#         axis=1,\n",
    "#     )\n",
    "\n",
    "#     return second_df"
   ]
  },
  {
   "cell_type": "code",
   "execution_count": null,
   "id": "565c21dd-97b4-4d79-b00b-4efbee89b0d9",
   "metadata": {
    "execution": {
     "iopub.status.busy": "2024-08-30T18:19:13.940886Z",
     "iopub.status.idle": "2024-08-30T18:19:13.941886Z",
     "shell.execute_reply": "2024-08-30T18:19:13.941886Z",
     "shell.execute_reply.started": "2024-08-30T18:19:13.941886Z"
    }
   },
   "outputs": [],
   "source": [
    "# calculate_difference_percentage(df, 2022, 2023)"
   ]
  },
  {
   "cell_type": "code",
   "execution_count": null,
   "id": "53ecb882-2be4-49e2-b505-43fe3977aa8a",
   "metadata": {
    "execution": {
     "iopub.status.busy": "2024-08-30T18:19:13.941886Z",
     "iopub.status.idle": "2024-08-30T18:19:13.942886Z",
     "shell.execute_reply": "2024-08-30T18:19:13.942886Z",
     "shell.execute_reply.started": "2024-08-30T18:19:13.942886Z"
    }
   },
   "outputs": [],
   "source": [
    "# percentage_df = pd.concat([\n",
    "#     calculate_difference_percentage(df, 2022, 2023),\n",
    "#     calculate_difference_percentage(df, 2021, 2022),\n",
    "# ]).reset_index(drop=True)\n",
    "# # percentage_df"
   ]
  },
  {
   "cell_type": "code",
   "execution_count": null,
   "id": "e3458f7e-d989-4ea8-9fa5-f44eabb75900",
   "metadata": {
    "execution": {
     "iopub.status.busy": "2024-08-30T18:19:13.942886Z",
     "iopub.status.idle": "2024-08-30T18:19:13.942886Z",
     "shell.execute_reply": "2024-08-30T18:19:13.942886Z",
     "shell.execute_reply.started": "2024-08-30T18:19:13.942886Z"
    }
   },
   "outputs": [],
   "source": [
    "# ax = sns.catplot(\n",
    "#     percentage_df,\n",
    "#     x=\"year\",\n",
    "#     y=\"percentage_difference\",\n",
    "#     row=\"is_consumption\",\n",
    "#     col=\"variable\",\n",
    "#     kind=\"bar\",\n",
    "#     hue='is_consumption',\n",
    "#     sharey=False,\n",
    "#     height=2.5,\n",
    "#     aspect=0.6,\n",
    "#     # height=3,\n",
    "#     # aspect=1,\n",
    "#     margin_titles=True\n",
    "# )\n",
    "# ax.fig.subplots_adjust(top=0.88)\n",
    "# ax.fig.suptitle('Visualisation the difference between two years in percent')\n",
    "# # ax.tick_params(axis='x', rotation=30)\n",
    "# plt.show()\n",
    "# The second bar of the first barplot is missing because median value for the corresponding previous year months (2021 year, months from 9 to 12) was 0 and for this case growth is uncountable in percent.\n",
    "# Yes, the third point is correct."
   ]
  },
  {
   "cell_type": "code",
   "execution_count": null,
   "id": "9f45e680-db0f-4f0e-bba1-c977719d09bd",
   "metadata": {
    "execution": {
     "iopub.status.busy": "2024-08-30T18:19:13.944887Z",
     "iopub.status.idle": "2024-08-30T18:19:13.944887Z",
     "shell.execute_reply": "2024-08-30T18:19:13.944887Z",
     "shell.execute_reply.started": "2024-08-30T18:19:13.944887Z"
    }
   },
   "outputs": [],
   "source": [
    "date_range = pd.date_range(df.datetime.min(), df.datetime.max(), 4)\n",
    "\n",
    "ax = sns.relplot(\n",
    "    data=df,\n",
    "    x=\"datetime\",\n",
    "    y=\"modified_target\",\n",
    "    row=\"is_business\",\n",
    "    col=\"product_type\",\n",
    "    hue=\"county\",\n",
    "    palette=PALETTE,\n",
    "    height=3,\n",
    "    s=3,\n",
    ")\n",
    "ax.set_titles(\"{col_name}\")\n",
    "ax.set(xticks=date_range)\n",
    "ax.set_xticklabels(date_range, rotation=30,)\n",
    "ax.axes[0, 0].xaxis.set_major_formatter(mdates.DateFormatter(\"%Y-%m\"))\n",
    "plt.show()"
   ]
  },
  {
   "cell_type": "markdown",
   "id": "cf19bb71-b707-41a0-99e0-630ae83ade1e",
   "metadata": {},
   "source": [
    "# Conclusion from relplot"
   ]
  },
  {
   "cell_type": "code",
   "execution_count": null,
   "id": "ac5e0275-9a31-4d11-b438-cf8b2303a677",
   "metadata": {
    "execution": {
     "iopub.status.busy": "2024-08-30T18:19:13.945887Z",
     "iopub.status.idle": "2024-08-30T18:19:13.945887Z",
     "shell.execute_reply": "2024-08-30T18:19:13.945887Z",
     "shell.execute_reply.started": "2024-08-30T18:19:13.945887Z"
    }
   },
   "outputs": [],
   "source": [
    "plt.figure(figsize=(10, 8))\n",
    "plt.rcParams[\"patch.edgecolor\"] = \"none\"\n",
    "\n",
    "ax = sns.histplot(\n",
    "    data=df[[\"county\",\"product_type\",]],\n",
    "    y=\"county\",\n",
    "    hue=\"product_type\",\n",
    "    multiple=\"stack\",\n",
    "    shrink=0.75,\n",
    "    palette=\"deep\",\n",
    ")\n",
    "\n",
    "sns.move_legend(\n",
    "    ax,\n",
    "    \"upper left\",\n",
    "    bbox_to_anchor=(1, 1),\n",
    "    title=\"product_type\",\n",
    "    frameon=False,\n",
    ")\n",
    "\n",
    "plt.title(\"Counties by product type\",)\n",
    "plt.xticks(ticks=range(0, int(2.5e5), int(2.5e4)),)\n",
    "plt.xlabel(\"Number of target values\",fontsize=11,)\n",
    "plt.ylabel(\"Estonian counties\", rotation=0, labelpad=60, fontsize=11)\n",
    "\n",
    "plt.show()\n",
    "plt.rcParams[\"patch.edgecolor\"] = \"black\""
   ]
  },
  {
   "cell_type": "markdown",
   "id": "d8a564d5-33c8-4682-815e-d80dcc8d74ad",
   "metadata": {
    "execution": {
     "iopub.execute_input": "2024-02-24T11:37:40.476604Z",
     "iopub.status.busy": "2024-02-24T11:37:40.475577Z",
     "iopub.status.idle": "2024-02-24T11:37:40.484505Z",
     "shell.execute_reply": "2024-02-24T11:37:40.482931Z",
     "shell.execute_reply.started": "2024-02-24T11:37:40.476604Z"
    }
   },
   "source": [
    "1. Counties have different numbers of total records and ratios of contract types.\n",
    "2. First place by the count of records is the 'Spot' product type, the second place is 'Fixed' product type. Third place is most likely the 'Combined' product type.\n",
    "3. It seems that for the \"spot\" product type, the number of records for all counties is approximately 60000, except for Läänemaa and Unknown counties, where the number of records is approximately 30000.\n",
    "4. Some counties don't have certain types of contracts. In the records of Läänemaa and Unknown county there is only one type of product."
   ]
  },
  {
   "cell_type": "code",
   "execution_count": null,
   "id": "89947d38-d30e-4837-b9f4-f7d4368c8bee",
   "metadata": {
    "execution": {
     "iopub.status.busy": "2024-08-30T18:19:13.946884Z",
     "iopub.status.idle": "2024-08-30T18:19:13.946884Z",
     "shell.execute_reply": "2024-08-30T18:19:13.946884Z",
     "shell.execute_reply.started": "2024-08-30T18:19:13.946884Z"
    }
   },
   "outputs": [],
   "source": [
    "# Checking the second point\n",
    "# First place by the count of records is the 'Spot' product type,\n",
    "# the second place is 'Fixed' product type.\n",
    "# Third place is most likely the 'Combined' product type."
   ]
  },
  {
   "cell_type": "code",
   "execution_count": null,
   "id": "48dc6950-cd57-4c56-8d1c-65af75e47a91",
   "metadata": {
    "execution": {
     "iopub.status.busy": "2024-08-30T18:19:13.947884Z",
     "iopub.status.idle": "2024-08-30T18:19:13.947884Z",
     "shell.execute_reply": "2024-08-30T18:19:13.947884Z",
     "shell.execute_reply.started": "2024-08-30T18:19:13.947884Z"
    }
   },
   "outputs": [],
   "source": [
    "df.groupby([\"product_type\"], observed=True)[[\"target\"]].count().sort_values(\n",
    "    \"target\", ascending=False\n",
    ")"
   ]
  },
  {
   "cell_type": "markdown",
   "id": "3197baf5-7743-465e-a630-12e678181bf2",
   "metadata": {
    "execution": {
     "iopub.execute_input": "2024-02-27T08:38:53.240544Z",
     "iopub.status.busy": "2024-02-27T08:38:53.240544Z",
     "iopub.status.idle": "2024-02-27T08:38:53.246069Z",
     "shell.execute_reply": "2024-02-27T08:38:53.245062Z",
     "shell.execute_reply.started": "2024-02-27T08:38:53.240544Z"
    }
   },
   "source": [
    "Yes, the second point is correct."
   ]
  },
  {
   "cell_type": "code",
   "execution_count": null,
   "id": "1d664017-f755-4e08-80a6-b1545d9c83e1",
   "metadata": {
    "execution": {
     "iopub.status.busy": "2024-08-30T18:19:13.948890Z",
     "iopub.status.idle": "2024-08-30T18:19:13.949888Z",
     "shell.execute_reply": "2024-08-30T18:19:13.949888Z",
     "shell.execute_reply.started": "2024-08-30T18:19:13.949888Z"
    }
   },
   "outputs": [],
   "source": [
    "# Checking the third point\n",
    "# It seems that for the \"spot\" product type, the number of records\n",
    "# for all counties is approximately 60000, except for Läänemaa and\n",
    "# Unknown counties, where the number of records is approximately 30000."
   ]
  },
  {
   "cell_type": "code",
   "execution_count": null,
   "id": "f16365af-4401-4905-abb6-cbaddbcf4f53",
   "metadata": {
    "execution": {
     "iopub.status.busy": "2024-08-30T18:19:13.949888Z",
     "iopub.status.idle": "2024-08-30T18:19:13.949888Z",
     "shell.execute_reply": "2024-08-30T18:19:13.949888Z",
     "shell.execute_reply.started": "2024-08-30T18:19:13.949888Z"
    }
   },
   "outputs": [],
   "source": [
    "df.groupby([\"county\", \"product_type\"], observed=True)[\n",
    "    [\"target\"]\n",
    "].count().query('product_type == \"Spot\"').target.unique()"
   ]
  },
  {
   "cell_type": "markdown",
   "id": "f68994ed-78ad-4ad5-b3f1-2b901c3fb935",
   "metadata": {
    "execution": {
     "iopub.execute_input": "2024-02-27T08:41:50.821383Z",
     "iopub.status.busy": "2024-02-27T08:41:50.821383Z",
     "iopub.status.idle": "2024-02-27T08:41:50.826451Z",
     "shell.execute_reply": "2024-02-27T08:41:50.825938Z",
     "shell.execute_reply.started": "2024-02-27T08:41:50.821383Z"
    }
   },
   "source": [
    "Yes, the third point is correct."
   ]
  },
  {
   "cell_type": "markdown",
   "id": "ca785142-6b21-4e0d-998b-00c3256525b7",
   "metadata": {
    "execution": {
     "iopub.execute_input": "2024-02-29T16:10:43.713639Z",
     "iopub.status.busy": "2024-02-29T16:10:43.712639Z",
     "iopub.status.idle": "2024-02-29T16:10:43.717714Z",
     "shell.execute_reply": "2024-02-29T16:10:43.717714Z",
     "shell.execute_reply.started": "2024-02-29T16:10:43.713639Z"
    }
   },
   "source": [
    "Comparing the total number of records in each subgroup (all combinations of \"county\", \"product_type\", \"is_business\", \"is_consumption\" that appear in the dataframe) due to the fact that counties have different total number of records and ratios of contract types."
   ]
  },
  {
   "cell_type": "code",
   "execution_count": null,
   "id": "e4d3a18a-bf4c-49a9-a8a2-617a877ef4c4",
   "metadata": {
    "execution": {
     "iopub.status.busy": "2024-08-30T18:19:13.950885Z",
     "iopub.status.idle": "2024-08-30T18:19:13.950885Z",
     "shell.execute_reply": "2024-08-30T18:19:13.950885Z",
     "shell.execute_reply.started": "2024-08-30T18:19:13.950885Z"
    }
   },
   "outputs": [],
   "source": [
    "# Reordering columns\n",
    "# df_categories = df_categories.copy()[[\n",
    "#     \"county\",\n",
    "#     \"product_type\",\n",
    "#     \"is_business\",\n",
    "#     \"is_consumption\",\n",
    "#     \"target\",\n",
    "#     \"county_num\",\n",
    "# ]]"
   ]
  },
  {
   "cell_type": "code",
   "execution_count": null,
   "id": "98465212-bab8-4218-a03a-aa4768ee82c0",
   "metadata": {
    "execution": {
     "iopub.status.busy": "2024-08-30T18:19:13.951884Z",
     "iopub.status.idle": "2024-08-30T18:19:13.951884Z",
     "shell.execute_reply": "2024-08-30T18:19:13.951884Z",
     "shell.execute_reply.started": "2024-08-30T18:19:13.951884Z"
    }
   },
   "outputs": [],
   "source": [
    "df_categories[\"subgroup\"] = (\n",
    "    df_categories[[\"county\", \"product_type\", \"is_business\", \"is_consumption\"]]\n",
    "    .astype(str)\n",
    "    .agg(\"-\".join, axis=1)\n",
    ")\n",
    "df_categories.head()"
   ]
  },
  {
   "cell_type": "code",
   "execution_count": null,
   "id": "ce5fba42-5227-4e3d-88d3-a482b934c6cb",
   "metadata": {
    "execution": {
     "iopub.status.busy": "2024-08-30T18:19:13.952884Z",
     "iopub.status.idle": "2024-08-30T18:19:13.952884Z",
     "shell.execute_reply": "2024-08-30T18:19:13.952884Z",
     "shell.execute_reply.started": "2024-08-30T18:19:13.952884Z"
    }
   },
   "outputs": [],
   "source": [
    "# count_df = (\n",
    "#     df.groupby([\n",
    "#         \"county\",\n",
    "#         \"product_type\",\n",
    "#         \"is_business\",\n",
    "#         \"is_consumption\",\n",
    "#     ], observed=True,)[\"target\"].count().reset_index()\n",
    "# )\n",
    "# count_df[\"subgroup\"] = (\n",
    "#     count_df[[\"county\", \"product_type\", \"is_business\", \"is_consumption\"]]\n",
    "#     .astype(str)\n",
    "#     .agg(\"-\".join, axis=1)\n",
    "# )\n",
    "# count_df.head()\n",
    "\n",
    "# first_part_df = count_df[count_df['county'].isin(count_df.county.unique()[:int(count_df.county.nunique() / 2)])]\n",
    "# second_part_df = count_df[count_df['county'].isin(count_df.county.unique()[int(count_df.county.nunique() / 2):])]"
   ]
  },
  {
   "cell_type": "code",
   "execution_count": null,
   "id": "3b7db8eb-3893-41fd-9c4d-f4bb8d403eed",
   "metadata": {
    "execution": {
     "iopub.status.busy": "2024-08-30T18:19:13.953884Z",
     "iopub.status.idle": "2024-08-30T18:19:13.953884Z",
     "shell.execute_reply": "2024-08-30T18:19:13.953884Z",
     "shell.execute_reply.started": "2024-08-30T18:19:13.953884Z"
    }
   },
   "outputs": [],
   "source": [
    "df_categories"
   ]
  },
  {
   "cell_type": "code",
   "execution_count": null,
   "id": "be5f71f7-51b7-43a2-bf7d-6ee4013ffc2a",
   "metadata": {
    "execution": {
     "iopub.status.busy": "2024-08-30T18:19:13.954884Z",
     "iopub.status.idle": "2024-08-30T18:19:13.954884Z",
     "shell.execute_reply": "2024-08-30T18:19:13.954884Z",
     "shell.execute_reply.started": "2024-08-30T18:19:13.954884Z"
    }
   },
   "outputs": [],
   "source": [
    "first_part_df = df_categories[df_categories['county'].isin(df_categories.county.unique()[:int(df_categories.county.nunique() / 2)])]\n",
    "second_part_df = df_categories[df_categories['county'].isin(df_categories.county.unique()[int(df_categories.county.nunique() / 2):])]"
   ]
  },
  {
   "cell_type": "code",
   "execution_count": null,
   "id": "e4ab34da-24a2-48a7-a87a-acf95470932e",
   "metadata": {
    "execution": {
     "iopub.status.busy": "2024-08-30T18:19:13.954884Z",
     "iopub.status.idle": "2024-08-30T18:19:13.954884Z",
     "shell.execute_reply": "2024-08-30T18:19:13.954884Z",
     "shell.execute_reply.started": "2024-08-30T18:19:13.954884Z"
    }
   },
   "outputs": [],
   "source": [
    "rows = 1\n",
    "cols = 2\n",
    "categories = [first_part_df, second_part_df]\n",
    "\n",
    "fig, ax = plt.subplots(\n",
    "    nrows=rows,\n",
    "    ncols=cols,\n",
    "    figsize=(12, 14)\n",
    ")\n",
    "plt.subplots_adjust(\n",
    "    wspace=1.1,\n",
    ")\n",
    "for ind, column in enumerate(categories):\n",
    "    plt.subplot(rows, cols, ind + 1)\n",
    "    data = categories[ind]\n",
    "    ax = sns.barplot(\n",
    "        data=data,\n",
    "        x='target',\n",
    "        y='subgroup',\n",
    "        hue='county',\n",
    "        palette=PALETTE,\n",
    "    )\n",
    "    ax.set_yticks([i for i in range(data.subgroup.nunique())])\n",
    "    ax.set_yticklabels(\n",
    "        data.subgroup.apply(lambda x: '-'.join(x.split('-')[-3:])),)\n",
    "    if ind == 0:\n",
    "        ax.legend_.remove()\n",
    "    else:\n",
    "        sns.move_legend(\n",
    "            ax,\n",
    "            \"upper left\",\n",
    "            bbox_to_anchor=(1, 1),\n",
    "            title='County',\n",
    "            frameon=False,\n",
    "        )\n",
    "    plt.ylabel(ylabel=\"\",)\n",
    "plt.show()"
   ]
  },
  {
   "cell_type": "code",
   "execution_count": null,
   "id": "5c429c8e-f3df-4fd3-9a7d-2e8a86e1bdf5",
   "metadata": {
    "execution": {
     "iopub.status.busy": "2024-08-30T18:19:13.955885Z",
     "iopub.status.idle": "2024-08-30T18:19:13.955885Z",
     "shell.execute_reply": "2024-08-30T18:19:13.955885Z",
     "shell.execute_reply.started": "2024-08-30T18:19:13.955885Z"
    }
   },
   "outputs": [],
   "source": [
    "df_categories['target'].value_counts()"
   ]
  },
  {
   "cell_type": "markdown",
   "id": "83e9ce34-6ecf-4233-a9d9-79807054108c",
   "metadata": {
    "execution": {
     "iopub.execute_input": "2024-03-02T21:21:37.999458Z",
     "iopub.status.busy": "2024-03-02T21:21:37.998460Z",
     "iopub.status.idle": "2024-03-02T21:21:38.002588Z",
     "shell.execute_reply": "2024-03-02T21:21:38.002075Z",
     "shell.execute_reply.started": "2024-03-02T21:21:37.999458Z"
    }
   },
   "source": [
    "# conclusions from BARPLOT"
   ]
  },
  {
   "cell_type": "code",
   "execution_count": null,
   "id": "c6cd7743-d394-4d30-bdb2-1ee9e6651c7b",
   "metadata": {
    "execution": {
     "iopub.status.busy": "2024-08-30T18:19:13.956887Z",
     "iopub.status.idle": "2024-08-30T18:19:13.956887Z",
     "shell.execute_reply": "2024-08-30T18:19:13.956887Z",
     "shell.execute_reply.started": "2024-08-30T18:19:13.956887Z"
    }
   },
   "outputs": [],
   "source": [
    "rows = 4\n",
    "cols = 1\n",
    "categories = ['county', 'is_business', 'product_type', 'is_consumption']\n",
    "\n",
    "fig, ax = plt.subplots(\n",
    "    nrows=rows,\n",
    "    ncols=cols,\n",
    "    figsize=(12, 15),\n",
    ")\n",
    "\n",
    "for ind, column in enumerate(categories):\n",
    "    plt.subplot(rows, cols, ind + 1)\n",
    "    data = (df[column].value_counts(\n",
    "        normalize=True).rename(\"percentage\").mul(100).reset_index().round(2))\n",
    "\n",
    "    # Rounding for total sum == 100.0\n",
    "    data['percentage'] = (data['percentage'].transform(lambda x: pd.Series({\n",
    "        x.index[0]: (100 - x.iloc[1:].sum())\n",
    "    }).combine_first(x)))\n",
    "\n",
    "    barplot = sns.barplot(\n",
    "        data=data,\n",
    "        y=column,\n",
    "        x=\"percentage\",\n",
    "        hue=column,\n",
    "        orient='h',\n",
    "        legend=False,\n",
    "        # palette=PALETTE,\n",
    "    )\n",
    "    for container in barplot.containers:\n",
    "        barplot.bar_label(\n",
    "            container,\n",
    "            fmt=f\"%.{2}f\",\n",
    "        )\n",
    "\n",
    "    # plt.legend('', frameon=False)\n",
    "    plt.ylabel(\n",
    "        column,\n",
    "        rotation=0,\n",
    "        labelpad=60,\n",
    "    )\n",
    "\n",
    "fig.align_ylabels()\n",
    "plt.show()"
   ]
  },
  {
   "cell_type": "markdown",
   "id": "4f60127d-6f40-4b5a-9690-1f5e4bbed6ef",
   "metadata": {},
   "source": [
    "# conclusions from BARPLOT"
   ]
  },
  {
   "cell_type": "code",
   "execution_count": null,
   "id": "feca46a7-35f7-4a2a-a431-fe1e2e9f875e",
   "metadata": {
    "execution": {
     "iopub.status.busy": "2024-08-30T18:19:13.957887Z",
     "iopub.status.idle": "2024-08-30T18:19:13.957887Z",
     "shell.execute_reply": "2024-08-30T18:19:13.957887Z",
     "shell.execute_reply.started": "2024-08-30T18:19:13.957887Z"
    }
   },
   "outputs": [],
   "source": [
    "# target_business = sns.relplot(\n",
    "#     data=df,\n",
    "#     x=\"datetime\",\n",
    "#     y=\"modified_target\",\n",
    "#     col=\"is_business\",\n",
    "#     hue=\"county\",\n",
    "#     height = 8,\n",
    "#     # aspect = 1.6,\n",
    "#     # size=\"size\",\n",
    "#     # style=\"sex\",\n",
    "#     palette=PALETTE,\n",
    "#     s=1,\n",
    "# )\n",
    "# # l = target_business._legend"
   ]
  },
  {
   "cell_type": "code",
   "execution_count": null,
   "id": "43552525-82b8-46b0-bb03-877212acd715",
   "metadata": {
    "execution": {
     "iopub.status.busy": "2024-08-30T18:19:13.958886Z",
     "iopub.status.idle": "2024-08-30T18:19:13.958886Z",
     "shell.execute_reply": "2024-08-30T18:19:13.958886Z",
     "shell.execute_reply.started": "2024-08-30T18:19:13.958886Z"
    }
   },
   "outputs": [],
   "source": [
    "# fig, ax = plt.subplots(figsize=(18, 8))\n",
    "# sns.boxenplot(\n",
    "#     data=df,\n",
    "#     x=\"county\",\n",
    "#     y=\"target\",\n",
    "#     hue=\"is_consumption\",\n",
    "#     # k_depth = 'full'\n",
    "#     # split=True,\n",
    "#     # style='is_business',\n",
    "# )\n",
    "\n",
    "# plt.title(\n",
    "#     \"Comparison of energy production and consumption in each county\"\n",
    "# )\n",
    "# # plt.legend(\n",
    "# #     bbox_to_anchor=(1.005, 1),\n",
    "# #     loc=\"upper left\",\n",
    "# #     borderaxespad=0,\n",
    "# #     # markerscale=3,\n",
    "# # )\n",
    "\n",
    "# for i in range(df.county.nunique()):\n",
    "#     ax.axvline(\n",
    "#         i -.5,\n",
    "#         color=\"black\",\n",
    "#         alpha=.2\n",
    "#     )\n",
    "\n",
    "# plt.xticks(rotation=45)\n",
    "\n",
    "# plt.yscale('log')\n",
    "# # plt.grid(axis='y',alpha=.2)\n",
    "\n",
    "# plt.show()"
   ]
  },
  {
   "cell_type": "code",
   "execution_count": null,
   "id": "890aa420-aacd-4549-af3b-b9c8a0c03793",
   "metadata": {
    "execution": {
     "iopub.status.busy": "2024-08-30T18:19:13.958886Z",
     "iopub.status.idle": "2024-08-30T18:19:13.958886Z",
     "shell.execute_reply": "2024-08-30T18:19:13.958886Z",
     "shell.execute_reply.started": "2024-08-30T18:19:13.958886Z"
    }
   },
   "outputs": [],
   "source": [
    "data = (\n",
    "    df.groupby([\"date\", \"product_type\", \"county\"], observed=True)[\"target\"]\n",
    "    .mean()\n",
    "    .reset_index(name=\"target\")\n",
    ")\n",
    "data = data.astype({\"date\": \"datetime64[ns]\"})"
   ]
  },
  {
   "cell_type": "code",
   "execution_count": null,
   "id": "08353ac0-22d1-4c86-a651-715abfa5d981",
   "metadata": {
    "execution": {
     "iopub.status.busy": "2024-08-30T18:19:13.959886Z",
     "iopub.status.idle": "2024-08-30T18:19:13.959886Z",
     "shell.execute_reply": "2024-08-30T18:19:13.959886Z",
     "shell.execute_reply.started": "2024-08-30T18:19:13.959886Z"
    }
   },
   "outputs": [],
   "source": [
    "# Visualization of missing data and zeros using lineplot of the daily average\n",
    "\n",
    "plt.figure(figsize=(14, 8))\n",
    "\n",
    "ax = sns.lineplot(\n",
    "    data=data,\n",
    "    x=\"date\",\n",
    "    y=\"target\",\n",
    "    style=\"product_type\",\n",
    "    hue=\"county\",\n",
    "    lw=1,\n",
    "    palette=PALETTE,\n",
    ")\n",
    "ax.grid()\n",
    "ax.set_yscale('log')\n",
    "ax.legend(loc=\"upper left\", bbox_to_anchor=(1.005, 1), frameon=False)\n",
    "plt.show()"
   ]
  },
  {
   "cell_type": "code",
   "execution_count": null,
   "id": "53ab753d-b2c5-4e0c-8494-965283ddab08",
   "metadata": {
    "execution": {
     "iopub.status.busy": "2024-08-30T18:19:13.960884Z",
     "iopub.status.idle": "2024-08-30T18:19:13.960884Z",
     "shell.execute_reply": "2024-08-30T18:19:13.960884Z",
     "shell.execute_reply.started": "2024-08-30T18:19:13.960884Z"
    }
   },
   "outputs": [],
   "source": [
    "data.query('county == \"Saaremaa\" and \"2021-02-01\" <= date <= \"2021-02-01\" ')"
   ]
  },
  {
   "cell_type": "code",
   "execution_count": null,
   "id": "fc7f3ba9-c71d-429d-a3c4-4209bb78a494",
   "metadata": {
    "execution": {
     "iopub.status.busy": "2024-08-30T18:19:13.960884Z",
     "iopub.status.idle": "2024-08-30T18:19:13.961886Z",
     "shell.execute_reply": "2024-08-30T18:19:13.961886Z",
     "shell.execute_reply.started": "2024-08-30T18:19:13.961886Z"
    }
   },
   "outputs": [],
   "source": [
    "data.query('product_type == \"general_service\" and county == \"Pärnumaa\" and (\"2021-02-01\" < date < \"2021-03-01\")')"
   ]
  },
  {
   "cell_type": "code",
   "execution_count": null,
   "id": "532b5a62-cde1-47a3-bfc8-1f49513af5b6",
   "metadata": {
    "execution": {
     "iopub.status.busy": "2024-08-30T18:19:13.961886Z",
     "iopub.status.idle": "2024-08-30T18:19:13.961886Z",
     "shell.execute_reply": "2024-08-30T18:19:13.961886Z",
     "shell.execute_reply.started": "2024-08-30T18:19:13.961886Z"
    }
   },
   "outputs": [],
   "source": [
    "data.county.unique().tolist()"
   ]
  },
  {
   "cell_type": "code",
   "execution_count": null,
   "id": "f8fac409-8f0a-4c06-98b7-59b2aacb7311",
   "metadata": {
    "execution": {
     "iopub.status.busy": "2024-08-30T18:19:13.962887Z",
     "iopub.status.idle": "2024-08-30T18:19:13.962887Z",
     "shell.execute_reply": "2024-08-30T18:19:13.962887Z",
     "shell.execute_reply.started": "2024-08-30T18:19:13.962887Z"
    }
   },
   "outputs": [],
   "source": [
    "# df_for_missing = train_df.drop(columns=['data_block_id', 'row_id', 'prediction_unit_id']).copy()"
   ]
  },
  {
   "cell_type": "code",
   "execution_count": null,
   "id": "0f120f31-de39-41d6-b8ed-f3b3c2ae5e15",
   "metadata": {
    "execution": {
     "iopub.status.busy": "2024-08-30T18:19:14.043889Z",
     "iopub.status.idle": "2024-08-30T18:19:14.043889Z",
     "shell.execute_reply": "2024-08-30T18:19:14.043889Z",
     "shell.execute_reply.started": "2024-08-30T18:19:14.043889Z"
    }
   },
   "outputs": [],
   "source": [
    "# # Renaming to avoid confusion and improve readability\n",
    "# values_mapper = {\n",
    "#     \"county\": county_id_to_name_map,\n",
    "#     \"is_business\": {\n",
    "#         0: \"not_business\",\n",
    "#         1: \"business\"\n",
    "#     },\n",
    "#     \"is_consumption\": {\n",
    "#         0: \"production\",\n",
    "#         1: \"consumption\"\n",
    "#     },\n",
    "#     \"product_type\": {\n",
    "#         0: \"Combined\",\n",
    "#         1: \"Fixed\",\n",
    "#         2: \"General service\",\n",
    "#         3: \"Spot\",\n",
    "#     },\n",
    "# }\n",
    "\n",
    "# for column in values_mapper:\n",
    "#     df_for_missing[column] = df_for_missing[column].map(values_mapper[column])\n",
    "\n",
    "# df_for_missing = df_for_missing.astype({\n",
    "#     \"county\": \"category\",\n",
    "#     \"is_business\": \"category\",\n",
    "#     \"product_type\": \"category\",\n",
    "#     \"is_consumption\": \"category\",\n",
    "#     \"datetime\": \"datetime64[ns]\",\n",
    "# })"
   ]
  },
  {
   "cell_type": "code",
   "execution_count": null,
   "id": "18cdcc8d-17df-44b5-a2a2-0feadfd3c1cf",
   "metadata": {
    "execution": {
     "iopub.status.busy": "2024-08-30T18:19:14.044885Z",
     "iopub.status.idle": "2024-08-30T18:19:14.044885Z",
     "shell.execute_reply": "2024-08-30T18:19:14.044885Z",
     "shell.execute_reply.started": "2024-08-30T18:19:14.044885Z"
    }
   },
   "outputs": [],
   "source": [
    "df_for_missing = df[[\n",
    "    'county', 'is_business', 'product_type', 'target', 'is_consumption',\n",
    "    'datetime'\n",
    "]].copy()\n",
    "\n",
    "df_for_missing['hour_stamp'] = (\n",
    "    (df_for_missing['datetime'] - df_for_missing['datetime'].min()) /\n",
    "    pd.Timedelta(hours=1)).astype(int)\n",
    "\n",
    "df_for_missing[[\n",
    "    'hour_stamp',\n",
    "    'datetime',\n",
    "]].max()"
   ]
  },
  {
   "cell_type": "code",
   "execution_count": null,
   "id": "2276ef22-f606-4a08-bfab-03aaa5b2fc9a",
   "metadata": {
    "execution": {
     "iopub.status.busy": "2024-08-30T18:19:14.045884Z",
     "iopub.status.idle": "2024-08-30T18:19:14.045884Z",
     "shell.execute_reply": "2024-08-30T18:19:14.045884Z",
     "shell.execute_reply.started": "2024-08-30T18:19:14.045884Z"
    }
   },
   "outputs": [],
   "source": [
    "df_for_missing['group_index'] = df_for_missing.groupby([\n",
    "    \"county\",\n",
    "    \"is_business\",\n",
    "    \"product_type\",\n",
    "    \"is_consumption\",\n",
    "], observed=True).ngroup()\n",
    "\n",
    "df_for_missing = df_for_missing.sort_values(['hour_stamp', 'group_index'])"
   ]
  },
  {
   "cell_type": "code",
   "execution_count": null,
   "id": "e46573be-7862-4b82-acbf-fa8c8dbb0e8d",
   "metadata": {
    "execution": {
     "iopub.status.busy": "2024-08-30T18:19:14.046885Z",
     "iopub.status.idle": "2024-08-30T18:19:14.046885Z",
     "shell.execute_reply": "2024-08-30T18:19:14.046885Z",
     "shell.execute_reply.started": "2024-08-30T18:19:14.046885Z"
    }
   },
   "outputs": [],
   "source": [
    "vl = df_for_missing.values"
   ]
  },
  {
   "cell_type": "code",
   "execution_count": null,
   "id": "89da2714-2f8f-44e3-9210-6e17c9da3acd",
   "metadata": {
    "execution": {
     "iopub.status.busy": "2024-08-30T18:19:14.047885Z",
     "iopub.status.idle": "2024-08-30T18:19:14.047885Z",
     "shell.execute_reply": "2024-08-30T18:19:14.047885Z",
     "shell.execute_reply.started": "2024-08-30T18:19:14.047885Z"
    }
   },
   "outputs": [],
   "source": [
    "vl[0]"
   ]
  },
  {
   "cell_type": "code",
   "execution_count": null,
   "id": "270aa9f6-fb1c-41a5-80e8-2e0adb51670c",
   "metadata": {
    "execution": {
     "iopub.status.busy": "2024-08-30T18:19:14.047885Z",
     "iopub.status.idle": "2024-08-30T18:19:14.048884Z",
     "shell.execute_reply": "2024-08-30T18:19:14.048884Z",
     "shell.execute_reply.started": "2024-08-30T18:19:14.048884Z"
    }
   },
   "outputs": [],
   "source": [
    "df_for_missing.head()"
   ]
  },
  {
   "cell_type": "code",
   "execution_count": null,
   "id": "bb010ba8-e84d-43ac-a224-87ea38566d89",
   "metadata": {
    "execution": {
     "iopub.status.busy": "2024-08-30T18:19:14.049887Z",
     "iopub.status.idle": "2024-08-30T18:19:14.049887Z",
     "shell.execute_reply": "2024-08-30T18:19:14.049887Z",
     "shell.execute_reply.started": "2024-08-30T18:19:14.049887Z"
    }
   },
   "outputs": [],
   "source": [
    "df_for_missing"
   ]
  },
  {
   "cell_type": "code",
   "execution_count": null,
   "id": "e8a625ef-60dc-4312-be89-f626f78e9451",
   "metadata": {
    "execution": {
     "iopub.status.busy": "2024-08-30T18:19:14.050886Z",
     "iopub.status.idle": "2024-08-30T18:19:14.050886Z",
     "shell.execute_reply": "2024-08-30T18:19:14.050886Z",
     "shell.execute_reply.started": "2024-08-30T18:19:14.050886Z"
    }
   },
   "outputs": [],
   "source": [
    "missmap = np.empty(\n",
    "    (df_for_missing.hour_stamp.max() + 1, df_for_missing['group_index'].nunique(),))\n",
    "missmap.fill(np.nan)\n",
    "for obs in df_for_missing.values:\n",
    "    missmap[int(obs[6]), (obs[7])] = 0 if obs[3]==0 else 1\n",
    "missmap = missmap.T"
   ]
  },
  {
   "cell_type": "code",
   "execution_count": null,
   "id": "ac9a75d0-3d75-4971-889b-2a60a7812e67",
   "metadata": {
    "execution": {
     "iopub.status.busy": "2024-08-30T18:19:14.051887Z",
     "iopub.status.idle": "2024-08-30T18:19:14.051887Z",
     "shell.execute_reply": "2024-08-30T18:19:14.051887Z",
     "shell.execute_reply.started": "2024-08-30T18:19:14.051887Z"
    }
   },
   "outputs": [],
   "source": [
    "# sns.heatmap(\n",
    "#     [\n",
    "#         [1, 0, 0, 0, 1],\n",
    "#         [1, np.NaN, np.NaN, np.NaN, 1],\n",
    "#         [1, 1, 1, 1, 1],\n",
    "#     ],\n",
    "#     # cmap=\"Paired\",\n",
    "#     cmap='viridis',\n",
    "#     cbar=False,\n",
    "# )"
   ]
  },
  {
   "cell_type": "code",
   "execution_count": null,
   "id": "4954d943-8841-45d0-8bc3-a0b54cc5d40c",
   "metadata": {
    "execution": {
     "iopub.status.busy": "2024-08-30T18:19:14.052887Z",
     "iopub.status.idle": "2024-08-30T18:19:14.052887Z",
     "shell.execute_reply": "2024-08-30T18:19:14.052887Z",
     "shell.execute_reply.started": "2024-08-30T18:19:14.052887Z"
    }
   },
   "outputs": [],
   "source": [
    "# fig, ax = plt.subplots(figsize=(20, 80))\n",
    "# sns.heatmap(\n",
    "#     missmap,\n",
    "#     # cmap='Paired',\n",
    "#     cmap=\"viridis\",\n",
    "#     cbar=False,\n",
    "# )\n",
    "# missmap = missmap.T\n",
    "plt.figure(figsize=(20, 8))\n",
    "sns.heatmap(\n",
    "    missmap,\n",
    "    # cmap='Paired',\n",
    "    cmap=\"viridis\",\n",
    "    cbar=True,\n",
    ")\n",
    "plt.show()"
   ]
  },
  {
   "cell_type": "code",
   "execution_count": null,
   "id": "45c9b6be-536e-4d19-b4c0-a156e3656c38",
   "metadata": {
    "execution": {
     "iopub.status.busy": "2024-08-30T18:19:14.053888Z",
     "iopub.status.idle": "2024-08-30T18:19:14.053888Z",
     "shell.execute_reply": "2024-08-30T18:19:14.053888Z",
     "shell.execute_reply.started": "2024-08-30T18:19:14.053888Z"
    }
   },
   "outputs": [],
   "source": [
    "simple_df = pd.DataFrame({'a': range(1, 6), 'b': range(-20, -15), 'c': range(123, 128)})\n",
    "simple_df"
   ]
  },
  {
   "cell_type": "code",
   "execution_count": null,
   "id": "1916b2df-6920-472c-9bb7-4d202d660399",
   "metadata": {
    "execution": {
     "iopub.status.busy": "2024-08-30T18:19:14.054883Z",
     "iopub.status.idle": "2024-08-30T18:19:14.054883Z",
     "shell.execute_reply": "2024-08-30T18:19:14.054883Z",
     "shell.execute_reply.started": "2024-08-30T18:19:14.054883Z"
    }
   },
   "outputs": [],
   "source": [
    "test = df.assign(\n",
    "    category_index=df.groupby(\n",
    "        [\n",
    "            \"county\",\n",
    "            \"is_business\",\n",
    "            \"product_type\",\n",
    "            \"is_consumption\",\n",
    "        ],\n",
    "        observed=True,\n",
    "    ).ngroup()\n",
    ")[[\"datetime\", \"target\", \"category_index\"]]\n",
    "test[\"datetime\"] = (\n",
    "    (test[\"datetime\"] - test[\"datetime\"].min()) / pd.Timedelta(hours=1)\n",
    ").astype(int)\n",
    "test = test.rename(columns={\"datetime\": \"hour_stamp\"})\n",
    "test.target = test.target.where(((test.target == 0) + (test.target.isna())), 1)\n",
    "test = test.pivot(columns='category_index', index='hour_stamp', values='target' )\n",
    "\n",
    "test.head()"
   ]
  },
  {
   "cell_type": "code",
   "execution_count": null,
   "id": "d08ad6c1-caba-4c5c-85a9-a682a8fbc764",
   "metadata": {
    "execution": {
     "iopub.status.busy": "2024-08-30T18:19:14.055889Z",
     "iopub.status.idle": "2024-08-30T18:19:14.055889Z",
     "shell.execute_reply": "2024-08-30T18:19:14.055889Z",
     "shell.execute_reply.started": "2024-08-30T18:19:14.055889Z"
    }
   },
   "outputs": [],
   "source": [
    "from matplotlib.colors import ListedColormap\n",
    "\n",
    "plt.figure(figsize=(24, 8))\n",
    "\n",
    "cmap = ListedColormap([\"y\", \"forestgreen\"])\n",
    "xticks = 19  # Desired number -1\n",
    "max_hour_range = test.index[-1]\n",
    "\n",
    "ax = sns.heatmap(\n",
    "    test.T,\n",
    "    cmap=cmap,\n",
    "    cbar_kws={\n",
    "        \"shrink\": 0.5,\n",
    "        \"pad\": 0.01,\n",
    "        \"aspect\": 25,\n",
    "        \"ticks\": [0.25, 0.75],\n",
    "    },\n",
    ")\n",
    "colorbar = ax.collections[0].colorbar\n",
    "colorbar.set_ticklabels([\"0\", \">0\"])\n",
    "\n",
    "plt.xticks(\n",
    "    ticks=range(0, max_hour_range, int(max_hour_range / xticks)),\n",
    "    labels=range(0, max_hour_range, int(max_hour_range / xticks)),\n",
    "    rotation=45,\n",
    ")\n",
    "plt.show()"
   ]
  },
  {
   "cell_type": "markdown",
   "id": "90aeb73a-1157-4150-86be-dfd17bf246eb",
   "metadata": {},
   "source": [
    "# CONCLUSION FROM HEATMAP"
   ]
  },
  {
   "cell_type": "code",
   "execution_count": null,
   "id": "76f5b406-72b9-4e3b-8fae-0f383beff43c",
   "metadata": {
    "execution": {
     "iopub.status.busy": "2024-08-30T18:19:14.056884Z",
     "iopub.status.idle": "2024-08-30T18:19:14.056884Z",
     "shell.execute_reply": "2024-08-30T18:19:14.056884Z",
     "shell.execute_reply.started": "2024-08-30T18:19:14.056884Z"
    }
   },
   "outputs": [],
   "source": [
    "def target_percentage_in_subgroup(\n",
    "    df: pd.DataFrame, feature: str, broken_down_by: str, target: str\n",
    ") -> pd.DataFrame:\n",
    "    df = (\n",
    "        df.groupby([broken_down_by, feature], observed=True)[[target]]\n",
    "        .sum()\n",
    "        .groupby(level=0, observed=True)\n",
    "        .apply(lambda x: x * 100 / x.sum())\n",
    "        .reset_index(level=0, drop=True)\n",
    "        .reset_index()\n",
    "        .rename(columns={\"target\": \"percentage\"})\n",
    "    )\n",
    "    return df"
   ]
  },
  {
   "cell_type": "code",
   "execution_count": null,
   "id": "08d86bc8-209c-4ab8-9bb6-1fedf70639c5",
   "metadata": {
    "editable": true,
    "execution": {
     "iopub.status.busy": "2024-08-30T18:19:14.057888Z",
     "iopub.status.idle": "2024-08-30T18:19:14.057888Z",
     "shell.execute_reply": "2024-08-30T18:19:14.057888Z",
     "shell.execute_reply.started": "2024-08-30T18:19:14.057888Z"
    },
    "slideshow": {
     "slide_type": ""
    },
    "tags": []
   },
   "outputs": [],
   "source": [
    "def plot_for_categorical_feature(\n",
    "    df: pd.DataFrame,\n",
    "    broken_down_by: str,\n",
    "    features_list: list[str],\n",
    "    target: str,\n",
    "):\n",
    "    length = len(features_list)\n",
    "    fig, axs = plt.subplots(\n",
    "        nrows=length,\n",
    "        ncols=1,\n",
    "        figsize=(16, 15),\n",
    "    )\n",
    "    fig.tight_layout(pad=5)\n",
    "\n",
    "    for idx, feature in enumerate(features_list):\n",
    "        plt.subplot(length, 1, 1 + idx)\n",
    "        data = target_percentage_in_subgroup(\n",
    "            df, feature, broken_down_by, target\n",
    "        )\n",
    "\n",
    "        barplot = sns.barplot(\n",
    "            data=data,\n",
    "            x=\"percentage\",\n",
    "            y=feature,\n",
    "            hue=broken_down_by,\n",
    "        )\n",
    "\n",
    "        for container in barplot.containers:\n",
    "            barplot.bar_label(\n",
    "                container,\n",
    "                fmt=\"%.2f\",\n",
    "            )\n",
    "\n",
    "        plt.title(f\"{feature} broken down by {broken_down_by}\")\n",
    "    plt.show()"
   ]
  },
  {
   "cell_type": "code",
   "execution_count": null,
   "id": "d1303764-89e7-4c93-9033-b1321388f163",
   "metadata": {
    "execution": {
     "iopub.status.busy": "2024-08-30T18:19:14.058885Z",
     "iopub.status.idle": "2024-08-30T18:19:14.058885Z",
     "shell.execute_reply": "2024-08-30T18:19:14.058885Z",
     "shell.execute_reply.started": "2024-08-30T18:19:14.058885Z"
    }
   },
   "outputs": [],
   "source": [
    "plot_for_categorical_feature(\n",
    "    df,\n",
    "    \"is_consumption\",\n",
    "    [\"county\", \"is_business\", \"product_type\"],\n",
    "    \"target\",\n",
    ")"
   ]
  },
  {
   "cell_type": "code",
   "execution_count": null,
   "id": "5b652891-b8fa-4213-8c92-64749cd66ddd",
   "metadata": {
    "execution": {
     "iopub.status.busy": "2024-08-30T18:19:14.059887Z",
     "iopub.status.idle": "2024-08-30T18:19:14.059887Z",
     "shell.execute_reply": "2024-08-30T18:19:14.059887Z",
     "shell.execute_reply.started": "2024-08-30T18:19:14.059887Z"
    }
   },
   "outputs": [],
   "source": [
    "fig, ax = plt.subplots(figsize=(10, 2))\n",
    "length = 24\n",
    "\n",
    "sns.lineplot(\n",
    "    data=[np.sin((2 * i * np.pi / (length))) for i in range(length)],\n",
    ")\n",
    "sns.lineplot(\n",
    "    data=[np.cos(i / (length / 2 / np.pi)) for i in range(length)],\n",
    ")\n",
    "# sns.lineplot(\n",
    "#     data=[np.sin((i * np.pi / 7)) for i in range(length)],\n",
    "# )\n",
    "# sns.lineplot(\n",
    "#     data=[np.tan((i / (len / np.pi)) + np.pi/2 + np.pi/len) for i in range(len)],\n",
    "# )\n",
    "\n",
    "# plt.xticks(range(-1, 25))\n",
    "# plt.yscale('symlog')\n",
    "plt.grid()\n",
    "plt.show()"
   ]
  },
  {
   "cell_type": "markdown",
   "id": "a24f0279-5e57-4617-84d5-d75821221ebf",
   "metadata": {},
   "source": [
    "# Feature Engineering"
   ]
  },
  {
   "cell_type": "code",
   "execution_count": null,
   "id": "abed618a-d92a-4a17-a9ac-5c8b1a68211b",
   "metadata": {
    "execution": {
     "iopub.status.busy": "2024-08-30T18:19:14.060885Z",
     "iopub.status.idle": "2024-08-30T18:19:14.060885Z",
     "shell.execute_reply": "2024-08-30T18:19:14.060885Z",
     "shell.execute_reply.started": "2024-08-30T18:19:14.060885Z"
    },
    "scrolled": true
   },
   "outputs": [],
   "source": [
    "df_hours = df.copy()\n",
    "\n",
    "hours_ago = (\n",
    "    [i for i in range(1, 25)]\n",
    "    + [24 * i for i in range(2, 8)]\n",
    "    + [168 * i for i in range(2, 9)]\n",
    "    + [672 * i for i in range(3, 13)]\n",
    ")\n",
    "for h in hours_ago:\n",
    "    df_hours[f\"tm_{h}h\"] = df_hours[\"modified_target\"].shift(h)\n",
    "df_hours.info()"
   ]
  },
  {
   "cell_type": "code",
   "execution_count": null,
   "id": "b23f9b85-42e8-414a-80df-a01be08a0bca",
   "metadata": {
    "execution": {
     "iopub.status.busy": "2024-08-30T18:19:14.061886Z",
     "iopub.status.idle": "2024-08-30T18:19:14.061886Z",
     "shell.execute_reply": "2024-08-30T18:19:14.061886Z",
     "shell.execute_reply.started": "2024-08-30T18:19:14.061886Z"
    },
    "scrolled": true
   },
   "outputs": [],
   "source": [
    "df[\"tm_1h\"] = df[\"modified_target\"].shift(1)"
   ]
  },
  {
   "cell_type": "code",
   "execution_count": null,
   "id": "50b384c2-3115-4a9d-b4d1-13e4c0ae34fc",
   "metadata": {
    "execution": {
     "iopub.status.busy": "2024-08-30T18:19:14.062887Z",
     "iopub.status.idle": "2024-08-30T18:19:14.062887Z",
     "shell.execute_reply": "2024-08-30T18:19:14.062887Z",
     "shell.execute_reply.started": "2024-08-30T18:19:14.062887Z"
    },
    "scrolled": true
   },
   "outputs": [],
   "source": [
    "df.shift(periods=1)"
   ]
  },
  {
   "cell_type": "code",
   "execution_count": null,
   "id": "18a35937-f580-488f-ae59-ef17e4fc5fd3",
   "metadata": {
    "execution": {
     "iopub.status.busy": "2024-08-30T18:19:14.063886Z",
     "iopub.status.idle": "2024-08-30T18:19:14.063886Z",
     "shell.execute_reply": "2024-08-30T18:19:14.063886Z",
     "shell.execute_reply.started": "2024-08-30T18:19:14.063886Z"
    }
   },
   "outputs": [],
   "source": [
    "# def add_lags(df):\n",
    "#     target_map = df['PJME_MW'].to_dict()\n",
    "#     df['lag1'] = (df.index - pd.Timedelta('364 days')).map(target_map)\n",
    "#     df['lag2'] = (df.index - pd.Timedelta('728 days')).map(target_map)\n",
    "#     df['lag3'] = (df.index - pd.Timedelta('1092 days')).map(target_map)\n",
    "#     return df"
   ]
  },
  {
   "cell_type": "code",
   "execution_count": null,
   "id": "206e8953-d2dd-40a9-a474-797710cf9ecb",
   "metadata": {
    "execution": {
     "iopub.status.busy": "2024-08-30T18:19:14.064887Z",
     "iopub.status.idle": "2024-08-30T18:19:14.064887Z",
     "shell.execute_reply": "2024-08-30T18:19:14.064887Z",
     "shell.execute_reply.started": "2024-08-30T18:19:14.064887Z"
    }
   },
   "outputs": [],
   "source": [
    "df_label = pd.get_dummies(df_label, drop_first=True)\n",
    "df_label.info()"
   ]
  },
  {
   "cell_type": "code",
   "execution_count": null,
   "id": "8fe04b02-a1bf-4acf-84d3-2ec8c34b8afd",
   "metadata": {
    "execution": {
     "iopub.status.busy": "2024-08-30T18:19:14.065892Z",
     "iopub.status.idle": "2024-08-30T18:19:14.065892Z",
     "shell.execute_reply": "2024-08-30T18:19:14.065892Z",
     "shell.execute_reply.started": "2024-08-30T18:19:14.065892Z"
    }
   },
   "outputs": [],
   "source": [
    "df_label.columns"
   ]
  },
  {
   "cell_type": "code",
   "execution_count": null,
   "id": "4a961c50-b70a-454a-acfb-911ff580a56e",
   "metadata": {
    "execution": {
     "iopub.status.busy": "2024-08-30T18:19:14.066887Z",
     "iopub.status.idle": "2024-08-30T18:19:14.066887Z",
     "shell.execute_reply": "2024-08-30T18:19:14.066887Z",
     "shell.execute_reply.started": "2024-08-30T18:19:14.066887Z"
    }
   },
   "outputs": [],
   "source": [
    "X = df_label.drop(\n",
    "    columns=[\n",
    "        \"target\",\n",
    "        \"data_block_id\",\n",
    "        \"row_id\",\n",
    "        \"prediction_unit_id\",\n",
    "        \"modified_target\",\n",
    "    ],\n",
    "    axis=1,\n",
    ")\n",
    "\n",
    "y = df_label[\"modified_target\"].values\n",
    "\n",
    "X_train, X_test, y_train, y_test = train_test_split(\n",
    "    X, y, test_size=0.20, random_state=RAND\n",
    ")\n",
    "\n",
    "st = StandardScaler()\n",
    "X_train_std = st.fit_transform(X_train)\n",
    "X_test_std = st.transform(X_test)"
   ]
  },
  {
   "cell_type": "code",
   "execution_count": null,
   "id": "1fab19d1-f223-4c57-b205-fc5dc087d1e3",
   "metadata": {
    "execution": {
     "iopub.status.busy": "2024-08-30T18:19:14.067886Z",
     "iopub.status.idle": "2024-08-30T18:19:14.068889Z",
     "shell.execute_reply": "2024-08-30T18:19:14.067886Z",
     "shell.execute_reply.started": "2024-08-30T18:19:14.067886Z"
    }
   },
   "outputs": [],
   "source": [
    "def r2_adjusted(\n",
    "    y_true: np.ndarray, y_pred: np.ndarray, X_test: np.ndarray | int\n",
    ") -> float:\n",
    "    \"\"\"Коэффициент детерминации (множественная регрессия)\"\"\"\n",
    "    N_objects = len(y_true)\n",
    "\n",
    "    if isinstance(X_test, np.ndarray):\n",
    "        N_features = X_test.shape[1]\n",
    "    else:\n",
    "        N_features = X_test\n",
    "\n",
    "    #     N_features = X_test.shape[1]\n",
    "    r2 = r2_score(y_true, y_pred)\n",
    "    return 1 - (1 - r2) * (N_objects - 1) / (N_objects - N_features - 1)\n",
    "\n",
    "\n",
    "def mpe(y_true: np.ndarray, y_pred: np.ndarray) -> float:\n",
    "    \"\"\"Mean percentage error\"\"\"\n",
    "    return np.mean((y_true - y_pred) / y_true, axis=0) * 100\n",
    "\n",
    "\n",
    "def mape(y_true: np.ndarray, y_pred: np.ndarray) -> float:\n",
    "    \"\"\"Mean absolute percentage error\"\"\"\n",
    "    return np.mean(np.abs((y_pred - y_true) / y_true), axis=0) * 100\n",
    "\n",
    "\n",
    "def wape(y_true: np.ndarray, y_pred: np.ndarray) -> float:\n",
    "    \"\"\"Weighted Absolute Percent Error\"\"\"\n",
    "    return np.sum(np.abs(y_pred - y_true)) / np.sum(y_true) * 100\n",
    "\n",
    "\n",
    "def huber_loss(\n",
    "    y_true: np.ndarray | pd.DataFrame,\n",
    "    y_pred: np.ndarray | pd.DataFrame,\n",
    "    delta: float = 1.345,\n",
    "):\n",
    "    \"\"\"Функция ошибки Хьюбера\"\"\"\n",
    "\n",
    "    if isinstance(y_true, pd.DataFrame):\n",
    "        y_true = y_true.squeeze().to_numpy()\n",
    "    if isinstance(y_pred, pd.DataFrame):\n",
    "        y_pred = y_pred.squeeze().to_numpy()\n",
    "\n",
    "    assert len(y_true) == len(y_pred), \"Разные размеры данных\"\n",
    "    huber_sum = 0\n",
    "    for i in range(len(y_true)):\n",
    "        if abs(y_true[i] - y_pred[i]) <= delta:\n",
    "            huber_sum += 0.5 * (y_true[i] - y_pred[i]) ** 2\n",
    "        else:\n",
    "            huber_sum += delta * (abs(y_true[i] - y_pred[i]) - 0.5 * delta)\n",
    "    huber_sum /= len(y_true)\n",
    "    return huber_sum\n",
    "\n",
    "\n",
    "def logcosh(y_true: np.ndarray, y_pred: np.ndarray):\n",
    "    \"\"\"функция ошибки Лог-Кош\"\"\"\n",
    "    return np.sum(np.log(np.cosh(y_true - y_pred)))\n",
    "\n",
    "\n",
    "def rmsle(y_true: np.ndarray, y_pred: np.ndarray) -> np.float64:\n",
    "    \"\"\"\n",
    "    Root Mean Squared Log Error (RMSLE) metric\n",
    "    Логарифмическая ошибка средней квадратичной ошибки\n",
    "    \"\"\"\n",
    "    try:\n",
    "        return np.sqrt(mean_squared_log_error(y_true, y_pred))\n",
    "    except:\n",
    "        return None\n",
    "\n",
    "\n",
    "def get_metrics(\n",
    "    y_test: np.ndarray,\n",
    "    y_pred: np.ndarray,\n",
    "    X_test: np.ndarray,\n",
    "    name: str = None,\n",
    "    delta: float = 1.345,\n",
    "):\n",
    "    \"\"\"Генерация таблицы с метриками\"\"\"\n",
    "    df_metrics = pd.DataFrame()\n",
    "    df_metrics[\"model\"] = [name]\n",
    "\n",
    "    df_metrics[\"MAE\"] = mean_absolute_error(y_test, y_pred)\n",
    "    df_metrics[\"MSE\"] = mean_squared_error(y_test, y_pred)\n",
    "    df_metrics[\"Huber_loss\"] = huber_loss(y_test, y_pred, delta)\n",
    "    df_metrics[\"Logcosh\"] = logcosh(y_test, y_pred)\n",
    "    df_metrics[\"RMSE\"] = np.sqrt(mean_squared_error(y_test, y_pred))\n",
    "    df_metrics[\"RMSLE\"] = rmsle(y_test, y_pred)\n",
    "    df_metrics[\"R2 adjusted\"] = r2_adjusted(y_test, y_pred, X_test)\n",
    "    df_metrics[\"MPE_%\"] = mpe(y_test, y_pred)\n",
    "    df_metrics[\"MAPE_%\"] = mape(y_test, y_pred)\n",
    "    df_metrics[\"WAPE_%\"] = wape(y_test, y_pred)\n",
    "\n",
    "    return df_metrics"
   ]
  },
  {
   "cell_type": "code",
   "execution_count": null,
   "id": "9c61be9d-d40b-4ef8-80dd-e3fd686d52c1",
   "metadata": {
    "execution": {
     "iopub.status.busy": "2024-08-30T18:19:14.068889Z",
     "iopub.status.idle": "2024-08-30T18:19:14.069888Z",
     "shell.execute_reply": "2024-08-30T18:19:14.069888Z",
     "shell.execute_reply.started": "2024-08-30T18:19:14.069888Z"
    }
   },
   "outputs": [],
   "source": [
    "lr_skl = LinearRegression()\n",
    "lr_skl.fit(X_train_std, y_train)"
   ]
  },
  {
   "cell_type": "code",
   "execution_count": null,
   "id": "9f5fda38-2455-4c3f-867b-acd7c0bd950c",
   "metadata": {
    "execution": {
     "iopub.status.busy": "2024-08-30T18:19:14.069888Z",
     "iopub.status.idle": "2024-08-30T18:19:14.070887Z",
     "shell.execute_reply": "2024-08-30T18:19:14.070887Z",
     "shell.execute_reply.started": "2024-08-30T18:19:14.070887Z"
    }
   },
   "outputs": [],
   "source": [
    "lr_skl_pred = lr_skl.predict(X_test_std)"
   ]
  },
  {
   "cell_type": "code",
   "execution_count": null,
   "id": "f82aa99c-a05d-4a86-8638-06617768a57d",
   "metadata": {
    "execution": {
     "iopub.status.busy": "2024-08-30T18:19:14.070887Z",
     "iopub.status.idle": "2024-08-30T18:19:14.071887Z",
     "shell.execute_reply": "2024-08-30T18:19:14.070887Z",
     "shell.execute_reply.started": "2024-08-30T18:19:14.070887Z"
    }
   },
   "outputs": [],
   "source": [
    "skl_m = get_metrics(y_test, lr_skl_pred, X_test_std, name=\"skl_lr\")\n",
    "skl_m"
   ]
  },
  {
   "cell_type": "code",
   "execution_count": null,
   "id": "57a3bb2f-54a6-49bd-867d-f4c4887725f5",
   "metadata": {
    "execution": {
     "iopub.status.busy": "2024-08-30T18:19:14.071887Z",
     "iopub.status.idle": "2024-08-30T18:19:14.071887Z",
     "shell.execute_reply": "2024-08-30T18:19:14.071887Z",
     "shell.execute_reply.started": "2024-08-30T18:19:14.071887Z"
    }
   },
   "outputs": [],
   "source": [
    "df_hours = df_hours[\n",
    "    [\n",
    "        \"county\",\n",
    "        \"is_business\",\n",
    "        \"product_type\",\n",
    "        \"target\",\n",
    "        \"is_consumption\",\n",
    "        \"hour\",\n",
    "        \"day_of_week\",\n",
    "        \"day\",\n",
    "        \"week_of_year\",\n",
    "        \"month\",\n",
    "        \"quarter\",\n",
    "        \"year\",\n",
    "        \"modified_target\",\n",
    "        \"tm_1h\",\n",
    "        \"tm_2h\",\n",
    "        \"tm_3h\",\n",
    "        \"tm_4h\",\n",
    "        \"tm_5h\",\n",
    "        \"tm_6h\",\n",
    "        \"tm_7h\",\n",
    "        \"tm_8h\",\n",
    "        \"tm_9h\",\n",
    "        \"tm_10h\",\n",
    "        \"tm_11h\",\n",
    "        \"tm_12h\",\n",
    "        \"tm_13h\",\n",
    "        \"tm_14h\",\n",
    "        \"tm_15h\",\n",
    "        \"tm_16h\",\n",
    "        \"tm_17h\",\n",
    "        \"tm_18h\",\n",
    "        \"tm_19h\",\n",
    "        \"tm_20h\",\n",
    "        \"tm_21h\",\n",
    "        \"tm_22h\",\n",
    "        \"tm_23h\",\n",
    "        \"tm_24h\",\n",
    "        \"tm_48h\",\n",
    "        \"tm_72h\",\n",
    "        \"tm_96h\",\n",
    "        \"tm_120h\",\n",
    "        \"tm_144h\",\n",
    "        \"tm_168h\",\n",
    "        \"tm_336h\",\n",
    "        \"tm_504h\",\n",
    "        \"tm_672h\",\n",
    "        \"tm_840h\",\n",
    "        \"tm_1008h\",\n",
    "        \"tm_1176h\",\n",
    "        \"tm_1344h\",\n",
    "        \"tm_2016h\",\n",
    "        \"tm_2688h\",\n",
    "        \"tm_3360h\",\n",
    "        \"tm_4032h\",\n",
    "        \"tm_4704h\",\n",
    "        \"tm_5376h\",\n",
    "        \"tm_6048h\",\n",
    "        \"tm_6720h\",\n",
    "        \"tm_7392h\",\n",
    "        \"tm_8064h\",\n",
    "    ]\n",
    "]"
   ]
  },
  {
   "cell_type": "code",
   "execution_count": null,
   "id": "77fe3e3b-a122-471c-8abe-631d511f8e19",
   "metadata": {
    "execution": {
     "iopub.status.busy": "2024-08-30T18:19:14.072887Z",
     "iopub.status.idle": "2024-08-30T18:19:14.072887Z",
     "shell.execute_reply": "2024-08-30T18:19:14.072887Z",
     "shell.execute_reply.started": "2024-08-30T18:19:14.072887Z"
    }
   },
   "outputs": [],
   "source": [
    "df_hours = df_hours.sort_index()\n",
    "tss = TimeSeriesSplit(n_splits=3, test_size=300_000)"
   ]
  },
  {
   "cell_type": "code",
   "execution_count": null,
   "id": "7e7194de-f912-4c8d-bf34-fe154b1569ad",
   "metadata": {
    "execution": {
     "iopub.status.busy": "2024-08-30T18:19:14.073887Z",
     "iopub.status.idle": "2024-08-30T18:19:14.073887Z",
     "shell.execute_reply": "2024-08-30T18:19:14.073887Z",
     "shell.execute_reply.started": "2024-08-30T18:19:14.073887Z"
    },
    "scrolled": true
   },
   "outputs": [],
   "source": [
    "fold = 0\n",
    "preds = []\n",
    "scores = []\n",
    "for train_idx, val_idx in tss.split(df_hours):\n",
    "    train = df_hours.iloc[train_idx]\n",
    "    test = df_hours.iloc[val_idx]\n",
    "\n",
    "    reg = XGBRegressor(\n",
    "        n_estimators=2000,\n",
    "        early_stopping_rounds=50,\n",
    "        objective=\"reg:squarederror\",\n",
    "        enable_categorical=True,\n",
    "        eval_metric=\"mae\",\n",
    "        # max_depth=3,\n",
    "        learning_rate=0.01,\n",
    "        random_state=RAND,\n",
    "    )\n",
    "    FEATURES = [\n",
    "        \"county\",\n",
    "        \"is_business\",\n",
    "        \"product_type\",\n",
    "        \"is_consumption\",\n",
    "        \"hour\",\n",
    "        \"day_of_week\",\n",
    "        \"day\",\n",
    "        \"week_of_year\",\n",
    "        \"month\",\n",
    "        \"quarter\",\n",
    "        \"year\",\n",
    "        \"tm_1h\",\n",
    "        \"tm_2h\",\n",
    "        \"tm_3h\",\n",
    "        \"tm_4h\",\n",
    "        \"tm_5h\",\n",
    "        \"tm_6h\",\n",
    "        \"tm_7h\",\n",
    "        \"tm_8h\",\n",
    "        \"tm_9h\",\n",
    "        \"tm_10h\",\n",
    "        \"tm_11h\",\n",
    "        \"tm_12h\",\n",
    "        \"tm_13h\",\n",
    "        \"tm_14h\",\n",
    "        \"tm_15h\",\n",
    "        \"tm_16h\",\n",
    "        \"tm_17h\",\n",
    "        \"tm_18h\",\n",
    "        \"tm_19h\",\n",
    "        \"tm_20h\",\n",
    "        \"tm_21h\",\n",
    "        \"tm_22h\",\n",
    "        \"tm_23h\",\n",
    "        \"tm_24h\",\n",
    "        \"tm_48h\",\n",
    "        \"tm_72h\",\n",
    "        \"tm_96h\",\n",
    "        \"tm_120h\",\n",
    "        \"tm_144h\",\n",
    "        \"tm_168h\",\n",
    "        \"tm_336h\",\n",
    "        \"tm_504h\",\n",
    "        \"tm_672h\",\n",
    "        \"tm_840h\",\n",
    "        \"tm_1008h\",\n",
    "        \"tm_1176h\",\n",
    "        \"tm_1344h\",\n",
    "        \"tm_2016h\",\n",
    "        \"tm_2688h\",\n",
    "        \"tm_3360h\",\n",
    "        \"tm_4032h\",\n",
    "        \"tm_4704h\",\n",
    "        \"tm_5376h\",\n",
    "        \"tm_6048h\",\n",
    "        \"tm_6720h\",\n",
    "        \"tm_7392h\",\n",
    "        \"tm_8064h\",\n",
    "    ]\n",
    "    # TARGET = \"modified_target\"\n",
    "    TARGET = \"target\"\n",
    "\n",
    "    X_train = train[FEATURES]\n",
    "    y_train = train[TARGET]\n",
    "\n",
    "    X_test = test[FEATURES]\n",
    "    y_test = test[TARGET]\n",
    "\n",
    "    reg.fit(\n",
    "        X_train,\n",
    "        y_train,\n",
    "        eval_set=[(X_train, y_train), (X_test, y_test)],\n",
    "        verbose=20,\n",
    "    )\n",
    "\n",
    "    y_pred = reg.predict(X_test)\n",
    "    preds.append(y_pred)\n",
    "    score = np.sqrt(mean_squared_error(y_test, y_pred))\n",
    "    scores.append(score)"
   ]
  },
  {
   "cell_type": "code",
   "execution_count": null,
   "id": "cacaebe8-82d1-4e8d-8ab1-93d71c00cb28",
   "metadata": {
    "execution": {
     "iopub.status.busy": "2024-08-30T18:19:14.073887Z",
     "iopub.status.idle": "2024-08-30T18:19:14.074885Z",
     "shell.execute_reply": "2024-08-30T18:19:14.074885Z",
     "shell.execute_reply.started": "2024-08-30T18:19:14.074885Z"
    }
   },
   "outputs": [],
   "source": [
    "hours_ago = (\n",
    "    [i for i in range(1, 25)]\n",
    "    + [24 * i for i in range(2, 8)]\n",
    "    + [168 * i for i in range(2, 9)]\n",
    "    + [672 * i for i in range(3, 13)]\n",
    ")\n",
    "for h in hours_ago:\n",
    "    df[f\"t_{h}h\"] = df[\"target\"].shift(h)"
   ]
  },
  {
   "cell_type": "code",
   "execution_count": null,
   "id": "59a59dba-58ea-4b29-a6b0-533e7fe0be61",
   "metadata": {
    "execution": {
     "iopub.status.busy": "2024-08-30T18:19:14.074885Z",
     "iopub.status.idle": "2024-08-30T18:19:14.075887Z",
     "shell.execute_reply": "2024-08-30T18:19:14.074885Z",
     "shell.execute_reply.started": "2024-08-30T18:19:14.074885Z"
    }
   },
   "outputs": [],
   "source": [
    "fig, ax = plt.subplots(figsize=(35, 30))\n",
    "\n",
    "sns.heatmap(df_hours.corr(), annot=True, cmap=\"Blues\", fmt=\".1f\")\n",
    "# plt.figure(figsize=(25, 25))\n",
    "plt.show()\n",
    "# numeric_only=True"
   ]
  },
  {
   "cell_type": "code",
   "execution_count": null,
   "id": "886a636a-181c-4dea-8622-9a23cd0fb64d",
   "metadata": {},
   "outputs": [],
   "source": []
  },
  {
   "cell_type": "code",
   "execution_count": null,
   "id": "fe01bc03-c7f8-4744-a634-70dca959d298",
   "metadata": {
    "execution": {
     "iopub.status.busy": "2024-08-30T18:19:14.076893Z",
     "iopub.status.idle": "2024-08-30T18:19:14.076893Z",
     "shell.execute_reply": "2024-08-30T18:19:14.076893Z",
     "shell.execute_reply.started": "2024-08-30T18:19:14.076893Z"
    }
   },
   "outputs": [],
   "source": [
    "# df = df.sort_index().sort_values(\n",
    "#     [\"county\", \"is_business\", \"product_type\", \"is_consumption\"],\n",
    "#     kind=\"mergesort\",\n",
    "# )\n",
    "df.sort_index()\n",
    "tss = TimeSeriesSplit(n_splits=3, test_size=300_000)"
   ]
  },
  {
   "cell_type": "code",
   "execution_count": null,
   "id": "6790fd79-1e77-4e6f-bb8d-af83f47a57cd",
   "metadata": {
    "execution": {
     "iopub.status.busy": "2024-08-30T18:19:14.077887Z",
     "iopub.status.idle": "2024-08-30T18:19:14.077887Z",
     "shell.execute_reply": "2024-08-30T18:19:14.077887Z",
     "shell.execute_reply.started": "2024-08-30T18:19:14.077887Z"
    }
   },
   "outputs": [],
   "source": [
    "a = {}\n",
    "for i in range(1000):\n",
    "    x = 0;\n",
    "    for j in range(20):\n",
    "        x += np.random.choice([-1,1])\n",
    "    a[x] = a.get(x, 0) + 1;\n",
    "\n",
    "\n",
    "sns.barplot(x=list(a.keys()), y=list(a.values()));"
   ]
  },
  {
   "cell_type": "code",
   "execution_count": null,
   "id": "23fc3653-4435-4e20-bee9-4da67b4ea8d4",
   "metadata": {
    "execution": {
     "iopub.status.busy": "2024-08-30T18:19:14.078887Z",
     "iopub.status.idle": "2024-08-30T18:19:14.078887Z",
     "shell.execute_reply": "2024-08-30T18:19:14.078887Z",
     "shell.execute_reply.started": "2024-08-30T18:19:14.078887Z"
    }
   },
   "outputs": [],
   "source": [
    "# min(data.keys())\n",
    "# max(data.keys())\n",
    "# len(data.keys())\n",
    "# {k: 0 for (k, 0) in range(min(data.keys()), max(data.keys())) if not in data.keys()}\n",
    "# {k: v*2 for (k,v) in dict1.items()}\n",
    "# {key:value for (key,value) in dictonary.items()}\n",
    "# zip()\n",
    "data"
   ]
  },
  {
   "cell_type": "code",
   "execution_count": null,
   "id": "6b1b11c4-1835-4034-9b87-8e2b1abbbe6a",
   "metadata": {},
   "outputs": [],
   "source": []
  },
  {
   "cell_type": "code",
   "execution_count": null,
   "id": "1011e6d2-fffd-4c0d-b789-2d2fc78c0bd9",
   "metadata": {
    "execution": {
     "iopub.status.busy": "2024-08-30T18:19:14.079887Z",
     "iopub.status.idle": "2024-08-30T18:19:14.079887Z",
     "shell.execute_reply": "2024-08-30T18:19:14.079887Z",
     "shell.execute_reply.started": "2024-08-30T18:19:14.079887Z"
    }
   },
   "outputs": [],
   "source": [
    "data"
   ]
  },
  {
   "cell_type": "code",
   "execution_count": null,
   "id": "d62cb625-c7d6-4b82-83f6-dfe71f756156",
   "metadata": {
    "execution": {
     "iopub.status.busy": "2024-08-30T18:19:14.079887Z",
     "iopub.status.idle": "2024-08-30T18:19:14.080887Z",
     "shell.execute_reply": "2024-08-30T18:19:14.080887Z",
     "shell.execute_reply.started": "2024-08-30T18:19:14.080887Z"
    }
   },
   "outputs": [],
   "source": [
    "# for train_idx, val_idx in tss.split(df):\n",
    "# print('1 train:', train_idx)\n",
    "# display(df.iloc[train_idx].tail(5))\n",
    "# print('1 val:', val_idx)"
   ]
  },
  {
   "cell_type": "code",
   "execution_count": null,
   "id": "76417d13-25db-4e88-9af6-04d9e23b6afd",
   "metadata": {
    "execution": {
     "iopub.status.busy": "2024-08-30T18:19:14.080887Z",
     "iopub.status.idle": "2024-08-30T18:19:14.080887Z",
     "shell.execute_reply": "2024-08-30T18:19:14.080887Z",
     "shell.execute_reply.started": "2024-08-30T18:19:14.080887Z"
    }
   },
   "outputs": [],
   "source": [
    "tss = TimeSeriesSplit(n_splits=3, test_size=300_000)\n",
    "df = df.sort_index()\n",
    "\n",
    "fig, axs = plt.subplots(3, 1, figsize=(10, 10), sharex=True)\n",
    "fold = 0\n",
    "\n",
    "for train_idx, val_idx in tss.split(df):\n",
    "    train = df.iloc[train_idx]\n",
    "    test = df.iloc[val_idx]\n",
    "    train[\"modified_target\"].plot(\n",
    "        ax=axs[fold],\n",
    "        label=\"Training Set\",\n",
    "        title=f\"Data Train/Test Split Fold {fold}\",\n",
    "    )\n",
    "    test[\"modified_target\"].plot(ax=axs[fold], label=\"Test Set\")\n",
    "    axs[fold].axvline(test.index.min(), color=\"black\", ls=\"--\")\n",
    "    fold += 1\n",
    "plt.show()"
   ]
  },
  {
   "cell_type": "code",
   "execution_count": null,
   "id": "d4637896-c557-496a-bad6-0f7734fa9158",
   "metadata": {
    "execution": {
     "iopub.status.busy": "2024-08-30T18:19:14.081887Z",
     "iopub.status.idle": "2024-08-30T18:19:14.081887Z",
     "shell.execute_reply": "2024-08-30T18:19:14.081887Z",
     "shell.execute_reply.started": "2024-08-30T18:19:14.081887Z"
    },
    "scrolled": true
   },
   "outputs": [],
   "source": [
    "fold = 0\n",
    "preds = []\n",
    "scores = []\n",
    "for train_idx, val_idx in tss.split(df):\n",
    "    train = df.iloc[train_idx]\n",
    "    test = df.iloc[val_idx]\n",
    "\n",
    "    reg = XGBRegressor(\n",
    "        n_estimators=2000,\n",
    "        early_stopping_rounds=50,\n",
    "        objective=\"reg:squarederror\",\n",
    "        enable_categorical=True,\n",
    "        eval_metric=\"mae\",\n",
    "        # max_depth=3,\n",
    "        learning_rate=0.01,\n",
    "        random_state=RAND,\n",
    "    )\n",
    "    FEATURES = [\n",
    "        \"county\",\n",
    "        \"is_business\",\n",
    "        \"product_type\",\n",
    "        # 'target',\n",
    "        \"is_consumption\",\n",
    "        # 'data_block_id',\n",
    "        # 'row_id',\n",
    "        # 'prediction_unit_id',\n",
    "        \"hour\",\n",
    "        \"day_of_week\",\n",
    "        \"day\",\n",
    "        \"week_of_year\",\n",
    "        \"month\",\n",
    "        \"quarter\",\n",
    "        \"year\",\n",
    "        # 'modified_target',\n",
    "    ]\n",
    "    TARGET = \"modified_target\"\n",
    "\n",
    "    X_train = train[FEATURES]\n",
    "    y_train = train[TARGET]\n",
    "\n",
    "    X_test = test[FEATURES]\n",
    "    y_test = test[TARGET]\n",
    "\n",
    "    reg.fit(\n",
    "        X_train,\n",
    "        y_train,\n",
    "        eval_set=[(X_train, y_train), (X_test, y_test)],\n",
    "        verbose=20,\n",
    "    )\n",
    "\n",
    "    y_pred = reg.predict(X_test)\n",
    "    preds.append(y_pred)\n",
    "    score = np.sqrt(mean_squared_error(y_test, y_pred))\n",
    "    scores.append(score)"
   ]
  }
 ],
 "metadata": {
  "kernelspec": {
   "display_name": "Python 3 (ipykernel)",
   "language": "python",
   "name": "python3"
  },
  "language_info": {
   "codemirror_mode": {
    "name": "ipython",
    "version": 3
   },
   "file_extension": ".py",
   "mimetype": "text/x-python",
   "name": "python",
   "nbconvert_exporter": "python",
   "pygments_lexer": "ipython3",
   "version": "3.11.6"
  }
 },
 "nbformat": 4,
 "nbformat_minor": 5
}
