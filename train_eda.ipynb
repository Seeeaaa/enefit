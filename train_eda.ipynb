{
 "cells": [
  {
   "cell_type": "markdown",
   "id": "c8e91539-52f2-4918-a49c-597e20e151c4",
   "metadata": {},
   "source": [
    "# 1. Import"
   ]
  },
  {
   "cell_type": "code",
   "execution_count": 1,
   "id": "d8694e6f-4c39-4f4c-938a-d919b4fa6397",
   "metadata": {
    "execution": {
     "iopub.execute_input": "2023-12-20T16:54:19.587989Z",
     "iopub.status.busy": "2023-12-20T16:54:19.586989Z",
     "iopub.status.idle": "2023-12-20T16:54:25.871649Z",
     "shell.execute_reply": "2023-12-20T16:54:25.871649Z",
     "shell.execute_reply.started": "2023-12-20T16:54:19.587989Z"
    }
   },
   "outputs": [],
   "source": [
    "import numpy as np\n",
    "import pandas as pd\n",
    "\n",
    "from statsmodels.tsa.seasonal import seasonal_decompose\n",
    "\n",
    "import matplotlib.pyplot as plt\n",
    "from matplotlib import dates as mdates\n",
    "\n",
    "import seaborn as sns\n",
    "import colorcet as cc\n",
    "import squarify\n",
    "\n",
    "import plotly.express as px"
   ]
  },
  {
   "cell_type": "code",
   "execution_count": 2,
   "id": "c426cd96-8c1c-4c75-88cf-261cff783c72",
   "metadata": {
    "execution": {
     "iopub.execute_input": "2023-12-20T16:54:25.873658Z",
     "iopub.status.busy": "2023-12-20T16:54:25.873658Z",
     "iopub.status.idle": "2023-12-20T16:54:27.031807Z",
     "shell.execute_reply": "2023-12-20T16:54:27.031807Z",
     "shell.execute_reply.started": "2023-12-20T16:54:25.873658Z"
    }
   },
   "outputs": [],
   "source": [
    "train_df = pd.read_csv(\"train.csv\")\n",
    "county_id_to_name_map = pd.read_json('county_id_to_name_map.json', typ = 'series')"
   ]
  },
  {
   "cell_type": "code",
   "execution_count": 3,
   "id": "1087a295-f482-4bae-9791-6f40d03b1366",
   "metadata": {
    "execution": {
     "iopub.execute_input": "2023-12-20T16:54:27.032812Z",
     "iopub.status.busy": "2023-12-20T16:54:27.032812Z",
     "iopub.status.idle": "2023-12-20T16:54:27.076225Z",
     "shell.execute_reply": "2023-12-20T16:54:27.076225Z",
     "shell.execute_reply.started": "2023-12-20T16:54:27.032812Z"
    }
   },
   "outputs": [],
   "source": [
    "df = train_df.copy()"
   ]
  },
  {
   "cell_type": "code",
   "execution_count": 4,
   "id": "29ebd3d8-8a02-4051-82e4-dadc52cf183f",
   "metadata": {
    "execution": {
     "iopub.execute_input": "2023-12-20T16:54:27.078231Z",
     "iopub.status.busy": "2023-12-20T16:54:27.077231Z",
     "iopub.status.idle": "2023-12-20T16:54:27.081909Z",
     "shell.execute_reply": "2023-12-20T16:54:27.081909Z",
     "shell.execute_reply.started": "2023-12-20T16:54:27.078231Z"
    }
   },
   "outputs": [],
   "source": [
    "county_id_to_name_map = county_id_to_name_map.str.capitalize()"
   ]
  },
  {
   "cell_type": "code",
   "execution_count": 5,
   "id": "644f971b-a00d-4c26-a23c-dfdeb274f32f",
   "metadata": {
    "execution": {
     "iopub.execute_input": "2023-12-20T16:54:27.083858Z",
     "iopub.status.busy": "2023-12-20T16:54:27.082858Z",
     "iopub.status.idle": "2023-12-20T16:54:27.103999Z",
     "shell.execute_reply": "2023-12-20T16:54:27.103999Z",
     "shell.execute_reply.started": "2023-12-20T16:54:27.083858Z"
    }
   },
   "outputs": [],
   "source": [
    "RAND = 10\n",
    "PALETTE = sns.color_palette(cc.glasbey, n_colors=df.county.nunique())"
   ]
  },
  {
   "cell_type": "markdown",
   "id": "99a5974b-0895-4c12-8017-9b9d01f6ae64",
   "metadata": {},
   "source": [
    "# 2. EDA"
   ]
  },
  {
   "cell_type": "markdown",
   "id": "957ab51f-5c1c-4597-b060-2a2cd316751b",
   "metadata": {},
   "source": [
    "## Description\n",
    "- county - An ID code for the county.\n",
    "- is_business - Boolean for whether or not the prosumer is a business.\n",
    "- product_type - ID code with the following mapping of codes to contract types: {0: \"Combined\", 1: \"Fixed\", 2: \"General service\", 3: \"Spot\"}.\n",
    "- target - The consumption or production amount for the relevant segment for the hour. The segments are defined by the county, is_business, and product_type.\n",
    "- is_consumption - Boolean for whether or not this row's target is consumption or production.\n",
    "- datetime - The Estonian time in EET (UTC+2) / EEST (UTC+3).\n",
    "- data_block_id - All rows sharing the same data_block_id will be available at the same forecast time. This is a function of what information is available when forecasts are actually made, at 11 AM each morning. For example, if the forecast weather data_block_id for predictins made on October 31st is 100 then the historic weather data_block_id for October 31st will be 101 as the historic weather data is only actually available the next day.\n",
    "- row_id - A unique identifier for the row.\n",
    "- prediction_unit_id - A unique identifier for the county, is_business, and product_type combination. New prediction units can appear or disappear in the test set."
   ]
  },
  {
   "cell_type": "markdown",
   "id": "17022c69-690a-438e-90a3-46ace1003fdb",
   "metadata": {},
   "source": [
    "## General"
   ]
  },
  {
   "cell_type": "code",
   "execution_count": 6,
   "id": "e48549ad-2399-4454-b752-f680ab1b2be9",
   "metadata": {
    "execution": {
     "iopub.execute_input": "2023-12-20T16:54:27.106007Z",
     "iopub.status.busy": "2023-12-20T16:54:27.105006Z",
     "iopub.status.idle": "2023-12-20T16:54:27.123059Z",
     "shell.execute_reply": "2023-12-20T16:54:27.123059Z",
     "shell.execute_reply.started": "2023-12-20T16:54:27.106007Z"
    }
   },
   "outputs": [
    {
     "data": {
      "text/html": [
       "<div>\n",
       "<style scoped>\n",
       "    .dataframe tbody tr th:only-of-type {\n",
       "        vertical-align: middle;\n",
       "    }\n",
       "\n",
       "    .dataframe tbody tr th {\n",
       "        vertical-align: top;\n",
       "    }\n",
       "\n",
       "    .dataframe thead th {\n",
       "        text-align: right;\n",
       "    }\n",
       "</style>\n",
       "<table border=\"1\" class=\"dataframe\">\n",
       "  <thead>\n",
       "    <tr style=\"text-align: right;\">\n",
       "      <th></th>\n",
       "      <th>county</th>\n",
       "      <th>is_business</th>\n",
       "      <th>product_type</th>\n",
       "      <th>target</th>\n",
       "      <th>is_consumption</th>\n",
       "      <th>datetime</th>\n",
       "      <th>data_block_id</th>\n",
       "      <th>row_id</th>\n",
       "      <th>prediction_unit_id</th>\n",
       "    </tr>\n",
       "  </thead>\n",
       "  <tbody>\n",
       "    <tr>\n",
       "      <th>0</th>\n",
       "      <td>0</td>\n",
       "      <td>0</td>\n",
       "      <td>1</td>\n",
       "      <td>0.713</td>\n",
       "      <td>0</td>\n",
       "      <td>2021-09-01 00:00:00</td>\n",
       "      <td>0</td>\n",
       "      <td>0</td>\n",
       "      <td>0</td>\n",
       "    </tr>\n",
       "    <tr>\n",
       "      <th>1</th>\n",
       "      <td>0</td>\n",
       "      <td>0</td>\n",
       "      <td>1</td>\n",
       "      <td>96.590</td>\n",
       "      <td>1</td>\n",
       "      <td>2021-09-01 00:00:00</td>\n",
       "      <td>0</td>\n",
       "      <td>1</td>\n",
       "      <td>0</td>\n",
       "    </tr>\n",
       "    <tr>\n",
       "      <th>2</th>\n",
       "      <td>0</td>\n",
       "      <td>0</td>\n",
       "      <td>2</td>\n",
       "      <td>0.000</td>\n",
       "      <td>0</td>\n",
       "      <td>2021-09-01 00:00:00</td>\n",
       "      <td>0</td>\n",
       "      <td>2</td>\n",
       "      <td>1</td>\n",
       "    </tr>\n",
       "    <tr>\n",
       "      <th>3</th>\n",
       "      <td>0</td>\n",
       "      <td>0</td>\n",
       "      <td>2</td>\n",
       "      <td>17.314</td>\n",
       "      <td>1</td>\n",
       "      <td>2021-09-01 00:00:00</td>\n",
       "      <td>0</td>\n",
       "      <td>3</td>\n",
       "      <td>1</td>\n",
       "    </tr>\n",
       "    <tr>\n",
       "      <th>4</th>\n",
       "      <td>0</td>\n",
       "      <td>0</td>\n",
       "      <td>3</td>\n",
       "      <td>2.904</td>\n",
       "      <td>0</td>\n",
       "      <td>2021-09-01 00:00:00</td>\n",
       "      <td>0</td>\n",
       "      <td>4</td>\n",
       "      <td>2</td>\n",
       "    </tr>\n",
       "    <tr>\n",
       "      <th>...</th>\n",
       "      <td>...</td>\n",
       "      <td>...</td>\n",
       "      <td>...</td>\n",
       "      <td>...</td>\n",
       "      <td>...</td>\n",
       "      <td>...</td>\n",
       "      <td>...</td>\n",
       "      <td>...</td>\n",
       "      <td>...</td>\n",
       "    </tr>\n",
       "    <tr>\n",
       "      <th>2018347</th>\n",
       "      <td>15</td>\n",
       "      <td>1</td>\n",
       "      <td>0</td>\n",
       "      <td>197.233</td>\n",
       "      <td>1</td>\n",
       "      <td>2023-05-31 23:00:00</td>\n",
       "      <td>637</td>\n",
       "      <td>2018347</td>\n",
       "      <td>64</td>\n",
       "    </tr>\n",
       "    <tr>\n",
       "      <th>2018348</th>\n",
       "      <td>15</td>\n",
       "      <td>1</td>\n",
       "      <td>1</td>\n",
       "      <td>0.000</td>\n",
       "      <td>0</td>\n",
       "      <td>2023-05-31 23:00:00</td>\n",
       "      <td>637</td>\n",
       "      <td>2018348</td>\n",
       "      <td>59</td>\n",
       "    </tr>\n",
       "    <tr>\n",
       "      <th>2018349</th>\n",
       "      <td>15</td>\n",
       "      <td>1</td>\n",
       "      <td>1</td>\n",
       "      <td>28.404</td>\n",
       "      <td>1</td>\n",
       "      <td>2023-05-31 23:00:00</td>\n",
       "      <td>637</td>\n",
       "      <td>2018349</td>\n",
       "      <td>59</td>\n",
       "    </tr>\n",
       "    <tr>\n",
       "      <th>2018350</th>\n",
       "      <td>15</td>\n",
       "      <td>1</td>\n",
       "      <td>3</td>\n",
       "      <td>0.000</td>\n",
       "      <td>0</td>\n",
       "      <td>2023-05-31 23:00:00</td>\n",
       "      <td>637</td>\n",
       "      <td>2018350</td>\n",
       "      <td>60</td>\n",
       "    </tr>\n",
       "    <tr>\n",
       "      <th>2018351</th>\n",
       "      <td>15</td>\n",
       "      <td>1</td>\n",
       "      <td>3</td>\n",
       "      <td>196.240</td>\n",
       "      <td>1</td>\n",
       "      <td>2023-05-31 23:00:00</td>\n",
       "      <td>637</td>\n",
       "      <td>2018351</td>\n",
       "      <td>60</td>\n",
       "    </tr>\n",
       "  </tbody>\n",
       "</table>\n",
       "<p>2018352 rows × 9 columns</p>\n",
       "</div>"
      ],
      "text/plain": [
       "         county  is_business  product_type   target  is_consumption  \\\n",
       "0             0            0             1    0.713               0   \n",
       "1             0            0             1   96.590               1   \n",
       "2             0            0             2    0.000               0   \n",
       "3             0            0             2   17.314               1   \n",
       "4             0            0             3    2.904               0   \n",
       "...         ...          ...           ...      ...             ...   \n",
       "2018347      15            1             0  197.233               1   \n",
       "2018348      15            1             1    0.000               0   \n",
       "2018349      15            1             1   28.404               1   \n",
       "2018350      15            1             3    0.000               0   \n",
       "2018351      15            1             3  196.240               1   \n",
       "\n",
       "                    datetime  data_block_id   row_id  prediction_unit_id  \n",
       "0        2021-09-01 00:00:00              0        0                   0  \n",
       "1        2021-09-01 00:00:00              0        1                   0  \n",
       "2        2021-09-01 00:00:00              0        2                   1  \n",
       "3        2021-09-01 00:00:00              0        3                   1  \n",
       "4        2021-09-01 00:00:00              0        4                   2  \n",
       "...                      ...            ...      ...                 ...  \n",
       "2018347  2023-05-31 23:00:00            637  2018347                  64  \n",
       "2018348  2023-05-31 23:00:00            637  2018348                  59  \n",
       "2018349  2023-05-31 23:00:00            637  2018349                  59  \n",
       "2018350  2023-05-31 23:00:00            637  2018350                  60  \n",
       "2018351  2023-05-31 23:00:00            637  2018351                  60  \n",
       "\n",
       "[2018352 rows x 9 columns]"
      ]
     },
     "execution_count": 6,
     "metadata": {},
     "output_type": "execute_result"
    }
   ],
   "source": [
    "df"
   ]
  },
  {
   "cell_type": "code",
   "execution_count": 7,
   "id": "c5630cba-d558-4e04-b15e-053609da30c0",
   "metadata": {
    "execution": {
     "iopub.execute_input": "2023-12-20T16:54:27.126066Z",
     "iopub.status.busy": "2023-12-20T16:54:27.125066Z",
     "iopub.status.idle": "2023-12-20T16:54:27.206508Z",
     "shell.execute_reply": "2023-12-20T16:54:27.206508Z",
     "shell.execute_reply.started": "2023-12-20T16:54:27.126066Z"
    }
   },
   "outputs": [
    {
     "name": "stdout",
     "output_type": "stream",
     "text": [
      "<class 'pandas.core.frame.DataFrame'>\n",
      "RangeIndex: 2018352 entries, 0 to 2018351\n",
      "Data columns (total 9 columns):\n",
      " #   Column              Non-Null Count    Dtype  \n",
      "---  ------              --------------    -----  \n",
      " 0   county              2018352 non-null  int64  \n",
      " 1   is_business         2018352 non-null  int64  \n",
      " 2   product_type        2018352 non-null  int64  \n",
      " 3   target              2017824 non-null  float64\n",
      " 4   is_consumption      2018352 non-null  int64  \n",
      " 5   datetime            2018352 non-null  object \n",
      " 6   data_block_id       2018352 non-null  int64  \n",
      " 7   row_id              2018352 non-null  int64  \n",
      " 8   prediction_unit_id  2018352 non-null  int64  \n",
      "dtypes: float64(1), int64(7), object(1)\n",
      "memory usage: 138.6+ MB\n"
     ]
    }
   ],
   "source": [
    "df.info(show_counts=True)"
   ]
  },
  {
   "cell_type": "code",
   "execution_count": 8,
   "id": "b5f96f0f-8e34-44af-8171-3706103a9db5",
   "metadata": {
    "execution": {
     "iopub.execute_input": "2023-12-20T16:54:27.207517Z",
     "iopub.status.busy": "2023-12-20T16:54:27.207517Z",
     "iopub.status.idle": "2023-12-20T16:54:27.682867Z",
     "shell.execute_reply": "2023-12-20T16:54:27.682867Z",
     "shell.execute_reply.started": "2023-12-20T16:54:27.207517Z"
    }
   },
   "outputs": [
    {
     "data": {
      "text/html": [
       "<div>\n",
       "<style scoped>\n",
       "    .dataframe tbody tr th:only-of-type {\n",
       "        vertical-align: middle;\n",
       "    }\n",
       "\n",
       "    .dataframe tbody tr th {\n",
       "        vertical-align: top;\n",
       "    }\n",
       "\n",
       "    .dataframe thead th {\n",
       "        text-align: right;\n",
       "    }\n",
       "</style>\n",
       "<table border=\"1\" class=\"dataframe\">\n",
       "  <thead>\n",
       "    <tr style=\"text-align: right;\">\n",
       "      <th></th>\n",
       "      <th>county</th>\n",
       "      <th>is_business</th>\n",
       "      <th>product_type</th>\n",
       "      <th>target</th>\n",
       "      <th>is_consumption</th>\n",
       "      <th>data_block_id</th>\n",
       "      <th>row_id</th>\n",
       "      <th>prediction_unit_id</th>\n",
       "    </tr>\n",
       "  </thead>\n",
       "  <tbody>\n",
       "    <tr>\n",
       "      <th>count</th>\n",
       "      <td>2018352.000</td>\n",
       "      <td>2018352.000</td>\n",
       "      <td>2018352.000</td>\n",
       "      <td>2017824.000</td>\n",
       "      <td>2018352.000</td>\n",
       "      <td>2018352.000</td>\n",
       "      <td>2018352.000</td>\n",
       "      <td>2018352.000</td>\n",
       "    </tr>\n",
       "    <tr>\n",
       "      <th>mean</th>\n",
       "      <td>7.297</td>\n",
       "      <td>0.537</td>\n",
       "      <td>1.899</td>\n",
       "      <td>274.856</td>\n",
       "      <td>0.500</td>\n",
       "      <td>321.875</td>\n",
       "      <td>1009175.500</td>\n",
       "      <td>33.045</td>\n",
       "    </tr>\n",
       "    <tr>\n",
       "      <th>std</th>\n",
       "      <td>4.781</td>\n",
       "      <td>0.499</td>\n",
       "      <td>1.082</td>\n",
       "      <td>909.502</td>\n",
       "      <td>0.500</td>\n",
       "      <td>182.634</td>\n",
       "      <td>582648.180</td>\n",
       "      <td>19.591</td>\n",
       "    </tr>\n",
       "    <tr>\n",
       "      <th>min</th>\n",
       "      <td>0.000</td>\n",
       "      <td>0.000</td>\n",
       "      <td>0.000</td>\n",
       "      <td>0.000</td>\n",
       "      <td>0.000</td>\n",
       "      <td>0.000</td>\n",
       "      <td>0.000</td>\n",
       "      <td>0.000</td>\n",
       "    </tr>\n",
       "    <tr>\n",
       "      <th>25%</th>\n",
       "      <td>3.000</td>\n",
       "      <td>0.000</td>\n",
       "      <td>1.000</td>\n",
       "      <td>0.378</td>\n",
       "      <td>0.000</td>\n",
       "      <td>166.000</td>\n",
       "      <td>504587.750</td>\n",
       "      <td>16.000</td>\n",
       "    </tr>\n",
       "    <tr>\n",
       "      <th>50%</th>\n",
       "      <td>7.000</td>\n",
       "      <td>1.000</td>\n",
       "      <td>2.000</td>\n",
       "      <td>31.133</td>\n",
       "      <td>0.500</td>\n",
       "      <td>323.000</td>\n",
       "      <td>1009175.500</td>\n",
       "      <td>33.000</td>\n",
       "    </tr>\n",
       "    <tr>\n",
       "      <th>75%</th>\n",
       "      <td>11.000</td>\n",
       "      <td>1.000</td>\n",
       "      <td>3.000</td>\n",
       "      <td>180.206</td>\n",
       "      <td>1.000</td>\n",
       "      <td>479.000</td>\n",
       "      <td>1513763.250</td>\n",
       "      <td>50.000</td>\n",
       "    </tr>\n",
       "    <tr>\n",
       "      <th>max</th>\n",
       "      <td>15.000</td>\n",
       "      <td>1.000</td>\n",
       "      <td>3.000</td>\n",
       "      <td>15480.274</td>\n",
       "      <td>1.000</td>\n",
       "      <td>637.000</td>\n",
       "      <td>2018351.000</td>\n",
       "      <td>68.000</td>\n",
       "    </tr>\n",
       "  </tbody>\n",
       "</table>\n",
       "</div>"
      ],
      "text/plain": [
       "            county  is_business product_type       target is_consumption  \\\n",
       "count  2018352.000  2018352.000  2018352.000  2017824.000    2018352.000   \n",
       "mean         7.297        0.537        1.899      274.856          0.500   \n",
       "std          4.781        0.499        1.082      909.502          0.500   \n",
       "min          0.000        0.000        0.000        0.000          0.000   \n",
       "25%          3.000        0.000        1.000        0.378          0.000   \n",
       "50%          7.000        1.000        2.000       31.133          0.500   \n",
       "75%         11.000        1.000        3.000      180.206          1.000   \n",
       "max         15.000        1.000        3.000    15480.274          1.000   \n",
       "\n",
       "      data_block_id       row_id prediction_unit_id  \n",
       "count   2018352.000  2018352.000        2018352.000  \n",
       "mean        321.875  1009175.500             33.045  \n",
       "std         182.634   582648.180             19.591  \n",
       "min           0.000        0.000              0.000  \n",
       "25%         166.000   504587.750             16.000  \n",
       "50%         323.000  1009175.500             33.000  \n",
       "75%         479.000  1513763.250             50.000  \n",
       "max         637.000  2018351.000             68.000  "
      ]
     },
     "execution_count": 8,
     "metadata": {},
     "output_type": "execute_result"
    }
   ],
   "source": [
    "df.describe().apply(lambda x: x.apply('{0:.3f}'.format))"
   ]
  },
  {
   "cell_type": "code",
   "execution_count": 9,
   "id": "aff05a64-fb37-496e-95a0-366a7da99b3f",
   "metadata": {
    "execution": {
     "iopub.execute_input": "2023-12-20T16:54:27.683874Z",
     "iopub.status.busy": "2023-12-20T16:54:27.683874Z",
     "iopub.status.idle": "2023-12-20T16:54:27.794550Z",
     "shell.execute_reply": "2023-12-20T16:54:27.794550Z",
     "shell.execute_reply.started": "2023-12-20T16:54:27.683874Z"
    }
   },
   "outputs": [],
   "source": [
    "df['county'] = df['county'].map(county_id_to_name_map)\n",
    "df['is_business'] = df['is_business'].map({0: False, 1: True})\n",
    "df['product_type'] = df['product_type'].map({0: \"Combined\", 1: \"Fixed\", 2: \"General service\", 3: \"Spot\"})\n",
    "df['is_consumption'] = df['is_consumption'].map({0: False, 1: True})\n",
    "\n",
    "# cat = ['county','is_business','product_type','is_consumption']\n",
    "# df[cat] = df[cat].astype('category')"
   ]
  },
  {
   "cell_type": "code",
   "execution_count": 10,
   "id": "2d20f3c3-1228-4bb2-a4a9-d13972c67161",
   "metadata": {
    "execution": {
     "iopub.execute_input": "2023-12-20T16:54:27.796063Z",
     "iopub.status.busy": "2023-12-20T16:54:27.794550Z",
     "iopub.status.idle": "2023-12-20T16:54:28.008782Z",
     "shell.execute_reply": "2023-12-20T16:54:28.008782Z",
     "shell.execute_reply.started": "2023-12-20T16:54:27.796063Z"
    }
   },
   "outputs": [],
   "source": [
    "df = df.astype({\n",
    "#     \"county\": \"category\",\n",
    "#     \"is_business\": \"category\",\n",
    "#     \"product_type\": \"category\",\n",
    "#     \"is_consumption\": \"category\",\n",
    "    \"datetime\": \"datetime64[ns]\",})"
   ]
  },
  {
   "cell_type": "code",
   "execution_count": 11,
   "id": "b4ac8f03-5b96-432c-8c28-85e9c9557f58",
   "metadata": {
    "execution": {
     "iopub.execute_input": "2023-12-20T16:54:28.009787Z",
     "iopub.status.busy": "2023-12-20T16:54:28.009787Z",
     "iopub.status.idle": "2023-12-20T16:54:28.012471Z",
     "shell.execute_reply": "2023-12-20T16:54:28.012471Z",
     "shell.execute_reply.started": "2023-12-20T16:54:28.009787Z"
    }
   },
   "outputs": [],
   "source": [
    "# df = df.astype({\n",
    "#     \"county\": \"uint8\",\n",
    "#     \"is_business\": \"bool\",\n",
    "#     \"product_type\": \"uint8\",\n",
    "#     \"is_consumption\": \"bool\",\n",
    "#     \"datetime\": \"datetime64[ns]\",})"
   ]
  },
  {
   "cell_type": "code",
   "execution_count": 12,
   "id": "0263e096-5835-405d-a27a-10f8dcf28516",
   "metadata": {
    "execution": {
     "iopub.execute_input": "2023-12-20T16:54:28.013476Z",
     "iopub.status.busy": "2023-12-20T16:54:28.013476Z",
     "iopub.status.idle": "2023-12-20T16:54:28.015981Z",
     "shell.execute_reply": "2023-12-20T16:54:28.015981Z",
     "shell.execute_reply.started": "2023-12-20T16:54:28.013476Z"
    }
   },
   "outputs": [],
   "source": [
    "# df.describe(include=\"category\")"
   ]
  },
  {
   "cell_type": "markdown",
   "id": "bee221e3-449d-443a-8746-52dcfb1454b9",
   "metadata": {},
   "source": [
    "## Missing values and duplicates"
   ]
  },
  {
   "cell_type": "code",
   "execution_count": 13,
   "id": "99e18ec6-6550-43ad-923d-c6cee43c3835",
   "metadata": {
    "execution": {
     "iopub.execute_input": "2023-12-20T16:54:28.016988Z",
     "iopub.status.busy": "2023-12-20T16:54:28.016988Z",
     "iopub.status.idle": "2023-12-20T16:54:28.211394Z",
     "shell.execute_reply": "2023-12-20T16:54:28.211394Z",
     "shell.execute_reply.started": "2023-12-20T16:54:28.016988Z"
    }
   },
   "outputs": [
    {
     "data": {
      "text/plain": [
       "target    528\n",
       "dtype: int64"
      ]
     },
     "execution_count": 13,
     "metadata": {},
     "output_type": "execute_result"
    }
   ],
   "source": [
    "df.isna().sum()[df.isna().sum() != 0]"
   ]
  },
  {
   "cell_type": "code",
   "execution_count": 14,
   "id": "c6c9864b-3694-4fc0-a527-b0e4646f01fa",
   "metadata": {
    "execution": {
     "iopub.execute_input": "2023-12-20T16:54:28.212402Z",
     "iopub.status.busy": "2023-12-20T16:54:28.212402Z",
     "iopub.status.idle": "2023-12-20T16:54:29.381926Z",
     "shell.execute_reply": "2023-12-20T16:54:29.381926Z",
     "shell.execute_reply.started": "2023-12-20T16:54:28.212402Z"
    }
   },
   "outputs": [
    {
     "data": {
      "text/plain": [
       "0"
      ]
     },
     "execution_count": 14,
     "metadata": {},
     "output_type": "execute_result"
    }
   ],
   "source": [
    "df.duplicated().sum()"
   ]
  },
  {
   "cell_type": "markdown",
   "id": "a0480be7-c5d7-4265-aa0a-67b4732a020c",
   "metadata": {},
   "source": [
    "- ##### There are a small amount (528/2018352 < 0.1%) of missing values and no obvious duplicates in the dataframe."
   ]
  },
  {
   "cell_type": "code",
   "execution_count": 15,
   "id": "13d10588-3878-4385-b003-daab024fd662",
   "metadata": {
    "execution": {
     "iopub.execute_input": "2023-12-20T16:54:29.382934Z",
     "iopub.status.busy": "2023-12-20T16:54:29.382934Z",
     "iopub.status.idle": "2023-12-20T16:54:29.494615Z",
     "shell.execute_reply": "2023-12-20T16:54:29.494110Z",
     "shell.execute_reply.started": "2023-12-20T16:54:29.382934Z"
    }
   },
   "outputs": [
    {
     "data": {
      "text/html": [
       "<div>\n",
       "<style scoped>\n",
       "    .dataframe tbody tr th:only-of-type {\n",
       "        vertical-align: middle;\n",
       "    }\n",
       "\n",
       "    .dataframe tbody tr th {\n",
       "        vertical-align: top;\n",
       "    }\n",
       "\n",
       "    .dataframe thead th {\n",
       "        text-align: right;\n",
       "    }\n",
       "</style>\n",
       "<table border=\"1\" class=\"dataframe\">\n",
       "  <thead>\n",
       "    <tr style=\"text-align: right;\">\n",
       "      <th></th>\n",
       "      <th>county</th>\n",
       "      <th>is_business</th>\n",
       "      <th>product_type</th>\n",
       "      <th>target</th>\n",
       "      <th>is_consumption</th>\n",
       "      <th>datetime</th>\n",
       "      <th>data_block_id</th>\n",
       "      <th>row_id</th>\n",
       "      <th>prediction_unit_id</th>\n",
       "    </tr>\n",
       "  </thead>\n",
       "  <tbody>\n",
       "    <tr>\n",
       "      <th>178938</th>\n",
       "      <td>Harjumaa</td>\n",
       "      <td>False</td>\n",
       "      <td>Fixed</td>\n",
       "      <td>NaN</td>\n",
       "      <td>False</td>\n",
       "      <td>2021-10-31 03:00:00</td>\n",
       "      <td>60</td>\n",
       "      <td>178938</td>\n",
       "      <td>0</td>\n",
       "    </tr>\n",
       "    <tr>\n",
       "      <th>178939</th>\n",
       "      <td>Harjumaa</td>\n",
       "      <td>False</td>\n",
       "      <td>Fixed</td>\n",
       "      <td>NaN</td>\n",
       "      <td>True</td>\n",
       "      <td>2021-10-31 03:00:00</td>\n",
       "      <td>60</td>\n",
       "      <td>178939</td>\n",
       "      <td>0</td>\n",
       "    </tr>\n",
       "    <tr>\n",
       "      <th>178940</th>\n",
       "      <td>Harjumaa</td>\n",
       "      <td>False</td>\n",
       "      <td>General service</td>\n",
       "      <td>NaN</td>\n",
       "      <td>False</td>\n",
       "      <td>2021-10-31 03:00:00</td>\n",
       "      <td>60</td>\n",
       "      <td>178940</td>\n",
       "      <td>1</td>\n",
       "    </tr>\n",
       "    <tr>\n",
       "      <th>178941</th>\n",
       "      <td>Harjumaa</td>\n",
       "      <td>False</td>\n",
       "      <td>General service</td>\n",
       "      <td>NaN</td>\n",
       "      <td>True</td>\n",
       "      <td>2021-10-31 03:00:00</td>\n",
       "      <td>60</td>\n",
       "      <td>178941</td>\n",
       "      <td>1</td>\n",
       "    </tr>\n",
       "    <tr>\n",
       "      <th>178942</th>\n",
       "      <td>Harjumaa</td>\n",
       "      <td>False</td>\n",
       "      <td>Spot</td>\n",
       "      <td>NaN</td>\n",
       "      <td>False</td>\n",
       "      <td>2021-10-31 03:00:00</td>\n",
       "      <td>60</td>\n",
       "      <td>178942</td>\n",
       "      <td>2</td>\n",
       "    </tr>\n",
       "  </tbody>\n",
       "</table>\n",
       "</div>"
      ],
      "text/plain": [
       "          county  is_business     product_type  target  is_consumption  \\\n",
       "178938  Harjumaa        False            Fixed     NaN           False   \n",
       "178939  Harjumaa        False            Fixed     NaN            True   \n",
       "178940  Harjumaa        False  General service     NaN           False   \n",
       "178941  Harjumaa        False  General service     NaN            True   \n",
       "178942  Harjumaa        False             Spot     NaN           False   \n",
       "\n",
       "                  datetime  data_block_id  row_id  prediction_unit_id  \n",
       "178938 2021-10-31 03:00:00             60  178938                   0  \n",
       "178939 2021-10-31 03:00:00             60  178939                   0  \n",
       "178940 2021-10-31 03:00:00             60  178940                   1  \n",
       "178941 2021-10-31 03:00:00             60  178941                   1  \n",
       "178942 2021-10-31 03:00:00             60  178942                   2  "
      ]
     },
     "execution_count": 15,
     "metadata": {},
     "output_type": "execute_result"
    }
   ],
   "source": [
    "df[df.isna().any(axis=1)].head()"
   ]
  },
  {
   "cell_type": "code",
   "execution_count": 16,
   "id": "0f0a83d6-acc3-490d-87c3-fb762bc35da0",
   "metadata": {
    "execution": {
     "iopub.execute_input": "2023-12-20T16:54:29.494615Z",
     "iopub.status.busy": "2023-12-20T16:54:29.494615Z",
     "iopub.status.idle": "2023-12-20T16:54:29.598935Z",
     "shell.execute_reply": "2023-12-20T16:54:29.598935Z",
     "shell.execute_reply.started": "2023-12-20T16:54:29.494615Z"
    }
   },
   "outputs": [
    {
     "data": {
      "text/plain": [
       "<DatetimeArray>\n",
       "['2021-10-31 03:00:00', '2022-03-27 03:00:00', '2022-10-30 03:00:00',\n",
       " '2023-03-26 03:00:00']\n",
       "Length: 4, dtype: datetime64[ns]"
      ]
     },
     "execution_count": 16,
     "metadata": {},
     "output_type": "execute_result"
    }
   ],
   "source": [
    "na_datetime = df[df.isna().any(axis=1)].datetime.unique()\n",
    "na_datetime"
   ]
  },
  {
   "cell_type": "markdown",
   "id": "0be838fa-2d16-44f8-96df-b433498fe539",
   "metadata": {
    "execution": {
     "iopub.execute_input": "2023-12-17T16:40:02.041967Z",
     "iopub.status.busy": "2023-12-17T16:40:02.041967Z",
     "iopub.status.idle": "2023-12-17T16:40:02.046471Z",
     "shell.execute_reply": "2023-12-17T16:40:02.046471Z",
     "shell.execute_reply.started": "2023-12-17T16:40:02.041967Z"
    }
   },
   "source": [
    "- ##### All missing values correspond to the first/last hours of DST."
   ]
  },
  {
   "cell_type": "code",
   "execution_count": 17,
   "id": "5ed449f7-956d-45ad-8064-53eb1348afb8",
   "metadata": {
    "execution": {
     "iopub.execute_input": "2023-12-20T16:54:29.599942Z",
     "iopub.status.busy": "2023-12-20T16:54:29.599942Z",
     "iopub.status.idle": "2023-12-20T16:54:29.624507Z",
     "shell.execute_reply": "2023-12-20T16:54:29.624507Z",
     "shell.execute_reply.started": "2023-12-20T16:54:29.599942Z"
    }
   },
   "outputs": [
    {
     "data": {
      "text/plain": [
       "(528, 1)"
      ]
     },
     "execution_count": 17,
     "metadata": {},
     "output_type": "execute_result"
    }
   ],
   "source": [
    "df.loc[df['datetime'].isin(na_datetime),['target']].shape"
   ]
  },
  {
   "cell_type": "markdown",
   "id": "642330ac-1a10-4c32-a515-355d187c6c85",
   "metadata": {},
   "source": [
    "- ##### No not NaNs values at these timestamps."
   ]
  },
  {
   "cell_type": "markdown",
   "id": "b03a645b-9a1f-453d-bdd7-8b47f56a8b0e",
   "metadata": {},
   "source": [
    "## Target visualisation"
   ]
  },
  {
   "cell_type": "code",
   "execution_count": 18,
   "id": "2dce884e-9ae8-4deb-be57-485c68c0a0bb",
   "metadata": {
    "execution": {
     "iopub.execute_input": "2023-12-20T16:54:29.624507Z",
     "iopub.status.busy": "2023-12-20T16:54:29.624507Z",
     "iopub.status.idle": "2023-12-20T16:54:29.851220Z",
     "shell.execute_reply": "2023-12-20T16:54:29.851220Z",
     "shell.execute_reply.started": "2023-12-20T16:54:29.624507Z"
    }
   },
   "outputs": [
    {
     "data": {
      "text/plain": [
       "target\n",
       "0.000       351496\n",
       "0.001        10733\n",
       "0.003         6619\n",
       "0.002         5365\n",
       "0.004         4593\n",
       "             ...  \n",
       "425.261          1\n",
       "5878.224         1\n",
       "5206.098         1\n",
       "710.506          1\n",
       "197.233          1\n",
       "Name: count, Length: 565566, dtype: int64"
      ]
     },
     "execution_count": 18,
     "metadata": {},
     "output_type": "execute_result"
    }
   ],
   "source": [
    "df.target.value_counts()"
   ]
  },
  {
   "cell_type": "code",
   "execution_count": 21,
   "id": "323164f9-421d-45c0-abc2-01dca53d595d",
   "metadata": {
    "execution": {
     "iopub.execute_input": "2023-12-20T16:54:39.733796Z",
     "iopub.status.busy": "2023-12-20T16:54:39.732797Z",
     "iopub.status.idle": "2023-12-20T16:54:41.069864Z",
     "shell.execute_reply": "2023-12-20T16:54:41.069864Z",
     "shell.execute_reply.started": "2023-12-20T16:54:39.733796Z"
    }
   },
   "outputs": [
    {
     "data": {
      "text/plain": [
       "<seaborn.axisgrid.FacetGrid at 0x1fdfcda36d0>"
      ]
     },
     "execution_count": 21,
     "metadata": {},
     "output_type": "execute_result"
    },
    {
     "data": {
      "image/png": "[encoded data removed]",
      "text/plain": [
       "<Figure size 500x500 with 1 Axes>"
      ]
     },
     "metadata": {},
     "output_type": "display_data"
    }
   ],
   "source": [
    "sns.displot(\n",
    "    data = df,\n",
    "    x = 'target',\n",
    "    log_scale = True,\n",
    "    bins = 10,\n",
    "    # height = 6,\n",
    "    # aspect = 3,\n",
    ")"
   ]
  },
  {
   "cell_type": "code",
   "execution_count": null,
   "id": "c6cd7743-d394-4d30-bdb2-1ee9e6651c7b",
   "metadata": {
    "execution": {
     "iopub.status.busy": "2023-12-20T16:54:31.442639Z",
     "iopub.status.idle": "2023-12-20T16:54:31.443646Z",
     "shell.execute_reply": "2023-12-20T16:54:31.443646Z",
     "shell.execute_reply.started": "2023-12-20T16:54:31.443646Z"
    }
   },
   "outputs": [],
   "source": [
    "rows = 4\n",
    "cols = 1\n",
    "fig, ax = plt.subplots(\n",
    "    nrows = rows,\n",
    "    ncols = cols,\n",
    "    figsize = (12, 15),\n",
    ")\n",
    "\n",
    "for ind, column in enumerate(categories):\n",
    "    plt.subplot(rows, cols, 1 + ind)\n",
    "    data = (df[column]\n",
    "            .value_counts(normalize = True)\n",
    "            .rename(\"percentage\")\n",
    "            .mul(100)\n",
    "            .reset_index()\n",
    "            .round(2))\n",
    "\n",
    "    # Rounding for total sum == 100.0\n",
    "    data['percentage'] = (\n",
    "        data['percentage']\n",
    "        .transform(lambda x:\n",
    "                   pd.Series({x.index[0]: (100 - x.iloc[1:].sum())})\n",
    "                   .combine_first(x)))\n",
    "\n",
    "    barplot = sns.barplot(\n",
    "        data = data,\n",
    "        y = column,\n",
    "        x = \"percentage\",\n",
    "        hue = column,\n",
    "        orient = 'h',\n",
    "        legend = False\n",
    "    )\n",
    "    for container in barplot.containers:\n",
    "        barplot.bar_label(\n",
    "            container,\n",
    "            fmt=f\"%.{2}f\",)\n",
    "\n",
    "    # plt.legend('', frameon=False)\n",
    "    plt.ylabel(column, rotation = 0,labelpad = 60,)\n",
    "\n",
    "fig.align_ylabels()\n",
    "plt.show()"
   ]
  },
  {
   "cell_type": "markdown",
   "id": "4f60127d-6f40-4b5a-9690-1f5e4bbed6ef",
   "metadata": {
    "jp-MarkdownHeadingCollapsed": true
   },
   "source": [
    "# conclusions from BARPLOT"
   ]
  },
  {
   "cell_type": "code",
   "execution_count": null,
   "id": "145515da-2c3f-40e1-8ef0-038c08f74309",
   "metadata": {
    "execution": {
     "iopub.status.busy": "2023-12-20T16:54:31.443646Z",
     "iopub.status.idle": "2023-12-20T16:54:31.443646Z",
     "shell.execute_reply": "2023-12-20T16:54:31.443646Z",
     "shell.execute_reply.started": "2023-12-20T16:54:31.443646Z"
    }
   },
   "outputs": [],
   "source": [
    "# sorted_list = [\n",
    "#     \"county\",\n",
    "#     \"is_business\",\n",
    "#     \"product_type\",\n",
    "#     \"is_consumption\",\n",
    "# ]"
   ]
  },
  {
   "cell_type": "code",
   "execution_count": null,
   "id": "fc8a2d96-8ec1-4f91-bfae-3baec4a333b9",
   "metadata": {
    "execution": {
     "iopub.status.busy": "2023-12-20T16:54:31.444645Z",
     "iopub.status.idle": "2023-12-20T16:54:31.444645Z",
     "shell.execute_reply": "2023-12-20T16:54:31.444645Z",
     "shell.execute_reply.started": "2023-12-20T16:54:31.444645Z"
    }
   },
   "outputs": [],
   "source": [
    "# sorted_train = df.sort_values(sorted_list + ['datetime']).copy()\n",
    "\n",
    "# train_sg = df.sort_values(sorted_list).groupby(sorted_list, observed=True)\n",
    "\n",
    "# train_sg[['datetime']].apply(lambda x: x.duplicated()).sum()"
   ]
  },
  {
   "cell_type": "code",
   "execution_count": null,
   "id": "13808ab8-9d8e-43b8-9390-3c3b25365d86",
   "metadata": {
    "execution": {
     "iopub.status.busy": "2023-12-20T16:54:31.444645Z",
     "iopub.status.idle": "2023-12-20T16:54:31.444645Z",
     "shell.execute_reply": "2023-12-20T16:54:31.444645Z",
     "shell.execute_reply.started": "2023-12-20T16:54:31.444645Z"
    }
   },
   "outputs": [],
   "source": [
    "# ind = df.copy().dropna().set_index('datetime')"
   ]
  },
  {
   "cell_type": "code",
   "execution_count": null,
   "id": "e0613929-456b-47c9-a974-38113e327e18",
   "metadata": {
    "execution": {
     "iopub.status.busy": "2023-12-20T16:54:31.446151Z",
     "iopub.status.idle": "2023-12-20T16:54:31.446151Z",
     "shell.execute_reply": "2023-12-20T16:54:31.446151Z",
     "shell.execute_reply.started": "2023-12-20T16:54:31.446151Z"
    }
   },
   "outputs": [],
   "source": [
    "# df.plot(x='target',)\n",
    "# df.target.plot(kind='bar')"
   ]
  },
  {
   "cell_type": "code",
   "execution_count": null,
   "id": "002e2b67-9db4-4813-a20f-710ce66ea4d0",
   "metadata": {
    "execution": {
     "iopub.status.busy": "2023-12-20T16:54:31.447158Z",
     "iopub.status.idle": "2023-12-20T16:54:31.447158Z",
     "shell.execute_reply": "2023-12-20T16:54:31.447158Z",
     "shell.execute_reply.started": "2023-12-20T16:54:31.447158Z"
    }
   },
   "outputs": [],
   "source": [
    "fig, ax = plt.subplots(figsize=(18, 7))\n",
    "sns.scatterplot(\n",
    "    data=df,\n",
    "    x=\"datetime\",\n",
    "    y=\"target\",\n",
    "    s=1,\n",
    ")\n",
    "\n",
    "plt.title(\"Energy consumption and production\")\n",
    "plt.show()"
   ]
  },
  {
   "cell_type": "markdown",
   "id": "a7f2ea66-8764-407c-a83f-d24e06b60f4f",
   "metadata": {},
   "source": [
    "- ##### Target has seasonal, weekly and less noticeable montly cycles."
   ]
  },
  {
   "cell_type": "code",
   "execution_count": null,
   "id": "653087a7-b1e4-4dc7-86c5-b2b503e330e0",
   "metadata": {
    "execution": {
     "iopub.status.busy": "2023-12-20T16:54:31.448161Z",
     "iopub.status.idle": "2023-12-20T16:54:31.448161Z",
     "shell.execute_reply": "2023-12-20T16:54:31.448161Z",
     "shell.execute_reply.started": "2023-12-20T16:54:31.448161Z"
    }
   },
   "outputs": [],
   "source": [
    "# Added negative target values for better visualisation\n",
    "\n",
    "df[\"modified_target\"] = np.where(\n",
    "    df[\"is_consumption\"] == 1,\n",
    "    df[\"target\"] * (-1),\n",
    "    df[\"target\"],\n",
    ")"
   ]
  },
  {
   "cell_type": "code",
   "execution_count": null,
   "id": "0cacae87-e590-4a09-a29b-c039538698ea",
   "metadata": {
    "execution": {
     "iopub.status.busy": "2023-12-20T16:54:31.449174Z",
     "iopub.status.idle": "2023-12-20T16:54:31.450173Z",
     "shell.execute_reply": "2023-12-20T16:54:31.450173Z",
     "shell.execute_reply.started": "2023-12-20T16:54:31.450173Z"
    }
   },
   "outputs": [],
   "source": [
    "fig, ax = plt.subplots(figsize=(16, 10))\n",
    "sns.scatterplot(\n",
    "    data=df,\n",
    "    x=\"datetime\",\n",
    "    y=\"modified_target\",\n",
    "    hue=\"county\",\n",
    "    palette=PALETTE,\n",
    "    s=2,\n",
    ")\n",
    "\n",
    "\n",
    "plt.title(\n",
    "    \"Energy consumption (below 0) or production (above 0) for each subsegment\\\n",
    "in each hour\"\n",
    ")\n",
    "plt.legend(\n",
    "    title=\"County\",\n",
    "    bbox_to_anchor=(1.02, 1),\n",
    "    loc=\"upper left\",\n",
    "    borderaxespad=0,\n",
    "    markerscale=5,\n",
    ")\n",
    "\n",
    "months_locator = mdates.MonthLocator()\n",
    "ax.xaxis.set_major_locator(months_locator)\n",
    "plt.xticks(rotation=45)\n",
    "# plt.yscale('symlog')\n",
    "\n",
    "plt.grid(alpha=.3)\n",
    "plt.show()"
   ]
  },
  {
   "cell_type": "markdown",
   "id": "8ddf4a7a-f13d-4835-ac72-247d26f57633",
   "metadata": {
    "execution": {
     "iopub.execute_input": "2023-12-14T10:33:08.377854Z",
     "iopub.status.busy": "2023-12-14T10:33:08.377854Z",
     "iopub.status.idle": "2023-12-14T10:33:08.784470Z",
     "shell.execute_reply": "2023-12-14T10:33:08.781957Z",
     "shell.execute_reply.started": "2023-12-14T10:33:08.377854Z"
    },
    "jp-MarkdownHeadingCollapsed": true
   },
   "source": [
    "##### 1. The higher target value, the fewer such values. With large values, it becomes easy to distinguish values by county.\n",
    "##### 2. Maximum electricity consumption and production values are increasing from year to year.\n",
    "##### 3. Energy production in winter is significantly lower than in summer.\n",
    "##### 4. Energy consumption in winter is bigger than in summer.\n",
    "##### 5. During the New Year holidays, there is a decrease in electricity consumption.\n",
    "##### 6. Harjumaa county has highest individual values of energy consumption (for the entire observation period) and production (for spring-autumn period). Tartumaa has second highest values for the entire observation period except last twelve weeks when and Valgamaa get ahead in enrgy production."
   ]
  },
  {
   "cell_type": "markdown",
   "id": "7d625576-fee3-4b71-aff9-a9e34bd850e5",
   "metadata": {},
   "source": [
    "# barplot to check the second point\n",
    "# Because the data timeline is less than 2 years, not all months can be compared with the corresponding values from the previous year."
   ]
  },
  {
   "cell_type": "code",
   "execution_count": null,
   "id": "a7ff0471-8ff9-4ca2-952f-4ab5976d88e7",
   "metadata": {
    "execution": {
     "iopub.status.busy": "2023-12-20T16:54:31.450173Z",
     "iopub.status.idle": "2023-12-20T16:54:31.451173Z",
     "shell.execute_reply": "2023-12-20T16:54:31.451173Z",
     "shell.execute_reply.started": "2023-12-20T16:54:31.451173Z"
    }
   },
   "outputs": [],
   "source": [
    "df.sort_values('datetime').iloc[[0, -1]]"
   ]
  },
  {
   "cell_type": "markdown",
   "id": "c5049f19-5685-40b6-994d-712ad8531531",
   "metadata": {},
   "source": [
    "# The months are available for comparison from September to May."
   ]
  },
  {
   "cell_type": "code",
   "execution_count": null,
   "id": "e534e50b-dfdc-4dbb-a4b2-93fbb9679035",
   "metadata": {
    "execution": {
     "iopub.status.busy": "2023-12-20T16:54:31.451173Z",
     "iopub.status.idle": "2023-12-20T16:54:31.451173Z",
     "shell.execute_reply": "2023-12-20T16:54:31.451173Z",
     "shell.execute_reply.started": "2023-12-20T16:54:31.451173Z"
    }
   },
   "outputs": [],
   "source": [
    "df[\"month\"] = df[\"datetime\"].dt.month.astype(\"int8\")"
   ]
  },
  {
   "cell_type": "code",
   "execution_count": null,
   "id": "e272b12f-82e6-4fe4-a8c5-cf9c1c88ec5f",
   "metadata": {
    "execution": {
     "iopub.status.busy": "2023-12-20T16:54:31.452168Z",
     "iopub.status.idle": "2023-12-20T16:54:31.453168Z",
     "shell.execute_reply": "2023-12-20T16:54:31.453168Z",
     "shell.execute_reply.started": "2023-12-20T16:54:31.453168Z"
    }
   },
   "outputs": [],
   "source": [
    "descriptive_statistics_second = (\n",
    "    df\n",
    "    .query('datetime >= \"2022-09-01 00:00:00\"')\n",
    "    .groupby(['month', 'is_consumption',])[['target']]\n",
    "    .describe())"
   ]
  },
  {
   "cell_type": "code",
   "execution_count": null,
   "id": "4210fa76-ce9c-46ce-9e06-b56b63422642",
   "metadata": {
    "execution": {
     "iopub.status.busy": "2023-12-20T16:54:31.453168Z",
     "iopub.status.idle": "2023-12-20T16:54:31.453168Z",
     "shell.execute_reply": "2023-12-20T16:54:31.453168Z",
     "shell.execute_reply.started": "2023-12-20T16:54:31.453168Z"
    }
   },
   "outputs": [],
   "source": [
    "descriptive_statistics_first = (\n",
    "    df\n",
    "    .query('\"2021-09-01 00:00:00\" <= datetime < \"2022-06-01 00:00:00\"')\n",
    "    .groupby(['month', 'is_consumption',])[['target']]\n",
    "    .describe())"
   ]
  },
  {
   "cell_type": "code",
   "execution_count": null,
   "id": "0da586f3-b8b4-4717-9118-fb31439433de",
   "metadata": {
    "execution": {
     "iopub.status.busy": "2023-12-20T16:54:31.454167Z",
     "iopub.status.idle": "2023-12-20T16:54:31.454167Z",
     "shell.execute_reply": "2023-12-20T16:54:31.454167Z",
     "shell.execute_reply.started": "2023-12-20T16:54:31.454167Z"
    }
   },
   "outputs": [],
   "source": [
    "# descriptive_statistics_second.compare(descriptive_statistics_first, keep_equal = True)"
   ]
  },
  {
   "cell_type": "code",
   "execution_count": null,
   "id": "1b902e03-68e3-4339-b640-d3f6d812eb28",
   "metadata": {
    "execution": {
     "iopub.status.busy": "2023-12-20T16:54:31.455169Z",
     "iopub.status.idle": "2023-12-20T16:54:31.455169Z",
     "shell.execute_reply": "2023-12-20T16:54:31.455169Z",
     "shell.execute_reply.started": "2023-12-20T16:54:31.455169Z"
    }
   },
   "outputs": [],
   "source": [
    "# descriptive_statistics_first"
   ]
  },
  {
   "cell_type": "code",
   "execution_count": null,
   "id": "cd0472ac-4fdb-4001-9253-dd5d702f642f",
   "metadata": {
    "execution": {
     "iopub.status.busy": "2023-12-20T16:54:31.456168Z",
     "iopub.status.idle": "2023-12-20T16:54:31.456674Z",
     "shell.execute_reply": "2023-12-20T16:54:31.456674Z",
     "shell.execute_reply.started": "2023-12-20T16:54:31.456674Z"
    }
   },
   "outputs": [],
   "source": [
    "# descriptive_statistics_second"
   ]
  },
  {
   "cell_type": "markdown",
   "id": "ec9fde01-12af-432a-9ab4-ca8af9f0c6e0",
   "metadata": {},
   "source": [
    "# Delta in descriptive statistics of target values."
   ]
  },
  {
   "cell_type": "code",
   "execution_count": null,
   "id": "3f450af0-9b1e-40b4-a137-2d537ea90632",
   "metadata": {
    "execution": {
     "iopub.status.busy": "2023-12-20T16:54:31.456674Z",
     "iopub.status.idle": "2023-12-20T16:54:31.457680Z",
     "shell.execute_reply": "2023-12-20T16:54:31.456674Z",
     "shell.execute_reply.started": "2023-12-20T16:54:31.456674Z"
    }
   },
   "outputs": [],
   "source": [
    "# Delta in descriptive statistics of target values for months which there is data from several years relative to the first months (from september to may)"
   ]
  },
  {
   "cell_type": "code",
   "execution_count": null,
   "id": "2637125a-2fe4-43e2-9694-63e48c672d7b",
   "metadata": {
    "execution": {
     "iopub.status.busy": "2023-12-20T16:54:31.457680Z",
     "iopub.status.idle": "2023-12-20T16:54:31.457680Z",
     "shell.execute_reply": "2023-12-20T16:54:31.457680Z",
     "shell.execute_reply.started": "2023-12-20T16:54:31.457680Z"
    }
   },
   "outputs": [],
   "source": [
    "(((descriptive_statistics_second - descriptive_statistics_first)\n",
    "  / descriptive_statistics_first * 100)\n",
    " .fillna(0)\n",
    " .round(2)\n",
    " .replace([-np.inf, np.inf],'first value is 0')\n",
    ")\n",
    "# Numpy values: 0 / 0 = NaN, float / 0 = inf"
   ]
  },
  {
   "cell_type": "code",
   "execution_count": null,
   "id": "32fd68b5-4a89-4131-a987-e98600440b6d",
   "metadata": {
    "execution": {
     "iopub.status.busy": "2023-12-20T16:54:31.458686Z",
     "iopub.status.idle": "2023-12-20T16:54:31.458686Z",
     "shell.execute_reply": "2023-12-20T16:54:31.458686Z",
     "shell.execute_reply.started": "2023-12-20T16:54:31.458686Z"
    }
   },
   "outputs": [],
   "source": [
    "# The amount of available data has increased for all cases except March and April when it decreased and May when it did not change.\n",
    "# Mean values increased for almost all cases except production in March and November when it decreased.\n",
    "# Standard deviation increased in all cases\n",
    "# The maximum values increased in all cases, and the minimum values did not change in most cases"
   ]
  },
  {
   "cell_type": "code",
   "execution_count": null,
   "id": "b1f165c3-fdda-4fe4-9274-1bcc85a2dd1b",
   "metadata": {},
   "outputs": [],
   "source": []
  },
  {
   "cell_type": "code",
   "execution_count": null,
   "id": "9e5939ed-f779-4550-9faa-f2eb822f23c7",
   "metadata": {},
   "outputs": [],
   "source": []
  },
  {
   "cell_type": "code",
   "execution_count": null,
   "id": "e351f438-818b-4710-bfb7-ea1dde6dc4ba",
   "metadata": {
    "execution": {
     "iopub.status.busy": "2023-12-20T16:54:31.459687Z",
     "iopub.status.idle": "2023-12-20T16:54:31.459687Z",
     "shell.execute_reply": "2023-12-20T16:54:31.459687Z",
     "shell.execute_reply.started": "2023-12-20T16:54:31.459687Z"
    }
   },
   "outputs": [],
   "source": [
    "df['datetime'].nunique()"
   ]
  },
  {
   "cell_type": "markdown",
   "id": "7e6febe5-4ce0-4ef2-a37e-1e1f462cb25d",
   "metadata": {
    "execution": {
     "iopub.status.busy": "2023-12-17T13:35:31.779729Z",
     "iopub.status.idle": "2023-12-17T13:35:31.779729Z",
     "shell.execute_reply": "2023-12-17T13:35:31.779729Z",
     "shell.execute_reply.started": "2023-12-17T13:35:31.779729Z"
    }
   },
   "source": [
    "##### There are 15312 unique timestamps in the dataframe."
   ]
  },
  {
   "cell_type": "code",
   "execution_count": null,
   "id": "3e845a80-a306-49ad-8fe7-0eaf6e6e499c",
   "metadata": {
    "execution": {
     "iopub.status.busy": "2023-12-20T16:54:31.460685Z",
     "iopub.status.idle": "2023-12-20T16:54:31.460685Z",
     "shell.execute_reply": "2023-12-20T16:54:31.460685Z",
     "shell.execute_reply.started": "2023-12-20T16:54:31.460685Z"
    }
   },
   "outputs": [],
   "source": [
    "# df.groupby(['is_consumption', 'is_business', 'product_type', 'county'])[['target']].count().reset_index()"
   ]
  },
  {
   "cell_type": "code",
   "execution_count": null,
   "id": "5710c666-ab8f-41e0-8504-8fb8fc79a04a",
   "metadata": {
    "execution": {
     "iopub.status.busy": "2023-12-20T16:54:31.461685Z",
     "iopub.status.idle": "2023-12-20T16:54:31.461685Z",
     "shell.execute_reply": "2023-12-20T16:54:31.461685Z",
     "shell.execute_reply.started": "2023-12-20T16:54:31.461685Z"
    }
   },
   "outputs": [],
   "source": [
    "df.columns\n",
    "# 'county', 'is_business', 'product_type', 'target', 'is_consumption',"
   ]
  },
  {
   "cell_type": "code",
   "execution_count": null,
   "id": "17bc7a0f-36fa-4efe-8da2-3b15bfd63fb2",
   "metadata": {
    "execution": {
     "iopub.status.busy": "2023-12-20T16:54:31.461685Z",
     "iopub.status.idle": "2023-12-20T16:54:31.462687Z",
     "shell.execute_reply": "2023-12-20T16:54:31.462687Z",
     "shell.execute_reply.started": "2023-12-20T16:54:31.462687Z"
    }
   },
   "outputs": [],
   "source": [
    "df.groupby('is_consumption')[['target']].count()\n",
    "# продажи в разрезе месяца"
   ]
  },
  {
   "cell_type": "code",
   "execution_count": null,
   "id": "4786b840-0447-4556-9c8f-a5e1121bd188",
   "metadata": {
    "execution": {
     "iopub.status.busy": "2023-12-20T16:54:31.462687Z",
     "iopub.status.idle": "2023-12-20T16:54:31.462687Z",
     "shell.execute_reply": "2023-12-20T16:54:31.462687Z",
     "shell.execute_reply.started": "2023-12-20T16:54:31.462687Z"
    }
   },
   "outputs": [],
   "source": [
    "categories = ['county', 'is_business', 'product_type', 'is_consumption']\n",
    "target = 'target'"
   ]
  },
  {
   "cell_type": "code",
   "execution_count": null,
   "id": "5d8fbb83-9654-4a93-a9c6-f72f995d9742",
   "metadata": {
    "execution": {
     "iopub.status.busy": "2023-12-20T16:54:31.463686Z",
     "iopub.status.idle": "2023-12-20T16:54:31.463686Z",
     "shell.execute_reply": "2023-12-20T16:54:31.463686Z",
     "shell.execute_reply.started": "2023-12-20T16:54:31.463686Z"
    }
   },
   "outputs": [],
   "source": [
    "test = df.product_type.value_counts(normalize=True).rename(\"percentage\").mul(100).reset_index().round(2)\n",
    "test['percentage'] = test['percentage'].transform(lambda s: pd.Series({s.index[0]: (100 - s.iloc[1:].sum()).round(2)}).combine_first(s))\n",
    "test.percentage.sum()\n",
    "test"
   ]
  },
  {
   "cell_type": "code",
   "execution_count": null,
   "id": "f9f29737-bc99-44bf-baed-77bdff76885c",
   "metadata": {
    "execution": {
     "iopub.status.busy": "2023-12-20T16:54:31.464685Z",
     "iopub.status.idle": "2023-12-20T16:54:31.464685Z",
     "shell.execute_reply": "2023-12-20T16:54:31.464685Z",
     "shell.execute_reply.started": "2023-12-20T16:54:31.464685Z"
    }
   },
   "outputs": [],
   "source": [
    "data = df[column].value_counts(normalize=True).rename(\"percentage\").mul(100).reset_index().round(2)\n",
    "data['percentage'] = data['percentage'].transform(\n",
    "    lambda s: pd.Series({s.index[0]: (100 - s.iloc[1:].sum())})\n",
    "    .combine_first(s)\n",
    ")"
   ]
  },
  {
   "cell_type": "code",
   "execution_count": null,
   "id": "3e9c0fed-ad41-473d-9e96-48e6ffdabf28",
   "metadata": {
    "execution": {
     "iopub.status.busy": "2023-12-20T16:54:31.466196Z",
     "iopub.status.idle": "2023-12-20T16:54:31.466196Z",
     "shell.execute_reply": "2023-12-20T16:54:31.466196Z",
     "shell.execute_reply.started": "2023-12-20T16:54:31.466196Z"
    }
   },
   "outputs": [],
   "source": [
    "\n",
    "# for ind, column in enumerate(categories):\n",
    "#     data = df[column].value_counts(normalize=True).rename(\"percentage\").mul(100).reset_index().round(2)\n",
    "#     data['percentage'] = data['percentage'].transform(\n",
    "#         lambda s: pd.Series({s.index[0]: (100 - s.iloc[1:].sum())})\n",
    "#         .combine_first(s)\n",
    "#     )\n",
    "#     display(data['percentage'])"
   ]
  },
  {
   "attachments": {},
   "cell_type": "markdown",
   "id": "7fc9ac39-cae0-410b-b31f-c1000a02a7b0",
   "metadata": {
    "execution": {
     "iopub.execute_input": "2023-12-17T21:13:44.318056Z",
     "iopub.status.busy": "2023-12-17T21:13:44.317047Z",
     "iopub.status.idle": "2023-12-17T21:13:44.320287Z",
     "shell.execute_reply": "2023-12-17T21:13:44.320287Z",
     "shell.execute_reply.started": "2023-12-17T21:13:44.318056Z"
    }
   },
   "source": []
  },
  {
   "cell_type": "code",
   "execution_count": null,
   "id": "b43d9942-1613-44cb-8c57-483ef16503eb",
   "metadata": {
    "execution": {
     "iopub.status.busy": "2023-12-20T16:54:31.467206Z",
     "iopub.status.idle": "2023-12-20T16:54:31.467206Z",
     "shell.execute_reply": "2023-12-20T16:54:31.467206Z",
     "shell.execute_reply.started": "2023-12-20T16:54:31.467206Z"
    }
   },
   "outputs": [],
   "source": [
    "target_percentage = (\n",
    "    df.target\n",
    "    .value_counts(normalize=True)\n",
    "    .mul(100)\n",
    "    .rename(\"Percentage\")\n",
    "    .reset_index())\n",
    "\n",
    "target_percentage"
   ]
  },
  {
   "cell_type": "code",
   "execution_count": null,
   "id": "86d43801-4fdc-4704-8a4e-01e1c83acf80",
   "metadata": {
    "execution": {
     "iopub.status.busy": "2023-12-20T16:54:31.468206Z",
     "iopub.status.idle": "2023-12-20T16:54:31.468206Z",
     "shell.execute_reply": "2023-12-20T16:54:31.468206Z",
     "shell.execute_reply.started": "2023-12-20T16:54:31.468206Z"
    }
   },
   "outputs": [],
   "source": [
    "df.dropna().groupby(['is_consumption', 'datetime'])[['target',]].max().query('target < 0')"
   ]
  },
  {
   "cell_type": "code",
   "execution_count": null,
   "id": "06ff9b13-f70b-483e-ad01-ca530bd185c5",
   "metadata": {
    "execution": {
     "iopub.status.busy": "2023-12-20T16:54:31.469205Z",
     "iopub.status.idle": "2023-12-20T16:54:31.469205Z",
     "shell.execute_reply": "2023-12-20T16:54:31.469205Z",
     "shell.execute_reply.started": "2023-12-20T16:54:31.469205Z"
    }
   },
   "outputs": [],
   "source": [
    "(df\n",
    " .dropna()\n",
    " .set_index(['county'])\n",
    " .groupby(['is_consumption', 'datetime'])[['target',]]\n",
    " .idxmax()\n",
    " # .rename('')\n",
    ")"
   ]
  },
  {
   "cell_type": "code",
   "execution_count": null,
   "id": "c079a1ae-d6f6-4bf9-abff-beb29b05d1a1",
   "metadata": {
    "execution": {
     "iopub.status.busy": "2023-12-20T16:54:31.470205Z",
     "iopub.status.idle": "2023-12-20T16:54:31.470205Z",
     "shell.execute_reply": "2023-12-20T16:54:31.470205Z",
     "shell.execute_reply.started": "2023-12-20T16:54:31.470205Z"
    }
   },
   "outputs": [],
   "source": [
    "df."
   ]
  },
  {
   "cell_type": "code",
   "execution_count": null,
   "id": "124f2db0-abb3-4e63-bd01-ac48230fb6be",
   "metadata": {},
   "outputs": [],
   "source": []
  },
  {
   "cell_type": "code",
   "execution_count": null,
   "id": "83ea7b5c-2293-4836-8283-01b8770e4586",
   "metadata": {
    "execution": {
     "iopub.status.busy": "2023-12-20T16:54:31.471204Z",
     "iopub.status.idle": "2023-12-20T16:54:31.471204Z",
     "shell.execute_reply": "2023-12-20T16:54:31.471204Z",
     "shell.execute_reply.started": "2023-12-20T16:54:31.471204Z"
    }
   },
   "outputs": [],
   "source": [
    "testgrp = df.groupby(['is_consumption', 'datetime'])[['target',]].idxmin(skipna=True).reset_index()"
   ]
  },
  {
   "cell_type": "code",
   "execution_count": null,
   "id": "aabd8cb8-be02-4a17-afdf-6511f0b7ac7a",
   "metadata": {
    "execution": {
     "iopub.status.busy": "2023-12-20T16:54:31.471204Z",
     "iopub.status.idle": "2023-12-20T16:54:31.472206Z",
     "shell.execute_reply": "2023-12-20T16:54:31.472206Z",
     "shell.execute_reply.started": "2023-12-20T16:54:31.472206Z"
    }
   },
   "outputs": [],
   "source": [
    "testgrp[testgrp['datetime'] == '2021-09-01 12:00:00']"
   ]
  },
  {
   "cell_type": "code",
   "execution_count": null,
   "id": "147d8530-c073-4dcf-b515-6b4c8103f271",
   "metadata": {
    "execution": {
     "iopub.status.busy": "2023-12-20T16:54:31.472206Z",
     "iopub.status.idle": "2023-12-20T16:54:31.473209Z",
     "shell.execute_reply": "2023-12-20T16:54:31.473209Z",
     "shell.execute_reply.started": "2023-12-20T16:54:31.473209Z"
    }
   },
   "outputs": [],
   "source": [
    "df.query('datetime == \"2021-09-01 12:00:00\" and is_consumption == False').sort_values('target')"
   ]
  },
  {
   "cell_type": "code",
   "execution_count": null,
   "id": "feca46a7-35f7-4a2a-a431-fe1e2e9f875e",
   "metadata": {
    "execution": {
     "iopub.status.busy": "2023-12-20T16:54:31.473209Z",
     "iopub.status.idle": "2023-12-20T16:54:31.474206Z",
     "shell.execute_reply": "2023-12-20T16:54:31.474206Z",
     "shell.execute_reply.started": "2023-12-20T16:54:31.474206Z"
    }
   },
   "outputs": [],
   "source": [
    "# target_business = sns.relplot(\n",
    "#     data=df,\n",
    "#     x=\"datetime\",\n",
    "#     y=\"modified_target\",\n",
    "#     col=\"is_business\",\n",
    "#     hue=\"county\",\n",
    "#     height = 8,\n",
    "#     # aspect = 1.6,\n",
    "#     # size=\"size\",\n",
    "#     # style=\"sex\",\n",
    "#     palette=PALETTE,\n",
    "#     s=1,\n",
    "# )\n",
    "# # l = target_business._legend"
   ]
  },
  {
   "cell_type": "code",
   "execution_count": null,
   "id": "dd20a6c7-62f4-4fab-bfd0-a8de8602d691",
   "metadata": {
    "execution": {
     "iopub.status.busy": "2023-12-20T16:54:31.474206Z",
     "iopub.status.idle": "2023-12-20T16:54:31.475210Z",
     "shell.execute_reply": "2023-12-20T16:54:31.474206Z",
     "shell.execute_reply.started": "2023-12-20T16:54:31.474206Z"
    }
   },
   "outputs": [],
   "source": [
    "sns.relplot(\n",
    "    data=df,\n",
    "    x=\"datetime\",\n",
    "    y=\"modified_target\",\n",
    "    row='is_business',\n",
    "    col=\"product_type\",\n",
    "    hue=\"county\",\n",
    "    palette=PALETTE,\n",
    "    s=4,\n",
    ")"
   ]
  },
  {
   "cell_type": "code",
   "execution_count": null,
   "id": "5aabd771-311f-44f7-b4fb-952272b6210d",
   "metadata": {},
   "outputs": [],
   "source": []
  },
  {
   "cell_type": "code",
   "execution_count": null,
   "id": "998a0598-74a6-45b9-84f7-9d57e6894029",
   "metadata": {
    "execution": {
     "iopub.status.busy": "2023-12-20T16:54:31.475210Z",
     "iopub.status.idle": "2023-12-20T16:54:31.476205Z",
     "shell.execute_reply": "2023-12-20T16:54:31.476205Z",
     "shell.execute_reply.started": "2023-12-20T16:54:31.476205Z"
    }
   },
   "outputs": [],
   "source": [
    "df.query('is_business == False and product_type == \"Combined\"')"
   ]
  },
  {
   "cell_type": "code",
   "execution_count": null,
   "id": "a1013f65-c9b4-456e-9d9c-f6cd37ee9689",
   "metadata": {},
   "outputs": [],
   "source": []
  },
  {
   "cell_type": "markdown",
   "id": "d966293f-b8c7-48b9-8ac9-0ae03a95fa55",
   "metadata": {
    "execution": {
     "iopub.execute_input": "2023-12-14T15:12:21.284073Z",
     "iopub.status.busy": "2023-12-14T15:12:21.284073Z",
     "iopub.status.idle": "2023-12-14T15:12:21.288063Z",
     "shell.execute_reply": "2023-12-14T15:12:21.287529Z",
     "shell.execute_reply.started": "2023-12-14T15:12:21.284073Z"
    }
   },
   "source": [
    "# conclusions from relpot"
   ]
  },
  {
   "cell_type": "code",
   "execution_count": null,
   "id": "43552525-82b8-46b0-bb03-877212acd715",
   "metadata": {
    "execution": {
     "iopub.status.busy": "2023-12-20T16:54:31.476710Z",
     "iopub.status.idle": "2023-12-20T16:54:31.476710Z",
     "shell.execute_reply": "2023-12-20T16:54:31.476710Z",
     "shell.execute_reply.started": "2023-12-20T16:54:31.476710Z"
    }
   },
   "outputs": [],
   "source": [
    "fig, ax = plt.subplots(figsize=(18, 8))\n",
    "sns.boxenplot(\n",
    "    data=df,\n",
    "    x=\"county\",\n",
    "    y=\"target\",\n",
    "    hue=\"is_consumption\",\n",
    "    # k_depth = 'full'\n",
    "    # split=True,\n",
    "    # style='is_business',\n",
    ")\n",
    "\n",
    "plt.title(\n",
    "    \"Comparison of energy production and consumption in each county\"\n",
    ")\n",
    "# plt.legend(\n",
    "#     bbox_to_anchor=(1.01, 1),\n",
    "#     loc=\"upper left\",\n",
    "#     borderaxespad=0,\n",
    "#     # markerscale=3,\n",
    "# )\n",
    "\n",
    "for i in range(df.county.nunique()):\n",
    "    ax.axvline(\n",
    "        i -.5,\n",
    "        color=\"black\",\n",
    "        alpha=.2\n",
    "    )\n",
    "\n",
    "plt.xticks(rotation=45)\n",
    "\n",
    "plt.yscale('log')\n",
    "# plt.grid(axis='y',alpha=.2)\n",
    "\n",
    "plt.show()"
   ]
  },
  {
   "cell_type": "code",
   "execution_count": null,
   "id": "949a00e3-ed74-436b-befd-466e7c620b34",
   "metadata": {
    "execution": {
     "iopub.status.busy": "2023-12-20T16:54:31.476710Z",
     "iopub.status.idle": "2023-12-20T16:54:31.476710Z",
     "shell.execute_reply": "2023-12-20T16:54:31.476710Z",
     "shell.execute_reply.started": "2023-12-20T16:54:31.476710Z"
    }
   },
   "outputs": [],
   "source": [
    "df.columns"
   ]
  },
  {
   "cell_type": "markdown",
   "id": "080e5ed5-976b-41cd-b096-a117880e2158",
   "metadata": {},
   "source": [
    "# conclusions from boxenplot"
   ]
  },
  {
   "cell_type": "code",
   "execution_count": null,
   "id": "776d8e34-9664-48ca-9869-d96909e2d6e6",
   "metadata": {
    "execution": {
     "iopub.status.busy": "2023-12-20T16:54:31.479225Z",
     "iopub.status.idle": "2023-12-20T16:54:31.479225Z",
     "shell.execute_reply": "2023-12-20T16:54:31.479225Z",
     "shell.execute_reply.started": "2023-12-20T16:54:31.479225Z"
    }
   },
   "outputs": [],
   "source": [
    "фывфы"
   ]
  },
  {
   "cell_type": "code",
   "execution_count": null,
   "id": "1d7b5526-bd12-4e15-9afe-0deac31b1963",
   "metadata": {
    "execution": {
     "iopub.status.busy": "2023-12-20T16:54:31.480227Z",
     "iopub.status.idle": "2023-12-20T16:54:31.480227Z",
     "shell.execute_reply": "2023-12-20T16:54:31.480227Z",
     "shell.execute_reply.started": "2023-12-20T16:54:31.480227Z"
    }
   },
   "outputs": [],
   "source": [
    "sns.pairplot(\n",
    "    data=df.sample(100000).drop(columns=['target','data_block_id','row_id','prediction_unit_id',]),\n",
    "    hue=\"is_business\",\n",
    "    # markers=[\"o\", \"s\", \"D\"],\n",
    ")"
   ]
  },
  {
   "cell_type": "code",
   "execution_count": null,
   "id": "08353ac0-22d1-4c86-a651-715abfa5d981",
   "metadata": {
    "execution": {
     "iopub.status.busy": "2023-12-20T16:54:31.481227Z",
     "iopub.status.idle": "2023-12-20T16:54:31.481227Z",
     "shell.execute_reply": "2023-12-20T16:54:31.481227Z",
     "shell.execute_reply.started": "2023-12-20T16:54:31.481227Z"
    }
   },
   "outputs": [],
   "source": [
    "# <!-- - Visualization of missing data and zeros using lineplot of the daily average\n",
    "\n",
    "df_for_mean_day = df.copy()\n",
    "df_for_mean_day['date'] = df_for_mean_day['datetime'].dt.date\n",
    "\n",
    "fig = plt.figure(figsize=(20, 7))\n",
    "ax = sns.lineplot(\n",
    "    data=(df_for_mean_day\n",
    "          .groupby([\"date\", \"product_type\", \"county\"],observed=True)[\"target\"]\n",
    "          .mean()\n",
    "          .reset_index(name=\"target\")),\n",
    "    x='date',\n",
    "    y='target',\n",
    "    style=\"product_type\",\n",
    "    hue=\"county\",\n",
    "    ax=fig.gca(),)\n",
    "ax.grid(), ax.set_yscale('log')\n",
    "ax.legend(loc='center right', bbox_to_anchor=(1.15, 0.5))"
   ]
  },
  {
   "cell_type": "code",
   "execution_count": null,
   "id": "476536f9-7d22-4e44-9bf2-02e8b743182e",
   "metadata": {},
   "outputs": [],
   "source": []
  },
  {
   "cell_type": "code",
   "execution_count": null,
   "id": "985d3cb2-29e8-46d7-93e5-8e676940cc2a",
   "metadata": {
    "execution": {
     "iopub.status.busy": "2023-12-20T16:54:31.482224Z",
     "iopub.status.idle": "2023-12-20T16:54:31.483226Z",
     "shell.execute_reply": "2023-12-20T16:54:31.482224Z",
     "shell.execute_reply.started": "2023-12-20T16:54:31.482224Z"
    }
   },
   "outputs": [],
   "source": [
    "result = seasonal_decompose(\n",
    "    x=ind.query('is_consumption == 0 and county == 0')['target'],\n",
    "    model='additive',\n",
    "    period=720,\n",
    ")\n",
    "\n",
    "result.plot()\n",
    "plt.show()"
   ]
  },
  {
   "cell_type": "markdown",
   "id": "13631e95-861c-4e06-9711-0c5409d65b7e",
   "metadata": {},
   "source": [
    "- Visualization of seasonal_decompose\n",
    "\n",
    "<!-- # result = seasonal_decompose(train_set, model='additive', period=12)  # Assuming seasonality is 24 hours\n",
    "# trend = result.trend.dropna()\n",
    "# seasonal = result.seasonal.dropna()\n",
    "# residual = result.resid.dropna()\n",
    "\n",
    "# plt.figure(figsize=(12, 8))\n",
    "\n",
    "# plt.subplot(4, 1, 1)\n",
    "# plt.plot(train_set, label='Original Series')\n",
    "# plt.title('Original Series')\n",
    "\n",
    "# plt.subplot(4, 1, 2)\n",
    "# plt.plot(trend, label='Trend')\n",
    "# plt.title('Trend Component')\n",
    "\n",
    "# plt.subplot(4, 1, 3)\n",
    "# plt.plot(seasonal, label='Seasonal')\n",
    "# plt.title('Seasonal Component')\n",
    "\n",
    "# plt.subplot(4, 1, 4)\n",
    "# plt.plot(residual, label='Residuals')\n",
    "# plt.title('Residual Component')\n",
    "\n",
    "# plt.tight_layout()\n",
    "# plt.show() -->"
   ]
  },
  {
   "cell_type": "code",
   "execution_count": null,
   "id": "f1c6d049-1878-42a2-9552-8278a5fba743",
   "metadata": {},
   "outputs": [],
   "source": []
  },
  {
   "cell_type": "code",
   "execution_count": null,
   "id": "f8fac409-8f0a-4c06-98b7-59b2aacb7311",
   "metadata": {
    "execution": {
     "iopub.status.busy": "2023-12-20T16:54:31.483226Z",
     "iopub.status.idle": "2023-12-20T16:54:31.484230Z",
     "shell.execute_reply": "2023-12-20T16:54:31.484230Z",
     "shell.execute_reply.started": "2023-12-20T16:54:31.484230Z"
    }
   },
   "outputs": [],
   "source": [
    "df_for_missing = df.copy()"
   ]
  },
  {
   "cell_type": "code",
   "execution_count": null,
   "id": "f15bdfe7-0a16-4985-8cd1-b68142068315",
   "metadata": {
    "execution": {
     "iopub.status.busy": "2023-12-20T16:54:31.484230Z",
     "iopub.status.idle": "2023-12-20T16:54:31.484230Z",
     "shell.execute_reply": "2023-12-20T16:54:31.484230Z",
     "shell.execute_reply.started": "2023-12-20T16:54:31.484230Z"
    }
   },
   "outputs": [],
   "source": [
    "df_for_missing['hourstamp'] = ((df_for_missing['datetime'] - df_for_missing['datetime'].min())/pd.Timedelta(hours=1)).astype(int)\n",
    "df_for_missing[['hourstamp','datetime',]].max()"
   ]
  },
  {
   "cell_type": "code",
   "execution_count": null,
   "id": "48f26000-fc80-46a7-8c05-be8297c8f28a",
   "metadata": {
    "execution": {
     "iopub.status.busy": "2023-12-20T16:54:31.485226Z",
     "iopub.status.idle": "2023-12-20T16:54:31.485226Z",
     "shell.execute_reply": "2023-12-20T16:54:31.485226Z",
     "shell.execute_reply.started": "2023-12-20T16:54:31.485226Z"
    }
   },
   "outputs": [],
   "source": [
    "df_for_missing['group_index'] = df_for_missing.groupby(sorted_list, observed=True).ngroup()\n",
    "# df_for_missing"
   ]
  },
  {
   "cell_type": "code",
   "execution_count": null,
   "id": "870fab7f-1e8b-4855-b886-358af2218c65",
   "metadata": {
    "execution": {
     "iopub.status.busy": "2023-12-20T16:54:31.486228Z",
     "iopub.status.idle": "2023-12-20T16:54:31.486228Z",
     "shell.execute_reply": "2023-12-20T16:54:31.486228Z",
     "shell.execute_reply.started": "2023-12-20T16:54:31.486228Z"
    }
   },
   "outputs": [],
   "source": [
    "df_for_missing['group_index'].nunique()"
   ]
  },
  {
   "cell_type": "code",
   "execution_count": null,
   "id": "0bdfc974-646a-494c-a972-83f906716c15",
   "metadata": {
    "execution": {
     "iopub.status.busy": "2023-12-20T16:54:31.487261Z",
     "iopub.status.idle": "2023-12-20T16:54:31.488368Z",
     "shell.execute_reply": "2023-12-20T16:54:31.488368Z",
     "shell.execute_reply.started": "2023-12-20T16:54:31.488262Z"
    }
   },
   "outputs": [],
   "source": [
    "missmap = np.empty(\n",
    "    (df_for_missing.hourstamp.max() + 1, df_for_missing['group_index'].nunique(),))\n",
    "missmap.fill(np.nan)\n",
    "\n",
    "for obs in df_for_missing.values:\n",
    "    missmap[int(obs[9]), (obs[10])] = 0 if obs[3]==0 else 1"
   ]
  },
  {
   "cell_type": "code",
   "execution_count": null,
   "id": "1d63da6b-f504-47e7-8ed7-fb7a22e64c2f",
   "metadata": {
    "execution": {
     "iopub.status.busy": "2023-12-20T16:54:31.488875Z",
     "iopub.status.idle": "2023-12-20T16:54:31.488875Z",
     "shell.execute_reply": "2023-12-20T16:54:31.488875Z",
     "shell.execute_reply.started": "2023-12-20T16:54:31.488875Z"
    },
    "scrolled": true
   },
   "outputs": [],
   "source": [
    "fig, ax = plt.subplots(figsize=(22, 80))\n",
    "sns.heatmap(missmap, cmap='Paired', cbar=False)"
   ]
  },
  {
   "cell_type": "code",
   "execution_count": null,
   "id": "4f9e05be-f3eb-4494-8290-59127f85ed8e",
   "metadata": {
    "execution": {
     "iopub.status.busy": "2023-12-20T16:54:31.489885Z",
     "iopub.status.idle": "2023-12-20T16:54:31.489885Z",
     "shell.execute_reply": "2023-12-20T16:54:31.489885Z",
     "shell.execute_reply.started": "2023-12-20T16:54:31.489885Z"
    }
   },
   "outputs": [],
   "source": [
    "df_consumption = df.loc[df['is_consumption'] == 1].copy()\n",
    "df_consumption['consumption_index'] = df_consumption.groupby(['county', 'is_business', 'product_type',], observed=True).ngroup()\n",
    "df_consumption['hourstamp'] = ((df_consumption['datetime'] - df_consumption['datetime'].min())/pd.Timedelta(hours=1)).astype(int)\n",
    "\n",
    "df_production = df.loc[df['is_consumption'] == 0].copy()\n",
    "df_production['production_index'] = df_production.groupby(['county', 'is_business', 'product_type',], observed=True).ngroup()\n",
    "df_production['hourstamp'] = ((df_production['datetime'] - df_production['datetime'].min())/pd.Timedelta(hours=1)).astype(int)"
   ]
  },
  {
   "cell_type": "code",
   "execution_count": null,
   "id": "a4d580d8-425c-4a96-928b-7e7ca1863914",
   "metadata": {
    "execution": {
     "iopub.status.busy": "2023-12-20T16:54:31.490886Z",
     "iopub.status.idle": "2023-12-20T16:54:31.490886Z",
     "shell.execute_reply": "2023-12-20T16:54:31.490886Z",
     "shell.execute_reply.started": "2023-12-20T16:54:31.490886Z"
    }
   },
   "outputs": [],
   "source": [
    "df_consumption.columns"
   ]
  },
  {
   "cell_type": "code",
   "execution_count": null,
   "id": "2621edd4-f40f-422b-8532-2b715f316eb7",
   "metadata": {
    "execution": {
     "iopub.status.busy": "2023-12-20T16:54:31.491882Z",
     "iopub.status.idle": "2023-12-20T16:54:31.491882Z",
     "shell.execute_reply": "2023-12-20T16:54:31.491882Z",
     "shell.execute_reply.started": "2023-12-20T16:54:31.491882Z"
    }
   },
   "outputs": [],
   "source": [
    "misscon = np.empty(\n",
    "    (df_consumption.hourstamp.max() + 1, df_consumption['consumption_index'].nunique(),))\n",
    "misscon.fill(np.nan)\n",
    "\n",
    "for obs in df_consumption.values:\n",
    "    misscon[obs[10], obs[9]] = 0 if obs[3]==0 else 1"
   ]
  },
  {
   "cell_type": "code",
   "execution_count": null,
   "id": "77df87bd-25da-47fe-8f91-5a40566684c8",
   "metadata": {
    "execution": {
     "iopub.status.busy": "2023-12-20T16:54:31.492882Z",
     "iopub.status.idle": "2023-12-20T16:54:31.492882Z",
     "shell.execute_reply": "2023-12-20T16:54:31.492882Z",
     "shell.execute_reply.started": "2023-12-20T16:54:31.492882Z"
    },
    "scrolled": true
   },
   "outputs": [],
   "source": [
    "fig, ax = plt.subplots(figsize=(22, 60))\n",
    "sns.heatmap(misscon,\n",
    "            cmap='Paired_r',\n",
    "            # cmap=sns.diverging_palette(80, 160,),\n",
    "            cbar=False)"
   ]
  },
  {
   "cell_type": "code",
   "execution_count": null,
   "id": "3b8e16a9-530a-480d-b2ed-2d903cec4ad0",
   "metadata": {
    "execution": {
     "iopub.status.busy": "2023-12-20T16:54:31.493883Z",
     "iopub.status.idle": "2023-12-20T16:54:31.493883Z",
     "shell.execute_reply": "2023-12-20T16:54:31.493883Z",
     "shell.execute_reply.started": "2023-12-20T16:54:31.493883Z"
    }
   },
   "outputs": [],
   "source": [
    "df[1_500_000:].groupby('datetime')['target'].mean().plot(figsize=(20,10))"
   ]
  },
  {
   "cell_type": "code",
   "execution_count": null,
   "id": "7076fad4-a8b5-4166-b158-0bcf9dd5336b",
   "metadata": {
    "execution": {
     "iopub.status.busy": "2023-12-20T16:54:31.493883Z",
     "iopub.status.idle": "2023-12-20T16:54:31.494882Z",
     "shell.execute_reply": "2023-12-20T16:54:31.493883Z",
     "shell.execute_reply.started": "2023-12-20T16:54:31.493883Z"
    }
   },
   "outputs": [],
   "source": [
    "client_df = pd.read_csv(\"client.csv\",)"
   ]
  },
  {
   "cell_type": "code",
   "execution_count": null,
   "id": "06d8bee9-f82c-48d0-8599-1564fd1f4c4f",
   "metadata": {
    "execution": {
     "iopub.status.busy": "2023-12-20T16:54:31.494882Z",
     "iopub.status.idle": "2023-12-20T16:54:31.495882Z",
     "shell.execute_reply": "2023-12-20T16:54:31.494882Z",
     "shell.execute_reply.started": "2023-12-20T16:54:31.494882Z"
    }
   },
   "outputs": [],
   "source": [
    "client_df"
   ]
  },
  {
   "cell_type": "code",
   "execution_count": null,
   "id": "a7444a5e-e842-4f35-ac85-80c8524c3980",
   "metadata": {
    "execution": {
     "iopub.status.busy": "2023-12-20T16:54:31.495882Z",
     "iopub.status.idle": "2023-12-20T16:54:31.495882Z",
     "shell.execute_reply": "2023-12-20T16:54:31.495882Z",
     "shell.execute_reply.started": "2023-12-20T16:54:31.495882Z"
    }
   },
   "outputs": [],
   "source": [
    "client_df.info()"
   ]
  },
  {
   "cell_type": "code",
   "execution_count": null,
   "id": "c86c8322-3a81-48b8-aaf4-d66115db5fcd",
   "metadata": {
    "execution": {
     "iopub.status.busy": "2023-12-20T16:54:31.496985Z",
     "iopub.status.idle": "2023-12-20T16:54:31.496985Z",
     "shell.execute_reply": "2023-12-20T16:54:31.496985Z",
     "shell.execute_reply.started": "2023-12-20T16:54:31.496985Z"
    }
   },
   "outputs": [],
   "source": [
    "client_df = client_df.astype({\n",
    "    'product_type': 'category',\n",
    "    'county': 'category',\n",
    "    'is_business': 'category',\n",
    "    'date': \"datetime64[ns]\",})\n",
    "client_df.info()"
   ]
  },
  {
   "cell_type": "code",
   "execution_count": null,
   "id": "8fecc2da-c69d-440a-8979-6a3016c313c9",
   "metadata": {
    "execution": {
     "iopub.status.busy": "2023-12-20T16:54:31.497985Z",
     "iopub.status.idle": "2023-12-20T16:54:31.497985Z",
     "shell.execute_reply": "2023-12-20T16:54:31.497985Z",
     "shell.execute_reply.started": "2023-12-20T16:54:31.497985Z"
    }
   },
   "outputs": [],
   "source": [
    "client_df.date = client_df.date.dt.date"
   ]
  },
  {
   "cell_type": "code",
   "execution_count": null,
   "id": "1615b244-b217-49be-af66-7af8f5249562",
   "metadata": {
    "execution": {
     "iopub.status.busy": "2023-12-20T16:54:31.498984Z",
     "iopub.status.idle": "2023-12-20T16:54:31.498984Z",
     "shell.execute_reply": "2023-12-20T16:54:31.498984Z",
     "shell.execute_reply.started": "2023-12-20T16:54:31.498984Z"
    }
   },
   "outputs": [],
   "source": [
    "# df.date = df.datetime.dt.date"
   ]
  },
  {
   "cell_type": "code",
   "execution_count": null,
   "id": "1f2337dc-9739-4605-9b50-6a10d4d7fde5",
   "metadata": {
    "execution": {
     "iopub.status.busy": "2023-12-20T16:54:31.499985Z",
     "iopub.status.idle": "2023-12-20T16:54:31.499985Z",
     "shell.execute_reply": "2023-12-20T16:54:31.499985Z",
     "shell.execute_reply.started": "2023-12-20T16:54:31.499985Z"
    }
   },
   "outputs": [],
   "source": [
    "sorted_list"
   ]
  },
  {
   "cell_type": "code",
   "execution_count": null,
   "id": "10c548a5-6b5e-4b4b-b522-f942ebd3c53f",
   "metadata": {
    "execution": {
     "iopub.status.busy": "2023-12-20T16:54:31.500985Z",
     "iopub.status.idle": "2023-12-20T16:54:31.500985Z",
     "shell.execute_reply": "2023-12-20T16:54:31.500985Z",
     "shell.execute_reply.started": "2023-12-20T16:54:31.500985Z"
    }
   },
   "outputs": [],
   "source": [
    "df = pd.merge(\n",
    "    df,\n",
    "    client_df,\n",
    "    how=\"left\",\n",
    "    on=[\"data_block_id\",\n",
    "        \"county\",\n",
    "        \"is_business\",\n",
    "        \"product_type\",],\n",
    "    # validate=\"m:1\"\n",
    "    # suffixes=('','current_')\n",
    ")"
   ]
  },
  {
   "cell_type": "code",
   "execution_count": null,
   "id": "0874165d-222f-4874-9b71-f23149e257a5",
   "metadata": {
    "execution": {
     "iopub.status.busy": "2023-12-20T16:54:31.501985Z",
     "iopub.status.idle": "2023-12-20T16:54:31.501985Z",
     "shell.execute_reply": "2023-12-20T16:54:31.501985Z",
     "shell.execute_reply.started": "2023-12-20T16:54:31.501985Z"
    }
   },
   "outputs": [],
   "source": [
    "df"
   ]
  },
  {
   "cell_type": "code",
   "execution_count": null,
   "id": "d9ce5f81-d9fb-448e-9b25-30209591956c",
   "metadata": {
    "execution": {
     "iopub.status.busy": "2023-12-20T16:54:31.502985Z",
     "iopub.status.idle": "2023-12-20T16:54:31.502985Z",
     "shell.execute_reply": "2023-12-20T16:54:31.502985Z",
     "shell.execute_reply.started": "2023-12-20T16:54:31.502985Z"
    }
   },
   "outputs": [],
   "source": [
    "df"
   ]
  },
  {
   "cell_type": "code",
   "execution_count": null,
   "id": "25a83d23-12a4-4178-bb84-7ae57d7837ae",
   "metadata": {
    "execution": {
     "iopub.status.busy": "2023-12-20T16:54:31.503987Z",
     "iopub.status.idle": "2023-12-20T16:54:31.503987Z",
     "shell.execute_reply": "2023-12-20T16:54:31.503987Z",
     "shell.execute_reply.started": "2023-12-20T16:54:31.503987Z"
    }
   },
   "outputs": [],
   "source": [
    "df.datetime + pd.Timedelta('2d')"
   ]
  },
  {
   "cell_type": "code",
   "execution_count": null,
   "id": "22ca0b81-0ccf-4e5a-8f50-2886baef6a6b",
   "metadata": {
    "execution": {
     "iopub.status.busy": "2023-12-20T16:54:31.504986Z",
     "iopub.status.idle": "2023-12-20T16:54:31.504986Z",
     "shell.execute_reply": "2023-12-20T16:54:31.504986Z",
     "shell.execute_reply.started": "2023-12-20T16:54:31.504986Z"
    }
   },
   "outputs": [],
   "source": [
    "df\n",
    ".eic_count.describe()"
   ]
  },
  {
   "cell_type": "code",
   "execution_count": null,
   "id": "ad2d5c74-1dc8-4c70-b7af-9bcebfca8fe4",
   "metadata": {
    "execution": {
     "iopub.status.busy": "2023-12-20T16:54:31.505986Z",
     "iopub.status.idle": "2023-12-20T16:54:31.506490Z",
     "shell.execute_reply": "2023-12-20T16:54:31.505986Z",
     "shell.execute_reply.started": "2023-12-20T16:54:31.505986Z"
    }
   },
   "outputs": [],
   "source": [
    "df.query('county == 0 and is_business == 0 and\tproduct_type == 1')[['target','eic_count','installed_capacity',]].plot(x='installed_capacity',y='eic_count')"
   ]
  },
  {
   "cell_type": "code",
   "execution_count": null,
   "id": "9b0d9971-8b03-4ab4-b14a-241e5b5da96a",
   "metadata": {
    "execution": {
     "iopub.status.busy": "2023-12-20T16:54:31.506490Z",
     "iopub.status.idle": "2023-12-20T16:54:31.506490Z",
     "shell.execute_reply": "2023-12-20T16:54:31.506490Z",
     "shell.execute_reply.started": "2023-12-20T16:54:31.506490Z"
    }
   },
   "outputs": [],
   "source": [
    "local_df = df.query('county == 0 and is_business == 0 and product_type == 1')\n",
    "sns.lineplot(\n",
    "    data = local_df[:1000][['datetime','target',]],\n",
    "    x = 'datetime',\n",
    "    y = 'target',)\n",
    "sns.lineplot(\n",
    "    data = local_df[:1000][['datetime','eic_count']],\n",
    "    x = 'datetime',\n",
    "    y = 'eic_count',)\n",
    "# plt.show"
   ]
  },
  {
   "cell_type": "code",
   "execution_count": null,
   "id": "4621ce1b-fedf-44b3-b162-84d9db63cbce",
   "metadata": {},
   "outputs": [],
   "source": []
  },
  {
   "cell_type": "code",
   "execution_count": null,
   "id": "86505492-b6b1-4346-af6b-1da27101e37e",
   "metadata": {},
   "outputs": [],
   "source": []
  },
  {
   "cell_type": "code",
   "execution_count": null,
   "id": "050c1477-4f51-45df-be14-bb5deff72124",
   "metadata": {},
   "outputs": [],
   "source": []
  },
  {
   "cell_type": "code",
   "execution_count": null,
   "id": "535e12ba-65ab-4865-bd67-104082875eef",
   "metadata": {},
   "outputs": [],
   "source": []
  },
  {
   "cell_type": "code",
   "execution_count": null,
   "id": "eeaaa0df-73c0-47f1-91e3-bf4e1b21e9d6",
   "metadata": {},
   "outputs": [],
   "source": []
  },
  {
   "cell_type": "code",
   "execution_count": null,
   "id": "84116833-bf98-49ef-a0f7-fa3737f5e715",
   "metadata": {
    "execution": {
     "iopub.status.busy": "2023-12-20T16:54:31.507496Z",
     "iopub.status.idle": "2023-12-20T16:54:31.507496Z",
     "shell.execute_reply": "2023-12-20T16:54:31.507496Z",
     "shell.execute_reply.started": "2023-12-20T16:54:31.507496Z"
    }
   },
   "outputs": [],
   "source": [
    "train_sg['datetime'].max().unique()"
   ]
  },
  {
   "cell_type": "markdown",
   "id": "f33dfb7a-46a1-4c65-9e99-b761ba9c333a",
   "metadata": {},
   "source": [
    "- Время последнего доступного наблюдения не одинаковое."
   ]
  },
  {
   "cell_type": "code",
   "execution_count": null,
   "id": "64c1ba4b-9c28-4fdb-bd48-8f4267d66e47",
   "metadata": {
    "execution": {
     "iopub.status.busy": "2023-12-20T16:54:31.508496Z",
     "iopub.status.idle": "2023-12-20T16:54:31.508496Z",
     "shell.execute_reply": "2023-12-20T16:54:31.508496Z",
     "shell.execute_reply.started": "2023-12-20T16:54:31.508496Z"
    }
   },
   "outputs": [],
   "source": [
    "train_sg['datetime'].diff().value_counts(dropna=False)"
   ]
  },
  {
   "cell_type": "code",
   "execution_count": null,
   "id": "26bac65b-5287-419b-bd82-bd8517f062ad",
   "metadata": {
    "execution": {
     "iopub.status.busy": "2023-12-20T16:54:31.509503Z",
     "iopub.status.idle": "2023-12-20T16:54:31.509503Z",
     "shell.execute_reply": "2023-12-20T16:54:31.509503Z",
     "shell.execute_reply.started": "2023-12-20T16:54:31.509503Z"
    }
   },
   "outputs": [],
   "source": [
    "train_dif = sorted_train.copy()\n",
    "train_dif['dif'] = train_sg['datetime'].diff()"
   ]
  },
  {
   "cell_type": "code",
   "execution_count": null,
   "id": "ec43be2d-9a83-428a-aeb1-28f8395c6fe0",
   "metadata": {
    "execution": {
     "iopub.status.busy": "2023-12-20T16:54:31.510502Z",
     "iopub.status.idle": "2023-12-20T16:54:31.510502Z",
     "shell.execute_reply": "2023-12-20T16:54:31.510502Z",
     "shell.execute_reply.started": "2023-12-20T16:54:31.510502Z"
    }
   },
   "outputs": [],
   "source": [
    "train_dif.loc[train_dif['dif']=='173 days 01:00:00']"
   ]
  },
  {
   "cell_type": "code",
   "execution_count": null,
   "id": "3c25780e-92c4-447c-896e-0789145dba08",
   "metadata": {
    "execution": {
     "iopub.status.busy": "2023-12-20T16:54:31.511502Z",
     "iopub.status.idle": "2023-12-20T16:54:31.511502Z",
     "shell.execute_reply": "2023-12-20T16:54:31.511502Z",
     "shell.execute_reply.started": "2023-12-20T16:54:31.511502Z"
    }
   },
   "outputs": [],
   "source": [
    "added_target = sorted_train.copy()\n",
    "added_target['target'] = added_target['target'] + 1e7"
   ]
  },
  {
   "cell_type": "code",
   "execution_count": null,
   "id": "661bedec-f7b3-4588-824c-534ed1cbe5ee",
   "metadata": {
    "execution": {
     "iopub.status.busy": "2023-12-20T16:54:31.512502Z",
     "iopub.status.idle": "2023-12-20T16:54:31.512502Z",
     "shell.execute_reply": "2023-12-20T16:54:31.512502Z",
     "shell.execute_reply.started": "2023-12-20T16:54:31.512502Z"
    }
   },
   "outputs": [],
   "source": [
    "timestamp_start = '2021-09-01'\n",
    "timestamp_stop = '2022-04-10'\n",
    "vis_segment = added_target.query(r\"county==10 and is_business==1 and product_type==2 and is_consumption==0 and @timestamp_start <=datetime<= @timestamp_stop\")\n",
    "\n",
    "fig, ax = plt.subplots(figsize=(15, 5))\n",
    "sns.scatterplot(\n",
    "    data=vis_segment,\n",
    "    x=\"datetime\",\n",
    "    y=\"target\",)\n",
    "# plt.xticks(range(0,vis_segment.shape[0]+1,240))\n",
    "plt.show()"
   ]
  },
  {
   "cell_type": "code",
   "execution_count": null,
   "id": "b3bdc046-4c51-4b57-921b-9a326d03c7f3",
   "metadata": {
    "execution": {
     "iopub.status.busy": "2023-12-20T16:54:31.513501Z",
     "iopub.status.idle": "2023-12-20T16:54:31.513501Z",
     "shell.execute_reply": "2023-12-20T16:54:31.513501Z",
     "shell.execute_reply.started": "2023-12-20T16:54:31.513501Z"
    }
   },
   "outputs": [],
   "source": [
    "df.query(\"county==0 and is_business==1 and product_type==2 and is_consumption==0 and '2021-11-15'<=datetime<='2022-03-19'\")"
   ]
  },
  {
   "cell_type": "code",
   "execution_count": null,
   "id": "2577860e-f737-4c4d-86b5-d7953284ed11",
   "metadata": {
    "execution": {
     "iopub.status.busy": "2023-12-20T16:54:31.514500Z",
     "iopub.status.idle": "2023-12-20T16:54:31.514500Z",
     "shell.execute_reply": "2023-12-20T16:54:31.514500Z",
     "shell.execute_reply.started": "2023-12-20T16:54:31.514500Z"
    }
   },
   "outputs": [],
   "source": [
    "train_dif.query(\"county==10 and is_business==1 and product_type==2 and is_consumption==0 and 180<=data_block_id<=205\")"
   ]
  },
  {
   "cell_type": "code",
   "execution_count": null,
   "id": "80d0156c-928b-4cce-8139-2a2d0d6d6fe3",
   "metadata": {
    "execution": {
     "iopub.status.busy": "2023-12-20T16:54:31.514500Z",
     "iopub.status.idle": "2023-12-20T16:54:31.514500Z",
     "shell.execute_reply": "2023-12-20T16:54:31.514500Z",
     "shell.execute_reply.started": "2023-12-20T16:54:31.514500Z"
    }
   },
   "outputs": [],
   "source": [
    "sorted_train.query('county==10 and is_business==1 and product_type==2 and is_consumption==0 and \"2022-01-23\" <= datetime <= \"2022-04-23\"')"
   ]
  },
  {
   "cell_type": "code",
   "execution_count": null,
   "id": "df93d91d-0137-4147-a532-cfaab8219d55",
   "metadata": {},
   "outputs": [],
   "source": []
  },
  {
   "cell_type": "code",
   "execution_count": null,
   "id": "c13387ce-d53d-4f85-a615-b4fdfc778cb2",
   "metadata": {},
   "outputs": [],
   "source": []
  },
  {
   "cell_type": "code",
   "execution_count": null,
   "id": "dc943fcc-1a4e-4653-8b86-f75b5922e19c",
   "metadata": {},
   "outputs": [],
   "source": []
  },
  {
   "cell_type": "code",
   "execution_count": null,
   "id": "c9cb5b0d-138c-4c13-96b9-3f5cfeb90442",
   "metadata": {},
   "outputs": [],
   "source": []
  },
  {
   "cell_type": "code",
   "execution_count": null,
   "id": "46319c75-3be3-45ec-83f1-880a13daa7eb",
   "metadata": {
    "execution": {
     "iopub.status.busy": "2023-12-20T16:54:31.516005Z",
     "iopub.status.idle": "2023-12-20T16:54:31.516005Z",
     "shell.execute_reply": "2023-12-20T16:54:31.516005Z",
     "shell.execute_reply.started": "2023-12-20T16:54:31.516005Z"
    }
   },
   "outputs": [],
   "source": [
    "train_mm = (\n",
    "    (train_sg[[\"datetime\"]].max()) -\n",
    "    (train_sg[[\"datetime\"]].min())) / (train_sg[[\"datetime\"]].count() - 1)\n",
    "\n",
    "train_mm.datetime.unique()"
   ]
  },
  {
   "cell_type": "code",
   "execution_count": null,
   "id": "76e45746-14fd-48e9-aa36-6014d481ab5e",
   "metadata": {
    "execution": {
     "iopub.status.busy": "2023-12-20T16:54:31.517013Z",
     "iopub.status.idle": "2023-12-20T16:54:31.517013Z",
     "shell.execute_reply": "2023-12-20T16:54:31.517013Z",
     "shell.execute_reply.started": "2023-12-20T16:54:31.517013Z"
    }
   },
   "outputs": [],
   "source": [
    "train_mm[train_mm['datetime'] == '0 days 01:03:03.867646049']"
   ]
  },
  {
   "cell_type": "code",
   "execution_count": null,
   "id": "1ee8010b-dbbf-4388-8b81-03d2ab5fa3af",
   "metadata": {
    "execution": {
     "iopub.status.busy": "2023-12-20T16:54:31.518015Z",
     "iopub.status.idle": "2023-12-20T16:54:31.518015Z",
     "shell.execute_reply": "2023-12-20T16:54:31.518015Z",
     "shell.execute_reply.started": "2023-12-20T16:54:31.518015Z"
    }
   },
   "outputs": [],
   "source": [
    "sorted_df = df.sort_values(sorted_list + ['datetime'])"
   ]
  },
  {
   "cell_type": "code",
   "execution_count": null,
   "id": "9e8bbf5d-6cf0-4c89-97bc-f92568198cd8",
   "metadata": {
    "execution": {
     "iopub.status.busy": "2023-12-20T16:54:31.519014Z",
     "iopub.status.idle": "2023-12-20T16:54:31.519014Z",
     "shell.execute_reply": "2023-12-20T16:54:31.519014Z",
     "shell.execute_reply.started": "2023-12-20T16:54:31.519014Z"
    }
   },
   "outputs": [],
   "source": [
    "first_df = sorted_df.query('county == 5 and is_business == 1 and product_type == 0 and is_consumption == 0').copy()"
   ]
  },
  {
   "cell_type": "code",
   "execution_count": null,
   "id": "3dd460d0-c220-4b21-9aed-d5a0909fa25d",
   "metadata": {
    "execution": {
     "iopub.status.busy": "2023-12-20T16:54:31.520012Z",
     "iopub.status.idle": "2023-12-20T16:54:31.520012Z",
     "shell.execute_reply": "2023-12-20T16:54:31.520012Z",
     "shell.execute_reply.started": "2023-12-20T16:54:31.520012Z"
    }
   },
   "outputs": [],
   "source": [
    "first_df['datetime'].diff().unique()"
   ]
  },
  {
   "cell_type": "code",
   "execution_count": null,
   "id": "9293d83b-bde6-41aa-8255-89290ddc5111",
   "metadata": {
    "execution": {
     "iopub.status.busy": "2023-12-20T16:54:31.521012Z",
     "iopub.status.idle": "2023-12-20T16:54:31.521012Z",
     "shell.execute_reply": "2023-12-20T16:54:31.521012Z",
     "shell.execute_reply.started": "2023-12-20T16:54:31.521012Z"
    }
   },
   "outputs": [],
   "source": [
    "first_df['diff'] = first_df['datetime'].diff()\n",
    "first_df = first_df.reset_index(drop=True)\n",
    "first_df.loc[first_df['diff'] == '31 days 01:00:00']"
   ]
  },
  {
   "cell_type": "code",
   "execution_count": null,
   "id": "9a2f4314-9fb8-4c2a-8449-5e3be5fb825e",
   "metadata": {
    "execution": {
     "iopub.status.busy": "2023-12-20T16:54:31.522011Z",
     "iopub.status.idle": "2023-12-20T16:54:31.522011Z",
     "shell.execute_reply": "2023-12-20T16:54:31.522011Z",
     "shell.execute_reply.started": "2023-12-20T16:54:31.522011Z"
    }
   },
   "outputs": [],
   "source": [
    "first_df[2926:2931]"
   ]
  },
  {
   "cell_type": "code",
   "execution_count": null,
   "id": "69fe2711-a6a0-4ead-98a2-8389ed9db3cd",
   "metadata": {
    "execution": {
     "iopub.status.busy": "2023-12-20T16:54:31.523011Z",
     "iopub.status.idle": "2023-12-20T16:54:31.523011Z",
     "shell.execute_reply": "2023-12-20T16:54:31.523011Z",
     "shell.execute_reply.started": "2023-12-20T16:54:31.523011Z"
    }
   },
   "outputs": [],
   "source": [
    "2023-05-31 23:00:00 2021-09-01"
   ]
  },
  {
   "cell_type": "code",
   "execution_count": null,
   "id": "d598a8f5-57f5-40e5-9a61-e982665c46f0",
   "metadata": {
    "execution": {
     "iopub.status.busy": "2023-12-20T16:54:31.524011Z",
     "iopub.status.idle": "2023-12-20T16:54:31.524011Z",
     "shell.execute_reply": "2023-12-20T16:54:31.524011Z",
     "shell.execute_reply.started": "2023-12-20T16:54:31.524011Z"
    }
   },
   "outputs": [],
   "source": [
    "2021-09-01"
   ]
  },
  {
   "cell_type": "code",
   "execution_count": null,
   "id": "ee7f9b01-9d84-46aa-96b6-b43884609b93",
   "metadata": {
    "execution": {
     "iopub.status.busy": "2023-12-20T16:54:31.525012Z",
     "iopub.status.idle": "2023-12-20T16:54:31.525012Z",
     "shell.execute_reply": "2023-12-20T16:54:31.525012Z",
     "shell.execute_reply.started": "2023-12-20T16:54:31.525012Z"
    }
   },
   "outputs": [],
   "source": [
    "train_mm[train_mm['datetime'] == '0 days 03:04:25.377643504']"
   ]
  },
  {
   "cell_type": "code",
   "execution_count": null,
   "id": "53f71d91-5bad-4a52-8234-b501d86ce0bf",
   "metadata": {
    "execution": {
     "iopub.status.busy": "2023-12-20T16:54:31.526013Z",
     "iopub.status.idle": "2023-12-20T16:54:31.526013Z",
     "shell.execute_reply": "2023-12-20T16:54:31.526013Z",
     "shell.execute_reply.started": "2023-12-20T16:54:31.526013Z"
    }
   },
   "outputs": [],
   "source": [
    "last_df = sorted_df.query('county == 14 and is_business == 1 and product_type == 2 and is_consumption == 0').copy()"
   ]
  },
  {
   "cell_type": "code",
   "execution_count": null,
   "id": "1fe52a4e-a0e9-4049-b63b-7ac6fbfa9945",
   "metadata": {
    "execution": {
     "iopub.status.busy": "2023-12-20T16:54:31.526519Z",
     "iopub.status.idle": "2023-12-20T16:54:31.526519Z",
     "shell.execute_reply": "2023-12-20T16:54:31.526519Z",
     "shell.execute_reply.started": "2023-12-20T16:54:31.526519Z"
    }
   },
   "outputs": [],
   "source": [
    "last_df['datetime'].diff().unique()"
   ]
  },
  {
   "cell_type": "code",
   "execution_count": null,
   "id": "f6297e99-3e20-4ae5-a4d3-c8ed9aa99a75",
   "metadata": {
    "execution": {
     "iopub.status.busy": "2023-12-20T16:54:31.527527Z",
     "iopub.status.idle": "2023-12-20T16:54:31.527527Z",
     "shell.execute_reply": "2023-12-20T16:54:31.527527Z",
     "shell.execute_reply.started": "2023-12-20T16:54:31.527527Z"
    }
   },
   "outputs": [],
   "source": [
    "last_df['diff'] = last_df['datetime'].diff()\n",
    "last_df = last_df.reset_index(drop=True)\n",
    "last_df.loc[last_df['diff'] == '76 days 01:00:00']"
   ]
  },
  {
   "cell_type": "code",
   "execution_count": null,
   "id": "df7f11d6-6a35-43e3-9250-523b8f973e28",
   "metadata": {
    "execution": {
     "iopub.status.busy": "2023-12-20T16:54:31.528526Z",
     "iopub.status.idle": "2023-12-20T16:54:31.528526Z",
     "shell.execute_reply": "2023-12-20T16:54:31.528526Z",
     "shell.execute_reply.started": "2023-12-20T16:54:31.528526Z"
    }
   },
   "outputs": [],
   "source": [
    "last_df[717:724]"
   ]
  },
  {
   "cell_type": "code",
   "execution_count": null,
   "id": "c9c13650-0b58-4664-8b62-24a79e63c8e0",
   "metadata": {},
   "outputs": [],
   "source": []
  },
  {
   "cell_type": "code",
   "execution_count": null,
   "id": "19409c17-2714-4919-99a0-40a23fd69eca",
   "metadata": {},
   "outputs": [],
   "source": []
  },
  {
   "cell_type": "code",
   "execution_count": null,
   "id": "339435b3-b638-420d-9c18-03dcb263f580",
   "metadata": {
    "execution": {
     "iopub.status.busy": "2023-12-20T16:54:31.528526Z",
     "iopub.status.idle": "2023-12-20T16:54:31.529531Z",
     "shell.execute_reply": "2023-12-20T16:54:31.529531Z",
     "shell.execute_reply.started": "2023-12-20T16:54:31.529531Z"
    }
   },
   "outputs": [],
   "source": [
    "sorted_list = [\"county\",\"is_business\",\"product_type\",\"is_consumption\",]\n",
    "test = pd.DataFrame(df\n",
    " .sort_values(by=sorted_list)\n",
    " .groupby(sorted_list)[\"datetime\"]\n",
    " .diff())"
   ]
  },
  {
   "cell_type": "code",
   "execution_count": null,
   "id": "67123ceb-0ede-45e3-a35a-2141276dcbe8",
   "metadata": {
    "execution": {
     "iopub.status.busy": "2023-12-20T16:54:31.529531Z",
     "iopub.status.idle": "2023-12-20T16:54:31.530532Z",
     "shell.execute_reply": "2023-12-20T16:54:31.529531Z",
     "shell.execute_reply.started": "2023-12-20T16:54:31.529531Z"
    }
   },
   "outputs": [],
   "source": [
    "test.loc[test['datetime'] == '31 days 01:00:00']"
   ]
  },
  {
   "cell_type": "code",
   "execution_count": null,
   "id": "8d42c093-682d-4b23-a286-a1f2c1cd765b",
   "metadata": {
    "execution": {
     "iopub.status.busy": "2023-12-20T16:54:31.530532Z",
     "iopub.status.idle": "2023-12-20T16:54:31.530532Z",
     "shell.execute_reply": "2023-12-20T16:54:31.530532Z",
     "shell.execute_reply.started": "2023-12-20T16:54:31.530532Z"
    }
   },
   "outputs": [],
   "source": [
    "df.sort_values(by=sorted_list).loc[462816:462821]"
   ]
  },
  {
   "cell_type": "code",
   "execution_count": null,
   "id": "90acb307-658e-450b-b048-bdd2ff3ff4c8",
   "metadata": {
    "execution": {
     "iopub.status.busy": "2023-12-20T16:54:31.531532Z",
     "iopub.status.idle": "2023-12-20T16:54:31.531532Z",
     "shell.execute_reply": "2023-12-20T16:54:31.531532Z",
     "shell.execute_reply.started": "2023-12-20T16:54:31.531532Z"
    }
   },
   "outputs": [],
   "source": [
    "(df\n",
    " .groupby([\n",
    "     \"county\",\n",
    "     \"is_business\",\n",
    "     \"product_type\",\n",
    "     \"is_consumption\"])[\"datetime\"].diff())"
   ]
  },
  {
   "cell_type": "code",
   "execution_count": null,
   "id": "eead916b-5f04-4dcc-91ec-861b507b10c3",
   "metadata": {
    "execution": {
     "iopub.status.busy": "2023-12-20T16:54:31.532532Z",
     "iopub.status.idle": "2023-12-20T16:54:31.533533Z",
     "shell.execute_reply": "2023-12-20T16:54:31.532532Z",
     "shell.execute_reply.started": "2023-12-20T16:54:31.532532Z"
    }
   },
   "outputs": [],
   "source": [
    "(df\n",
    " .groupby([\n",
    "     \"county\",\n",
    "     \"is_business\",\n",
    "     \"product_type\",\n",
    "     \"is_consumption\"])[\"datetime\"].count()\n",
    "    - df.groupby(\n",
    "        [\"county\", \"is_business\", \"product_type\", \"is_consumption\"]\n",
    "    )[\"datetime\"].nunique()\n",
    ").sum()"
   ]
  },
  {
   "cell_type": "code",
   "execution_count": null,
   "id": "5f007810-64f2-4150-8c40-a5cf69f58c20",
   "metadata": {
    "execution": {
     "iopub.status.busy": "2023-12-20T16:54:31.533533Z",
     "iopub.status.idle": "2023-12-20T16:54:31.534533Z",
     "shell.execute_reply": "2023-12-20T16:54:31.534533Z",
     "shell.execute_reply.started": "2023-12-20T16:54:31.534533Z"
    }
   },
   "outputs": [],
   "source": [
    "(df\n",
    " .query(\"'2021-10-31 02:00:00' <= datetime <= '2021-10-31 04:00:00'\")\n",
    " # .sort_values(by=[\n",
    " #     \"county\",\n",
    " #     \"is_business\",\n",
    " #     \"product_type\",\n",
    " #     \"is_consumption\",\n",
    " #     \"datetime\",])\n",
    " .head(21))"
   ]
  },
  {
   "cell_type": "code",
   "execution_count": null,
   "id": "ec7cd4a5-8094-46cd-b800-ca215c1e3f9b",
   "metadata": {},
   "outputs": [],
   "source": []
  },
  {
   "cell_type": "code",
   "execution_count": null,
   "id": "cf507e95-f73f-4a09-ab3d-66559563a677",
   "metadata": {},
   "outputs": [],
   "source": []
  },
  {
   "cell_type": "code",
   "execution_count": null,
   "id": "39ce1623-f5b2-48c0-a60d-a9b87581a579",
   "metadata": {
    "execution": {
     "iopub.status.busy": "2023-12-20T16:54:31.534533Z",
     "iopub.status.idle": "2023-12-20T16:54:31.534533Z",
     "shell.execute_reply": "2023-12-20T16:54:31.534533Z",
     "shell.execute_reply.started": "2023-12-20T16:54:31.534533Z"
    }
   },
   "outputs": [],
   "source": [
    "df.duplicated().sum()[df.duplicated().sum() != 0]"
   ]
  },
  {
   "cell_type": "code",
   "execution_count": null,
   "id": "214e243a-8e47-4eda-a565-e72b12841a68",
   "metadata": {
    "execution": {
     "iopub.status.busy": "2023-12-20T16:54:31.536654Z",
     "iopub.status.idle": "2023-12-20T16:54:31.536654Z",
     "shell.execute_reply": "2023-12-20T16:54:31.536654Z",
     "shell.execute_reply.started": "2023-12-20T16:54:31.536654Z"
    }
   },
   "outputs": [],
   "source": [
    "fig, ax = plt.subplots(figsize=(20, 7))\n",
    "sns.scatterplot(\n",
    "    data=df,\n",
    "    x=\"datetime\",\n",
    "    y=\"target\",\n",
    "    s=1,)\n",
    "\n",
    "plt.title(\n",
    "    \"Energy consumption and production\")\n",
    "plt.show()"
   ]
  },
  {
   "cell_type": "code",
   "execution_count": null,
   "id": "7b52edad-e726-43f5-b5fd-9a243068e09c",
   "metadata": {
    "execution": {
     "iopub.status.busy": "2023-12-20T16:54:31.537206Z",
     "iopub.status.idle": "2023-12-20T16:54:31.537206Z",
     "shell.execute_reply": "2023-12-20T16:54:31.537206Z",
     "shell.execute_reply.started": "2023-12-20T16:54:31.537206Z"
    }
   },
   "outputs": [],
   "source": [
    "fig, ax = plt.subplots(figsize=(20, 8))\n",
    "sns.boxenplot(\n",
    "    data=df,\n",
    "    x=\"county\",\n",
    "    y=\"target\",\n",
    "    hue=\"is_consumption\",\n",
    "    # k_depth = 'full'\n",
    "    # split=True,\n",
    "    # style='is_business',\n",
    ")\n",
    "\n",
    "plt.title(\n",
    "    \"Comparison of energy production and consumption in each county\"\n",
    ")\n",
    "# plt.legend(\n",
    "#     bbox_to_anchor=(1.01, 1),\n",
    "#     loc=\"upper left\",\n",
    "#     borderaxespad=0,\n",
    "#     # markerscale=3,\n",
    "# )\n",
    "plt.yscale('log')\n",
    "plt.show()"
   ]
  },
  {
   "cell_type": "code",
   "execution_count": null,
   "id": "a9a722cd-94f7-4f7c-843a-7911a42b784d",
   "metadata": {
    "execution": {
     "iopub.status.busy": "2023-12-20T16:54:31.538857Z",
     "iopub.status.idle": "2023-12-20T16:54:31.538857Z",
     "shell.execute_reply": "2023-12-20T16:54:31.538857Z",
     "shell.execute_reply.started": "2023-12-20T16:54:31.538857Z"
    }
   },
   "outputs": [],
   "source": [
    "sns.heatmap(\n",
    "    df.drop([\n",
    "        \"data_block_id\",\n",
    "        \"row_id\",\n",
    "        \"prediction_unit_id\",\n",
    "        \"target_modified\"], axis=1)\n",
    "    .corr(),\n",
    "    annot=True,\n",
    "    fmt=\".2f\",\n",
    ")\n",
    "\n",
    "plt.title('Correlation between features and target')\n",
    "plt.show()"
   ]
  },
  {
   "cell_type": "code",
   "execution_count": null,
   "id": "09358ccb-956a-4961-80df-b7cfbae88d7d",
   "metadata": {},
   "outputs": [],
   "source": []
  },
  {
   "cell_type": "code",
   "execution_count": null,
   "id": "07542217-ac32-4ec2-b71b-37464c1544a0",
   "metadata": {},
   "outputs": [],
   "source": []
  },
  {
   "cell_type": "code",
   "execution_count": null,
   "id": "5889e012-8f84-44b1-b55f-10989282a900",
   "metadata": {},
   "outputs": [],
   "source": []
  },
  {
   "cell_type": "code",
   "execution_count": null,
   "id": "e07dffb3-8661-4cc9-9b0a-3ae0dece6df2",
   "metadata": {
    "execution": {
     "iopub.status.busy": "2023-12-20T16:54:31.539364Z",
     "iopub.status.idle": "2023-12-20T16:54:31.539364Z",
     "shell.execute_reply": "2023-12-20T16:54:31.539364Z",
     "shell.execute_reply.started": "2023-12-20T16:54:31.539364Z"
    }
   },
   "outputs": [],
   "source": [
    "# px.scatter(df[['datetime', 'modified_target', 'county']], x=\"datetime\", y=\"modified_target\", color='county').show()"
   ]
  },
  {
   "cell_type": "code",
   "execution_count": null,
   "id": "682953c8-a02d-4345-bb84-5acbd34a7285",
   "metadata": {
    "execution": {
     "iopub.status.busy": "2023-12-20T16:54:31.540372Z",
     "iopub.status.idle": "2023-12-20T16:54:31.540372Z",
     "shell.execute_reply": "2023-12-20T16:54:31.540372Z",
     "shell.execute_reply.started": "2023-12-20T16:54:31.540372Z"
    }
   },
   "outputs": [],
   "source": [
    "# df = df.copy().set_index(\"datetime\")\n",
    "df[\"hour\"] = df[\"datetime\"].dt.hour.astype(\"uint8\")\n",
    "df[\"day_of_week\"] = df[\"datetime\"].dt.day_of_week.astype(\"uint8\")\n",
    "df[\"day\"] = df[\"datetime\"].dt.day.astype(\"uint16\")\n",
    "df[\"week_of_year\"] = (\n",
    "    df[\"datetime\"].dt.isocalendar().week.astype(\"int8\")\n",
    ")\n",
    "df[\"month\"] = df[\"datetime\"].dt.month.astype(\"int8\")\n",
    "df[\"quarter\"] = df[\"datetime\"].dt.quarter.astype(\"int8\")\n",
    "df[\"year\"] = df[\"datetime\"].dt.year.astype(\"uint16\")\n",
    "\n",
    "# df[\"modified_target\"] = np.where(\n",
    "#     df[\"is_consumption\"] == True,\n",
    "#     df[\"target\"] * (-1),\n",
    "#     df[\"target\"],\n",
    "# )\n",
    "\n",
    "df.info()"
   ]
  },
  {
   "cell_type": "code",
   "execution_count": null,
   "id": "69a60e96-1a87-4afe-87f3-1299f698988e",
   "metadata": {
    "execution": {
     "iopub.status.busy": "2023-12-20T16:54:31.541371Z",
     "iopub.status.idle": "2023-12-20T16:54:31.541371Z",
     "shell.execute_reply": "2023-12-20T16:54:31.541371Z",
     "shell.execute_reply.started": "2023-12-20T16:54:31.541371Z"
    }
   },
   "outputs": [],
   "source": [
    "sns.displot(\n",
    "    data=df,\n",
    "    x=\"target\",\n",
    "    hue=\"is_consumption\",\n",
    "    log_scale=True,\n",
    ")\n",
    "\n",
    "plt.title(\"Target's distribution\")\n",
    "plt.show()"
   ]
  },
  {
   "cell_type": "code",
   "execution_count": null,
   "id": "bf78b418-5c1a-4aa7-b7a5-7888b6787ebf",
   "metadata": {
    "execution": {
     "iopub.status.busy": "2023-12-20T16:54:31.542375Z",
     "iopub.status.idle": "2023-12-20T16:54:31.542375Z",
     "shell.execute_reply": "2023-12-20T16:54:31.542375Z",
     "shell.execute_reply.started": "2023-12-20T16:54:31.542375Z"
    },
    "scrolled": true
   },
   "outputs": [],
   "source": [
    "# target_per_county = (\n",
    "#     df.groupby([\"is_consumption\", \"county\"])[[\"target\"]]\n",
    "#     .sum()\n",
    "#     .groupby(level=0)\n",
    "#     .apply(lambda x: x * 100 / x.sum())\n",
    "#     .reset_index(level=0, drop=True)\n",
    "#     .reset_index()\n",
    "#     .rename(columns={\"target\": \"percentage\"})\n",
    "# )\n",
    "# target_per_county"
   ]
  },
  {
   "cell_type": "code",
   "execution_count": null,
   "id": "5d754843-5f6a-4125-92b7-fa2971dd06f9",
   "metadata": {
    "execution": {
     "iopub.status.busy": "2023-12-20T16:54:31.543372Z",
     "iopub.status.idle": "2023-12-20T16:54:31.543372Z",
     "shell.execute_reply": "2023-12-20T16:54:31.543372Z",
     "shell.execute_reply.started": "2023-12-20T16:54:31.543372Z"
    }
   },
   "outputs": [],
   "source": [
    "# plt.figure(figsize=(18,6))\n",
    "\n",
    "# barplot = sns.barplot(\n",
    "#     data=target_per_county,\n",
    "#     x=\"county\",\n",
    "#     y=\"percentage\",\n",
    "#     hue=\"is_consumption\",\n",
    "# )\n",
    "\n",
    "# for container in barplot.containers:\n",
    "#     barplot.bar_label(\n",
    "#         container,\n",
    "#         fmt=\"%.2f\",\n",
    "#         fontsize=9,\n",
    "#     )\n",
    "\n",
    "# plt.show()"
   ]
  },
  {
   "cell_type": "code",
   "execution_count": null,
   "id": "76f5b406-72b9-4e3b-8fae-0f383beff43c",
   "metadata": {
    "execution": {
     "iopub.status.busy": "2023-12-20T16:54:31.544372Z",
     "iopub.status.idle": "2023-12-20T16:54:31.544372Z",
     "shell.execute_reply": "2023-12-20T16:54:31.544372Z",
     "shell.execute_reply.started": "2023-12-20T16:54:31.544372Z"
    }
   },
   "outputs": [],
   "source": [
    "def target_percentage_in_subgroup(\n",
    "    df: pd.DataFrame, feature: str, broken_down_by: str, target: str\n",
    ") -> pd.DataFrame:\n",
    "    df = (\n",
    "        df.groupby([broken_down_by, feature])[[target]]\n",
    "        .sum()\n",
    "        .groupby(level=0)\n",
    "        .apply(lambda x: x * 100 / x.sum())\n",
    "        .reset_index(level=0, drop=True)\n",
    "        .reset_index()\n",
    "        .rename(columns={\"target\": \"percentage\"})\n",
    "    )\n",
    "    return df"
   ]
  },
  {
   "cell_type": "code",
   "execution_count": null,
   "id": "08d86bc8-209c-4ab8-9bb6-1fedf70639c5",
   "metadata": {
    "editable": true,
    "execution": {
     "iopub.status.busy": "2023-12-20T16:54:31.544372Z",
     "iopub.status.idle": "2023-12-20T16:54:31.544372Z",
     "shell.execute_reply": "2023-12-20T16:54:31.544372Z",
     "shell.execute_reply.started": "2023-12-20T16:54:31.544372Z"
    },
    "slideshow": {
     "slide_type": ""
    },
    "tags": []
   },
   "outputs": [],
   "source": [
    "def plot_for_categorical_feature(\n",
    "    df: pd.DataFrame,\n",
    "    broken_down_by: str,\n",
    "    features_list: list[str],\n",
    "    target: str,\n",
    "):\n",
    "    length = len(features_list)\n",
    "    fig, axs = plt.subplots(\n",
    "        nrows=length,\n",
    "        ncols=1,\n",
    "        figsize=(18, 15),\n",
    "    )\n",
    "    fig.tight_layout(pad=5)\n",
    "\n",
    "    for idx, feature in enumerate(features_list):\n",
    "        plt.subplot(length, 1, 1 + idx)\n",
    "        data = target_percentage_in_subgroup(\n",
    "            df, feature, broken_down_by, target\n",
    "        )\n",
    "\n",
    "        barplot = sns.barplot(\n",
    "            data=data,\n",
    "            x=feature,\n",
    "            y=\"percentage\",\n",
    "            hue=broken_down_by,\n",
    "        )\n",
    "\n",
    "        for container in barplot.containers:\n",
    "            barplot.bar_label(\n",
    "                container,\n",
    "                fmt=\"%.2f\",\n",
    "            )\n",
    "\n",
    "        plt.title(f\"{feature} broken down by {broken_down_by}\")\n",
    "    plt.show()"
   ]
  },
  {
   "cell_type": "code",
   "execution_count": null,
   "id": "d1303764-89e7-4c93-9033-b1321388f163",
   "metadata": {
    "execution": {
     "iopub.status.busy": "2023-12-20T16:54:31.545878Z",
     "iopub.status.idle": "2023-12-20T16:54:31.545878Z",
     "shell.execute_reply": "2023-12-20T16:54:31.545878Z",
     "shell.execute_reply.started": "2023-12-20T16:54:31.545878Z"
    },
    "scrolled": true
   },
   "outputs": [],
   "source": [
    "plot_for_categorical_feature(\n",
    "    df,\n",
    "    \"is_consumption\",\n",
    "    [\"county\", \"is_business\", \"product_type\"],\n",
    "    \"target\",\n",
    ")"
   ]
  },
  {
   "cell_type": "code",
   "execution_count": null,
   "id": "5a3346e6-a695-45fa-8c3a-cbb9ae604980",
   "metadata": {
    "execution": {
     "iopub.status.busy": "2023-12-20T16:54:31.546885Z",
     "iopub.status.idle": "2023-12-20T16:54:31.546885Z",
     "shell.execute_reply": "2023-12-20T16:54:31.546885Z",
     "shell.execute_reply.started": "2023-12-20T16:54:31.546885Z"
    }
   },
   "outputs": [],
   "source": [
    "# sns.relplot(\n",
    "#     data=df.loc[df['county'] == 2][[\"datetime\", \"target\", \"is_consumption\",'is_business']],\n",
    "#     x=\"datetime\",\n",
    "#     y=\"target\",\n",
    "#     col=\"is_consumption\",\n",
    "#     height=5,\n",
    "#     aspect=1.5,\n",
    "#     hue=\"is_business\",\n",
    "#     # size=\"size\",\n",
    "#     # style=\"sex\",\n",
    "#     # palette=[\"b\", \"r\"],\n",
    "#     # sizes=(10, 100),\n",
    "# )"
   ]
  },
  {
   "cell_type": "code",
   "execution_count": null,
   "id": "5b652891-b8fa-4213-8c92-64749cd66ddd",
   "metadata": {
    "execution": {
     "iopub.status.busy": "2023-12-20T16:54:31.547886Z",
     "iopub.status.idle": "2023-12-20T16:54:31.547886Z",
     "shell.execute_reply": "2023-12-20T16:54:31.547886Z",
     "shell.execute_reply.started": "2023-12-20T16:54:31.547886Z"
    }
   },
   "outputs": [],
   "source": [
    "fig, ax = plt.subplots(figsize=(10, 2))\n",
    "length = 24\n",
    "\n",
    "sns.lineplot(\n",
    "    data=[np.sin((2 * i * np.pi / (length))) for i in range(length)],\n",
    ")\n",
    "sns.lineplot(\n",
    "    data=[np.cos(i / (length / 2 / np.pi)) for i in range(length)],\n",
    ")\n",
    "# sns.lineplot(\n",
    "#     data=[np.sin((i * np.pi / 7)) for i in range(length)],\n",
    "# )\n",
    "# sns.lineplot(\n",
    "#     data=[np.tan((i / (len / np.pi)) + np.pi/2 + np.pi/len) for i in range(len)],\n",
    "# )\n",
    "\n",
    "# plt.xticks(range(-1, 25))\n",
    "# plt.yscale('symlog')\n",
    "plt.grid()\n",
    "plt.show()"
   ]
  },
  {
   "cell_type": "code",
   "execution_count": null,
   "id": "d0c8f119-3b5e-445a-8b7f-b3d629348056",
   "metadata": {
    "execution": {
     "iopub.status.busy": "2023-12-20T16:54:31.548885Z",
     "iopub.status.idle": "2023-12-20T16:54:31.548885Z",
     "shell.execute_reply": "2023-12-20T16:54:31.548885Z",
     "shell.execute_reply.started": "2023-12-20T16:54:31.548885Z"
    }
   },
   "outputs": [],
   "source": [
    "length = 24\n",
    "for idx, i in enumerate(zip([round(np.sin((2 * i * np.pi / (length))), 3) for i in range(length)], [round(np.cos((2 * i * np.pi / (length))), 3) for i in range(length)])):\n",
    "    print(idx, i)"
   ]
  },
  {
   "cell_type": "code",
   "execution_count": null,
   "id": "7ff3c670-83e4-4c92-989a-f50d761de8fb",
   "metadata": {
    "execution": {
     "iopub.status.busy": "2023-12-20T16:54:31.549884Z",
     "iopub.status.idle": "2023-12-20T16:54:31.549884Z",
     "shell.execute_reply": "2023-12-20T16:54:31.549884Z",
     "shell.execute_reply.started": "2023-12-20T16:54:31.549884Z"
    }
   },
   "outputs": [],
   "source": [
    "length = 365\n",
    "[np.tan((i / (length / np.pi)) + np.pi/2) for i in range(length)]"
   ]
  },
  {
   "cell_type": "code",
   "execution_count": null,
   "id": "530422f6-fd3e-40d0-a7c9-1f5f1fefd127",
   "metadata": {
    "execution": {
     "iopub.status.busy": "2023-12-20T16:54:31.550885Z",
     "iopub.status.idle": "2023-12-20T16:54:31.550885Z",
     "shell.execute_reply": "2023-12-20T16:54:31.550885Z",
     "shell.execute_reply.started": "2023-12-20T16:54:31.550885Z"
    }
   },
   "outputs": [],
   "source": [
    "list_of_sins = [np.sin(i / (len / 2 / np.pi)) for i in range(len)]\n",
    "list_of_cos = [np.cos(i / (len / 2 / np.pi)) for i in range(len)]\n",
    "list_of_tans = [(np.sin(i / (len / 2 / np.pi)))/(np.cos(i / (len / 2 / np.pi)))for i in range(len)]\n",
    "for i in zip(list_of_sins, list_of_cos, list_of_tans):\n",
    "    print(i)"
   ]
  },
  {
   "cell_type": "code",
   "execution_count": null,
   "id": "43d6abb5-0a2f-4002-852c-2bb3a47005fb",
   "metadata": {
    "execution": {
     "iopub.status.busy": "2023-12-20T16:54:31.550885Z",
     "iopub.status.idle": "2023-12-20T16:54:31.551889Z",
     "shell.execute_reply": "2023-12-20T16:54:31.551889Z",
     "shell.execute_reply.started": "2023-12-20T16:54:31.551889Z"
    }
   },
   "outputs": [],
   "source": [
    "fig, ax = plt.subplots(figsize=(10, 2))\n",
    "# len = 10\n",
    "sns.lineplot(\n",
    "    data=hours_list,\n",
    "    # x=\"datetime\",\n",
    "    # y=\"target\",\n",
    "    # s=1,\n",
    "    # hue=\"county\",\n",
    "    # style='is_business',\n",
    ")\n",
    "# ax.set(title = 'Energy consumption or production for the discrete segment for the hour')\n",
    "plt.grid()\n",
    "plt.show()"
   ]
  },
  {
   "cell_type": "code",
   "execution_count": null,
   "id": "c60dd247-9c8c-4238-8fc7-d78ee76358fa",
   "metadata": {
    "execution": {
     "iopub.status.busy": "2023-12-20T16:54:31.552889Z",
     "iopub.status.idle": "2023-12-20T16:54:31.552889Z",
     "shell.execute_reply": "2023-12-20T16:54:31.552889Z",
     "shell.execute_reply.started": "2023-12-20T16:54:31.552889Z"
    }
   },
   "outputs": [],
   "source": [
    "# df['hr_sin'] = np.sin(df.hr*(2.*np.pi/24))\n",
    "# df['hr_cos'] = np.cos(df.hr*(2.*np.pi/24))\n",
    "# df['mnth_sin'] = np.sin((df.mnth-1)*(2.*np.pi/12))\n",
    "# df['mnth_cos'] = np.cos((df.mnth-1)*(2.*np.pi/12))"
   ]
  },
  {
   "cell_type": "code",
   "execution_count": null,
   "id": "5f6b1da4-7148-40f7-9ab6-14c94a0b027d",
   "metadata": {
    "execution": {
     "iopub.status.busy": "2023-12-20T16:54:31.553886Z",
     "iopub.status.idle": "2023-12-20T16:54:31.553886Z",
     "shell.execute_reply": "2023-12-20T16:54:31.553886Z",
     "shell.execute_reply.started": "2023-12-20T16:54:31.553886Z"
    }
   },
   "outputs": [],
   "source": [
    "df.groupby(\"is_consumption\")[\"target\"].min()"
   ]
  },
  {
   "cell_type": "code",
   "execution_count": null,
   "id": "60ef8702-ebf8-4921-8f98-b87438a3be24",
   "metadata": {},
   "outputs": [],
   "source": []
  },
  {
   "cell_type": "code",
   "execution_count": null,
   "id": "b8ce09dc-b64f-454b-b980-6fa3de1734e3",
   "metadata": {
    "execution": {
     "iopub.status.busy": "2023-12-20T16:54:31.554886Z",
     "iopub.status.idle": "2023-12-20T16:54:31.554886Z",
     "shell.execute_reply": "2023-12-20T16:54:31.554886Z",
     "shell.execute_reply.started": "2023-12-20T16:54:31.554886Z"
    }
   },
   "outputs": [],
   "source": [
    "df.isna().sum()[df.isna().sum() != 0]"
   ]
  },
  {
   "cell_type": "code",
   "execution_count": null,
   "id": "139185da-f0e2-46a1-b376-288c9a5de542",
   "metadata": {
    "execution": {
     "iopub.status.busy": "2023-12-20T16:54:31.555885Z",
     "iopub.status.idle": "2023-12-20T16:54:31.555885Z",
     "shell.execute_reply": "2023-12-20T16:54:31.555885Z",
     "shell.execute_reply.started": "2023-12-20T16:54:31.555885Z"
    }
   },
   "outputs": [],
   "source": [
    "df.duplicated().sum()[df.duplicated().sum() != 0]"
   ]
  },
  {
   "cell_type": "code",
   "execution_count": null,
   "id": "e282aa69-901a-4bd4-8cb5-0ec8b536b45b",
   "metadata": {
    "execution": {
     "iopub.status.busy": "2023-12-20T16:54:31.556967Z",
     "iopub.status.idle": "2023-12-20T16:54:31.556967Z",
     "shell.execute_reply": "2023-12-20T16:54:31.556967Z",
     "shell.execute_reply.started": "2023-12-20T16:54:31.556967Z"
    }
   },
   "outputs": [],
   "source": [
    "df.loc[df.isna().any(axis=1)]"
   ]
  },
  {
   "cell_type": "code",
   "execution_count": null,
   "id": "0144c16b-71a3-46bb-8a3a-5224dc1da93f",
   "metadata": {
    "execution": {
     "iopub.status.busy": "2023-12-20T16:54:31.556967Z",
     "iopub.status.idle": "2023-12-20T16:54:31.557967Z",
     "shell.execute_reply": "2023-12-20T16:54:31.556967Z",
     "shell.execute_reply.started": "2023-12-20T16:54:31.556967Z"
    }
   },
   "outputs": [],
   "source": [
    "df.datetime[0]"
   ]
  },
  {
   "cell_type": "code",
   "execution_count": null,
   "id": "3843acf6-eba7-4053-8659-49b353ac4f09",
   "metadata": {
    "execution": {
     "iopub.status.busy": "2023-12-20T16:54:31.557967Z",
     "iopub.status.idle": "2023-12-20T16:54:31.557967Z",
     "shell.execute_reply": "2023-12-20T16:54:31.557967Z",
     "shell.execute_reply.started": "2023-12-20T16:54:31.557967Z"
    }
   },
   "outputs": [],
   "source": [
    "train = (train\n",
    "         .astype({\n",
    "             \"county\": \"category\",\n",
    "             \"is_business\": \"category\",\n",
    "             \"product_type\": \"category\",\n",
    "             \"is_consumption\": \"category\",\n",
    "             \"datetime\": \"datetime64[ns]\",})\n",
    "         .sort_values(by=[\n",
    "             \"county\",\n",
    "             \"is_business\",\n",
    "             \"product_type\",\n",
    "             \"is_consumption\",\n",
    "             \"datetime\"]))"
   ]
  },
  {
   "cell_type": "code",
   "execution_count": null,
   "id": "a2d8c1df-48cb-4fa3-9a7d-5db2520ff752",
   "metadata": {
    "execution": {
     "iopub.status.busy": "2023-12-20T16:54:31.558972Z",
     "iopub.status.idle": "2023-12-20T16:54:31.559976Z",
     "shell.execute_reply": "2023-12-20T16:54:31.559976Z",
     "shell.execute_reply.started": "2023-12-20T16:54:31.559976Z"
    },
    "scrolled": true
   },
   "outputs": [],
   "source": [
    "(\n",
    "    df.query(\n",
    "        \"'2021-10-31 02:00:00' <= datetime <= '2021-10-31 04:00:00'\"\n",
    "    )\n",
    "    .sort_values(\n",
    "        by=[\n",
    "            \"county\",\n",
    "            \"is_business\",\n",
    "            \"product_type\",\n",
    "            \"is_consumption\",\n",
    "            \"datetime\",\n",
    "        ]\n",
    "    )\n",
    "    .head(21)\n",
    ")"
   ]
  },
  {
   "cell_type": "code",
   "execution_count": null,
   "id": "5ac007f7-60a1-4aa6-82a9-8800cb58c75c",
   "metadata": {
    "execution": {
     "iopub.status.busy": "2023-12-20T16:54:31.560975Z",
     "iopub.status.idle": "2023-12-20T16:54:31.560975Z",
     "shell.execute_reply": "2023-12-20T16:54:31.560975Z",
     "shell.execute_reply.started": "2023-12-20T16:54:31.560975Z"
    }
   },
   "outputs": [],
   "source": [
    "[df[df.isna().any(axis=1)].datetime.unique()]"
   ]
  },
  {
   "cell_type": "code",
   "execution_count": null,
   "id": "7a01a4bb-c17f-4881-ad68-d7e298623a95",
   "metadata": {
    "execution": {
     "iopub.status.busy": "2023-12-20T16:54:31.561973Z",
     "iopub.status.idle": "2023-12-20T16:54:31.561973Z",
     "shell.execute_reply": "2023-12-20T16:54:31.561973Z",
     "shell.execute_reply.started": "2023-12-20T16:54:31.561973Z"
    }
   },
   "outputs": [],
   "source": [
    "df = df.sort_values(\n",
    "    by=[\"county\", \"is_business\", \"product_type\", \"is_consumption\", \"datetime\"]\n",
    ").interpolate()"
   ]
  },
  {
   "cell_type": "code",
   "execution_count": null,
   "id": "50abd23f-9b48-429c-b73f-bd98b8a3dcb0",
   "metadata": {
    "execution": {
     "iopub.status.busy": "2023-12-20T16:54:31.562974Z",
     "iopub.status.idle": "2023-12-20T16:54:31.562974Z",
     "shell.execute_reply": "2023-12-20T16:54:31.562974Z",
     "shell.execute_reply.started": "2023-12-20T16:54:31.562974Z"
    },
    "scrolled": true
   },
   "outputs": [],
   "source": [
    "(\n",
    "    df.query(\n",
    "        \"'2021-10-31 02:00:00' <= datetime <= '2021-10-31 04:00:00'\"\n",
    "    ).head(21)\n",
    ")"
   ]
  },
  {
   "cell_type": "code",
   "execution_count": null,
   "id": "bfb0de5b-0c22-4f93-8a91-31365b5dd29d",
   "metadata": {
    "execution": {
     "iopub.status.busy": "2023-12-20T16:54:31.563973Z",
     "iopub.status.idle": "2023-12-20T16:54:31.563973Z",
     "shell.execute_reply": "2023-12-20T16:54:31.563973Z",
     "shell.execute_reply.started": "2023-12-20T16:54:31.563973Z"
    }
   },
   "outputs": [],
   "source": [
    "sns.displot(\n",
    "    data=df[[\"target\"]],\n",
    "    log_scale=True,\n",
    ")"
   ]
  },
  {
   "cell_type": "code",
   "execution_count": null,
   "id": "addcb661-d0c7-443b-9a62-5cfda437b054",
   "metadata": {
    "execution": {
     "iopub.status.busy": "2023-12-20T16:54:31.564973Z",
     "iopub.status.idle": "2023-12-20T16:54:31.564973Z",
     "shell.execute_reply": "2023-12-20T16:54:31.564973Z",
     "shell.execute_reply.started": "2023-12-20T16:54:31.564973Z"
    }
   },
   "outputs": [],
   "source": [
    "fig, ax = plt.subplots(figsize=(20, 6))\n",
    "sns.scatterplot(\n",
    "    data=df,\n",
    "    x=\"datetime\",\n",
    "    y=\"target\",\n",
    "    # hue=\"county\",\n",
    "    # style='is_business',\n",
    "    # log_scale=True,\n",
    ")\n",
    "plt.show()"
   ]
  },
  {
   "cell_type": "code",
   "execution_count": null,
   "id": "58e2f0da-c244-488f-9219-050e5bdb2740",
   "metadata": {
    "execution": {
     "iopub.status.busy": "2023-12-20T16:54:31.565977Z",
     "iopub.status.idle": "2023-12-20T16:54:31.565977Z",
     "shell.execute_reply": "2023-12-20T16:54:31.565977Z",
     "shell.execute_reply.started": "2023-12-20T16:54:31.565977Z"
    }
   },
   "outputs": [],
   "source": [
    "sns.displot(\n",
    "    data=df[[\"target\", \"is_business\", \"product_type\"]],\n",
    "    x=\"target\",\n",
    "    # bins=200,\n",
    "    element=\"poly\",\n",
    "    hue=\"is_business\",\n",
    "    col=\"product_type\",\n",
    "    log_scale=True,\n",
    ")"
   ]
  },
  {
   "cell_type": "code",
   "execution_count": null,
   "id": "d3d123c7-263d-4b6a-93f9-dc945b2fecae",
   "metadata": {
    "execution": {
     "iopub.status.busy": "2023-12-20T16:54:31.567104Z",
     "iopub.status.idle": "2023-12-20T16:54:31.567104Z",
     "shell.execute_reply": "2023-12-20T16:54:31.567104Z",
     "shell.execute_reply.started": "2023-12-20T16:54:31.567104Z"
    }
   },
   "outputs": [],
   "source": [
    "fig, ax = plt.subplots(figsize=(6, 5))\n",
    "sns.heatmap(df.corr(), annot=True, cmap=\"Blues\", fmt=\".2f\")\n",
    "plt.show()"
   ]
  },
  {
   "cell_type": "code",
   "execution_count": null,
   "id": "5e1ae294-d24b-4f68-8b6f-57a0247b9009",
   "metadata": {
    "execution": {
     "iopub.status.busy": "2023-12-20T16:54:31.568102Z",
     "iopub.status.idle": "2023-12-20T16:54:31.569106Z",
     "shell.execute_reply": "2023-12-20T16:54:31.568102Z",
     "shell.execute_reply.started": "2023-12-20T16:54:31.568102Z"
    }
   },
   "outputs": [],
   "source": [
    "sns.relplot(\n",
    "    data=df.query(\"county == 0 and is_business == False\"),\n",
    "    x=\"datetime\",\n",
    "    y=\"target\",\n",
    "    col=\"product_type\",\n",
    "    hue=\"is_consumption\",\n",
    ")\n",
    "plt.yscale(\"log\")"
   ]
  },
  {
   "cell_type": "code",
   "execution_count": null,
   "id": "80d7f9ca-c54b-4281-b221-3ab88ba3d449",
   "metadata": {
    "execution": {
     "iopub.status.busy": "2023-12-20T16:54:31.569106Z",
     "iopub.status.idle": "2023-12-20T16:54:31.570102Z",
     "shell.execute_reply": "2023-12-20T16:54:31.570102Z",
     "shell.execute_reply.started": "2023-12-20T16:54:31.570102Z"
    }
   },
   "outputs": [],
   "source": [
    "sns.relplot(\n",
    "    data=df.query(\"county == 0 and is_business == True\"),\n",
    "    x=\"datetime\",\n",
    "    y=\"target\",\n",
    "    col=\"product_type\",\n",
    "    hue=\"is_consumption\",\n",
    ")\n",
    "plt.yscale(\"log\")"
   ]
  },
  {
   "cell_type": "code",
   "execution_count": null,
   "id": "f3cc4b2e-c6c5-4727-892e-85003c541163",
   "metadata": {
    "execution": {
     "iopub.status.busy": "2023-12-20T16:54:31.570102Z",
     "iopub.status.idle": "2023-12-20T16:54:31.571102Z",
     "shell.execute_reply": "2023-12-20T16:54:31.571102Z",
     "shell.execute_reply.started": "2023-12-20T16:54:31.571102Z"
    }
   },
   "outputs": [],
   "source": [
    "sns.scatterplot(\n",
    "    data=df.query(\"county==0 and is_business == True\"),\n",
    "    x=\"datetime\",\n",
    "    y=\"target\",\n",
    "    hue=\"is_consumption\",\n",
    ")"
   ]
  },
  {
   "cell_type": "code",
   "execution_count": null,
   "id": "7baa1054-28cd-426c-b62c-d63b70217249",
   "metadata": {
    "execution": {
     "iopub.status.busy": "2023-12-20T16:54:31.571102Z",
     "iopub.status.idle": "2023-12-20T16:54:31.572102Z",
     "shell.execute_reply": "2023-12-20T16:54:31.572102Z",
     "shell.execute_reply.started": "2023-12-20T16:54:31.572102Z"
    }
   },
   "outputs": [],
   "source": [
    "sns.scatterplot(\n",
    "    data=df.query(\"is_business == True and is_consumption == False\"),\n",
    "    x=\"datetime\",\n",
    "    y=\"target\",\n",
    "    hue=\"county\",\n",
    ")"
   ]
  },
  {
   "cell_type": "markdown",
   "id": "a24f0279-5e57-4617-84d5-d75821221ebf",
   "metadata": {},
   "source": [
    "# 3. Feature Engineering"
   ]
  },
  {
   "cell_type": "code",
   "execution_count": null,
   "id": "d19b7128-a917-4f8a-927a-80bac52e46bc",
   "metadata": {
    "execution": {
     "iopub.status.busy": "2023-12-20T16:54:31.572102Z",
     "iopub.status.idle": "2023-12-20T16:54:31.573105Z",
     "shell.execute_reply": "2023-12-20T16:54:31.573105Z",
     "shell.execute_reply.started": "2023-12-20T16:54:31.573105Z"
    },
    "scrolled": true
   },
   "outputs": [],
   "source": [
    "df = df.copy().set_index(\"datetime\")\n",
    "df"
   ]
  },
  {
   "cell_type": "code",
   "execution_count": null,
   "id": "c8ef0644-e9f6-4ef8-b568-c77a21dc295e",
   "metadata": {
    "execution": {
     "iopub.status.busy": "2023-12-20T16:54:31.574102Z",
     "iopub.status.idle": "2023-12-20T16:54:31.574102Z",
     "shell.execute_reply": "2023-12-20T16:54:31.574102Z",
     "shell.execute_reply.started": "2023-12-20T16:54:31.574102Z"
    }
   },
   "outputs": [],
   "source": [
    "df[\"hour\"] = df.index.hour.astype(\"uint8\")\n",
    "df[\"day_of_week\"] = df.index.day_of_week.astype(\"uint8\")\n",
    "df[\"day\"] = df.index.day.astype(\"uint16\")\n",
    "df[\"week_of_year\"] = df.index.isocalendar().week.astype(\"int8\")\n",
    "df[\"month\"] = df.index.month.astype(\"int8\")\n",
    "df[\"quarter\"] = df.index.quarter.astype(\"int8\")\n",
    "df[\"year\"] = df.index.year.astype(\"uint16\")\n",
    "\n",
    "df[\"modified_target\"] = np.where(\n",
    "    df[\"is_consumption\"] == True, df[\"target\"] * (-1), df[\"target\"]\n",
    ")\n",
    "\n",
    "df.info()"
   ]
  },
  {
   "cell_type": "code",
   "execution_count": null,
   "id": "86d613dd-3ed2-4da6-9513-fb13cb720f63",
   "metadata": {
    "execution": {
     "iopub.status.busy": "2023-12-20T16:54:31.575103Z",
     "iopub.status.idle": "2023-12-20T16:54:31.575103Z",
     "shell.execute_reply": "2023-12-20T16:54:31.575103Z",
     "shell.execute_reply.started": "2023-12-20T16:54:31.575103Z"
    }
   },
   "outputs": [],
   "source": [
    "fig, ax = plt.subplots(figsize=(25, 8))\n",
    "sns.scatterplot(\n",
    "    data=df,\n",
    "    x=\"datetime\",\n",
    "    y=\"modified_target\",\n",
    "    # hue=\"county\",\n",
    "    # style='is_business',\n",
    "    # log_scale=True,\n",
    ")\n",
    "plt.show()"
   ]
  },
  {
   "cell_type": "code",
   "execution_count": null,
   "id": "fed5fce6-806a-4bd2-bcf9-e1927d285c95",
   "metadata": {
    "execution": {
     "iopub.status.busy": "2023-12-20T16:54:31.576104Z",
     "iopub.status.idle": "2023-12-20T16:54:31.576104Z",
     "shell.execute_reply": "2023-12-20T16:54:31.576104Z",
     "shell.execute_reply.started": "2023-12-20T16:54:31.576104Z"
    }
   },
   "outputs": [],
   "source": [
    "sns.displot(\n",
    "    data=df[[\"modified_target\"]],\n",
    "    x=\"modified_target\",\n",
    "    log_scale=True,\n",
    ")"
   ]
  },
  {
   "cell_type": "code",
   "execution_count": null,
   "id": "27832b8b-309b-4a11-8ce6-f4e3259bbedc",
   "metadata": {
    "execution": {
     "iopub.status.busy": "2023-12-20T16:54:31.576609Z",
     "iopub.status.idle": "2023-12-20T16:54:31.576609Z",
     "shell.execute_reply": "2023-12-20T16:54:31.576609Z",
     "shell.execute_reply.started": "2023-12-20T16:54:31.576609Z"
    }
   },
   "outputs": [],
   "source": [
    "sns.relplot(\n",
    "    data=df.query(\"county == 0\")[\n",
    "        [\"modified_target\", \"product_type\", \"is_consumption\", \"is_business\"]\n",
    "    ],\n",
    "    x=\"datetime\",\n",
    "    y=\"modified_target\",\n",
    "    col=\"product_type\",\n",
    "    hue=\"is_business\",\n",
    "    # size=\"size\",\n",
    "    # style=\"sex\",\n",
    "    # palette=[\"b\", \"r\"],\n",
    "    # sizes=(10, 100),\n",
    ")\n",
    "# plt.axhline(y = 10,\n",
    "#             color = 'r',\n",
    "#             linestyle = '-',\n",
    "#            lw=100,)\n",
    "# plt.xscale('log')\n",
    "plt.yscale(\"log\")\n",
    "plt.show()"
   ]
  },
  {
   "cell_type": "code",
   "execution_count": null,
   "id": "ebcc813e-835a-4a5d-a935-db50385c34d2",
   "metadata": {
    "execution": {
     "iopub.status.busy": "2023-12-20T16:54:31.576609Z",
     "iopub.status.idle": "2023-12-20T16:54:31.578118Z",
     "shell.execute_reply": "2023-12-20T16:54:31.578118Z",
     "shell.execute_reply.started": "2023-12-20T16:54:31.578118Z"
    }
   },
   "outputs": [],
   "source": [
    "df.columns"
   ]
  },
  {
   "cell_type": "code",
   "execution_count": null,
   "id": "3fb8c2b1-7631-4f5d-8af6-8b10dc9927e3",
   "metadata": {
    "execution": {
     "iopub.status.busy": "2023-12-20T16:54:31.578118Z",
     "iopub.status.idle": "2023-12-20T16:54:31.579126Z",
     "shell.execute_reply": "2023-12-20T16:54:31.578118Z",
     "shell.execute_reply.started": "2023-12-20T16:54:31.578118Z"
    }
   },
   "outputs": [],
   "source": [
    "sns.scatterplot(\n",
    "    data=df.query(\"county == 4 and product_type == 1 and is_business == 1\")[\n",
    "        [\n",
    "            \"modified_target\",\n",
    "            \"product_type\",\n",
    "            \"is_consumption\",\n",
    "            \"is_business\",\n",
    "        ]\n",
    "    ],\n",
    "    x=\"datetime\",\n",
    "    y=\"modified_target\",\n",
    ")\n",
    "plt.show()"
   ]
  },
  {
   "cell_type": "code",
   "execution_count": null,
   "id": "220cf297-667e-42ea-b661-469cd85c86a2",
   "metadata": {
    "execution": {
     "iopub.status.busy": "2023-12-20T16:54:31.579126Z",
     "iopub.status.idle": "2023-12-20T16:54:31.579126Z",
     "shell.execute_reply": "2023-12-20T16:54:31.579126Z",
     "shell.execute_reply.started": "2023-12-20T16:54:31.579126Z"
    }
   },
   "outputs": [],
   "source": [
    "# fig, ax = plt.subplots(figsize=(10, 8))\n",
    "\n",
    "# sns.heatmap(df.corr(), annot=True, cmap=\"Blues\", fmt=\".2f\")\n",
    "# # plt.figure(figsize=(25, 25))\n",
    "# plt.show()\n",
    "# # numeric_only=True"
   ]
  },
  {
   "cell_type": "code",
   "execution_count": null,
   "id": "7c05d8f7-f9d7-4f0e-ac1a-35b0aa853911",
   "metadata": {
    "execution": {
     "iopub.status.busy": "2023-12-20T16:54:31.580129Z",
     "iopub.status.idle": "2023-12-20T16:54:31.581125Z",
     "shell.execute_reply": "2023-12-20T16:54:31.580129Z",
     "shell.execute_reply.started": "2023-12-20T16:54:31.580129Z"
    }
   },
   "outputs": [],
   "source": [
    "fig, ax = plt.subplots(figsize=(20, 6))\n",
    "\n",
    "sns.scatterplot(\n",
    "    data=df.query(\n",
    "        \"'2023-01-1 8:00:00' <= datetime <= '2023-01-28 23:00:00' and \\\n",
    "        product_type == 3\"\n",
    "    )[\n",
    "        [\n",
    "            \"county\",\n",
    "            \"modified_target\",\n",
    "            \"product_type\",\n",
    "            \"is_consumption\",\n",
    "            \"is_business\",\n",
    "        ]\n",
    "    ],\n",
    "    x=\"datetime\",\n",
    "    y=\"modified_target\",\n",
    "    # col = 'product_type',\n",
    "    # product_type\n",
    "    style=\"is_business\",\n",
    "    hue=\"is_business\",\n",
    "    # aspect = 3,\n",
    "    # # height = 5,\n",
    "    alpha=0.5,\n",
    ")\n",
    "plt.show()\n",
    "\n",
    "# county\n",
    "# is_business\n",
    "# product_type\n",
    "# is_consumption"
   ]
  },
  {
   "cell_type": "code",
   "execution_count": null,
   "id": "abed618a-d92a-4a17-a9ac-5c8b1a68211b",
   "metadata": {
    "execution": {
     "iopub.status.busy": "2023-12-20T16:54:31.581125Z",
     "iopub.status.idle": "2023-12-20T16:54:31.582128Z",
     "shell.execute_reply": "2023-12-20T16:54:31.581125Z",
     "shell.execute_reply.started": "2023-12-20T16:54:31.581125Z"
    },
    "scrolled": true
   },
   "outputs": [],
   "source": [
    "hours_ago = (\n",
    "    [i for i in range(1, 25)]\n",
    "    + [24 * i for i in range(2, 8)]\n",
    "    + [168 * i for i in range(2, 9)]\n",
    "    + [672 * i for i in range(3, 13)]\n",
    ")\n",
    "for h in hours_ago:\n",
    "    df_hours[f\"tm_{h}h\"] = df_hours[\"modified_target\"].shift(h)\n",
    "df_hours.info()"
   ]
  },
  {
   "cell_type": "code",
   "execution_count": null,
   "id": "b23f9b85-42e8-414a-80df-a01be08a0bca",
   "metadata": {
    "execution": {
     "iopub.status.busy": "2023-12-20T16:54:31.582128Z",
     "iopub.status.idle": "2023-12-20T16:54:31.583128Z",
     "shell.execute_reply": "2023-12-20T16:54:31.583128Z",
     "shell.execute_reply.started": "2023-12-20T16:54:31.582128Z"
    },
    "scrolled": true
   },
   "outputs": [],
   "source": [
    "for h in i in range(24):\n",
    "    df[f\"tm_{i}h\"] = df[\"modified_target\"].shift(i)\n",
    "df[\"tm_1h\"] = df[\"modified_target\"].shift(1)"
   ]
  },
  {
   "cell_type": "code",
   "execution_count": null,
   "id": "50b384c2-3115-4a9d-b4d1-13e4c0ae34fc",
   "metadata": {
    "execution": {
     "iopub.status.busy": "2023-12-20T16:54:31.583128Z",
     "iopub.status.idle": "2023-12-20T16:54:31.584127Z",
     "shell.execute_reply": "2023-12-20T16:54:31.584127Z",
     "shell.execute_reply.started": "2023-12-20T16:54:31.584127Z"
    }
   },
   "outputs": [],
   "source": [
    "df.shift(periods=1)"
   ]
  },
  {
   "cell_type": "code",
   "execution_count": null,
   "id": "18a35937-f580-488f-ae59-ef17e4fc5fd3",
   "metadata": {
    "execution": {
     "iopub.status.busy": "2023-12-20T16:54:31.584127Z",
     "iopub.status.idle": "2023-12-20T16:54:31.585131Z",
     "shell.execute_reply": "2023-12-20T16:54:31.585131Z",
     "shell.execute_reply.started": "2023-12-20T16:54:31.585131Z"
    }
   },
   "outputs": [],
   "source": [
    "# def add_lags(df):\n",
    "#     target_map = df['PJME_MW'].to_dict()\n",
    "#     df['lag1'] = (df.index - pd.Timedelta('364 days')).map(target_map)\n",
    "#     df['lag2'] = (df.index - pd.Timedelta('728 days')).map(target_map)\n",
    "#     df['lag3'] = (df.index - pd.Timedelta('1092 days')).map(target_map)\n",
    "#     return df"
   ]
  },
  {
   "cell_type": "code",
   "execution_count": null,
   "id": "67aed01a-c82a-429e-a16e-c436fc042d6f",
   "metadata": {
    "execution": {
     "iopub.status.busy": "2023-12-20T16:54:31.585131Z",
     "iopub.status.idle": "2023-12-20T16:54:31.586128Z",
     "shell.execute_reply": "2023-12-20T16:54:31.586128Z",
     "shell.execute_reply.started": "2023-12-20T16:54:31.586128Z"
    },
    "scrolled": true
   },
   "outputs": [],
   "source": [
    "df_label = df.astype(\n",
    "    {\n",
    "        \"county\": \"category\",\n",
    "        \"is_business\": \"category\",\n",
    "        \"product_type\": \"category\",\n",
    "        \"is_consumption\": \"category\",\n",
    "    }\n",
    ")\n",
    "df_label.info()"
   ]
  },
  {
   "cell_type": "code",
   "execution_count": null,
   "id": "206e8953-d2dd-40a9-a474-797710cf9ecb",
   "metadata": {
    "execution": {
     "iopub.status.busy": "2023-12-20T16:54:31.586128Z",
     "iopub.status.idle": "2023-12-20T16:54:31.586128Z",
     "shell.execute_reply": "2023-12-20T16:54:31.586128Z",
     "shell.execute_reply.started": "2023-12-20T16:54:31.586128Z"
    }
   },
   "outputs": [],
   "source": [
    "df_label = pd.get_dummies(df_label, drop_first=True)\n",
    "df_label.info()"
   ]
  },
  {
   "cell_type": "code",
   "execution_count": null,
   "id": "8fe04b02-a1bf-4acf-84d3-2ec8c34b8afd",
   "metadata": {
    "execution": {
     "iopub.status.busy": "2023-12-20T16:54:31.587559Z",
     "iopub.status.idle": "2023-12-20T16:54:31.588559Z",
     "shell.execute_reply": "2023-12-20T16:54:31.587559Z",
     "shell.execute_reply.started": "2023-12-20T16:54:31.587559Z"
    }
   },
   "outputs": [],
   "source": [
    "df_label.columns"
   ]
  },
  {
   "cell_type": "code",
   "execution_count": null,
   "id": "4a961c50-b70a-454a-acfb-911ff580a56e",
   "metadata": {
    "execution": {
     "iopub.status.busy": "2023-12-20T16:54:31.588559Z",
     "iopub.status.idle": "2023-12-20T16:54:31.588559Z",
     "shell.execute_reply": "2023-12-20T16:54:31.588559Z",
     "shell.execute_reply.started": "2023-12-20T16:54:31.588559Z"
    }
   },
   "outputs": [],
   "source": [
    "X = df_label.drop(\n",
    "    columns=[\n",
    "        \"target\",\n",
    "        \"data_block_id\",\n",
    "        \"row_id\",\n",
    "        \"prediction_unit_id\",\n",
    "        \"modified_target\",\n",
    "    ],\n",
    "    axis=1,\n",
    ")\n",
    "\n",
    "y = df_label[\"modified_target\"].values\n",
    "\n",
    "X_train, X_test, y_train, y_test = train_test_split(\n",
    "    X, y, test_size=0.20, random_state=RAND\n",
    ")\n",
    "\n",
    "st = StandardScaler()\n",
    "X_train_std = st.fit_transform(X_train)\n",
    "X_test_std = st.transform(X_test)"
   ]
  },
  {
   "cell_type": "code",
   "execution_count": null,
   "id": "1fab19d1-f223-4c57-b205-fc5dc087d1e3",
   "metadata": {
    "execution": {
     "iopub.status.busy": "2023-12-20T16:54:31.589556Z",
     "iopub.status.idle": "2023-12-20T16:54:31.589556Z",
     "shell.execute_reply": "2023-12-20T16:54:31.589556Z",
     "shell.execute_reply.started": "2023-12-20T16:54:31.589556Z"
    }
   },
   "outputs": [],
   "source": [
    "def r2_adjusted(\n",
    "    y_true: np.ndarray, y_pred: np.ndarray, X_test: np.ndarray | int\n",
    ") -> float:\n",
    "    \"\"\"Коэффициент детерминации (множественная регрессия)\"\"\"\n",
    "    N_objects = len(y_true)\n",
    "\n",
    "    if isinstance(X_test, np.ndarray):\n",
    "        N_features = X_test.shape[1]\n",
    "    else:\n",
    "        N_features = X_test\n",
    "\n",
    "    #     N_features = X_test.shape[1]\n",
    "    r2 = r2_score(y_true, y_pred)\n",
    "    return 1 - (1 - r2) * (N_objects - 1) / (N_objects - N_features - 1)\n",
    "\n",
    "\n",
    "def mpe(y_true: np.ndarray, y_pred: np.ndarray) -> float:\n",
    "    \"\"\"Mean percentage error\"\"\"\n",
    "    return np.mean((y_true - y_pred) / y_true, axis=0) * 100\n",
    "\n",
    "\n",
    "def mape(y_true: np.ndarray, y_pred: np.ndarray) -> float:\n",
    "    \"\"\"Mean absolute percentage error\"\"\"\n",
    "    return np.mean(np.abs((y_pred - y_true) / y_true), axis=0) * 100\n",
    "\n",
    "\n",
    "def wape(y_true: np.ndarray, y_pred: np.ndarray) -> float:\n",
    "    \"\"\"Weighted Absolute Percent Error\"\"\"\n",
    "    return np.sum(np.abs(y_pred - y_true)) / np.sum(y_true) * 100\n",
    "\n",
    "\n",
    "def huber_loss(\n",
    "    y_true: np.ndarray | pd.DataFrame,\n",
    "    y_pred: np.ndarray | pd.DataFrame,\n",
    "    delta: float = 1.345,\n",
    "):\n",
    "    \"\"\"Функция ошибки Хьюбера\"\"\"\n",
    "\n",
    "    if isinstance(y_true, pd.DataFrame):\n",
    "        y_true = y_true.squeeze().to_numpy()\n",
    "    if isinstance(y_pred, pd.DataFrame):\n",
    "        y_pred = y_pred.squeeze().to_numpy()\n",
    "\n",
    "    assert len(y_true) == len(y_pred), \"Разные размеры данных\"\n",
    "    huber_sum = 0\n",
    "    for i in range(len(y_true)):\n",
    "        if abs(y_true[i] - y_pred[i]) <= delta:\n",
    "            huber_sum += 0.5 * (y_true[i] - y_pred[i]) ** 2\n",
    "        else:\n",
    "            huber_sum += delta * (abs(y_true[i] - y_pred[i]) - 0.5 * delta)\n",
    "    huber_sum /= len(y_true)\n",
    "    return huber_sum\n",
    "\n",
    "\n",
    "def logcosh(y_true: np.ndarray, y_pred: np.ndarray):\n",
    "    \"\"\"функция ошибки Лог-Кош\"\"\"\n",
    "    return np.sum(np.log(np.cosh(y_true - y_pred)))\n",
    "\n",
    "\n",
    "def rmsle(y_true: np.ndarray, y_pred: np.ndarray) -> np.float64:\n",
    "    \"\"\"\n",
    "    Root Mean Squared Log Error (RMSLE) metric\n",
    "    Логарифмическая ошибка средней квадратичной ошибки\n",
    "    \"\"\"\n",
    "    try:\n",
    "        return np.sqrt(mean_squared_log_error(y_true, y_pred))\n",
    "    except:\n",
    "        return None\n",
    "\n",
    "\n",
    "def get_metrics(\n",
    "    y_test: np.ndarray,\n",
    "    y_pred: np.ndarray,\n",
    "    X_test: np.ndarray,\n",
    "    name: str = None,\n",
    "    delta: float = 1.345,\n",
    "):\n",
    "    \"\"\"Генерация таблицы с метриками\"\"\"\n",
    "    df_metrics = pd.DataFrame()\n",
    "    df_metrics[\"model\"] = [name]\n",
    "\n",
    "    df_metrics[\"MAE\"] = mean_absolute_error(y_test, y_pred)\n",
    "    df_metrics[\"MSE\"] = mean_squared_error(y_test, y_pred)\n",
    "    df_metrics[\"Huber_loss\"] = huber_loss(y_test, y_pred, delta)\n",
    "    df_metrics[\"Logcosh\"] = logcosh(y_test, y_pred)\n",
    "    df_metrics[\"RMSE\"] = np.sqrt(mean_squared_error(y_test, y_pred))\n",
    "    df_metrics[\"RMSLE\"] = rmsle(y_test, y_pred)\n",
    "    df_metrics[\"R2 adjusted\"] = r2_adjusted(y_test, y_pred, X_test)\n",
    "    df_metrics[\"MPE_%\"] = mpe(y_test, y_pred)\n",
    "    df_metrics[\"MAPE_%\"] = mape(y_test, y_pred)\n",
    "    df_metrics[\"WAPE_%\"] = wape(y_test, y_pred)\n",
    "\n",
    "    return df_metrics"
   ]
  },
  {
   "cell_type": "code",
   "execution_count": null,
   "id": "9c61be9d-d40b-4ef8-80dd-e3fd686d52c1",
   "metadata": {
    "execution": {
     "iopub.status.busy": "2023-12-20T16:54:31.590557Z",
     "iopub.status.idle": "2023-12-20T16:54:31.590557Z",
     "shell.execute_reply": "2023-12-20T16:54:31.590557Z",
     "shell.execute_reply.started": "2023-12-20T16:54:31.590557Z"
    }
   },
   "outputs": [],
   "source": [
    "lr_skl = LinearRegression()\n",
    "lr_skl.fit(X_train_std, y_train)"
   ]
  },
  {
   "cell_type": "code",
   "execution_count": null,
   "id": "9f5fda38-2455-4c3f-867b-acd7c0bd950c",
   "metadata": {
    "execution": {
     "iopub.status.busy": "2023-12-20T16:54:31.591556Z",
     "iopub.status.idle": "2023-12-20T16:54:31.591556Z",
     "shell.execute_reply": "2023-12-20T16:54:31.591556Z",
     "shell.execute_reply.started": "2023-12-20T16:54:31.591556Z"
    }
   },
   "outputs": [],
   "source": [
    "lr_skl_pred = lr_skl.predict(X_test_std)"
   ]
  },
  {
   "cell_type": "code",
   "execution_count": null,
   "id": "f82aa99c-a05d-4a86-8638-06617768a57d",
   "metadata": {
    "execution": {
     "iopub.status.busy": "2023-12-20T16:54:31.592557Z",
     "iopub.status.idle": "2023-12-20T16:54:31.592557Z",
     "shell.execute_reply": "2023-12-20T16:54:31.592557Z",
     "shell.execute_reply.started": "2023-12-20T16:54:31.592557Z"
    }
   },
   "outputs": [],
   "source": [
    "skl_m = get_metrics(y_test, lr_skl_pred, X_test_std, name=\"skl_lr\")\n",
    "skl_m"
   ]
  },
  {
   "cell_type": "code",
   "execution_count": null,
   "id": "57a3bb2f-54a6-49bd-867d-f4c4887725f5",
   "metadata": {
    "execution": {
     "iopub.status.busy": "2023-12-20T16:54:31.593557Z",
     "iopub.status.idle": "2023-12-20T16:54:31.593557Z",
     "shell.execute_reply": "2023-12-20T16:54:31.593557Z",
     "shell.execute_reply.started": "2023-12-20T16:54:31.593557Z"
    }
   },
   "outputs": [],
   "source": [
    "df_hours = df_hours[\n",
    "    [\n",
    "        \"county\",\n",
    "        \"is_business\",\n",
    "        \"product_type\",\n",
    "        \"target\",\n",
    "        \"is_consumption\",\n",
    "        \"hour\",\n",
    "        \"day_of_week\",\n",
    "        \"day\",\n",
    "        \"week_of_year\",\n",
    "        \"month\",\n",
    "        \"quarter\",\n",
    "        \"year\",\n",
    "        \"modified_target\",\n",
    "        \"tm_1h\",\n",
    "        \"tm_2h\",\n",
    "        \"tm_3h\",\n",
    "        \"tm_4h\",\n",
    "        \"tm_5h\",\n",
    "        \"tm_6h\",\n",
    "        \"tm_7h\",\n",
    "        \"tm_8h\",\n",
    "        \"tm_9h\",\n",
    "        \"tm_10h\",\n",
    "        \"tm_11h\",\n",
    "        \"tm_12h\",\n",
    "        \"tm_13h\",\n",
    "        \"tm_14h\",\n",
    "        \"tm_15h\",\n",
    "        \"tm_16h\",\n",
    "        \"tm_17h\",\n",
    "        \"tm_18h\",\n",
    "        \"tm_19h\",\n",
    "        \"tm_20h\",\n",
    "        \"tm_21h\",\n",
    "        \"tm_22h\",\n",
    "        \"tm_23h\",\n",
    "        \"tm_24h\",\n",
    "        \"tm_48h\",\n",
    "        \"tm_72h\",\n",
    "        \"tm_96h\",\n",
    "        \"tm_120h\",\n",
    "        \"tm_144h\",\n",
    "        \"tm_168h\",\n",
    "        \"tm_336h\",\n",
    "        \"tm_504h\",\n",
    "        \"tm_672h\",\n",
    "        \"tm_840h\",\n",
    "        \"tm_1008h\",\n",
    "        \"tm_1176h\",\n",
    "        \"tm_1344h\",\n",
    "        \"tm_2016h\",\n",
    "        \"tm_2688h\",\n",
    "        \"tm_3360h\",\n",
    "        \"tm_4032h\",\n",
    "        \"tm_4704h\",\n",
    "        \"tm_5376h\",\n",
    "        \"tm_6048h\",\n",
    "        \"tm_6720h\",\n",
    "        \"tm_7392h\",\n",
    "        \"tm_8064h\",\n",
    "    ]\n",
    "]"
   ]
  },
  {
   "cell_type": "code",
   "execution_count": null,
   "id": "77fe3e3b-a122-471c-8abe-631d511f8e19",
   "metadata": {
    "execution": {
     "iopub.status.busy": "2023-12-20T16:54:31.593557Z",
     "iopub.status.idle": "2023-12-20T16:54:31.594557Z",
     "shell.execute_reply": "2023-12-20T16:54:31.594557Z",
     "shell.execute_reply.started": "2023-12-20T16:54:31.594557Z"
    }
   },
   "outputs": [],
   "source": [
    "df_hours = df_hours.sort_index()\n",
    "tss = TimeSeriesSplit(n_splits=3, test_size=300_000)"
   ]
  },
  {
   "cell_type": "code",
   "execution_count": null,
   "id": "7e7194de-f912-4c8d-bf34-fe154b1569ad",
   "metadata": {
    "execution": {
     "iopub.status.busy": "2023-12-20T16:54:31.594557Z",
     "iopub.status.idle": "2023-12-20T16:54:31.594557Z",
     "shell.execute_reply": "2023-12-20T16:54:31.594557Z",
     "shell.execute_reply.started": "2023-12-20T16:54:31.594557Z"
    },
    "scrolled": true
   },
   "outputs": [],
   "source": [
    "fold = 0\n",
    "preds = []\n",
    "scores = []\n",
    "for train_idx, val_idx in tss.split(df_hours):\n",
    "    train = df_hours.iloc[train_idx]\n",
    "    test = df_hours.iloc[val_idx]\n",
    "\n",
    "    reg = XGBRegressor(\n",
    "        n_estimators=2000,\n",
    "        early_stopping_rounds=50,\n",
    "        objective=\"reg:squarederror\",\n",
    "        enable_categorical=True,\n",
    "        eval_metric=\"mae\",\n",
    "        # max_depth=3,\n",
    "        learning_rate=0.01,\n",
    "        random_state=RAND,\n",
    "    )\n",
    "    FEATURES = [\n",
    "        \"county\",\n",
    "        \"is_business\",\n",
    "        \"product_type\",\n",
    "        \"is_consumption\",\n",
    "        \"hour\",\n",
    "        \"day_of_week\",\n",
    "        \"day\",\n",
    "        \"week_of_year\",\n",
    "        \"month\",\n",
    "        \"quarter\",\n",
    "        \"year\",\n",
    "        \"tm_1h\",\n",
    "        \"tm_2h\",\n",
    "        \"tm_3h\",\n",
    "        \"tm_4h\",\n",
    "        \"tm_5h\",\n",
    "        \"tm_6h\",\n",
    "        \"tm_7h\",\n",
    "        \"tm_8h\",\n",
    "        \"tm_9h\",\n",
    "        \"tm_10h\",\n",
    "        \"tm_11h\",\n",
    "        \"tm_12h\",\n",
    "        \"tm_13h\",\n",
    "        \"tm_14h\",\n",
    "        \"tm_15h\",\n",
    "        \"tm_16h\",\n",
    "        \"tm_17h\",\n",
    "        \"tm_18h\",\n",
    "        \"tm_19h\",\n",
    "        \"tm_20h\",\n",
    "        \"tm_21h\",\n",
    "        \"tm_22h\",\n",
    "        \"tm_23h\",\n",
    "        \"tm_24h\",\n",
    "        \"tm_48h\",\n",
    "        \"tm_72h\",\n",
    "        \"tm_96h\",\n",
    "        \"tm_120h\",\n",
    "        \"tm_144h\",\n",
    "        \"tm_168h\",\n",
    "        \"tm_336h\",\n",
    "        \"tm_504h\",\n",
    "        \"tm_672h\",\n",
    "        \"tm_840h\",\n",
    "        \"tm_1008h\",\n",
    "        \"tm_1176h\",\n",
    "        \"tm_1344h\",\n",
    "        \"tm_2016h\",\n",
    "        \"tm_2688h\",\n",
    "        \"tm_3360h\",\n",
    "        \"tm_4032h\",\n",
    "        \"tm_4704h\",\n",
    "        \"tm_5376h\",\n",
    "        \"tm_6048h\",\n",
    "        \"tm_6720h\",\n",
    "        \"tm_7392h\",\n",
    "        \"tm_8064h\",\n",
    "    ]\n",
    "    # TARGET = \"modified_target\"\n",
    "    TARGET = \"target\"\n",
    "\n",
    "    X_train = train[FEATURES]\n",
    "    y_train = train[TARGET]\n",
    "\n",
    "    X_test = test[FEATURES]\n",
    "    y_test = test[TARGET]\n",
    "\n",
    "    reg.fit(\n",
    "        X_train,\n",
    "        y_train,\n",
    "        eval_set=[(X_train, y_train), (X_test, y_test)],\n",
    "        verbose=20,\n",
    "    )\n",
    "\n",
    "    y_pred = reg.predict(X_test)\n",
    "    preds.append(y_pred)\n",
    "    score = np.sqrt(mean_squared_error(y_test, y_pred))\n",
    "    scores.append(score)"
   ]
  },
  {
   "cell_type": "code",
   "execution_count": null,
   "id": "cacaebe8-82d1-4e8d-8ab1-93d71c00cb28",
   "metadata": {
    "execution": {
     "iopub.status.busy": "2023-12-20T16:54:31.596062Z",
     "iopub.status.idle": "2023-12-20T16:54:31.596062Z",
     "shell.execute_reply": "2023-12-20T16:54:31.596062Z",
     "shell.execute_reply.started": "2023-12-20T16:54:31.596062Z"
    }
   },
   "outputs": [],
   "source": [
    "hours_ago = (\n",
    "    [i for i in range(1, 25)]\n",
    "    + [24 * i for i in range(2, 8)]\n",
    "    + [168 * i for i in range(2, 9)]\n",
    "    + [672 * i for i in range(3, 13)]\n",
    ")\n",
    "for h in hours_ago:\n",
    "    df[f\"t_{h}h\"] = df[\"target\"].shift(h)"
   ]
  },
  {
   "cell_type": "code",
   "execution_count": null,
   "id": "59a59dba-58ea-4b29-a6b0-533e7fe0be61",
   "metadata": {
    "execution": {
     "iopub.status.busy": "2023-12-20T16:54:31.597071Z",
     "iopub.status.idle": "2023-12-20T16:54:31.597071Z",
     "shell.execute_reply": "2023-12-20T16:54:31.597071Z",
     "shell.execute_reply.started": "2023-12-20T16:54:31.597071Z"
    }
   },
   "outputs": [],
   "source": [
    "fig, ax = plt.subplots(figsize=(35, 30))\n",
    "\n",
    "sns.heatmap(df_hours.corr(), annot=True, cmap=\"Blues\", fmt=\".1f\")\n",
    "# plt.figure(figsize=(25, 25))\n",
    "plt.show()\n",
    "# numeric_only=True"
   ]
  },
  {
   "cell_type": "code",
   "execution_count": null,
   "id": "886a636a-181c-4dea-8622-9a23cd0fb64d",
   "metadata": {},
   "outputs": [],
   "source": []
  },
  {
   "cell_type": "code",
   "execution_count": null,
   "id": "fe01bc03-c7f8-4744-a634-70dca959d298",
   "metadata": {
    "execution": {
     "iopub.status.busy": "2023-12-20T16:54:31.598070Z",
     "iopub.status.idle": "2023-12-20T16:54:31.598070Z",
     "shell.execute_reply": "2023-12-20T16:54:31.598070Z",
     "shell.execute_reply.started": "2023-12-20T16:54:31.598070Z"
    }
   },
   "outputs": [],
   "source": [
    "# df = df.sort_index().sort_values(\n",
    "#     [\"county\", \"is_business\", \"product_type\", \"is_consumption\"],\n",
    "#     kind=\"mergesort\",\n",
    "# )\n",
    "df.sort_index()\n",
    "tss = TimeSeriesSplit(n_splits=3, test_size=300_000)"
   ]
  },
  {
   "cell_type": "code",
   "execution_count": null,
   "id": "6790fd79-1e77-4e6f-bb8d-af83f47a57cd",
   "metadata": {},
   "outputs": [],
   "source": []
  },
  {
   "cell_type": "code",
   "execution_count": null,
   "id": "d62cb625-c7d6-4b82-83f6-dfe71f756156",
   "metadata": {
    "execution": {
     "iopub.status.busy": "2023-12-20T16:54:31.599081Z",
     "iopub.status.idle": "2023-12-20T16:54:31.599081Z",
     "shell.execute_reply": "2023-12-20T16:54:31.599081Z",
     "shell.execute_reply.started": "2023-12-20T16:54:31.599081Z"
    }
   },
   "outputs": [],
   "source": [
    "# for train_idx, val_idx in tss.split(df):\n",
    "# print('1 train:', train_idx)\n",
    "# display(df.iloc[train_idx].tail(5))\n",
    "# print('1 val:', val_idx)"
   ]
  },
  {
   "cell_type": "code",
   "execution_count": null,
   "id": "76417d13-25db-4e88-9af6-04d9e23b6afd",
   "metadata": {
    "execution": {
     "iopub.status.busy": "2023-12-20T16:54:31.600078Z",
     "iopub.status.idle": "2023-12-20T16:54:31.600078Z",
     "shell.execute_reply": "2023-12-20T16:54:31.600078Z",
     "shell.execute_reply.started": "2023-12-20T16:54:31.600078Z"
    }
   },
   "outputs": [],
   "source": [
    "tss = TimeSeriesSplit(n_splits=3, test_size=300_000)\n",
    "df = df.sort_index()\n",
    "\n",
    "fig, axs = plt.subplots(3, 1, figsize=(10, 10), sharex=True)\n",
    "fold = 0\n",
    "\n",
    "for train_idx, val_idx in tss.split(df):\n",
    "    train = df.iloc[train_idx]\n",
    "    test = df.iloc[val_idx]\n",
    "    train[\"modified_target\"].plot(\n",
    "        ax=axs[fold],\n",
    "        label=\"Training Set\",\n",
    "        title=f\"Data Train/Test Split Fold {fold}\",\n",
    "    )\n",
    "    test[\"modified_target\"].plot(ax=axs[fold], label=\"Test Set\")\n",
    "    axs[fold].axvline(test.index.min(), color=\"black\", ls=\"--\")\n",
    "    fold += 1\n",
    "plt.show()"
   ]
  },
  {
   "cell_type": "code",
   "execution_count": null,
   "id": "d4637896-c557-496a-bad6-0f7734fa9158",
   "metadata": {
    "execution": {
     "iopub.status.busy": "2023-12-20T16:54:31.601082Z",
     "iopub.status.idle": "2023-12-20T16:54:31.601082Z",
     "shell.execute_reply": "2023-12-20T16:54:31.601082Z",
     "shell.execute_reply.started": "2023-12-20T16:54:31.601082Z"
    },
    "scrolled": true
   },
   "outputs": [],
   "source": [
    "fold = 0\n",
    "preds = []\n",
    "scores = []\n",
    "for train_idx, val_idx in tss.split(df):\n",
    "    train = df.iloc[train_idx]\n",
    "    test = df.iloc[val_idx]\n",
    "\n",
    "    reg = XGBRegressor(\n",
    "        n_estimators=2000,\n",
    "        early_stopping_rounds=50,\n",
    "        objective=\"reg:squarederror\",\n",
    "        enable_categorical=True,\n",
    "        eval_metric=\"mae\",\n",
    "        # max_depth=3,\n",
    "        learning_rate=0.01,\n",
    "        random_state=RAND,\n",
    "    )\n",
    "    FEATURES = [\n",
    "        \"county\",\n",
    "        \"is_business\",\n",
    "        \"product_type\",\n",
    "        # 'target',\n",
    "        \"is_consumption\",\n",
    "        # 'data_block_id',\n",
    "        # 'row_id',\n",
    "        # 'prediction_unit_id',\n",
    "        \"hour\",\n",
    "        \"day_of_week\",\n",
    "        \"day\",\n",
    "        \"week_of_year\",\n",
    "        \"month\",\n",
    "        \"quarter\",\n",
    "        \"year\",\n",
    "        # 'modified_target',\n",
    "    ]\n",
    "    TARGET = \"modified_target\"\n",
    "\n",
    "    X_train = train[FEATURES]\n",
    "    y_train = train[TARGET]\n",
    "\n",
    "    X_test = test[FEATURES]\n",
    "    y_test = test[TARGET]\n",
    "\n",
    "    reg.fit(\n",
    "        X_train,\n",
    "        y_train,\n",
    "        eval_set=[(X_train, y_train), (X_test, y_test)],\n",
    "        verbose=20,\n",
    "    )\n",
    "\n",
    "    y_pred = reg.predict(X_test)\n",
    "    preds.append(y_pred)\n",
    "    score = np.sqrt(mean_squared_error(y_test, y_pred))\n",
    "    scores.append(score)"
   ]
  },
  {
   "cell_type": "markdown",
   "id": "11c5b9ef-41b8-45d9-97cb-47c8d32dcd2f",
   "metadata": {
    "execution": {
     "iopub.execute_input": "2023-11-23T13:02:48.363521Z",
     "iopub.status.busy": "2023-11-23T13:02:48.363521Z",
     "iopub.status.idle": "2023-11-23T13:02:48.371496Z",
     "shell.execute_reply": "2023-11-23T13:02:48.370980Z",
     "shell.execute_reply.started": "2023-11-23T13:02:48.363521Z"
    }
   },
   "source": [
    "- **county - An ID code for the county.**\n",
    "- **is_business - Boolean for whether or not the prosumer is a business.**\n",
    "- **product_type - ID code with the following mapping of codes to contract - types: {0: \"Combined\", 1: \"Fixed\", 2: \"General service\", 3: \"Spot\"}.**\n",
    "- **target - The consumption or production amount for the relevant segment for the hour. The segments are defined by the county, is_business, and product_type.**\n",
    "- **is_consumption - Boolean for whether or not this row's target is consumption or production.**\n",
    "- **datetime - The Estonian time in EET (UTC+2) / EEST (UTC+3).**\n",
    "- **data_block_id - All rows sharing the same data_block_id will be available at the same forecast time. This is a function of what information is available when forecasts are actually made, at 11 AM each morning. For example, if the forecast weather data_block_id for predictins made on October 31st is 100 then the historic weather data_block_id for October 31st will be 101 as the historic weather data is only actually available the next day.**\n",
    "- **row_id - A unique identifier for the row.**\n",
    "- **prediction_unit_id - A unique identifier for the county, is_business, and product_type combination. New prediction units can appear or disappear in the test set.**"
   ]
  }
 ],
 "metadata": {
  "kernelspec": {
   "display_name": "Python 3 (ipykernel)",
   "language": "python",
   "name": "python3"
  },
  "language_info": {
   "codemirror_mode": {
    "name": "ipython",
    "version": 3
   },
   "file_extension": ".py",
   "mimetype": "text/x-python",
   "name": "python",
   "nbconvert_exporter": "python",
   "pygments_lexer": "ipython3",
   "version": "3.11.6"
  }
 },
 "nbformat": 4,
 "nbformat_minor": 5
}
