{
 "cells": [
  {
   "cell_type": "markdown",
   "id": "938beb8f-8334-48bb-8684-7fa7eb1165c8",
   "metadata": {},
   "source": [
    "# 1. Overview"
   ]
  },
  {
   "cell_type": "markdown",
   "id": "3557643f-ac06-4eec-9cdb-6a26c571bd8e",
   "metadata": {},
   "source": [
    "<font size=\"6\">Enefit - Predict Energy Behavior of Prosumers.</font>\n",
    "\n",
    "<font size=\"4\">Predict Prosumer Energy Patterns and Minimize Imbalance Costs.</font>\n",
    "\n",
    "https://www.kaggle.com/competitions/predict-energy-behavior-of-prosumers"
   ]
  },
  {
   "cell_type": "markdown",
   "id": "ce6b5209-45ca-4949-aa68-9f77caa89126",
   "metadata": {},
   "source": [
    "The goal of the competition is to create an energy prediction model of prosumers to reduce energy imbalance costs. This competition aims to tackle the issue of energy imbalance, a situation where the energy expected to be used doesn't line up with the actual energy used or produced. Prosumers, who both consume and generate energy, contribute a large part of the energy imbalance. Despite being only a small part of all consumers, their unpredictable energy use causes logistical and financial problems for the energy companies."
   ]
  },
  {
   "cell_type": "markdown",
   "id": "38475621-434e-4781-8e40-584ba4e6abf2",
   "metadata": {},
   "source": [
    "- **Description**\n",
    "\n",
    "The number of prosumers is rapidly increasing, and solving the problems of energy imbalance and their rising costs is vital. If left unaddressed, this could lead to increased operational costs, potential grid instability, and inefficient use of energy resources. If this problem were effectively solved, it would significantly reduce the imbalance costs, improve the reliability of the grid, and make the integration of prosumers into the energy system more efficient and sustainable. Moreover, it could potentially incentivize more consumers to become prosumers, knowing that their energy behavior can be adequately managed, thus promoting renewable energy production and use."
   ]
  },
  {
   "cell_type": "markdown",
   "id": "f53bcaf5-bcc6-4d85-bae3-2d803c454500",
   "metadata": {},
   "source": [
    "- **About us**\n",
    "\n",
    "Enefit is one of the biggest energy companies in Baltic region. As experts in the field of energy, we help customers plan their green journey in a personal and flexible manner as well as implement it by using environmentally friendly energy solutions.\n",
    "\n",
    "At present, Enefit is attempting to solve the imbalance problem by developing internal predictive models and relying on third-party forecasts. However, these methods have proven to be insufficient due to their low accuracy in forecasting the energy behavior of prosumers. The shortcomings of these current methods lie in their inability to accurately account for the wide range of variables that influence prosumer behavior, leading to high imbalance costs. By opening up the challenge to the world's best data scientists through the Kaggle platform, Enefit aims to leverage a broader pool of expertise and novel approaches to improve the accuracy of these predictions and consequently reduce the imbalance and associated costs."
   ]
  },
  {
   "cell_type": "markdown",
   "id": "3d1155d8-a4e2-44f9-a584-83677f43b43f",
   "metadata": {
    "execution": {
     "iopub.execute_input": "2024-01-20T12:35:41.280972Z",
     "iopub.status.busy": "2024-01-20T12:35:41.279972Z",
     "iopub.status.idle": "2024-01-20T12:35:41.285991Z",
     "shell.execute_reply": "2024-01-20T12:35:41.285991Z",
     "shell.execute_reply.started": "2024-01-20T12:35:41.280972Z"
    }
   },
   "source": [
    "- **Evaluation**\n",
    "\n",
    "Submissions are evaluated on the Mean Absolute Error (MAE) between the predicted return and the observed target. The formula is given by:\n",
    "$$\n",
    "MAE = \\frac{1}{n} \\sum_{i=1}^{n}{|y_i-x_i|}\n",
    "$$\n",
    "\n",
    "\n",
    "Where:\n",
    "- $n$ is the total number of data points.\n",
    "- $y_i$ is the predicted value for data point i.\n",
    "- $x_i$ is the observed value for data point i."
   ]
  },
  {
   "cell_type": "markdown",
   "id": "3eb0c304-f8a9-4d3e-b15e-341b35c0994a",
   "metadata": {},
   "source": [
    "- **Timeline**\n",
    "\n",
    "This is a future data prediction competition with an active training phase and a second period where selected submissions will be evaluated against future ground truth data.\n",
    "\n",
    "**Training Timeline**\n",
    "\n",
    "- November 1, 2023 - Start Date.\n",
    "\n",
    "- January 24, 2024 - Entry Deadline. You must accept the competition rules before this date in order to compete.\n",
    "\n",
    "- January 24, 2024 - Team Merger Deadline. This is the last day participants may join or merge teams.\n",
    "\n",
    "- January 31, 2024 - Final Submission Deadline.\n",
    "\n",
    "All deadlines are at 11:59 PM UTC on the corresponding day unless otherwise noted. The competition organizers reserve the right to update the contest timeline if they deem it necessary.\n",
    "\n",
    "**Prediction Timeline**\n",
    "\n",
    "Starting after the final submission deadline there will be periodic updates to the leaderboard to reflect future data updates that will be evaluated against selected submissions. We anticipate 1-3 updates before the final evaluation.\n",
    "\n",
    "- April 30, 2024 - Competition End Date."
   ]
  },
  {
   "cell_type": "markdown",
   "id": "cade83b5-8b24-411d-a40b-4bc5652aca04",
   "metadata": {},
   "source": [
    "# 2. Dataset Description"
   ]
  },
  {
   "cell_type": "markdown",
   "id": "d4d4ec5e-7595-4330-9a2a-8563b6d938cf",
   "metadata": {},
   "source": [
    "Dataset Description\n",
    "Your challenge in this competition is to predict the amount of electricity produced and consumed by Estonian energy customers who have installed solar panels. You'll have access to weather data, the relevant energy prices, and records of the installed photovoltaic capacity.\n",
    "\n",
    "This is a forecasting competition using the time series API. The private leaderboard will be determined using real data gathered after the submission period closes.\n",
    "\n",
    "💡 Nota bene:\n",
    "\n",
    "All datasets follow the same time convention. Time is given in EET/EEST. Most of the variables are a sum or an average over a period of 1 hour. The datetime column (whatever its name) always gives the start of the 1-hour period. However, for the weather datasets, some variables such as temperature or cloud cover, are given for a specific time, which is always the end of the 1-hour period."
   ]
  },
  {
   "cell_type": "markdown",
   "id": "3732fe4a-6e10-4414-ba0c-6a399120869e",
   "metadata": {},
   "source": [
    "## Files"
   ]
  },
  {
   "cell_type": "markdown",
   "id": "102136d7-eeaf-4639-84c9-3450fe01a854",
   "metadata": {},
   "source": [
    "### 1. train.csv\n",
    "- county - An ID code for the county.\n",
    "- is_business - Boolean for whether or not the prosumer is a business.\n",
    "- product_type - ID code with the following mapping of codes to contract types: {0: \"Combined\", 1: \"Fixed\", 2: \"General service\", 3: \"Spot\"}.\n",
    "- target - The consumption or production amount for the relevant segment for the hour. The segments are defined by the county, is_business, and product_type.\n",
    "- is_consumption - Boolean for whether or not this row's target is consumption or production.\n",
    "- datetime - The Estonian time in EET (UTC+2) / EEST (UTC+3).\n",
    "- data_block_id - All rows sharing the same data_block_id will be available at the same forecast time. This is a function of what information is available when forecasts are actually made, at 11 AM each morning. For example, if the forecast weather data_block_id for predictins made on October 31st is 100 then the historic weather data_block_id for October 31st will be 101 as the historic weather data is only actually available the next day.\n",
    "- row_id - A unique identifier for the row.\n",
    "- prediction_unit_id - A unique identifier for the county, is_business, and product_type combination. *New prediction units can appear or disappear in the test set*."
   ]
  },
  {
   "cell_type": "markdown",
   "id": "d08fe8ba-3bc9-437b-95eb-d853506fbb44",
   "metadata": {},
   "source": [
    "### 2. gas_prices.csv\n",
    "\n",
    "- origin_date - The date when the day-ahead prices became available.\n",
    "- forecast_date - The date when the forecast prices should be relevant.\n",
    "- [lowest/highest]_price_per_mwh - The lowest/highest price of natural gas that on the day ahead market that trading day, in Euros per megawatt hour equivalent.\n",
    "data_block_id\n",
    "- data_block_id"
   ]
  },
  {
   "cell_type": "markdown",
   "id": "da0358c7-ca03-418b-8075-cb61b654a1a7",
   "metadata": {},
   "source": [
    "### 3. client.csv\n",
    "- product_type\n",
    "- county - An ID code for the county. See county_id_to_name_map.json for the mapping of ID codes to county names.\n",
    "- eic_count - The aggregated number of consumption points (EICs - European Identifier Code).\n",
    "- installed_capacity - Installed photovoltaic solar panel capacity in kilowatts.\n",
    "- is_business - Boolean for whether or not the prosumer is a business.\n",
    "- date\n",
    "- data_block_id"
   ]
  },
  {
   "cell_type": "markdown",
   "id": "5c949111-6148-4b96-82f6-b9ea4895a4d6",
   "metadata": {
    "execution": {
     "iopub.execute_input": "2024-03-03T14:45:17.391075Z",
     "iopub.status.busy": "2024-03-03T14:45:17.387210Z",
     "iopub.status.idle": "2024-03-03T14:45:17.420041Z",
     "shell.execute_reply": "2024-03-03T14:45:17.419029Z",
     "shell.execute_reply.started": "2024-03-03T14:45:17.391075Z"
    }
   },
   "source": [
    "### 4. electricity_prices.csv\n",
    "- origin_date\n",
    "- forecast_date - Represents the start of the 1-hour period when the price is valid\n",
    "- euros_per_mwh - The price of electricity on the day ahead markets in euros per megawatt hour.\n",
    "- data_block_id"
   ]
  },
  {
   "cell_type": "markdown",
   "id": "7bbd5925-cd31-4dc6-9755-c9b1b6c7768f",
   "metadata": {},
   "source": [
    "### 5. forecast_weather.csv\n",
    "Weather forecasts that would have been available at prediction time. Sourced from the [European Centre for Medium-Range Weather Forecasts](https://codes.ecmwf.int/grib/param-db/?filter=grib2).\n",
    "\n",
    "- [latitude/longitude] - The coordinates of the weather forecast.\n",
    "- origin_datetime - The timestamp of when the forecast was generated.\n",
    "- hours_ahead - The number of hours between the forecast generation and the forecast weather. Each forecast covers 48 hours in total.\n",
    "- temperature - The air temperature at 2 meters above ground in degrees Celsius. Estimated for the end of the 1-hour period.\n",
    "- dewpoint - The dew point temperature at 2 meters above ground in degrees Celsius. Estimated for the end of the 1-hour period.\n",
    "- cloudcover_[low/mid/high/total] - The percentage of the sky covered by clouds in the following altitude bands: 0-2 km, 2-6, 6+, and total. Estimated for the end of the 1-hour period.\n",
    "- 10_metre_[u/v]_wind_component - The [eastward/northward] component of wind speed measured 10 meters above surface in meters per second. Estimated for the end of the 1-hour period.\n",
    "- data_block_id\n",
    "- forecast_datetime - The timestamp of the predicted weather. Generated from origin_datetime plus hours_ahead. This represents the start of the 1-hour period for which weather data are forecasted.\n",
    "- direct_solar_radiation - The direct solar radiation reaching the surface on a plane perpendicular to the direction of the Sun accumulated during the hour, in watt-hours per square meter.\n",
    "- surface_solar_radiation_downwards - The solar radiation, both direct and diffuse, that reaches a horizontal plane at the surface of the Earth, accumulated during the hour, in watt-hours per square meter.\n",
    "- snowfall - Snowfall over hour in units of meters of water equivalent.\n",
    "- total_precipitation - The accumulated liquid, comprising rain and snow that falls on Earth's surface over the described hour, in units of meters."
   ]
  },
  {
   "cell_type": "markdown",
   "id": "7cd90ae5-f187-4f35-be32-75595b60ee6f",
   "metadata": {
    "execution": {
     "iopub.execute_input": "2024-03-03T14:51:13.183872Z",
     "iopub.status.busy": "2024-03-03T14:51:13.182524Z",
     "iopub.status.idle": "2024-03-03T14:51:13.194861Z",
     "shell.execute_reply": "2024-03-03T14:51:13.194861Z",
     "shell.execute_reply.started": "2024-03-03T14:51:13.183872Z"
    }
   },
   "source": [
    "### 6. historical_weather.csv\n",
    "[Historic weather data](https://open-meteo.com/en/docs).\n",
    "\n",
    "- datetime - This represents the start of the 1-hour period for which weather data are measured.\n",
    "- temperature - Measured at the end of the 1-hour period.\n",
    "- dewpoint - Measured at the end of the 1-hour period.\n",
    "- rain - Different from the forecast conventions. The rain from large scale weather systems of the hour in millimeters.\n",
    "- snowfall - Different from the forecast conventions. Snowfall over the hour in centimeters.\n",
    "- surface_pressure - The air pressure at surface in hectopascals.\n",
    "- cloudcover_[low/mid/high/total] - Different from the forecast conventions. Cloud cover at 0-3 km, 3-8, 8+, and total.\n",
    "- windspeed_10m - Different from the forecast conventions. The wind speed at 10 meters above ground in meters per second.\n",
    "- winddirection_10m - Different from the forecast conventions. The wind direction at 10 meters above ground in degrees.\n",
    "- shortwave_radiation - Different from the forecast conventions. The global horizontal irradiation in watt-hours per square meter.\n",
    "- direct_solar_radiation\n",
    "- diffuse_radiation - Different from the forecast conventions. The diffuse solar irradiation in watt-hours per square meter.\n",
    "- [latitude/longitude] - The coordinates of the weather station.\n",
    "- data_block_id"
   ]
  }
 ],
 "metadata": {
  "kernelspec": {
   "display_name": "Python 3 (ipykernel)",
   "language": "python",
   "name": "python3"
  },
  "language_info": {
   "codemirror_mode": {
    "name": "ipython",
    "version": 3
   },
   "file_extension": ".py",
   "mimetype": "text/x-python",
   "name": "python",
   "nbconvert_exporter": "python",
   "pygments_lexer": "ipython3",
   "version": "3.11.9"
  }
 },
 "nbformat": 4,
 "nbformat_minor": 5
}
