{
 "cells": [
  {
   "cell_type": "markdown",
   "id": "af09e75c-0bf4-4c48-a601-01db2a2f3bd6",
   "metadata": {},
   "source": [
    "# 1. Setup"
   ]
  },
  {
   "cell_type": "code",
   "execution_count": null,
   "id": "c294f506-7ec6-42cb-88a3-07cf9ae2c71b",
   "metadata": {},
   "outputs": [],
   "source": [
    "import sys\n",
    "from pathlib import Path\n",
    "sys.path.append(str(Path().resolve().parent))"
   ]
  },
  {
   "cell_type": "code",
   "execution_count": null,
   "id": "b5d9fc89-7313-4a85-8519-e9d590e69243",
   "metadata": {},
   "outputs": [],
   "source": [
    "# Horizontal Scrolling\n",
    "import io\n",
    "import base64\n",
    "from IPython.display import HTML, display"
   ]
  },
  {
   "cell_type": "code",
   "execution_count": null,
   "id": "b609dd18-6839-426a-bc21-f94adbdf60ce",
   "metadata": {},
   "outputs": [],
   "source": [
    "import matplotlib.pyplot as plt\n",
    "import matplotlib.transforms as mt\n",
    "import matplotlib.patches as mpatches\n",
    "import numpy as np\n",
    "import pandas as pd\n",
    "import seaborn as sns\n",
    "from pandas import DataFrame, Series, Timedelta\n",
    "from scipy.ndimage import binary_dilation\n",
    "from sklearn.metrics import mean_absolute_error as MAE"
   ]
  },
  {
   "cell_type": "code",
   "execution_count": null,
   "id": "cb66e024-d3af-43ad-8a53-aa261e6c108c",
   "metadata": {},
   "outputs": [],
   "source": [
    "from catboost import CatBoostRegressor\n",
    "from lightgbm import LGBMRegressor, early_stopping, log_evaluation\n",
    "from xgboost import XGBRegressor"
   ]
  },
  {
   "cell_type": "code",
   "execution_count": null,
   "id": "1cfa8367-1fd6-49f1-87e7-a0abaf056807",
   "metadata": {},
   "outputs": [],
   "source": [
    "from utils.loading import load_all_raw_data\n",
    "from utils.preprocessing import process_all_dfs\n",
    "from utils.merging import merge_all_dfs\n",
    "from utils.feature_engineering import *"
   ]
  },
  {
   "cell_type": "code",
   "execution_count": null,
   "id": "c517a23d-20f1-4d78-9500-cdad996b9962",
   "metadata": {},
   "outputs": [],
   "source": [
    "pd.set_option(\n",
    "    \"display.float_format\",\n",
    "    lambda x: f\"{x:.2e}\" if abs(x) < 0.01 and x != 0 else f\"{x:.2f}\",\n",
    ")\n",
    "pd.set_option('display.max_columns', 100)\n",
    "pd.set_option(\"display.max_rows\", 100)"
   ]
  },
  {
   "cell_type": "code",
   "execution_count": null,
   "id": "fecf64f8-3024-49c1-8003-2bf3bdf7a1ce",
   "metadata": {},
   "outputs": [],
   "source": [
    "RAW_DATA_PATH = \"../data/raw_data/\"\n",
    "ADDITIONAL_DATA_PATH = \"../data/additional_data/\"\n",
    "\n",
    "SEGMENT_C = [\"county\", \"product_type\", \"is_business\"]\n",
    "CATEGORICAL_C = [\"county\", \"product_type\", \"is_business\", \"is_consumption\"]\n",
    "TARGET_C = [\n",
    "    \"county\",\n",
    "    \"product_type\",\n",
    "    \"is_business\",\n",
    "    \"is_consumption\",\n",
    "    \"datetime\",\n",
    "]\n",
    "RAND = 10"
   ]
  },
  {
   "cell_type": "markdown",
   "id": "8c38031e-6fd2-4ad1-8c50-dbd1858776f6",
   "metadata": {},
   "source": [
    "# 2. Processing"
   ]
  },
  {
   "cell_type": "code",
   "execution_count": null,
   "id": "a45b93a4-9cff-44b0-bfa5-6fc1acc9f485",
   "metadata": {},
   "outputs": [],
   "source": [
    "processed_dfs = process_all_dfs(\n",
    "    load_all_raw_data(RAW_DATA_PATH, ADDITIONAL_DATA_PATH)\n",
    ")\n",
    "\n",
    "# processed_dfs.keys()\n",
    "df = merge_all_dfs(processed_dfs, how=\"left\")\n",
    "df = add_dst_flag(df)\n",
    "df = add_cyclic_datetime_features(df, drop_raw=True)"
   ]
  },
  {
   "cell_type": "code",
   "execution_count": null,
   "id": "11122383-2f03-4716-a628-104dd4f8469d",
   "metadata": {},
   "outputs": [],
   "source": [
    "for lag in [2, 3, 7]:\n",
    "# for lag in range(2, 15):\n",
    "    df = df.merge(\n",
    "        get_lag(processed_dfs[\"train\"][TARGET_C + [\"target\"]], lag=lag),\n",
    "        how=\"left\",\n",
    "        on=TARGET_C,\n",
    "    )"
   ]
  },
  {
   "cell_type": "code",
   "execution_count": null,
   "id": "4ac5bae2-9407-4fb6-a9fa-1414023b3e73",
   "metadata": {},
   "outputs": [],
   "source": [
    "for window in [24, 24 * 3, 24 * 7, 24 * 14]:\n",
    "    # for window in [24 * i for i in range(1, 15)]:\n",
    "    df = df.merge(\n",
    "        get_moving_average(\n",
    "            processed_dfs[\"train\"]\n",
    "            .set_index(\"datetime\")\n",
    "            .sort_index()\n",
    "            .groupby(CATEGORICAL_C, observed=True, as_index=False),\n",
    "            columns=[\"target\"],\n",
    "            window=window,\n",
    "            # ).dropna(),\n",
    "        ),\n",
    "        how=\"left\",\n",
    "        on=TARGET_C,\n",
    "    )"
   ]
  },
  {
   "cell_type": "code",
   "execution_count": null,
   "id": "03cc127e-7d7f-4455-a3de-eb55ffdb8b61",
   "metadata": {},
   "outputs": [],
   "source": [
    "df[\"t_over_cap\"] = (df[\"2d_lag_target\"] / df[\"installed_capacity\"]).astype(\n",
    "    \"float32\"\n",
    ")\n",
    "df[\"t_over_eic\"] = (df[\"2d_lag_target\"] / df[\"eic_count\"]).astype(\"float32\")\n",
    "df[\"cap_per_eic\"] = (df[\"installed_capacity\"] / df[\"eic_count\"]).astype(\n",
    "    \"float32\"\n",
    ")"
   ]
  },
  {
   "cell_type": "code",
   "execution_count": null,
   "id": "09f19fac-bbc0-49cc-b0b9-cfcc89e02abd",
   "metadata": {},
   "outputs": [],
   "source": [
    "# w, h = 20, 14\n",
    "\n",
    "# fig, ax = plt.subplots(figsize=(w, h))\n",
    "# # plt.figure(figsize=(w, h))\n",
    "\n",
    "# sns.heatmap(\n",
    "#     df.drop(\n",
    "#         columns=df.select_dtypes([\"category\"]).columns.tolist()\n",
    "#         + [\n",
    "#             \"datetime\",\n",
    "#             \"data_block_id\",\n",
    "#             \"date\",\n",
    "#         ]\n",
    "#     ).corr(),\n",
    "#     annot=True,\n",
    "#     fmt=\".1f\",\n",
    "#     annot_kws={\"size\": 7},\n",
    "# )\n",
    "\n",
    "\n",
    "# buf = io.BytesIO()\n",
    "# fig.savefig(buf, format=\"png\", bbox_inches=\"tight\")\n",
    "# buf.seek(0)\n",
    "# img_base64 = base64.b64encode(buf.getvalue()).decode(\"utf-8\")\n",
    "\n",
    "# html_code = (\n",
    "#     '<div style=\"overflow-x: auto; width: 100%;\">'\n",
    "#     '<img src=\"data:image/png;base64,{}\" style=\"display: block; max-width: none; width: auto;\">'\n",
    "#     \"</div>\"\n",
    "# ).format(img_base64)\n",
    "\n",
    "# display(HTML(html_code))\n",
    "# plt.close(fig)\n",
    "# # plt.show()"
   ]
  },
  {
   "cell_type": "code",
   "execution_count": null,
   "id": "05d86b9f-3922-4018-9a64-e7b06cb56c63",
   "metadata": {},
   "outputs": [],
   "source": [
    "# df_for_missing = df[TARGET_C + [\"target\"]].dropna().copy()\n",
    "\n",
    "# # Add hour index starting from the beginning\n",
    "# df_for_missing[\"hour_index\"] = (\n",
    "#     (df_for_missing[\"datetime\"] - df_for_missing[\"datetime\"].min())\n",
    "#     // pd.Timedelta(hours=1)\n",
    "# ).astype(np.uint16)\n",
    "\n",
    "\n",
    "# # Add a group index corresponding to the unique combination of all\n",
    "# # categorical features (i.e. this feature is not equal to\n",
    "# # prediction_unit_id): county, is_business, product_type,\n",
    "# # is_consumption.\n",
    "# # The maximum number of combinations is 16 * 4 * 2 * 2 = 256, but the\n",
    "# # actual number of observed values is less than 256\n",
    "# df_for_missing[\"group_index\"] = (\n",
    "#     df_for_missing.groupby(\n",
    "#         CATEGORICAL_C,\n",
    "#         observed=True,\n",
    "#     )\n",
    "#     .ngroup()\n",
    "#     .astype(np.uint8)\n",
    "# )\n",
    "\n",
    "# # Create a 2D array with a shape equal to the number of groups and the\n",
    "# # total number of hours between the minimum and maximum timestamps\n",
    "# n_groups = df_for_missing[\"group_index\"].nunique()\n",
    "# n_hours = df_for_missing[\"hour_index\"].max() + 1\n",
    "# missmap = np.full((n_groups, n_hours), np.nan)\n",
    "\n",
    "# # Fill the array with the corresponding flag values\n",
    "# missmap[df_for_missing[\"group_index\"], df_for_missing[\"hour_index\"]] = (\n",
    "#     df_for_missing[\"target\"] != 0\n",
    "# )\n",
    "\n",
    "# # Dilate missing values because of high density of plot and isolated\n",
    "# # missing values are not visible.\n",
    "# n = 6  # How many hours before and after count as missing\n",
    "# structure = np.ones((1, 2 * n + 1), dtype=bool)\n",
    "# missing_dilated = binary_dilation(np.isnan(missmap), structure=structure)\n",
    "# missmap[missing_dilated] = np.nan\n",
    "\n",
    "# alpha = 0.8\n",
    "\n",
    "# min_date = df_for_missing[\"datetime\"].min()\n",
    "# max_date = df_for_missing[\"datetime\"].max()\n",
    "# n_months = len(pd.date_range(start=min_date, end=max_date, freq=\"ME\"))\n",
    "\n",
    "\n",
    "# fig, ax = plt.subplots(figsize=(14, 7))\n",
    "# sns.heatmap(\n",
    "#     missmap,\n",
    "#     cmap=sns.color_palette([\"tab:blue\", \"tab:orange\"]),\n",
    "#     cbar=False,\n",
    "#     alpha=alpha,\n",
    "#     ax=ax,\n",
    "# )\n",
    "\n",
    "# xtick_indices = np.linspace(0, n_hours, num=n_months, dtype=int)\n",
    "# xtick_labels = pd.date_range(min_date, max_date, freq=\"ME\")\n",
    "\n",
    "\n",
    "# ax.set_xticks(xtick_indices)\n",
    "# ax.set_xticklabels(xtick_labels.strftime(\"%Y-%m\"), rotation=45, ha=\"right\")\n",
    "\n",
    "# dx, dy = 0, -2.5\n",
    "# for label in ax.get_yticklabels():\n",
    "#     offset = mt.ScaledTranslation(dx / 72, dy / 72, fig.dpi_scale_trans)\n",
    "#     label.set_transform(label.get_transform() + offset)\n",
    "\n",
    "# legend_patches = [\n",
    "#     mpatches.Patch(\n",
    "#         facecolor=\"white\",\n",
    "#         label=\"Missing value\",\n",
    "#         edgecolor=\"black\",\n",
    "#         linewidth=0.5,\n",
    "#     ),\n",
    "#     mpatches.Patch(\n",
    "#         facecolor=\"tab:blue\",\n",
    "#         alpha=alpha,\n",
    "#         label=\"Zero value\",\n",
    "#         edgecolor=\"black\",\n",
    "#         linewidth=0.5,\n",
    "#     ),\n",
    "#     mpatches.Patch(\n",
    "#         facecolor=\"tab:orange\",\n",
    "#         alpha=alpha,\n",
    "#         label=\"Not zero value\",\n",
    "#         edgecolor=\"black\",\n",
    "#         linewidth=0.5,\n",
    "#     ),\n",
    "# ]\n",
    "\n",
    "# plt.legend(\n",
    "#     handles=legend_patches,\n",
    "#     title=\"Data Presence\",\n",
    "#     title_fontsize=12,\n",
    "#     bbox_to_anchor=(1, 1),\n",
    "#     loc=\"upper left\",\n",
    "#     fontsize=11,\n",
    "#     frameon=False,\n",
    "# )\n",
    "\n",
    "# plt.title(\n",
    "#     \"Heatmap of time series gaps for all combinations \"\n",
    "#     \"of categorical features\",\n",
    "#     fontsize=13,\n",
    "# )\n",
    "# plt.xlabel(\"Month\", fontsize=10)\n",
    "# plt.ylabel(\"Group index\", fontsize=10)\n",
    "# plt.grid(False)\n",
    "# plt.show()"
   ]
  },
  {
   "cell_type": "markdown",
   "id": "d4f041bf-4858-46a3-9889-a1fb7b7cf085",
   "metadata": {},
   "source": [
    "# 3. Baselines comparison"
   ]
  },
  {
   "cell_type": "code",
   "execution_count": null,
   "id": "475ed027-3ff0-41c3-b977-e4db60bebfad",
   "metadata": {},
   "outputs": [
    {
     "name": "stdout",
     "output_type": "stream",
     "text": [
      "First timestamp: 2021-09-01 00:00:00\n",
      "Last timestamp: 2023-05-31 23:00:00\n"
     ]
    }
   ],
   "source": [
    "print(\n",
    "    f\"First timestamp: {df[\"datetime\"].min()}\",\n",
    "    f\"Last timestamp: {df[\"datetime\"].max()}\",\n",
    "    sep=\"\\n\"\n",
    ")"
   ]
  },
  {
   "cell_type": "code",
   "execution_count": null,
   "id": "47113607-a276-453d-8fa8-426e8863e1f6",
   "metadata": {},
   "outputs": [],
   "source": [
    "FEATURES_TO_DROP = [\"datetime\", \"data_block_id\", \"date\"]"
   ]
  },
  {
   "cell_type": "code",
   "execution_count": null,
   "id": "12aefefb-2912-4136-bff4-a567e5e2cb7f",
   "metadata": {},
   "outputs": [],
   "source": [
    "# df[\"datetime\"].is_monotonic_increasing\n",
    "# df = df.sort_values('datetime', ignore_index=True)"
   ]
  },
  {
   "cell_type": "code",
   "execution_count": null,
   "id": "57a7078c-1a9f-4dfc-b573-61d229271cb3",
   "metadata": {},
   "outputs": [],
   "source": [
    "VAL_SPLITS = 5"
   ]
  },
  {
   "cell_type": "code",
   "execution_count": null,
   "id": "47e61686-f6bb-461b-b2e3-d7443392cb57",
   "metadata": {},
   "outputs": [],
   "source": [
    "# train - val - test\n",
    "# .64 - .16 - .20"
   ]
  },
  {
   "cell_type": "code",
   "execution_count": null,
   "id": "e4585520-1f95-4ae4-82f5-db9c6363feed",
   "metadata": {},
   "outputs": [
    {
     "name": "stdout",
     "output_type": "stream",
     "text": [
      "Validation period starts: 2022-10-14 00:00:00\n",
      "Test period starts: 2023-01-24 00:00:00\n"
     ]
    }
   ],
   "source": [
    "val_dt_start = (\n",
    "    df[\"datetime\"].min() + (df[\"datetime\"].max() - df[\"datetime\"].min()) * 0.64\n",
    ").normalize()\n",
    "test_dt_start = (\n",
    "    df[\"datetime\"].min() + (df[\"datetime\"].max() - df[\"datetime\"].min()) * 0.8\n",
    ").normalize()\n",
    "print(\n",
    "    f\"Validation period starts: {val_dt_start}\",\n",
    "    f\"Test period starts: {test_dt_start}\",\n",
    "    sep=\"\\n\",\n",
    ")"
   ]
  },
  {
   "cell_type": "code",
   "execution_count": null,
   "id": "056f23ee-89d2-4240-9aa0-9e367deb0305",
   "metadata": {},
   "outputs": [
    {
     "data": {
      "text/plain": [
       "407"
      ]
     },
     "execution_count": null,
     "metadata": {},
     "output_type": "execute_result"
    }
   ],
   "source": [
    "train_days_range = (\n",
    "    val_dt_start - Timedelta(hours=1) - df[\"datetime\"].min()\n",
    ").days\n",
    "train_days_range"
   ]
  },
  {
   "cell_type": "code",
   "execution_count": null,
   "id": "06747c39-53ff-40e3-a5b6-ea9538a00517",
   "metadata": {},
   "outputs": [],
   "source": [
    "# splits_fixed = split_by_equal_days(\n",
    "#     dt=df.loc[df[\"datetime\"] < test_dt_start, \"datetime\"],\n",
    "#     train_days=train_days_range,\n",
    "#     fh=7, # weekly retraining\n",
    "#     n_splits=VAL_SPLITS,\n",
    "#     expanding=False,\n",
    "# )\n",
    "\n",
    "# new_splits = []\n",
    "\n",
    "# for i, d in enumerate(splits_fixed):\n",
    "#     count = len(\n",
    "#         df.loc[\n",
    "#             (df[\"datetime\"] >= d[\"val\"][0]) & (df[\"datetime\"] <= d[\"val\"][1])\n",
    "#         ]\n",
    "#     )\n",
    "#     if count < 24:\n",
    "#         print(f\"Split {i} only has {count} rows, removed\")\n",
    "#     else:\n",
    "#         new_splits.append(d)\n",
    "\n",
    "# splits_fixed = new_splits\n",
    "# for i, d in enumerate(splits_fixed):\n",
    "#     print(i, \"train\", d[\"train\"])\n",
    "#     print(i, \"valid\", d[\"val\"])"
   ]
  },
  {
   "cell_type": "code",
   "execution_count": null,
   "id": "5d4256d4-290e-4b6e-a9b0-15bfcf804217",
   "metadata": {},
   "outputs": [
    {
     "data": {
      "text/plain": [
       "[{'train': (Timestamp('2021-09-01 00:00:00'),\n",
       "   Timestamp('2022-08-31 23:00:00')),\n",
       "  'test': (Timestamp('2022-09-01 00:00:00'),\n",
       "   Timestamp('2022-09-30 23:00:00'))},\n",
       " {'train': (Timestamp('2021-09-01 00:00:00'),\n",
       "   Timestamp('2022-11-30 23:00:00')),\n",
       "  'test': (Timestamp('2022-12-01 00:00:00'),\n",
       "   Timestamp('2022-12-31 23:00:00'))},\n",
       " {'train': (Timestamp('2021-09-01 00:00:00'),\n",
       "   Timestamp('2023-02-28 23:00:00')),\n",
       "  'test': (Timestamp('2023-03-01 00:00:00'),\n",
       "   Timestamp('2023-03-31 23:00:00'))}]"
      ]
     },
     "execution_count": null,
     "metadata": {},
     "output_type": "execute_result"
    }
   ],
   "source": [
    "start_ts = df[\"datetime\"].min()\n",
    "splits_exp = [\n",
    "    {\n",
    "        \"train\": (\n",
    "            start_ts,\n",
    "            start_ts + pd.DateOffset(months=(12 + 3 * i)) - Timedelta(hours=1),\n",
    "        ),\n",
    "        \"test\": (\n",
    "            start_ts + pd.DateOffset(months=(12 + 3 * i)),\n",
    "            start_ts\n",
    "            + pd.DateOffset(months=(12 + 3 * i + 1))\n",
    "            - Timedelta(hours=1),\n",
    "        ),\n",
    "    }\n",
    "    for i in range(3)\n",
    "]\n",
    "splits_exp"
   ]
  },
  {
   "cell_type": "code",
   "execution_count": null,
   "id": "dcf787c7-4d62-46b4-b8db-24f83d368bef",
   "metadata": {},
   "outputs": [],
   "source": [
    "cat_cols = df.select_dtypes(include=\"category\").columns.tolist()\n",
    "\n",
    "(\n",
    "    naive_mae,\n",
    "    xgb_mae_history,\n",
    "    lgbm_mae_history,\n",
    "    cb_mae_history,\n",
    ") = (\n",
    "    [],\n",
    "    [],\n",
    "    [],\n",
    "    [],\n",
    ")\n",
    "\n",
    "xgb_p = {\n",
    "    \"n_estimators\": 100,\n",
    "    \"learning_rate\": 0.1,\n",
    "    \"max_depth\": 7,\n",
    "    \"random_state\": RAND,\n",
    "    \"subsample\": 0.8,\n",
    "    \"colsample_bytree\": 0.8,\n",
    "    \"objective\": \"reg:absoluteerror\",\n",
    "    \"enable_categorical\": True,\n",
    "    \"early_stopping_rounds\": 20,\n",
    "    \"eval_metric\": \"mae\",\n",
    "    \"n_jobs\": -1,\n",
    "}\n",
    "lgbm_p = {\n",
    "    \"n_estimators\": 100,\n",
    "    \"learning_rate\": 0.1,\n",
    "    \"max_depth\": 7,\n",
    "    \"random_state\": RAND,\n",
    "    \"subsample\": 0.8,\n",
    "    \"colsample_bytree\": 0.8,\n",
    "    \"objective\": \"regression_l1\",\n",
    "    \"metric\": \"mae\",\n",
    "    \"n_jobs\": -1,\n",
    "    \"force_col_wise\": True,\n",
    "    \"verbosity\": -1,\n",
    "}\n",
    "cb_p = {\n",
    "    \"n_estimators\": 100,\n",
    "    \"learning_rate\": 0.1,\n",
    "    \"max_depth\": 7,\n",
    "    \"random_state\": RAND,\n",
    "    \"subsample\": 0.8,\n",
    "    \"colsample_bylevel\": 0.8,\n",
    "    \"loss_function\": \"MAE\",\n",
    "    \"cat_features\": cat_cols,\n",
    "    \"eval_metric\": \"MAE\",\n",
    "    \"thread_count\": -1,\n",
    "    \"verbose\": False,\n",
    "}\n",
    "\n",
    "xgbr = XGBRegressor(**xgb_p)\n",
    "lgbmr = LGBMRegressor(**lgbm_p)\n",
    "cbr = CatBoostRegressor(**cb_p)\n",
    "\n",
    "for split in splits_exp:\n",
    "    df_train = df[\n",
    "        (df[\"datetime\"] >= split[\"train\"][0])\n",
    "        & (df[\"datetime\"] <= split[\"train\"][1])\n",
    "    ].drop(FEATURES_TO_DROP, axis=1)\n",
    "    df_val = df[\n",
    "        (df[\"datetime\"] >= split[\"test\"][0])\n",
    "        & (df[\"datetime\"] <= split[\"test\"][1])\n",
    "    ].drop(FEATURES_TO_DROP, axis=1)\n",
    "\n",
    "    X_train, y_train = (\n",
    "        df_train.drop([\"target\"], axis=1),\n",
    "        df_train[\"target\"],\n",
    "    )\n",
    "    X_val, y_val = df_val.drop([\"target\"], axis=1), df_val[\"target\"]\n",
    "    # X_test, y_test = df_test.drop([\"target\"], axis=1), df_test[\"target\"]\n",
    "\n",
    "    eval_set = [\n",
    "        (X_train, y_train),\n",
    "        (X_val, y_val),\n",
    "        # (X_test, y_test)\n",
    "    ]\n",
    "    # print(f\"{i+1} split\")\n",
    "\n",
    "    # Naive baseline\n",
    "    naive_mae.append(\n",
    "        {\n",
    "            \"validation_0\": MAE(\n",
    "                eval_set[0][1].loc[X_train[\"2d_lag_target\"].notna()],\n",
    "                eval_set[0][0][\"2d_lag_target\"].loc[\n",
    "                    X_train[\"2d_lag_target\"].notna()\n",
    "                ],\n",
    "            ),\n",
    "            \"validation_1\": MAE(\n",
    "                eval_set[1][1].loc[X_val[\"2d_lag_target\"].notna()],\n",
    "                eval_set[1][0][\"2d_lag_target\"].loc[\n",
    "                    X_val[\"2d_lag_target\"].notna()\n",
    "                ],\n",
    "            ),\n",
    "        }\n",
    "    )\n",
    "\n",
    "    for model in [\n",
    "        xgbr,\n",
    "        lgbmr,\n",
    "        cbr,\n",
    "    ]:\n",
    "\n",
    "        if isinstance(model, XGBRegressor):\n",
    "            # print(\"XGBRegressor\")\n",
    "            model.fit(\n",
    "                X_train,\n",
    "                y_train,\n",
    "                eval_set=eval_set,\n",
    "                verbose=0,\n",
    "                # verbose=25,\n",
    "            )\n",
    "            xgb_mae_history.append(model.evals_result())\n",
    "\n",
    "        elif isinstance(model, LGBMRegressor):\n",
    "            # print(\"LGBMRegressor\")\n",
    "            model.fit(\n",
    "                X_train,\n",
    "                y_train,\n",
    "                categorical_feature=cat_cols,\n",
    "                eval_set=eval_set,\n",
    "                callbacks=[\n",
    "                    early_stopping(\n",
    "                        stopping_rounds=20,\n",
    "                        verbose=0,\n",
    "                    ),\n",
    "                    # log_evaluation(period=25),\n",
    "                ],\n",
    "            )\n",
    "            lgbm_mae_history.append(model.evals_result_)\n",
    "\n",
    "        elif isinstance(model, CatBoostRegressor):\n",
    "            # print(\"CatBoostRegressor\")\n",
    "            model.fit(\n",
    "                X_train, y_train, eval_set=eval_set, early_stopping_rounds=20\n",
    "            )\n",
    "            cb_mae_history.append(model.evals_result_)"
   ]
  },
  {
   "cell_type": "code",
   "execution_count": null,
   "id": "0ed314c1-85ca-4dfe-b286-771d7f8da989",
   "metadata": {},
   "outputs": [
    {
     "data": {
      "image/png": "[encoded data removed]",
      "text/plain": [
       "<Figure size 1500x400 with 3 Axes>"
      ]
     },
     "metadata": {},
     "output_type": "display_data"
    }
   ],
   "source": [
    "total_splits = len(splits_exp)\n",
    "rows, cols = 1, 3\n",
    "fig, axs = plt.subplots(rows, cols, figsize=(15, 4))\n",
    "\n",
    "axs = axs.flatten()\n",
    "\n",
    "for split_i in range(total_splits):\n",
    "    ax = axs[split_i]\n",
    "    ax.plot(\n",
    "        xgb_mae_history[split_i][\"validation_0\"][\"mae\"],\n",
    "        \"C0--\",\n",
    "        label=f\"XGB train\",\n",
    "        lw=1,\n",
    "    )\n",
    "    ax.plot(\n",
    "        xgb_mae_history[split_i][\"validation_1\"][\"mae\"],\n",
    "        \"C0\",\n",
    "        label=f\"XGB val\",\n",
    "        lw=1,\n",
    "    )\n",
    "    ax.plot(\n",
    "        lgbm_mae_history[split_i][\"training\"][\"l1\"],\n",
    "        \"C1--\",\n",
    "        label=f\"LGBM train\",\n",
    "        lw=1,\n",
    "    )\n",
    "    ax.plot(\n",
    "        lgbm_mae_history[split_i][\"valid_1\"][\"l1\"],\n",
    "        \"C1\",\n",
    "        label=f\"LGBM val\",\n",
    "        lw=1,\n",
    "    )\n",
    "    ax.plot(\n",
    "        cb_mae_history[split_i][\"validation_0\"][\"MAE\"],\n",
    "        \"C2--\",\n",
    "        label=f\"CB train\",\n",
    "        lw=1,\n",
    "    )\n",
    "    ax.plot(\n",
    "        cb_mae_history[split_i][\"validation_1\"][\"MAE\"],\n",
    "        \"C2\",\n",
    "        label=f\"CB val\",\n",
    "        lw=1,\n",
    "    )\n",
    "\n",
    "    if split_i >= total_splits - cols:\n",
    "        ax.set_xlabel(\"Number of estimators\", size=9)\n",
    "    if split_i in [i * cols for i in range(rows)]:\n",
    "        ax.set_ylabel(\"MAE\", size=9)\n",
    "    ax.set_title(f\"{split_i + 1} split\", size=10)\n",
    "    ax.grid(which=\"both\", alpha=0.5)\n",
    "\n",
    "plt.legend(\n",
    "    loc=\"upper left\",\n",
    "    bbox_to_anchor=(1, 1.025),\n",
    "    frameon=False,\n",
    ")\n",
    "fig.suptitle(\n",
    "    \"MAE for all models\",\n",
    "    # y=1.0125,\n",
    "    fontsize=12,\n",
    ")\n",
    "# plt.tight_layout()\n",
    "plt.show()"
   ]
  },
  {
   "cell_type": "code",
   "execution_count": null,
   "id": "75663053-70e0-4179-98d2-8a7a18d9684d",
   "metadata": {},
   "outputs": [
    {
     "data": {
      "image/png": "[encoded data removed]",
      "text/plain": [
       "<Figure size 640x480 with 1 Axes>"
      ]
     },
     "metadata": {},
     "output_type": "display_data"
    }
   ],
   "source": [
    "plt.boxplot([\n",
    "    [run['validation_1']['mae'][-1] for run in xgb_mae_history],\n",
    "    [run['valid_1']['l1'][-1] for run in lgbm_mae_history],\n",
    "    [run['validation_1']['MAE'][-1] for run in cb_mae_history],\n",
    "    [run['validation_1'] for run in naive_mae],\n",
    "], tick_labels=[\"XGB\", \"LGBM\", \"CatBoost\", \"Naive\"])\n",
    "plt.ylabel(\"MAE (validation)\")\n",
    "plt.title(\"Model comparison\")\n",
    "# plt.grid(True)\n",
    "plt.show()"
   ]
  },
  {
   "cell_type": "code",
   "execution_count": null,
   "id": "4ab4c9c7-1f79-4937-9e1b-44467c2e8d74",
   "metadata": {},
   "outputs": [],
   "source": [
    "naive_results_mean_mae = {\n",
    "    sample: np.mean([item[sample] for item in naive_mae])\n",
    "    for sample in [\"validation_0\", \"validation_1\"]\n",
    "}\n",
    "xgb_results_mean_mae = {\n",
    "    sample: np.mean([split[sample][\"mae\"][-1] for split in xgb_mae_history])\n",
    "    for sample in [\"validation_0\", \"validation_1\"]\n",
    "}\n",
    "lgbm_results_mean_mae = {\n",
    "    sample: np.mean([split[sample][\"l1\"][-1] for split in lgbm_mae_history])\n",
    "    for sample in [\"training\", \"valid_1\"]\n",
    "}\n",
    "cb_results_mean_mae = {\n",
    "    sample: np.mean([split[sample][\"MAE\"][-1] for split in cb_mae_history])\n",
    "    for sample in [\"validation_0\", \"validation_1\"]\n",
    "}\n",
    "results_df = DataFrame(\n",
    "    {\n",
    "        \"train mean MAE\": [\n",
    "            naive_results_mean_mae[\"validation_0\"],\n",
    "            xgb_results_mean_mae[\"validation_0\"],\n",
    "            lgbm_results_mean_mae[\"training\"],\n",
    "            cb_results_mean_mae[\"validation_0\"],\n",
    "        ],\n",
    "        \"validation mean MAE\": [\n",
    "            naive_results_mean_mae[\"validation_1\"],\n",
    "            xgb_results_mean_mae[\"validation_1\"],\n",
    "            lgbm_results_mean_mae[\"valid_1\"],\n",
    "            cb_results_mean_mae[\"validation_1\"],\n",
    "        ],\n",
    "    },\n",
    "    index=[\"naive\", \"xgb\", \"lgbm\", \"cb\"],\n",
    ")\n",
    "results_df"
   ]
  },
  {
   "cell_type": "markdown",
   "id": "5b36bce3-23b6-4e58-a2de-ba14a9071332",
   "metadata": {},
   "source": [
    "The XGBoost baseline shows the best results while the LightGBM baseline performs slightly worse. The gap with the CatBoost baseline is more significant, and XGBoost clearly outperforms the naive baseline."
   ]
  },
  {
   "cell_type": "code",
   "execution_count": null,
   "id": "9b34a844-6331-4ff2-9cf3-b9075d32d888",
   "metadata": {},
   "outputs": [
    {
     "data": {
      "text/plain": [
       "21"
      ]
     },
     "execution_count": null,
     "metadata": {},
     "output_type": "execute_result"
    }
   ],
   "source": [
    "len(pd.date_range(df[\"datetime\"].min(), df[\"datetime\"].max(), freq=\"ME\"))"
   ]
  },
  {
   "cell_type": "code",
   "execution_count": null,
   "id": "fb25bb8e-01c7-404d-a3f6-85838dd9932e",
   "metadata": {},
   "outputs": [
    {
     "data": {
      "text/plain": [
       "{'train': (Timestamp('2021-09-01 00:00:00'), Timestamp('2023-03-31 23:00:00')),\n",
       " 'test': (Timestamp('2023-04-01 00:00:00'), Timestamp('2023-04-30 23:00:00'))}"
      ]
     },
     "execution_count": null,
     "metadata": {},
     "output_type": "execute_result"
    }
   ],
   "source": [
    "# start_ts = df[\"datetime\"].min()\n",
    "splits_exp_test = {\n",
    "    \"train\": (\n",
    "        start_ts,\n",
    "        start_ts + pd.DateOffset(months=19) - Timedelta(hours=1),\n",
    "    ),\n",
    "    \"test\": (\n",
    "        start_ts + pd.DateOffset(months=19),\n",
    "        start_ts + pd.DateOffset(months=20) - Timedelta(hours=1),\n",
    "    ),\n",
    "}\n",
    "\n",
    "splits_exp_test"
   ]
  },
  {
   "cell_type": "code",
   "execution_count": null,
   "id": "edae5c3a-4103-40c1-aba4-2071103ab03a",
   "metadata": {},
   "outputs": [
    {
     "name": "stderr",
     "output_type": "stream",
     "text": [
      "/root/.cache/pypoetry/virtualenvs/jlpe-9TtSrW0h-py3.12/lib/python3.12/site-packages/lightgbm/callback.py:347: UserWarning: Only training set found, disabling early stopping.\n",
      "  _log_warning(\"Only training set found, disabling early stopping.\")\n"
     ]
    }
   ],
   "source": [
    "(\n",
    "    naive_mae_t,\n",
    "    xgb_mae_history_t,\n",
    "    lgbm_mae_history_t,\n",
    "    cb_mae_history_t,\n",
    "    test_scores,\n",
    ") = (\n",
    "    [],\n",
    "    [],\n",
    "    [],\n",
    "    [],\n",
    "    [],\n",
    ")\n",
    "\n",
    "xgbr = XGBRegressor(**xgb_p)\n",
    "lgbmr = LGBMRegressor(**lgbm_p)\n",
    "cbr = CatBoostRegressor(**cb_p)\n",
    "\n",
    "\n",
    "df_train = df[\n",
    "    (df[\"datetime\"] >= splits_exp_test[\"train\"][0])\n",
    "    & (df[\"datetime\"] <= splits_exp_test[\"train\"][1])\n",
    "].drop(FEATURES_TO_DROP, axis=1)\n",
    "\n",
    "X_train, y_train = (\n",
    "    df_train.drop([\"target\"], axis=1),\n",
    "    df_train[\"target\"],\n",
    ")\n",
    "\n",
    "df_test = df[\n",
    "    (df[\"datetime\"] >= splits_exp_test[\"test\"][0])\n",
    "    & (df[\"datetime\"] <= splits_exp_test[\"test\"][1])\n",
    "].drop(FEATURES_TO_DROP, axis=1)\n",
    "\n",
    "X_test, y_test = (\n",
    "    df_test.drop([\"target\"], axis=1),\n",
    "    df_test[\"target\"],\n",
    ")\n",
    "\n",
    "eval_set = [\n",
    "    (X_train, y_train),\n",
    "]\n",
    "\n",
    "# Naive baseline\n",
    "naive_mae.append(\n",
    "    {\n",
    "        \"validation_0\": MAE(\n",
    "            eval_set[0][1].loc[X_train[\"2d_lag_target\"].notna()],\n",
    "            eval_set[0][0][\"2d_lag_target\"].loc[\n",
    "                X_train[\"2d_lag_target\"].notna()\n",
    "            ],\n",
    "        ),\n",
    "    }\n",
    ")\n",
    "test_scores.append(\n",
    "    MAE(\n",
    "        y_test.loc[X_test[\"2d_lag_target\"].notna()],\n",
    "        X_test[\"2d_lag_target\"].loc[X_test[\"2d_lag_target\"].notna()],\n",
    "    ),\n",
    ")\n",
    "\n",
    "for model in [\n",
    "    xgbr,\n",
    "    lgbmr,\n",
    "    cbr,\n",
    "]:\n",
    "\n",
    "    if isinstance(model, XGBRegressor):\n",
    "        model.fit(\n",
    "            X_train,\n",
    "            y_train,\n",
    "            eval_set=eval_set,\n",
    "            verbose=0,\n",
    "        )\n",
    "        xgb_mae_history.append(model.evals_result())\n",
    "\n",
    "    elif isinstance(model, LGBMRegressor):\n",
    "        model.fit(\n",
    "            X_train,\n",
    "            y_train,\n",
    "            categorical_feature=cat_cols,\n",
    "            eval_set=eval_set,\n",
    "            callbacks=[\n",
    "                early_stopping(\n",
    "                    stopping_rounds=20,\n",
    "                    verbose=0,\n",
    "                ),\n",
    "            ],\n",
    "        )\n",
    "        lgbm_mae_history.append(model.evals_result_)\n",
    "\n",
    "    elif isinstance(model, CatBoostRegressor):\n",
    "        model.fit(\n",
    "            X_train, y_train, eval_set=eval_set, early_stopping_rounds=20\n",
    "        )\n",
    "        cb_mae_history.append(model.evals_result_)\n",
    "    test_scores.append(MAE(y_test, model.predict(X_test)))"
   ]
  },
  {
   "cell_type": "code",
   "execution_count": null,
   "id": "b8a8fc14-4d9d-47af-8281-bc01fca6d98a",
   "metadata": {},
   "outputs": [
    {
     "data": {
      "text/plain": [
       "[126.9979476928711, 84.81304168701172, 90.45404852521015, 93.69901378095186]"
      ]
     },
     "execution_count": null,
     "metadata": {},
     "output_type": "execute_result"
    }
   ],
   "source": [
    "test_scores"
   ]
  }
 ],
 "metadata": {},
 "nbformat": 4,
 "nbformat_minor": 5
}
