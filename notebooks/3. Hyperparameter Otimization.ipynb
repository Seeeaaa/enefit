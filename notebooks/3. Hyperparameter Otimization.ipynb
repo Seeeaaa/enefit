{
 "cells": [
  {
   "cell_type": "markdown",
   "id": "8564d41a-78cf-4436-9f3c-0a83002479b4",
   "metadata": {},
   "source": [
    "# 1. Setup"
   ]
  },
  {
   "cell_type": "code",
   "execution_count": null,
   "id": "cc98bc4f-6cb6-4cf4-9d8e-3ddb51c322ce",
   "metadata": {},
   "outputs": [],
   "source": [
    "import sys\n",
    "from pathlib import Path\n",
    "\n",
    "sys.path.append(str(Path().resolve().parent))"
   ]
  },
  {
   "cell_type": "code",
   "execution_count": null,
   "id": "c026d38f-a019-4eed-8e91-ddaa639c1f89",
   "metadata": {},
   "outputs": [],
   "source": [
    "import json"
   ]
  },
  {
   "cell_type": "code",
   "execution_count": null,
   "id": "aa109d03-2ed5-49bb-a248-5cb63aff28ee",
   "metadata": {},
   "outputs": [],
   "source": [
    "import matplotlib.pyplot as plt\n",
    "import numpy as np\n",
    "import optuna\n",
    "import pandas as pd\n",
    "import seaborn as sns\n",
    "import xgboost as xgb\n",
    "from optuna.samplers import TPESampler\n",
    "from pandas import DataFrame, Series, Timedelta, Timestamp\n",
    "from sklearn.metrics import mean_absolute_error as MAE\n",
    "from xgboost import DMatrix, XGBRegressor"
   ]
  },
  {
   "cell_type": "code",
   "execution_count": null,
   "id": "b44029df-5480-4fc2-bf60-020dec1e0c18",
   "metadata": {},
   "outputs": [],
   "source": [
    "from utils.loading import load_all_raw_data\n",
    "from utils.preprocessing import process_all_dfs\n",
    "from utils.merging import merge_all_dfs\n",
    "from utils.feature_engineering import *"
   ]
  },
  {
   "cell_type": "code",
   "execution_count": null,
   "id": "8390c843-629b-4539-a5a2-9ab0e6bd2e07",
   "metadata": {},
   "outputs": [],
   "source": [
    "pd.set_option(\n",
    "    \"display.float_format\",\n",
    "    lambda x: f\"{x:.2e}\" if abs(x) < 0.01 and x != 0 else f\"{x:.2f}\",\n",
    ")\n",
    "pd.set_option('display.max_columns', 100)\n",
    "pd.set_option(\"display.max_rows\", 100)"
   ]
  },
  {
   "cell_type": "code",
   "execution_count": null,
   "id": "2eaadc0f-2ff7-4e14-86af-d08b7903cd15",
   "metadata": {},
   "outputs": [],
   "source": [
    "RAW_DATA_PATH = \"../data/raw_data/\"\n",
    "ADDITIONAL_DATA_PATH = \"../data/additional_data/\"\n",
    "\n",
    "SEGMENT_C = [\"county\", \"product_type\", \"is_business\"]\n",
    "CATEGORICAL_C = [\"county\", \"product_type\", \"is_business\", \"is_consumption\"]\n",
    "TARGET_C = [\n",
    "    \"county\",\n",
    "    \"product_type\",\n",
    "    \"is_business\",\n",
    "    \"is_consumption\",\n",
    "    \"datetime\",\n",
    "]\n",
    "RAND = 10"
   ]
  },
  {
   "cell_type": "code",
   "execution_count": null,
   "id": "6b008800-bc93-4537-af46-0be6b76438a1",
   "metadata": {},
   "outputs": [],
   "source": [
    "processed_dfs = process_all_dfs(\n",
    "    load_all_raw_data(RAW_DATA_PATH, ADDITIONAL_DATA_PATH)\n",
    ")\n",
    "\n",
    "# processed_dfs.keys()\n",
    "df = merge_all_dfs(processed_dfs, how=\"left\")\n",
    "df = add_dst_flag(df)\n",
    "df = add_cyclic_datetime_features(df, drop_raw=True)"
   ]
  },
  {
   "cell_type": "code",
   "execution_count": null,
   "id": "0a58200c-b23e-4e91-a7ea-42838195e0ec",
   "metadata": {},
   "outputs": [],
   "source": [
    "for lag in [2, 3, 7]:\n",
    "# for lag in range(2, 15):\n",
    "    df = df.merge(\n",
    "        get_lag(processed_dfs[\"train\"][TARGET_C + [\"target\"]], lag=lag),\n",
    "        how=\"left\",\n",
    "        on=TARGET_C,\n",
    "    )"
   ]
  },
  {
   "cell_type": "code",
   "execution_count": null,
   "id": "2660bda6-bf83-4fd7-8b0b-4393d93271e7",
   "metadata": {},
   "outputs": [],
   "source": [
    "for window in [24, 24 * 3, 24 * 7, 24 * 14]:\n",
    "    # for window in [24 * i for i in range(1, 15)]:\n",
    "    df = df.merge(\n",
    "        get_moving_average(\n",
    "            processed_dfs[\"train\"]\n",
    "            .set_index(\"datetime\")\n",
    "            .sort_index()\n",
    "            .groupby(CATEGORICAL_C, observed=True, as_index=False),\n",
    "            columns=[\"target\"],\n",
    "            window=window,\n",
    "            # ).dropna(),\n",
    "        ),\n",
    "        how=\"left\",\n",
    "        on=TARGET_C,\n",
    "    )"
   ]
  },
  {
   "cell_type": "code",
   "execution_count": null,
   "id": "0fc71be1-ec2a-4d15-bbc0-b14a35895020",
   "metadata": {},
   "outputs": [],
   "source": [
    "df[\"t_over_cap\"] = (df[\"2d_lag_target\"] / df[\"installed_capacity\"]).astype(\n",
    "    \"float32\"\n",
    ")\n",
    "df[\"t_over_eic\"] = (df[\"2d_lag_target\"] / df[\"eic_count\"]).astype(\"float32\")\n",
    "df[\"cap_per_eic\"] = (df[\"installed_capacity\"] / df[\"eic_count\"]).astype(\n",
    "    \"float32\"\n",
    ")"
   ]
  },
  {
   "cell_type": "code",
   "execution_count": null,
   "id": "b43e96a5-e4b9-4f3c-a5a7-5cf40404e28c",
   "metadata": {},
   "outputs": [],
   "source": [
    "FEATURES_TO_DROP = [\"datetime\", \"data_block_id\", \"date\"]"
   ]
  },
  {
   "cell_type": "markdown",
   "id": "17c9124c-dc6d-4f0d-a5ea-7277a3f8bfb5",
   "metadata": {},
   "source": [
    "# 2. Time Splits"
   ]
  },
  {
   "cell_type": "code",
   "execution_count": null,
   "id": "8d1272eb-bc9b-4568-89b0-1dfff132493e",
   "metadata": {},
   "outputs": [],
   "source": [
    "# train - val - test\n",
    "# .64 - .16 - .20"
   ]
  },
  {
   "cell_type": "code",
   "execution_count": null,
   "id": "3c475545-ac86-42be-90f3-f68aed7732e4",
   "metadata": {},
   "outputs": [],
   "source": [
    "# for i, d in enumerate(test_splits):\n",
    "#     print(i, \"train\", d[\"train\"])\n",
    "#     print(i, \"test\", d[\"test\"])\n",
    "#     print(d[\"train\"][1] - d[\"train\"][0])\n",
    "#     print(d[\"test\"][1] - d[\"test\"][0])"
   ]
  },
  {
   "cell_type": "code",
   "execution_count": null,
   "id": "0ebb4dd3-791b-449f-85cf-0876572a0fb5",
   "metadata": {},
   "outputs": [],
   "source": [
    "# N_VAL_SPLITS = 4\n",
    "# N_TEST_SPLITS = 4\n",
    "N_SPLITS = 7\n",
    "FH = 2  # 2d retraining"
   ]
  },
  {
   "cell_type": "code",
   "execution_count": null,
   "id": "cca76fc7-67c8-40dc-a773-42116262c56f",
   "metadata": {},
   "outputs": [],
   "source": [
    "train_fix_splits, test_fix_splits = get_split_bounds(\n",
    "    df[\"datetime\"],\n",
    "    n_val_splits=N_SPLITS,\n",
    "    n_test_splits=N_SPLITS,\n",
    "    fh=FH,\n",
    "    expanding=False,\n",
    ")\n",
    "train_exp_splits, test_exp_splits = get_split_bounds(\n",
    "    df[\"datetime\"],\n",
    "    n_val_splits=N_SPLITS,\n",
    "    n_test_splits=N_SPLITS,\n",
    "    fh=FH,\n",
    "    expanding=True,\n",
    ")"
   ]
  },
  {
   "cell_type": "code",
   "execution_count": null,
   "id": "2efd3aaf-1246-4b6f-ae90-204a646a6f4d",
   "metadata": {},
   "outputs": [],
   "source": [
    "# for s in [train_fix_splits, test_fix_splits, train_exp_splits, test_exp_splits]:\n",
    "#     for i, d in enumerate(s):\n",
    "#         print(i, \"train\", d[\"train\"])\n",
    "#         print(i, \"test\", d[\"test\"])\n",
    "#         print(\"train duration\", d[\"train\"][1] - d[\"train\"][0])\n",
    "#         print(\"test duration\", d[\"test\"][1] - d[\"test\"][0])"
   ]
  },
  {
   "cell_type": "markdown",
   "id": "da8af1f7-4606-4ff0-9003-831e9c0f8312",
   "metadata": {},
   "source": [
    "# 3. Baseline Model"
   ]
  },
  {
   "cell_type": "code",
   "execution_count": null,
   "id": "4e21ea6f-f8ba-4137-944b-ae968efc01ee",
   "metadata": {},
   "outputs": [],
   "source": [
    "MODELS_DIR = Path(\"../models/xgb_baseline\")\n",
    "MODELS_DIR.mkdir(parents=True, exist_ok=True)\n",
    "\n",
    "ITERS = 1000\n",
    "VERBOSE = 0\n",
    "ESR = 50\n",
    "baseline_params = {\n",
    "    \"learning_rate\": 0.1,\n",
    "    \"max_depth\": 7,\n",
    "    \"random_state\": RAND,\n",
    "    \"subsample\": 0.8,\n",
    "    \"colsample_bytree\": 0.8,\n",
    "    \"objective\": \"reg:absoluteerror\",\n",
    "    \"eval_metric\": \"mae\",\n",
    "    \"tree_method\": \"hist\",  # GPU\n",
    "    \"device\": \"cuda\",  # GPU\n",
    "    \"n_jobs\": -1,\n",
    "}"
   ]
  },
  {
   "cell_type": "code",
   "execution_count": null,
   "id": "73e909e7-8f92-4ef7-aea7-f241070842de",
   "metadata": {},
   "outputs": [],
   "source": [
    "# train_fix_splits\n",
    "# test_fix_splits\n",
    "# train_exp_splits\n",
    "# test_exp_splits"
   ]
  },
  {
   "cell_type": "code",
   "execution_count": null,
   "id": "94176ad9-f3d5-40ab-8e34-cf937ac68c29",
   "metadata": {},
   "outputs": [],
   "source": [
    "def drop_split(df: DataFrame, bounds: tuple, to_drop: list):\n",
    "    start, end = bounds[0], bounds[1]\n",
    "    subset = df[(df[\"datetime\"] >= start) & (df[\"datetime\"] <= end)].drop(\n",
    "        to_drop, axis=1\n",
    "    )\n",
    "    X, y = subset.drop([\"target\"], axis=1), subset[\"target\"]\n",
    "    return X, y"
   ]
  },
  {
   "cell_type": "code",
   "execution_count": null,
   "id": "05852537-8982-457b-9ddb-9071995ec8b8",
   "metadata": {},
   "outputs": [],
   "source": [
    "def load_train_save(\n",
    "    df: DataFrame,\n",
    "    split: dict,\n",
    "    kind: str,\n",
    "    expanding: bool,\n",
    "    params: dict,\n",
    "    to_drop: list,\n",
    "    models_dir: Path,\n",
    "    i: int,\n",
    "    num_boost_round: int = 1000,\n",
    "    early_stopping_rounds: int = 50,\n",
    "    verbose_eval: int = 0,\n",
    "):\n",
    "    exp_prefix = \"fix\" if not expanding else \"exp\"\n",
    "    model_path = models_dir / f\"baseline_{kind}_{exp_prefix}_{i}.ubj\" #json\n",
    "    meta_path = models_dir / f\"baseline_{kind}_{exp_prefix}_{i}_meta.json\"\n",
    "\n",
    "    need_to_train = True\n",
    "    if model_path.exists() and meta_path.exists():\n",
    "        try:\n",
    "            with open(meta_path, \"r\", encoding=\"utf-8\") as fin:\n",
    "                meta = json.load(fin)\n",
    "            if (meta.get(\"train_start\") == str(split[\"train\"][0])) and (\n",
    "                meta.get(\"train_end\") == str(split[\"train\"][1])\n",
    "            ):\n",
    "                need_to_train = False\n",
    "                booster = xgb.Booster()\n",
    "                booster.load_model(str(model_path))\n",
    "            else:\n",
    "                need_to_train = True\n",
    "        except Exception:\n",
    "            need_to_train = True\n",
    "\n",
    "    X_test, y_test = drop_split(df, split[\"test\"], to_drop)\n",
    "    dtest = DMatrix(X_test, y_test, enable_categorical=True)\n",
    "    del X_test\n",
    "\n",
    "    if need_to_train:\n",
    "        X_train, y_train = drop_split(df, split[\"train\"], to_drop)\n",
    "        dtrain = DMatrix(X_train, y_train, enable_categorical=True)\n",
    "        del X_train, y_train\n",
    "\n",
    "        evals = [(dtrain, \"train\")]\n",
    "        if kind == \"val\":\n",
    "            evals.append((dtest, \"val\"))\n",
    "\n",
    "        booster = xgb.train(\n",
    "            params=params,\n",
    "            dtrain=dtrain,\n",
    "            num_boost_round=num_boost_round,\n",
    "            evals=evals,\n",
    "            early_stopping_rounds=early_stopping_rounds,\n",
    "            verbose_eval=verbose_eval,\n",
    "        )\n",
    "\n",
    "        booster.save_model( str(model_path))\n",
    "        meta = {\n",
    "            \"train_start\": str(split[\"train\"][0]),\n",
    "            \"train_end\": str(split[\"train\"][1]),\n",
    "            \"kind\": kind,\n",
    "            \"expanding\": str(expanding),\n",
    "        }\n",
    "        with open(meta_path, \"w\", encoding=\"utf-8\") as fout:\n",
    "            json.dump(meta, fout, ensure_ascii=False, indent=2)\n",
    "\n",
    "    return booster, dtest, y_test"
   ]
  },
  {
   "cell_type": "code",
   "execution_count": null,
   "id": "c782b298-ba9b-4c13-9791-c1400a56ee31",
   "metadata": {},
   "outputs": [],
   "source": [
    "baseline_mae = [\n",
    "    np.empty(len(s))\n",
    "    for s in [\n",
    "        train_fix_splits,\n",
    "        test_fix_splits,\n",
    "        train_exp_splits,\n",
    "        test_exp_splits,\n",
    "    ]\n",
    "]\n",
    "baseline_pred = [[]] * 4\n",
    "\n",
    "splits_list = [\n",
    "    (\"val\", False, train_fix_splits),\n",
    "    (\"test\", False, test_fix_splits),\n",
    "    (\"val\", True, train_exp_splits),\n",
    "    (\"test\", True, test_exp_splits),\n",
    "]\n",
    "for i_sample, (kind, expanding, splits) in enumerate(splits_list):\n",
    "    for i, split in enumerate(splits):\n",
    "        booster, dtest, y_test = load_train_save(\n",
    "            df,\n",
    "            split,\n",
    "            kind,\n",
    "            expanding,\n",
    "            baseline_params,\n",
    "            FEATURES_TO_DROP,\n",
    "            MODELS_DIR,\n",
    "            i,\n",
    "            ITERS,\n",
    "            ESR,\n",
    "            VERBOSE,\n",
    "        )\n",
    "\n",
    "        preds = booster.predict(dtest)\n",
    "        baseline_pred[i_sample].append(preds)\n",
    "        baseline_mae[i_sample][i] = MAE(y_test, preds)"
   ]
  },
  {
   "cell_type": "code",
   "execution_count": null,
   "id": "b1f0a4b7-7524-4a9d-a08e-a5b8e06c9f73",
   "metadata": {},
   "outputs": [],
   "source": [
    "# [np.mean(k) for s in baseline_mae for k in s]"
   ]
  },
  {
   "cell_type": "code",
   "execution_count": null,
   "id": "6abbf22a-38ef-4349-a10f-ca403433ac0f",
   "metadata": {},
   "outputs": [],
   "source": [
    "# baseline_mae"
   ]
  },
  {
   "cell_type": "code",
   "execution_count": null,
   "id": "ee52cc17-866e-421e-b6ac-a4f29b1a8bdb",
   "metadata": {},
   "outputs": [
    {
     "data": {
      "text/html": [
       "<div>\n",
       "<style scoped>\n",
       "    .dataframe tbody tr th:only-of-type {\n",
       "        vertical-align: middle;\n",
       "    }\n",
       "\n",
       "    .dataframe tbody tr th {\n",
       "        vertical-align: top;\n",
       "    }\n",
       "\n",
       "    .dataframe thead th {\n",
       "        text-align: right;\n",
       "    }\n",
       "</style>\n",
       "<table border=\"1\" class=\"dataframe\">\n",
       "  <thead>\n",
       "    <tr style=\"text-align: right;\">\n",
       "      <th></th>\n",
       "      <th>train_fix_splits</th>\n",
       "      <th>test_fix_splits</th>\n",
       "      <th>train_exp_splits</th>\n",
       "      <th>test_exp_splits</th>\n",
       "    </tr>\n",
       "  </thead>\n",
       "  <tbody>\n",
       "    <tr>\n",
       "      <th>0 split</th>\n",
       "      <td>31.49</td>\n",
       "      <td>29.95</td>\n",
       "      <td>31.49</td>\n",
       "      <td>29.91</td>\n",
       "    </tr>\n",
       "    <tr>\n",
       "      <th>1 split</th>\n",
       "      <td>45.25</td>\n",
       "      <td>49.84</td>\n",
       "      <td>44.55</td>\n",
       "      <td>52.72</td>\n",
       "    </tr>\n",
       "    <tr>\n",
       "      <th>2 split</th>\n",
       "      <td>34.83</td>\n",
       "      <td>54.02</td>\n",
       "      <td>34.02</td>\n",
       "      <td>53.73</td>\n",
       "    </tr>\n",
       "    <tr>\n",
       "      <th>3 split</th>\n",
       "      <td>28.38</td>\n",
       "      <td>57.69</td>\n",
       "      <td>29.46</td>\n",
       "      <td>57.25</td>\n",
       "    </tr>\n",
       "    <tr>\n",
       "      <th>4 split</th>\n",
       "      <td>29.06</td>\n",
       "      <td>77.82</td>\n",
       "      <td>28.26</td>\n",
       "      <td>81.03</td>\n",
       "    </tr>\n",
       "    <tr>\n",
       "      <th>5 split</th>\n",
       "      <td>21.00</td>\n",
       "      <td>59.65</td>\n",
       "      <td>21.33</td>\n",
       "      <td>59.09</td>\n",
       "    </tr>\n",
       "    <tr>\n",
       "      <th>6 split</th>\n",
       "      <td>35.28</td>\n",
       "      <td>53.77</td>\n",
       "      <td>34.91</td>\n",
       "      <td>50.50</td>\n",
       "    </tr>\n",
       "    <tr>\n",
       "      <th>mean</th>\n",
       "      <td>32.18</td>\n",
       "      <td>54.68</td>\n",
       "      <td>32.00</td>\n",
       "      <td>54.89</td>\n",
       "    </tr>\n",
       "  </tbody>\n",
       "</table>\n",
       "</div>"
      ],
      "text/plain": [
       "         train_fix_splits  test_fix_splits  train_exp_splits  test_exp_splits\n",
       "0 split             31.49            29.95             31.49            29.91\n",
       "1 split             45.25            49.84             44.55            52.72\n",
       "2 split             34.83            54.02             34.02            53.73\n",
       "3 split             28.38            57.69             29.46            57.25\n",
       "4 split             29.06            77.82             28.26            81.03\n",
       "5 split             21.00            59.65             21.33            59.09\n",
       "6 split             35.28            53.77             34.91            50.50\n",
       "mean                32.18            54.68             32.00            54.89"
      ]
     },
     "execution_count": null,
     "metadata": {},
     "output_type": "execute_result"
    }
   ],
   "source": [
    "mae_df = DataFrame(\n",
    "    baseline_mae,\n",
    "    index=[\n",
    "        \"train_fix_splits\",\n",
    "        \"test_fix_splits\",\n",
    "        \"train_exp_splits\",\n",
    "        \"test_exp_splits\",\n",
    "    ],\n",
    "    columns = [f\"{i} split\" for i in range(N_SPLITS)],\n",
    ").T\n",
    "mae_df = pd.concat([mae_df, mae_df.mean().to_frame(\"mean\").T])\n",
    "mae_df"
   ]
  },
  {
   "cell_type": "markdown",
   "id": "a7cc8b76-346b-4bf0-863f-120a3706a7fc",
   "metadata": {},
   "source": [
    "# 4. Optuna Search"
   ]
  },
  {
   "cell_type": "code",
   "execution_count": null,
   "id": "731392c8-c7d9-4ceb-9c8d-e39e13204efb",
   "metadata": {},
   "outputs": [],
   "source": [
    "N_SPLITS = 3\n",
    "FH = 2"
   ]
  },
  {
   "cell_type": "code",
   "execution_count": null,
   "id": "cd4550f2-b3f6-4be3-95ea-3effb8c46737",
   "metadata": {},
   "outputs": [],
   "source": [
    "optuna_train, optuna_test = get_split_bounds(\n",
    "    df[\"datetime\"],\n",
    "    n_val_splits=N_SPLITS,\n",
    "    n_test_splits=N_SPLITS,\n",
    "    fh=FH,\n",
    "    expanding=False,\n",
    ")"
   ]
  },
  {
   "cell_type": "code",
   "execution_count": null,
   "id": "1e6d04a3-6ca8-4bdf-b941-211608d4c4b8",
   "metadata": {},
   "outputs": [],
   "source": [
    "def objective(trial):\n",
    "    params = {\n",
    "        \"learning_rate\": trial.suggest_float(\"learning_rate\", 0.03, 0.3),\n",
    "        \"max_depth\": trial.suggest_int(\"max_depth\", 3, 12),\n",
    "        \"min_child_weight\": trial.suggest_int(\"min_child_weight\", 1, 20),\n",
    "        \"subsample\": trial.suggest_float(\"subsample\", 0.5, 1.0),\n",
    "        \"colsample_bytree\": trial.suggest_float(\"colsample_bytree\", 0.5, 1.0),\n",
    "        \"lambda\": trial.suggest_float(\"lambda\", 0.001, 100),\n",
    "        \"alpha\": trial.suggest_float(\"alpha\", 0.001, 100),\n",
    "        \"gamma\": trial.suggest_float(\"gamma\", 0, 10),\n",
    "        \"grow_policy\": trial.suggest_categorical(\n",
    "            \"grow_policy\", [\"depthwise\", \"lossguide\"]\n",
    "        ),\n",
    "        \"random_state\": RAND,\n",
    "        \"tree_method\": \"hist\",\n",
    "        \"device\": \"cuda\",\n",
    "        \"objective\": \"reg:absoluteerror\",\n",
    "        \"eval_metric\": \"mae\",\n",
    "    }\n",
    "    num_boost_round = trial.suggest_int(\"num_boost_round\", 500, 2500, step=500)\n",
    "\n",
    "    cv_predicts = np.empty(len(optuna_train))\n",
    "\n",
    "    for i, split in enumerate(optuna_train):\n",
    "        X_train, y_train = drop_split(df, split[\"train\"], FEATURES_TO_DROP)\n",
    "        dtrain = DMatrix(X_train, y_train, enable_categorical=True)\n",
    "        del X_train, y_train\n",
    "\n",
    "        X_val, y_val = drop_split(df, split[\"test\"], FEATURES_TO_DROP)\n",
    "        dval = DMatrix(X_val, y_val, enable_categorical=True)\n",
    "        del X_val\n",
    "\n",
    "        evals = [(dtrain, \"train\"), (dval, \"val\")]\n",
    "\n",
    "        booster = xgb.train(\n",
    "            params=params,\n",
    "            dtrain=dtrain,\n",
    "            evals=evals,\n",
    "            num_boost_round=num_boost_round,\n",
    "            early_stopping_rounds=ESR,\n",
    "            verbose_eval=VERBOSE,\n",
    "        )\n",
    "\n",
    "        preds = booster.predict(dval)\n",
    "        cv_predicts[i] = MAE(y_val, preds)\n",
    "\n",
    "    return np.mean(cv_predicts)"
   ]
  },
  {
   "cell_type": "code",
   "execution_count": null,
   "id": "4b2b41e2-d573-4660-9102-e0956eb8d2f4",
   "metadata": {},
   "outputs": [],
   "source": [
    "STORAGE = \"sqlite:///../optuna_db/optuna_study_v4.db\"\n",
    "N_TRIALS = 120"
   ]
  },
  {
   "cell_type": "code",
   "execution_count": null,
   "id": "60f0063b-adea-4d79-acee-5e9947d493fd",
   "metadata": {},
   "outputs": [],
   "source": [
    "optuna.logging.set_verbosity(optuna.logging.INFO)"
   ]
  },
  {
   "cell_type": "code",
   "execution_count": null,
   "id": "0b84977f-eddf-4a35-bad6-d4b690701732",
   "metadata": {},
   "outputs": [
    {
     "name": "stderr",
     "output_type": "stream",
     "text": [
      "/root/.cache/pypoetry/virtualenvs/jlpe-9TtSrW0h-py3.12/lib/python3.12/site-packages/optuna/_experimental.py:31: ExperimentalWarning: Argument ``multivariate`` is an experimental feature. The interface can change in the future.\n",
      "  warnings.warn(\n",
      "[I 2025-06-06 16:50:41,146] Using an existing study with name 'xgb_optuna' instead of creating a new one.\n"
     ]
    },
    {
     "name": "stdout",
     "output_type": "stream",
     "text": [
      "Number of existing trials >= N_TRIALS. Skipping optimization.\n"
     ]
    }
   ],
   "source": [
    "study = optuna.create_study(\n",
    "    storage=STORAGE,\n",
    "    sampler=TPESampler(n_startup_trials=20, multivariate=True),\n",
    "    pruner=optuna.pruners.SuccessiveHalvingPruner(),\n",
    "    study_name=\"xgb_optuna\",\n",
    "    direction=\"minimize\",\n",
    "    load_if_exists=True,\n",
    ")\n",
    "existing_trials = len(study.trials)\n",
    "\n",
    "if existing_trials >= N_TRIALS:\n",
    "    print(\"Number of existing trials >= N_TRIALS. Skipping optimization.\")\n",
    "else:\n",
    "    remaining = N_TRIALS - existing_trials\n",
    "    print(f\"Run {remaining} trials to reach {N_TRIALS}\")\n",
    "    study.optimize(\n",
    "        objective,\n",
    "        n_trials=remaining,\n",
    "        show_progress_bar=True,\n",
    "        n_jobs=1,\n",
    "    )"
   ]
  },
  {
   "cell_type": "code",
   "execution_count": null,
   "id": "4f6ab582-d9e8-45e7-9257-411c176e3b1d",
   "metadata": {},
   "outputs": [
    {
     "data": {
      "text/plain": [
       "{'learning_rate': 0.12955909819009542,\n",
       " 'max_depth': 8,\n",
       " 'min_child_weight': 15,\n",
       " 'subsample': 0.8065646133039029,\n",
       " 'colsample_bytree': 0.6830256079490086,\n",
       " 'lambda': 3.016122254933946,\n",
       " 'alpha': 2.3138452407643086,\n",
       " 'gamma': 4.8453125877357195,\n",
       " 'grow_policy': 'depthwise',\n",
       " 'num_boost_round': 2000}"
      ]
     },
     "execution_count": null,
     "metadata": {},
     "output_type": "execute_result"
    }
   ],
   "source": [
    "study.best_params\n",
    "# {'n_estimators': 1000, 'learning_rate': 0.05, 'max_depth': 12}\n",
    "# 30.988663991292317\n",
    "\n",
    "# {'learning_rate': 0.1,\n",
    "# 'max_depth': 10,\n",
    "# 'min_child_weight': 18,\n",
    "# 'subsample': 0.8594561164418333,\n",
    "# 'colsample_bytree': 0.9549790028777667,\n",
    "# 'lambda': 80.67437718316565,\n",
    "# 'alpha': 8.579982090257277,\n",
    "# 'num_boost_round': 1500}\n",
    "# 30.306320826212566\n",
    "\n",
    "\n",
    "# {'learning_rate': 0.10842258169357744,\n",
    "#  'max_depth': 10,\n",
    "#  'min_child_weight': 9,\n",
    "#  'subsample': 0.968120281133485,\n",
    "#  'colsample_bytree': 0.9514698765601128,\n",
    "#  'lambda': 56.77594835612019,\n",
    "#  'alpha': 36.40618084787037,\n",
    "#  'num_boost_round': 1000}\n",
    "# 30.03012466430664"
   ]
  },
  {
   "cell_type": "code",
   "execution_count": null,
   "id": "99a07ef4-782a-4c9f-a14a-3e578fb93741",
   "metadata": {},
   "outputs": [],
   "source": [
    "def detailed_objective(trial):\n",
    "    params = {\n",
    "        \"learning_rate\": trial.suggest_float(\"learning_rate\", 0.03, 0.3),\n",
    "        \"max_depth\": trial.suggest_int(\"max_depth\", 3, 12),\n",
    "        \"min_child_weight\": trial.suggest_int(\"min_child_weight\", 1, 20),\n",
    "        \"subsample\": trial.suggest_float(\"subsample\", 0.5, 1.0),\n",
    "        \"colsample_bytree\": trial.suggest_float(\"colsample_bytree\", 0.5, 1.0),\n",
    "        \"lambda\": trial.suggest_float(\"lambda\", 0.001, 100),\n",
    "        \"alpha\": trial.suggest_float(\"alpha\", 0.001, 100),\n",
    "        \"gamma\": trial.suggest_float(\"gamma\", 0, 10),\n",
    "        \"grow_policy\": trial.suggest_categorical(\n",
    "            \"grow_policy\", [\"depthwise\", \"lossguide\"]\n",
    "        ),\n",
    "        \"random_state\": RAND,\n",
    "        \"tree_method\": \"hist\",\n",
    "        \"device\": \"cuda\",\n",
    "        \"objective\": \"reg:absoluteerror\",\n",
    "        \"eval_metric\": \"mae\",\n",
    "    }\n",
    "    num_boost_round = trial.suggest_int(\"num_boost_round\", 500, 2500, step=500)\n",
    "\n",
    "    cv_predicts = np.empty(len(optuna_test))\n",
    "\n",
    "    for i, split in enumerate(optuna_test):\n",
    "        X_train, y_train = drop_split(df, split[\"train\"], FEATURES_TO_DROP)\n",
    "        dtrain = DMatrix(X_train, y_train, enable_categorical=True)\n",
    "        del X_train, y_train\n",
    "\n",
    "        X_val, y_val = drop_split(df, split[\"test\"], FEATURES_TO_DROP)\n",
    "        dval = DMatrix(X_val, y_val, enable_categorical=True)\n",
    "        del X_val\n",
    "\n",
    "        evals = [(dtrain, \"train\"), (dval, \"val\")]\n",
    "\n",
    "        booster = xgb.train(\n",
    "            params=params,\n",
    "            dtrain=dtrain,\n",
    "            evals=evals,\n",
    "            num_boost_round=num_boost_round,\n",
    "            early_stopping_rounds=ESR,\n",
    "            verbose_eval=VERBOSE,\n",
    "        )\n",
    "\n",
    "        preds = booster.predict(dval)\n",
    "        cv_predicts[i] = MAE(y_val, preds)\n",
    "\n",
    "    # return np.mean(cv_predicts)\n",
    "    return cv_predicts"
   ]
  },
  {
   "cell_type": "code",
   "execution_count": null,
   "id": "18ff3bed-9ba6-4521-862a-db3c46efee90",
   "metadata": {},
   "outputs": [],
   "source": [
    "test = detailed_objective(study.best_trial)"
   ]
  },
  {
   "cell_type": "code",
   "execution_count": null,
   "id": "49460262-18dd-4281-bb59-980308b3e615",
   "metadata": {},
   "outputs": [
    {
     "data": {
      "text/plain": [
       "np.float64(49.72040685017904)"
      ]
     },
     "execution_count": null,
     "metadata": {},
     "output_type": "execute_result"
    }
   ],
   "source": [
    "np.mean(test)"
   ]
  },
  {
   "cell_type": "code",
   "execution_count": null,
   "id": "8cce42b8-3749-4587-b996-31c7fb2411ce",
   "metadata": {},
   "outputs": [
    {
     "data": {
      "text/plain": [
       "30.789238611857098"
      ]
     },
     "execution_count": null,
     "metadata": {},
     "output_type": "execute_result"
    }
   ],
   "source": [
    "study.best_value"
   ]
  },
  {
   "cell_type": "code",
   "execution_count": null,
   "id": "096d5d51-62db-4079-a31c-3213abbe5fcc",
   "metadata": {},
   "outputs": [
    {
     "data": {
      "application/vnd.plotly.v1+json": {
       "config": {
        "plotlyServerURL": "https://plot.ly"
       },
       "data": [
        {
         "dimensions": [
          {
           "label": "Objective Value",
           "range": [
            30.789238611857098,
            55.7637825012207
           ],
           "values": [
            51.18898900349935,
            32.77429453531901,
            40.24038887023926,
            52.03742345174154,
            52.26272837320963,
            38.367897033691406,
            35.25840759277344,
            45.86169306437174,
            34.707234700520836,
            37.37511126200358,
            33.58773930867513,
            36.112125396728516,
            47.26771545410156,
            41.361584981282554,
            34.61572138468424,
            33.58193016052246,
            55.7637825012207,
            50.15796788533529,
            37.224413553873696,
            32.54555130004883,
            34.85268783569336,
            31.838953653971355,
            34.337280909220375,
            34.98463122049967,
            35.60432243347168,
            34.596330642700195,
            34.08308537801107,
            33.46053504943848,
            32.217995961507164,
            32.969191233317055,
            32.21461613972982,
            35.60256385803223,
            33.862335840861,
            33.99295870463053,
            34.21831385294596,
            35.59930547078451,
            36.41904640197754,
            33.16613324483236,
            36.23558553059896,
            34.84292856852213,
            34.41479682922363,
            34.26651827494303,
            35.63792165120443,
            35.16506830851237,
            32.90939521789551,
            36.091684341430664,
            34.020721435546875,
            36.55470848083496,
            34.32569440205892,
            33.888013203938804,
            34.9694881439209,
            37.98542404174805,
            33.956265131632485,
            35.03867212931315,
            34.54348055521647,
            40.305277506510414,
            36.135066986083984,
            33.97326787312826,
            34.363625844319664,
            35.56269200642904,
            32.43840535481771,
            32.07292811075846,
            31.25384457906087,
            33.7068297068278,
            33.67659950256348,
            34.05751991271973,
            32.36858367919922,
            34.76639620463053,
            34.08244768778483,
            33.72102610270182,
            33.52964846293131,
            34.151665369669594,
            35.960227966308594,
            31.900259653727215,
            34.96637852986654,
            34.9954636891683,
            34.10825284322103,
            34.01663780212402,
            33.65925852457682,
            31.858493169148762,
            37.441487630208336,
            35.78843688964844,
            31.99811617533366,
            32.00202242533366,
            32.258824030558266,
            32.74199104309082,
            33.71250025431315,
            33.128004709879555,
            31.78230349222819,
            33.62516339619955,
            31.95437494913737,
            34.20640563964844,
            31.915167490641277,
            34.933987299601235,
            33.88305854797363,
            32.315154393514,
            32.672651290893555,
            31.823312123616535,
            31.898890177408855,
            32.290087381998696,
            32.1300474802653,
            36.220114390055336,
            33.71809959411621,
            32.74318631490072,
            31.906647364298504,
            32.984022776285805,
            32.627501805623375,
            32.04484558105469,
            33.51407368977865,
            30.789238611857098,
            33.106258392333984,
            32.3139762878418,
            33.36549949645996,
            37.47797457377116,
            32.44039535522461,
            33.72389475504557,
            35.218289057413735,
            32.86365191141764,
            32.03893280029297
           ]
          },
          {
           "label": "alpha",
           "range": [
            0.13318449537295152,
            99.56233152904841
           ],
           "values": [
            12.68303989758628,
            11.73338349382327,
            55.85062841900494,
            54.17709609465134,
            64.62793388330368,
            49.350300131030025,
            94.38849487119188,
            11.31998503471362,
            55.52340182846257,
            3.408246348524193,
            52.865567242702475,
            45.78583886392902,
            56.74982788983396,
            11.73949682466118,
            45.44393172465412,
            70.69560551679967,
            34.16503525810517,
            99.56233152904841,
            97.99029904832395,
            24.76454783422918,
            25.226496314688575,
            25.000036758809728,
            36.58726737430344,
            37.18309136664011,
            3.9458545304416903,
            14.518372590465361,
            5.692612001833446,
            19.353335623375145,
            8.780411220836747,
            2.608913164083698,
            25.17037266078785,
            17.515697364668522,
            28.634072697326882,
            7.276634798491948,
            12.663261167591997,
            35.43104838472213,
            23.417879615028358,
            25.634776497172474,
            10.843683132198432,
            0.15436986466730573,
            37.80953872349324,
            17.897632384022423,
            81.82431291166077,
            33.2517628574622,
            0.8102100116670492,
            1.9582270051105972,
            37.70337883905014,
            0.6855121465855234,
            25.39276609176496,
            31.778107529889525,
            7.787814162953332,
            21.009950574738745,
            2.8205922908767223,
            5.803771738128375,
            18.187944798467214,
            8.932098410373978,
            17.87139787437765,
            21.53384356142275,
            25.814431505127118,
            34.399700010513804,
            11.501435853566168,
            10.442769857652225,
            11.069102549692715,
            8.983265857325797,
            27.481160387316706,
            41.277429787834954,
            2.4246179094997675,
            18.84873747203804,
            11.958316067408777,
            17.336420523849192,
            16.316150450724844,
            13.72896636413697,
            16.429822619697934,
            0.6901039096636374,
            28.826364441554368,
            18.624264790263265,
            19.02382339979987,
            3.4139272382851904,
            0.3470032620918011,
            15.313829640170749,
            26.94913229467543,
            26.211251317786015,
            13.212760702458077,
            11.170955270124509,
            4.445700961313208,
            30.49270014836395,
            35.31028498209956,
            23.49154073269534,
            0.2631377675950226,
            5.134195811095165,
            5.04969127924675,
            8.080623851131987,
            14.757007766982335,
            18.193720040354872,
            14.216251726073022,
            4.477904636201947,
            12.482035355378741,
            5.0565297576666435,
            6.212730116369208,
            7.90620114706913,
            2.1576265801522085,
            7.628384807795374,
            23.84350188033408,
            36.255711419844324,
            5.2989549426230305,
            1.7427154212439637,
            25.9120020863625,
            11.344628563878686,
            12.091940550233359,
            2.3138452407643086,
            0.13318449537295152,
            4.955700910853123,
            13.488684140803443,
            12.570423018148965,
            4.141132014038196,
            3.076126640950781,
            46.22238768022679,
            0.4674733843558485,
            10.317665284454328
           ]
          },
          {
           "label": "colsample_bytree",
           "range": [
            0.5229147897509943,
            0.986376893070408
           ],
           "values": [
            0.6124781041327233,
            0.7510929531152819,
            0.916106915600837,
            0.755467529692933,
            0.9376670375136865,
            0.7907284995682147,
            0.916269259616741,
            0.6555140926608012,
            0.5293871256790185,
            0.9609461389122085,
            0.8271592951929458,
            0.6933210881575389,
            0.975977461384778,
            0.986376893070408,
            0.6412507116754583,
            0.7378892279980853,
            0.8820899331525445,
            0.5403788523962795,
            0.9747211049634611,
            0.8125965794803955,
            0.6901177818830175,
            0.8719105163729369,
            0.7987755617121799,
            0.9048344454298248,
            0.8128796495564986,
            0.9670745273639849,
            0.6737668324278867,
            0.8191431457713211,
            0.8726725950996571,
            0.8932122233928785,
            0.9337490000952685,
            0.9742683047045175,
            0.7690771982156628,
            0.9729829525361772,
            0.8454697540010905,
            0.907004126784269,
            0.6986899527222495,
            0.8405760184115555,
            0.689481635408355,
            0.8564890482526203,
            0.9157717461879642,
            0.9857473944441776,
            0.8962873001264059,
            0.8072829173028365,
            0.7193264051226511,
            0.8360358869101681,
            0.8072596731693928,
            0.8282380833771452,
            0.8228349064085227,
            0.8451953259491207,
            0.885264930230807,
            0.6008702992225641,
            0.7784255328212994,
            0.7328840664865376,
            0.5953708677744188,
            0.5787296447620548,
            0.6479296762684759,
            0.807509466964787,
            0.96313809560888,
            0.8841601244221151,
            0.6796040006534303,
            0.6144174251852443,
            0.601538509256145,
            0.5844267422601142,
            0.5663874370830065,
            0.8146851252777733,
            0.7143824204567456,
            0.7850344722582555,
            0.5296829637660644,
            0.7458514584873971,
            0.5265040993622628,
            0.5662034425939241,
            0.6582718230465495,
            0.6842844207146067,
            0.5229147897509943,
            0.7582720739127593,
            0.7155882329785996,
            0.7269757234579713,
            0.6645488367323862,
            0.7856539543824725,
            0.8598787211545803,
            0.8128993847249283,
            0.585007071025408,
            0.7039754891990677,
            0.7047055038956627,
            0.6628724290278615,
            0.6835766693267803,
            0.7293507366477228,
            0.6331583905839758,
            0.7049480488792031,
            0.6646349149965867,
            0.749559218661807,
            0.5960095292663508,
            0.6238908193952838,
            0.564742095135925,
            0.5790910193519697,
            0.5348511027584922,
            0.6746716166611502,
            0.7543867554174695,
            0.8058855241619146,
            0.645540663608407,
            0.7744872979656295,
            0.7659750418228574,
            0.9250588738165446,
            0.7301140841921712,
            0.7445094878181525,
            0.762862351869846,
            0.5477054758844451,
            0.6696443421398413,
            0.6830256079490086,
            0.7675128371920291,
            0.7308934629840237,
            0.7223692643686808,
            0.5919204915367418,
            0.6646113223416431,
            0.6768422587173504,
            0.5827677362567203,
            0.898185086481564,
            0.5477543316868417
           ]
          },
          {
           "label": "gamma",
           "range": [
            0.027489863162548644,
            9.9277005039413
           ],
           "values": [
            0.7933077244924847,
            4.071411944580636,
            9.238414890629958,
            7.146651758991698,
            3.485772078288237,
            9.56001626885478,
            5.769519501910768,
            8.307484719532624,
            3.9837542224323674,
            0.027489863162548644,
            5.692086000915727,
            7.063473174298856,
            2.058053986687379,
            7.05671295492639,
            4.263707293202312,
            5.1526604301329195,
            6.505857926624988,
            4.071595535045031,
            7.564644376944013,
            8.206794342995234,
            1.7324519022799127,
            7.637433839217823,
            7.975438245988968,
            8.012543548902824,
            2.9660802946570386,
            8.081525344109382,
            5.115885244203715,
            4.5646073260654285,
            6.1546265071170865,
            4.017280576714148,
            6.6100262079312175,
            7.8424915454275315,
            9.045951724626807,
            7.67413544686006,
            4.856384674422392,
            5.608850748009549,
            8.35931701589696,
            6.831930568344211,
            7.174312987495803,
            7.6466814505249046,
            5.438991183560579,
            5.833902260613433,
            8.138414347087998,
            8.234899941001013,
            2.523014213769171,
            6.805300272910005,
            5.02375026825447,
            4.440320339975399,
            9.9277005039413,
            6.618952632738396,
            5.037684111441512,
            3.048649106984664,
            0.25100028290965204,
            4.262660628680427,
            2.7513344622016067,
            3.463262815561315,
            6.432491909436902,
            8.503242982009937,
            6.75357421727773,
            5.787322868554172,
            3.1132442083680107,
            5.156186243723886,
            5.091233349642712,
            6.516427565415526,
            1.9608490945415906,
            3.2786450443108985,
            7.643767052472337,
            9.310919430667532,
            3.6228674560226404,
            4.0210019949391445,
            3.712434716547349,
            5.589547838428965,
            5.725722264414279,
            7.9092124429668536,
            9.375146342695441,
            9.582777552551478,
            8.273393846736404,
            6.8955302279214195,
            8.283701805360266,
            1.6194855779412576,
            3.980098511735571,
            1.6154957503457106,
            5.646455832671084,
            3.853494251388188,
            1.2975727531300745,
            4.946504754141661,
            0.41920049211496835,
            4.790925725372472,
            5.110241044906984,
            5.208586890888336,
            7.157937365583389,
            9.423470275364942,
            3.3236058927521617,
            2.2437701425002015,
            4.8221762770769345,
            6.262511439302934,
            4.76762662059388,
            2.4610045294521736,
            3.8492757158772273,
            3.593892917266408,
            2.7561032283978153,
            1.579202464112824,
            2.519458901965418,
            7.085967842525717,
            6.337594035568982,
            7.498102973718902,
            6.838505301091144,
            5.891211648616309,
            9.067518688189729,
            4.8453125877357195,
            6.498042460678791,
            7.0733828406041965,
            8.038564871577732,
            4.769882488531661,
            4.804801018500279,
            2.1224619703911776,
            7.833832868685875,
            8.385715273755117,
            1.7841589166643077
           ]
          },
          {
           "label": "grow_policy",
           "range": [
            0,
            1
           ],
           "ticktext": [
            "lossguide",
            "depthwise"
           ],
           "tickvals": [
            0,
            1
           ],
           "values": [
            0,
            0,
            1,
            1,
            1,
            1,
            1,
            0,
            0,
            0,
            1,
            0,
            0,
            1,
            1,
            0,
            1,
            0,
            0,
            0,
            0,
            0,
            0,
            0,
            0,
            0,
            0,
            0,
            1,
            1,
            1,
            1,
            1,
            1,
            0,
            1,
            0,
            1,
            1,
            0,
            1,
            1,
            0,
            0,
            1,
            0,
            1,
            0,
            0,
            0,
            0,
            0,
            1,
            1,
            1,
            1,
            0,
            0,
            1,
            1,
            1,
            1,
            1,
            1,
            1,
            1,
            1,
            1,
            0,
            1,
            1,
            1,
            1,
            1,
            1,
            1,
            0,
            1,
            1,
            1,
            1,
            1,
            1,
            1,
            1,
            0,
            1,
            1,
            1,
            1,
            1,
            1,
            1,
            1,
            1,
            1,
            1,
            1,
            1,
            1,
            1,
            1,
            1,
            0,
            1,
            1,
            1,
            1,
            1,
            1,
            1,
            1,
            1,
            1,
            1,
            0,
            1,
            0,
            1
           ]
          },
          {
           "label": "lambda",
           "range": [
            0.029863907024531677,
            96.42781381891015
           ],
           "values": [
            19.049554546934964,
            78.37485459266367,
            85.41130799147831,
            33.98004276322362,
            14.536096878278043,
            56.96399931170771,
            83.87136781545907,
            81.3936541344716,
            45.771071164856124,
            9.029980061381433,
            43.15543662073508,
            72.36544740237103,
            16.61118963549604,
            65.96307579133092,
            9.314278593417129,
            2.3590345476223282,
            32.94056800572013,
            96.42781381891015,
            81.92328116066547,
            7.595028286553557,
            87.22877086741973,
            6.560679145137263,
            29.89095042486755,
            5.509297054244781,
            71.15598406145185,
            1.9850883327200135,
            49.787237459127056,
            16.0385206398505,
            22.78204193227822,
            17.84250272406732,
            50.948141777547136,
            79.13706017964641,
            29.87470779339957,
            28.37879415894664,
            6.441330028873939,
            19.28383128390348,
            3.223812660927682,
            39.4843457040987,
            33.485944696597116,
            20.44071619388022,
            29.711751588485726,
            35.77237492747889,
            6.337942786537429,
            0.029863907024531677,
            50.170482728275516,
            70.01547260934575,
            61.58877259823973,
            91.14382437778372,
            19.29091759721763,
            86.12553959595671,
            71.43278650882068,
            89.69943762650112,
            35.29821438807851,
            45.75026342922595,
            65.6147749696224,
            48.24807476122558,
            79.36262496169554,
            14.236253484862768,
            0.22104120036107666,
            59.39247159208702,
            32.70838148836497,
            20.636485302363823,
            3.7602072218176836,
            15.526652301540958,
            36.32726528648308,
            59.51174609481362,
            11.080399002778925,
            2.429151568891667,
            5.837187255066894,
            28.255971169183898,
            26.784675603485056,
            8.63527520102588,
            2.1211724950537647,
            27.555292406269857,
            29.41910841578281,
            52.73466892975239,
            8.796146744736717,
            38.28254712518532,
            29.952998948739946,
            1.3917423785971992,
            3.1729332065653812,
            7.5869649638921395,
            8.21879225698517,
            15.560314192089054,
            22.857207901743855,
            16.478982812534618,
            0.47580118664497206,
            13.76771344996433,
            2.486743894017626,
            17.61408820777763,
            8.522481915710115,
            0.7556240478057825,
            0.7434519498361656,
            14.13592587400161,
            16.841283813768,
            2.0365648971134185,
            2.945210660549698,
            2.656841092811776,
            10.294077986558438,
            14.107802366006386,
            0.5106618660377955,
            0.1250725839539677,
            4.187842012373203,
            33.80584044777321,
            14.695317915778336,
            30.03214165371507,
            23.782852540907406,
            21.408223121024633,
            11.195256390795215,
            3.016122254933946,
            9.033212946923188,
            1.1978987634575091,
            14.835473683489422,
            9.337826790129059,
            0.9931057439370643,
            9.900632016615383,
            8.536385912899458,
            12.668752830537173,
            16.478271979089328
           ]
          },
          {
           "label": "learning_rate",
           "range": [
            0.030159418096248013,
            0.270722630938107
           ],
           "values": [
            0.14219688764097396,
            0.16602475285381443,
            0.11675730193382282,
            0.030864497159346915,
            0.09196032328453099,
            0.10650328741833609,
            0.03727809623884287,
            0.030159418096248013,
            0.24375459985061712,
            0.05815628161691543,
            0.20997960481245254,
            0.2344607093786578,
            0.154889825900011,
            0.25001008945062875,
            0.11672580464753618,
            0.16299879723312546,
            0.270722630938107,
            0.15098668743848126,
            0.10707706305742644,
            0.13249499855868505,
            0.12286317076790022,
            0.14800200349884188,
            0.152707672284647,
            0.1929689799092359,
            0.23930900751371503,
            0.1446311670759084,
            0.1804797512823901,
            0.11961835242802886,
            0.20300406671386045,
            0.20158405592674739,
            0.12665341563383528,
            0.14909885214796087,
            0.1521564698932884,
            0.12587996812114777,
            0.13816302122824023,
            0.17483387047711058,
            0.13916932055205988,
            0.037476591958121294,
            0.254240816460344,
            0.1898315243462052,
            0.25003168224771105,
            0.23906322734396376,
            0.0784834781334107,
            0.09311379593570748,
            0.15087017717740459,
            0.12366839439043796,
            0.15184067517545718,
            0.18432722427283146,
            0.1376753143005197,
            0.178767341573627,
            0.1348204254284689,
            0.185603937254266,
            0.19247968301018614,
            0.14083913174961488,
            0.09899263648154824,
            0.1691981290817619,
            0.0966065513178651,
            0.2588506011233614,
            0.07026900311423365,
            0.09594343497828825,
            0.06651008665161008,
            0.06024548147997225,
            0.057566022892753865,
            0.08112442564225905,
            0.04379625137200348,
            0.06724089391250113,
            0.08230606791051229,
            0.08551393062004242,
            0.05351112928175666,
            0.05649153497354842,
            0.055674421071414494,
            0.044293661547972166,
            0.12402412122110879,
            0.049701350426652205,
            0.0816882645933687,
            0.0714197994856325,
            0.06464245296152199,
            0.08872877945782193,
            0.06731037310246384,
            0.11509047053680485,
            0.15828059618524548,
            0.1399858478251859,
            0.06685782061312873,
            0.03771097791351409,
            0.09812250117374001,
            0.030886352734791123,
            0.06402867872684798,
            0.06330370719313577,
            0.06325301822827738,
            0.06785341536270242,
            0.09129400997310863,
            0.0754491028764267,
            0.08857290295917572,
            0.1334104987310789,
            0.10600658898190474,
            0.04109563636788474,
            0.0860319357960187,
            0.03302600312345229,
            0.03069883694566085,
            0.033267034459079255,
            0.09028463186132929,
            0.0686873786153585,
            0.058226755567940616,
            0.13371831514830473,
            0.09722655548197698,
            0.03699727142589074,
            0.1599400374752601,
            0.06736013401310555,
            0.20629762825262662,
            0.12955909819009542,
            0.11047211435672502,
            0.044138455042704555,
            0.12035515566329225,
            0.15640642232415172,
            0.05222818693680123,
            0.1653779507754044,
            0.13726698639416055,
            0.07755615863605299,
            0.03683443064691663
           ]
          },
          {
           "label": "max_depth",
           "range": [
            3,
            12
           ],
           "values": [
            3,
            9,
            6,
            3,
            3,
            7,
            12,
            4,
            8,
            6,
            6,
            7,
            4,
            5,
            11,
            9,
            3,
            3,
            7,
            12,
            9,
            12,
            12,
            12,
            6,
            9,
            10,
            10,
            10,
            8,
            11,
            11,
            12,
            12,
            12,
            8,
            8,
            11,
            10,
            12,
            10,
            12,
            11,
            11,
            9,
            7,
            12,
            11,
            11,
            10,
            9,
            6,
            10,
            10,
            9,
            6,
            8,
            11,
            12,
            11,
            10,
            11,
            11,
            11,
            11,
            11,
            10,
            9,
            10,
            10,
            11,
            8,
            10,
            10,
            11,
            8,
            10,
            11,
            9,
            9,
            7,
            11,
            12,
            12,
            12,
            11,
            8,
            12,
            11,
            11,
            12,
            10,
            12,
            12,
            10,
            11,
            12,
            11,
            10,
            11,
            12,
            7,
            10,
            12,
            11,
            11,
            10,
            12,
            10,
            8,
            8,
            12,
            10,
            7,
            8,
            9,
            12,
            12,
            10
           ]
          },
          {
           "label": "min_child_weight",
           "range": [
            1,
            20
           ],
           "values": [
            20,
            6,
            7,
            4,
            15,
            13,
            2,
            5,
            17,
            2,
            14,
            1,
            20,
            3,
            12,
            13,
            12,
            18,
            3,
            12,
            9,
            7,
            14,
            3,
            8,
            5,
            5,
            10,
            10,
            11,
            5,
            2,
            9,
            11,
            14,
            6,
            16,
            2,
            13,
            6,
            13,
            6,
            11,
            6,
            8,
            10,
            6,
            1,
            12,
            6,
            7,
            2,
            12,
            6,
            9,
            11,
            4,
            12,
            15,
            7,
            15,
            14,
            12,
            16,
            13,
            16,
            16,
            16,
            14,
            20,
            9,
            12,
            16,
            12,
            8,
            8,
            10,
            13,
            10,
            13,
            15,
            14,
            10,
            10,
            6,
            5,
            12,
            6,
            11,
            10,
            8,
            5,
            11,
            15,
            8,
            9,
            16,
            9,
            14,
            15,
            13,
            20,
            6,
            8,
            12,
            7,
            14,
            10,
            4,
            15,
            17,
            9,
            12,
            11,
            16,
            17,
            8,
            4,
            5
           ]
          },
          {
           "label": "num_boost_round",
           "range": [
            500,
            2500
           ],
           "values": [
            2000,
            1500,
            1000,
            1500,
            1000,
            500,
            1000,
            2000,
            2500,
            1000,
            1000,
            2500,
            500,
            2000,
            1500,
            1000,
            1500,
            1500,
            2000,
            2000,
            1500,
            1500,
            1500,
            1500,
            1500,
            2500,
            1000,
            2000,
            1500,
            1500,
            1500,
            1500,
            2500,
            1500,
            2000,
            1000,
            2500,
            2000,
            1000,
            1000,
            2000,
            1500,
            2500,
            1000,
            1500,
            2000,
            1000,
            1000,
            2500,
            2000,
            1500,
            2000,
            1500,
            1500,
            2000,
            1500,
            1500,
            2000,
            2500,
            2000,
            1500,
            2000,
            2500,
            2500,
            2500,
            1000,
            1500,
            1500,
            2500,
            1500,
            1500,
            2500,
            500,
            1000,
            500,
            500,
            1500,
            1500,
            1000,
            2500,
            2500,
            2500,
            2000,
            2500,
            2500,
            2500,
            2500,
            2000,
            2500,
            2500,
            2000,
            2000,
            2500,
            2500,
            2500,
            2000,
            2000,
            2500,
            2500,
            2000,
            2500,
            2500,
            2500,
            1500,
            2500,
            2500,
            2500,
            2500,
            2500,
            2000,
            2000,
            500,
            2500,
            1500,
            2000,
            2500,
            2000,
            1500,
            2500
           ]
          },
          {
           "label": "subsample",
           "range": [
            0.5091285538267367,
            0.9989380484602182
           ],
           "values": [
            0.9937424126594007,
            0.947387312305588,
            0.5396105374512269,
            0.7996943459657784,
            0.9909809171097124,
            0.727301821970348,
            0.5091285538267367,
            0.5346536436154061,
            0.7369953545169948,
            0.7863558101368964,
            0.949247825889822,
            0.586328063633752,
            0.9258935121763937,
            0.6626752971076938,
            0.7118088334386028,
            0.5257603890455853,
            0.831706377566952,
            0.70654375134761,
            0.9616780378398532,
            0.7076058989104166,
            0.969388398231163,
            0.7451730750339736,
            0.7461193171719469,
            0.8518193884597458,
            0.9496330387674499,
            0.6759200623966631,
            0.8121086788579768,
            0.7830516439081039,
            0.7116228714667797,
            0.6257535052692098,
            0.8073684671256333,
            0.8069207746612942,
            0.6507279878890765,
            0.7964903718930034,
            0.512637615298685,
            0.8053066893287559,
            0.7181275831596815,
            0.7379602533242322,
            0.7623011159395437,
            0.700917899038526,
            0.8240667034026702,
            0.6896700581876196,
            0.7085083750742035,
            0.6942152348883113,
            0.9480500355717476,
            0.7499195261723449,
            0.7695910907510402,
            0.8991681092219707,
            0.793798445436651,
            0.9510673817927012,
            0.9561194217552588,
            0.8407386326018035,
            0.8200157822580006,
            0.9133323387512693,
            0.7305336216850059,
            0.9885038379252522,
            0.8734888881455161,
            0.6336798017040849,
            0.6859999206671207,
            0.8800478668438377,
            0.9208844095855367,
            0.9502939593320617,
            0.9972052374749145,
            0.8814629330478889,
            0.9430778700489698,
            0.8928709459841687,
            0.994747925904617,
            0.876497063659359,
            0.9989380484602182,
            0.9459442784487535,
            0.8270568946828429,
            0.9722986460433697,
            0.9583200536997059,
            0.9842406408724582,
            0.9584858095253737,
            0.9816342726316448,
            0.9629368959219379,
            0.9914707913291526,
            0.9855372246858899,
            0.946810976458753,
            0.9567082937631247,
            0.9509782247434254,
            0.9787278050019709,
            0.9511436325521133,
            0.9088326978980362,
            0.9631170693421791,
            0.8986952664074139,
            0.9692830145907605,
            0.8783654218605319,
            0.7251102663356532,
            0.9315520120804188,
            0.8558211811595348,
            0.9071437997277885,
            0.8516494214931791,
            0.8835754362734711,
            0.9168206803610695,
            0.9832914233422018,
            0.8995206247117931,
            0.8494617834205228,
            0.8646524476231158,
            0.897671548379819,
            0.8797880973450475,
            0.9355395164874614,
            0.6685423524110258,
            0.9730884172846397,
            0.9297911862888922,
            0.8629439439742481,
            0.9741666045374308,
            0.9495712054659556,
            0.8065646133039029,
            0.8249120445144011,
            0.9855600337601633,
            0.9463456591062694,
            0.8258280789395716,
            0.7851221257208446,
            0.7834057466116205,
            0.8387260577290198,
            0.715841148358357,
            0.9470033464451119
           ]
          }
         ],
         "labelangle": 30,
         "labelside": "bottom",
         "line": {
          "color": [
           51.18898900349935,
           32.77429453531901,
           40.24038887023926,
           52.03742345174154,
           52.26272837320963,
           38.367897033691406,
           35.25840759277344,
           45.86169306437174,
           34.707234700520836,
           37.37511126200358,
           33.58773930867513,
           36.112125396728516,
           47.26771545410156,
           41.361584981282554,
           34.61572138468424,
           33.58193016052246,
           55.7637825012207,
           50.15796788533529,
           37.224413553873696,
           32.54555130004883,
           34.85268783569336,
           31.838953653971355,
           34.337280909220375,
           34.98463122049967,
           35.60432243347168,
           34.596330642700195,
           34.08308537801107,
           33.46053504943848,
           32.217995961507164,
           32.969191233317055,
           32.21461613972982,
           35.60256385803223,
           33.862335840861,
           33.99295870463053,
           34.21831385294596,
           35.59930547078451,
           36.41904640197754,
           33.16613324483236,
           36.23558553059896,
           34.84292856852213,
           34.41479682922363,
           34.26651827494303,
           35.63792165120443,
           35.16506830851237,
           32.90939521789551,
           36.091684341430664,
           34.020721435546875,
           36.55470848083496,
           34.32569440205892,
           33.888013203938804,
           34.9694881439209,
           37.98542404174805,
           33.956265131632485,
           35.03867212931315,
           34.54348055521647,
           40.305277506510414,
           36.135066986083984,
           33.97326787312826,
           34.363625844319664,
           35.56269200642904,
           32.43840535481771,
           32.07292811075846,
           31.25384457906087,
           33.7068297068278,
           33.67659950256348,
           34.05751991271973,
           32.36858367919922,
           34.76639620463053,
           34.08244768778483,
           33.72102610270182,
           33.52964846293131,
           34.151665369669594,
           35.960227966308594,
           31.900259653727215,
           34.96637852986654,
           34.9954636891683,
           34.10825284322103,
           34.01663780212402,
           33.65925852457682,
           31.858493169148762,
           37.441487630208336,
           35.78843688964844,
           31.99811617533366,
           32.00202242533366,
           32.258824030558266,
           32.74199104309082,
           33.71250025431315,
           33.128004709879555,
           31.78230349222819,
           33.62516339619955,
           31.95437494913737,
           34.20640563964844,
           31.915167490641277,
           34.933987299601235,
           33.88305854797363,
           32.315154393514,
           32.672651290893555,
           31.823312123616535,
           31.898890177408855,
           32.290087381998696,
           32.1300474802653,
           36.220114390055336,
           33.71809959411621,
           32.74318631490072,
           31.906647364298504,
           32.984022776285805,
           32.627501805623375,
           32.04484558105469,
           33.51407368977865,
           30.789238611857098,
           33.106258392333984,
           32.3139762878418,
           33.36549949645996,
           37.47797457377116,
           32.44039535522461,
           33.72389475504557,
           35.218289057413735,
           32.86365191141764,
           32.03893280029297
          ],
          "colorbar": {
           "title": {
            "text": "Objective Value"
           }
          },
          "colorscale": [
           [
            0,
            "rgb(247,251,255)"
           ],
           [
            0.125,
            "rgb(222,235,247)"
           ],
           [
            0.25,
            "rgb(198,219,239)"
           ],
           [
            0.375,
            "rgb(158,202,225)"
           ],
           [
            0.5,
            "rgb(107,174,214)"
           ],
           [
            0.625,
            "rgb(66,146,198)"
           ],
           [
            0.75,
            "rgb(33,113,181)"
           ],
           [
            0.875,
            "rgb(8,81,156)"
           ],
           [
            1,
            "rgb(8,48,107)"
           ]
          ],
          "reversescale": true,
          "showscale": true
         },
         "type": "parcoords"
        }
       ],
       "layout": {
        "template": {
         "data": {
          "bar": [
           {
            "error_x": {
             "color": "#2a3f5f"
            },
            "error_y": {
             "color": "#2a3f5f"
            },
            "marker": {
             "line": {
              "color": "#E5ECF6",
              "width": 0.5
             },
             "pattern": {
              "fillmode": "overlay",
              "size": 10,
              "solidity": 0.2
             }
            },
            "type": "bar"
           }
          ],
          "barpolar": [
           {
            "marker": {
             "line": {
              "color": "#E5ECF6",
              "width": 0.5
             },
             "pattern": {
              "fillmode": "overlay",
              "size": 10,
              "solidity": 0.2
             }
            },
            "type": "barpolar"
           }
          ],
          "carpet": [
           {
            "aaxis": {
             "endlinecolor": "#2a3f5f",
             "gridcolor": "white",
             "linecolor": "white",
             "minorgridcolor": "white",
             "startlinecolor": "#2a3f5f"
            },
            "baxis": {
             "endlinecolor": "#2a3f5f",
             "gridcolor": "white",
             "linecolor": "white",
             "minorgridcolor": "white",
             "startlinecolor": "#2a3f5f"
            },
            "type": "carpet"
           }
          ],
          "choropleth": [
           {
            "colorbar": {
             "outlinewidth": 0,
             "ticks": ""
            },
            "type": "choropleth"
           }
          ],
          "contour": [
           {
            "colorbar": {
             "outlinewidth": 0,
             "ticks": ""
            },
            "colorscale": [
             [
              0,
              "#0d0887"
             ],
             [
              0.1111111111111111,
              "#46039f"
             ],
             [
              0.2222222222222222,
              "#7201a8"
             ],
             [
              0.3333333333333333,
              "#9c179e"
             ],
             [
              0.4444444444444444,
              "#bd3786"
             ],
             [
              0.5555555555555556,
              "#d8576b"
             ],
             [
              0.6666666666666666,
              "#ed7953"
             ],
             [
              0.7777777777777778,
              "#fb9f3a"
             ],
             [
              0.8888888888888888,
              "#fdca26"
             ],
             [
              1,
              "#f0f921"
             ]
            ],
            "type": "contour"
           }
          ],
          "contourcarpet": [
           {
            "colorbar": {
             "outlinewidth": 0,
             "ticks": ""
            },
            "type": "contourcarpet"
           }
          ],
          "heatmap": [
           {
            "colorbar": {
             "outlinewidth": 0,
             "ticks": ""
            },
            "colorscale": [
             [
              0,
              "#0d0887"
             ],
             [
              0.1111111111111111,
              "#46039f"
             ],
             [
              0.2222222222222222,
              "#7201a8"
             ],
             [
              0.3333333333333333,
              "#9c179e"
             ],
             [
              0.4444444444444444,
              "#bd3786"
             ],
             [
              0.5555555555555556,
              "#d8576b"
             ],
             [
              0.6666666666666666,
              "#ed7953"
             ],
             [
              0.7777777777777778,
              "#fb9f3a"
             ],
             [
              0.8888888888888888,
              "#fdca26"
             ],
             [
              1,
              "#f0f921"
             ]
            ],
            "type": "heatmap"
           }
          ],
          "histogram": [
           {
            "marker": {
             "pattern": {
              "fillmode": "overlay",
              "size": 10,
              "solidity": 0.2
             }
            },
            "type": "histogram"
           }
          ],
          "histogram2d": [
           {
            "colorbar": {
             "outlinewidth": 0,
             "ticks": ""
            },
            "colorscale": [
             [
              0,
              "#0d0887"
             ],
             [
              0.1111111111111111,
              "#46039f"
             ],
             [
              0.2222222222222222,
              "#7201a8"
             ],
             [
              0.3333333333333333,
              "#9c179e"
             ],
             [
              0.4444444444444444,
              "#bd3786"
             ],
             [
              0.5555555555555556,
              "#d8576b"
             ],
             [
              0.6666666666666666,
              "#ed7953"
             ],
             [
              0.7777777777777778,
              "#fb9f3a"
             ],
             [
              0.8888888888888888,
              "#fdca26"
             ],
             [
              1,
              "#f0f921"
             ]
            ],
            "type": "histogram2d"
           }
          ],
          "histogram2dcontour": [
           {
            "colorbar": {
             "outlinewidth": 0,
             "ticks": ""
            },
            "colorscale": [
             [
              0,
              "#0d0887"
             ],
             [
              0.1111111111111111,
              "#46039f"
             ],
             [
              0.2222222222222222,
              "#7201a8"
             ],
             [
              0.3333333333333333,
              "#9c179e"
             ],
             [
              0.4444444444444444,
              "#bd3786"
             ],
             [
              0.5555555555555556,
              "#d8576b"
             ],
             [
              0.6666666666666666,
              "#ed7953"
             ],
             [
              0.7777777777777778,
              "#fb9f3a"
             ],
             [
              0.8888888888888888,
              "#fdca26"
             ],
             [
              1,
              "#f0f921"
             ]
            ],
            "type": "histogram2dcontour"
           }
          ],
          "mesh3d": [
           {
            "colorbar": {
             "outlinewidth": 0,
             "ticks": ""
            },
            "type": "mesh3d"
           }
          ],
          "parcoords": [
           {
            "line": {
             "colorbar": {
              "outlinewidth": 0,
              "ticks": ""
             }
            },
            "type": "parcoords"
           }
          ],
          "pie": [
           {
            "automargin": true,
            "type": "pie"
           }
          ],
          "scatter": [
           {
            "fillpattern": {
             "fillmode": "overlay",
             "size": 10,
             "solidity": 0.2
            },
            "type": "scatter"
           }
          ],
          "scatter3d": [
           {
            "line": {
             "colorbar": {
              "outlinewidth": 0,
              "ticks": ""
             }
            },
            "marker": {
             "colorbar": {
              "outlinewidth": 0,
              "ticks": ""
             }
            },
            "type": "scatter3d"
           }
          ],
          "scattercarpet": [
           {
            "marker": {
             "colorbar": {
              "outlinewidth": 0,
              "ticks": ""
             }
            },
            "type": "scattercarpet"
           }
          ],
          "scattergeo": [
           {
            "marker": {
             "colorbar": {
              "outlinewidth": 0,
              "ticks": ""
             }
            },
            "type": "scattergeo"
           }
          ],
          "scattergl": [
           {
            "marker": {
             "colorbar": {
              "outlinewidth": 0,
              "ticks": ""
             }
            },
            "type": "scattergl"
           }
          ],
          "scattermap": [
           {
            "marker": {
             "colorbar": {
              "outlinewidth": 0,
              "ticks": ""
             }
            },
            "type": "scattermap"
           }
          ],
          "scattermapbox": [
           {
            "marker": {
             "colorbar": {
              "outlinewidth": 0,
              "ticks": ""
             }
            },
            "type": "scattermapbox"
           }
          ],
          "scatterpolar": [
           {
            "marker": {
             "colorbar": {
              "outlinewidth": 0,
              "ticks": ""
             }
            },
            "type": "scatterpolar"
           }
          ],
          "scatterpolargl": [
           {
            "marker": {
             "colorbar": {
              "outlinewidth": 0,
              "ticks": ""
             }
            },
            "type": "scatterpolargl"
           }
          ],
          "scatterternary": [
           {
            "marker": {
             "colorbar": {
              "outlinewidth": 0,
              "ticks": ""
             }
            },
            "type": "scatterternary"
           }
          ],
          "surface": [
           {
            "colorbar": {
             "outlinewidth": 0,
             "ticks": ""
            },
            "colorscale": [
             [
              0,
              "#0d0887"
             ],
             [
              0.1111111111111111,
              "#46039f"
             ],
             [
              0.2222222222222222,
              "#7201a8"
             ],
             [
              0.3333333333333333,
              "#9c179e"
             ],
             [
              0.4444444444444444,
              "#bd3786"
             ],
             [
              0.5555555555555556,
              "#d8576b"
             ],
             [
              0.6666666666666666,
              "#ed7953"
             ],
             [
              0.7777777777777778,
              "#fb9f3a"
             ],
             [
              0.8888888888888888,
              "#fdca26"
             ],
             [
              1,
              "#f0f921"
             ]
            ],
            "type": "surface"
           }
          ],
          "table": [
           {
            "cells": {
             "fill": {
              "color": "#EBF0F8"
             },
             "line": {
              "color": "white"
             }
            },
            "header": {
             "fill": {
              "color": "#C8D4E3"
             },
             "line": {
              "color": "white"
             }
            },
            "type": "table"
           }
          ]
         },
         "layout": {
          "annotationdefaults": {
           "arrowcolor": "#2a3f5f",
           "arrowhead": 0,
           "arrowwidth": 1
          },
          "autotypenumbers": "strict",
          "coloraxis": {
           "colorbar": {
            "outlinewidth": 0,
            "ticks": ""
           }
          },
          "colorscale": {
           "diverging": [
            [
             0,
             "#8e0152"
            ],
            [
             0.1,
             "#c51b7d"
            ],
            [
             0.2,
             "#de77ae"
            ],
            [
             0.3,
             "#f1b6da"
            ],
            [
             0.4,
             "#fde0ef"
            ],
            [
             0.5,
             "#f7f7f7"
            ],
            [
             0.6,
             "#e6f5d0"
            ],
            [
             0.7,
             "#b8e186"
            ],
            [
             0.8,
             "#7fbc41"
            ],
            [
             0.9,
             "#4d9221"
            ],
            [
             1,
             "#276419"
            ]
           ],
           "sequential": [
            [
             0,
             "#0d0887"
            ],
            [
             0.1111111111111111,
             "#46039f"
            ],
            [
             0.2222222222222222,
             "#7201a8"
            ],
            [
             0.3333333333333333,
             "#9c179e"
            ],
            [
             0.4444444444444444,
             "#bd3786"
            ],
            [
             0.5555555555555556,
             "#d8576b"
            ],
            [
             0.6666666666666666,
             "#ed7953"
            ],
            [
             0.7777777777777778,
             "#fb9f3a"
            ],
            [
             0.8888888888888888,
             "#fdca26"
            ],
            [
             1,
             "#f0f921"
            ]
           ],
           "sequentialminus": [
            [
             0,
             "#0d0887"
            ],
            [
             0.1111111111111111,
             "#46039f"
            ],
            [
             0.2222222222222222,
             "#7201a8"
            ],
            [
             0.3333333333333333,
             "#9c179e"
            ],
            [
             0.4444444444444444,
             "#bd3786"
            ],
            [
             0.5555555555555556,
             "#d8576b"
            ],
            [
             0.6666666666666666,
             "#ed7953"
            ],
            [
             0.7777777777777778,
             "#fb9f3a"
            ],
            [
             0.8888888888888888,
             "#fdca26"
            ],
            [
             1,
             "#f0f921"
            ]
           ]
          },
          "colorway": [
           "#636efa",
           "#EF553B",
           "#00cc96",
           "#ab63fa",
           "#FFA15A",
           "#19d3f3",
           "#FF6692",
           "#B6E880",
           "#FF97FF",
           "#FECB52"
          ],
          "font": {
           "color": "#2a3f5f"
          },
          "geo": {
           "bgcolor": "white",
           "lakecolor": "white",
           "landcolor": "#E5ECF6",
           "showlakes": true,
           "showland": true,
           "subunitcolor": "white"
          },
          "hoverlabel": {
           "align": "left"
          },
          "hovermode": "closest",
          "mapbox": {
           "style": "light"
          },
          "paper_bgcolor": "white",
          "plot_bgcolor": "#E5ECF6",
          "polar": {
           "angularaxis": {
            "gridcolor": "white",
            "linecolor": "white",
            "ticks": ""
           },
           "bgcolor": "#E5ECF6",
           "radialaxis": {
            "gridcolor": "white",
            "linecolor": "white",
            "ticks": ""
           }
          },
          "scene": {
           "xaxis": {
            "backgroundcolor": "#E5ECF6",
            "gridcolor": "white",
            "gridwidth": 2,
            "linecolor": "white",
            "showbackground": true,
            "ticks": "",
            "zerolinecolor": "white"
           },
           "yaxis": {
            "backgroundcolor": "#E5ECF6",
            "gridcolor": "white",
            "gridwidth": 2,
            "linecolor": "white",
            "showbackground": true,
            "ticks": "",
            "zerolinecolor": "white"
           },
           "zaxis": {
            "backgroundcolor": "#E5ECF6",
            "gridcolor": "white",
            "gridwidth": 2,
            "linecolor": "white",
            "showbackground": true,
            "ticks": "",
            "zerolinecolor": "white"
           }
          },
          "shapedefaults": {
           "line": {
            "color": "#2a3f5f"
           }
          },
          "ternary": {
           "aaxis": {
            "gridcolor": "white",
            "linecolor": "white",
            "ticks": ""
           },
           "baxis": {
            "gridcolor": "white",
            "linecolor": "white",
            "ticks": ""
           },
           "bgcolor": "#E5ECF6",
           "caxis": {
            "gridcolor": "white",
            "linecolor": "white",
            "ticks": ""
           }
          },
          "title": {
           "x": 0.05
          },
          "xaxis": {
           "automargin": true,
           "gridcolor": "white",
           "linecolor": "white",
           "ticks": "",
           "title": {
            "standoff": 15
           },
           "zerolinecolor": "white",
           "zerolinewidth": 2
          },
          "yaxis": {
           "automargin": true,
           "gridcolor": "white",
           "linecolor": "white",
           "ticks": "",
           "title": {
            "standoff": 15
           },
           "zerolinecolor": "white",
           "zerolinewidth": 2
          }
         }
        },
        "title": {
         "text": "Parallel Coordinate Plot"
        }
       }
      },
      "image/png": "[encoded data removed]"
     },
     "metadata": {},
     "output_type": "display_data"
    }
   ],
   "source": [
    "optuna.visualization.plot_parallel_coordinate(study)"
   ]
  },
  {
   "cell_type": "code",
   "execution_count": null,
   "id": "f1f24290-1b0f-4245-9fe1-5e263d828472",
   "metadata": {},
   "outputs": [
    {
     "data": {
      "application/vnd.plotly.v1+json": {
       "config": {
        "plotlyServerURL": "https://plot.ly"
       },
       "data": [
        {
         "cliponaxis": false,
         "hovertemplate": [
          "num_boost_round (IntDistribution): 0.00043164642331833107<extra></extra>",
          "gamma (FloatDistribution): 0.001107248250008177<extra></extra>",
          "min_child_weight (IntDistribution): 0.001375292941787098<extra></extra>",
          "colsample_bytree (FloatDistribution): 0.001710841126531242<extra></extra>",
          "alpha (FloatDistribution): 0.002168123208882726<extra></extra>",
          "subsample (FloatDistribution): 0.0025548659386160056<extra></extra>",
          "lambda (FloatDistribution): 0.0028836606830933316<extra></extra>",
          "grow_policy (CategoricalDistribution): 0.0035411618619269605<extra></extra>",
          "learning_rate (FloatDistribution): 0.003832182849031827<extra></extra>",
          "max_depth (IntDistribution): 0.9803949767168043<extra></extra>"
         ],
         "name": "Objective Value",
         "orientation": "h",
         "text": [
          "<0.01",
          "<0.01",
          "<0.01",
          "<0.01",
          "<0.01",
          "<0.01",
          "<0.01",
          "<0.01",
          "<0.01",
          "0.98"
         ],
         "textposition": "outside",
         "type": "bar",
         "x": [
          0.00043164642331833107,
          0.001107248250008177,
          0.001375292941787098,
          0.001710841126531242,
          0.002168123208882726,
          0.0025548659386160056,
          0.0028836606830933316,
          0.0035411618619269605,
          0.003832182849031827,
          0.9803949767168043
         ],
         "y": [
          "num_boost_round",
          "gamma",
          "min_child_weight",
          "colsample_bytree",
          "alpha",
          "subsample",
          "lambda",
          "grow_policy",
          "learning_rate",
          "max_depth"
         ]
        }
       ],
       "layout": {
        "template": {
         "data": {
          "bar": [
           {
            "error_x": {
             "color": "#2a3f5f"
            },
            "error_y": {
             "color": "#2a3f5f"
            },
            "marker": {
             "line": {
              "color": "#E5ECF6",
              "width": 0.5
             },
             "pattern": {
              "fillmode": "overlay",
              "size": 10,
              "solidity": 0.2
             }
            },
            "type": "bar"
           }
          ],
          "barpolar": [
           {
            "marker": {
             "line": {
              "color": "#E5ECF6",
              "width": 0.5
             },
             "pattern": {
              "fillmode": "overlay",
              "size": 10,
              "solidity": 0.2
             }
            },
            "type": "barpolar"
           }
          ],
          "carpet": [
           {
            "aaxis": {
             "endlinecolor": "#2a3f5f",
             "gridcolor": "white",
             "linecolor": "white",
             "minorgridcolor": "white",
             "startlinecolor": "#2a3f5f"
            },
            "baxis": {
             "endlinecolor": "#2a3f5f",
             "gridcolor": "white",
             "linecolor": "white",
             "minorgridcolor": "white",
             "startlinecolor": "#2a3f5f"
            },
            "type": "carpet"
           }
          ],
          "choropleth": [
           {
            "colorbar": {
             "outlinewidth": 0,
             "ticks": ""
            },
            "type": "choropleth"
           }
          ],
          "contour": [
           {
            "colorbar": {
             "outlinewidth": 0,
             "ticks": ""
            },
            "colorscale": [
             [
              0,
              "#0d0887"
             ],
             [
              0.1111111111111111,
              "#46039f"
             ],
             [
              0.2222222222222222,
              "#7201a8"
             ],
             [
              0.3333333333333333,
              "#9c179e"
             ],
             [
              0.4444444444444444,
              "#bd3786"
             ],
             [
              0.5555555555555556,
              "#d8576b"
             ],
             [
              0.6666666666666666,
              "#ed7953"
             ],
             [
              0.7777777777777778,
              "#fb9f3a"
             ],
             [
              0.8888888888888888,
              "#fdca26"
             ],
             [
              1,
              "#f0f921"
             ]
            ],
            "type": "contour"
           }
          ],
          "contourcarpet": [
           {
            "colorbar": {
             "outlinewidth": 0,
             "ticks": ""
            },
            "type": "contourcarpet"
           }
          ],
          "heatmap": [
           {
            "colorbar": {
             "outlinewidth": 0,
             "ticks": ""
            },
            "colorscale": [
             [
              0,
              "#0d0887"
             ],
             [
              0.1111111111111111,
              "#46039f"
             ],
             [
              0.2222222222222222,
              "#7201a8"
             ],
             [
              0.3333333333333333,
              "#9c179e"
             ],
             [
              0.4444444444444444,
              "#bd3786"
             ],
             [
              0.5555555555555556,
              "#d8576b"
             ],
             [
              0.6666666666666666,
              "#ed7953"
             ],
             [
              0.7777777777777778,
              "#fb9f3a"
             ],
             [
              0.8888888888888888,
              "#fdca26"
             ],
             [
              1,
              "#f0f921"
             ]
            ],
            "type": "heatmap"
           }
          ],
          "histogram": [
           {
            "marker": {
             "pattern": {
              "fillmode": "overlay",
              "size": 10,
              "solidity": 0.2
             }
            },
            "type": "histogram"
           }
          ],
          "histogram2d": [
           {
            "colorbar": {
             "outlinewidth": 0,
             "ticks": ""
            },
            "colorscale": [
             [
              0,
              "#0d0887"
             ],
             [
              0.1111111111111111,
              "#46039f"
             ],
             [
              0.2222222222222222,
              "#7201a8"
             ],
             [
              0.3333333333333333,
              "#9c179e"
             ],
             [
              0.4444444444444444,
              "#bd3786"
             ],
             [
              0.5555555555555556,
              "#d8576b"
             ],
             [
              0.6666666666666666,
              "#ed7953"
             ],
             [
              0.7777777777777778,
              "#fb9f3a"
             ],
             [
              0.8888888888888888,
              "#fdca26"
             ],
             [
              1,
              "#f0f921"
             ]
            ],
            "type": "histogram2d"
           }
          ],
          "histogram2dcontour": [
           {
            "colorbar": {
             "outlinewidth": 0,
             "ticks": ""
            },
            "colorscale": [
             [
              0,
              "#0d0887"
             ],
             [
              0.1111111111111111,
              "#46039f"
             ],
             [
              0.2222222222222222,
              "#7201a8"
             ],
             [
              0.3333333333333333,
              "#9c179e"
             ],
             [
              0.4444444444444444,
              "#bd3786"
             ],
             [
              0.5555555555555556,
              "#d8576b"
             ],
             [
              0.6666666666666666,
              "#ed7953"
             ],
             [
              0.7777777777777778,
              "#fb9f3a"
             ],
             [
              0.8888888888888888,
              "#fdca26"
             ],
             [
              1,
              "#f0f921"
             ]
            ],
            "type": "histogram2dcontour"
           }
          ],
          "mesh3d": [
           {
            "colorbar": {
             "outlinewidth": 0,
             "ticks": ""
            },
            "type": "mesh3d"
           }
          ],
          "parcoords": [
           {
            "line": {
             "colorbar": {
              "outlinewidth": 0,
              "ticks": ""
             }
            },
            "type": "parcoords"
           }
          ],
          "pie": [
           {
            "automargin": true,
            "type": "pie"
           }
          ],
          "scatter": [
           {
            "fillpattern": {
             "fillmode": "overlay",
             "size": 10,
             "solidity": 0.2
            },
            "type": "scatter"
           }
          ],
          "scatter3d": [
           {
            "line": {
             "colorbar": {
              "outlinewidth": 0,
              "ticks": ""
             }
            },
            "marker": {
             "colorbar": {
              "outlinewidth": 0,
              "ticks": ""
             }
            },
            "type": "scatter3d"
           }
          ],
          "scattercarpet": [
           {
            "marker": {
             "colorbar": {
              "outlinewidth": 0,
              "ticks": ""
             }
            },
            "type": "scattercarpet"
           }
          ],
          "scattergeo": [
           {
            "marker": {
             "colorbar": {
              "outlinewidth": 0,
              "ticks": ""
             }
            },
            "type": "scattergeo"
           }
          ],
          "scattergl": [
           {
            "marker": {
             "colorbar": {
              "outlinewidth": 0,
              "ticks": ""
             }
            },
            "type": "scattergl"
           }
          ],
          "scattermap": [
           {
            "marker": {
             "colorbar": {
              "outlinewidth": 0,
              "ticks": ""
             }
            },
            "type": "scattermap"
           }
          ],
          "scattermapbox": [
           {
            "marker": {
             "colorbar": {
              "outlinewidth": 0,
              "ticks": ""
             }
            },
            "type": "scattermapbox"
           }
          ],
          "scatterpolar": [
           {
            "marker": {
             "colorbar": {
              "outlinewidth": 0,
              "ticks": ""
             }
            },
            "type": "scatterpolar"
           }
          ],
          "scatterpolargl": [
           {
            "marker": {
             "colorbar": {
              "outlinewidth": 0,
              "ticks": ""
             }
            },
            "type": "scatterpolargl"
           }
          ],
          "scatterternary": [
           {
            "marker": {
             "colorbar": {
              "outlinewidth": 0,
              "ticks": ""
             }
            },
            "type": "scatterternary"
           }
          ],
          "surface": [
           {
            "colorbar": {
             "outlinewidth": 0,
             "ticks": ""
            },
            "colorscale": [
             [
              0,
              "#0d0887"
             ],
             [
              0.1111111111111111,
              "#46039f"
             ],
             [
              0.2222222222222222,
              "#7201a8"
             ],
             [
              0.3333333333333333,
              "#9c179e"
             ],
             [
              0.4444444444444444,
              "#bd3786"
             ],
             [
              0.5555555555555556,
              "#d8576b"
             ],
             [
              0.6666666666666666,
              "#ed7953"
             ],
             [
              0.7777777777777778,
              "#fb9f3a"
             ],
             [
              0.8888888888888888,
              "#fdca26"
             ],
             [
              1,
              "#f0f921"
             ]
            ],
            "type": "surface"
           }
          ],
          "table": [
           {
            "cells": {
             "fill": {
              "color": "#EBF0F8"
             },
             "line": {
              "color": "white"
             }
            },
            "header": {
             "fill": {
              "color": "#C8D4E3"
             },
             "line": {
              "color": "white"
             }
            },
            "type": "table"
           }
          ]
         },
         "layout": {
          "annotationdefaults": {
           "arrowcolor": "#2a3f5f",
           "arrowhead": 0,
           "arrowwidth": 1
          },
          "autotypenumbers": "strict",
          "coloraxis": {
           "colorbar": {
            "outlinewidth": 0,
            "ticks": ""
           }
          },
          "colorscale": {
           "diverging": [
            [
             0,
             "#8e0152"
            ],
            [
             0.1,
             "#c51b7d"
            ],
            [
             0.2,
             "#de77ae"
            ],
            [
             0.3,
             "#f1b6da"
            ],
            [
             0.4,
             "#fde0ef"
            ],
            [
             0.5,
             "#f7f7f7"
            ],
            [
             0.6,
             "#e6f5d0"
            ],
            [
             0.7,
             "#b8e186"
            ],
            [
             0.8,
             "#7fbc41"
            ],
            [
             0.9,
             "#4d9221"
            ],
            [
             1,
             "#276419"
            ]
           ],
           "sequential": [
            [
             0,
             "#0d0887"
            ],
            [
             0.1111111111111111,
             "#46039f"
            ],
            [
             0.2222222222222222,
             "#7201a8"
            ],
            [
             0.3333333333333333,
             "#9c179e"
            ],
            [
             0.4444444444444444,
             "#bd3786"
            ],
            [
             0.5555555555555556,
             "#d8576b"
            ],
            [
             0.6666666666666666,
             "#ed7953"
            ],
            [
             0.7777777777777778,
             "#fb9f3a"
            ],
            [
             0.8888888888888888,
             "#fdca26"
            ],
            [
             1,
             "#f0f921"
            ]
           ],
           "sequentialminus": [
            [
             0,
             "#0d0887"
            ],
            [
             0.1111111111111111,
             "#46039f"
            ],
            [
             0.2222222222222222,
             "#7201a8"
            ],
            [
             0.3333333333333333,
             "#9c179e"
            ],
            [
             0.4444444444444444,
             "#bd3786"
            ],
            [
             0.5555555555555556,
             "#d8576b"
            ],
            [
             0.6666666666666666,
             "#ed7953"
            ],
            [
             0.7777777777777778,
             "#fb9f3a"
            ],
            [
             0.8888888888888888,
             "#fdca26"
            ],
            [
             1,
             "#f0f921"
            ]
           ]
          },
          "colorway": [
           "#636efa",
           "#EF553B",
           "#00cc96",
           "#ab63fa",
           "#FFA15A",
           "#19d3f3",
           "#FF6692",
           "#B6E880",
           "#FF97FF",
           "#FECB52"
          ],
          "font": {
           "color": "#2a3f5f"
          },
          "geo": {
           "bgcolor": "white",
           "lakecolor": "white",
           "landcolor": "#E5ECF6",
           "showlakes": true,
           "showland": true,
           "subunitcolor": "white"
          },
          "hoverlabel": {
           "align": "left"
          },
          "hovermode": "closest",
          "mapbox": {
           "style": "light"
          },
          "paper_bgcolor": "white",
          "plot_bgcolor": "#E5ECF6",
          "polar": {
           "angularaxis": {
            "gridcolor": "white",
            "linecolor": "white",
            "ticks": ""
           },
           "bgcolor": "#E5ECF6",
           "radialaxis": {
            "gridcolor": "white",
            "linecolor": "white",
            "ticks": ""
           }
          },
          "scene": {
           "xaxis": {
            "backgroundcolor": "#E5ECF6",
            "gridcolor": "white",
            "gridwidth": 2,
            "linecolor": "white",
            "showbackground": true,
            "ticks": "",
            "zerolinecolor": "white"
           },
           "yaxis": {
            "backgroundcolor": "#E5ECF6",
            "gridcolor": "white",
            "gridwidth": 2,
            "linecolor": "white",
            "showbackground": true,
            "ticks": "",
            "zerolinecolor": "white"
           },
           "zaxis": {
            "backgroundcolor": "#E5ECF6",
            "gridcolor": "white",
            "gridwidth": 2,
            "linecolor": "white",
            "showbackground": true,
            "ticks": "",
            "zerolinecolor": "white"
           }
          },
          "shapedefaults": {
           "line": {
            "color": "#2a3f5f"
           }
          },
          "ternary": {
           "aaxis": {
            "gridcolor": "white",
            "linecolor": "white",
            "ticks": ""
           },
           "baxis": {
            "gridcolor": "white",
            "linecolor": "white",
            "ticks": ""
           },
           "bgcolor": "#E5ECF6",
           "caxis": {
            "gridcolor": "white",
            "linecolor": "white",
            "ticks": ""
           }
          },
          "title": {
           "x": 0.05
          },
          "xaxis": {
           "automargin": true,
           "gridcolor": "white",
           "linecolor": "white",
           "ticks": "",
           "title": {
            "standoff": 15
           },
           "zerolinecolor": "white",
           "zerolinewidth": 2
          },
          "yaxis": {
           "automargin": true,
           "gridcolor": "white",
           "linecolor": "white",
           "ticks": "",
           "title": {
            "standoff": 15
           },
           "zerolinecolor": "white",
           "zerolinewidth": 2
          }
         }
        },
        "title": {
         "text": "Hyperparameter Importances"
        },
        "xaxis": {
         "title": {
          "text": "Hyperparameter Importance"
         }
        },
        "yaxis": {
         "title": {
          "text": "Hyperparameter"
         }
        }
       }
      },
      "image/png": "[encoded data removed]"
     },
     "metadata": {},
     "output_type": "display_data"
    }
   ],
   "source": [
    "optuna.visualization.plot_param_importances(study)"
   ]
  },
  {
   "cell_type": "code",
   "execution_count": null,
   "id": "e99199fe-08ee-4d78-8a24-f456b6013161",
   "metadata": {},
   "outputs": [
    {
     "data": {
      "application/vnd.plotly.v1+json": {
       "config": {
        "plotlyServerURL": "https://plot.ly"
       },
       "data": [
        {
         "mode": "markers",
         "name": "Objective Value",
         "type": "scatter",
         "x": [
          0,
          1,
          2,
          3,
          4,
          5,
          6,
          7,
          8,
          9,
          10,
          11,
          12,
          13,
          14,
          15,
          16,
          17,
          18,
          19,
          20,
          22,
          23,
          24,
          25,
          26,
          27,
          28,
          29,
          30,
          31,
          32,
          33,
          34,
          35,
          36,
          37,
          38,
          39,
          40,
          41,
          42,
          43,
          44,
          45,
          46,
          47,
          48,
          49,
          50,
          51,
          52,
          53,
          54,
          55,
          56,
          57,
          58,
          59,
          60,
          61,
          62,
          63,
          64,
          65,
          66,
          67,
          68,
          69,
          70,
          71,
          72,
          73,
          74,
          75,
          76,
          77,
          78,
          79,
          80,
          81,
          82,
          83,
          84,
          85,
          86,
          87,
          88,
          89,
          90,
          91,
          92,
          93,
          94,
          95,
          96,
          97,
          98,
          99,
          100,
          101,
          102,
          103,
          104,
          105,
          106,
          107,
          108,
          109,
          110,
          111,
          112,
          113,
          114,
          115,
          116,
          117,
          118,
          119
         ],
         "y": [
          51.18898900349935,
          32.77429453531901,
          40.24038887023926,
          52.03742345174154,
          52.26272837320963,
          38.367897033691406,
          35.25840759277344,
          45.86169306437174,
          34.707234700520836,
          37.37511126200358,
          33.58773930867513,
          36.112125396728516,
          47.26771545410156,
          41.361584981282554,
          34.61572138468424,
          33.58193016052246,
          55.7637825012207,
          50.15796788533529,
          37.224413553873696,
          32.54555130004883,
          34.85268783569336,
          31.838953653971355,
          34.337280909220375,
          34.98463122049967,
          35.60432243347168,
          34.596330642700195,
          34.08308537801107,
          33.46053504943848,
          32.217995961507164,
          32.969191233317055,
          32.21461613972982,
          35.60256385803223,
          33.862335840861,
          33.99295870463053,
          34.21831385294596,
          35.59930547078451,
          36.41904640197754,
          33.16613324483236,
          36.23558553059896,
          34.84292856852213,
          34.41479682922363,
          34.26651827494303,
          35.63792165120443,
          35.16506830851237,
          32.90939521789551,
          36.091684341430664,
          34.020721435546875,
          36.55470848083496,
          34.32569440205892,
          33.888013203938804,
          34.9694881439209,
          37.98542404174805,
          33.956265131632485,
          35.03867212931315,
          34.54348055521647,
          40.305277506510414,
          36.135066986083984,
          33.97326787312826,
          34.363625844319664,
          35.56269200642904,
          32.43840535481771,
          32.07292811075846,
          31.25384457906087,
          33.7068297068278,
          33.67659950256348,
          34.05751991271973,
          32.36858367919922,
          34.76639620463053,
          34.08244768778483,
          33.72102610270182,
          33.52964846293131,
          34.151665369669594,
          35.960227966308594,
          31.900259653727215,
          34.96637852986654,
          34.9954636891683,
          34.10825284322103,
          34.01663780212402,
          33.65925852457682,
          31.858493169148762,
          37.441487630208336,
          35.78843688964844,
          31.99811617533366,
          32.00202242533366,
          32.258824030558266,
          32.74199104309082,
          33.71250025431315,
          33.128004709879555,
          31.78230349222819,
          33.62516339619955,
          31.95437494913737,
          34.20640563964844,
          31.915167490641277,
          34.933987299601235,
          33.88305854797363,
          32.315154393514,
          32.672651290893555,
          31.823312123616535,
          31.898890177408855,
          32.290087381998696,
          32.1300474802653,
          36.220114390055336,
          33.71809959411621,
          32.74318631490072,
          31.906647364298504,
          32.984022776285805,
          32.627501805623375,
          32.04484558105469,
          33.51407368977865,
          30.789238611857098,
          33.106258392333984,
          32.3139762878418,
          33.36549949645996,
          37.47797457377116,
          32.44039535522461,
          33.72389475504557,
          35.218289057413735,
          32.86365191141764,
          32.03893280029297
         ]
        },
        {
         "mode": "lines",
         "name": "Best Value",
         "type": "scatter",
         "x": [
          0,
          1,
          2,
          3,
          4,
          5,
          6,
          7,
          8,
          9,
          10,
          11,
          12,
          13,
          14,
          15,
          16,
          17,
          18,
          19,
          20,
          21,
          22,
          23,
          24,
          25,
          26,
          27,
          28,
          29,
          30,
          31,
          32,
          33,
          34,
          35,
          36,
          37,
          38,
          39,
          40,
          41,
          42,
          43,
          44,
          45,
          46,
          47,
          48,
          49,
          50,
          51,
          52,
          53,
          54,
          55,
          56,
          57,
          58,
          59,
          60,
          61,
          62,
          63,
          64,
          65,
          66,
          67,
          68,
          69,
          70,
          71,
          72,
          73,
          74,
          75,
          76,
          77,
          78,
          79,
          80,
          81,
          82,
          83,
          84,
          85,
          86,
          87,
          88,
          89,
          90,
          91,
          92,
          93,
          94,
          95,
          96,
          97,
          98,
          99,
          100,
          101,
          102,
          103,
          104,
          105,
          106,
          107,
          108,
          109,
          110,
          111,
          112,
          113,
          114,
          115,
          116,
          117,
          118,
          119
         ],
         "y": [
          51.18898900349935,
          32.77429453531901,
          32.77429453531901,
          32.77429453531901,
          32.77429453531901,
          32.77429453531901,
          32.77429453531901,
          32.77429453531901,
          32.77429453531901,
          32.77429453531901,
          32.77429453531901,
          32.77429453531901,
          32.77429453531901,
          32.77429453531901,
          32.77429453531901,
          32.77429453531901,
          32.77429453531901,
          32.77429453531901,
          32.77429453531901,
          32.54555130004883,
          32.54555130004883,
          32.54555130004883,
          31.838953653971355,
          31.838953653971355,
          31.838953653971355,
          31.838953653971355,
          31.838953653971355,
          31.838953653971355,
          31.838953653971355,
          31.838953653971355,
          31.838953653971355,
          31.838953653971355,
          31.838953653971355,
          31.838953653971355,
          31.838953653971355,
          31.838953653971355,
          31.838953653971355,
          31.838953653971355,
          31.838953653971355,
          31.838953653971355,
          31.838953653971355,
          31.838953653971355,
          31.838953653971355,
          31.838953653971355,
          31.838953653971355,
          31.838953653971355,
          31.838953653971355,
          31.838953653971355,
          31.838953653971355,
          31.838953653971355,
          31.838953653971355,
          31.838953653971355,
          31.838953653971355,
          31.838953653971355,
          31.838953653971355,
          31.838953653971355,
          31.838953653971355,
          31.838953653971355,
          31.838953653971355,
          31.838953653971355,
          31.838953653971355,
          31.838953653971355,
          31.838953653971355,
          31.25384457906087,
          31.25384457906087,
          31.25384457906087,
          31.25384457906087,
          31.25384457906087,
          31.25384457906087,
          31.25384457906087,
          31.25384457906087,
          31.25384457906087,
          31.25384457906087,
          31.25384457906087,
          31.25384457906087,
          31.25384457906087,
          31.25384457906087,
          31.25384457906087,
          31.25384457906087,
          31.25384457906087,
          31.25384457906087,
          31.25384457906087,
          31.25384457906087,
          31.25384457906087,
          31.25384457906087,
          31.25384457906087,
          31.25384457906087,
          31.25384457906087,
          31.25384457906087,
          31.25384457906087,
          31.25384457906087,
          31.25384457906087,
          31.25384457906087,
          31.25384457906087,
          31.25384457906087,
          31.25384457906087,
          31.25384457906087,
          31.25384457906087,
          31.25384457906087,
          31.25384457906087,
          31.25384457906087,
          31.25384457906087,
          31.25384457906087,
          31.25384457906087,
          31.25384457906087,
          31.25384457906087,
          31.25384457906087,
          31.25384457906087,
          31.25384457906087,
          31.25384457906087,
          30.789238611857098,
          30.789238611857098,
          30.789238611857098,
          30.789238611857098,
          30.789238611857098,
          30.789238611857098,
          30.789238611857098,
          30.789238611857098,
          30.789238611857098,
          30.789238611857098
         ]
        },
        {
         "marker": {
          "color": "#cccccc"
         },
         "mode": "markers",
         "name": "Infeasible Trial",
         "showlegend": false,
         "type": "scatter",
         "x": [],
         "y": []
        }
       ],
       "layout": {
        "template": {
         "data": {
          "bar": [
           {
            "error_x": {
             "color": "#2a3f5f"
            },
            "error_y": {
             "color": "#2a3f5f"
            },
            "marker": {
             "line": {
              "color": "#E5ECF6",
              "width": 0.5
             },
             "pattern": {
              "fillmode": "overlay",
              "size": 10,
              "solidity": 0.2
             }
            },
            "type": "bar"
           }
          ],
          "barpolar": [
           {
            "marker": {
             "line": {
              "color": "#E5ECF6",
              "width": 0.5
             },
             "pattern": {
              "fillmode": "overlay",
              "size": 10,
              "solidity": 0.2
             }
            },
            "type": "barpolar"
           }
          ],
          "carpet": [
           {
            "aaxis": {
             "endlinecolor": "#2a3f5f",
             "gridcolor": "white",
             "linecolor": "white",
             "minorgridcolor": "white",
             "startlinecolor": "#2a3f5f"
            },
            "baxis": {
             "endlinecolor": "#2a3f5f",
             "gridcolor": "white",
             "linecolor": "white",
             "minorgridcolor": "white",
             "startlinecolor": "#2a3f5f"
            },
            "type": "carpet"
           }
          ],
          "choropleth": [
           {
            "colorbar": {
             "outlinewidth": 0,
             "ticks": ""
            },
            "type": "choropleth"
           }
          ],
          "contour": [
           {
            "colorbar": {
             "outlinewidth": 0,
             "ticks": ""
            },
            "colorscale": [
             [
              0,
              "#0d0887"
             ],
             [
              0.1111111111111111,
              "#46039f"
             ],
             [
              0.2222222222222222,
              "#7201a8"
             ],
             [
              0.3333333333333333,
              "#9c179e"
             ],
             [
              0.4444444444444444,
              "#bd3786"
             ],
             [
              0.5555555555555556,
              "#d8576b"
             ],
             [
              0.6666666666666666,
              "#ed7953"
             ],
             [
              0.7777777777777778,
              "#fb9f3a"
             ],
             [
              0.8888888888888888,
              "#fdca26"
             ],
             [
              1,
              "#f0f921"
             ]
            ],
            "type": "contour"
           }
          ],
          "contourcarpet": [
           {
            "colorbar": {
             "outlinewidth": 0,
             "ticks": ""
            },
            "type": "contourcarpet"
           }
          ],
          "heatmap": [
           {
            "colorbar": {
             "outlinewidth": 0,
             "ticks": ""
            },
            "colorscale": [
             [
              0,
              "#0d0887"
             ],
             [
              0.1111111111111111,
              "#46039f"
             ],
             [
              0.2222222222222222,
              "#7201a8"
             ],
             [
              0.3333333333333333,
              "#9c179e"
             ],
             [
              0.4444444444444444,
              "#bd3786"
             ],
             [
              0.5555555555555556,
              "#d8576b"
             ],
             [
              0.6666666666666666,
              "#ed7953"
             ],
             [
              0.7777777777777778,
              "#fb9f3a"
             ],
             [
              0.8888888888888888,
              "#fdca26"
             ],
             [
              1,
              "#f0f921"
             ]
            ],
            "type": "heatmap"
           }
          ],
          "histogram": [
           {
            "marker": {
             "pattern": {
              "fillmode": "overlay",
              "size": 10,
              "solidity": 0.2
             }
            },
            "type": "histogram"
           }
          ],
          "histogram2d": [
           {
            "colorbar": {
             "outlinewidth": 0,
             "ticks": ""
            },
            "colorscale": [
             [
              0,
              "#0d0887"
             ],
             [
              0.1111111111111111,
              "#46039f"
             ],
             [
              0.2222222222222222,
              "#7201a8"
             ],
             [
              0.3333333333333333,
              "#9c179e"
             ],
             [
              0.4444444444444444,
              "#bd3786"
             ],
             [
              0.5555555555555556,
              "#d8576b"
             ],
             [
              0.6666666666666666,
              "#ed7953"
             ],
             [
              0.7777777777777778,
              "#fb9f3a"
             ],
             [
              0.8888888888888888,
              "#fdca26"
             ],
             [
              1,
              "#f0f921"
             ]
            ],
            "type": "histogram2d"
           }
          ],
          "histogram2dcontour": [
           {
            "colorbar": {
             "outlinewidth": 0,
             "ticks": ""
            },
            "colorscale": [
             [
              0,
              "#0d0887"
             ],
             [
              0.1111111111111111,
              "#46039f"
             ],
             [
              0.2222222222222222,
              "#7201a8"
             ],
             [
              0.3333333333333333,
              "#9c179e"
             ],
             [
              0.4444444444444444,
              "#bd3786"
             ],
             [
              0.5555555555555556,
              "#d8576b"
             ],
             [
              0.6666666666666666,
              "#ed7953"
             ],
             [
              0.7777777777777778,
              "#fb9f3a"
             ],
             [
              0.8888888888888888,
              "#fdca26"
             ],
             [
              1,
              "#f0f921"
             ]
            ],
            "type": "histogram2dcontour"
           }
          ],
          "mesh3d": [
           {
            "colorbar": {
             "outlinewidth": 0,
             "ticks": ""
            },
            "type": "mesh3d"
           }
          ],
          "parcoords": [
           {
            "line": {
             "colorbar": {
              "outlinewidth": 0,
              "ticks": ""
             }
            },
            "type": "parcoords"
           }
          ],
          "pie": [
           {
            "automargin": true,
            "type": "pie"
           }
          ],
          "scatter": [
           {
            "fillpattern": {
             "fillmode": "overlay",
             "size": 10,
             "solidity": 0.2
            },
            "type": "scatter"
           }
          ],
          "scatter3d": [
           {
            "line": {
             "colorbar": {
              "outlinewidth": 0,
              "ticks": ""
             }
            },
            "marker": {
             "colorbar": {
              "outlinewidth": 0,
              "ticks": ""
             }
            },
            "type": "scatter3d"
           }
          ],
          "scattercarpet": [
           {
            "marker": {
             "colorbar": {
              "outlinewidth": 0,
              "ticks": ""
             }
            },
            "type": "scattercarpet"
           }
          ],
          "scattergeo": [
           {
            "marker": {
             "colorbar": {
              "outlinewidth": 0,
              "ticks": ""
             }
            },
            "type": "scattergeo"
           }
          ],
          "scattergl": [
           {
            "marker": {
             "colorbar": {
              "outlinewidth": 0,
              "ticks": ""
             }
            },
            "type": "scattergl"
           }
          ],
          "scattermap": [
           {
            "marker": {
             "colorbar": {
              "outlinewidth": 0,
              "ticks": ""
             }
            },
            "type": "scattermap"
           }
          ],
          "scattermapbox": [
           {
            "marker": {
             "colorbar": {
              "outlinewidth": 0,
              "ticks": ""
             }
            },
            "type": "scattermapbox"
           }
          ],
          "scatterpolar": [
           {
            "marker": {
             "colorbar": {
              "outlinewidth": 0,
              "ticks": ""
             }
            },
            "type": "scatterpolar"
           }
          ],
          "scatterpolargl": [
           {
            "marker": {
             "colorbar": {
              "outlinewidth": 0,
              "ticks": ""
             }
            },
            "type": "scatterpolargl"
           }
          ],
          "scatterternary": [
           {
            "marker": {
             "colorbar": {
              "outlinewidth": 0,
              "ticks": ""
             }
            },
            "type": "scatterternary"
           }
          ],
          "surface": [
           {
            "colorbar": {
             "outlinewidth": 0,
             "ticks": ""
            },
            "colorscale": [
             [
              0,
              "#0d0887"
             ],
             [
              0.1111111111111111,
              "#46039f"
             ],
             [
              0.2222222222222222,
              "#7201a8"
             ],
             [
              0.3333333333333333,
              "#9c179e"
             ],
             [
              0.4444444444444444,
              "#bd3786"
             ],
             [
              0.5555555555555556,
              "#d8576b"
             ],
             [
              0.6666666666666666,
              "#ed7953"
             ],
             [
              0.7777777777777778,
              "#fb9f3a"
             ],
             [
              0.8888888888888888,
              "#fdca26"
             ],
             [
              1,
              "#f0f921"
             ]
            ],
            "type": "surface"
           }
          ],
          "table": [
           {
            "cells": {
             "fill": {
              "color": "#EBF0F8"
             },
             "line": {
              "color": "white"
             }
            },
            "header": {
             "fill": {
              "color": "#C8D4E3"
             },
             "line": {
              "color": "white"
             }
            },
            "type": "table"
           }
          ]
         },
         "layout": {
          "annotationdefaults": {
           "arrowcolor": "#2a3f5f",
           "arrowhead": 0,
           "arrowwidth": 1
          },
          "autotypenumbers": "strict",
          "coloraxis": {
           "colorbar": {
            "outlinewidth": 0,
            "ticks": ""
           }
          },
          "colorscale": {
           "diverging": [
            [
             0,
             "#8e0152"
            ],
            [
             0.1,
             "#c51b7d"
            ],
            [
             0.2,
             "#de77ae"
            ],
            [
             0.3,
             "#f1b6da"
            ],
            [
             0.4,
             "#fde0ef"
            ],
            [
             0.5,
             "#f7f7f7"
            ],
            [
             0.6,
             "#e6f5d0"
            ],
            [
             0.7,
             "#b8e186"
            ],
            [
             0.8,
             "#7fbc41"
            ],
            [
             0.9,
             "#4d9221"
            ],
            [
             1,
             "#276419"
            ]
           ],
           "sequential": [
            [
             0,
             "#0d0887"
            ],
            [
             0.1111111111111111,
             "#46039f"
            ],
            [
             0.2222222222222222,
             "#7201a8"
            ],
            [
             0.3333333333333333,
             "#9c179e"
            ],
            [
             0.4444444444444444,
             "#bd3786"
            ],
            [
             0.5555555555555556,
             "#d8576b"
            ],
            [
             0.6666666666666666,
             "#ed7953"
            ],
            [
             0.7777777777777778,
             "#fb9f3a"
            ],
            [
             0.8888888888888888,
             "#fdca26"
            ],
            [
             1,
             "#f0f921"
            ]
           ],
           "sequentialminus": [
            [
             0,
             "#0d0887"
            ],
            [
             0.1111111111111111,
             "#46039f"
            ],
            [
             0.2222222222222222,
             "#7201a8"
            ],
            [
             0.3333333333333333,
             "#9c179e"
            ],
            [
             0.4444444444444444,
             "#bd3786"
            ],
            [
             0.5555555555555556,
             "#d8576b"
            ],
            [
             0.6666666666666666,
             "#ed7953"
            ],
            [
             0.7777777777777778,
             "#fb9f3a"
            ],
            [
             0.8888888888888888,
             "#fdca26"
            ],
            [
             1,
             "#f0f921"
            ]
           ]
          },
          "colorway": [
           "#636efa",
           "#EF553B",
           "#00cc96",
           "#ab63fa",
           "#FFA15A",
           "#19d3f3",
           "#FF6692",
           "#B6E880",
           "#FF97FF",
           "#FECB52"
          ],
          "font": {
           "color": "#2a3f5f"
          },
          "geo": {
           "bgcolor": "white",
           "lakecolor": "white",
           "landcolor": "#E5ECF6",
           "showlakes": true,
           "showland": true,
           "subunitcolor": "white"
          },
          "hoverlabel": {
           "align": "left"
          },
          "hovermode": "closest",
          "mapbox": {
           "style": "light"
          },
          "paper_bgcolor": "white",
          "plot_bgcolor": "#E5ECF6",
          "polar": {
           "angularaxis": {
            "gridcolor": "white",
            "linecolor": "white",
            "ticks": ""
           },
           "bgcolor": "#E5ECF6",
           "radialaxis": {
            "gridcolor": "white",
            "linecolor": "white",
            "ticks": ""
           }
          },
          "scene": {
           "xaxis": {
            "backgroundcolor": "#E5ECF6",
            "gridcolor": "white",
            "gridwidth": 2,
            "linecolor": "white",
            "showbackground": true,
            "ticks": "",
            "zerolinecolor": "white"
           },
           "yaxis": {
            "backgroundcolor": "#E5ECF6",
            "gridcolor": "white",
            "gridwidth": 2,
            "linecolor": "white",
            "showbackground": true,
            "ticks": "",
            "zerolinecolor": "white"
           },
           "zaxis": {
            "backgroundcolor": "#E5ECF6",
            "gridcolor": "white",
            "gridwidth": 2,
            "linecolor": "white",
            "showbackground": true,
            "ticks": "",
            "zerolinecolor": "white"
           }
          },
          "shapedefaults": {
           "line": {
            "color": "#2a3f5f"
           }
          },
          "ternary": {
           "aaxis": {
            "gridcolor": "white",
            "linecolor": "white",
            "ticks": ""
           },
           "baxis": {
            "gridcolor": "white",
            "linecolor": "white",
            "ticks": ""
           },
           "bgcolor": "#E5ECF6",
           "caxis": {
            "gridcolor": "white",
            "linecolor": "white",
            "ticks": ""
           }
          },
          "title": {
           "x": 0.05
          },
          "xaxis": {
           "automargin": true,
           "gridcolor": "white",
           "linecolor": "white",
           "ticks": "",
           "title": {
            "standoff": 15
           },
           "zerolinecolor": "white",
           "zerolinewidth": 2
          },
          "yaxis": {
           "automargin": true,
           "gridcolor": "white",
           "linecolor": "white",
           "ticks": "",
           "title": {
            "standoff": 15
           },
           "zerolinecolor": "white",
           "zerolinewidth": 2
          }
         }
        },
        "title": {
         "text": "Optimization History Plot"
        },
        "xaxis": {
         "title": {
          "text": "Trial"
         }
        },
        "yaxis": {
         "title": {
          "text": "Objective Value"
         }
        }
       }
      },
      "image/png": "[encoded data removed]"
     },
     "metadata": {},
     "output_type": "display_data"
    }
   ],
   "source": [
    "optuna.visualization.plot_optimization_history(study)"
   ]
  },
  {
   "cell_type": "code",
   "execution_count": null,
   "id": "b77645b0-8db6-459b-ba98-cb6def84d1b5",
   "metadata": {},
   "outputs": [],
   "source": [
    "# optuna.visualization.plot_contour(study)"
   ]
  },
  {
   "cell_type": "code",
   "execution_count": null,
   "id": "fb27f927-d8cb-418f-a95a-09ac2f4209fa",
   "metadata": {},
   "outputs": [],
   "source": [
    "# for split in [[xgb_mae_history[i][\"validation_1\"][\"mae\"][-1] for i in range(split * 5, split * 5 + 5)] for split in range(4)]:\n",
    "#     print(np.round(np.mean(split), 3))\n",
    "\n",
    "# for split in [[lgbm_mae_history[i][\"valid_1\"][\"l1\"][-1] for i in range(split * 5, split * 5 + 5)] for split in range(4)]:\n",
    "#     print(np.round(np.mean(split), 3))\n",
    "\n",
    "# for split in [[cb_mae_history[i][\"validation_1\"][\"MAE\"][-1] for i in range(split * 5, split * 5 + 5)] for split in range(4)]:\n",
    "#     print(np.round(np.mean(split), 3))\n",
    "\n",
    "# [[i for i in range(split * 5, split * 5 + 5)] for split in range(4)]\n",
    "\n",
    "# residuals = y_test - y_pred\n",
    "\n",
    "# plt.scatter(y_pred, residuals, alpha=0.5)\n",
    "# plt.axhline(0, color=\"red\", linestyle=\"--\")\n",
    "# plt.xlabel(\"Predicted\")\n",
    "# plt.ylabel(\"Residuals\")\n",
    "# plt.title(\"Residuals vs Predicted\")\n",
    "# plt.show()\n",
    "\n",
    "# fi = pd.Series(xgbr.feature_importances_, index=X_train.columns)\n",
    "# fi = fi.sort_values(ascending=False).head(20)\n",
    "\n",
    "# fi.plot.barh(figsize=(8,6))\n",
    "# plt.xlabel(\"Feature Importance\")\n",
    "# plt.gca().invert_yaxis()\n",
    "# plt.title(\"Top 20 Important Features\")\n",
    "# plt.show()"
   ]
  }
 ],
 "metadata": {},
 "nbformat": 4,
 "nbformat_minor": 5
}
