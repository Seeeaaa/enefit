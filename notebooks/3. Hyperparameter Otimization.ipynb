{
 "cells": [
  {
   "cell_type": "markdown",
   "id": "8564d41a-78cf-4436-9f3c-0a83002479b4",
   "metadata": {},
   "source": [
    "# 1. Setup"
   ]
  },
  {
   "cell_type": "code",
   "execution_count": null,
   "id": "cc98bc4f-6cb6-4cf4-9d8e-3ddb51c322ce",
   "metadata": {},
   "outputs": [],
   "source": [
    "import sys\n",
    "from pathlib import Path\n",
    "\n",
    "sys.path.append(str(Path().resolve().parent))"
   ]
  },
  {
   "cell_type": "code",
   "execution_count": null,
   "id": "c026d38f-a019-4eed-8e91-ddaa639c1f89",
   "metadata": {},
   "outputs": [],
   "source": [
    "import json"
   ]
  },
  {
   "cell_type": "code",
   "execution_count": null,
   "id": "aa109d03-2ed5-49bb-a248-5cb63aff28ee",
   "metadata": {},
   "outputs": [],
   "source": [
    "import matplotlib.pyplot as plt\n",
    "import numpy as np\n",
    "import optuna\n",
    "import pandas as pd\n",
    "import seaborn as sns\n",
    "import xgboost as xgb\n",
    "from optuna.samplers import TPESampler\n",
    "from pandas import DataFrame, Series, Timedelta, Timestamp\n",
    "from sklearn.metrics import mean_absolute_error as MAE\n",
    "from xgboost import DMatrix, XGBRegressor"
   ]
  },
  {
   "cell_type": "code",
   "execution_count": null,
   "id": "b44029df-5480-4fc2-bf60-020dec1e0c18",
   "metadata": {},
   "outputs": [],
   "source": [
    "from utils.loading import load_all_raw_data\n",
    "from utils.preprocessing import process_all_dfs\n",
    "from utils.merging import merge_all_dfs\n",
    "from utils.feature_engineering import *"
   ]
  },
  {
   "cell_type": "code",
   "execution_count": null,
   "id": "8390c843-629b-4539-a5a2-9ab0e6bd2e07",
   "metadata": {},
   "outputs": [],
   "source": [
    "pd.set_option(\n",
    "    \"display.float_format\",\n",
    "    lambda x: f\"{x:.2e}\" if abs(x) < 0.01 and x != 0 else f\"{x:.2f}\",\n",
    ")\n",
    "pd.set_option('display.max_columns', 100)\n",
    "pd.set_option(\"display.max_rows\", 100)"
   ]
  },
  {
   "cell_type": "code",
   "execution_count": null,
   "id": "2eaadc0f-2ff7-4e14-86af-d08b7903cd15",
   "metadata": {},
   "outputs": [],
   "source": [
    "RAW_DATA_PATH = \"../data/raw_data/\"\n",
    "ADDITIONAL_DATA_PATH = \"../data/additional_data/\"\n",
    "\n",
    "SEGMENT_C = [\"county\", \"product_type\", \"is_business\"]\n",
    "CATEGORICAL_C = [\"county\", \"product_type\", \"is_business\", \"is_consumption\"]\n",
    "TARGET_C = [\n",
    "    \"county\",\n",
    "    \"product_type\",\n",
    "    \"is_business\",\n",
    "    \"is_consumption\",\n",
    "    \"datetime\",\n",
    "]\n",
    "RAND = 10"
   ]
  },
  {
   "cell_type": "code",
   "execution_count": null,
   "id": "6b008800-bc93-4537-af46-0be6b76438a1",
   "metadata": {},
   "outputs": [],
   "source": [
    "processed_dfs = process_all_dfs(\n",
    "    load_all_raw_data(RAW_DATA_PATH, ADDITIONAL_DATA_PATH)\n",
    ")\n",
    "\n",
    "# processed_dfs.keys()\n",
    "df = merge_all_dfs(processed_dfs, how=\"left\")\n",
    "df = add_dst_flag(df)\n",
    "df = add_cyclic_datetime_features(df, drop_raw=True)"
   ]
  },
  {
   "cell_type": "code",
   "execution_count": null,
   "id": "0a58200c-b23e-4e91-a7ea-42838195e0ec",
   "metadata": {},
   "outputs": [],
   "source": [
    "for lag in [2, 3, 7]:\n",
    "# for lag in range(2, 15):\n",
    "    df = df.merge(\n",
    "        get_lag(processed_dfs[\"train\"][TARGET_C + [\"target\"]], lag=lag),\n",
    "        how=\"left\",\n",
    "        on=TARGET_C,\n",
    "    )"
   ]
  },
  {
   "cell_type": "code",
   "execution_count": null,
   "id": "2660bda6-bf83-4fd7-8b0b-4393d93271e7",
   "metadata": {},
   "outputs": [],
   "source": [
    "for window in [24, 24 * 3, 24 * 7, 24 * 14]:\n",
    "    # for window in [24 * i for i in range(1, 15)]:\n",
    "    df = df.merge(\n",
    "        get_moving_average(\n",
    "            processed_dfs[\"train\"]\n",
    "            .set_index(\"datetime\")\n",
    "            .sort_index()\n",
    "            .groupby(CATEGORICAL_C, observed=True, as_index=False),\n",
    "            columns=[\"target\"],\n",
    "            window=window,\n",
    "            # ).dropna(),\n",
    "        ),\n",
    "        how=\"left\",\n",
    "        on=TARGET_C,\n",
    "    )"
   ]
  },
  {
   "cell_type": "code",
   "execution_count": null,
   "id": "0fc71be1-ec2a-4d15-bbc0-b14a35895020",
   "metadata": {},
   "outputs": [],
   "source": [
    "df[\"t_over_cap\"] = (df[\"2d_lag_target\"] / df[\"installed_capacity\"]).astype(\n",
    "    \"float32\"\n",
    ")\n",
    "df[\"t_over_eic\"] = (df[\"2d_lag_target\"] / df[\"eic_count\"]).astype(\"float32\")\n",
    "df[\"cap_per_eic\"] = (df[\"installed_capacity\"] / df[\"eic_count\"]).astype(\n",
    "    \"float32\"\n",
    ")"
   ]
  },
  {
   "cell_type": "code",
   "execution_count": null,
   "id": "b43e96a5-e4b9-4f3c-a5a7-5cf40404e28c",
   "metadata": {},
   "outputs": [],
   "source": [
    "FEATURES_TO_DROP = [\"datetime\", \"data_block_id\", \"date\"]"
   ]
  },
  {
   "cell_type": "markdown",
   "id": "17c9124c-dc6d-4f0d-a5ea-7277a3f8bfb5",
   "metadata": {},
   "source": [
    "# 2. Time Splits"
   ]
  },
  {
   "cell_type": "code",
   "execution_count": null,
   "id": "592e258b-a4a8-49d7-9689-17f650f5d4e8",
   "metadata": {},
   "outputs": [],
   "source": [
    "# VAL_SPLITS = 3"
   ]
  },
  {
   "cell_type": "code",
   "execution_count": null,
   "id": "8d1272eb-bc9b-4568-89b0-1dfff132493e",
   "metadata": {},
   "outputs": [],
   "source": [
    "# train - val - test\n",
    "# .64 - .16 - .20"
   ]
  },
  {
   "cell_type": "code",
   "execution_count": null,
   "id": "1463e63e-e58a-470b-9393-5ceb278db573",
   "metadata": {},
   "outputs": [
    {
     "name": "stdout",
     "output_type": "stream",
     "text": [
      "Train range starts: 2021-09-01 00:00:00\n",
      "Train range length: 408\n",
      "Train range ends: 2022-10-13 23:00:00\n",
      "Validation range starts: 2022-10-14 00:00:00\n",
      "Validation range length: 102\n",
      "Validation range ends: 2023-01-23 23:00:00\n",
      "Test range starts: 2023-01-24 00:00:00\n",
      "Test range length: 128\n",
      "Test range ends: 2023-05-31 23:00:00\n"
     ]
    }
   ],
   "source": [
    "# train_dt_start = df[\"datetime\"].min()\n",
    "# val_dt_start = (\n",
    "#     train_dt_start + (df[\"datetime\"].max() - train_dt_start) * 0.64\n",
    "# ).normalize()\n",
    "# test_dt_start = (\n",
    "#     train_dt_start + (df[\"datetime\"].max() - train_dt_start) * 0.8\n",
    "# ).normalize()\n",
    "\n",
    "# train_dt_end = val_dt_start - Timedelta(hours=1)\n",
    "# val_dt_end = test_dt_start - Timedelta(hours=1)\n",
    "# test_dt_end = df[\"datetime\"].max()\n",
    "\n",
    "# train_range = (train_dt_end - train_dt_start).ceil('d')\n",
    "# val_range = (val_dt_end -  val_dt_start).ceil('d')\n",
    "# test_range = (test_dt_end - test_dt_start).ceil('d')\n",
    "\n",
    "# print(\n",
    "#     f\"Train range starts: {train_dt_start}\",\n",
    "#     f\"Train range length: {train_range.days}\",\n",
    "#     f\"Train range ends: {train_dt_end}\",\n",
    "    \n",
    "#     f\"Validation range starts: {val_dt_start}\",\n",
    "#     f\"Validation range length: {val_range.days}\",\n",
    "#     f\"Validation range ends: {val_dt_end}\",\n",
    "    \n",
    "#     f\"Test range starts: {test_dt_start}\",\n",
    "#     f\"Test range length: {test_range.days}\",\n",
    "#     f\"Test range ends: {test_dt_end}\",\n",
    "#     sep=\"\\n\",\n",
    "# )"
   ]
  },
  {
   "cell_type": "code",
   "execution_count": null,
   "id": "b8ddda10-835f-4c03-b2a7-116a1fb6e4f7",
   "metadata": {},
   "outputs": [],
   "source": [
    "# for i, d in enumerate(split_intervals(df['datetime'], expanding=True)[1]):\n",
    "#     print(i, \"train\", d[\"train\"])\n",
    "#     print(i, \"test\", d[\"test\"])\n",
    "#     print(d[\"train\"][1] - d[\"train\"][0])\n",
    "#     print(d[\"test\"][1] - d[\"test\"][0])"
   ]
  },
  {
   "cell_type": "code",
   "execution_count": null,
   "id": "c171b806-fcf6-4737-a735-f6666b3d7374",
   "metadata": {},
   "outputs": [],
   "source": [
    "# test = split_intervals(df['datetime'])\n",
    "# print(\n",
    "#     # f\"All days: {test[\"all\"]}\",\n",
    "#     f\"Train range starts: {test['train_start']}\",\n",
    "#     f\"Train range length: {test['train_range']}\",\n",
    "#     f\"Train range ends: {test['train_end']}\",\n",
    "    \n",
    "#     f\"Validation range starts: {test['val_start']}\",\n",
    "#     f\"Validation range length: {test['val_range']}\",\n",
    "#     f\"Validation range ends: {test['val_end']}\",\n",
    "    \n",
    "#     f\"Test range starts: {test['test_start']}\",\n",
    "#     f\"Test range length: {test['test_range']}\",\n",
    "#     f\"Test range ends: {test['test_end']}\",\n",
    "#     sep=\"\\n\",\n",
    "# )"
   ]
  },
  {
   "cell_type": "code",
   "execution_count": null,
   "id": "66361c00-9f84-43f6-9aa1-9c67be301593",
   "metadata": {},
   "outputs": [],
   "source": [
    "# splits = [\n",
    "#     {\n",
    "#         \"train\": (train_dt_start, train_dt_end),\n",
    "#         \"val\": (val_dt_start, val_dt_start + Timedelta(days=6, hours=23)),\n",
    "#     },\n",
    "#     {\n",
    "#         \"train\": (\n",
    "#             train_dt_start + val_range / 2 - Timedelta(days=3),\n",
    "#             train_dt_end + val_range / 2 - Timedelta(days=3),\n",
    "#         ),\n",
    "#         \"val\": (\n",
    "#             val_dt_start + val_range / 2 - Timedelta(days=3),\n",
    "#             val_dt_start\n",
    "#             + val_range / 2\n",
    "#             + Timedelta(days=6, hours=23)\n",
    "#             - Timedelta(days=3),\n",
    "#         ),\n",
    "#     },\n",
    "#     {\n",
    "#         \"train\": (\n",
    "#             train_dt_start + val_range - Timedelta(days=7),\n",
    "#             train_dt_end + val_range - Timedelta(days=7),\n",
    "#         ),\n",
    "#         \"val\": (\n",
    "#             val_dt_start + val_range - Timedelta(days=7),\n",
    "#             val_dt_start + val_range - Timedelta(hours=1),\n",
    "#         ),\n",
    "#     },\n",
    "# ]\n",
    "\n",
    "# for i, d in enumerate(splits):\n",
    "#     print(i, \"train\", d[\"train\"])\n",
    "#     print(i, \"valid\", d[\"val\"])\n",
    "#     print(d[\"train\"][1] - d[\"train\"][0])\n",
    "#     print(d[\"val\"][1] - d[\"val\"][0])"
   ]
  },
  {
   "cell_type": "code",
   "execution_count": null,
   "id": "9e39ce13-d3e8-499f-a574-1f90cf842c5e",
   "metadata": {},
   "outputs": [],
   "source": [
    "# for i, d in enumerate(train_splits):\n",
    "#     print(i, \"train\", d[\"train\"])\n",
    "#     print(i, \"valid\", d[\"val\"])\n",
    "#     print(d[\"train\"][1] - d[\"train\"][0])\n",
    "#     print(d[\"val\"][1] - d[\"val\"][0])"
   ]
  },
  {
   "cell_type": "code",
   "execution_count": null,
   "id": "3c475545-ac86-42be-90f3-f68aed7732e4",
   "metadata": {},
   "outputs": [],
   "source": [
    "# for i, d in enumerate(test_splits):\n",
    "#     print(i, \"train\", d[\"train\"])\n",
    "#     print(i, \"test\", d[\"test\"])\n",
    "#     print(d[\"train\"][1] - d[\"train\"][0])\n",
    "#     print(d[\"test\"][1] - d[\"test\"][0])"
   ]
  },
  {
   "cell_type": "markdown",
   "id": "da8af1f7-4606-4ff0-9003-831e9c0f8312",
   "metadata": {},
   "source": [
    "# 3. Baseline Model"
   ]
  },
  {
   "cell_type": "code",
   "execution_count": null,
   "id": "4e21ea6f-f8ba-4137-944b-ae968efc01ee",
   "metadata": {},
   "outputs": [],
   "source": [
    "MODELS_DIR = Path(\"../models/xgb_baseline\")\n",
    "MODELS_DIR.mkdir(parents=True, exist_ok=True)\n",
    "FH = 7  # weekly retraining\n",
    "ITERS = 1000\n",
    "VERBOSE = 0\n",
    "ESR = 50\n",
    "baseline_params = {\n",
    "    \"learning_rate\": 0.1,\n",
    "    \"max_depth\": 7,\n",
    "    \"random_state\": RAND,\n",
    "    \"subsample\": 0.8,\n",
    "    \"colsample_bytree\": 0.8,\n",
    "    \"objective\": \"reg:absoluteerror\",\n",
    "    \"eval_metric\": \"mae\",\n",
    "    \"tree_method\": \"hist\",  # GPU\n",
    "    \"device\": \"cuda\",  # GPU\n",
    "    \"n_jobs\": -1,\n",
    "}"
   ]
  },
  {
   "cell_type": "code",
   "execution_count": null,
   "id": "eaa9b390-7de5-44a4-b073-e5c4807d42f6",
   "metadata": {},
   "outputs": [],
   "source": [
    "train_fix_splits, test_fix_splits = get_split_bounds(\n",
    "    df[\"datetime\"], expanding=False\n",
    ")\n",
    "train_exp_splits, test_exp_splits = get_split_bounds(\n",
    "    df[\"datetime\"], expanding=True\n",
    ")"
   ]
  },
  {
   "cell_type": "code",
   "execution_count": null,
   "id": "73e909e7-8f92-4ef7-aea7-f241070842de",
   "metadata": {},
   "outputs": [
    {
     "data": {
      "text/plain": [
       "{'train': (Timestamp('2021-09-01 00:00:00'), Timestamp('2022-10-14 23:00:00')),\n",
       " 'val': (Timestamp('2022-10-15 00:00:00'), Timestamp('2022-10-21 23:00:00'))}"
      ]
     },
     "execution_count": null,
     "metadata": {},
     "output_type": "execute_result"
    }
   ],
   "source": [
    "train_fix_splits[0]"
   ]
  },
  {
   "cell_type": "code",
   "execution_count": null,
   "id": "94176ad9-f3d5-40ab-8e34-cf937ac68c29",
   "metadata": {},
   "outputs": [],
   "source": [
    "def drop_split(df: DataFrame, bounds: tuple, to_drop: list):\n",
    "    start, end = bounds[0], bounds[1]\n",
    "    subset = df[(df[\"datetime\"] >= start) & (df[\"datetime\"] <= end)].drop(\n",
    "        to_drop, axis=1\n",
    "    )\n",
    "    X, y = subset.drop([\"target\"], axis=1), subset[\"target\"]\n",
    "    return X, y"
   ]
  },
  {
   "cell_type": "code",
   "execution_count": null,
   "id": "05852537-8982-457b-9ddb-9071995ec8b8",
   "metadata": {},
   "outputs": [],
   "source": [
    "def load_train_save(\n",
    "    df: DataFrame,\n",
    "    split: dict,\n",
    "    kind: str,\n",
    "    expanding: bool,\n",
    "    params: dict,\n",
    "    to_drop: list,\n",
    "    models_dir: Path,\n",
    "    i: int,\n",
    "    save: bool = True,\n",
    "    num_boost_round: int = 1000,\n",
    "    early_stopping_rounds: int = 50,\n",
    "    verbose_eval: int = 0,\n",
    "):\n",
    "    exp_prefix = \"fix\" if not expanding else \"exp\"\n",
    "    model_path = models_dir / f\"baseline_{kind}_{exp_prefix}_{i}.json\"\n",
    "    meta_path = models_dir / f\"baseline_{kind}_{exp_prefix}_{i}_meta.json\"\n",
    "\n",
    "    need_to_train = True\n",
    "    if model_path.exists() and meta_path.exists():\n",
    "        try:\n",
    "            with open(meta_path, \"r\", encoding=\"utf-8\") as fin:\n",
    "                meta = json.load(fin)\n",
    "            if (meta.get(\"train_start\") == str(split[\"train\"][0])) and (\n",
    "                meta.get(\"train_end\") == str(split[\"train\"][1])\n",
    "            ):\n",
    "                need_to_train = False\n",
    "                booster = xgb.Booster()\n",
    "                booster.load_model(str(model_path))\n",
    "            else:\n",
    "                need_to_train = True\n",
    "        except Exception:\n",
    "            need_to_train = True\n",
    "\n",
    "    X_test, y_test = drop_split(df, split[\"test\"], to_drop)\n",
    "    dtest = DMatrix(X_test, y_test, enable_categorical=True)\n",
    "    del X_test\n",
    "\n",
    "    if need_to_train:\n",
    "        X_train, y_train = drop_split(df, split[\"train\"], to_drop)\n",
    "        dtrain = DMatrix(X_train, y_train, enable_categorical=True)\n",
    "        del X_train, y_train\n",
    "\n",
    "        evals = [(dtrain, \"train\")]\n",
    "        if kind == \"val\":\n",
    "            evals.append((dtest, \"val\"))\n",
    "\n",
    "        booster = xgb.train(\n",
    "            params=params,\n",
    "            dtrain=dtrain,\n",
    "            num_boost_round=num_boost_round,\n",
    "            evals=evals,\n",
    "            early_stopping_rounds=early_stopping_rounds,\n",
    "            verbose_eval=verbose_eval,\n",
    "        )\n",
    "\n",
    "        if save:\n",
    "            booster.save_model(str(model_path))\n",
    "            meta = {\n",
    "                \"train_start\": str(split[\"train\"][0]),\n",
    "                \"train_end\": str(split[\"train\"][1]),\n",
    "                \"kind\": kind,\n",
    "                \"expanding\": str(expanding),\n",
    "            }\n",
    "            with open(meta_path, \"w\", encoding=\"utf-8\") as fout:\n",
    "                json.dump(meta, fout, ensure_ascii=False, indent=2)\n",
    "\n",
    "    return booster, dtest, y_test"
   ]
  },
  {
   "cell_type": "code",
   "execution_count": null,
   "id": "a5d85544-581e-49ad-9533-31b561af7ca6",
   "metadata": {},
   "outputs": [],
   "source": [
    "mae_baseline = [\n",
    "    np.empty(len(s))\n",
    "    for s in [\n",
    "        train_fix_splits,\n",
    "        test_fix_splits,\n",
    "        train_exp_splits,\n",
    "        test_exp_splits,\n",
    "    ]\n",
    "]\n",
    "\n",
    "\n",
    "splits_list = [\n",
    "    (\"val\", False, train_fix_splits),\n",
    "    (\"test\", False, test_fix_splits),\n",
    "    (\"val\", True, train_exp_splits),\n",
    "    (\"test\", True, test_exp_splits),\n",
    "]\n",
    "for i_sample, (kind, expanding, splits) in enumerate(splits_list):\n",
    "    for i, split in enumerate(splits):\n",
    "        booster, dtest, y_test = load_train_save(\n",
    "            df,\n",
    "            split,\n",
    "            kind,\n",
    "            expanding,\n",
    "            baseline_params,\n",
    "            FEATURES_TO_DROP,\n",
    "            MODELS_DIR,\n",
    "            i,\n",
    "            True,\n",
    "            ITERS,\n",
    "            ESR,\n",
    "            VERBOSE,\n",
    "        )\n",
    "\n",
    "        preds = booster.predict(dtest)\n",
    "        mae_baseline[i_sample][i] = MAE(y_test, preds)"
   ]
  },
  {
   "cell_type": "code",
   "execution_count": null,
   "id": "6abbf22a-38ef-4349-a10f-ca403433ac0f",
   "metadata": {},
   "outputs": [],
   "source": [
    "print(\"Baseline val MAE:\", np.mean(baseline_vals_mae))\n",
    "print(\"Baseline test MAE:\", np.mean(baseline_test_mae))"
   ]
  },
  {
   "cell_type": "markdown",
   "id": "a7cc8b76-346b-4bf0-863f-120a3706a7fc",
   "metadata": {},
   "source": [
    "# 4. Optuna Search"
   ]
  },
  {
   "cell_type": "code",
   "execution_count": null,
   "id": "731392c8-c7d9-4ceb-9c8d-e39e13204efb",
   "metadata": {},
   "outputs": [],
   "source": [
    "# N_SPLITS = 3\n",
    "# FH = 2"
   ]
  },
  {
   "cell_type": "code",
   "execution_count": null,
   "id": "cd4550f2-b3f6-4be3-95ea-3effb8c46737",
   "metadata": {},
   "outputs": [],
   "source": [
    "# optuna_train, optuna_test = get_split_bounds(\n",
    "#     df[\"datetime\"],\n",
    "#     n_val_splits=N_SPLITS,\n",
    "#     n_test_splits=N_SPLITS,\n",
    "#     fh=FH,\n",
    "#     expanding=False,\n",
    "# )"
   ]
  },
  {
   "cell_type": "code",
   "execution_count": null,
   "id": "c51a5867-6a90-4782-b76b-f7e1b7938f82",
   "metadata": {},
   "outputs": [],
   "source": [
    "# optuna_train"
   ]
  },
  {
   "cell_type": "code",
   "execution_count": null,
   "id": "7ec4302d-c04b-4cf9-ab62-f8af05768664",
   "metadata": {},
   "outputs": [],
   "source": [
    "# optuna_test"
   ]
  },
  {
   "cell_type": "code",
   "execution_count": null,
   "id": "1e6d04a3-6ca8-4bdf-b941-211608d4c4b8",
   "metadata": {},
   "outputs": [],
   "source": [
    "def objective(trial):\n",
    "    params = {\n",
    "        \"learning_rate\": trial.suggest_float(\"learning_rate\", 0.03, 0.3),\n",
    "        \"max_depth\": trial.suggest_int(\"max_depth\", 3, 12),\n",
    "        \"min_child_weight\": trial.suggest_int(\"min_child_weight\", 1, 20),\n",
    "        \"subsample\": trial.suggest_float(\"subsample\", 0.5, 1.0),\n",
    "        \"colsample_bytree\": trial.suggest_float(\"colsample_bytree\", 0.5, 1.0),\n",
    "        \"lambda\": trial.suggest_float(\"lambda\", 0.001, 100),\n",
    "        \"alpha\": trial.suggest_float(\"alpha\", 0.001, 100),\n",
    "        \"gamma\": trial.suggest_float(\"gamma\", 0, 10),\n",
    "        \"grow_policy\": trial.suggest_categorical(\n",
    "            \"grow_policy\", [\"depthwise\", \"lossguide\"]\n",
    "        ),\n",
    "        # \"random_state\": RAND,\n",
    "        \"tree_method\": \"hist\",\n",
    "        \"device\": \"cuda\",\n",
    "        \"objective\": \"reg:absoluteerror\",\n",
    "        \"eval_metric\": \"mae\",\n",
    "    }\n",
    "    num_boost_round = trial.suggest_int(\"num_boost_round\", 500, 2500, step=500)\n",
    "    cv_predicts = np.empty(len(splits))\n",
    "\n",
    "    cv_scores = np.empty(len(optuna_train))\n",
    "\n",
    "    for i, split in enumerate(optuna_train):\n",
    "        random_state = RAND + i\n",
    "        X_train, y_train = drop_split(df, split[\"train\"], FEATURES_TO_DROP)\n",
    "        dtrain = DMatrix(X_train, y_train, enable_categorical=True)\n",
    "        del X_train, y_train\n",
    "\n",
    "        X_val, y_val = drop_split(df, split[\"test\"], FEATURES_TO_DROP)\n",
    "        dval = DMatrix(X_val, y_val, enable_categorical=True)\n",
    "        del X_val\n",
    "\n",
    "        evals = [(dtrain, \"train\"), (dval, \"val\")]\n",
    "\n",
    "        booster = xgb.train(\n",
    "            params=params,\n",
    "            dtrain=dtrain,\n",
    "            evals=evals,\n",
    "            num_boost_round=num_boost_round,\n",
    "            random_state=random_state,  # RAND + i\n",
    "            early_stopping_rounds=ESR,\n",
    "            verbose_eval=VERBOSE,\n",
    "        )\n",
    "\n",
    "        preds = booster.predict(dval)\n",
    "        cv_scores[i] = MAE(y_val, preds)\n",
    "\n",
    "    return np.mean(cv_scores)"
   ]
  },
  {
   "cell_type": "code",
   "execution_count": null,
   "id": "ceb260e8",
   "metadata": {},
   "outputs": [],
   "source": [
    "# def objective(trial):\n",
    "#     params = {\n",
    "#         \"learning_rate\": trial.suggest_float(\"learning_rate\", 0.03, 0.3),\n",
    "#         \"max_depth\": trial.suggest_int(\"max_depth\", 3, 12),\n",
    "#         \"min_child_weight\": trial.suggest_int(\"min_child_weight\", 1, 20),\n",
    "#         \"subsample\": trial.suggest_float(\"subsample\", 0.5, 1.0),\n",
    "#         \"colsample_bytree\": trial.suggest_float(\"colsample_bytree\", 0.5, 1.0),\n",
    "#         \"lambda\": trial.suggest_float(\"lambda\", 0.001, 100),\n",
    "#         \"alpha\": trial.suggest_float(\"alpha\", 0.001, 100),\n",
    "#         \"gamma\": trial.suggest_float(\"gamma\", 0, 10),\n",
    "#         \"grow_policy\": trial.suggest_categorical(\"grow_policy\", ['depthwise', 'lossguide']),\n",
    "\n",
    "#         \"random_state\": RAND,\n",
    "#         \"tree_method\": \"hist\",\n",
    "#         \"device\": \"cuda\",\n",
    "#         \"objective\": \"reg:absoluteerror\",\n",
    "#         \"eval_metric\": \"mae\",\n",
    "#     }\n",
    "#     num_boost_round = trial.suggest_int(\"num_boost_round\", 500, 2500, step=500)\n",
    "#     cv_predicts = np.empty(len(splits))\n",
    "\n",
    "#     for idx, split in enumerate(splits):\n",
    "        \n",
    "#         df_train = df[\n",
    "#             (df[\"datetime\"] >= split[\"train\"][0])\n",
    "#             & (df[\"datetime\"] <= split[\"train\"][1])\n",
    "#         ].drop(FEATURES_TO_DROP, axis=1)\n",
    "\n",
    "#         df_val = df[\n",
    "#             (df[\"datetime\"] >= split[\"val\"][0])\n",
    "#             & (df[\"datetime\"] <= split[\"val\"][1])\n",
    "#         ].drop(FEATURES_TO_DROP, axis=1)\n",
    "\n",
    "#         X_train, y_train = (\n",
    "#             df_train.drop([\"target\"], axis=1),\n",
    "#             df_train[\"target\"],\n",
    "#         )\n",
    "#         dtrain = DMatrix(X_train, label=y_train, enable_categorical=True)\n",
    "#         del X_train, y_train\n",
    "\n",
    "#         X_val, y_val = df_val.drop([\"target\"], axis=1), df_val[\"target\"]\n",
    "#         dval = DMatrix(X_val, label=y_val, enable_categorical=True)\n",
    "#         del X_val\n",
    "\n",
    "#         evals = [(dtrain, \"train\"), (dval, \"val\")]\n",
    "\n",
    "#         booster = xgb.train(\n",
    "#             params=params,\n",
    "#             dtrain=dtrain,\n",
    "#             evals=evals,\n",
    "#             num_boost_round=num_boost_round,\n",
    "#             early_stopping_rounds=ESR,\n",
    "#             verbose_eval=VERBOSE,\n",
    "#         )\n",
    "\n",
    "#         preds = booster.predict(dval)\n",
    "#         cv_predicts[idx] = MAE(y_val, preds)\n",
    "\n",
    "#     return np.mean(cv_predicts)"
   ]
  },
  {
   "cell_type": "code",
   "execution_count": null,
   "id": "4b2b41e2-d573-4660-9102-e0956eb8d2f4",
   "metadata": {},
   "outputs": [],
   "source": [
    "# STORAGE = \"sqlite:///../optuna_db/optuna_study_v4.db\"\n",
    "# N_TRIALS = 120"
   ]
  },
  {
   "cell_type": "code",
   "execution_count": null,
   "id": "60f0063b-adea-4d79-acee-5e9947d493fd",
   "metadata": {},
   "outputs": [],
   "source": [
    "# optuna.logging.set_verbosity(optuna.logging.INFO)"
   ]
  },
  {
   "cell_type": "code",
   "execution_count": null,
   "id": "0b84977f-eddf-4a35-bad6-d4b690701732",
   "metadata": {},
   "outputs": [],
   "source": [
    "# study = optuna.create_study(\n",
    "#     storage=STORAGE,\n",
    "#     sampler=TPESampler(n_startup_trials=20, multivariate=True),\n",
    "#     pruner=optuna.pruners.SuccessiveHalvingPruner(),\n",
    "#     study_name=\"xgb_optuna\",\n",
    "#     direction=\"minimize\",\n",
    "#     load_if_exists=True,\n",
    "# )\n",
    "# existing_trials = len(study.trials)\n",
    "\n",
    "# if existing_trials >= N_TRIALS:\n",
    "#     print(\"Number of existing trials >= N_TRIALS. Skipping optimization.\")\n",
    "# else:\n",
    "#     remaining = N_TRIALS - existing_trials\n",
    "#     print(f\"Run {remaining} trials to reach {N_TRIALS}\")\n",
    "#     study.optimize(\n",
    "#         objective,\n",
    "#         n_trials=remaining,\n",
    "#         show_progress_bar=True,\n",
    "#         n_jobs=1,\n",
    "#     )"
   ]
  },
  {
   "cell_type": "code",
   "execution_count": null,
   "id": "88c22ac9-55dd-48cc-bbdc-84bdce7a3ac1",
   "metadata": {},
   "outputs": [],
   "source": [
    "# def objective(trial):\n",
    "#     params = {\n",
    "#         \"n_estimators\": trial.suggest_int(\"n_estimators\", 500, 2000, step=500),\n",
    "#         \"learning_rate\": trial.suggest_categorical(\"learning_rate\", [0.05, 0.1, 0.2, 0.3]),\n",
    "#         \"max_depth\": trial.suggest_int(\"max_depth\", 3, 12),\n",
    "#         \"min_child_weight\": trial.suggest_int(\"max_depth\", 1, 20),\n",
    "#         \"subsample\": trial.suggest_float(\"subsample\", 0.5, 1.0),\n",
    "#         \"colsample_bytree\": trial.suggest_float(\"colsample_bytree\", 0.5, 1.0),\n",
    "#         \"lambda\": trial.suggest_float(\"colsample_bytree\", 0.001, 100),\n",
    "#         \"alpha\": trial.suggest_float(\"colsample_bytree\", 0.001, 100)\n",
    "\n",
    "#         \"early_stopping_rounds\": OPTUNA_ESR,\n",
    "#         \"random_state\": RAND,\n",
    "\n",
    "#         \"objective\": \"reg:absoluteerror\",\n",
    "#         \"eval_metric\": \"mae\",\n",
    "#         \"enable_categorical\": True,\n",
    "#         \"n_jobs\": -1,\n",
    "#     }\n",
    "#     model = XGBRegressor(**params)\n",
    "\n",
    "#     splits_fixed = split_by_equal_days(\n",
    "#         dt=df.loc[df[\"datetime\"] < test_dt_start, \"datetime\"],\n",
    "#         train_days=train_days_range,\n",
    "#         fh=7, # weekly retraining\n",
    "#         n_splits=VAL_SPLITS,\n",
    "#         expanding=False,\n",
    "#     )\n",
    "#     cv_predicts = np.empty(VAL_SPLITS)\n",
    "\n",
    "#     for idx, split in enumerate(splits_fixed):\n",
    "#         df_train = df[\n",
    "#             (df[\"datetime\"] >= split[\"train\"][0])\n",
    "#             & (df[\"datetime\"] <= split[\"train\"][1])\n",
    "#         ].drop(FEATURES_TO_DROP, axis=1)\n",
    "#         df_val = df[\n",
    "#             (df[\"datetime\"] >= split[\"val\"][0])\n",
    "#             & (df[\"datetime\"] <= split[\"val\"][1])\n",
    "#         ].drop(FEATURES_TO_DROP, axis=1)\n",
    "    \n",
    "#         X_train, y_train = (\n",
    "#             df_train.drop([\"target\"], axis=1),\n",
    "#             df_train[\"target\"],\n",
    "#         )\n",
    "#         X_val, y_val = df_val.drop([\"target\"], axis=1), df_val[\"target\"]\n",
    "#         # X_test, y_test = df_test.drop([\"target\"], axis=1), df_test[\"target\"]\n",
    "#         eval_set = [\n",
    "#             (X_train, y_train),\n",
    "#             (X_val, y_val),\n",
    "#             # (X_test, y_test)\n",
    "#         ]\n",
    "\n",
    "#         model.fit(\n",
    "#             X_train,\n",
    "#             y_train,\n",
    "#             eval_set=eval_set,\n",
    "#             verbose=VERBOSE,\n",
    "#         )\n",
    "\n",
    "#         preds = model.predict(X_val)\n",
    "#         cv_predicts[idx] = MAE(y_val, preds)\n",
    "\n",
    "#     return np.mean(cv_predicts)"
   ]
  },
  {
   "cell_type": "code",
   "execution_count": null,
   "id": "20d2e411-f387-444f-b466-98d04d3a5457",
   "metadata": {},
   "outputs": [],
   "source": [
    "# study = optuna.create_study(\n",
    "#     direction=\"minimize\",\n",
    "#     pruner=optuna.pruners.SuccessiveHalvingPruner(),\n",
    "#     study_name=\"xgb_optuna\",\n",
    "# )\n",
    "\n",
    "# study.optimize(objective, n_trials=15, show_progress_bar=True, n_jobs=1)\n",
    "# # >1h 10 n_jobs=-1"
   ]
  },
  {
   "cell_type": "code",
   "execution_count": null,
   "id": "4f6ab582-d9e8-45e7-9257-411c176e3b1d",
   "metadata": {},
   "outputs": [],
   "source": [
    "# study.best_params\n",
    "# {'n_estimators': 1000, 'learning_rate': 0.05, 'max_depth': 12}\n",
    "# 30.988663991292317\n",
    "\n",
    "# {'learning_rate': 0.1,\n",
    "# 'max_depth': 10,\n",
    "# 'min_child_weight': 18,\n",
    "# 'subsample': 0.8594561164418333,\n",
    "# 'colsample_bytree': 0.9549790028777667,\n",
    "# 'lambda': 80.67437718316565,\n",
    "# 'alpha': 8.579982090257277,\n",
    "# 'num_boost_round': 1500}\n",
    "# 30.306320826212566\n",
    "\n",
    "\n",
    "# {'learning_rate': 0.10842258169357744,\n",
    "#  'max_depth': 10,\n",
    "#  'min_child_weight': 9,\n",
    "#  'subsample': 0.968120281133485,\n",
    "#  'colsample_bytree': 0.9514698765601128,\n",
    "#  'lambda': 56.77594835612019,\n",
    "#  'alpha': 36.40618084787037,\n",
    "#  'num_boost_round': 1000}\n",
    "# 30.03012466430664"
   ]
  },
  {
   "cell_type": "code",
   "execution_count": null,
   "id": "99a07ef4-782a-4c9f-a14a-3e578fb93741",
   "metadata": {},
   "outputs": [],
   "source": [
    "# def detailed_objective(trial):\n",
    "#     params = {\n",
    "#         \"learning_rate\": trial.suggest_float(\"learning_rate\", 0.03, 0.3),\n",
    "#         \"max_depth\": trial.suggest_int(\"max_depth\", 3, 12),\n",
    "#         \"min_child_weight\": trial.suggest_int(\"min_child_weight\", 1, 20),\n",
    "#         \"subsample\": trial.suggest_float(\"subsample\", 0.5, 1.0),\n",
    "#         \"colsample_bytree\": trial.suggest_float(\"colsample_bytree\", 0.5, 1.0),\n",
    "#         \"lambda\": trial.suggest_float(\"lambda\", 0.001, 100),\n",
    "#         \"alpha\": trial.suggest_float(\"alpha\", 0.001, 100),\n",
    "#         \"gamma\": trial.suggest_float(\"gamma\", 0, 10),\n",
    "#         \"grow_policy\": trial.suggest_categorical(\n",
    "#             \"grow_policy\", [\"depthwise\", \"lossguide\"]\n",
    "#         ),\n",
    "#         # \"random_state\": RAND,\n",
    "#         \"tree_method\": \"hist\",\n",
    "#         \"device\": \"cuda\",\n",
    "#         \"objective\": \"reg:absoluteerror\",\n",
    "#         \"eval_metric\": \"mae\",\n",
    "#     }\n",
    "#     num_boost_round = trial.suggest_int(\"num_boost_round\", 500, 2500, step=500)\n",
    "\n",
    "#     cv_scores = np.empty(len(optuna_test))\n",
    "\n",
    "#     for i, split in enumerate(optuna_test):\n",
    "#         random_state = RAND + i\n",
    "#         X_train, y_train = drop_split(df, split[\"train\"], FEATURES_TO_DROP)\n",
    "#         dtrain = DMatrix(X_train, y_train, enable_categorical=True)\n",
    "#         del X_train, y_train\n",
    "\n",
    "#         X_val, y_val = drop_split(df, split[\"test\"], FEATURES_TO_DROP)\n",
    "#         dval = DMatrix(X_val, y_val, enable_categorical=True)\n",
    "#         del X_val\n",
    "\n",
    "#         evals = [(dtrain, \"train\"), (dval, \"val\")]\n",
    "\n",
    "#         booster = xgb.train(\n",
    "#             params=params,\n",
    "#             dtrain=dtrain,\n",
    "#             evals=evals,\n",
    "#             num_boost_round=num_boost_round,\n",
    "#             random_state=random_state, #RAND + i\n",
    "#             early_stopping_rounds=ESR,\n",
    "#             verbose_eval=VERBOSE,\n",
    "#         )\n",
    "\n",
    "#         preds = booster.predict(dval)\n",
    "#         cv_scores[i] = MAE(y_val, preds)\n",
    "\n",
    "#     # return np.mean(cv_scores)\n",
    "#     return cv_scores"
   ]
  },
  {
   "cell_type": "code",
   "execution_count": null,
   "id": "18ff3bed-9ba6-4521-862a-db3c46efee90",
   "metadata": {},
   "outputs": [],
   "source": [
    "# test = detailed_objective(study.best_trial)"
   ]
  },
  {
   "cell_type": "code",
   "execution_count": null,
   "id": "49460262-18dd-4281-bb59-980308b3e615",
   "metadata": {},
   "outputs": [],
   "source": [
    "# np.mean(test)"
   ]
  },
  {
   "cell_type": "code",
   "execution_count": null,
   "id": "8cce42b8-3749-4587-b996-31c7fb2411ce",
   "metadata": {},
   "outputs": [],
   "source": [
    "# study.best_value"
   ]
  },
  {
   "cell_type": "code",
   "execution_count": null,
   "id": "096d5d51-62db-4079-a31c-3213abbe5fcc",
   "metadata": {},
   "outputs": [],
   "source": [
    "# optuna.visualization.plot_parallel_coordinate(study)"
   ]
  },
  {
   "cell_type": "code",
   "execution_count": null,
   "id": "f1f24290-1b0f-4245-9fe1-5e263d828472",
   "metadata": {},
   "outputs": [],
   "source": [
    "# optuna.visualization.plot_param_importances(study)"
   ]
  },
  {
   "cell_type": "code",
   "execution_count": null,
   "id": "e99199fe-08ee-4d78-8a24-f456b6013161",
   "metadata": {},
   "outputs": [],
   "source": [
    "# optuna.visualization.plot_optimization_history(study)"
   ]
  },
  {
   "cell_type": "code",
   "execution_count": null,
   "id": "b77645b0-8db6-459b-ba98-cb6def84d1b5",
   "metadata": {},
   "outputs": [],
   "source": [
    "# optuna.visualization.plot_contour(study)"
   ]
  },
  {
   "cell_type": "markdown",
   "id": "cc5d1cef-2dae-4bf3-b4ac-01f1d5745a80",
   "metadata": {},
   "source": [
    "## Longer validation period"
   ]
  },
  {
   "cell_type": "code",
   "execution_count": null,
   "id": "ba24d0c5-0bdf-4b21-a84e-09e6abd00b16",
   "metadata": {},
   "outputs": [
    {
     "data": {
      "text/plain": [
       "[{'train': (Timestamp('2021-09-01 00:00:00'),\n",
       "   Timestamp('2022-08-31 23:00:00')),\n",
       "  'test': (Timestamp('2022-09-01 00:00:00'),\n",
       "   Timestamp('2022-09-30 23:00:00'))},\n",
       " {'train': (Timestamp('2021-09-01 00:00:00'),\n",
       "   Timestamp('2022-11-30 23:00:00')),\n",
       "  'test': (Timestamp('2022-12-01 00:00:00'),\n",
       "   Timestamp('2022-12-31 23:00:00'))},\n",
       " {'train': (Timestamp('2021-09-01 00:00:00'),\n",
       "   Timestamp('2023-02-28 23:00:00')),\n",
       "  'test': (Timestamp('2023-03-01 00:00:00'),\n",
       "   Timestamp('2023-03-31 23:00:00'))}]"
      ]
     },
     "execution_count": null,
     "metadata": {},
     "output_type": "execute_result"
    }
   ],
   "source": [
    "start_ts = df[\"datetime\"].min()\n",
    "optuna_train_lv = [\n",
    "    {\n",
    "        \"train\": (\n",
    "            start_ts,\n",
    "            start_ts + pd.DateOffset(months=(12 + 3 * i)) - Timedelta(hours=1),\n",
    "        ),\n",
    "        \"test\": (\n",
    "            start_ts + pd.DateOffset(months=(12 + 3 * i)),\n",
    "            start_ts\n",
    "            + pd.DateOffset(months=(12 + 3 * i + 1))\n",
    "            - Timedelta(hours=1),\n",
    "        ),\n",
    "    }\n",
    "    for i in range(3)\n",
    "]\n",
    "optuna_train_lv"
   ]
  },
  {
   "cell_type": "code",
   "execution_count": null,
   "id": "66643230-6ae5-49c8-a652-307760f6178d",
   "metadata": {},
   "outputs": [],
   "source": [
    "def objective(trial):\n",
    "    params = {\n",
    "        \"learning_rate\": trial.suggest_float(\"learning_rate\", 0.03, 0.3),\n",
    "        \"max_depth\": trial.suggest_int(\"max_depth\", 3, 12),\n",
    "        \"min_child_weight\": trial.suggest_int(\"min_child_weight\", 1, 20),\n",
    "        \"subsample\": trial.suggest_float(\"subsample\", 0.5, 1.0),\n",
    "        \"colsample_bytree\": trial.suggest_float(\"colsample_bytree\", 0.5, 1.0),\n",
    "        \"lambda\": trial.suggest_float(\"lambda\", 0.001, 100),\n",
    "        \"alpha\": trial.suggest_float(\"alpha\", 0.001, 100),\n",
    "        \"gamma\": trial.suggest_float(\"gamma\", 0, 10),\n",
    "        \"grow_policy\": trial.suggest_categorical(\n",
    "            \"grow_policy\", [\"depthwise\", \"lossguide\"]\n",
    "        ),\n",
    "        # \"random_state\": RAND,\n",
    "        \"tree_method\": \"hist\",\n",
    "        \"device\": \"cuda\",\n",
    "        \"objective\": \"reg:absoluteerror\",\n",
    "        \"eval_metric\": \"mae\",\n",
    "    }\n",
    "    num_boost_round = trial.suggest_int(\"num_boost_round\", 500, 2500, step=500)\n",
    "\n",
    "    cv_scores = np.empty(len(optuna_train_lv))\n",
    "\n",
    "    for i, split in enumerate(optuna_train_lv):\n",
    "        params[\"random_state\"] = RAND + i\n",
    "        X_train, y_train = drop_split(df, split[\"train\"], FEATURES_TO_DROP)\n",
    "        dtrain = DMatrix(X_train, y_train, enable_categorical=True)\n",
    "        del X_train, y_train\n",
    "\n",
    "        X_val, y_val = drop_split(df, split[\"test\"], FEATURES_TO_DROP)\n",
    "        dval = DMatrix(X_val, y_val, enable_categorical=True)\n",
    "        del X_val\n",
    "\n",
    "        evals = [(dtrain, \"train\"), (dval, \"val\")]\n",
    "\n",
    "        booster = xgb.train(\n",
    "            params=params,\n",
    "            dtrain=dtrain,\n",
    "            evals=evals,\n",
    "            num_boost_round=num_boost_round,\n",
    "            early_stopping_rounds=ESR,\n",
    "            verbose_eval=VERBOSE,\n",
    "        )\n",
    "\n",
    "        preds = booster.predict(dval)\n",
    "        cv_scores[i] = MAE(y_val, preds)\n",
    "\n",
    "    return np.mean(cv_scores)"
   ]
  },
  {
   "cell_type": "code",
   "execution_count": null,
   "id": "fc53618e-66e8-4344-85bc-f81e1279f576",
   "metadata": {},
   "outputs": [],
   "source": [
    "STORAGE = \"sqlite:///../optuna_db/optuna_study_long_val_rand_incr.db\"\n",
    "n_trials = 120\n",
    "n_startup_trials = 20"
   ]
  },
  {
   "cell_type": "code",
   "execution_count": null,
   "id": "1753b13c-44be-4ce5-89f6-d04266593503",
   "metadata": {},
   "outputs": [],
   "source": [
    "optuna.logging.set_verbosity(optuna.logging.INFO)"
   ]
  },
  {
   "cell_type": "code",
   "execution_count": null,
   "id": "6563a073-dbb3-4dca-b7ef-629f63fb0477",
   "metadata": {},
   "outputs": [
    {
     "name": "stderr",
     "output_type": "stream",
     "text": [
      "/root/.cache/pypoetry/virtualenvs/jlpe-9TtSrW0h-py3.12/lib/python3.12/site-packages/optuna/_experimental.py:31: ExperimentalWarning: Argument ``multivariate`` is an experimental feature. The interface can change in the future.\n",
      "  warnings.warn(\n",
      "[I 2025-06-07 13:32:38,879] A new study created in RDB with name: xgb_optuna\n"
     ]
    },
    {
     "name": "stdout",
     "output_type": "stream",
     "text": [
      "Run 120 trials to reach 120\n"
     ]
    },
    {
     "data": {
      "application/vnd.jupyter.widget-view+json": {
       "model_id": "7e008870892249ea9af6a6882a82b2be",
       "version_major": 2,
       "version_minor": 0
      },
      "text/plain": [
       "  0%|          | 0/120 [00:00<?, ?it/s]"
      ]
     },
     "metadata": {},
     "output_type": "display_data"
    },
    {
     "name": "stdout",
     "output_type": "stream",
     "text": [
      "[I 2025-06-07 13:34:22,632] Trial 0 finished with value: 58.604567209879555 and parameters: {'learning_rate': 0.2483664487682132, 'max_depth': 3, 'min_child_weight': 12, 'subsample': 0.5894721441325526, 'colsample_bytree': 0.6196287378542826, 'lambda': 16.661697028714634, 'alpha': 0.2960647722331624, 'gamma': 2.532503714677543, 'grow_policy': 'lossguide', 'num_boost_round': 2500}. Best is trial 0 with value: 58.604567209879555.\n",
      "[I 2025-06-07 13:36:18,608] Trial 1 finished with value: 49.25595474243164 and parameters: {'learning_rate': 0.22164915434617707, 'max_depth': 6, 'min_child_weight': 12, 'subsample': 0.8129683324638421, 'colsample_bytree': 0.6073169146810085, 'lambda': 93.19279693872969, 'alpha': 43.79832384377342, 'gamma': 1.562521646059828, 'grow_policy': 'lossguide', 'num_boost_round': 2500}. Best is trial 1 with value: 49.25595474243164.\n",
      "[I 2025-06-07 13:37:12,654] Trial 2 finished with value: 48.63049825032552 and parameters: {'learning_rate': 0.2437070615326312, 'max_depth': 7, 'min_child_weight': 19, 'subsample': 0.7332763988662478, 'colsample_bytree': 0.6169650758597011, 'lambda': 64.89412047746744, 'alpha': 42.760534605119076, 'gamma': 3.053965231165432, 'grow_policy': 'depthwise', 'num_boost_round': 500}. Best is trial 2 with value: 48.63049825032552.\n",
      "[I 2025-06-07 13:39:19,974] Trial 3 finished with value: 46.814605712890625 and parameters: {'learning_rate': 0.1951727455021719, 'max_depth': 7, 'min_child_weight': 11, 'subsample': 0.5150196667465593, 'colsample_bytree': 0.9821463280686138, 'lambda': 4.854956864420093, 'alpha': 49.37640096782903, 'gamma': 3.8634516114322572, 'grow_policy': 'lossguide', 'num_boost_round': 1000}. Best is trial 3 with value: 46.814605712890625.\n",
      "[I 2025-06-07 13:42:50,002] Trial 4 finished with value: 45.3928108215332 and parameters: {'learning_rate': 0.10807121864846088, 'max_depth': 9, 'min_child_weight': 6, 'subsample': 0.6852965494139405, 'colsample_bytree': 0.9817607175720998, 'lambda': 34.23942126180059, 'alpha': 49.14482315415785, 'gamma': 7.8038459671984475, 'grow_policy': 'lossguide', 'num_boost_round': 1000}. Best is trial 4 with value: 45.3928108215332.\n",
      "[I 2025-06-07 13:44:05,636] Trial 5 finished with value: 49.444409688313804 and parameters: {'learning_rate': 0.2383359641112336, 'max_depth': 8, 'min_child_weight': 6, 'subsample': 0.96834273473191, 'colsample_bytree': 0.8260455660902539, 'lambda': 47.23383441563247, 'alpha': 95.06401309917322, 'gamma': 6.482194309795261, 'grow_policy': 'lossguide', 'num_boost_round': 2500}. Best is trial 4 with value: 45.3928108215332.\n",
      "[I 2025-06-07 13:44:46,718] Trial 6 finished with value: 63.536581675211586 and parameters: {'learning_rate': 0.21168615749218547, 'max_depth': 3, 'min_child_weight': 16, 'subsample': 0.7149975981751595, 'colsample_bytree': 0.6576020324929941, 'lambda': 15.668980256451974, 'alpha': 57.365873614671415, 'gamma': 5.876586313741351, 'grow_policy': 'lossguide', 'num_boost_round': 500}. Best is trial 4 with value: 45.3928108215332.\n",
      "[I 2025-06-07 13:49:55,159] Trial 7 finished with value: 45.41175842285156 and parameters: {'learning_rate': 0.07207208963287638, 'max_depth': 7, 'min_child_weight': 14, 'subsample': 0.8397914222821856, 'colsample_bytree': 0.9469322180279818, 'lambda': 74.46167973100246, 'alpha': 62.57555467606395, 'gamma': 3.4308070985908676, 'grow_policy': 'lossguide', 'num_boost_round': 2000}. Best is trial 4 with value: 45.3928108215332.\n",
      "[I 2025-06-07 13:51:24,352] Trial 8 finished with value: 46.778343200683594 and parameters: {'learning_rate': 0.06477952739292467, 'max_depth': 12, 'min_child_weight': 3, 'subsample': 0.5862157968613839, 'colsample_bytree': 0.6932888042747791, 'lambda': 82.77780777343699, 'alpha': 74.84120390733584, 'gamma': 5.789969813774284, 'grow_policy': 'depthwise', 'num_boost_round': 500}. Best is trial 4 with value: 45.3928108215332.\n",
      "[I 2025-06-07 13:52:48,837] Trial 9 finished with value: 48.72767639160156 and parameters: {'learning_rate': 0.23362096376237404, 'max_depth': 9, 'min_child_weight': 14, 'subsample': 0.8436054272208191, 'colsample_bytree': 0.5338440554574417, 'lambda': 64.3929962444861, 'alpha': 81.45720271605175, 'gamma': 3.8176243524941436, 'grow_policy': 'depthwise', 'num_boost_round': 2000}. Best is trial 4 with value: 45.3928108215332.\n",
      "[I 2025-06-07 13:53:59,090] Trial 10 finished with value: 60.692674001057945 and parameters: {'learning_rate': 0.19015885351991063, 'max_depth': 3, 'min_child_weight': 8, 'subsample': 0.7688066168256558, 'colsample_bytree': 0.695561743309108, 'lambda': 91.34327336631912, 'alpha': 4.02276362562536, 'gamma': 5.606272817720348, 'grow_policy': 'depthwise', 'num_boost_round': 1000}. Best is trial 4 with value: 45.3928108215332.\n",
      "[I 2025-06-07 13:56:22,083] Trial 11 finished with value: 45.46539179484049 and parameters: {'learning_rate': 0.1419257317689533, 'max_depth': 11, 'min_child_weight': 20, 'subsample': 0.7940815164370101, 'colsample_bytree': 0.9455731390456508, 'lambda': 96.7364786150102, 'alpha': 41.06405452847219, 'gamma': 0.4768121655828428, 'grow_policy': 'depthwise', 'num_boost_round': 1000}. Best is trial 4 with value: 45.3928108215332.\n",
      "[I 2025-06-07 13:56:54,519] Trial 12 finished with value: 51.009352366129555 and parameters: {'learning_rate': 0.28832465116299855, 'max_depth': 8, 'min_child_weight': 5, 'subsample': 0.9935436411643758, 'colsample_bytree': 0.7122051057855091, 'lambda': 11.455941807263107, 'alpha': 52.69788589890773, 'gamma': 9.828364663683821, 'grow_policy': 'depthwise', 'num_boost_round': 2500}. Best is trial 4 with value: 45.3928108215332.\n",
      "[I 2025-06-07 13:59:31,735] Trial 13 finished with value: 46.647753397623696 and parameters: {'learning_rate': 0.18607781537011234, 'max_depth': 7, 'min_child_weight': 4, 'subsample': 0.5729082721883901, 'colsample_bytree': 0.94375211925644, 'lambda': 26.580437280788804, 'alpha': 97.04224391789886, 'gamma': 1.4426153381337758, 'grow_policy': 'lossguide', 'num_boost_round': 1000}. Best is trial 4 with value: 45.3928108215332.\n",
      "[I 2025-06-07 14:02:04,582] Trial 14 finished with value: 48.02207056681315 and parameters: {'learning_rate': 0.12306343390297286, 'max_depth': 8, 'min_child_weight': 7, 'subsample': 0.6141197842480396, 'colsample_bytree': 0.6222364531991038, 'lambda': 61.842038659417454, 'alpha': 53.34202608321825, 'gamma': 0.6934863215615428, 'grow_policy': 'lossguide', 'num_boost_round': 500}. Best is trial 4 with value: 45.3928108215332.\n",
      "[I 2025-06-07 14:05:08,401] Trial 15 finished with value: 47.08430480957031 and parameters: {'learning_rate': 0.15539287241116603, 'max_depth': 9, 'min_child_weight': 16, 'subsample': 0.9493965136514431, 'colsample_bytree': 0.5706255440891638, 'lambda': 16.688933959568896, 'alpha': 76.47260499541659, 'gamma': 3.565144557125995, 'grow_policy': 'lossguide', 'num_boost_round': 2000}. Best is trial 4 with value: 45.3928108215332.\n",
      "[I 2025-06-07 14:06:01,388] Trial 16 finished with value: 46.8685557047526 and parameters: {'learning_rate': 0.2582059894532886, 'max_depth': 9, 'min_child_weight': 8, 'subsample': 0.9702982403782114, 'colsample_bytree': 0.9875235650686135, 'lambda': 89.05089804083278, 'alpha': 79.32595676199743, 'gamma': 3.5163349117149134, 'grow_policy': 'depthwise', 'num_boost_round': 2000}. Best is trial 4 with value: 45.3928108215332.\n",
      "[I 2025-06-07 14:07:07,559] Trial 17 finished with value: 47.54546991984049 and parameters: {'learning_rate': 0.1959970465107387, 'max_depth': 12, 'min_child_weight': 5, 'subsample': 0.9876748394480392, 'colsample_bytree': 0.8558400041898797, 'lambda': 42.57342742857602, 'alpha': 17.372448201208385, 'gamma': 4.094841058027252, 'grow_policy': 'depthwise', 'num_boost_round': 1000}. Best is trial 4 with value: 45.3928108215332.\n",
      "[I 2025-06-07 14:08:11,452] Trial 18 finished with value: 47.94871520996094 and parameters: {'learning_rate': 0.19623490654980183, 'max_depth': 9, 'min_child_weight': 16, 'subsample': 0.9142445487839052, 'colsample_bytree': 0.7296212958589933, 'lambda': 27.52072106429954, 'alpha': 61.16334299289537, 'gamma': 5.036669010239535, 'grow_policy': 'depthwise', 'num_boost_round': 500}. Best is trial 4 with value: 45.3928108215332.\n",
      "[I 2025-06-07 14:10:51,243] Trial 19 finished with value: 47.68159739176432 and parameters: {'learning_rate': 0.09288578853582413, 'max_depth': 6, 'min_child_weight': 4, 'subsample': 0.9130579669772807, 'colsample_bytree': 0.6658576699974199, 'lambda': 79.59590382491189, 'alpha': 55.4017542045811, 'gamma': 7.604034975312347, 'grow_policy': 'lossguide', 'num_boost_round': 2000}. Best is trial 4 with value: 45.3928108215332.\n",
      "[I 2025-06-07 14:15:38,509] Trial 20 finished with value: 45.47987620035807 and parameters: {'learning_rate': 0.04340125472739046, 'max_depth': 7, 'min_child_weight': 8, 'subsample': 0.9230314955920678, 'colsample_bytree': 0.9402321054700159, 'lambda': 96.4178476760907, 'alpha': 51.696151373468936, 'gamma': 2.2822718427618116, 'grow_policy': 'lossguide', 'num_boost_round': 1500}. Best is trial 4 with value: 45.3928108215332.\n",
      "[I 2025-06-07 14:17:50,076] Trial 21 finished with value: 45.68170166015625 and parameters: {'learning_rate': 0.11156099752632867, 'max_depth': 10, 'min_child_weight': 19, 'subsample': 0.8039405811308308, 'colsample_bytree': 0.8632296070634342, 'lambda': 82.1502493525029, 'alpha': 34.63272958666789, 'gamma': 3.8534239030835518, 'grow_policy': 'depthwise', 'num_boost_round': 1000}. Best is trial 4 with value: 45.3928108215332.\n",
      "[I 2025-06-07 14:26:14,923] Trial 22 finished with value: 47.417972564697266 and parameters: {'learning_rate': 0.1997655158592045, 'max_depth': 11, 'min_child_weight': 20, 'subsample': 0.7527044889381826, 'colsample_bytree': 0.9628331110863932, 'lambda': 97.43394501960066, 'alpha': 18.703424352113483, 'gamma': 0.22027995953121893, 'grow_policy': 'lossguide', 'num_boost_round': 500}. Best is trial 4 with value: 45.3928108215332.\n",
      "[I 2025-06-07 14:28:54,114] Trial 23 finished with value: 49.55743916829427 and parameters: {'learning_rate': 0.055384109371849975, 'max_depth': 5, 'min_child_weight': 10, 'subsample': 0.7165833530121593, 'colsample_bytree': 0.9534060391171492, 'lambda': 51.928804061130464, 'alpha': 64.03799960037301, 'gamma': 7.478822515800837, 'grow_policy': 'lossguide', 'num_boost_round': 1500}. Best is trial 4 with value: 45.3928108215332.\n",
      "[I 2025-06-07 14:30:21,167] Trial 24 finished with value: 47.869988759358726 and parameters: {'learning_rate': 0.1892200891607726, 'max_depth': 12, 'min_child_weight': 15, 'subsample': 0.8263953022025886, 'colsample_bytree': 0.9524029900219164, 'lambda': 93.89404300471747, 'alpha': 84.72603987091517, 'gamma': 0.8717844013719651, 'grow_policy': 'depthwise', 'num_boost_round': 500}. Best is trial 4 with value: 45.3928108215332.\n",
      "[I 2025-06-07 14:33:33,984] Trial 25 finished with value: 46.33886591593424 and parameters: {'learning_rate': 0.12102124509759615, 'max_depth': 9, 'min_child_weight': 3, 'subsample': 0.5870189957373799, 'colsample_bytree': 0.9569074193672998, 'lambda': 33.121554663507915, 'alpha': 20.3557428648607, 'gamma': 7.5337050808512815, 'grow_policy': 'lossguide', 'num_boost_round': 1000}. Best is trial 4 with value: 45.3928108215332.\n",
      "[I 2025-06-07 14:37:58,823] Trial 26 finished with value: 45.75163014729818 and parameters: {'learning_rate': 0.08534879720259012, 'max_depth': 6, 'min_child_weight': 20, 'subsample': 0.9160336640377669, 'colsample_bytree': 0.8771020550690517, 'lambda': 67.0497694438551, 'alpha': 61.713079098792804, 'gamma': 2.009228835060729, 'grow_policy': 'lossguide', 'num_boost_round': 2500}. Best is trial 4 with value: 45.3928108215332.\n",
      "[I 2025-06-07 14:41:55,132] Trial 27 finished with value: 45.66250864664713 and parameters: {'learning_rate': 0.11723728854539403, 'max_depth': 10, 'min_child_weight': 3, 'subsample': 0.7750532418466994, 'colsample_bytree': 0.9830080522703615, 'lambda': 48.632684487925474, 'alpha': 67.66450012689664, 'gamma': 5.598342099673643, 'grow_policy': 'lossguide', 'num_boost_round': 1000}. Best is trial 4 with value: 45.3928108215332.\n",
      "[I 2025-06-07 14:47:19,945] Trial 28 finished with value: 45.0759162902832 and parameters: {'learning_rate': 0.06423491881228365, 'max_depth': 8, 'min_child_weight': 14, 'subsample': 0.7648218902451351, 'colsample_bytree': 0.8077006092387322, 'lambda': 81.91905926244438, 'alpha': 62.931674289829, 'gamma': 4.937141896055204, 'grow_policy': 'lossguide', 'num_boost_round': 2000}. Best is trial 28 with value: 45.0759162902832.\n",
      "[I 2025-06-07 14:52:40,495] Trial 29 finished with value: 46.29171371459961 and parameters: {'learning_rate': 0.07805604235756741, 'max_depth': 11, 'min_child_weight': 9, 'subsample': 0.7610936193694555, 'colsample_bytree': 0.7191104684368673, 'lambda': 65.83374781610328, 'alpha': 77.1488278388513, 'gamma': 5.066344976679765, 'grow_policy': 'lossguide', 'num_boost_round': 2000}. Best is trial 28 with value: 45.0759162902832.\n",
      "[I 2025-06-07 14:58:25,201] Trial 30 finished with value: 45.327157974243164 and parameters: {'learning_rate': 0.044962402948322405, 'max_depth': 10, 'min_child_weight': 11, 'subsample': 0.7868063487487781, 'colsample_bytree': 0.9262780689991492, 'lambda': 15.820160371750212, 'alpha': 48.37954455430622, 'gamma': 8.837249583786935, 'grow_policy': 'lossguide', 'num_boost_round': 1000}. Best is trial 28 with value: 45.0759162902832.\n",
      "[I 2025-06-07 15:02:11,916] Trial 31 finished with value: 45.84987767537435 and parameters: {'learning_rate': 0.06674611598174388, 'max_depth': 8, 'min_child_weight': 13, 'subsample': 0.739761268124183, 'colsample_bytree': 0.8237851782219517, 'lambda': 6.342268659739327, 'alpha': 29.665731459292836, 'gamma': 8.698179744489995, 'grow_policy': 'lossguide', 'num_boost_round': 1000}. Best is trial 28 with value: 45.0759162902832.\n",
      "[I 2025-06-07 15:04:17,256] Trial 32 finished with value: 45.56397374471029 and parameters: {'learning_rate': 0.06282479213880363, 'max_depth': 12, 'min_child_weight': 9, 'subsample': 0.9294239406387508, 'colsample_bytree': 0.9384308668445595, 'lambda': 12.910992826315315, 'alpha': 23.784898301326706, 'gamma': 9.344999190073253, 'grow_policy': 'depthwise', 'num_boost_round': 1000}. Best is trial 28 with value: 45.0759162902832.\n",
      "[I 2025-06-07 15:11:57,061] Trial 33 finished with value: 44.988145192464195 and parameters: {'learning_rate': 0.035892455850372935, 'max_depth': 8, 'min_child_weight': 13, 'subsample': 0.7715609987211554, 'colsample_bytree': 0.7728619669299059, 'lambda': 96.5801484640685, 'alpha': 74.38654235137253, 'gamma': 4.957268925890019, 'grow_policy': 'lossguide', 'num_boost_round': 2500}. Best is trial 33 with value: 44.988145192464195.\n",
      "[I 2025-06-07 15:16:01,648] Trial 34 finished with value: 46.149346669514976 and parameters: {'learning_rate': 0.0583042744188294, 'max_depth': 8, 'min_child_weight': 9, 'subsample': 0.835361848695809, 'colsample_bytree': 0.8551345753683169, 'lambda': 99.05486639484968, 'alpha': 66.15134881923866, 'gamma': 6.66238739885636, 'grow_policy': 'lossguide', 'num_boost_round': 2500}. Best is trial 33 with value: 44.988145192464195.\n",
      "[I 2025-06-07 15:22:21,205] Trial 35 finished with value: 45.13117345174154 and parameters: {'learning_rate': 0.06857685016672377, 'max_depth': 8, 'min_child_weight': 14, 'subsample': 0.6802228265679997, 'colsample_bytree': 0.7507965445715785, 'lambda': 66.35660209721345, 'alpha': 48.853298920613746, 'gamma': 4.966630519868751, 'grow_policy': 'lossguide', 'num_boost_round': 2500}. Best is trial 33 with value: 44.988145192464195.\n",
      "[I 2025-06-07 15:27:06,893] Trial 36 finished with value: 46.29581960042318 and parameters: {'learning_rate': 0.12117932459327124, 'max_depth': 9, 'min_child_weight': 14, 'subsample': 0.6148126784102164, 'colsample_bytree': 0.8145185667598818, 'lambda': 65.83854796416588, 'alpha': 40.08097920981205, 'gamma': 3.3358706915237857, 'grow_policy': 'lossguide', 'num_boost_round': 2500}. Best is trial 33 with value: 44.988145192464195.\n",
      "[I 2025-06-07 15:31:47,381] Trial 37 finished with value: 46.90038553873698 and parameters: {'learning_rate': 0.053198305197369906, 'max_depth': 6, 'min_child_weight': 11, 'subsample': 0.7118126308211623, 'colsample_bytree': 0.7874962396535024, 'lambda': 61.45400143955544, 'alpha': 97.16717103733058, 'gamma': 5.229812052662219, 'grow_policy': 'lossguide', 'num_boost_round': 2500}. Best is trial 33 with value: 44.988145192464195.\n",
      "[I 2025-06-07 15:41:39,504] Trial 38 finished with value: 45.429423014322914 and parameters: {'learning_rate': 0.04110691970092991, 'max_depth': 8, 'min_child_weight': 12, 'subsample': 0.7271374878225647, 'colsample_bytree': 0.7107637517629574, 'lambda': 82.4298240803522, 'alpha': 61.48058908189251, 'gamma': 0.4051457444936677, 'grow_policy': 'lossguide', 'num_boost_round': 2500}. Best is trial 33 with value: 44.988145192464195.\n",
      "[I 2025-06-07 15:47:54,674] Trial 39 finished with value: 45.931715647379555 and parameters: {'learning_rate': 0.07182344385816393, 'max_depth': 10, 'min_child_weight': 15, 'subsample': 0.7355805508278755, 'colsample_bytree': 0.6901010368893328, 'lambda': 97.32077131402238, 'alpha': 71.59050289259275, 'gamma': 5.464223277669885, 'grow_policy': 'lossguide', 'num_boost_round': 2500}. Best is trial 33 with value: 44.988145192464195.\n",
      "[I 2025-06-07 15:52:43,448] Trial 40 finished with value: 46.47530619303385 and parameters: {'learning_rate': 0.04072153648651481, 'max_depth': 11, 'min_child_weight': 17, 'subsample': 0.8360859536155233, 'colsample_bytree': 0.9525496181003085, 'lambda': 24.100852457448674, 'alpha': 43.75396170599923, 'gamma': 9.594085684883362, 'grow_policy': 'lossguide', 'num_boost_round': 500}. Best is trial 33 with value: 44.988145192464195.\n",
      "[I 2025-06-07 15:58:15,236] Trial 41 finished with value: 45.421793619791664 and parameters: {'learning_rate': 0.05117588695164528, 'max_depth': 9, 'min_child_weight': 11, 'subsample': 0.5486560872588286, 'colsample_bytree': 0.7308394633693946, 'lambda': 56.288583179296005, 'alpha': 35.193579032090724, 'gamma': 7.9089928018746285, 'grow_policy': 'lossguide', 'num_boost_round': 2500}. Best is trial 33 with value: 44.988145192464195.\n",
      "[I 2025-06-07 16:00:23,877] Trial 42 finished with value: 46.300306955973305 and parameters: {'learning_rate': 0.1434965220707262, 'max_depth': 8, 'min_child_weight': 10, 'subsample': 0.6294035620257595, 'colsample_bytree': 0.9898193308301005, 'lambda': 21.98837282213797, 'alpha': 65.58729389181055, 'gamma': 8.740720403175635, 'grow_policy': 'lossguide', 'num_boost_round': 1500}. Best is trial 33 with value: 44.988145192464195.\n",
      "[I 2025-06-07 16:02:23,303] Trial 43 finished with value: 45.39899190266927 and parameters: {'learning_rate': 0.05956472931075398, 'max_depth': 9, 'min_child_weight': 5, 'subsample': 0.7332437441254901, 'colsample_bytree': 0.9786354358110446, 'lambda': 33.45799964783576, 'alpha': 42.0622041531128, 'gamma': 8.485366333526146, 'grow_policy': 'depthwise', 'num_boost_round': 1000}. Best is trial 33 with value: 44.988145192464195.\n",
      "[I 2025-06-07 16:08:13,784] Trial 44 finished with value: 45.29146830240885 and parameters: {'learning_rate': 0.06384671478322781, 'max_depth': 11, 'min_child_weight': 10, 'subsample': 0.6827188200697569, 'colsample_bytree': 0.9996250418798458, 'lambda': 20.058041204723878, 'alpha': 66.42408282348512, 'gamma': 7.278944519716346, 'grow_policy': 'lossguide', 'num_boost_round': 1000}. Best is trial 33 with value: 44.988145192464195.\n",
      "[I 2025-06-07 16:12:04,520] Trial 45 finished with value: 47.11156463623047 and parameters: {'learning_rate': 0.07833506637243617, 'max_depth': 6, 'min_child_weight': 16, 'subsample': 0.7095488886071193, 'colsample_bytree': 0.6549659598846566, 'lambda': 63.89043186373939, 'alpha': 58.38854214152136, 'gamma': 6.087360613038871, 'grow_policy': 'lossguide', 'num_boost_round': 2000}. Best is trial 33 with value: 44.988145192464195.\n",
      "[I 2025-06-07 16:17:00,889] Trial 46 finished with value: 45.989566802978516 and parameters: {'learning_rate': 0.09182307332091563, 'max_depth': 12, 'min_child_weight': 9, 'subsample': 0.5248085450539277, 'colsample_bytree': 0.9180774173387307, 'lambda': 42.54147039915552, 'alpha': 79.63258210630588, 'gamma': 6.87192169250872, 'grow_policy': 'lossguide', 'num_boost_round': 1000}. Best is trial 33 with value: 44.988145192464195.\n",
      "[I 2025-06-07 16:22:41,867] Trial 47 finished with value: 44.95711708068848 and parameters: {'learning_rate': 0.062288574347000095, 'max_depth': 9, 'min_child_weight': 12, 'subsample': 0.8022768620890539, 'colsample_bytree': 0.9973382869676332, 'lambda': 12.456565114615218, 'alpha': 41.94376531290102, 'gamma': 4.411421622683379, 'grow_policy': 'lossguide', 'num_boost_round': 1000}. Best is trial 47 with value: 44.95711708068848.\n",
      "[I 2025-06-07 16:29:51,665] Trial 48 finished with value: 46.00433095296224 and parameters: {'learning_rate': 0.12505023175113134, 'max_depth': 11, 'min_child_weight': 11, 'subsample': 0.8763502508973803, 'colsample_bytree': 0.995549813446875, 'lambda': 29.922355810439754, 'alpha': 12.056178706564172, 'gamma': 2.7139848522183834, 'grow_policy': 'lossguide', 'num_boost_round': 500}. Best is trial 47 with value: 44.95711708068848.\n",
      "[I 2025-06-07 16:35:34,709] Trial 49 finished with value: 45.012804667154946 and parameters: {'learning_rate': 0.057590686298631115, 'max_depth': 8, 'min_child_weight': 13, 'subsample': 0.7641547038630949, 'colsample_bytree': 0.9405491140810583, 'lambda': 19.825939802480505, 'alpha': 36.97043341077862, 'gamma': 3.552977324512736, 'grow_policy': 'lossguide', 'num_boost_round': 1500}. Best is trial 47 with value: 44.95711708068848.\n",
      "[I 2025-06-07 16:45:02,589] Trial 50 finished with value: 44.37851079305013 and parameters: {'learning_rate': 0.044417013699730445, 'max_depth': 8, 'min_child_weight': 15, 'subsample': 0.8394724610849102, 'colsample_bytree': 0.8848648800194928, 'lambda': 30.676694572509557, 'alpha': 30.060224791173354, 'gamma': 1.3967183757913442, 'grow_policy': 'lossguide', 'num_boost_round': 2000}. Best is trial 50 with value: 44.37851079305013.\n",
      "[I 2025-06-07 16:50:35,857] Trial 51 finished with value: 45.2790781656901 and parameters: {'learning_rate': 0.08200719692177708, 'max_depth': 7, 'min_child_weight': 17, 'subsample': 0.9610029601075916, 'colsample_bytree': 0.8084525678818407, 'lambda': 14.349284636729195, 'alpha': 33.50245032908865, 'gamma': 1.2013348966229347, 'grow_policy': 'lossguide', 'num_boost_round': 2000}. Best is trial 50 with value: 44.37851079305013.\n",
      "[I 2025-06-07 16:54:53,334] Trial 52 finished with value: 45.86098098754883 and parameters: {'learning_rate': 0.0646111308610038, 'max_depth': 6, 'min_child_weight': 14, 'subsample': 0.7298233499651647, 'colsample_bytree': 0.9862815476847664, 'lambda': 26.294729705316197, 'alpha': 17.437920645678194, 'gamma': 2.4337420128925675, 'grow_policy': 'lossguide', 'num_boost_round': 2000}. Best is trial 50 with value: 44.37851079305013.\n",
      "[I 2025-06-07 16:59:08,896] Trial 53 finished with value: 46.020581563313804 and parameters: {'learning_rate': 0.08363136680408172, 'max_depth': 10, 'min_child_weight': 17, 'subsample': 0.8007436772824366, 'colsample_bytree': 0.8266875524577997, 'lambda': 94.499324339477, 'alpha': 94.709363723931, 'gamma': 6.1669446742692955, 'grow_policy': 'lossguide', 'num_boost_round': 1000}. Best is trial 50 with value: 44.37851079305013.\n",
      "[I 2025-06-07 17:09:16,032] Trial 54 finished with value: 44.168251037597656 and parameters: {'learning_rate': 0.06585064028824182, 'max_depth': 9, 'min_child_weight': 12, 'subsample': 0.8460952985849817, 'colsample_bytree': 0.9413603032073081, 'lambda': 58.45126637962708, 'alpha': 21.534975155540117, 'gamma': 3.166451658584861, 'grow_policy': 'lossguide', 'num_boost_round': 2000}. Best is trial 54 with value: 44.168251037597656.\n",
      "[I 2025-06-07 17:20:59,890] Trial 55 finished with value: 44.83261489868164 and parameters: {'learning_rate': 0.03774896788162842, 'max_depth': 9, 'min_child_weight': 14, 'subsample': 0.8206198590893894, 'colsample_bytree': 0.8226073540919995, 'lambda': 30.77765727430042, 'alpha': 55.28195863875547, 'gamma': 0.037686360994947155, 'grow_policy': 'lossguide', 'num_boost_round': 1500}. Best is trial 54 with value: 44.168251037597656.\n",
      "[I 2025-06-07 17:27:07,444] Trial 56 finished with value: 45.421853383382164 and parameters: {'learning_rate': 0.089896871641607, 'max_depth': 9, 'min_child_weight': 13, 'subsample': 0.7778276948048868, 'colsample_bytree': 0.8437675086694796, 'lambda': 25.17299360288061, 'alpha': 54.652507945434, 'gamma': 0.4404491427040157, 'grow_policy': 'lossguide', 'num_boost_round': 1000}. Best is trial 54 with value: 44.168251037597656.\n",
      "[I 2025-06-07 17:30:41,053] Trial 57 finished with value: 45.215813954671226 and parameters: {'learning_rate': 0.08280737727189316, 'max_depth': 11, 'min_child_weight': 11, 'subsample': 0.8327525260396984, 'colsample_bytree': 0.9636543556767299, 'lambda': 17.96956698136686, 'alpha': 28.861481764330733, 'gamma': 0.3341572889013882, 'grow_policy': 'depthwise', 'num_boost_round': 2000}. Best is trial 54 with value: 44.168251037597656.\n",
      "[I 2025-06-07 17:35:19,110] Trial 58 finished with value: 45.62254969278971 and parameters: {'learning_rate': 0.08342521089673839, 'max_depth': 8, 'min_child_weight': 16, 'subsample': 0.8847673593220187, 'colsample_bytree': 0.9894993836441535, 'lambda': 9.832838710744188, 'alpha': 49.32087192418342, 'gamma': 3.9209756171583923, 'grow_policy': 'lossguide', 'num_boost_round': 1500}. Best is trial 54 with value: 44.168251037597656.\n",
      "[I 2025-06-07 17:45:38,023] Trial 59 finished with value: 44.69832992553711 and parameters: {'learning_rate': 0.045978268943229594, 'max_depth': 10, 'min_child_weight': 13, 'subsample': 0.7301760367678918, 'colsample_bytree': 0.9586996563626171, 'lambda': 5.442069927156698, 'alpha': 28.99057536708534, 'gamma': 2.980256237132595, 'grow_policy': 'lossguide', 'num_boost_round': 1000}. Best is trial 54 with value: 44.168251037597656.\n",
      "[I 2025-06-07 17:52:34,689] Trial 60 finished with value: 45.13366826375326 and parameters: {'learning_rate': 0.04939033990127212, 'max_depth': 8, 'min_child_weight': 9, 'subsample': 0.9560087000535682, 'colsample_bytree': 0.9514912517368359, 'lambda': 46.22248516997777, 'alpha': 15.397362004556594, 'gamma': 3.5267233300672927, 'grow_policy': 'lossguide', 'num_boost_round': 2500}. Best is trial 54 with value: 44.168251037597656.\n",
      "[I 2025-06-07 18:02:12,669] Trial 61 finished with value: 45.29329299926758 and parameters: {'learning_rate': 0.07288149809910809, 'max_depth': 9, 'min_child_weight': 7, 'subsample': 0.7044224216339481, 'colsample_bytree': 0.9974372273775904, 'lambda': 67.38471135896152, 'alpha': 22.992850867673468, 'gamma': 1.5269275282003716, 'grow_policy': 'lossguide', 'num_boost_round': 2000}. Best is trial 54 with value: 44.168251037597656.\n",
      "[I 2025-06-07 18:05:52,668] Trial 62 finished with value: 45.88176345825195 and parameters: {'learning_rate': 0.08058968582458172, 'max_depth': 9, 'min_child_weight': 17, 'subsample': 0.6510977889334746, 'colsample_bytree': 0.9728035292954548, 'lambda': 22.40402250737645, 'alpha': 33.060447442079216, 'gamma': 2.0901489356068383, 'grow_policy': 'lossguide', 'num_boost_round': 500}. Best is trial 54 with value: 44.168251037597656.\n",
      "[I 2025-06-07 18:33:13,575] Trial 63 finished with value: 44.88309097290039 and parameters: {'learning_rate': 0.06223066418832174, 'max_depth': 12, 'min_child_weight': 14, 'subsample': 0.923188786339636, 'colsample_bytree': 0.854348490681284, 'lambda': 26.554422796515077, 'alpha': 46.16914736695622, 'gamma': 0.20777722104507043, 'grow_policy': 'lossguide', 'num_boost_round': 1500}. Best is trial 54 with value: 44.168251037597656.\n",
      "[I 2025-06-07 18:35:34,732] Trial 64 finished with value: 45.66216913859049 and parameters: {'learning_rate': 0.06747753263902041, 'max_depth': 9, 'min_child_weight': 16, 'subsample': 0.9305072875822373, 'colsample_bytree': 0.8528858743163398, 'lambda': 42.1128703048316, 'alpha': 87.94384149730001, 'gamma': 1.7518910662197793, 'grow_policy': 'depthwise', 'num_boost_round': 1000}. Best is trial 54 with value: 44.168251037597656.\n",
      "[I 2025-06-07 18:45:59,967] Trial 65 finished with value: 45.509595235188804 and parameters: {'learning_rate': 0.09266665825223909, 'max_depth': 12, 'min_child_weight': 14, 'subsample': 0.9961601987330402, 'colsample_bytree': 0.8949234828469528, 'lambda': 35.91437258664942, 'alpha': 70.55218053194537, 'gamma': 1.7641182097544892, 'grow_policy': 'lossguide', 'num_boost_round': 2000}. Best is trial 54 with value: 44.168251037597656.\n",
      "[I 2025-06-07 19:05:55,732] Trial 66 finished with value: 44.91142781575521 and parameters: {'learning_rate': 0.07255807900495242, 'max_depth': 12, 'min_child_weight': 15, 'subsample': 0.9125000728736584, 'colsample_bytree': 0.8097857673605501, 'lambda': 7.222856782660706, 'alpha': 47.822992518322394, 'gamma': 1.4630163227791824, 'grow_policy': 'lossguide', 'num_boost_round': 1500}. Best is trial 54 with value: 44.168251037597656.\n",
      "[I 2025-06-07 19:09:08,286] Trial 67 finished with value: 46.0458132425944 and parameters: {'learning_rate': 0.11330201862408851, 'max_depth': 12, 'min_child_weight': 20, 'subsample': 0.7858358141451389, 'colsample_bytree': 0.7183692057353258, 'lambda': 11.707902661301599, 'alpha': 47.0778016420868, 'gamma': 0.00013861330460995802, 'grow_policy': 'depthwise', 'num_boost_round': 1000}. Best is trial 54 with value: 44.168251037597656.\n",
      "[I 2025-06-07 19:18:58,346] Trial 68 finished with value: 45.900803883870445 and parameters: {'learning_rate': 0.10017536691925773, 'max_depth': 12, 'min_child_weight': 17, 'subsample': 0.9330481084852761, 'colsample_bytree': 0.7834627208277, 'lambda': 0.33704204505099167, 'alpha': 39.38452309030284, 'gamma': 3.3163142629233207, 'grow_policy': 'lossguide', 'num_boost_round': 1500}. Best is trial 54 with value: 44.168251037597656.\n",
      "[I 2025-06-07 19:29:40,582] Trial 69 finished with value: 44.67974726359049 and parameters: {'learning_rate': 0.04720632648482517, 'max_depth': 10, 'min_child_weight': 11, 'subsample': 0.5717245900377046, 'colsample_bytree': 0.972930721266275, 'lambda': 0.812232323790318, 'alpha': 24.855780868020716, 'gamma': 2.346220733002324, 'grow_policy': 'lossguide', 'num_boost_round': 1000}. Best is trial 54 with value: 44.168251037597656.\n",
      "[I 2025-06-07 19:44:04,023] Trial 70 finished with value: 45.18937428792318 and parameters: {'learning_rate': 0.04209493152582238, 'max_depth': 11, 'min_child_weight': 9, 'subsample': 0.6220293364093876, 'colsample_bytree': 0.9187623984527349, 'lambda': 16.337103812824992, 'alpha': 18.265655021592263, 'gamma': 3.0138754343750676, 'grow_policy': 'lossguide', 'num_boost_round': 1000}. Best is trial 54 with value: 44.168251037597656.\n",
      "[I 2025-06-07 19:48:00,687] Trial 71 finished with value: 46.02178955078125 and parameters: {'learning_rate': 0.0379927321298934, 'max_depth': 6, 'min_child_weight': 13, 'subsample': 0.8672871834399215, 'colsample_bytree': 0.8186939219203344, 'lambda': 50.452827543586636, 'alpha': 24.591634458374223, 'gamma': 0.2035457592529566, 'grow_policy': 'depthwise', 'num_boost_round': 2500}. Best is trial 54 with value: 44.168251037597656.\n",
      "[I 2025-06-07 20:04:09,047] Trial 72 finished with value: 45.104591369628906 and parameters: {'learning_rate': 0.07836151306338239, 'max_depth': 11, 'min_child_weight': 16, 'subsample': 0.9732237355290545, 'colsample_bytree': 0.9017605166227098, 'lambda': 12.04254847195421, 'alpha': 33.18721035128174, 'gamma': 0.24978700994992695, 'grow_policy': 'lossguide', 'num_boost_round': 1000}. Best is trial 54 with value: 44.168251037597656.\n",
      "[I 2025-06-07 20:08:00,773] Trial 73 finished with value: 47.99822870890299 and parameters: {'learning_rate': 0.03409142646743013, 'max_depth': 9, 'min_child_weight': 14, 'subsample': 0.512176553847524, 'colsample_bytree': 0.7755750934123594, 'lambda': 0.7450458768042911, 'alpha': 29.735002598095534, 'gamma': 1.3148486967310666, 'grow_policy': 'lossguide', 'num_boost_round': 500}. Best is trial 54 with value: 44.168251037597656.\n",
      "[I 2025-06-07 20:08:56,754] Trial 74 finished with value: 47.926405588785805 and parameters: {'learning_rate': 0.08606423927709206, 'max_depth': 7, 'min_child_weight': 9, 'subsample': 0.6738554572844878, 'colsample_bytree': 0.9265800307946076, 'lambda': 0.909934740649005, 'alpha': 33.527621439101104, 'gamma': 3.5073006393961905, 'grow_policy': 'depthwise', 'num_boost_round': 500}. Best is trial 54 with value: 44.168251037597656.\n",
      "[I 2025-06-07 20:29:07,114] Trial 75 finished with value: 44.21077919006348 and parameters: {'learning_rate': 0.03859542393015722, 'max_depth': 10, 'min_child_weight': 16, 'subsample': 0.7736037463060746, 'colsample_bytree': 0.8822494574308561, 'lambda': 10.92544632761268, 'alpha': 50.87447297599584, 'gamma': 0.8994789210537179, 'grow_policy': 'lossguide', 'num_boost_round': 2500}. Best is trial 54 with value: 44.168251037597656.\n",
      "[I 2025-06-07 20:35:33,243] Trial 76 finished with value: 45.33769607543945 and parameters: {'learning_rate': 0.0721603633150765, 'max_depth': 8, 'min_child_weight': 20, 'subsample': 0.6031089472500594, 'colsample_bytree': 0.9135748383883673, 'lambda': 9.258421050212718, 'alpha': 89.86158727936476, 'gamma': 0.4247624335142446, 'grow_policy': 'lossguide', 'num_boost_round': 2000}. Best is trial 54 with value: 44.168251037597656.\n",
      "[I 2025-06-07 20:48:51,795] Trial 77 finished with value: 44.967140197753906 and parameters: {'learning_rate': 0.07664957620193785, 'max_depth': 11, 'min_child_weight': 14, 'subsample': 0.5515503875582073, 'colsample_bytree': 0.9499035596921159, 'lambda': 12.719132776641166, 'alpha': 48.612505694808235, 'gamma': 1.3057734412741326, 'grow_policy': 'lossguide', 'num_boost_round': 2500}. Best is trial 54 with value: 44.168251037597656.\n",
      "[I 2025-06-07 21:15:52,838] Trial 78 finished with value: 44.801092783610024 and parameters: {'learning_rate': 0.06359929106576645, 'max_depth': 12, 'min_child_weight': 19, 'subsample': 0.7604314827546678, 'colsample_bytree': 0.947622795182114, 'lambda': 4.237842390152025, 'alpha': 31.55825006360625, 'gamma': 0.25815320080370174, 'grow_policy': 'lossguide', 'num_boost_round': 2500}. Best is trial 54 with value: 44.168251037597656.\n",
      "[I 2025-06-07 21:26:49,146] Trial 79 finished with value: 46.072828928629555 and parameters: {'learning_rate': 0.12525393231615675, 'max_depth': 11, 'min_child_weight': 17, 'subsample': 0.7163373193810779, 'colsample_bytree': 0.7765713121315283, 'lambda': 12.21608839291497, 'alpha': 1.412428875409912, 'gamma': 0.8625626377177604, 'grow_policy': 'lossguide', 'num_boost_round': 2000}. Best is trial 54 with value: 44.168251037597656.\n",
      "[I 2025-06-07 21:38:38,503] Trial 80 finished with value: 45.150230407714844 and parameters: {'learning_rate': 0.07317245610371995, 'max_depth': 10, 'min_child_weight': 14, 'subsample': 0.7672279307088709, 'colsample_bytree': 0.9419298457955869, 'lambda': 21.752069441739625, 'alpha': 60.32286964079329, 'gamma': 1.0884477316600634, 'grow_policy': 'lossguide', 'num_boost_round': 2500}. Best is trial 54 with value: 44.168251037597656.\n",
      "[I 2025-06-07 21:49:41,554] Trial 81 finished with value: 45.45718256632487 and parameters: {'learning_rate': 0.10509238541261513, 'max_depth': 12, 'min_child_weight': 20, 'subsample': 0.8216394139348211, 'colsample_bytree': 0.9697940334079496, 'lambda': 2.2454800747146306, 'alpha': 44.90849840204788, 'gamma': 2.5956903778143063, 'grow_policy': 'lossguide', 'num_boost_round': 2500}. Best is trial 54 with value: 44.168251037597656.\n",
      "[I 2025-06-07 22:19:46,321] Trial 82 finished with value: 44.84736124674479 and parameters: {'learning_rate': 0.05676229164335038, 'max_depth': 12, 'min_child_weight': 10, 'subsample': 0.9427666000589933, 'colsample_bytree': 0.7778066725102728, 'lambda': 38.26990258394914, 'alpha': 46.082415549140244, 'gamma': 0.7321586448764158, 'grow_policy': 'lossguide', 'num_boost_round': 1500}. Best is trial 54 with value: 44.168251037597656.\n",
      "[I 2025-06-07 22:37:42,537] Trial 83 finished with value: 45.57530212402344 and parameters: {'learning_rate': 0.0633218274041512, 'max_depth': 12, 'min_child_weight': 4, 'subsample': 0.9837418742980258, 'colsample_bytree': 0.7179046766995815, 'lambda': 40.34804739668331, 'alpha': 18.784373221701735, 'gamma': 3.413990937484761, 'grow_policy': 'lossguide', 'num_boost_round': 1000}. Best is trial 54 with value: 44.168251037597656.\n",
      "[I 2025-06-07 22:48:20,846] Trial 84 finished with value: 45.72568384806315 and parameters: {'learning_rate': 0.054734962062301454, 'max_depth': 10, 'min_child_weight': 11, 'subsample': 0.9321506114302446, 'colsample_bytree': 0.7979866651827929, 'lambda': 66.62123969842094, 'alpha': 58.89784136165132, 'gamma': 0.5735142593823755, 'grow_policy': 'lossguide', 'num_boost_round': 1000}. Best is trial 54 with value: 44.168251037597656.\n",
      "[I 2025-06-07 23:04:31,937] Trial 85 finished with value: 45.55993779500326 and parameters: {'learning_rate': 0.10191409452424124, 'max_depth': 12, 'min_child_weight': 6, 'subsample': 0.8351472013267207, 'colsample_bytree': 0.7648458664236909, 'lambda': 46.929587590344404, 'alpha': 47.14369546006373, 'gamma': 2.222035414965965, 'grow_policy': 'lossguide', 'num_boost_round': 1500}. Best is trial 54 with value: 44.168251037597656.\n",
      "[I 2025-06-07 23:21:51,852] Trial 86 finished with value: 44.882851918538414 and parameters: {'learning_rate': 0.034091452921093016, 'max_depth': 11, 'min_child_weight': 15, 'subsample': 0.6964301705576511, 'colsample_bytree': 0.6651044921918834, 'lambda': 51.77404478973749, 'alpha': 72.60966302137639, 'gamma': 1.3663308017661329, 'grow_policy': 'lossguide', 'num_boost_round': 1500}. Best is trial 54 with value: 44.168251037597656.\n",
      "[I 2025-06-07 23:35:23,036] Trial 87 finished with value: 45.98638788859049 and parameters: {'learning_rate': 0.04915113161647599, 'max_depth': 11, 'min_child_weight': 7, 'subsample': 0.5823913972491742, 'colsample_bytree': 0.7230586255200842, 'lambda': 30.360946471340394, 'alpha': 79.98468522799419, 'gamma': 2.041193443742471, 'grow_policy': 'lossguide', 'num_boost_round': 1500}. Best is trial 54 with value: 44.168251037597656.\n",
      "[I 2025-06-07 23:49:27,027] Trial 88 finished with value: 45.02408218383789 and parameters: {'learning_rate': 0.05976817999263884, 'max_depth': 10, 'min_child_weight': 20, 'subsample': 0.6298148109025542, 'colsample_bytree': 0.5261411672684527, 'lambda': 37.54511497206305, 'alpha': 38.158932518336016, 'gamma': 2.4725166174909337, 'grow_policy': 'lossguide', 'num_boost_round': 1500}. Best is trial 54 with value: 44.168251037597656.\n",
      "[I 2025-06-08 00:00:53,339] Trial 89 finished with value: 47.56617228190104 and parameters: {'learning_rate': 0.10956915412852569, 'max_depth': 12, 'min_child_weight': 11, 'subsample': 0.7048635792664804, 'colsample_bytree': 0.6456770420675407, 'lambda': 59.59382776072128, 'alpha': 96.02522986753664, 'gamma': 0.4906686091993002, 'grow_policy': 'lossguide', 'num_boost_round': 1500}. Best is trial 54 with value: 44.168251037597656.\n",
      "[I 2025-06-08 00:03:17,674] Trial 90 finished with value: 45.057081858317055 and parameters: {'learning_rate': 0.0357492588618249, 'max_depth': 9, 'min_child_weight': 16, 'subsample': 0.5208456325703975, 'colsample_bytree': 0.9493269648940337, 'lambda': 19.262706175587134, 'alpha': 31.54799673226183, 'gamma': 2.7849214982330244, 'grow_policy': 'depthwise', 'num_boost_round': 1000}. Best is trial 54 with value: 44.168251037597656.\n",
      "[I 2025-06-08 00:25:34,537] Trial 91 finished with value: 45.465676625569664 and parameters: {'learning_rate': 0.07111835619721774, 'max_depth': 11, 'min_child_weight': 18, 'subsample': 0.8750281570667304, 'colsample_bytree': 0.8168706703713126, 'lambda': 9.751525637009571, 'alpha': 19.74585705812158, 'gamma': 0.10838565369739275, 'grow_policy': 'lossguide', 'num_boost_round': 2500}. Best is trial 54 with value: 44.168251037597656.\n",
      "[I 2025-06-08 00:38:44,017] Trial 92 finished with value: 44.937608083089195 and parameters: {'learning_rate': 0.09244220503647063, 'max_depth': 11, 'min_child_weight': 14, 'subsample': 0.5977780306654474, 'colsample_bytree': 0.9810318665810084, 'lambda': 4.639182433432971, 'alpha': 27.380744503945472, 'gamma': 1.0014515316351726, 'grow_policy': 'lossguide', 'num_boost_round': 1000}. Best is trial 54 with value: 44.168251037597656.\n",
      "[I 2025-06-08 00:52:52,313] Trial 93 finished with value: 44.820489247639976 and parameters: {'learning_rate': 0.06734466070675602, 'max_depth': 10, 'min_child_weight': 17, 'subsample': 0.7163100540688064, 'colsample_bytree': 0.9557536533256563, 'lambda': 8.964062176142402, 'alpha': 13.889728364084917, 'gamma': 1.0409015862767173, 'grow_policy': 'lossguide', 'num_boost_round': 2500}. Best is trial 54 with value: 44.168251037597656.\n",
      "[I 2025-06-08 00:57:55,550] Trial 94 finished with value: 46.49252446492513 and parameters: {'learning_rate': 0.15675652841926668, 'max_depth': 9, 'min_child_weight': 19, 'subsample': 0.682910373272394, 'colsample_bytree': 0.999086906956652, 'lambda': 35.77226001882996, 'alpha': 32.06010814144409, 'gamma': 1.4607443443133121, 'grow_policy': 'lossguide', 'num_boost_round': 2500}. Best is trial 54 with value: 44.168251037597656.\n",
      "[I 2025-06-08 01:15:28,338] Trial 95 finished with value: 44.954864501953125 and parameters: {'learning_rate': 0.05999075282529018, 'max_depth': 12, 'min_child_weight': 15, 'subsample': 0.8591501459986677, 'colsample_bytree': 0.935417300903863, 'lambda': 64.66158229673755, 'alpha': 0.33547043717136305, 'gamma': 4.603415304990013, 'grow_policy': 'lossguide', 'num_boost_round': 2000}. Best is trial 54 with value: 44.168251037597656.\n",
      "[I 2025-06-08 01:32:52,915] Trial 96 finished with value: 44.08116086324056 and parameters: {'learning_rate': 0.03876143929687533, 'max_depth': 10, 'min_child_weight': 15, 'subsample': 0.6036800627210576, 'colsample_bytree': 0.9850053687946877, 'lambda': 0.8860473392127588, 'alpha': 14.228611523759795, 'gamma': 3.526361333846049, 'grow_policy': 'lossguide', 'num_boost_round': 2500}. Best is trial 96 with value: 44.08116086324056.\n",
      "[I 2025-06-08 02:02:03,980] Trial 97 finished with value: 44.97022374471029 and parameters: {'learning_rate': 0.0560693023543766, 'max_depth': 12, 'min_child_weight': 19, 'subsample': 0.6562152684132038, 'colsample_bytree': 0.9573632135884952, 'lambda': 17.459839583006342, 'alpha': 18.330152247726318, 'gamma': 0.8297052224447932, 'grow_policy': 'lossguide', 'num_boost_round': 2000}. Best is trial 96 with value: 44.08116086324056.\n",
      "[I 2025-06-08 02:12:25,278] Trial 98 finished with value: 45.433179219563804 and parameters: {'learning_rate': 0.07052103377869295, 'max_depth': 10, 'min_child_weight': 15, 'subsample': 0.6779371432049638, 'colsample_bytree': 0.8984984463895624, 'lambda': 3.9057164219938363, 'alpha': 26.15704987822422, 'gamma': 0.4319901353222815, 'grow_policy': 'lossguide', 'num_boost_round': 2500}. Best is trial 96 with value: 44.08116086324056.\n",
      "[I 2025-06-08 02:22:06,059] Trial 99 finished with value: 45.40686925252279 and parameters: {'learning_rate': 0.06445952526652922, 'max_depth': 10, 'min_child_weight': 10, 'subsample': 0.6598029842601234, 'colsample_bytree': 0.827298288168852, 'lambda': 19.30791251581589, 'alpha': 3.7654041829629143, 'gamma': 4.667877858757949, 'grow_policy': 'lossguide', 'num_boost_round': 2500}. Best is trial 96 with value: 44.08116086324056.\n",
      "[I 2025-06-08 02:32:23,388] Trial 100 finished with value: 44.74835205078125 and parameters: {'learning_rate': 0.06409723167511805, 'max_depth': 11, 'min_child_weight': 14, 'subsample': 0.6075907685987825, 'colsample_bytree': 0.9892354905791779, 'lambda': 9.346749143321695, 'alpha': 10.077721530167455, 'gamma': 5.714947620610172, 'grow_policy': 'lossguide', 'num_boost_round': 2500}. Best is trial 96 with value: 44.08116086324056.\n",
      "[I 2025-06-08 02:40:58,390] Trial 101 finished with value: 44.95476404825846 and parameters: {'learning_rate': 0.08040157188004834, 'max_depth': 12, 'min_child_weight': 18, 'subsample': 0.5616075578641238, 'colsample_bytree': 0.9592411639962737, 'lambda': 22.491872664068673, 'alpha': 10.093629483599972, 'gamma': 6.605204489124887, 'grow_policy': 'lossguide', 'num_boost_round': 2000}. Best is trial 96 with value: 44.08116086324056.\n",
      "[I 2025-06-08 02:51:14,632] Trial 102 finished with value: 45.099133809407554 and parameters: {'learning_rate': 0.04999336978436511, 'max_depth': 9, 'min_child_weight': 14, 'subsample': 0.5858168584997904, 'colsample_bytree': 0.9541183765550544, 'lambda': 18.923921429417117, 'alpha': 2.692576786150747, 'gamma': 3.12759875044657, 'grow_policy': 'lossguide', 'num_boost_round': 2500}. Best is trial 96 with value: 44.08116086324056.\n",
      "[I 2025-06-08 02:53:00,399] Trial 103 finished with value: 45.5923105875651 and parameters: {'learning_rate': 0.11911060715842509, 'max_depth': 9, 'min_child_weight': 11, 'subsample': 0.6394091838077415, 'colsample_bytree': 0.9518404213879242, 'lambda': 9.997112766320825, 'alpha': 18.642169645509952, 'gamma': 6.0295565629969685, 'grow_policy': 'depthwise', 'num_boost_round': 2500}. Best is trial 96 with value: 44.08116086324056.\n",
      "[I 2025-06-08 03:03:08,678] Trial 104 finished with value: 45.17661666870117 and parameters: {'learning_rate': 0.04684827828929268, 'max_depth': 11, 'min_child_weight': 13, 'subsample': 0.8107164575193112, 'colsample_bytree': 0.9590984627383933, 'lambda': 9.155241236476447, 'alpha': 10.918008686522628, 'gamma': 8.82165620470106, 'grow_policy': 'lossguide', 'num_boost_round': 2500}. Best is trial 96 with value: 44.08116086324056.\n",
      "[I 2025-06-08 03:07:43,131] Trial 105 finished with value: 44.66249402364095 and parameters: {'learning_rate': 0.03121659910763754, 'max_depth': 9, 'min_child_weight': 15, 'subsample': 0.6736341339769769, 'colsample_bytree': 0.8307869857214083, 'lambda': 12.046871822381274, 'alpha': 65.34758572288109, 'gamma': 1.6633007385873697, 'grow_policy': 'depthwise', 'num_boost_round': 2000}. Best is trial 96 with value: 44.08116086324056.\n",
      "[I 2025-06-08 03:11:15,457] Trial 106 finished with value: 44.8151486714681 and parameters: {'learning_rate': 0.05144610365430298, 'max_depth': 8, 'min_child_weight': 15, 'subsample': 0.619018582538326, 'colsample_bytree': 0.8016862002097888, 'lambda': 18.143123755014663, 'alpha': 77.18526634308357, 'gamma': 0.5619894046424772, 'grow_policy': 'depthwise', 'num_boost_round': 2000}. Best is trial 96 with value: 44.08116086324056.\n",
      "[I 2025-06-08 03:15:11,282] Trial 107 finished with value: 45.07432556152344 and parameters: {'learning_rate': 0.04495363225379535, 'max_depth': 9, 'min_child_weight': 12, 'subsample': 0.6843267538662224, 'colsample_bytree': 0.7908889144696558, 'lambda': 27.642222100389418, 'alpha': 60.40984785894596, 'gamma': 0.6542700796666687, 'grow_policy': 'depthwise', 'num_boost_round': 2500}. Best is trial 96 with value: 44.08116086324056.\n",
      "[I 2025-06-08 03:18:10,952] Trial 108 finished with value: 45.3878428141276 and parameters: {'learning_rate': 0.07066164838476292, 'max_depth': 10, 'min_child_weight': 19, 'subsample': 0.7181271926659164, 'colsample_bytree': 0.8238208694766368, 'lambda': 17.137335020952115, 'alpha': 91.39030207465653, 'gamma': 0.8284206810071496, 'grow_policy': 'depthwise', 'num_boost_round': 1500}. Best is trial 96 with value: 44.08116086324056.\n",
      "[I 2025-06-08 03:21:13,486] Trial 109 finished with value: 44.64764277140299 and parameters: {'learning_rate': 0.05948618670354431, 'max_depth': 8, 'min_child_weight': 17, 'subsample': 0.6108386802171314, 'colsample_bytree': 0.8068759879428214, 'lambda': 7.009093989259087, 'alpha': 65.40169013049376, 'gamma': 0.5300462611687254, 'grow_policy': 'depthwise', 'num_boost_round': 1500}. Best is trial 96 with value: 44.08116086324056.\n",
      "[I 2025-06-08 03:23:19,399] Trial 110 finished with value: 45.696912129720054 and parameters: {'learning_rate': 0.14121723645820877, 'max_depth': 12, 'min_child_weight': 20, 'subsample': 0.6936909962528366, 'colsample_bytree': 0.9818815550871576, 'lambda': 21.69117279880992, 'alpha': 50.02753760857259, 'gamma': 0.5377556398838987, 'grow_policy': 'depthwise', 'num_boost_round': 2500}. Best is trial 96 with value: 44.08116086324056.\n",
      "[I 2025-06-08 03:25:19,334] Trial 111 finished with value: 53.504085540771484 and parameters: {'learning_rate': 0.06725896361738459, 'max_depth': 4, 'min_child_weight': 18, 'subsample': 0.5589505064651923, 'colsample_bytree': 0.9219382254575098, 'lambda': 5.010749973997741, 'alpha': 58.816167556897334, 'gamma': 0.5617579642215575, 'grow_policy': 'depthwise', 'num_boost_round': 1500}. Best is trial 96 with value: 44.08116086324056.\n",
      "[I 2025-06-08 03:28:51,904] Trial 112 finished with value: 44.634586334228516 and parameters: {'learning_rate': 0.0355622420556688, 'max_depth': 11, 'min_child_weight': 17, 'subsample': 0.6287338311373712, 'colsample_bytree': 0.9832982754562241, 'lambda': 6.123831933670777, 'alpha': 17.719371824014388, 'gamma': 8.213926817095963, 'grow_policy': 'depthwise', 'num_boost_round': 2500}. Best is trial 96 with value: 44.08116086324056.\n",
      "[I 2025-06-08 03:31:37,834] Trial 113 finished with value: 44.811458587646484 and parameters: {'learning_rate': 0.054744161391449435, 'max_depth': 9, 'min_child_weight': 18, 'subsample': 0.5115429697311398, 'colsample_bytree': 0.9731031415137785, 'lambda': 11.021299336344487, 'alpha': 25.91758779424127, 'gamma': 6.444944874781856, 'grow_policy': 'depthwise', 'num_boost_round': 2500}. Best is trial 96 with value: 44.08116086324056.\n",
      "[I 2025-06-08 03:35:32,702] Trial 114 finished with value: 44.70266087849935 and parameters: {'learning_rate': 0.04150786497571427, 'max_depth': 12, 'min_child_weight': 20, 'subsample': 0.7502630522383567, 'colsample_bytree': 0.8910101211291152, 'lambda': 7.963930293122996, 'alpha': 32.02848702470538, 'gamma': 7.138294597038116, 'grow_policy': 'depthwise', 'num_boost_round': 2500}. Best is trial 96 with value: 44.08116086324056.\n",
      "[I 2025-06-08 03:38:52,856] Trial 115 finished with value: 44.66880671183268 and parameters: {'learning_rate': 0.035944954219051244, 'max_depth': 11, 'min_child_weight': 17, 'subsample': 0.6416036882958794, 'colsample_bytree': 0.8898043823768369, 'lambda': 7.805810490984186, 'alpha': 7.989290920061574, 'gamma': 9.664887009795043, 'grow_policy': 'depthwise', 'num_boost_round': 2500}. Best is trial 96 with value: 44.08116086324056.\n",
      "[I 2025-06-08 03:40:43,234] Trial 116 finished with value: 45.686875661214195 and parameters: {'learning_rate': 0.060606197298105194, 'max_depth': 9, 'min_child_weight': 18, 'subsample': 0.7585913107146213, 'colsample_bytree': 0.8436873856674459, 'lambda': 12.506545310697692, 'alpha': 29.957827274288274, 'gamma': 8.93308038038399, 'grow_policy': 'depthwise', 'num_boost_round': 2500}. Best is trial 96 with value: 44.08116086324056.\n",
      "[I 2025-06-08 03:44:50,135] Trial 117 finished with value: 44.86751238505045 and parameters: {'learning_rate': 0.034733723744842265, 'max_depth': 12, 'min_child_weight': 20, 'subsample': 0.7317227169045034, 'colsample_bytree': 0.9953685909281461, 'lambda': 27.199537363650414, 'alpha': 56.671536890966145, 'gamma': 7.731441160003972, 'grow_policy': 'depthwise', 'num_boost_round': 2500}. Best is trial 96 with value: 44.08116086324056.\n",
      "[I 2025-06-08 03:47:28,395] Trial 118 finished with value: 45.470099131266274 and parameters: {'learning_rate': 0.06292937010278972, 'max_depth': 12, 'min_child_weight': 17, 'subsample': 0.8005325804273078, 'colsample_bytree': 0.8720365662393308, 'lambda': 13.204429647836369, 'alpha': 37.55865019885658, 'gamma': 7.582220942724588, 'grow_policy': 'depthwise', 'num_boost_round': 2500}. Best is trial 96 with value: 44.08116086324056.\n",
      "[I 2025-06-08 03:56:40,422] Trial 119 finished with value: 45.024861653645836 and parameters: {'learning_rate': 0.03930764275994685, 'max_depth': 10, 'min_child_weight': 17, 'subsample': 0.6699848624271102, 'colsample_bytree': 0.7189815150140644, 'lambda': 21.746487071210346, 'alpha': 13.858526675085567, 'gamma': 9.352298970730322, 'grow_policy': 'lossguide', 'num_boost_round': 2000}. Best is trial 96 with value: 44.08116086324056.\n"
     ]
    }
   ],
   "source": [
    "study_lvri = optuna.create_study(\n",
    "    storage=STORAGE,\n",
    "    sampler=TPESampler(n_startup_trials=n_startup_trials, multivariate=True),\n",
    "    pruner=optuna.pruners.SuccessiveHalvingPruner(),\n",
    "    study_name=\"xgb_optuna\",\n",
    "    direction=\"minimize\",\n",
    "    load_if_exists=True,\n",
    ")\n",
    "existing_trials = len(study_lvri.trials)\n",
    "\n",
    "if existing_trials >= n_trials:\n",
    "    print(\"Number of existing trials >= n_trials. Skipping optimization.\")\n",
    "else:\n",
    "    remaining = n_trials - existing_trials\n",
    "    print(f\"Run {remaining} trials to reach {n_trials}\")\n",
    "    study_lvri.optimize(\n",
    "        objective,\n",
    "        n_trials=remaining,\n",
    "        show_progress_bar=True,\n",
    "        n_jobs=1,\n",
    "    )"
   ]
  },
  {
   "cell_type": "code",
   "execution_count": null,
   "id": "33ab91b5-6b00-48b1-80f6-ee9e310842bc",
   "metadata": {},
   "outputs": [],
   "source": [
    "# est trial: 54. Best value: 44.1683:  57%\n",
    "#  69/120 [5:46:19<8:27:35, 597.16s/it]"
   ]
  },
  {
   "cell_type": "code",
   "execution_count": null,
   "id": "a9d62581-4ed8-4d9e-9f8f-07f680ba4fb2",
   "metadata": {},
   "outputs": [
    {
     "data": {
      "text/plain": [
       "{'learning_rate': 0.03876143929687533,\n",
       " 'max_depth': 10,\n",
       " 'min_child_weight': 15,\n",
       " 'subsample': 0.6036800627210576,\n",
       " 'colsample_bytree': 0.9850053687946877,\n",
       " 'lambda': 0.8860473392127588,\n",
       " 'alpha': 14.228611523759795,\n",
       " 'gamma': 3.526361333846049,\n",
       " 'grow_policy': 'lossguide',\n",
       " 'num_boost_round': 2500}"
      ]
     },
     "execution_count": null,
     "metadata": {},
     "output_type": "execute_result"
    }
   ],
   "source": [
    "study_lvri.best_params"
   ]
  },
  {
   "cell_type": "code",
   "execution_count": null,
   "id": "c72b5e21-4799-455f-aed3-0941f856a4c4",
   "metadata": {},
   "outputs": [
    {
     "data": {
      "text/plain": [
       "44.08116086324056"
      ]
     },
     "execution_count": null,
     "metadata": {},
     "output_type": "execute_result"
    }
   ],
   "source": [
    "study_lvri.best_value"
   ]
  },
  {
   "cell_type": "code",
   "execution_count": null,
   "id": "2a626e1c-c390-4e41-a982-b125aa2de34a",
   "metadata": {},
   "outputs": [
    {
     "data": {
      "application/vnd.plotly.v1+json": {
       "config": {
        "plotlyServerURL": "https://plot.ly"
       },
       "data": [
        {
         "dimensions": [
          {
           "label": "Objective Value",
           "range": [
            44.08116086324056,
            63.536581675211586
           ],
           "values": [
            58.604567209879555,
            49.25595474243164,
            48.63049825032552,
            46.814605712890625,
            45.3928108215332,
            49.444409688313804,
            63.536581675211586,
            45.41175842285156,
            46.778343200683594,
            48.72767639160156,
            60.692674001057945,
            45.46539179484049,
            51.009352366129555,
            46.647753397623696,
            48.02207056681315,
            47.08430480957031,
            46.8685557047526,
            47.54546991984049,
            47.94871520996094,
            47.68159739176432,
            45.47987620035807,
            45.68170166015625,
            47.417972564697266,
            49.55743916829427,
            47.869988759358726,
            46.33886591593424,
            45.75163014729818,
            45.66250864664713,
            45.0759162902832,
            46.29171371459961,
            45.327157974243164,
            45.84987767537435,
            45.56397374471029,
            44.988145192464195,
            46.149346669514976,
            45.13117345174154,
            46.29581960042318,
            46.90038553873698,
            45.429423014322914,
            45.931715647379555,
            46.47530619303385,
            45.421793619791664,
            46.300306955973305,
            45.39899190266927,
            45.29146830240885,
            47.11156463623047,
            45.989566802978516,
            44.95711708068848,
            46.00433095296224,
            45.012804667154946,
            44.37851079305013,
            45.2790781656901,
            45.86098098754883,
            46.020581563313804,
            44.168251037597656,
            44.83261489868164,
            45.421853383382164,
            45.215813954671226,
            45.62254969278971,
            44.69832992553711,
            45.13366826375326,
            45.29329299926758,
            45.88176345825195,
            44.88309097290039,
            45.66216913859049,
            45.509595235188804,
            44.91142781575521,
            46.0458132425944,
            45.900803883870445,
            44.67974726359049,
            45.18937428792318,
            46.02178955078125,
            45.104591369628906,
            47.99822870890299,
            47.926405588785805,
            44.21077919006348,
            45.33769607543945,
            44.967140197753906,
            44.801092783610024,
            46.072828928629555,
            45.150230407714844,
            45.45718256632487,
            44.84736124674479,
            45.57530212402344,
            45.72568384806315,
            45.55993779500326,
            44.882851918538414,
            45.98638788859049,
            45.02408218383789,
            47.56617228190104,
            45.057081858317055,
            45.465676625569664,
            44.937608083089195,
            44.820489247639976,
            46.49252446492513,
            44.954864501953125,
            44.08116086324056,
            44.97022374471029,
            45.433179219563804,
            45.40686925252279,
            44.74835205078125,
            44.95476404825846,
            45.099133809407554,
            45.5923105875651,
            45.17661666870117,
            44.66249402364095,
            44.8151486714681,
            45.07432556152344,
            45.3878428141276,
            44.64764277140299,
            45.696912129720054,
            53.504085540771484,
            44.634586334228516,
            44.811458587646484,
            44.70266087849935,
            44.66880671183268,
            45.686875661214195,
            44.86751238505045,
            45.470099131266274,
            45.024861653645836
           ]
          },
          {
           "label": "alpha",
           "range": [
            0.2960647722331624,
            97.16717103733058
           ],
           "values": [
            0.2960647722331624,
            43.79832384377342,
            42.760534605119076,
            49.37640096782903,
            49.14482315415785,
            95.06401309917322,
            57.365873614671415,
            62.57555467606395,
            74.84120390733584,
            81.45720271605175,
            4.02276362562536,
            41.06405452847219,
            52.69788589890773,
            97.04224391789886,
            53.34202608321825,
            76.47260499541659,
            79.32595676199743,
            17.372448201208385,
            61.16334299289537,
            55.4017542045811,
            51.696151373468936,
            34.63272958666789,
            18.703424352113483,
            64.03799960037301,
            84.72603987091517,
            20.3557428648607,
            61.713079098792804,
            67.66450012689664,
            62.931674289829,
            77.1488278388513,
            48.37954455430622,
            29.665731459292836,
            23.784898301326706,
            74.38654235137253,
            66.15134881923866,
            48.853298920613746,
            40.08097920981205,
            97.16717103733058,
            61.48058908189251,
            71.59050289259275,
            43.75396170599923,
            35.193579032090724,
            65.58729389181055,
            42.0622041531128,
            66.42408282348512,
            58.38854214152136,
            79.63258210630588,
            41.94376531290102,
            12.056178706564172,
            36.97043341077862,
            30.060224791173354,
            33.50245032908865,
            17.437920645678194,
            94.709363723931,
            21.534975155540117,
            55.28195863875547,
            54.652507945434,
            28.861481764330733,
            49.32087192418342,
            28.99057536708534,
            15.397362004556594,
            22.992850867673468,
            33.060447442079216,
            46.16914736695622,
            87.94384149730001,
            70.55218053194537,
            47.822992518322394,
            47.0778016420868,
            39.38452309030284,
            24.855780868020716,
            18.265655021592263,
            24.591634458374223,
            33.18721035128174,
            29.735002598095534,
            33.527621439101104,
            50.87447297599584,
            89.86158727936476,
            48.612505694808235,
            31.55825006360625,
            1.412428875409912,
            60.32286964079329,
            44.90849840204788,
            46.082415549140244,
            18.784373221701735,
            58.89784136165132,
            47.14369546006373,
            72.60966302137639,
            79.98468522799419,
            38.158932518336016,
            96.02522986753664,
            31.54799673226183,
            19.74585705812158,
            27.380744503945472,
            13.889728364084917,
            32.06010814144409,
            0.33547043717136305,
            14.228611523759795,
            18.330152247726318,
            26.15704987822422,
            3.7654041829629143,
            10.077721530167455,
            10.093629483599972,
            2.692576786150747,
            18.642169645509952,
            10.918008686522628,
            65.34758572288109,
            77.18526634308357,
            60.40984785894596,
            91.39030207465653,
            65.40169013049376,
            50.02753760857259,
            58.816167556897334,
            17.719371824014388,
            25.91758779424127,
            32.02848702470538,
            7.989290920061574,
            29.957827274288274,
            56.671536890966145,
            37.55865019885658,
            13.858526675085567
           ]
          },
          {
           "label": "colsample_bytree",
           "range": [
            0.5261411672684527,
            0.9996250418798458
           ],
           "values": [
            0.6196287378542826,
            0.6073169146810085,
            0.6169650758597011,
            0.9821463280686138,
            0.9817607175720998,
            0.8260455660902539,
            0.6576020324929941,
            0.9469322180279818,
            0.6932888042747791,
            0.5338440554574417,
            0.695561743309108,
            0.9455731390456508,
            0.7122051057855091,
            0.94375211925644,
            0.6222364531991038,
            0.5706255440891638,
            0.9875235650686135,
            0.8558400041898797,
            0.7296212958589933,
            0.6658576699974199,
            0.9402321054700159,
            0.8632296070634342,
            0.9628331110863932,
            0.9534060391171492,
            0.9524029900219164,
            0.9569074193672998,
            0.8771020550690517,
            0.9830080522703615,
            0.8077006092387322,
            0.7191104684368673,
            0.9262780689991492,
            0.8237851782219517,
            0.9384308668445595,
            0.7728619669299059,
            0.8551345753683169,
            0.7507965445715785,
            0.8145185667598818,
            0.7874962396535024,
            0.7107637517629574,
            0.6901010368893328,
            0.9525496181003085,
            0.7308394633693946,
            0.9898193308301005,
            0.9786354358110446,
            0.9996250418798458,
            0.6549659598846566,
            0.9180774173387307,
            0.9973382869676332,
            0.995549813446875,
            0.9405491140810583,
            0.8848648800194928,
            0.8084525678818407,
            0.9862815476847664,
            0.8266875524577997,
            0.9413603032073081,
            0.8226073540919995,
            0.8437675086694796,
            0.9636543556767299,
            0.9894993836441535,
            0.9586996563626171,
            0.9514912517368359,
            0.9974372273775904,
            0.9728035292954548,
            0.854348490681284,
            0.8528858743163398,
            0.8949234828469528,
            0.8097857673605501,
            0.7183692057353258,
            0.7834627208277,
            0.972930721266275,
            0.9187623984527349,
            0.8186939219203344,
            0.9017605166227098,
            0.7755750934123594,
            0.9265800307946076,
            0.8822494574308561,
            0.9135748383883673,
            0.9499035596921159,
            0.947622795182114,
            0.7765713121315283,
            0.9419298457955869,
            0.9697940334079496,
            0.7778066725102728,
            0.7179046766995815,
            0.7979866651827929,
            0.7648458664236909,
            0.6651044921918834,
            0.7230586255200842,
            0.5261411672684527,
            0.6456770420675407,
            0.9493269648940337,
            0.8168706703713126,
            0.9810318665810084,
            0.9557536533256563,
            0.999086906956652,
            0.935417300903863,
            0.9850053687946877,
            0.9573632135884952,
            0.8984984463895624,
            0.827298288168852,
            0.9892354905791779,
            0.9592411639962737,
            0.9541183765550544,
            0.9518404213879242,
            0.9590984627383933,
            0.8307869857214083,
            0.8016862002097888,
            0.7908889144696558,
            0.8238208694766368,
            0.8068759879428214,
            0.9818815550871576,
            0.9219382254575098,
            0.9832982754562241,
            0.9731031415137785,
            0.8910101211291152,
            0.8898043823768369,
            0.8436873856674459,
            0.9953685909281461,
            0.8720365662393308,
            0.7189815150140644
           ]
          },
          {
           "label": "gamma",
           "range": [
            0.00013861330460995802,
            9.828364663683821
           ],
           "values": [
            2.532503714677543,
            1.562521646059828,
            3.053965231165432,
            3.8634516114322572,
            7.8038459671984475,
            6.482194309795261,
            5.876586313741351,
            3.4308070985908676,
            5.789969813774284,
            3.8176243524941436,
            5.606272817720348,
            0.4768121655828428,
            9.828364663683821,
            1.4426153381337758,
            0.6934863215615428,
            3.565144557125995,
            3.5163349117149134,
            4.094841058027252,
            5.036669010239535,
            7.604034975312347,
            2.2822718427618116,
            3.8534239030835518,
            0.22027995953121893,
            7.478822515800837,
            0.8717844013719651,
            7.5337050808512815,
            2.009228835060729,
            5.598342099673643,
            4.937141896055204,
            5.066344976679765,
            8.837249583786935,
            8.698179744489995,
            9.344999190073253,
            4.957268925890019,
            6.66238739885636,
            4.966630519868751,
            3.3358706915237857,
            5.229812052662219,
            0.4051457444936677,
            5.464223277669885,
            9.594085684883362,
            7.9089928018746285,
            8.740720403175635,
            8.485366333526146,
            7.278944519716346,
            6.087360613038871,
            6.87192169250872,
            4.411421622683379,
            2.7139848522183834,
            3.552977324512736,
            1.3967183757913442,
            1.2013348966229347,
            2.4337420128925675,
            6.1669446742692955,
            3.166451658584861,
            0.037686360994947155,
            0.4404491427040157,
            0.3341572889013882,
            3.9209756171583923,
            2.980256237132595,
            3.5267233300672927,
            1.5269275282003716,
            2.0901489356068383,
            0.20777722104507043,
            1.7518910662197793,
            1.7641182097544892,
            1.4630163227791824,
            0.00013861330460995802,
            3.3163142629233207,
            2.346220733002324,
            3.0138754343750676,
            0.2035457592529566,
            0.24978700994992695,
            1.3148486967310666,
            3.5073006393961905,
            0.8994789210537179,
            0.4247624335142446,
            1.3057734412741326,
            0.25815320080370174,
            0.8625626377177604,
            1.0884477316600634,
            2.5956903778143063,
            0.7321586448764158,
            3.413990937484761,
            0.5735142593823755,
            2.222035414965965,
            1.3663308017661329,
            2.041193443742471,
            2.4725166174909337,
            0.4906686091993002,
            2.7849214982330244,
            0.10838565369739275,
            1.0014515316351726,
            1.0409015862767173,
            1.4607443443133121,
            4.603415304990013,
            3.526361333846049,
            0.8297052224447932,
            0.4319901353222815,
            4.667877858757949,
            5.714947620610172,
            6.605204489124887,
            3.12759875044657,
            6.0295565629969685,
            8.82165620470106,
            1.6633007385873697,
            0.5619894046424772,
            0.6542700796666687,
            0.8284206810071496,
            0.5300462611687254,
            0.5377556398838987,
            0.5617579642215575,
            8.213926817095963,
            6.444944874781856,
            7.138294597038116,
            9.664887009795043,
            8.93308038038399,
            7.731441160003972,
            7.582220942724588,
            9.352298970730322
           ]
          },
          {
           "label": "grow_policy",
           "range": [
            0,
            1
           ],
           "ticktext": [
            "lossguide",
            "depthwise"
           ],
           "tickvals": [
            0,
            1
           ],
           "values": [
            0,
            0,
            1,
            0,
            0,
            0,
            0,
            0,
            1,
            1,
            1,
            1,
            1,
            0,
            0,
            0,
            1,
            1,
            1,
            0,
            0,
            1,
            0,
            0,
            1,
            0,
            0,
            0,
            0,
            0,
            0,
            0,
            1,
            0,
            0,
            0,
            0,
            0,
            0,
            0,
            0,
            0,
            0,
            1,
            0,
            0,
            0,
            0,
            0,
            0,
            0,
            0,
            0,
            0,
            0,
            0,
            0,
            1,
            0,
            0,
            0,
            0,
            0,
            0,
            1,
            0,
            0,
            1,
            0,
            0,
            0,
            1,
            0,
            0,
            1,
            0,
            0,
            0,
            0,
            0,
            0,
            0,
            0,
            0,
            0,
            0,
            0,
            0,
            0,
            0,
            1,
            0,
            0,
            0,
            0,
            0,
            0,
            0,
            0,
            0,
            0,
            0,
            0,
            1,
            0,
            1,
            1,
            1,
            1,
            1,
            1,
            1,
            1,
            1,
            1,
            1,
            1,
            1,
            1,
            0
           ]
          },
          {
           "label": "lambda",
           "range": [
            0.33704204505099167,
            99.05486639484968
           ],
           "values": [
            16.661697028714634,
            93.19279693872969,
            64.89412047746744,
            4.854956864420093,
            34.23942126180059,
            47.23383441563247,
            15.668980256451974,
            74.46167973100246,
            82.77780777343699,
            64.3929962444861,
            91.34327336631912,
            96.7364786150102,
            11.455941807263107,
            26.580437280788804,
            61.842038659417454,
            16.688933959568896,
            89.05089804083278,
            42.57342742857602,
            27.52072106429954,
            79.59590382491189,
            96.4178476760907,
            82.1502493525029,
            97.43394501960066,
            51.928804061130464,
            93.89404300471747,
            33.121554663507915,
            67.0497694438551,
            48.632684487925474,
            81.91905926244438,
            65.83374781610328,
            15.820160371750212,
            6.342268659739327,
            12.910992826315315,
            96.5801484640685,
            99.05486639484968,
            66.35660209721345,
            65.83854796416588,
            61.45400143955544,
            82.4298240803522,
            97.32077131402238,
            24.100852457448674,
            56.288583179296005,
            21.98837282213797,
            33.45799964783576,
            20.058041204723878,
            63.89043186373939,
            42.54147039915552,
            12.456565114615218,
            29.922355810439754,
            19.825939802480505,
            30.676694572509557,
            14.349284636729195,
            26.294729705316197,
            94.499324339477,
            58.45126637962708,
            30.77765727430042,
            25.17299360288061,
            17.96956698136686,
            9.832838710744188,
            5.442069927156698,
            46.22248516997777,
            67.38471135896152,
            22.40402250737645,
            26.554422796515077,
            42.1128703048316,
            35.91437258664942,
            7.222856782660706,
            11.707902661301599,
            0.33704204505099167,
            0.812232323790318,
            16.337103812824992,
            50.452827543586636,
            12.04254847195421,
            0.7450458768042911,
            0.909934740649005,
            10.92544632761268,
            9.258421050212718,
            12.719132776641166,
            4.237842390152025,
            12.21608839291497,
            21.752069441739625,
            2.2454800747146306,
            38.26990258394914,
            40.34804739668331,
            66.62123969842094,
            46.929587590344404,
            51.77404478973749,
            30.360946471340394,
            37.54511497206305,
            59.59382776072128,
            19.262706175587134,
            9.751525637009571,
            4.639182433432971,
            8.964062176142402,
            35.77226001882996,
            64.66158229673755,
            0.8860473392127588,
            17.459839583006342,
            3.9057164219938363,
            19.30791251581589,
            9.346749143321695,
            22.491872664068673,
            18.923921429417117,
            9.997112766320825,
            9.155241236476447,
            12.046871822381274,
            18.143123755014663,
            27.642222100389418,
            17.137335020952115,
            7.009093989259087,
            21.69117279880992,
            5.010749973997741,
            6.123831933670777,
            11.021299336344487,
            7.963930293122996,
            7.805810490984186,
            12.506545310697692,
            27.199537363650414,
            13.204429647836369,
            21.746487071210346
           ]
          },
          {
           "label": "learning_rate",
           "range": [
            0.03121659910763754,
            0.28832465116299855
           ],
           "values": [
            0.2483664487682132,
            0.22164915434617707,
            0.2437070615326312,
            0.1951727455021719,
            0.10807121864846088,
            0.2383359641112336,
            0.21168615749218547,
            0.07207208963287638,
            0.06477952739292467,
            0.23362096376237404,
            0.19015885351991063,
            0.1419257317689533,
            0.28832465116299855,
            0.18607781537011234,
            0.12306343390297286,
            0.15539287241116603,
            0.2582059894532886,
            0.1959970465107387,
            0.19623490654980183,
            0.09288578853582413,
            0.04340125472739046,
            0.11156099752632867,
            0.1997655158592045,
            0.055384109371849975,
            0.1892200891607726,
            0.12102124509759615,
            0.08534879720259012,
            0.11723728854539403,
            0.06423491881228365,
            0.07805604235756741,
            0.044962402948322405,
            0.06674611598174388,
            0.06282479213880363,
            0.035892455850372935,
            0.0583042744188294,
            0.06857685016672377,
            0.12117932459327124,
            0.053198305197369906,
            0.04110691970092991,
            0.07182344385816393,
            0.04072153648651481,
            0.05117588695164528,
            0.1434965220707262,
            0.05956472931075398,
            0.06384671478322781,
            0.07833506637243617,
            0.09182307332091563,
            0.062288574347000095,
            0.12505023175113134,
            0.057590686298631115,
            0.044417013699730445,
            0.08200719692177708,
            0.0646111308610038,
            0.08363136680408172,
            0.06585064028824182,
            0.03774896788162842,
            0.089896871641607,
            0.08280737727189316,
            0.08342521089673839,
            0.045978268943229594,
            0.04939033990127212,
            0.07288149809910809,
            0.08058968582458172,
            0.06223066418832174,
            0.06747753263902041,
            0.09266665825223909,
            0.07255807900495242,
            0.11330201862408851,
            0.10017536691925773,
            0.04720632648482517,
            0.04209493152582238,
            0.0379927321298934,
            0.07836151306338239,
            0.03409142646743013,
            0.08606423927709206,
            0.03859542393015722,
            0.0721603633150765,
            0.07664957620193785,
            0.06359929106576645,
            0.12525393231615675,
            0.07317245610371995,
            0.10509238541261513,
            0.05676229164335038,
            0.0633218274041512,
            0.054734962062301454,
            0.10191409452424124,
            0.034091452921093016,
            0.04915113161647599,
            0.05976817999263884,
            0.10956915412852569,
            0.0357492588618249,
            0.07111835619721774,
            0.09244220503647063,
            0.06734466070675602,
            0.15675652841926668,
            0.05999075282529018,
            0.03876143929687533,
            0.0560693023543766,
            0.07052103377869295,
            0.06445952526652922,
            0.06409723167511805,
            0.08040157188004834,
            0.04999336978436511,
            0.11911060715842509,
            0.04684827828929268,
            0.03121659910763754,
            0.05144610365430298,
            0.04495363225379535,
            0.07066164838476292,
            0.05948618670354431,
            0.14121723645820877,
            0.06725896361738459,
            0.0355622420556688,
            0.054744161391449435,
            0.04150786497571427,
            0.035944954219051244,
            0.060606197298105194,
            0.034733723744842265,
            0.06292937010278972,
            0.03930764275994685
           ]
          },
          {
           "label": "max_depth",
           "range": [
            3,
            12
           ],
           "values": [
            3,
            6,
            7,
            7,
            9,
            8,
            3,
            7,
            12,
            9,
            3,
            11,
            8,
            7,
            8,
            9,
            9,
            12,
            9,
            6,
            7,
            10,
            11,
            5,
            12,
            9,
            6,
            10,
            8,
            11,
            10,
            8,
            12,
            8,
            8,
            8,
            9,
            6,
            8,
            10,
            11,
            9,
            8,
            9,
            11,
            6,
            12,
            9,
            11,
            8,
            8,
            7,
            6,
            10,
            9,
            9,
            9,
            11,
            8,
            10,
            8,
            9,
            9,
            12,
            9,
            12,
            12,
            12,
            12,
            10,
            11,
            6,
            11,
            9,
            7,
            10,
            8,
            11,
            12,
            11,
            10,
            12,
            12,
            12,
            10,
            12,
            11,
            11,
            10,
            12,
            9,
            11,
            11,
            10,
            9,
            12,
            10,
            12,
            10,
            10,
            11,
            12,
            9,
            9,
            11,
            9,
            8,
            9,
            10,
            8,
            12,
            4,
            11,
            9,
            12,
            11,
            9,
            12,
            12,
            10
           ]
          },
          {
           "label": "min_child_weight",
           "range": [
            3,
            20
           ],
           "values": [
            12,
            12,
            19,
            11,
            6,
            6,
            16,
            14,
            3,
            14,
            8,
            20,
            5,
            4,
            7,
            16,
            8,
            5,
            16,
            4,
            8,
            19,
            20,
            10,
            15,
            3,
            20,
            3,
            14,
            9,
            11,
            13,
            9,
            13,
            9,
            14,
            14,
            11,
            12,
            15,
            17,
            11,
            10,
            5,
            10,
            16,
            9,
            12,
            11,
            13,
            15,
            17,
            14,
            17,
            12,
            14,
            13,
            11,
            16,
            13,
            9,
            7,
            17,
            14,
            16,
            14,
            15,
            20,
            17,
            11,
            9,
            13,
            16,
            14,
            9,
            16,
            20,
            14,
            19,
            17,
            14,
            20,
            10,
            4,
            11,
            6,
            15,
            7,
            20,
            11,
            16,
            18,
            14,
            17,
            19,
            15,
            15,
            19,
            15,
            10,
            14,
            18,
            14,
            11,
            13,
            15,
            15,
            12,
            19,
            17,
            20,
            18,
            17,
            18,
            20,
            17,
            18,
            20,
            17,
            17
           ]
          },
          {
           "label": "num_boost_round",
           "range": [
            500,
            2500
           ],
           "values": [
            2500,
            2500,
            500,
            1000,
            1000,
            2500,
            500,
            2000,
            500,
            2000,
            1000,
            1000,
            2500,
            1000,
            500,
            2000,
            2000,
            1000,
            500,
            2000,
            1500,
            1000,
            500,
            1500,
            500,
            1000,
            2500,
            1000,
            2000,
            2000,
            1000,
            1000,
            1000,
            2500,
            2500,
            2500,
            2500,
            2500,
            2500,
            2500,
            500,
            2500,
            1500,
            1000,
            1000,
            2000,
            1000,
            1000,
            500,
            1500,
            2000,
            2000,
            2000,
            1000,
            2000,
            1500,
            1000,
            2000,
            1500,
            1000,
            2500,
            2000,
            500,
            1500,
            1000,
            2000,
            1500,
            1000,
            1500,
            1000,
            1000,
            2500,
            1000,
            500,
            500,
            2500,
            2000,
            2500,
            2500,
            2000,
            2500,
            2500,
            1500,
            1000,
            1000,
            1500,
            1500,
            1500,
            1500,
            1500,
            1000,
            2500,
            1000,
            2500,
            2500,
            2000,
            2500,
            2000,
            2500,
            2500,
            2500,
            2000,
            2500,
            2500,
            2500,
            2000,
            2000,
            2500,
            1500,
            1500,
            2500,
            1500,
            2500,
            2500,
            2500,
            2500,
            2500,
            2500,
            2500,
            2000
           ]
          },
          {
           "label": "subsample",
           "range": [
            0.5115429697311398,
            0.9961601987330402
           ],
           "values": [
            0.5894721441325526,
            0.8129683324638421,
            0.7332763988662478,
            0.5150196667465593,
            0.6852965494139405,
            0.96834273473191,
            0.7149975981751595,
            0.8397914222821856,
            0.5862157968613839,
            0.8436054272208191,
            0.7688066168256558,
            0.7940815164370101,
            0.9935436411643758,
            0.5729082721883901,
            0.6141197842480396,
            0.9493965136514431,
            0.9702982403782114,
            0.9876748394480392,
            0.9142445487839052,
            0.9130579669772807,
            0.9230314955920678,
            0.8039405811308308,
            0.7527044889381826,
            0.7165833530121593,
            0.8263953022025886,
            0.5870189957373799,
            0.9160336640377669,
            0.7750532418466994,
            0.7648218902451351,
            0.7610936193694555,
            0.7868063487487781,
            0.739761268124183,
            0.9294239406387508,
            0.7715609987211554,
            0.835361848695809,
            0.6802228265679997,
            0.6148126784102164,
            0.7118126308211623,
            0.7271374878225647,
            0.7355805508278755,
            0.8360859536155233,
            0.5486560872588286,
            0.6294035620257595,
            0.7332437441254901,
            0.6827188200697569,
            0.7095488886071193,
            0.5248085450539277,
            0.8022768620890539,
            0.8763502508973803,
            0.7641547038630949,
            0.8394724610849102,
            0.9610029601075916,
            0.7298233499651647,
            0.8007436772824366,
            0.8460952985849817,
            0.8206198590893894,
            0.7778276948048868,
            0.8327525260396984,
            0.8847673593220187,
            0.7301760367678918,
            0.9560087000535682,
            0.7044224216339481,
            0.6510977889334746,
            0.923188786339636,
            0.9305072875822373,
            0.9961601987330402,
            0.9125000728736584,
            0.7858358141451389,
            0.9330481084852761,
            0.5717245900377046,
            0.6220293364093876,
            0.8672871834399215,
            0.9732237355290545,
            0.512176553847524,
            0.6738554572844878,
            0.7736037463060746,
            0.6031089472500594,
            0.5515503875582073,
            0.7604314827546678,
            0.7163373193810779,
            0.7672279307088709,
            0.8216394139348211,
            0.9427666000589933,
            0.9837418742980258,
            0.9321506114302446,
            0.8351472013267207,
            0.6964301705576511,
            0.5823913972491742,
            0.6298148109025542,
            0.7048635792664804,
            0.5208456325703975,
            0.8750281570667304,
            0.5977780306654474,
            0.7163100540688064,
            0.682910373272394,
            0.8591501459986677,
            0.6036800627210576,
            0.6562152684132038,
            0.6779371432049638,
            0.6598029842601234,
            0.6075907685987825,
            0.5616075578641238,
            0.5858168584997904,
            0.6394091838077415,
            0.8107164575193112,
            0.6736341339769769,
            0.619018582538326,
            0.6843267538662224,
            0.7181271926659164,
            0.6108386802171314,
            0.6936909962528366,
            0.5589505064651923,
            0.6287338311373712,
            0.5115429697311398,
            0.7502630522383567,
            0.6416036882958794,
            0.7585913107146213,
            0.7317227169045034,
            0.8005325804273078,
            0.6699848624271102
           ]
          }
         ],
         "labelangle": 30,
         "labelside": "bottom",
         "line": {
          "color": [
           58.604567209879555,
           49.25595474243164,
           48.63049825032552,
           46.814605712890625,
           45.3928108215332,
           49.444409688313804,
           63.536581675211586,
           45.41175842285156,
           46.778343200683594,
           48.72767639160156,
           60.692674001057945,
           45.46539179484049,
           51.009352366129555,
           46.647753397623696,
           48.02207056681315,
           47.08430480957031,
           46.8685557047526,
           47.54546991984049,
           47.94871520996094,
           47.68159739176432,
           45.47987620035807,
           45.68170166015625,
           47.417972564697266,
           49.55743916829427,
           47.869988759358726,
           46.33886591593424,
           45.75163014729818,
           45.66250864664713,
           45.0759162902832,
           46.29171371459961,
           45.327157974243164,
           45.84987767537435,
           45.56397374471029,
           44.988145192464195,
           46.149346669514976,
           45.13117345174154,
           46.29581960042318,
           46.90038553873698,
           45.429423014322914,
           45.931715647379555,
           46.47530619303385,
           45.421793619791664,
           46.300306955973305,
           45.39899190266927,
           45.29146830240885,
           47.11156463623047,
           45.989566802978516,
           44.95711708068848,
           46.00433095296224,
           45.012804667154946,
           44.37851079305013,
           45.2790781656901,
           45.86098098754883,
           46.020581563313804,
           44.168251037597656,
           44.83261489868164,
           45.421853383382164,
           45.215813954671226,
           45.62254969278971,
           44.69832992553711,
           45.13366826375326,
           45.29329299926758,
           45.88176345825195,
           44.88309097290039,
           45.66216913859049,
           45.509595235188804,
           44.91142781575521,
           46.0458132425944,
           45.900803883870445,
           44.67974726359049,
           45.18937428792318,
           46.02178955078125,
           45.104591369628906,
           47.99822870890299,
           47.926405588785805,
           44.21077919006348,
           45.33769607543945,
           44.967140197753906,
           44.801092783610024,
           46.072828928629555,
           45.150230407714844,
           45.45718256632487,
           44.84736124674479,
           45.57530212402344,
           45.72568384806315,
           45.55993779500326,
           44.882851918538414,
           45.98638788859049,
           45.02408218383789,
           47.56617228190104,
           45.057081858317055,
           45.465676625569664,
           44.937608083089195,
           44.820489247639976,
           46.49252446492513,
           44.954864501953125,
           44.08116086324056,
           44.97022374471029,
           45.433179219563804,
           45.40686925252279,
           44.74835205078125,
           44.95476404825846,
           45.099133809407554,
           45.5923105875651,
           45.17661666870117,
           44.66249402364095,
           44.8151486714681,
           45.07432556152344,
           45.3878428141276,
           44.64764277140299,
           45.696912129720054,
           53.504085540771484,
           44.634586334228516,
           44.811458587646484,
           44.70266087849935,
           44.66880671183268,
           45.686875661214195,
           44.86751238505045,
           45.470099131266274,
           45.024861653645836
          ],
          "colorbar": {
           "title": {
            "text": "Objective Value"
           }
          },
          "colorscale": [
           [
            0,
            "rgb(247,251,255)"
           ],
           [
            0.125,
            "rgb(222,235,247)"
           ],
           [
            0.25,
            "rgb(198,219,239)"
           ],
           [
            0.375,
            "rgb(158,202,225)"
           ],
           [
            0.5,
            "rgb(107,174,214)"
           ],
           [
            0.625,
            "rgb(66,146,198)"
           ],
           [
            0.75,
            "rgb(33,113,181)"
           ],
           [
            0.875,
            "rgb(8,81,156)"
           ],
           [
            1,
            "rgb(8,48,107)"
           ]
          ],
          "reversescale": true,
          "showscale": true
         },
         "type": "parcoords"
        }
       ],
       "layout": {
        "template": {
         "data": {
          "bar": [
           {
            "error_x": {
             "color": "#2a3f5f"
            },
            "error_y": {
             "color": "#2a3f5f"
            },
            "marker": {
             "line": {
              "color": "#E5ECF6",
              "width": 0.5
             },
             "pattern": {
              "fillmode": "overlay",
              "size": 10,
              "solidity": 0.2
             }
            },
            "type": "bar"
           }
          ],
          "barpolar": [
           {
            "marker": {
             "line": {
              "color": "#E5ECF6",
              "width": 0.5
             },
             "pattern": {
              "fillmode": "overlay",
              "size": 10,
              "solidity": 0.2
             }
            },
            "type": "barpolar"
           }
          ],
          "carpet": [
           {
            "aaxis": {
             "endlinecolor": "#2a3f5f",
             "gridcolor": "white",
             "linecolor": "white",
             "minorgridcolor": "white",
             "startlinecolor": "#2a3f5f"
            },
            "baxis": {
             "endlinecolor": "#2a3f5f",
             "gridcolor": "white",
             "linecolor": "white",
             "minorgridcolor": "white",
             "startlinecolor": "#2a3f5f"
            },
            "type": "carpet"
           }
          ],
          "choropleth": [
           {
            "colorbar": {
             "outlinewidth": 0,
             "ticks": ""
            },
            "type": "choropleth"
           }
          ],
          "contour": [
           {
            "colorbar": {
             "outlinewidth": 0,
             "ticks": ""
            },
            "colorscale": [
             [
              0,
              "#0d0887"
             ],
             [
              0.1111111111111111,
              "#46039f"
             ],
             [
              0.2222222222222222,
              "#7201a8"
             ],
             [
              0.3333333333333333,
              "#9c179e"
             ],
             [
              0.4444444444444444,
              "#bd3786"
             ],
             [
              0.5555555555555556,
              "#d8576b"
             ],
             [
              0.6666666666666666,
              "#ed7953"
             ],
             [
              0.7777777777777778,
              "#fb9f3a"
             ],
             [
              0.8888888888888888,
              "#fdca26"
             ],
             [
              1,
              "#f0f921"
             ]
            ],
            "type": "contour"
           }
          ],
          "contourcarpet": [
           {
            "colorbar": {
             "outlinewidth": 0,
             "ticks": ""
            },
            "type": "contourcarpet"
           }
          ],
          "heatmap": [
           {
            "colorbar": {
             "outlinewidth": 0,
             "ticks": ""
            },
            "colorscale": [
             [
              0,
              "#0d0887"
             ],
             [
              0.1111111111111111,
              "#46039f"
             ],
             [
              0.2222222222222222,
              "#7201a8"
             ],
             [
              0.3333333333333333,
              "#9c179e"
             ],
             [
              0.4444444444444444,
              "#bd3786"
             ],
             [
              0.5555555555555556,
              "#d8576b"
             ],
             [
              0.6666666666666666,
              "#ed7953"
             ],
             [
              0.7777777777777778,
              "#fb9f3a"
             ],
             [
              0.8888888888888888,
              "#fdca26"
             ],
             [
              1,
              "#f0f921"
             ]
            ],
            "type": "heatmap"
           }
          ],
          "histogram": [
           {
            "marker": {
             "pattern": {
              "fillmode": "overlay",
              "size": 10,
              "solidity": 0.2
             }
            },
            "type": "histogram"
           }
          ],
          "histogram2d": [
           {
            "colorbar": {
             "outlinewidth": 0,
             "ticks": ""
            },
            "colorscale": [
             [
              0,
              "#0d0887"
             ],
             [
              0.1111111111111111,
              "#46039f"
             ],
             [
              0.2222222222222222,
              "#7201a8"
             ],
             [
              0.3333333333333333,
              "#9c179e"
             ],
             [
              0.4444444444444444,
              "#bd3786"
             ],
             [
              0.5555555555555556,
              "#d8576b"
             ],
             [
              0.6666666666666666,
              "#ed7953"
             ],
             [
              0.7777777777777778,
              "#fb9f3a"
             ],
             [
              0.8888888888888888,
              "#fdca26"
             ],
             [
              1,
              "#f0f921"
             ]
            ],
            "type": "histogram2d"
           }
          ],
          "histogram2dcontour": [
           {
            "colorbar": {
             "outlinewidth": 0,
             "ticks": ""
            },
            "colorscale": [
             [
              0,
              "#0d0887"
             ],
             [
              0.1111111111111111,
              "#46039f"
             ],
             [
              0.2222222222222222,
              "#7201a8"
             ],
             [
              0.3333333333333333,
              "#9c179e"
             ],
             [
              0.4444444444444444,
              "#bd3786"
             ],
             [
              0.5555555555555556,
              "#d8576b"
             ],
             [
              0.6666666666666666,
              "#ed7953"
             ],
             [
              0.7777777777777778,
              "#fb9f3a"
             ],
             [
              0.8888888888888888,
              "#fdca26"
             ],
             [
              1,
              "#f0f921"
             ]
            ],
            "type": "histogram2dcontour"
           }
          ],
          "mesh3d": [
           {
            "colorbar": {
             "outlinewidth": 0,
             "ticks": ""
            },
            "type": "mesh3d"
           }
          ],
          "parcoords": [
           {
            "line": {
             "colorbar": {
              "outlinewidth": 0,
              "ticks": ""
             }
            },
            "type": "parcoords"
           }
          ],
          "pie": [
           {
            "automargin": true,
            "type": "pie"
           }
          ],
          "scatter": [
           {
            "fillpattern": {
             "fillmode": "overlay",
             "size": 10,
             "solidity": 0.2
            },
            "type": "scatter"
           }
          ],
          "scatter3d": [
           {
            "line": {
             "colorbar": {
              "outlinewidth": 0,
              "ticks": ""
             }
            },
            "marker": {
             "colorbar": {
              "outlinewidth": 0,
              "ticks": ""
             }
            },
            "type": "scatter3d"
           }
          ],
          "scattercarpet": [
           {
            "marker": {
             "colorbar": {
              "outlinewidth": 0,
              "ticks": ""
             }
            },
            "type": "scattercarpet"
           }
          ],
          "scattergeo": [
           {
            "marker": {
             "colorbar": {
              "outlinewidth": 0,
              "ticks": ""
             }
            },
            "type": "scattergeo"
           }
          ],
          "scattergl": [
           {
            "marker": {
             "colorbar": {
              "outlinewidth": 0,
              "ticks": ""
             }
            },
            "type": "scattergl"
           }
          ],
          "scattermap": [
           {
            "marker": {
             "colorbar": {
              "outlinewidth": 0,
              "ticks": ""
             }
            },
            "type": "scattermap"
           }
          ],
          "scattermapbox": [
           {
            "marker": {
             "colorbar": {
              "outlinewidth": 0,
              "ticks": ""
             }
            },
            "type": "scattermapbox"
           }
          ],
          "scatterpolar": [
           {
            "marker": {
             "colorbar": {
              "outlinewidth": 0,
              "ticks": ""
             }
            },
            "type": "scatterpolar"
           }
          ],
          "scatterpolargl": [
           {
            "marker": {
             "colorbar": {
              "outlinewidth": 0,
              "ticks": ""
             }
            },
            "type": "scatterpolargl"
           }
          ],
          "scatterternary": [
           {
            "marker": {
             "colorbar": {
              "outlinewidth": 0,
              "ticks": ""
             }
            },
            "type": "scatterternary"
           }
          ],
          "surface": [
           {
            "colorbar": {
             "outlinewidth": 0,
             "ticks": ""
            },
            "colorscale": [
             [
              0,
              "#0d0887"
             ],
             [
              0.1111111111111111,
              "#46039f"
             ],
             [
              0.2222222222222222,
              "#7201a8"
             ],
             [
              0.3333333333333333,
              "#9c179e"
             ],
             [
              0.4444444444444444,
              "#bd3786"
             ],
             [
              0.5555555555555556,
              "#d8576b"
             ],
             [
              0.6666666666666666,
              "#ed7953"
             ],
             [
              0.7777777777777778,
              "#fb9f3a"
             ],
             [
              0.8888888888888888,
              "#fdca26"
             ],
             [
              1,
              "#f0f921"
             ]
            ],
            "type": "surface"
           }
          ],
          "table": [
           {
            "cells": {
             "fill": {
              "color": "#EBF0F8"
             },
             "line": {
              "color": "white"
             }
            },
            "header": {
             "fill": {
              "color": "#C8D4E3"
             },
             "line": {
              "color": "white"
             }
            },
            "type": "table"
           }
          ]
         },
         "layout": {
          "annotationdefaults": {
           "arrowcolor": "#2a3f5f",
           "arrowhead": 0,
           "arrowwidth": 1
          },
          "autotypenumbers": "strict",
          "coloraxis": {
           "colorbar": {
            "outlinewidth": 0,
            "ticks": ""
           }
          },
          "colorscale": {
           "diverging": [
            [
             0,
             "#8e0152"
            ],
            [
             0.1,
             "#c51b7d"
            ],
            [
             0.2,
             "#de77ae"
            ],
            [
             0.3,
             "#f1b6da"
            ],
            [
             0.4,
             "#fde0ef"
            ],
            [
             0.5,
             "#f7f7f7"
            ],
            [
             0.6,
             "#e6f5d0"
            ],
            [
             0.7,
             "#b8e186"
            ],
            [
             0.8,
             "#7fbc41"
            ],
            [
             0.9,
             "#4d9221"
            ],
            [
             1,
             "#276419"
            ]
           ],
           "sequential": [
            [
             0,
             "#0d0887"
            ],
            [
             0.1111111111111111,
             "#46039f"
            ],
            [
             0.2222222222222222,
             "#7201a8"
            ],
            [
             0.3333333333333333,
             "#9c179e"
            ],
            [
             0.4444444444444444,
             "#bd3786"
            ],
            [
             0.5555555555555556,
             "#d8576b"
            ],
            [
             0.6666666666666666,
             "#ed7953"
            ],
            [
             0.7777777777777778,
             "#fb9f3a"
            ],
            [
             0.8888888888888888,
             "#fdca26"
            ],
            [
             1,
             "#f0f921"
            ]
           ],
           "sequentialminus": [
            [
             0,
             "#0d0887"
            ],
            [
             0.1111111111111111,
             "#46039f"
            ],
            [
             0.2222222222222222,
             "#7201a8"
            ],
            [
             0.3333333333333333,
             "#9c179e"
            ],
            [
             0.4444444444444444,
             "#bd3786"
            ],
            [
             0.5555555555555556,
             "#d8576b"
            ],
            [
             0.6666666666666666,
             "#ed7953"
            ],
            [
             0.7777777777777778,
             "#fb9f3a"
            ],
            [
             0.8888888888888888,
             "#fdca26"
            ],
            [
             1,
             "#f0f921"
            ]
           ]
          },
          "colorway": [
           "#636efa",
           "#EF553B",
           "#00cc96",
           "#ab63fa",
           "#FFA15A",
           "#19d3f3",
           "#FF6692",
           "#B6E880",
           "#FF97FF",
           "#FECB52"
          ],
          "font": {
           "color": "#2a3f5f"
          },
          "geo": {
           "bgcolor": "white",
           "lakecolor": "white",
           "landcolor": "#E5ECF6",
           "showlakes": true,
           "showland": true,
           "subunitcolor": "white"
          },
          "hoverlabel": {
           "align": "left"
          },
          "hovermode": "closest",
          "mapbox": {
           "style": "light"
          },
          "paper_bgcolor": "white",
          "plot_bgcolor": "#E5ECF6",
          "polar": {
           "angularaxis": {
            "gridcolor": "white",
            "linecolor": "white",
            "ticks": ""
           },
           "bgcolor": "#E5ECF6",
           "radialaxis": {
            "gridcolor": "white",
            "linecolor": "white",
            "ticks": ""
           }
          },
          "scene": {
           "xaxis": {
            "backgroundcolor": "#E5ECF6",
            "gridcolor": "white",
            "gridwidth": 2,
            "linecolor": "white",
            "showbackground": true,
            "ticks": "",
            "zerolinecolor": "white"
           },
           "yaxis": {
            "backgroundcolor": "#E5ECF6",
            "gridcolor": "white",
            "gridwidth": 2,
            "linecolor": "white",
            "showbackground": true,
            "ticks": "",
            "zerolinecolor": "white"
           },
           "zaxis": {
            "backgroundcolor": "#E5ECF6",
            "gridcolor": "white",
            "gridwidth": 2,
            "linecolor": "white",
            "showbackground": true,
            "ticks": "",
            "zerolinecolor": "white"
           }
          },
          "shapedefaults": {
           "line": {
            "color": "#2a3f5f"
           }
          },
          "ternary": {
           "aaxis": {
            "gridcolor": "white",
            "linecolor": "white",
            "ticks": ""
           },
           "baxis": {
            "gridcolor": "white",
            "linecolor": "white",
            "ticks": ""
           },
           "bgcolor": "#E5ECF6",
           "caxis": {
            "gridcolor": "white",
            "linecolor": "white",
            "ticks": ""
           }
          },
          "title": {
           "x": 0.05
          },
          "xaxis": {
           "automargin": true,
           "gridcolor": "white",
           "linecolor": "white",
           "ticks": "",
           "title": {
            "standoff": 15
           },
           "zerolinecolor": "white",
           "zerolinewidth": 2
          },
          "yaxis": {
           "automargin": true,
           "gridcolor": "white",
           "linecolor": "white",
           "ticks": "",
           "title": {
            "standoff": 15
           },
           "zerolinecolor": "white",
           "zerolinewidth": 2
          }
         }
        },
        "title": {
         "text": "Parallel Coordinate Plot"
        }
       }
      },
      "image/png": "[encoded data removed]"
     },
     "metadata": {},
     "output_type": "display_data"
    }
   ],
   "source": [
    "optuna.visualization.plot_parallel_coordinate(study_lvri)"
   ]
  },
  {
   "cell_type": "code",
   "execution_count": null,
   "id": "dffc470b-3714-4c01-9b57-f5e5186f4f46",
   "metadata": {},
   "outputs": [
    {
     "data": {
      "application/vnd.plotly.v1+json": {
       "config": {
        "plotlyServerURL": "https://plot.ly"
       },
       "data": [
        {
         "cliponaxis": false,
         "hovertemplate": [
          "subsample (FloatDistribution): 0.0009822020685450639<extra></extra>",
          "grow_policy (CategoricalDistribution): 0.0013642884017328006<extra></extra>",
          "min_child_weight (IntDistribution): 0.0015750740835735208<extra></extra>",
          "lambda (FloatDistribution): 0.0024061207317891084<extra></extra>",
          "gamma (FloatDistribution): 0.004269804852809459<extra></extra>",
          "num_boost_round (IntDistribution): 0.005285865373109268<extra></extra>",
          "colsample_bytree (FloatDistribution): 0.008290133655054191<extra></extra>",
          "alpha (FloatDistribution): 0.009603952460483175<extra></extra>",
          "learning_rate (FloatDistribution): 0.07020702132429235<extra></extra>",
          "max_depth (IntDistribution): 0.8960155370486111<extra></extra>"
         ],
         "name": "Objective Value",
         "orientation": "h",
         "text": [
          "<0.01",
          "<0.01",
          "<0.01",
          "<0.01",
          "<0.01",
          "<0.01",
          "<0.01",
          "<0.01",
          "0.07",
          "0.90"
         ],
         "textposition": "outside",
         "type": "bar",
         "x": [
          0.0009822020685450639,
          0.0013642884017328006,
          0.0015750740835735208,
          0.0024061207317891084,
          0.004269804852809459,
          0.005285865373109268,
          0.008290133655054191,
          0.009603952460483175,
          0.07020702132429235,
          0.8960155370486111
         ],
         "y": [
          "subsample",
          "grow_policy",
          "min_child_weight",
          "lambda",
          "gamma",
          "num_boost_round",
          "colsample_bytree",
          "alpha",
          "learning_rate",
          "max_depth"
         ]
        }
       ],
       "layout": {
        "template": {
         "data": {
          "bar": [
           {
            "error_x": {
             "color": "#2a3f5f"
            },
            "error_y": {
             "color": "#2a3f5f"
            },
            "marker": {
             "line": {
              "color": "#E5ECF6",
              "width": 0.5
             },
             "pattern": {
              "fillmode": "overlay",
              "size": 10,
              "solidity": 0.2
             }
            },
            "type": "bar"
           }
          ],
          "barpolar": [
           {
            "marker": {
             "line": {
              "color": "#E5ECF6",
              "width": 0.5
             },
             "pattern": {
              "fillmode": "overlay",
              "size": 10,
              "solidity": 0.2
             }
            },
            "type": "barpolar"
           }
          ],
          "carpet": [
           {
            "aaxis": {
             "endlinecolor": "#2a3f5f",
             "gridcolor": "white",
             "linecolor": "white",
             "minorgridcolor": "white",
             "startlinecolor": "#2a3f5f"
            },
            "baxis": {
             "endlinecolor": "#2a3f5f",
             "gridcolor": "white",
             "linecolor": "white",
             "minorgridcolor": "white",
             "startlinecolor": "#2a3f5f"
            },
            "type": "carpet"
           }
          ],
          "choropleth": [
           {
            "colorbar": {
             "outlinewidth": 0,
             "ticks": ""
            },
            "type": "choropleth"
           }
          ],
          "contour": [
           {
            "colorbar": {
             "outlinewidth": 0,
             "ticks": ""
            },
            "colorscale": [
             [
              0,
              "#0d0887"
             ],
             [
              0.1111111111111111,
              "#46039f"
             ],
             [
              0.2222222222222222,
              "#7201a8"
             ],
             [
              0.3333333333333333,
              "#9c179e"
             ],
             [
              0.4444444444444444,
              "#bd3786"
             ],
             [
              0.5555555555555556,
              "#d8576b"
             ],
             [
              0.6666666666666666,
              "#ed7953"
             ],
             [
              0.7777777777777778,
              "#fb9f3a"
             ],
             [
              0.8888888888888888,
              "#fdca26"
             ],
             [
              1,
              "#f0f921"
             ]
            ],
            "type": "contour"
           }
          ],
          "contourcarpet": [
           {
            "colorbar": {
             "outlinewidth": 0,
             "ticks": ""
            },
            "type": "contourcarpet"
           }
          ],
          "heatmap": [
           {
            "colorbar": {
             "outlinewidth": 0,
             "ticks": ""
            },
            "colorscale": [
             [
              0,
              "#0d0887"
             ],
             [
              0.1111111111111111,
              "#46039f"
             ],
             [
              0.2222222222222222,
              "#7201a8"
             ],
             [
              0.3333333333333333,
              "#9c179e"
             ],
             [
              0.4444444444444444,
              "#bd3786"
             ],
             [
              0.5555555555555556,
              "#d8576b"
             ],
             [
              0.6666666666666666,
              "#ed7953"
             ],
             [
              0.7777777777777778,
              "#fb9f3a"
             ],
             [
              0.8888888888888888,
              "#fdca26"
             ],
             [
              1,
              "#f0f921"
             ]
            ],
            "type": "heatmap"
           }
          ],
          "histogram": [
           {
            "marker": {
             "pattern": {
              "fillmode": "overlay",
              "size": 10,
              "solidity": 0.2
             }
            },
            "type": "histogram"
           }
          ],
          "histogram2d": [
           {
            "colorbar": {
             "outlinewidth": 0,
             "ticks": ""
            },
            "colorscale": [
             [
              0,
              "#0d0887"
             ],
             [
              0.1111111111111111,
              "#46039f"
             ],
             [
              0.2222222222222222,
              "#7201a8"
             ],
             [
              0.3333333333333333,
              "#9c179e"
             ],
             [
              0.4444444444444444,
              "#bd3786"
             ],
             [
              0.5555555555555556,
              "#d8576b"
             ],
             [
              0.6666666666666666,
              "#ed7953"
             ],
             [
              0.7777777777777778,
              "#fb9f3a"
             ],
             [
              0.8888888888888888,
              "#fdca26"
             ],
             [
              1,
              "#f0f921"
             ]
            ],
            "type": "histogram2d"
           }
          ],
          "histogram2dcontour": [
           {
            "colorbar": {
             "outlinewidth": 0,
             "ticks": ""
            },
            "colorscale": [
             [
              0,
              "#0d0887"
             ],
             [
              0.1111111111111111,
              "#46039f"
             ],
             [
              0.2222222222222222,
              "#7201a8"
             ],
             [
              0.3333333333333333,
              "#9c179e"
             ],
             [
              0.4444444444444444,
              "#bd3786"
             ],
             [
              0.5555555555555556,
              "#d8576b"
             ],
             [
              0.6666666666666666,
              "#ed7953"
             ],
             [
              0.7777777777777778,
              "#fb9f3a"
             ],
             [
              0.8888888888888888,
              "#fdca26"
             ],
             [
              1,
              "#f0f921"
             ]
            ],
            "type": "histogram2dcontour"
           }
          ],
          "mesh3d": [
           {
            "colorbar": {
             "outlinewidth": 0,
             "ticks": ""
            },
            "type": "mesh3d"
           }
          ],
          "parcoords": [
           {
            "line": {
             "colorbar": {
              "outlinewidth": 0,
              "ticks": ""
             }
            },
            "type": "parcoords"
           }
          ],
          "pie": [
           {
            "automargin": true,
            "type": "pie"
           }
          ],
          "scatter": [
           {
            "fillpattern": {
             "fillmode": "overlay",
             "size": 10,
             "solidity": 0.2
            },
            "type": "scatter"
           }
          ],
          "scatter3d": [
           {
            "line": {
             "colorbar": {
              "outlinewidth": 0,
              "ticks": ""
             }
            },
            "marker": {
             "colorbar": {
              "outlinewidth": 0,
              "ticks": ""
             }
            },
            "type": "scatter3d"
           }
          ],
          "scattercarpet": [
           {
            "marker": {
             "colorbar": {
              "outlinewidth": 0,
              "ticks": ""
             }
            },
            "type": "scattercarpet"
           }
          ],
          "scattergeo": [
           {
            "marker": {
             "colorbar": {
              "outlinewidth": 0,
              "ticks": ""
             }
            },
            "type": "scattergeo"
           }
          ],
          "scattergl": [
           {
            "marker": {
             "colorbar": {
              "outlinewidth": 0,
              "ticks": ""
             }
            },
            "type": "scattergl"
           }
          ],
          "scattermap": [
           {
            "marker": {
             "colorbar": {
              "outlinewidth": 0,
              "ticks": ""
             }
            },
            "type": "scattermap"
           }
          ],
          "scattermapbox": [
           {
            "marker": {
             "colorbar": {
              "outlinewidth": 0,
              "ticks": ""
             }
            },
            "type": "scattermapbox"
           }
          ],
          "scatterpolar": [
           {
            "marker": {
             "colorbar": {
              "outlinewidth": 0,
              "ticks": ""
             }
            },
            "type": "scatterpolar"
           }
          ],
          "scatterpolargl": [
           {
            "marker": {
             "colorbar": {
              "outlinewidth": 0,
              "ticks": ""
             }
            },
            "type": "scatterpolargl"
           }
          ],
          "scatterternary": [
           {
            "marker": {
             "colorbar": {
              "outlinewidth": 0,
              "ticks": ""
             }
            },
            "type": "scatterternary"
           }
          ],
          "surface": [
           {
            "colorbar": {
             "outlinewidth": 0,
             "ticks": ""
            },
            "colorscale": [
             [
              0,
              "#0d0887"
             ],
             [
              0.1111111111111111,
              "#46039f"
             ],
             [
              0.2222222222222222,
              "#7201a8"
             ],
             [
              0.3333333333333333,
              "#9c179e"
             ],
             [
              0.4444444444444444,
              "#bd3786"
             ],
             [
              0.5555555555555556,
              "#d8576b"
             ],
             [
              0.6666666666666666,
              "#ed7953"
             ],
             [
              0.7777777777777778,
              "#fb9f3a"
             ],
             [
              0.8888888888888888,
              "#fdca26"
             ],
             [
              1,
              "#f0f921"
             ]
            ],
            "type": "surface"
           }
          ],
          "table": [
           {
            "cells": {
             "fill": {
              "color": "#EBF0F8"
             },
             "line": {
              "color": "white"
             }
            },
            "header": {
             "fill": {
              "color": "#C8D4E3"
             },
             "line": {
              "color": "white"
             }
            },
            "type": "table"
           }
          ]
         },
         "layout": {
          "annotationdefaults": {
           "arrowcolor": "#2a3f5f",
           "arrowhead": 0,
           "arrowwidth": 1
          },
          "autotypenumbers": "strict",
          "coloraxis": {
           "colorbar": {
            "outlinewidth": 0,
            "ticks": ""
           }
          },
          "colorscale": {
           "diverging": [
            [
             0,
             "#8e0152"
            ],
            [
             0.1,
             "#c51b7d"
            ],
            [
             0.2,
             "#de77ae"
            ],
            [
             0.3,
             "#f1b6da"
            ],
            [
             0.4,
             "#fde0ef"
            ],
            [
             0.5,
             "#f7f7f7"
            ],
            [
             0.6,
             "#e6f5d0"
            ],
            [
             0.7,
             "#b8e186"
            ],
            [
             0.8,
             "#7fbc41"
            ],
            [
             0.9,
             "#4d9221"
            ],
            [
             1,
             "#276419"
            ]
           ],
           "sequential": [
            [
             0,
             "#0d0887"
            ],
            [
             0.1111111111111111,
             "#46039f"
            ],
            [
             0.2222222222222222,
             "#7201a8"
            ],
            [
             0.3333333333333333,
             "#9c179e"
            ],
            [
             0.4444444444444444,
             "#bd3786"
            ],
            [
             0.5555555555555556,
             "#d8576b"
            ],
            [
             0.6666666666666666,
             "#ed7953"
            ],
            [
             0.7777777777777778,
             "#fb9f3a"
            ],
            [
             0.8888888888888888,
             "#fdca26"
            ],
            [
             1,
             "#f0f921"
            ]
           ],
           "sequentialminus": [
            [
             0,
             "#0d0887"
            ],
            [
             0.1111111111111111,
             "#46039f"
            ],
            [
             0.2222222222222222,
             "#7201a8"
            ],
            [
             0.3333333333333333,
             "#9c179e"
            ],
            [
             0.4444444444444444,
             "#bd3786"
            ],
            [
             0.5555555555555556,
             "#d8576b"
            ],
            [
             0.6666666666666666,
             "#ed7953"
            ],
            [
             0.7777777777777778,
             "#fb9f3a"
            ],
            [
             0.8888888888888888,
             "#fdca26"
            ],
            [
             1,
             "#f0f921"
            ]
           ]
          },
          "colorway": [
           "#636efa",
           "#EF553B",
           "#00cc96",
           "#ab63fa",
           "#FFA15A",
           "#19d3f3",
           "#FF6692",
           "#B6E880",
           "#FF97FF",
           "#FECB52"
          ],
          "font": {
           "color": "#2a3f5f"
          },
          "geo": {
           "bgcolor": "white",
           "lakecolor": "white",
           "landcolor": "#E5ECF6",
           "showlakes": true,
           "showland": true,
           "subunitcolor": "white"
          },
          "hoverlabel": {
           "align": "left"
          },
          "hovermode": "closest",
          "mapbox": {
           "style": "light"
          },
          "paper_bgcolor": "white",
          "plot_bgcolor": "#E5ECF6",
          "polar": {
           "angularaxis": {
            "gridcolor": "white",
            "linecolor": "white",
            "ticks": ""
           },
           "bgcolor": "#E5ECF6",
           "radialaxis": {
            "gridcolor": "white",
            "linecolor": "white",
            "ticks": ""
           }
          },
          "scene": {
           "xaxis": {
            "backgroundcolor": "#E5ECF6",
            "gridcolor": "white",
            "gridwidth": 2,
            "linecolor": "white",
            "showbackground": true,
            "ticks": "",
            "zerolinecolor": "white"
           },
           "yaxis": {
            "backgroundcolor": "#E5ECF6",
            "gridcolor": "white",
            "gridwidth": 2,
            "linecolor": "white",
            "showbackground": true,
            "ticks": "",
            "zerolinecolor": "white"
           },
           "zaxis": {
            "backgroundcolor": "#E5ECF6",
            "gridcolor": "white",
            "gridwidth": 2,
            "linecolor": "white",
            "showbackground": true,
            "ticks": "",
            "zerolinecolor": "white"
           }
          },
          "shapedefaults": {
           "line": {
            "color": "#2a3f5f"
           }
          },
          "ternary": {
           "aaxis": {
            "gridcolor": "white",
            "linecolor": "white",
            "ticks": ""
           },
           "baxis": {
            "gridcolor": "white",
            "linecolor": "white",
            "ticks": ""
           },
           "bgcolor": "#E5ECF6",
           "caxis": {
            "gridcolor": "white",
            "linecolor": "white",
            "ticks": ""
           }
          },
          "title": {
           "x": 0.05
          },
          "xaxis": {
           "automargin": true,
           "gridcolor": "white",
           "linecolor": "white",
           "ticks": "",
           "title": {
            "standoff": 15
           },
           "zerolinecolor": "white",
           "zerolinewidth": 2
          },
          "yaxis": {
           "automargin": true,
           "gridcolor": "white",
           "linecolor": "white",
           "ticks": "",
           "title": {
            "standoff": 15
           },
           "zerolinecolor": "white",
           "zerolinewidth": 2
          }
         }
        },
        "title": {
         "text": "Hyperparameter Importances"
        },
        "xaxis": {
         "title": {
          "text": "Hyperparameter Importance"
         }
        },
        "yaxis": {
         "title": {
          "text": "Hyperparameter"
         }
        }
       }
      },
      "image/png": "[encoded data removed]"
     },
     "metadata": {},
     "output_type": "display_data"
    }
   ],
   "source": [
    "optuna.visualization.plot_param_importances(study_lvri)"
   ]
  },
  {
   "cell_type": "code",
   "execution_count": null,
   "id": "4ae1a678-b0b5-44bc-9438-a9991392e0ee",
   "metadata": {},
   "outputs": [
    {
     "name": "stdout",
     "output_type": "stream",
     "text": [
      "learning_rate 0.03876143929687533\n",
      "max_depth 10\n",
      "min_child_weight 15\n",
      "subsample 0.6036800627210576\n",
      "colsample_bytree 0.9850053687946877\n",
      "lambda 0.8860473392127588\n",
      "alpha 14.228611523759795\n",
      "gamma 3.526361333846049\n",
      "grow_policy lossguide\n",
      "random_state 10\n",
      "2500\n"
     ]
    }
   ],
   "source": [
    "best_params = study_lvri.best_params.copy()\n",
    "num_boost_round = best_params.pop(\"num_boost_round\")\n",
    "best_params.update({\"random_state\": RAND})\n",
    "for k, v in best_params.items():\n",
    "    print(k, v)\n",
    "print(num_boost_round)"
   ]
  },
  {
   "cell_type": "code",
   "execution_count": null,
   "id": "f5aaed9c-360c-40f9-b8fb-bcf5117f53fc",
   "metadata": {},
   "outputs": [
    {
     "data": {
      "text/plain": [
       "[{'train': (Timestamp('2021-09-01 00:00:00'),\n",
       "   Timestamp('2023-03-31 23:00:00')),\n",
       "  'test': (Timestamp('2023-04-01 00:00:00'),\n",
       "   Timestamp('2023-04-30 23:00:00'))},\n",
       " {'train': (Timestamp('2021-09-01 00:00:00'),\n",
       "   Timestamp('2023-04-30 23:00:00')),\n",
       "  'test': (Timestamp('2023-05-01 00:00:00'),\n",
       "   Timestamp('2023-05-31 23:00:00'))}]"
      ]
     },
     "execution_count": null,
     "metadata": {},
     "output_type": "execute_result"
    }
   ],
   "source": [
    "optuna_train_lv_tests = [\n",
    "    {\n",
    "        \"train\": (\n",
    "            start_ts,\n",
    "            start_ts + pd.DateOffset(months=19 + i) - Timedelta(hours=1),\n",
    "        ),\n",
    "        \"test\": (\n",
    "            start_ts + pd.DateOffset(months=19 + i),\n",
    "            start_ts + pd.DateOffset(months=20 + i) - Timedelta(hours=1),\n",
    "        ),\n",
    "    }\n",
    "    for i in range(2)\n",
    "]\n",
    "optuna_train_lv_tests"
   ]
  },
  {
   "cell_type": "code",
   "execution_count": null,
   "id": "85a1e194-8f9d-4309-92b1-d2efe1788ff2",
   "metadata": {},
   "outputs": [],
   "source": [
    "mae_tests = []\n",
    "\n",
    "for split in optuna_train_lv_tests:\n",
    "    X_train, y_train = drop_split(df, split[\"train\"], FEATURES_TO_DROP)\n",
    "    dtrain = xgb.DMatrix(X_train, y_train, enable_categorical=True)\n",
    "    del X_train, y_train\n",
    "    \n",
    "    booster = xgb.train(\n",
    "        params=best_params,\n",
    "        dtrain=dtrain,\n",
    "        num_boost_round=num_boost_round,\n",
    "        verbose_eval=True,\n",
    "    )\n",
    "    del dtrain\n",
    "\n",
    "    X_test, y_test = drop_split(df, split[\"test\"], FEATURES_TO_DROP)\n",
    "    dtest = xgb.DMatrix(X_test, enable_categorical=True)\n",
    "    del X_test\n",
    "    preds = booster.predict(dtest)\n",
    "    mae_tests.append(MAE(y_test, preds))"
   ]
  },
  {
   "cell_type": "code",
   "execution_count": null,
   "id": "2d31fe81-3450-4733-b2d7-122b8b77bf9d",
   "metadata": {},
   "outputs": [
    {
     "data": {
      "text/plain": [
       "[71.47074890136719, 76.36345672607422]"
      ]
     },
     "execution_count": null,
     "metadata": {},
     "output_type": "execute_result"
    }
   ],
   "source": [
    "mae_tests"
   ]
  }
 ],
 "metadata": {},
 "nbformat": 4,
 "nbformat_minor": 5
}
