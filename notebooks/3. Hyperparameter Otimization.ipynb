{
 "cells": [
  {
   "cell_type": "markdown",
   "id": "8564d41a-78cf-4436-9f3c-0a83002479b4",
   "metadata": {},
   "source": [
    "# 1. Setup"
   ]
  },
  {
   "cell_type": "code",
   "execution_count": null,
   "id": "cc98bc4f-6cb6-4cf4-9d8e-3ddb51c322ce",
   "metadata": {},
   "outputs": [],
   "source": [
    "import sys\n",
    "from pathlib import Path\n",
    "sys.path.append(str(Path().resolve().parent))"
   ]
  },
  {
   "cell_type": "code",
   "execution_count": null,
   "id": "aa109d03-2ed5-49bb-a248-5cb63aff28ee",
   "metadata": {},
   "outputs": [],
   "source": [
    "import matplotlib.pyplot as plt\n",
    "import numpy as np\n",
    "import optuna\n",
    "import pandas as pd\n",
    "import seaborn as sns\n",
    "import xgboost as xgb\n",
    "from optuna.samplers import TPESampler\n",
    "from pandas import DataFrame, Series, Timedelta\n",
    "from sklearn.metrics import mean_absolute_error as MAE\n",
    "from xgboost import DMatrix, XGBRegressor"
   ]
  },
  {
   "cell_type": "code",
   "execution_count": null,
   "id": "b44029df-5480-4fc2-bf60-020dec1e0c18",
   "metadata": {},
   "outputs": [],
   "source": [
    "from utils.loading import load_all_raw_data\n",
    "from utils.preprocessing import process_all_dfs\n",
    "from utils.merging import merge_all_dfs\n",
    "from utils.feature_engineering import *"
   ]
  },
  {
   "cell_type": "code",
   "execution_count": null,
   "id": "8390c843-629b-4539-a5a2-9ab0e6bd2e07",
   "metadata": {},
   "outputs": [],
   "source": [
    "pd.set_option(\n",
    "    \"display.float_format\",\n",
    "    lambda x: f\"{x:.2e}\" if abs(x) < 0.01 and x != 0 else f\"{x:.2f}\",\n",
    ")\n",
    "pd.set_option('display.max_columns', 100)\n",
    "pd.set_option(\"display.max_rows\", 100)"
   ]
  },
  {
   "cell_type": "code",
   "execution_count": null,
   "id": "2eaadc0f-2ff7-4e14-86af-d08b7903cd15",
   "metadata": {},
   "outputs": [],
   "source": [
    "RAW_DATA_PATH = \"../data/raw_data/\"\n",
    "ADDITIONAL_DATA_PATH = \"../data/additional_data/\"\n",
    "\n",
    "SEGMENT_C = [\"county\", \"product_type\", \"is_business\"]\n",
    "CATEGORICAL_C = [\"county\", \"product_type\", \"is_business\", \"is_consumption\"]\n",
    "TARGET_C = [\n",
    "    \"county\",\n",
    "    \"product_type\",\n",
    "    \"is_business\",\n",
    "    \"is_consumption\",\n",
    "    \"datetime\",\n",
    "]\n",
    "RAND = 10"
   ]
  },
  {
   "cell_type": "code",
   "execution_count": null,
   "id": "6b008800-bc93-4537-af46-0be6b76438a1",
   "metadata": {},
   "outputs": [],
   "source": [
    "processed_dfs = process_all_dfs(\n",
    "    load_all_raw_data(RAW_DATA_PATH, ADDITIONAL_DATA_PATH)\n",
    ")\n",
    "\n",
    "# processed_dfs.keys()\n",
    "df = merge_all_dfs(processed_dfs, how=\"left\")\n",
    "df = add_dst_flag(df)\n",
    "df = add_cyclic_datetime_features(df, drop_raw=True)"
   ]
  },
  {
   "cell_type": "code",
   "execution_count": null,
   "id": "0a58200c-b23e-4e91-a7ea-42838195e0ec",
   "metadata": {},
   "outputs": [],
   "source": [
    "for lag in [2, 3, 7]:\n",
    "# for lag in range(2, 15):\n",
    "    df = df.merge(\n",
    "        get_lag(processed_dfs[\"train\"][TARGET_C + [\"target\"]], lag=lag),\n",
    "        how=\"left\",\n",
    "        on=TARGET_C,\n",
    "    )"
   ]
  },
  {
   "cell_type": "code",
   "execution_count": null,
   "id": "2660bda6-bf83-4fd7-8b0b-4393d93271e7",
   "metadata": {},
   "outputs": [],
   "source": [
    "for window in [24, 24 * 3, 24 * 7, 24 * 14]:\n",
    "    # for window in [24 * i for i in range(1, 15)]:\n",
    "    df = df.merge(\n",
    "        get_moving_average(\n",
    "            processed_dfs[\"train\"]\n",
    "            .set_index(\"datetime\")\n",
    "            .sort_index()\n",
    "            .groupby(CATEGORICAL_C, observed=True, as_index=False),\n",
    "            columns=[\"target\"],\n",
    "            window=window,\n",
    "            # ).dropna(),\n",
    "        ),\n",
    "        how=\"left\",\n",
    "        on=TARGET_C,\n",
    "    )"
   ]
  },
  {
   "cell_type": "code",
   "execution_count": null,
   "id": "0fc71be1-ec2a-4d15-bbc0-b14a35895020",
   "metadata": {},
   "outputs": [],
   "source": [
    "df[\"t_over_cap\"] = (df[\"2d_lag_target\"] / df[\"installed_capacity\"]).astype(\n",
    "    \"float32\"\n",
    ")\n",
    "df[\"t_over_eic\"] = (df[\"2d_lag_target\"] / df[\"eic_count\"]).astype(\"float32\")\n",
    "df[\"cap_per_eic\"] = (df[\"installed_capacity\"] / df[\"eic_count\"]).astype(\n",
    "    \"float32\"\n",
    ")"
   ]
  },
  {
   "cell_type": "code",
   "execution_count": null,
   "id": "b43e96a5-e4b9-4f3c-a5a7-5cf40404e28c",
   "metadata": {},
   "outputs": [],
   "source": [
    "FEATURES_TO_DROP = [\"datetime\", \"data_block_id\", \"date\"]"
   ]
  },
  {
   "cell_type": "markdown",
   "id": "17c9124c-dc6d-4f0d-a5ea-7277a3f8bfb5",
   "metadata": {},
   "source": [
    "# 2. Time Splits"
   ]
  },
  {
   "cell_type": "code",
   "execution_count": null,
   "id": "592e258b-a4a8-49d7-9689-17f650f5d4e8",
   "metadata": {},
   "outputs": [],
   "source": [
    "# VAL_SPLITS = 3\n",
    "FH = 7 # weekly retraining"
   ]
  },
  {
   "cell_type": "code",
   "execution_count": null,
   "id": "8d1272eb-bc9b-4568-89b0-1dfff132493e",
   "metadata": {},
   "outputs": [],
   "source": [
    "# train - val - test\n",
    "# .64 - .16 - .20"
   ]
  },
  {
   "cell_type": "code",
   "execution_count": null,
   "id": "1463e63e-e58a-470b-9393-5ceb278db573",
   "metadata": {},
   "outputs": [
    {
     "name": "stdout",
     "output_type": "stream",
     "text": [
      "Train range starts: 2021-09-01 00:00:00\n",
      "Train range length: 408\n",
      "Train range ends: 2022-10-13 23:00:00\n",
      "Validation range starts: 2022-10-14 00:00:00\n",
      "Validation range length: 102\n",
      "Validation range ends: 2023-01-23 23:00:00\n",
      "Test range starts: 2023-01-24 00:00:00\n",
      "Test range length: 128\n",
      "Test range ends: 2023-05-31 23:00:00\n"
     ]
    }
   ],
   "source": [
    "train_dt_start = df[\"datetime\"].min()\n",
    "val_dt_start = (\n",
    "    train_dt_start + (df[\"datetime\"].max() - df[\"datetime\"].min()) * 0.64\n",
    ").normalize()\n",
    "test_dt_start = (\n",
    "    train_dt_start + (df[\"datetime\"].max() - df[\"datetime\"].min()) * 0.8\n",
    ").normalize()\n",
    "\n",
    "train_dt_end = val_dt_start - Timedelta(hours=1)\n",
    "val_dt_end = test_dt_start - Timedelta(hours=1)\n",
    "test_dt_end = df[\"datetime\"].max()\n",
    "\n",
    "train_range = (train_dt_end - train_dt_start).ceil('d')\n",
    "val_range = (val_dt_end -  val_dt_start).ceil('d')\n",
    "test_range = (test_dt_end - test_dt_start).ceil('d')\n",
    "\n",
    "print(\n",
    "    f\"Train range starts: {train_dt_start}\",\n",
    "    f\"Train range length: {train_range.days}\",\n",
    "    f\"Train range ends: {train_dt_end}\",\n",
    "    \n",
    "    f\"Validation range starts: {val_dt_start}\",\n",
    "    f\"Validation range length: {val_range.days}\",\n",
    "    f\"Validation range ends: {val_dt_end}\",\n",
    "    \n",
    "    f\"Test range starts: {test_dt_start}\",\n",
    "    f\"Test range length: {test_range.days}\",\n",
    "    f\"Test range ends: {test_dt_end}\",\n",
    "    sep=\"\\n\",\n",
    ")"
   ]
  },
  {
   "cell_type": "code",
   "execution_count": null,
   "id": "66361c00-9f84-43f6-9aa1-9c67be301593",
   "metadata": {},
   "outputs": [],
   "source": [
    "splits = [\n",
    "    {\n",
    "        \"train\": (train_dt_start, train_dt_end),\n",
    "        \"val\": (val_dt_start, val_dt_start + Timedelta(days=6, hours=23)),\n",
    "    },\n",
    "    {\n",
    "        \"train\": (\n",
    "            train_dt_start + val_range / 2 - Timedelta(days=3),\n",
    "            train_dt_end + val_range / 2 - Timedelta(days=3),\n",
    "        ),\n",
    "        \"val\": (\n",
    "            val_dt_start + val_range / 2 - Timedelta(days=3),\n",
    "            val_dt_start\n",
    "            + val_range / 2\n",
    "            + Timedelta(days=6, hours=23)\n",
    "            - Timedelta(days=3),\n",
    "        ),\n",
    "    },\n",
    "    {\n",
    "        \"train\": (\n",
    "            train_dt_start + val_range - Timedelta(days=7),\n",
    "            train_dt_end + val_range - Timedelta(days=7),\n",
    "        ),\n",
    "        \"val\": (\n",
    "            val_dt_start + val_range - Timedelta(days=7),\n",
    "            val_dt_start + val_range - Timedelta(hours=1),\n",
    "        ),\n",
    "    },\n",
    "]\n",
    "\n",
    "# for i, d in enumerate(splits):\n",
    "#     print(i, \"train\", d[\"train\"])\n",
    "#     print(i, \"valid\", d[\"val\"])\n",
    "#     print(d[\"train\"][1] - d[\"train\"][0])\n",
    "#     print(d[\"val\"][1] - d[\"val\"][0])"
   ]
  },
  {
   "cell_type": "code",
   "execution_count": null,
   "id": "f7d8c0fd-83a4-42ce-a64a-6d820f0c2b7b",
   "metadata": {},
   "outputs": [],
   "source": [
    "# splits_fixed = split_by_equal_days(\n",
    "#     dt=df.loc[df[\"datetime\"] < test_dt_start, \"datetime\"],\n",
    "#     train_days=train_days_range.days,\n",
    "#     fh=FH, \n",
    "#     n_splits=VAL_SPLITS,\n",
    "#     expanding=False,\n",
    "# )\n",
    "\n",
    "# new_splits = []\n",
    "\n",
    "# for i, d in enumerate(splits_fixed):\n",
    "#     count = len(\n",
    "#         df.loc[\n",
    "#             (df[\"datetime\"] >= d[\"val\"][0]) & (df[\"datetime\"] <= d[\"val\"][1])\n",
    "#         ]\n",
    "#     )\n",
    "#     if count < 24:\n",
    "#         print(f\"Split {i} only has {count} rows, removed\")\n",
    "#     else:\n",
    "#         new_splits.append(d)\n",
    "\n",
    "# splits_fixed = new_splits\n",
    "# for i, d in enumerate(splits_fixed):\n",
    "#     print(i, \"train\", d[\"train\"])\n",
    "#     print(i, \"valid\", d[\"val\"])"
   ]
  },
  {
   "cell_type": "markdown",
   "id": "da8af1f7-4606-4ff0-9003-831e9c0f8312",
   "metadata": {},
   "source": [
    "# 3. Baseline Model"
   ]
  },
  {
   "cell_type": "code",
   "execution_count": null,
   "id": "4e21ea6f-f8ba-4137-944b-ae968efc01ee",
   "metadata": {},
   "outputs": [],
   "source": [
    "MODELS_DIR = Path(\"../models/xgb_baseline\")\n",
    "MODELS_DIR.mkdir( parents=True, exist_ok=True)\n",
    "\n",
    "VERBOSE = 0\n",
    "ESR = 50\n",
    "baseline_params = {\n",
    "    \"learning_rate\": 0.1,\n",
    "    \"max_depth\": 7,\n",
    "    \"random_state\": RAND,\n",
    "    \"subsample\": 0.8,\n",
    "    \"colsample_bytree\": 0.8,\n",
    "    \"objective\": \"reg:absoluteerror\",\n",
    "    \"eval_metric\": \"mae\",\n",
    "    \"tree_method\": \"hist\", # GPU\n",
    "    \"device\": \"cuda\", # GPU\n",
    "    \"n_jobs\": -1,\n",
    "}"
   ]
  },
  {
   "cell_type": "code",
   "execution_count": null,
   "id": "b8633f3c-f878-4f0f-a039-1b9ea7a63503",
   "metadata": {},
   "outputs": [
    {
     "name": "stdout",
     "output_type": "stream",
     "text": [
      "Baseline MAE: 32.601064682006836\n"
     ]
    }
   ],
   "source": [
    "baseline_predicts = np.empty(len(splits))\n",
    "\n",
    "for idx, split in enumerate(splits):\n",
    "    model_path = MODELS_DIR / f\"baseline_split_{idx}.json\"\n",
    "\n",
    "    df_val = df[\n",
    "        (df[\"datetime\"] >= split[\"val\"][0])\n",
    "        & (df[\"datetime\"] <= split[\"val\"][1])\n",
    "    ].drop(FEATURES_TO_DROP, axis=1)\n",
    "\n",
    "    X_val, y_val = df_val.drop([\"target\"], axis=1), df_val[\"target\"]\n",
    "    del df_val\n",
    "\n",
    "    dval = DMatrix(X_val, label=y_val, enable_categorical=True)\n",
    "    del X_val\n",
    "\n",
    "    if model_path.exists():\n",
    "        booster = xgb.Booster()\n",
    "        booster.load_model(str(model_path))\n",
    "    else:\n",
    "        df_train = df[\n",
    "            (df[\"datetime\"] >= split[\"train\"][0])\n",
    "            & (df[\"datetime\"] <= split[\"train\"][1])\n",
    "        ].drop(FEATURES_TO_DROP, axis=1)\n",
    "\n",
    "        X_train, y_train = (\n",
    "            df_train.drop([\"target\"], axis=1),\n",
    "            df_train[\"target\"],\n",
    "        )\n",
    "\n",
    "        del df_train\n",
    "\n",
    "        dtrain = DMatrix(X_train, label=y_train, enable_categorical=True)\n",
    "        del X_train, y_train\n",
    "\n",
    "\n",
    "        evals = [(dtrain, \"train\"), (dval, \"val\")]\n",
    "\n",
    "        booster = xgb.train(\n",
    "            params=baseline_params,\n",
    "            dtrain=dtrain,\n",
    "            num_boost_round=1000,\n",
    "            evals=evals,\n",
    "            early_stopping_rounds=ESR,\n",
    "            verbose_eval=VERBOSE,\n",
    "        )\n",
    "\n",
    "        booster.save_model(str(model_path))\n",
    "    \n",
    "    preds = booster.predict(dval)\n",
    "    baseline_predicts[idx] = MAE(y_val, preds)\n",
    "\n",
    "print(\"Baseline MAE:\", np.mean(baseline_predicts))"
   ]
  },
  {
   "cell_type": "markdown",
   "id": "a7cc8b76-346b-4bf0-863f-120a3706a7fc",
   "metadata": {},
   "source": [
    "# 4. Optuna Search"
   ]
  },
  {
   "cell_type": "code",
   "execution_count": null,
   "id": "1e6d04a3-6ca8-4bdf-b941-211608d4c4b8",
   "metadata": {},
   "outputs": [],
   "source": [
    "def objective(trial):\n",
    "    params = {\n",
    "        \"learning_rate\": trial.suggest_float(\"learning_rate\", 0.03, 0.3),\n",
    "        \"max_depth\": trial.suggest_int(\"max_depth\", 3, 12),\n",
    "        \"min_child_weight\": trial.suggest_int(\"min_child_weight\", 1, 20),\n",
    "        \"subsample\": trial.suggest_float(\"subsample\", 0.5, 1.0),\n",
    "        \"colsample_bytree\": trial.suggest_float(\"colsample_bytree\", 0.5, 1.0),\n",
    "        \"lambda\": trial.suggest_float(\"lambda\", 0.001, 100),\n",
    "        \"alpha\": trial.suggest_float(\"alpha\", 0.001, 100),\n",
    "        \"gamma\": trial.suggest_float(\"gamma\", 0, 10),\n",
    "        \"grow_policy\": trial.suggest_categorical(\"grow_policy\", ['depthwise', 'lossguide']),\n",
    "\n",
    "        \"random_state\": RAND,\n",
    "        \"tree_method\": \"hist\",\n",
    "        \"device\": \"cuda\",\n",
    "        \"objective\": \"reg:absoluteerror\",\n",
    "        \"eval_metric\": \"mae\",\n",
    "    }\n",
    "    num_boost_round = trial.suggest_int(\"num_boost_round\", 500, 2500, step=500)\n",
    "    cv_predicts = np.empty(len(splits))\n",
    "\n",
    "    for idx, split in enumerate(splits):\n",
    "        df_train = df[\n",
    "            (df[\"datetime\"] >= split[\"train\"][0])\n",
    "            & (df[\"datetime\"] <= split[\"train\"][1])\n",
    "        ].drop(FEATURES_TO_DROP, axis=1)\n",
    "        df_val = df[\n",
    "            (df[\"datetime\"] >= split[\"val\"][0])\n",
    "            & (df[\"datetime\"] <= split[\"val\"][1])\n",
    "        ].drop(FEATURES_TO_DROP, axis=1)\n",
    "\n",
    "        X_train, y_train = (\n",
    "            df_train.drop([\"target\"], axis=1),\n",
    "            df_train[\"target\"],\n",
    "        )\n",
    "        dtrain = DMatrix(X_train, label=y_train, enable_categorical=True)\n",
    "        del X_train, y_train\n",
    "\n",
    "        X_val, y_val = df_val.drop([\"target\"], axis=1), df_val[\"target\"]\n",
    "        dval = DMatrix(X_val, label=y_val, enable_categorical=True)\n",
    "        del X_val\n",
    "\n",
    "        evals = [(dtrain, \"train\"), (dval, \"val\")]\n",
    "\n",
    "        booster = xgb.train(\n",
    "            params=params,\n",
    "            dtrain=dtrain,\n",
    "            evals=evals,\n",
    "            num_boost_round=num_boost_round,\n",
    "            early_stopping_rounds=ESR,\n",
    "            verbose_eval=VERBOSE,\n",
    "        )\n",
    "\n",
    "        preds = booster.predict(dval)\n",
    "        cv_predicts[idx] = MAE(y_val, preds)\n",
    "\n",
    "    return np.mean(cv_predicts)"
   ]
  },
  {
   "cell_type": "code",
   "execution_count": null,
   "id": "4b2b41e2-d573-4660-9102-e0956eb8d2f4",
   "metadata": {},
   "outputs": [],
   "source": [
    "STORAGE = \"sqlite:///../optuna_db/optuna_study_v3.db\"\n",
    "N_TRIALS = 120"
   ]
  },
  {
   "cell_type": "code",
   "execution_count": null,
   "id": "60f0063b-adea-4d79-acee-5e9947d493fd",
   "metadata": {},
   "outputs": [],
   "source": [
    "optuna.logging.set_verbosity(optuna.logging.INFO)"
   ]
  },
  {
   "cell_type": "code",
   "execution_count": null,
   "id": "0b84977f-eddf-4a35-bad6-d4b690701732",
   "metadata": {},
   "outputs": [
    {
     "name": "stderr",
     "output_type": "stream",
     "text": [
      "/root/.cache/pypoetry/virtualenvs/jlpe-9TtSrW0h-py3.12/lib/python3.12/site-packages/optuna/_experimental.py:31: ExperimentalWarning: Argument ``multivariate`` is an experimental feature. The interface can change in the future.\n",
      "  warnings.warn(\n",
      "[I 2025-06-04 17:57:36,154] Using an existing study with name 'xgb_optuna' instead of creating a new one.\n"
     ]
    },
    {
     "name": "stdout",
     "output_type": "stream",
     "text": [
      "Number of existing trials >= N_TRIALS. Skipping optimization.\n"
     ]
    }
   ],
   "source": [
    "study = optuna.create_study(\n",
    "    storage=STORAGE,\n",
    "    sampler=TPESampler(n_startup_trials=20, multivariate=True),\n",
    "    pruner=optuna.pruners.SuccessiveHalvingPruner(),\n",
    "    study_name=\"xgb_optuna\",\n",
    "    direction=\"minimize\",\n",
    "    load_if_exists=True,\n",
    ")\n",
    "existing_trials = len(study.trials)\n",
    "\n",
    "if existing_trials >= N_TRIALS:\n",
    "    print(\"Number of existing trials >= N_TRIALS. Skipping optimization.\")\n",
    "else:\n",
    "    remaining = N_TRIALS - existing_trials\n",
    "    print(f\"Run {remaining} trials to reach {N_TRIALS}\")\n",
    "    study.optimize(\n",
    "        objective,\n",
    "        n_trials=remaining,\n",
    "        show_progress_bar=True,\n",
    "        n_jobs=1,\n",
    "    )"
   ]
  },
  {
   "cell_type": "code",
   "execution_count": null,
   "id": "88c22ac9-55dd-48cc-bbdc-84bdce7a3ac1",
   "metadata": {},
   "outputs": [],
   "source": [
    "# def objective(trial):\n",
    "#     params = {\n",
    "#         \"n_estimators\": trial.suggest_int(\"n_estimators\", 500, 2000, step=500),\n",
    "#         \"learning_rate\": trial.suggest_categorical(\"learning_rate\", [0.05, 0.1, 0.2, 0.3]),\n",
    "#         \"max_depth\": trial.suggest_int(\"max_depth\", 3, 12),\n",
    "#         \"min_child_weight\": trial.suggest_int(\"max_depth\", 1, 20),\n",
    "#         \"subsample\": trial.suggest_float(\"subsample\", 0.5, 1.0),\n",
    "#         \"colsample_bytree\": trial.suggest_float(\"colsample_bytree\", 0.5, 1.0),\n",
    "#         \"lambda\": trial.suggest_float(\"colsample_bytree\", 0.001, 100),\n",
    "#         \"alpha\": trial.suggest_float(\"colsample_bytree\", 0.001, 100)\n",
    "\n",
    "#         \"early_stopping_rounds\": OPTUNA_ESR,\n",
    "#         \"random_state\": RAND,\n",
    "\n",
    "#         \"objective\": \"reg:absoluteerror\",\n",
    "#         \"eval_metric\": \"mae\",\n",
    "#         \"enable_categorical\": True,\n",
    "#         \"n_jobs\": -1,\n",
    "#     }\n",
    "#     model = XGBRegressor(**params)\n",
    "\n",
    "#     splits_fixed = split_by_equal_days(\n",
    "#         dt=df.loc[df[\"datetime\"] < test_dt_start, \"datetime\"],\n",
    "#         train_days=train_days_range,\n",
    "#         fh=7, # weekly retraining\n",
    "#         n_splits=VAL_SPLITS,\n",
    "#         expanding=False,\n",
    "#     )\n",
    "#     cv_predicts = np.empty(VAL_SPLITS)\n",
    "\n",
    "#     for idx, split in enumerate(splits_fixed):\n",
    "#         df_train = df[\n",
    "#             (df[\"datetime\"] >= split[\"train\"][0])\n",
    "#             & (df[\"datetime\"] <= split[\"train\"][1])\n",
    "#         ].drop(FEATURES_TO_DROP, axis=1)\n",
    "#         df_val = df[\n",
    "#             (df[\"datetime\"] >= split[\"val\"][0])\n",
    "#             & (df[\"datetime\"] <= split[\"val\"][1])\n",
    "#         ].drop(FEATURES_TO_DROP, axis=1)\n",
    "    \n",
    "#         X_train, y_train = (\n",
    "#             df_train.drop([\"target\"], axis=1),\n",
    "#             df_train[\"target\"],\n",
    "#         )\n",
    "#         X_val, y_val = df_val.drop([\"target\"], axis=1), df_val[\"target\"]\n",
    "#         # X_test, y_test = df_test.drop([\"target\"], axis=1), df_test[\"target\"]\n",
    "#         eval_set = [\n",
    "#             (X_train, y_train),\n",
    "#             (X_val, y_val),\n",
    "#             # (X_test, y_test)\n",
    "#         ]\n",
    "\n",
    "#         model.fit(\n",
    "#             X_train,\n",
    "#             y_train,\n",
    "#             eval_set=eval_set,\n",
    "#             verbose=VERBOSE,\n",
    "#         )\n",
    "\n",
    "#         preds = model.predict(X_val)\n",
    "#         cv_predicts[idx] = MAE(y_val, preds)\n",
    "\n",
    "#     return np.mean(cv_predicts)"
   ]
  },
  {
   "cell_type": "code",
   "execution_count": null,
   "id": "20d2e411-f387-444f-b466-98d04d3a5457",
   "metadata": {},
   "outputs": [],
   "source": [
    "# study = optuna.create_study(\n",
    "#     direction=\"minimize\",\n",
    "#     pruner=optuna.pruners.SuccessiveHalvingPruner(),\n",
    "#     study_name=\"xgb_optuna\",\n",
    "# )\n",
    "\n",
    "# study.optimize(objective, n_trials=15, show_progress_bar=True, n_jobs=1)\n",
    "# # >1h 10 n_jobs=-1"
   ]
  },
  {
   "cell_type": "code",
   "execution_count": null,
   "id": "4f6ab582-d9e8-45e7-9257-411c176e3b1d",
   "metadata": {},
   "outputs": [
    {
     "data": {
      "text/plain": [
       "{'learning_rate': 0.030955675074240654,\n",
       " 'max_depth': 10,\n",
       " 'min_child_weight': 17,\n",
       " 'subsample': 0.71406166804621,\n",
       " 'colsample_bytree': 0.9624060929298566,\n",
       " 'lambda': 9.471729484332482,\n",
       " 'alpha': 7.15583334402845,\n",
       " 'gamma': 1.9220011950179496,\n",
       " 'grow_policy': 'depthwise',\n",
       " 'num_boost_round': 2000}"
      ]
     },
     "execution_count": null,
     "metadata": {},
     "output_type": "execute_result"
    }
   ],
   "source": [
    "study.best_params\n",
    "# {'n_estimators': 1000, 'learning_rate': 0.05, 'max_depth': 12}\n",
    "# 30.988663991292317\n",
    "\n",
    "# {'learning_rate': 0.1,\n",
    "# 'max_depth': 10,\n",
    "# 'min_child_weight': 18,\n",
    "# 'subsample': 0.8594561164418333,\n",
    "# 'colsample_bytree': 0.9549790028777667,\n",
    "# 'lambda': 80.67437718316565,\n",
    "# 'alpha': 8.579982090257277,\n",
    "# 'num_boost_round': 1500}\n",
    "# 30.306320826212566\n",
    "\n",
    "\n",
    "# {'learning_rate': 0.10842258169357744,\n",
    "#  'max_depth': 10,\n",
    "#  'min_child_weight': 9,\n",
    "#  'subsample': 0.968120281133485,\n",
    "#  'colsample_bytree': 0.9514698765601128,\n",
    "#  'lambda': 56.77594835612019,\n",
    "#  'alpha': 36.40618084787037,\n",
    "#  'num_boost_round': 1000}\n",
    "# 30.03012466430664"
   ]
  },
  {
   "cell_type": "code",
   "execution_count": null,
   "id": "8cce42b8-3749-4587-b996-31c7fb2411ce",
   "metadata": {},
   "outputs": [
    {
     "data": {
      "text/plain": [
       "29.195664087931316"
      ]
     },
     "execution_count": null,
     "metadata": {},
     "output_type": "execute_result"
    }
   ],
   "source": [
    "study.best_value"
   ]
  },
  {
   "cell_type": "code",
   "execution_count": null,
   "id": "096d5d51-62db-4079-a31c-3213abbe5fcc",
   "metadata": {},
   "outputs": [
    {
     "data": {
      "application/vnd.plotly.v1+json": {
       "config": {
        "plotlyServerURL": "https://plot.ly"
       },
       "data": [
        {
         "dimensions": [
          {
           "label": "Objective Value",
           "range": [
            29.195664087931316,
            46.551411946614586
           ],
           "values": [
            44.682090759277344,
            32.151299158732094,
            46.551411946614586,
            32.202250162760414,
            33.62577692667643,
            34.60867436726888,
            30.823901494344074,
            32.001913706461586,
            32.262152353922524,
            37.91959126790365,
            30.5577335357666,
            41.763083140055336,
            33.788665771484375,
            32.18163935343424,
            34.04891586303711,
            43.161519368489586,
            34.63561503092448,
            32.468762715657554,
            33.275766372680664,
            40.91491190592448,
            31.520596822102863,
            30.287267049153645,
            30.656651814778645,
            29.785430272420246,
            30.9771671295166,
            29.61719004313151,
            31.41458574930827,
            30.010630289713543,
            32.57453854878744,
            30.67597007751465,
            29.598323822021484,
            30.353260040283203,
            30.10088539123535,
            29.843276341756184,
            31.403286616007488,
            30.94434356689453,
            29.961170832316082,
            30.53732172648112,
            30.99760564168294,
            31.611217498779297,
            31.115116119384766,
            30.5483824412028,
            31.324996948242188,
            31.900170644124348,
            30.585674285888672,
            30.08158810933431,
            29.805103937784832,
            30.305823008219402,
            29.533318201700848,
            32.205875396728516,
            30.178041458129883,
            31.429314931233723,
            34.45269775390625,
            30.850731531778973,
            30.737781524658203,
            29.4875005086263,
            30.333716710408527,
            29.59496815999349,
            30.979347229003906,
            30.082847595214844,
            30.52412478129069,
            31.31623140970866,
            32.44334475199381,
            30.723957061767578,
            30.351542154947918,
            29.359514236450195,
            29.611040751139324,
            29.576361974080402,
            29.638402938842773,
            29.41454251607259,
            30.47494061787923,
            29.37715021769206,
            29.48565928141276,
            29.633151372273762,
            29.978668212890625,
            30.928861618041992,
            30.327882766723633,
            30.387366612752277,
            35.050567626953125,
            30.67376708984375,
            29.794116973876953,
            30.01550547281901,
            31.987526575724285,
            31.165597915649414,
            29.67386245727539,
            31.43666394551595,
            29.99314308166504,
            33.02214495340983,
            29.479124069213867,
            30.202760696411133,
            32.455864588419594,
            29.195664087931316,
            30.940209070841473,
            29.64146614074707,
            30.799287796020508,
            30.267314910888672,
            30.55779520670573,
            29.989133834838867,
            30.585189819335938,
            30.341530481974285,
            30.64120864868164,
            30.068148295084637,
            30.355035146077473,
            29.564795176188152,
            29.485575358072918,
            30.840977986653645,
            31.016079584757488,
            29.939324696858723,
            30.54978370666504,
            29.976581573486328,
            30.14328384399414,
            29.79679997762044,
            29.30387814839681,
            29.703280131022137,
            30.122891743977863,
            30.4650821685791,
            30.45106824239095,
            31.717257181803387,
            31.146145502726238,
            30.219743728637695
           ]
          },
          {
           "label": "alpha",
           "range": [
            0.13109504968335317,
            96.16077012163437
           ],
           "values": [
            49.240324341089696,
            14.912969987774359,
            3.2522740534936987,
            57.91499562932965,
            83.92221655299815,
            41.709066212910614,
            41.19410909503691,
            4.264326865441169,
            35.94269567574186,
            96.16077012163437,
            0.33637997209470333,
            95.69511726223993,
            56.71801253646746,
            89.94108502379113,
            78.5388974966851,
            69.05865893187087,
            37.03034979584768,
            91.90063363048387,
            59.30149625359395,
            91.51202238344531,
            1.260765922422112,
            25.74784227404992,
            46.560855721180985,
            16.297055078861508,
            13.906106121720878,
            5.941844491554885,
            26.4639046559889,
            22.08642396829306,
            37.84966553297417,
            34.67650382609879,
            10.286213509834207,
            4.418642555850606,
            20.939501881379005,
            23.271532957899975,
            16.50285258629686,
            17.42288551443426,
            6.2518774668755075,
            32.902540871251134,
            39.67818925234705,
            11.566761367438186,
            10.298862479271234,
            7.101623434274101,
            7.98138559823256,
            16.60378651565823,
            11.94024402634258,
            7.958343211671815,
            6.820416671179601,
            19.961199606323905,
            5.427872405373744,
            9.640597692399304,
            16.524322406554763,
            20.782384423636643,
            5.6889702369871715,
            9.80658010663907,
            36.01683028388592,
            3.7971617646340565,
            10.340182008458221,
            15.50369420371192,
            13.626320914681902,
            9.815960201349313,
            1.7046313459245015,
            45.33998055500983,
            21.063518970305115,
            13.352617088158185,
            6.854366116719101,
            1.344836522101346,
            1.4251166137837699,
            6.193025865244832,
            6.72368264901848,
            2.3416788579351295,
            31.07620969497494,
            4.12229543017908,
            24.189111428348742,
            46.48620385575919,
            3.6240384760051083,
            3.016211493194734,
            23.496694783221287,
            23.162831485716143,
            28.88562319616807,
            19.02614297584796,
            23.779020559394986,
            15.161211643768596,
            16.277953013416255,
            5.098937360444734,
            1.998064484331917,
            2.182785189312296,
            5.262629104548143,
            8.829538145535759,
            5.505612915413655,
            4.495168026885646,
            30.095153518903558,
            7.15583334402845,
            31.46439357125579,
            9.421959519248157,
            24.004660191158663,
            2.4938684341523394,
            3.7064579946563487,
            12.228798125093345,
            43.46949545379358,
            25.099979571654465,
            25.63795381048238,
            0.13109504968335317,
            2.9469144719603086,
            4.019257041403971,
            16.310392057392747,
            5.672825161444061,
            4.713154773685936,
            12.227387264382653,
            30.34709743869204,
            18.08337689326633,
            8.368880781685654,
            15.455326858142906,
            13.984874381200918,
            10.3392835162867,
            7.2734066021065935,
            9.553047973784182,
            4.101125985058296,
            3.7410004034525386,
            2.5105048875772766,
            16.422285441318692
           ]
          },
          {
           "label": "colsample_bytree",
           "range": [
            0.5336051903938739,
            0.99875385070728
           ],
           "values": [
            0.58039498610327,
            0.7019050435510864,
            0.9516320657781063,
            0.9663453283934496,
            0.6635775284214993,
            0.7176608177878327,
            0.7936065704296461,
            0.8593130623205281,
            0.8981355484160023,
            0.6372741587746056,
            0.8611966327827736,
            0.928634924930364,
            0.7903882079966393,
            0.5336051903938739,
            0.8789836927313183,
            0.6338399274306894,
            0.5827880908156784,
            0.9691618501114201,
            0.7510388543206284,
            0.6456751774658565,
            0.7008181732547991,
            0.7529320205650172,
            0.7946411538548938,
            0.8410007212517243,
            0.8310377579460911,
            0.9123129115936385,
            0.9192985491923794,
            0.8435270841631353,
            0.839774081459546,
            0.7857589319424662,
            0.8552132496262909,
            0.8793464210670203,
            0.8859128383776615,
            0.8796410313672522,
            0.9403067408152174,
            0.7082376338956777,
            0.8724988674136749,
            0.8973733348017418,
            0.8600165302394492,
            0.9268286714611393,
            0.8484509398120899,
            0.8291249122893513,
            0.9150456653408929,
            0.9734041661999522,
            0.7407765156429498,
            0.8319670605076144,
            0.9033325777620708,
            0.9481159217754743,
            0.8730969013786554,
            0.9787384621157632,
            0.8334765641860273,
            0.9840613858821055,
            0.8890812802311299,
            0.7665510938497824,
            0.7762546905602317,
            0.8663504715036132,
            0.9016284462035262,
            0.8912572604535612,
            0.8953358714724842,
            0.8692231665053481,
            0.9676047120738572,
            0.9485628046239235,
            0.9298612395038554,
            0.7735734390122968,
            0.9609649779170838,
            0.9176382515556856,
            0.9313707595126632,
            0.9821174558576822,
            0.863404145573351,
            0.9725994017685169,
            0.9974602405994679,
            0.9459997801811244,
            0.9509353067994161,
            0.964916458627604,
            0.9354270733133689,
            0.9072375989736717,
            0.9296336077790849,
            0.9513625736496356,
            0.8136223509415725,
            0.9737387982360576,
            0.9308341904660965,
            0.8822223345226595,
            0.8339172106346944,
            0.9866760707168192,
            0.9354347617104468,
            0.8413615405918892,
            0.9655567113539053,
            0.9432589593865202,
            0.9214840590647473,
            0.9618940389825315,
            0.9443316133101591,
            0.9624060929298566,
            0.9523307991476667,
            0.985425933765622,
            0.8133921924674958,
            0.9563285165866248,
            0.8439725674838447,
            0.9099909170352809,
            0.9932482527019694,
            0.9892752488669656,
            0.9536343880257135,
            0.7876801662255075,
            0.9883745496578541,
            0.8709269559169791,
            0.9335813471381011,
            0.9847272472967021,
            0.9432500824099233,
            0.9983912142103565,
            0.9270473271988222,
            0.8378127177925381,
            0.7732117205960047,
            0.8676750024024186,
            0.8202870755733535,
            0.7954506347138255,
            0.99875385070728,
            0.8766791010357297,
            0.871809113655105,
            0.8744126628024506,
            0.9008740061754237,
            0.7895383319822095
           ]
          },
          {
           "label": "gamma",
           "range": [
            0.009519868689702227,
            9.371135362856165
           ],
           "values": [
            6.152894920783191,
            3.5399750532485177,
            8.172446269090184,
            6.752857944249065,
            0.8641350344889154,
            0.5485485627868547,
            4.398553391769331,
            2.729960668752587,
            2.9967000376370576,
            9.106281422830822,
            6.599786066126158,
            0.17277764396035789,
            5.337627662479076,
            1.9919743655641398,
            3.310867850472504,
            1.1491597801411846,
            6.662981595899813,
            6.680884524170868,
            7.539096084690341,
            2.7759689386692266,
            6.7004910975141785,
            5.154995179856545,
            2.527338738988441,
            7.420069258699019,
            8.809201350944074,
            3.709231029543508,
            2.544814526525737,
            5.314052848080353,
            5.794248937927431,
            4.09928316251532,
            3.280668498503397,
            1.2856363323396691,
            4.598909454545994,
            4.700380191293703,
            3.434263780657364,
            4.329820864027804,
            1.7281268760582496,
            5.198364559708339,
            6.098762042414672,
            9.371135362856165,
            6.338728883672106,
            3.0187262596594557,
            0.009519868689702227,
            5.248844370513439,
            5.392904865852474,
            3.445349929253253,
            4.34976892559478,
            3.6000620081491044,
            4.655824446890849,
            5.6624005144490415,
            4.078722758615229,
            5.245703009928047,
            7.206860581881882,
            4.23228009789875,
            6.987613095898757,
            3.7523213707318814,
            3.1373694046112997,
            4.103041875564445,
            9.159045987441889,
            4.448094295496066,
            5.242875140010024,
            6.656832181633673,
            4.6599133577103995,
            3.0776283181760817,
            3.6290365142116094,
            3.8531226064649164,
            3.9920028447326366,
            5.6280481188018365,
            6.41615407772491,
            2.6251506818023356,
            4.864800660257387,
            5.418027466099862,
            0.8242539738203862,
            1.061423316711473,
            1.8940045345650915,
            8.728318779566655,
            5.250689962586256,
            0.7811706266415482,
            2.558429685088977,
            6.018273799333119,
            0.6845337271545329,
            2.7490632052840787,
            4.840050043645029,
            8.328439397622383,
            6.226119455906492,
            6.240512009190702,
            4.653929184449891,
            6.897996915752307,
            1.6438115150034713,
            0.1272101612813863,
            4.741348270110993,
            1.9220011950179496,
            2.734522172937376,
            1.7556620431581538,
            1.0607573295848243,
            0.018922996373549106,
            4.528378022008504,
            4.302495442617903,
            2.1479737069139304,
            4.0889980503397485,
            1.2822455764371394,
            3.873211387662772,
            1.742123220178806,
            4.577649031013636,
            3.405965490160166,
            3.2498923178994996,
            3.375115542796551,
            2.3335836149788705,
            3.606013348653679,
            4.9445394826030835,
            1.2008388078007923,
            4.119612125202199,
            4.950826144408554,
            3.951963448349796,
            1.282248221359787,
            6.830489821852256,
            4.804855627918869,
            5.5499116039267316,
            6.174964243560361,
            3.3039288686345114
           ]
          },
          {
           "label": "grow_policy",
           "range": [
            0,
            1
           ],
           "ticktext": [
            "depthwise",
            "lossguide"
           ],
           "tickvals": [
            0,
            1
           ],
           "values": [
            0,
            0,
            0,
            0,
            1,
            1,
            0,
            0,
            1,
            1,
            0,
            0,
            0,
            0,
            0,
            1,
            0,
            0,
            0,
            0,
            0,
            0,
            0,
            0,
            0,
            0,
            1,
            0,
            0,
            1,
            0,
            0,
            0,
            0,
            0,
            0,
            0,
            0,
            0,
            1,
            1,
            0,
            0,
            0,
            0,
            0,
            0,
            0,
            1,
            1,
            1,
            0,
            1,
            1,
            0,
            0,
            1,
            0,
            1,
            0,
            1,
            0,
            0,
            0,
            1,
            0,
            0,
            0,
            0,
            0,
            0,
            0,
            0,
            0,
            0,
            0,
            0,
            1,
            0,
            1,
            0,
            1,
            0,
            0,
            0,
            1,
            0,
            0,
            0,
            0,
            0,
            0,
            1,
            0,
            0,
            0,
            1,
            0,
            0,
            0,
            0,
            0,
            0,
            0,
            0,
            0,
            0,
            0,
            0,
            0,
            0,
            0,
            0,
            0,
            0,
            0,
            0,
            1,
            0,
            1
           ]
          },
          {
           "label": "lambda",
           "range": [
            0.9817269984399211,
            97.95509150588839
           ],
           "values": [
            89.05721477008107,
            56.15311427494754,
            24.13798790813831,
            58.58403486984448,
            40.37147059323263,
            44.04710445187808,
            40.94954323125828,
            52.51704136597914,
            41.5474068145655,
            76.90262403539921,
            53.02557542458143,
            42.16931662057867,
            1.1910722593834553,
            82.07959836336343,
            94.83075833278714,
            66.09734488631486,
            66.94355622128938,
            9.59143660120739,
            61.3041566205866,
            72.78205310273206,
            57.256489453696766,
            35.86706340006604,
            29.03346624017538,
            31.322130718633534,
            29.09472515625598,
            29.07726291992987,
            29.755650953633573,
            10.97765881716484,
            27.398969080985882,
            10.7543470675678,
            1.2646391903035727,
            4.1795167561133315,
            12.93860131566353,
            9.044884627212,
            0.9817269984399211,
            22.36804268836852,
            38.73370928535465,
            16.486748054635957,
            11.472689283955217,
            43.549564909626525,
            2.2062787656332006,
            23.64304866603628,
            38.500042298827154,
            29.300609993974405,
            2.8834278612668545,
            55.39135656038604,
            28.864745673695246,
            23.094423890842435,
            14.808982863880564,
            34.346494348819306,
            33.111236007908005,
            24.794022955271913,
            20.749235176123868,
            7.980279032089553,
            39.185012518943715,
            28.291443840063287,
            21.098129706260544,
            15.68122547848197,
            25.43802051580966,
            10.560522736029526,
            13.317488266603888,
            24.530625902536165,
            26.1442455291289,
            30.37632272160517,
            7.993082887056346,
            42.52354571039177,
            57.75957576512352,
            87.44072188542582,
            57.467233060026366,
            80.41806504017573,
            96.8854280703064,
            84.37669578552978,
            73.3885489226995,
            69.52930947399796,
            82.04147614710551,
            91.03624702375565,
            83.52721853997429,
            61.055651214354775,
            52.01517386321267,
            88.01810214421381,
            53.27435624198741,
            94.89984351136914,
            73.25131413470885,
            97.03472533858827,
            41.37812714283229,
            16.818526511187894,
            92.80276649135143,
            97.95509150588839,
            22.15636044944461,
            26.734379578129555,
            82.72427092222989,
            9.471729484332482,
            17.924932256907994,
            11.546165597570411,
            87.52507185404802,
            28.601472406205673,
            18.446076719121926,
            82.15662528549821,
            11.576932772880136,
            16.683227597054362,
            72.63788158771447,
            23.82184958333742,
            15.111604088574664,
            18.984961595144476,
            25.617162116183753,
            72.56196541062653,
            57.31416187228578,
            31.864617575733494,
            14.57117530041291,
            3.64673272311867,
            7.879483297027829,
            17.637786669419775,
            5.279128627653595,
            8.542009892233084,
            76.95208326554264,
            78.2430056239104,
            94.99389319037114,
            1.165822170433068,
            16.65181056877862,
            45.7740514891297
           ]
          },
          {
           "label": "learning_rate",
           "range": [
            0.030153636030755302,
            0.28051574611694463
           ],
           "values": [
            0.2047209246798078,
            0.16563781404227876,
            0.09539673105464332,
            0.08018362320161015,
            0.27614330791857694,
            0.08871853522840759,
            0.08522754545937447,
            0.23134562935425707,
            0.10099897303242845,
            0.2369317207238467,
            0.07813759394087588,
            0.04956711064862976,
            0.18639573473935173,
            0.034067968993981936,
            0.28051574611694463,
            0.22532353589923196,
            0.23200244931587252,
            0.20467406397538127,
            0.06618185707868054,
            0.03196102958213292,
            0.10056885358755133,
            0.03525475291383459,
            0.10210994127845471,
            0.04578845389716938,
            0.05526885338168254,
            0.04462302869553943,
            0.06042126916455891,
            0.039685609646927494,
            0.12649234828690387,
            0.07573052155751939,
            0.031831902006921174,
            0.04926511375868859,
            0.04283683352510994,
            0.05891199947261852,
            0.1312546015166241,
            0.05677203473139366,
            0.058458257406965586,
            0.06209564288716528,
            0.05474072012560478,
            0.12784349011944457,
            0.07521694156438992,
            0.04533581135371557,
            0.07377506542100906,
            0.05277361284493862,
            0.050115367013305365,
            0.03959407656990328,
            0.06435985824677892,
            0.04922440173823174,
            0.074239514159092,
            0.11407250655406602,
            0.10917184582256019,
            0.08503557554250041,
            0.04177545723028102,
            0.06054140895004535,
            0.031725239070534386,
            0.0487944651392828,
            0.09347358466484734,
            0.058344210456045056,
            0.07180160420146342,
            0.04006611156322462,
            0.03570600870855197,
            0.07122561775733985,
            0.15626916163098103,
            0.07049581390865177,
            0.03426984400249341,
            0.030153636030755302,
            0.036093798634374445,
            0.04488980620786622,
            0.043453429252381374,
            0.034048979346476806,
            0.07075072847258765,
            0.03709037193824658,
            0.04731875907097692,
            0.06980753797398641,
            0.06473894915692828,
            0.08087528701166646,
            0.04185267958028881,
            0.09575770514562454,
            0.044372530434420125,
            0.09190559456764155,
            0.05693812762086223,
            0.04691269174013857,
            0.1437076672493693,
            0.047915618538059764,
            0.04090387829888277,
            0.1250010419397341,
            0.05386104194460996,
            0.05645094875882239,
            0.05762254200750744,
            0.06288274928002215,
            0.14523933191622165,
            0.030955675074240654,
            0.040312598545672707,
            0.03047807122611242,
            0.132735849661762,
            0.040622756517727066,
            0.13179338007800628,
            0.06378316986403496,
            0.1025370155756032,
            0.03177252298670752,
            0.0424501239898437,
            0.050954934094135464,
            0.03504158118127772,
            0.03504834141414521,
            0.03397227114934363,
            0.07147048243066262,
            0.09433543344879784,
            0.07094951852446088,
            0.05257722222703705,
            0.060036764626585075,
            0.07903845338942789,
            0.09075988491836814,
            0.03604364415011211,
            0.03722445212874338,
            0.044289669346581746,
            0.040546992417170837,
            0.07142247652311036,
            0.11108603523686006,
            0.10703306235020446,
            0.06205848716000119
           ]
          },
          {
           "label": "max_depth",
           "range": [
            3,
            12
           ],
           "values": [
            4,
            12,
            3,
            6,
            6,
            5,
            8,
            7,
            6,
            5,
            10,
            4,
            12,
            9,
            6,
            4,
            6,
            10,
            11,
            5,
            7,
            10,
            8,
            11,
            10,
            11,
            11,
            11,
            11,
            11,
            10,
            9,
            10,
            10,
            10,
            8,
            11,
            9,
            9,
            12,
            12,
            9,
            12,
            9,
            10,
            12,
            12,
            11,
            8,
            6,
            9,
            12,
            6,
            9,
            11,
            11,
            10,
            11,
            10,
            9,
            9,
            11,
            12,
            12,
            8,
            12,
            10,
            11,
            11,
            10,
            10,
            12,
            9,
            10,
            10,
            12,
            10,
            9,
            5,
            11,
            7,
            12,
            12,
            10,
            12,
            8,
            12,
            8,
            11,
            12,
            12,
            10,
            11,
            12,
            8,
            8,
            7,
            12,
            8,
            8,
            8,
            11,
            9,
            12,
            11,
            12,
            11,
            9,
            12,
            10,
            10,
            12,
            12,
            12,
            12,
            12,
            10,
            12,
            11,
            12
           ]
          },
          {
           "label": "min_child_weight",
           "range": [
            1,
            20
           ],
           "values": [
            3,
            15,
            1,
            8,
            19,
            15,
            5,
            19,
            14,
            20,
            10,
            18,
            5,
            14,
            18,
            12,
            15,
            4,
            3,
            13,
            8,
            4,
            3,
            14,
            15,
            15,
            14,
            15,
            17,
            12,
            9,
            7,
            14,
            9,
            9,
            13,
            14,
            5,
            8,
            15,
            10,
            16,
            13,
            14,
            9,
            16,
            14,
            12,
            8,
            4,
            9,
            10,
            15,
            3,
            14,
            16,
            17,
            18,
            6,
            20,
            10,
            18,
            16,
            17,
            5,
            15,
            16,
            16,
            19,
            16,
            14,
            9,
            16,
            18,
            17,
            8,
            7,
            13,
            14,
            9,
            13,
            17,
            9,
            20,
            15,
            5,
            19,
            11,
            16,
            13,
            15,
            17,
            20,
            18,
            19,
            18,
            15,
            10,
            19,
            18,
            20,
            11,
            12,
            17,
            18,
            2,
            15,
            17,
            16,
            20,
            18,
            18,
            15,
            15,
            18,
            8,
            18,
            19,
            12,
            12
           ]
          },
          {
           "label": "num_boost_round",
           "range": [
            500,
            2500
           ],
           "values": [
            500,
            2000,
            1000,
            2000,
            2500,
            2000,
            2500,
            1500,
            1500,
            500,
            1000,
            2000,
            1500,
            1500,
            1500,
            1500,
            2500,
            2500,
            2000,
            1000,
            1000,
            2500,
            2500,
            1500,
            2000,
            1000,
            500,
            1500,
            1000,
            2000,
            1500,
            1000,
            2000,
            1500,
            1500,
            1500,
            1000,
            1000,
            1500,
            1000,
            1500,
            1000,
            1000,
            500,
            1000,
            1500,
            1000,
            2500,
            1500,
            1500,
            1500,
            1500,
            1000,
            1000,
            1000,
            1500,
            1500,
            2000,
            2000,
            1500,
            1000,
            2500,
            1500,
            2000,
            2000,
            2000,
            1500,
            1500,
            1500,
            2000,
            2000,
            2000,
            2000,
            1500,
            2500,
            2500,
            2000,
            1500,
            2500,
            2000,
            2000,
            1500,
            2000,
            1500,
            2000,
            1500,
            2500,
            500,
            2000,
            2500,
            1000,
            2000,
            2500,
            2000,
            2000,
            2000,
            2000,
            2000,
            2000,
            2000,
            2000,
            1500,
            1500,
            2500,
            2500,
            1000,
            2000,
            2500,
            2500,
            2500,
            2000,
            2000,
            2500,
            2500,
            2000,
            1500,
            1000,
            2500,
            2500,
            2500
           ]
          },
          {
           "label": "subsample",
           "range": [
            0.502014939033433,
            0.9613895652567115
           ],
           "values": [
            0.7600518072502002,
            0.8741425270086919,
            0.7642192861553747,
            0.7797709889689841,
            0.7271199510933188,
            0.9613895652567115,
            0.8496773022596589,
            0.5311439935867637,
            0.5650032780894438,
            0.6125248840283238,
            0.7662936446597193,
            0.5854180296780314,
            0.7811787166401991,
            0.7909422016304148,
            0.5366559032180279,
            0.8920979308078572,
            0.9519922794595239,
            0.6584430309269564,
            0.5251898276457984,
            0.5825645012101147,
            0.7079589117545415,
            0.8013458182856708,
            0.8039726709476327,
            0.7306394426122144,
            0.7179632576315598,
            0.7849941282630016,
            0.8860798056527619,
            0.8598362478587069,
            0.8409139635437568,
            0.7592330228764282,
            0.7514727808146612,
            0.7619526128331777,
            0.8896439363030579,
            0.6187309113107575,
            0.5515541728337612,
            0.5300987493643793,
            0.786396373803531,
            0.6879799294984779,
            0.51269152827247,
            0.6775867786333197,
            0.6231203855435556,
            0.7663596612941239,
            0.6918019299355287,
            0.7612014781610208,
            0.7050791183686799,
            0.8849270222829031,
            0.7258000204440236,
            0.6248311140242322,
            0.8337905897619309,
            0.8708489102896781,
            0.894910743034388,
            0.7179355263034772,
            0.918860753582966,
            0.9242805983546771,
            0.7420807555869009,
            0.5583862518359831,
            0.570335913129754,
            0.5317877623560213,
            0.8703350188509303,
            0.5252223015216123,
            0.9228125809367611,
            0.502014939033433,
            0.5127236072401525,
            0.5301547382781159,
            0.7723235264033121,
            0.6007339290944105,
            0.5692919179449661,
            0.5775696039604079,
            0.5237461768876055,
            0.6892033749727351,
            0.6454130352058222,
            0.5575374001950132,
            0.8043835862237433,
            0.8615415090823595,
            0.7613945969229067,
            0.5677443604709581,
            0.5658816262677216,
            0.8325120809369275,
            0.735741459805395,
            0.5225251119815428,
            0.8123466093937771,
            0.669716795960122,
            0.5220895417044118,
            0.562617085009489,
            0.6567928690427426,
            0.7312276125775647,
            0.5622362724497771,
            0.6736705954998746,
            0.6661933420443664,
            0.615373326150998,
            0.6726264085804011,
            0.71406166804621,
            0.5767783199294301,
            0.7092393306689949,
            0.8866751345056751,
            0.6650929413723029,
            0.8598514058681123,
            0.644169021300811,
            0.655367207227759,
            0.7595792617674304,
            0.6781011129461313,
            0.6179857034539213,
            0.8054569731458685,
            0.5281809106959914,
            0.5610641188365416,
            0.5147298882556502,
            0.67288066992274,
            0.5716386409375533,
            0.504874153470638,
            0.7020682057908495,
            0.7457568181467086,
            0.5927744067448902,
            0.5782610736815719,
            0.6069607989397791,
            0.6834036827749196,
            0.5295555319981508,
            0.5943829156369719,
            0.6717303646936751,
            0.620973655975315,
            0.5809961452812265
           ]
          }
         ],
         "labelangle": 30,
         "labelside": "bottom",
         "line": {
          "color": [
           44.682090759277344,
           32.151299158732094,
           46.551411946614586,
           32.202250162760414,
           33.62577692667643,
           34.60867436726888,
           30.823901494344074,
           32.001913706461586,
           32.262152353922524,
           37.91959126790365,
           30.5577335357666,
           41.763083140055336,
           33.788665771484375,
           32.18163935343424,
           34.04891586303711,
           43.161519368489586,
           34.63561503092448,
           32.468762715657554,
           33.275766372680664,
           40.91491190592448,
           31.520596822102863,
           30.287267049153645,
           30.656651814778645,
           29.785430272420246,
           30.9771671295166,
           29.61719004313151,
           31.41458574930827,
           30.010630289713543,
           32.57453854878744,
           30.67597007751465,
           29.598323822021484,
           30.353260040283203,
           30.10088539123535,
           29.843276341756184,
           31.403286616007488,
           30.94434356689453,
           29.961170832316082,
           30.53732172648112,
           30.99760564168294,
           31.611217498779297,
           31.115116119384766,
           30.5483824412028,
           31.324996948242188,
           31.900170644124348,
           30.585674285888672,
           30.08158810933431,
           29.805103937784832,
           30.305823008219402,
           29.533318201700848,
           32.205875396728516,
           30.178041458129883,
           31.429314931233723,
           34.45269775390625,
           30.850731531778973,
           30.737781524658203,
           29.4875005086263,
           30.333716710408527,
           29.59496815999349,
           30.979347229003906,
           30.082847595214844,
           30.52412478129069,
           31.31623140970866,
           32.44334475199381,
           30.723957061767578,
           30.351542154947918,
           29.359514236450195,
           29.611040751139324,
           29.576361974080402,
           29.638402938842773,
           29.41454251607259,
           30.47494061787923,
           29.37715021769206,
           29.48565928141276,
           29.633151372273762,
           29.978668212890625,
           30.928861618041992,
           30.327882766723633,
           30.387366612752277,
           35.050567626953125,
           30.67376708984375,
           29.794116973876953,
           30.01550547281901,
           31.987526575724285,
           31.165597915649414,
           29.67386245727539,
           31.43666394551595,
           29.99314308166504,
           33.02214495340983,
           29.479124069213867,
           30.202760696411133,
           32.455864588419594,
           29.195664087931316,
           30.940209070841473,
           29.64146614074707,
           30.799287796020508,
           30.267314910888672,
           30.55779520670573,
           29.989133834838867,
           30.585189819335938,
           30.341530481974285,
           30.64120864868164,
           30.068148295084637,
           30.355035146077473,
           29.564795176188152,
           29.485575358072918,
           30.840977986653645,
           31.016079584757488,
           29.939324696858723,
           30.54978370666504,
           29.976581573486328,
           30.14328384399414,
           29.79679997762044,
           29.30387814839681,
           29.703280131022137,
           30.122891743977863,
           30.4650821685791,
           30.45106824239095,
           31.717257181803387,
           31.146145502726238,
           30.219743728637695
          ],
          "colorbar": {
           "title": {
            "text": "Objective Value"
           }
          },
          "colorscale": [
           [
            0,
            "rgb(247,251,255)"
           ],
           [
            0.125,
            "rgb(222,235,247)"
           ],
           [
            0.25,
            "rgb(198,219,239)"
           ],
           [
            0.375,
            "rgb(158,202,225)"
           ],
           [
            0.5,
            "rgb(107,174,214)"
           ],
           [
            0.625,
            "rgb(66,146,198)"
           ],
           [
            0.75,
            "rgb(33,113,181)"
           ],
           [
            0.875,
            "rgb(8,81,156)"
           ],
           [
            1,
            "rgb(8,48,107)"
           ]
          ],
          "reversescale": true,
          "showscale": true
         },
         "type": "parcoords"
        }
       ],
       "layout": {
        "template": {
         "data": {
          "bar": [
           {
            "error_x": {
             "color": "#2a3f5f"
            },
            "error_y": {
             "color": "#2a3f5f"
            },
            "marker": {
             "line": {
              "color": "#E5ECF6",
              "width": 0.5
             },
             "pattern": {
              "fillmode": "overlay",
              "size": 10,
              "solidity": 0.2
             }
            },
            "type": "bar"
           }
          ],
          "barpolar": [
           {
            "marker": {
             "line": {
              "color": "#E5ECF6",
              "width": 0.5
             },
             "pattern": {
              "fillmode": "overlay",
              "size": 10,
              "solidity": 0.2
             }
            },
            "type": "barpolar"
           }
          ],
          "carpet": [
           {
            "aaxis": {
             "endlinecolor": "#2a3f5f",
             "gridcolor": "white",
             "linecolor": "white",
             "minorgridcolor": "white",
             "startlinecolor": "#2a3f5f"
            },
            "baxis": {
             "endlinecolor": "#2a3f5f",
             "gridcolor": "white",
             "linecolor": "white",
             "minorgridcolor": "white",
             "startlinecolor": "#2a3f5f"
            },
            "type": "carpet"
           }
          ],
          "choropleth": [
           {
            "colorbar": {
             "outlinewidth": 0,
             "ticks": ""
            },
            "type": "choropleth"
           }
          ],
          "contour": [
           {
            "colorbar": {
             "outlinewidth": 0,
             "ticks": ""
            },
            "colorscale": [
             [
              0,
              "#0d0887"
             ],
             [
              0.1111111111111111,
              "#46039f"
             ],
             [
              0.2222222222222222,
              "#7201a8"
             ],
             [
              0.3333333333333333,
              "#9c179e"
             ],
             [
              0.4444444444444444,
              "#bd3786"
             ],
             [
              0.5555555555555556,
              "#d8576b"
             ],
             [
              0.6666666666666666,
              "#ed7953"
             ],
             [
              0.7777777777777778,
              "#fb9f3a"
             ],
             [
              0.8888888888888888,
              "#fdca26"
             ],
             [
              1,
              "#f0f921"
             ]
            ],
            "type": "contour"
           }
          ],
          "contourcarpet": [
           {
            "colorbar": {
             "outlinewidth": 0,
             "ticks": ""
            },
            "type": "contourcarpet"
           }
          ],
          "heatmap": [
           {
            "colorbar": {
             "outlinewidth": 0,
             "ticks": ""
            },
            "colorscale": [
             [
              0,
              "#0d0887"
             ],
             [
              0.1111111111111111,
              "#46039f"
             ],
             [
              0.2222222222222222,
              "#7201a8"
             ],
             [
              0.3333333333333333,
              "#9c179e"
             ],
             [
              0.4444444444444444,
              "#bd3786"
             ],
             [
              0.5555555555555556,
              "#d8576b"
             ],
             [
              0.6666666666666666,
              "#ed7953"
             ],
             [
              0.7777777777777778,
              "#fb9f3a"
             ],
             [
              0.8888888888888888,
              "#fdca26"
             ],
             [
              1,
              "#f0f921"
             ]
            ],
            "type": "heatmap"
           }
          ],
          "histogram": [
           {
            "marker": {
             "pattern": {
              "fillmode": "overlay",
              "size": 10,
              "solidity": 0.2
             }
            },
            "type": "histogram"
           }
          ],
          "histogram2d": [
           {
            "colorbar": {
             "outlinewidth": 0,
             "ticks": ""
            },
            "colorscale": [
             [
              0,
              "#0d0887"
             ],
             [
              0.1111111111111111,
              "#46039f"
             ],
             [
              0.2222222222222222,
              "#7201a8"
             ],
             [
              0.3333333333333333,
              "#9c179e"
             ],
             [
              0.4444444444444444,
              "#bd3786"
             ],
             [
              0.5555555555555556,
              "#d8576b"
             ],
             [
              0.6666666666666666,
              "#ed7953"
             ],
             [
              0.7777777777777778,
              "#fb9f3a"
             ],
             [
              0.8888888888888888,
              "#fdca26"
             ],
             [
              1,
              "#f0f921"
             ]
            ],
            "type": "histogram2d"
           }
          ],
          "histogram2dcontour": [
           {
            "colorbar": {
             "outlinewidth": 0,
             "ticks": ""
            },
            "colorscale": [
             [
              0,
              "#0d0887"
             ],
             [
              0.1111111111111111,
              "#46039f"
             ],
             [
              0.2222222222222222,
              "#7201a8"
             ],
             [
              0.3333333333333333,
              "#9c179e"
             ],
             [
              0.4444444444444444,
              "#bd3786"
             ],
             [
              0.5555555555555556,
              "#d8576b"
             ],
             [
              0.6666666666666666,
              "#ed7953"
             ],
             [
              0.7777777777777778,
              "#fb9f3a"
             ],
             [
              0.8888888888888888,
              "#fdca26"
             ],
             [
              1,
              "#f0f921"
             ]
            ],
            "type": "histogram2dcontour"
           }
          ],
          "mesh3d": [
           {
            "colorbar": {
             "outlinewidth": 0,
             "ticks": ""
            },
            "type": "mesh3d"
           }
          ],
          "parcoords": [
           {
            "line": {
             "colorbar": {
              "outlinewidth": 0,
              "ticks": ""
             }
            },
            "type": "parcoords"
           }
          ],
          "pie": [
           {
            "automargin": true,
            "type": "pie"
           }
          ],
          "scatter": [
           {
            "fillpattern": {
             "fillmode": "overlay",
             "size": 10,
             "solidity": 0.2
            },
            "type": "scatter"
           }
          ],
          "scatter3d": [
           {
            "line": {
             "colorbar": {
              "outlinewidth": 0,
              "ticks": ""
             }
            },
            "marker": {
             "colorbar": {
              "outlinewidth": 0,
              "ticks": ""
             }
            },
            "type": "scatter3d"
           }
          ],
          "scattercarpet": [
           {
            "marker": {
             "colorbar": {
              "outlinewidth": 0,
              "ticks": ""
             }
            },
            "type": "scattercarpet"
           }
          ],
          "scattergeo": [
           {
            "marker": {
             "colorbar": {
              "outlinewidth": 0,
              "ticks": ""
             }
            },
            "type": "scattergeo"
           }
          ],
          "scattergl": [
           {
            "marker": {
             "colorbar": {
              "outlinewidth": 0,
              "ticks": ""
             }
            },
            "type": "scattergl"
           }
          ],
          "scattermap": [
           {
            "marker": {
             "colorbar": {
              "outlinewidth": 0,
              "ticks": ""
             }
            },
            "type": "scattermap"
           }
          ],
          "scattermapbox": [
           {
            "marker": {
             "colorbar": {
              "outlinewidth": 0,
              "ticks": ""
             }
            },
            "type": "scattermapbox"
           }
          ],
          "scatterpolar": [
           {
            "marker": {
             "colorbar": {
              "outlinewidth": 0,
              "ticks": ""
             }
            },
            "type": "scatterpolar"
           }
          ],
          "scatterpolargl": [
           {
            "marker": {
             "colorbar": {
              "outlinewidth": 0,
              "ticks": ""
             }
            },
            "type": "scatterpolargl"
           }
          ],
          "scatterternary": [
           {
            "marker": {
             "colorbar": {
              "outlinewidth": 0,
              "ticks": ""
             }
            },
            "type": "scatterternary"
           }
          ],
          "surface": [
           {
            "colorbar": {
             "outlinewidth": 0,
             "ticks": ""
            },
            "colorscale": [
             [
              0,
              "#0d0887"
             ],
             [
              0.1111111111111111,
              "#46039f"
             ],
             [
              0.2222222222222222,
              "#7201a8"
             ],
             [
              0.3333333333333333,
              "#9c179e"
             ],
             [
              0.4444444444444444,
              "#bd3786"
             ],
             [
              0.5555555555555556,
              "#d8576b"
             ],
             [
              0.6666666666666666,
              "#ed7953"
             ],
             [
              0.7777777777777778,
              "#fb9f3a"
             ],
             [
              0.8888888888888888,
              "#fdca26"
             ],
             [
              1,
              "#f0f921"
             ]
            ],
            "type": "surface"
           }
          ],
          "table": [
           {
            "cells": {
             "fill": {
              "color": "#EBF0F8"
             },
             "line": {
              "color": "white"
             }
            },
            "header": {
             "fill": {
              "color": "#C8D4E3"
             },
             "line": {
              "color": "white"
             }
            },
            "type": "table"
           }
          ]
         },
         "layout": {
          "annotationdefaults": {
           "arrowcolor": "#2a3f5f",
           "arrowhead": 0,
           "arrowwidth": 1
          },
          "autotypenumbers": "strict",
          "coloraxis": {
           "colorbar": {
            "outlinewidth": 0,
            "ticks": ""
           }
          },
          "colorscale": {
           "diverging": [
            [
             0,
             "#8e0152"
            ],
            [
             0.1,
             "#c51b7d"
            ],
            [
             0.2,
             "#de77ae"
            ],
            [
             0.3,
             "#f1b6da"
            ],
            [
             0.4,
             "#fde0ef"
            ],
            [
             0.5,
             "#f7f7f7"
            ],
            [
             0.6,
             "#e6f5d0"
            ],
            [
             0.7,
             "#b8e186"
            ],
            [
             0.8,
             "#7fbc41"
            ],
            [
             0.9,
             "#4d9221"
            ],
            [
             1,
             "#276419"
            ]
           ],
           "sequential": [
            [
             0,
             "#0d0887"
            ],
            [
             0.1111111111111111,
             "#46039f"
            ],
            [
             0.2222222222222222,
             "#7201a8"
            ],
            [
             0.3333333333333333,
             "#9c179e"
            ],
            [
             0.4444444444444444,
             "#bd3786"
            ],
            [
             0.5555555555555556,
             "#d8576b"
            ],
            [
             0.6666666666666666,
             "#ed7953"
            ],
            [
             0.7777777777777778,
             "#fb9f3a"
            ],
            [
             0.8888888888888888,
             "#fdca26"
            ],
            [
             1,
             "#f0f921"
            ]
           ],
           "sequentialminus": [
            [
             0,
             "#0d0887"
            ],
            [
             0.1111111111111111,
             "#46039f"
            ],
            [
             0.2222222222222222,
             "#7201a8"
            ],
            [
             0.3333333333333333,
             "#9c179e"
            ],
            [
             0.4444444444444444,
             "#bd3786"
            ],
            [
             0.5555555555555556,
             "#d8576b"
            ],
            [
             0.6666666666666666,
             "#ed7953"
            ],
            [
             0.7777777777777778,
             "#fb9f3a"
            ],
            [
             0.8888888888888888,
             "#fdca26"
            ],
            [
             1,
             "#f0f921"
            ]
           ]
          },
          "colorway": [
           "#636efa",
           "#EF553B",
           "#00cc96",
           "#ab63fa",
           "#FFA15A",
           "#19d3f3",
           "#FF6692",
           "#B6E880",
           "#FF97FF",
           "#FECB52"
          ],
          "font": {
           "color": "#2a3f5f"
          },
          "geo": {
           "bgcolor": "white",
           "lakecolor": "white",
           "landcolor": "#E5ECF6",
           "showlakes": true,
           "showland": true,
           "subunitcolor": "white"
          },
          "hoverlabel": {
           "align": "left"
          },
          "hovermode": "closest",
          "mapbox": {
           "style": "light"
          },
          "paper_bgcolor": "white",
          "plot_bgcolor": "#E5ECF6",
          "polar": {
           "angularaxis": {
            "gridcolor": "white",
            "linecolor": "white",
            "ticks": ""
           },
           "bgcolor": "#E5ECF6",
           "radialaxis": {
            "gridcolor": "white",
            "linecolor": "white",
            "ticks": ""
           }
          },
          "scene": {
           "xaxis": {
            "backgroundcolor": "#E5ECF6",
            "gridcolor": "white",
            "gridwidth": 2,
            "linecolor": "white",
            "showbackground": true,
            "ticks": "",
            "zerolinecolor": "white"
           },
           "yaxis": {
            "backgroundcolor": "#E5ECF6",
            "gridcolor": "white",
            "gridwidth": 2,
            "linecolor": "white",
            "showbackground": true,
            "ticks": "",
            "zerolinecolor": "white"
           },
           "zaxis": {
            "backgroundcolor": "#E5ECF6",
            "gridcolor": "white",
            "gridwidth": 2,
            "linecolor": "white",
            "showbackground": true,
            "ticks": "",
            "zerolinecolor": "white"
           }
          },
          "shapedefaults": {
           "line": {
            "color": "#2a3f5f"
           }
          },
          "ternary": {
           "aaxis": {
            "gridcolor": "white",
            "linecolor": "white",
            "ticks": ""
           },
           "baxis": {
            "gridcolor": "white",
            "linecolor": "white",
            "ticks": ""
           },
           "bgcolor": "#E5ECF6",
           "caxis": {
            "gridcolor": "white",
            "linecolor": "white",
            "ticks": ""
           }
          },
          "title": {
           "x": 0.05
          },
          "xaxis": {
           "automargin": true,
           "gridcolor": "white",
           "linecolor": "white",
           "ticks": "",
           "title": {
            "standoff": 15
           },
           "zerolinecolor": "white",
           "zerolinewidth": 2
          },
          "yaxis": {
           "automargin": true,
           "gridcolor": "white",
           "linecolor": "white",
           "ticks": "",
           "title": {
            "standoff": 15
           },
           "zerolinecolor": "white",
           "zerolinewidth": 2
          }
         }
        },
        "title": {
         "text": "Parallel Coordinate Plot"
        }
       }
      },
      "image/png": "[encoded data removed]"
     },
     "metadata": {},
     "output_type": "display_data"
    }
   ],
   "source": [
    "optuna.visualization.plot_parallel_coordinate(study)"
   ]
  },
  {
   "cell_type": "code",
   "execution_count": null,
   "id": "f1f24290-1b0f-4245-9fe1-5e263d828472",
   "metadata": {},
   "outputs": [
    {
     "data": {
      "application/vnd.plotly.v1+json": {
       "config": {
        "plotlyServerURL": "https://plot.ly"
       },
       "data": [
        {
         "cliponaxis": false,
         "hovertemplate": [
          "num_boost_round (IntDistribution): 0.002743893705228039<extra></extra>",
          "grow_policy (CategoricalDistribution): 0.00361653493617973<extra></extra>",
          "gamma (FloatDistribution): 0.004545343317018944<extra></extra>",
          "lambda (FloatDistribution): 0.005533628126622327<extra></extra>",
          "subsample (FloatDistribution): 0.006873630940796449<extra></extra>",
          "learning_rate (FloatDistribution): 0.012864075199297487<extra></extra>",
          "colsample_bytree (FloatDistribution): 0.020700490567736724<extra></extra>",
          "alpha (FloatDistribution): 0.03664517718269228<extra></extra>",
          "min_child_weight (IntDistribution): 0.037631984180866225<extra></extra>",
          "max_depth (IntDistribution): 0.8688452418435618<extra></extra>"
         ],
         "name": "Objective Value",
         "orientation": "h",
         "text": [
          "<0.01",
          "<0.01",
          "<0.01",
          "<0.01",
          "<0.01",
          "0.01",
          "0.02",
          "0.04",
          "0.04",
          "0.87"
         ],
         "textposition": "outside",
         "type": "bar",
         "x": [
          0.002743893705228039,
          0.00361653493617973,
          0.004545343317018944,
          0.005533628126622327,
          0.006873630940796449,
          0.012864075199297487,
          0.020700490567736724,
          0.03664517718269228,
          0.037631984180866225,
          0.8688452418435618
         ],
         "y": [
          "num_boost_round",
          "grow_policy",
          "gamma",
          "lambda",
          "subsample",
          "learning_rate",
          "colsample_bytree",
          "alpha",
          "min_child_weight",
          "max_depth"
         ]
        }
       ],
       "layout": {
        "template": {
         "data": {
          "bar": [
           {
            "error_x": {
             "color": "#2a3f5f"
            },
            "error_y": {
             "color": "#2a3f5f"
            },
            "marker": {
             "line": {
              "color": "#E5ECF6",
              "width": 0.5
             },
             "pattern": {
              "fillmode": "overlay",
              "size": 10,
              "solidity": 0.2
             }
            },
            "type": "bar"
           }
          ],
          "barpolar": [
           {
            "marker": {
             "line": {
              "color": "#E5ECF6",
              "width": 0.5
             },
             "pattern": {
              "fillmode": "overlay",
              "size": 10,
              "solidity": 0.2
             }
            },
            "type": "barpolar"
           }
          ],
          "carpet": [
           {
            "aaxis": {
             "endlinecolor": "#2a3f5f",
             "gridcolor": "white",
             "linecolor": "white",
             "minorgridcolor": "white",
             "startlinecolor": "#2a3f5f"
            },
            "baxis": {
             "endlinecolor": "#2a3f5f",
             "gridcolor": "white",
             "linecolor": "white",
             "minorgridcolor": "white",
             "startlinecolor": "#2a3f5f"
            },
            "type": "carpet"
           }
          ],
          "choropleth": [
           {
            "colorbar": {
             "outlinewidth": 0,
             "ticks": ""
            },
            "type": "choropleth"
           }
          ],
          "contour": [
           {
            "colorbar": {
             "outlinewidth": 0,
             "ticks": ""
            },
            "colorscale": [
             [
              0,
              "#0d0887"
             ],
             [
              0.1111111111111111,
              "#46039f"
             ],
             [
              0.2222222222222222,
              "#7201a8"
             ],
             [
              0.3333333333333333,
              "#9c179e"
             ],
             [
              0.4444444444444444,
              "#bd3786"
             ],
             [
              0.5555555555555556,
              "#d8576b"
             ],
             [
              0.6666666666666666,
              "#ed7953"
             ],
             [
              0.7777777777777778,
              "#fb9f3a"
             ],
             [
              0.8888888888888888,
              "#fdca26"
             ],
             [
              1,
              "#f0f921"
             ]
            ],
            "type": "contour"
           }
          ],
          "contourcarpet": [
           {
            "colorbar": {
             "outlinewidth": 0,
             "ticks": ""
            },
            "type": "contourcarpet"
           }
          ],
          "heatmap": [
           {
            "colorbar": {
             "outlinewidth": 0,
             "ticks": ""
            },
            "colorscale": [
             [
              0,
              "#0d0887"
             ],
             [
              0.1111111111111111,
              "#46039f"
             ],
             [
              0.2222222222222222,
              "#7201a8"
             ],
             [
              0.3333333333333333,
              "#9c179e"
             ],
             [
              0.4444444444444444,
              "#bd3786"
             ],
             [
              0.5555555555555556,
              "#d8576b"
             ],
             [
              0.6666666666666666,
              "#ed7953"
             ],
             [
              0.7777777777777778,
              "#fb9f3a"
             ],
             [
              0.8888888888888888,
              "#fdca26"
             ],
             [
              1,
              "#f0f921"
             ]
            ],
            "type": "heatmap"
           }
          ],
          "histogram": [
           {
            "marker": {
             "pattern": {
              "fillmode": "overlay",
              "size": 10,
              "solidity": 0.2
             }
            },
            "type": "histogram"
           }
          ],
          "histogram2d": [
           {
            "colorbar": {
             "outlinewidth": 0,
             "ticks": ""
            },
            "colorscale": [
             [
              0,
              "#0d0887"
             ],
             [
              0.1111111111111111,
              "#46039f"
             ],
             [
              0.2222222222222222,
              "#7201a8"
             ],
             [
              0.3333333333333333,
              "#9c179e"
             ],
             [
              0.4444444444444444,
              "#bd3786"
             ],
             [
              0.5555555555555556,
              "#d8576b"
             ],
             [
              0.6666666666666666,
              "#ed7953"
             ],
             [
              0.7777777777777778,
              "#fb9f3a"
             ],
             [
              0.8888888888888888,
              "#fdca26"
             ],
             [
              1,
              "#f0f921"
             ]
            ],
            "type": "histogram2d"
           }
          ],
          "histogram2dcontour": [
           {
            "colorbar": {
             "outlinewidth": 0,
             "ticks": ""
            },
            "colorscale": [
             [
              0,
              "#0d0887"
             ],
             [
              0.1111111111111111,
              "#46039f"
             ],
             [
              0.2222222222222222,
              "#7201a8"
             ],
             [
              0.3333333333333333,
              "#9c179e"
             ],
             [
              0.4444444444444444,
              "#bd3786"
             ],
             [
              0.5555555555555556,
              "#d8576b"
             ],
             [
              0.6666666666666666,
              "#ed7953"
             ],
             [
              0.7777777777777778,
              "#fb9f3a"
             ],
             [
              0.8888888888888888,
              "#fdca26"
             ],
             [
              1,
              "#f0f921"
             ]
            ],
            "type": "histogram2dcontour"
           }
          ],
          "mesh3d": [
           {
            "colorbar": {
             "outlinewidth": 0,
             "ticks": ""
            },
            "type": "mesh3d"
           }
          ],
          "parcoords": [
           {
            "line": {
             "colorbar": {
              "outlinewidth": 0,
              "ticks": ""
             }
            },
            "type": "parcoords"
           }
          ],
          "pie": [
           {
            "automargin": true,
            "type": "pie"
           }
          ],
          "scatter": [
           {
            "fillpattern": {
             "fillmode": "overlay",
             "size": 10,
             "solidity": 0.2
            },
            "type": "scatter"
           }
          ],
          "scatter3d": [
           {
            "line": {
             "colorbar": {
              "outlinewidth": 0,
              "ticks": ""
             }
            },
            "marker": {
             "colorbar": {
              "outlinewidth": 0,
              "ticks": ""
             }
            },
            "type": "scatter3d"
           }
          ],
          "scattercarpet": [
           {
            "marker": {
             "colorbar": {
              "outlinewidth": 0,
              "ticks": ""
             }
            },
            "type": "scattercarpet"
           }
          ],
          "scattergeo": [
           {
            "marker": {
             "colorbar": {
              "outlinewidth": 0,
              "ticks": ""
             }
            },
            "type": "scattergeo"
           }
          ],
          "scattergl": [
           {
            "marker": {
             "colorbar": {
              "outlinewidth": 0,
              "ticks": ""
             }
            },
            "type": "scattergl"
           }
          ],
          "scattermap": [
           {
            "marker": {
             "colorbar": {
              "outlinewidth": 0,
              "ticks": ""
             }
            },
            "type": "scattermap"
           }
          ],
          "scattermapbox": [
           {
            "marker": {
             "colorbar": {
              "outlinewidth": 0,
              "ticks": ""
             }
            },
            "type": "scattermapbox"
           }
          ],
          "scatterpolar": [
           {
            "marker": {
             "colorbar": {
              "outlinewidth": 0,
              "ticks": ""
             }
            },
            "type": "scatterpolar"
           }
          ],
          "scatterpolargl": [
           {
            "marker": {
             "colorbar": {
              "outlinewidth": 0,
              "ticks": ""
             }
            },
            "type": "scatterpolargl"
           }
          ],
          "scatterternary": [
           {
            "marker": {
             "colorbar": {
              "outlinewidth": 0,
              "ticks": ""
             }
            },
            "type": "scatterternary"
           }
          ],
          "surface": [
           {
            "colorbar": {
             "outlinewidth": 0,
             "ticks": ""
            },
            "colorscale": [
             [
              0,
              "#0d0887"
             ],
             [
              0.1111111111111111,
              "#46039f"
             ],
             [
              0.2222222222222222,
              "#7201a8"
             ],
             [
              0.3333333333333333,
              "#9c179e"
             ],
             [
              0.4444444444444444,
              "#bd3786"
             ],
             [
              0.5555555555555556,
              "#d8576b"
             ],
             [
              0.6666666666666666,
              "#ed7953"
             ],
             [
              0.7777777777777778,
              "#fb9f3a"
             ],
             [
              0.8888888888888888,
              "#fdca26"
             ],
             [
              1,
              "#f0f921"
             ]
            ],
            "type": "surface"
           }
          ],
          "table": [
           {
            "cells": {
             "fill": {
              "color": "#EBF0F8"
             },
             "line": {
              "color": "white"
             }
            },
            "header": {
             "fill": {
              "color": "#C8D4E3"
             },
             "line": {
              "color": "white"
             }
            },
            "type": "table"
           }
          ]
         },
         "layout": {
          "annotationdefaults": {
           "arrowcolor": "#2a3f5f",
           "arrowhead": 0,
           "arrowwidth": 1
          },
          "autotypenumbers": "strict",
          "coloraxis": {
           "colorbar": {
            "outlinewidth": 0,
            "ticks": ""
           }
          },
          "colorscale": {
           "diverging": [
            [
             0,
             "#8e0152"
            ],
            [
             0.1,
             "#c51b7d"
            ],
            [
             0.2,
             "#de77ae"
            ],
            [
             0.3,
             "#f1b6da"
            ],
            [
             0.4,
             "#fde0ef"
            ],
            [
             0.5,
             "#f7f7f7"
            ],
            [
             0.6,
             "#e6f5d0"
            ],
            [
             0.7,
             "#b8e186"
            ],
            [
             0.8,
             "#7fbc41"
            ],
            [
             0.9,
             "#4d9221"
            ],
            [
             1,
             "#276419"
            ]
           ],
           "sequential": [
            [
             0,
             "#0d0887"
            ],
            [
             0.1111111111111111,
             "#46039f"
            ],
            [
             0.2222222222222222,
             "#7201a8"
            ],
            [
             0.3333333333333333,
             "#9c179e"
            ],
            [
             0.4444444444444444,
             "#bd3786"
            ],
            [
             0.5555555555555556,
             "#d8576b"
            ],
            [
             0.6666666666666666,
             "#ed7953"
            ],
            [
             0.7777777777777778,
             "#fb9f3a"
            ],
            [
             0.8888888888888888,
             "#fdca26"
            ],
            [
             1,
             "#f0f921"
            ]
           ],
           "sequentialminus": [
            [
             0,
             "#0d0887"
            ],
            [
             0.1111111111111111,
             "#46039f"
            ],
            [
             0.2222222222222222,
             "#7201a8"
            ],
            [
             0.3333333333333333,
             "#9c179e"
            ],
            [
             0.4444444444444444,
             "#bd3786"
            ],
            [
             0.5555555555555556,
             "#d8576b"
            ],
            [
             0.6666666666666666,
             "#ed7953"
            ],
            [
             0.7777777777777778,
             "#fb9f3a"
            ],
            [
             0.8888888888888888,
             "#fdca26"
            ],
            [
             1,
             "#f0f921"
            ]
           ]
          },
          "colorway": [
           "#636efa",
           "#EF553B",
           "#00cc96",
           "#ab63fa",
           "#FFA15A",
           "#19d3f3",
           "#FF6692",
           "#B6E880",
           "#FF97FF",
           "#FECB52"
          ],
          "font": {
           "color": "#2a3f5f"
          },
          "geo": {
           "bgcolor": "white",
           "lakecolor": "white",
           "landcolor": "#E5ECF6",
           "showlakes": true,
           "showland": true,
           "subunitcolor": "white"
          },
          "hoverlabel": {
           "align": "left"
          },
          "hovermode": "closest",
          "mapbox": {
           "style": "light"
          },
          "paper_bgcolor": "white",
          "plot_bgcolor": "#E5ECF6",
          "polar": {
           "angularaxis": {
            "gridcolor": "white",
            "linecolor": "white",
            "ticks": ""
           },
           "bgcolor": "#E5ECF6",
           "radialaxis": {
            "gridcolor": "white",
            "linecolor": "white",
            "ticks": ""
           }
          },
          "scene": {
           "xaxis": {
            "backgroundcolor": "#E5ECF6",
            "gridcolor": "white",
            "gridwidth": 2,
            "linecolor": "white",
            "showbackground": true,
            "ticks": "",
            "zerolinecolor": "white"
           },
           "yaxis": {
            "backgroundcolor": "#E5ECF6",
            "gridcolor": "white",
            "gridwidth": 2,
            "linecolor": "white",
            "showbackground": true,
            "ticks": "",
            "zerolinecolor": "white"
           },
           "zaxis": {
            "backgroundcolor": "#E5ECF6",
            "gridcolor": "white",
            "gridwidth": 2,
            "linecolor": "white",
            "showbackground": true,
            "ticks": "",
            "zerolinecolor": "white"
           }
          },
          "shapedefaults": {
           "line": {
            "color": "#2a3f5f"
           }
          },
          "ternary": {
           "aaxis": {
            "gridcolor": "white",
            "linecolor": "white",
            "ticks": ""
           },
           "baxis": {
            "gridcolor": "white",
            "linecolor": "white",
            "ticks": ""
           },
           "bgcolor": "#E5ECF6",
           "caxis": {
            "gridcolor": "white",
            "linecolor": "white",
            "ticks": ""
           }
          },
          "title": {
           "x": 0.05
          },
          "xaxis": {
           "automargin": true,
           "gridcolor": "white",
           "linecolor": "white",
           "ticks": "",
           "title": {
            "standoff": 15
           },
           "zerolinecolor": "white",
           "zerolinewidth": 2
          },
          "yaxis": {
           "automargin": true,
           "gridcolor": "white",
           "linecolor": "white",
           "ticks": "",
           "title": {
            "standoff": 15
           },
           "zerolinecolor": "white",
           "zerolinewidth": 2
          }
         }
        },
        "title": {
         "text": "Hyperparameter Importances"
        },
        "xaxis": {
         "title": {
          "text": "Hyperparameter Importance"
         }
        },
        "yaxis": {
         "title": {
          "text": "Hyperparameter"
         }
        }
       }
      },
      "image/png": "[encoded data removed]"
     },
     "metadata": {},
     "output_type": "display_data"
    }
   ],
   "source": [
    "optuna.visualization.plot_param_importances(study)"
   ]
  },
  {
   "cell_type": "code",
   "execution_count": null,
   "id": "e99199fe-08ee-4d78-8a24-f456b6013161",
   "metadata": {},
   "outputs": [
    {
     "data": {
      "application/vnd.plotly.v1+json": {
       "config": {
        "plotlyServerURL": "https://plot.ly"
       },
       "data": [
        {
         "mode": "markers",
         "name": "Objective Value",
         "type": "scatter",
         "x": [
          0,
          1,
          2,
          3,
          4,
          5,
          6,
          7,
          8,
          9,
          10,
          11,
          12,
          13,
          14,
          15,
          16,
          17,
          18,
          19,
          20,
          21,
          22,
          23,
          24,
          25,
          26,
          27,
          28,
          29,
          30,
          31,
          32,
          33,
          34,
          35,
          36,
          37,
          38,
          39,
          40,
          41,
          42,
          43,
          44,
          45,
          46,
          47,
          48,
          49,
          50,
          51,
          52,
          53,
          54,
          55,
          56,
          57,
          58,
          59,
          60,
          61,
          62,
          63,
          64,
          65,
          66,
          67,
          68,
          69,
          70,
          71,
          72,
          73,
          74,
          75,
          76,
          77,
          78,
          79,
          80,
          81,
          82,
          83,
          84,
          85,
          86,
          87,
          88,
          89,
          90,
          91,
          92,
          93,
          94,
          95,
          96,
          97,
          98,
          99,
          100,
          101,
          102,
          103,
          104,
          105,
          106,
          107,
          108,
          109,
          110,
          111,
          112,
          113,
          114,
          115,
          116,
          117,
          118,
          119
         ],
         "y": [
          44.682090759277344,
          32.151299158732094,
          46.551411946614586,
          32.202250162760414,
          33.62577692667643,
          34.60867436726888,
          30.823901494344074,
          32.001913706461586,
          32.262152353922524,
          37.91959126790365,
          30.5577335357666,
          41.763083140055336,
          33.788665771484375,
          32.18163935343424,
          34.04891586303711,
          43.161519368489586,
          34.63561503092448,
          32.468762715657554,
          33.275766372680664,
          40.91491190592448,
          31.520596822102863,
          30.287267049153645,
          30.656651814778645,
          29.785430272420246,
          30.9771671295166,
          29.61719004313151,
          31.41458574930827,
          30.010630289713543,
          32.57453854878744,
          30.67597007751465,
          29.598323822021484,
          30.353260040283203,
          30.10088539123535,
          29.843276341756184,
          31.403286616007488,
          30.94434356689453,
          29.961170832316082,
          30.53732172648112,
          30.99760564168294,
          31.611217498779297,
          31.115116119384766,
          30.5483824412028,
          31.324996948242188,
          31.900170644124348,
          30.585674285888672,
          30.08158810933431,
          29.805103937784832,
          30.305823008219402,
          29.533318201700848,
          32.205875396728516,
          30.178041458129883,
          31.429314931233723,
          34.45269775390625,
          30.850731531778973,
          30.737781524658203,
          29.4875005086263,
          30.333716710408527,
          29.59496815999349,
          30.979347229003906,
          30.082847595214844,
          30.52412478129069,
          31.31623140970866,
          32.44334475199381,
          30.723957061767578,
          30.351542154947918,
          29.359514236450195,
          29.611040751139324,
          29.576361974080402,
          29.638402938842773,
          29.41454251607259,
          30.47494061787923,
          29.37715021769206,
          29.48565928141276,
          29.633151372273762,
          29.978668212890625,
          30.928861618041992,
          30.327882766723633,
          30.387366612752277,
          35.050567626953125,
          30.67376708984375,
          29.794116973876953,
          30.01550547281901,
          31.987526575724285,
          31.165597915649414,
          29.67386245727539,
          31.43666394551595,
          29.99314308166504,
          33.02214495340983,
          29.479124069213867,
          30.202760696411133,
          32.455864588419594,
          29.195664087931316,
          30.940209070841473,
          29.64146614074707,
          30.799287796020508,
          30.267314910888672,
          30.55779520670573,
          29.989133834838867,
          30.585189819335938,
          30.341530481974285,
          30.64120864868164,
          30.068148295084637,
          30.355035146077473,
          29.564795176188152,
          29.485575358072918,
          30.840977986653645,
          31.016079584757488,
          29.939324696858723,
          30.54978370666504,
          29.976581573486328,
          30.14328384399414,
          29.79679997762044,
          29.30387814839681,
          29.703280131022137,
          30.122891743977863,
          30.4650821685791,
          30.45106824239095,
          31.717257181803387,
          31.146145502726238,
          30.219743728637695
         ]
        },
        {
         "mode": "lines",
         "name": "Best Value",
         "type": "scatter",
         "x": [
          0,
          1,
          2,
          3,
          4,
          5,
          6,
          7,
          8,
          9,
          10,
          11,
          12,
          13,
          14,
          15,
          16,
          17,
          18,
          19,
          20,
          21,
          22,
          23,
          24,
          25,
          26,
          27,
          28,
          29,
          30,
          31,
          32,
          33,
          34,
          35,
          36,
          37,
          38,
          39,
          40,
          41,
          42,
          43,
          44,
          45,
          46,
          47,
          48,
          49,
          50,
          51,
          52,
          53,
          54,
          55,
          56,
          57,
          58,
          59,
          60,
          61,
          62,
          63,
          64,
          65,
          66,
          67,
          68,
          69,
          70,
          71,
          72,
          73,
          74,
          75,
          76,
          77,
          78,
          79,
          80,
          81,
          82,
          83,
          84,
          85,
          86,
          87,
          88,
          89,
          90,
          91,
          92,
          93,
          94,
          95,
          96,
          97,
          98,
          99,
          100,
          101,
          102,
          103,
          104,
          105,
          106,
          107,
          108,
          109,
          110,
          111,
          112,
          113,
          114,
          115,
          116,
          117,
          118,
          119,
          120,
          121
         ],
         "y": [
          44.682090759277344,
          32.151299158732094,
          32.151299158732094,
          32.151299158732094,
          32.151299158732094,
          32.151299158732094,
          30.823901494344074,
          30.823901494344074,
          30.823901494344074,
          30.823901494344074,
          30.5577335357666,
          30.5577335357666,
          30.5577335357666,
          30.5577335357666,
          30.5577335357666,
          30.5577335357666,
          30.5577335357666,
          30.5577335357666,
          30.5577335357666,
          30.5577335357666,
          30.5577335357666,
          30.287267049153645,
          30.287267049153645,
          29.785430272420246,
          29.785430272420246,
          29.61719004313151,
          29.61719004313151,
          29.61719004313151,
          29.61719004313151,
          29.61719004313151,
          29.598323822021484,
          29.598323822021484,
          29.598323822021484,
          29.598323822021484,
          29.598323822021484,
          29.598323822021484,
          29.598323822021484,
          29.598323822021484,
          29.598323822021484,
          29.598323822021484,
          29.598323822021484,
          29.598323822021484,
          29.598323822021484,
          29.598323822021484,
          29.598323822021484,
          29.598323822021484,
          29.598323822021484,
          29.598323822021484,
          29.533318201700848,
          29.533318201700848,
          29.533318201700848,
          29.533318201700848,
          29.533318201700848,
          29.533318201700848,
          29.533318201700848,
          29.4875005086263,
          29.4875005086263,
          29.4875005086263,
          29.4875005086263,
          29.4875005086263,
          29.4875005086263,
          29.4875005086263,
          29.4875005086263,
          29.4875005086263,
          29.4875005086263,
          29.359514236450195,
          29.359514236450195,
          29.359514236450195,
          29.359514236450195,
          29.359514236450195,
          29.359514236450195,
          29.359514236450195,
          29.359514236450195,
          29.359514236450195,
          29.359514236450195,
          29.359514236450195,
          29.359514236450195,
          29.359514236450195,
          29.359514236450195,
          29.359514236450195,
          29.359514236450195,
          29.359514236450195,
          29.359514236450195,
          29.359514236450195,
          29.359514236450195,
          29.359514236450195,
          29.359514236450195,
          29.359514236450195,
          29.359514236450195,
          29.359514236450195,
          29.359514236450195,
          29.195664087931316,
          29.195664087931316,
          29.195664087931316,
          29.195664087931316,
          29.195664087931316,
          29.195664087931316,
          29.195664087931316,
          29.195664087931316,
          29.195664087931316,
          29.195664087931316,
          29.195664087931316,
          29.195664087931316,
          29.195664087931316,
          29.195664087931316,
          29.195664087931316,
          29.195664087931316,
          29.195664087931316,
          29.195664087931316,
          29.195664087931316,
          29.195664087931316,
          29.195664087931316,
          29.195664087931316,
          29.195664087931316,
          29.195664087931316,
          29.195664087931316,
          29.195664087931316,
          29.195664087931316,
          29.195664087931316,
          29.195664087931316,
          29.195664087931316,
          29.195664087931316
         ]
        },
        {
         "marker": {
          "color": "#cccccc"
         },
         "mode": "markers",
         "name": "Infeasible Trial",
         "showlegend": false,
         "type": "scatter",
         "x": [],
         "y": []
        }
       ],
       "layout": {
        "template": {
         "data": {
          "bar": [
           {
            "error_x": {
             "color": "#2a3f5f"
            },
            "error_y": {
             "color": "#2a3f5f"
            },
            "marker": {
             "line": {
              "color": "#E5ECF6",
              "width": 0.5
             },
             "pattern": {
              "fillmode": "overlay",
              "size": 10,
              "solidity": 0.2
             }
            },
            "type": "bar"
           }
          ],
          "barpolar": [
           {
            "marker": {
             "line": {
              "color": "#E5ECF6",
              "width": 0.5
             },
             "pattern": {
              "fillmode": "overlay",
              "size": 10,
              "solidity": 0.2
             }
            },
            "type": "barpolar"
           }
          ],
          "carpet": [
           {
            "aaxis": {
             "endlinecolor": "#2a3f5f",
             "gridcolor": "white",
             "linecolor": "white",
             "minorgridcolor": "white",
             "startlinecolor": "#2a3f5f"
            },
            "baxis": {
             "endlinecolor": "#2a3f5f",
             "gridcolor": "white",
             "linecolor": "white",
             "minorgridcolor": "white",
             "startlinecolor": "#2a3f5f"
            },
            "type": "carpet"
           }
          ],
          "choropleth": [
           {
            "colorbar": {
             "outlinewidth": 0,
             "ticks": ""
            },
            "type": "choropleth"
           }
          ],
          "contour": [
           {
            "colorbar": {
             "outlinewidth": 0,
             "ticks": ""
            },
            "colorscale": [
             [
              0,
              "#0d0887"
             ],
             [
              0.1111111111111111,
              "#46039f"
             ],
             [
              0.2222222222222222,
              "#7201a8"
             ],
             [
              0.3333333333333333,
              "#9c179e"
             ],
             [
              0.4444444444444444,
              "#bd3786"
             ],
             [
              0.5555555555555556,
              "#d8576b"
             ],
             [
              0.6666666666666666,
              "#ed7953"
             ],
             [
              0.7777777777777778,
              "#fb9f3a"
             ],
             [
              0.8888888888888888,
              "#fdca26"
             ],
             [
              1,
              "#f0f921"
             ]
            ],
            "type": "contour"
           }
          ],
          "contourcarpet": [
           {
            "colorbar": {
             "outlinewidth": 0,
             "ticks": ""
            },
            "type": "contourcarpet"
           }
          ],
          "heatmap": [
           {
            "colorbar": {
             "outlinewidth": 0,
             "ticks": ""
            },
            "colorscale": [
             [
              0,
              "#0d0887"
             ],
             [
              0.1111111111111111,
              "#46039f"
             ],
             [
              0.2222222222222222,
              "#7201a8"
             ],
             [
              0.3333333333333333,
              "#9c179e"
             ],
             [
              0.4444444444444444,
              "#bd3786"
             ],
             [
              0.5555555555555556,
              "#d8576b"
             ],
             [
              0.6666666666666666,
              "#ed7953"
             ],
             [
              0.7777777777777778,
              "#fb9f3a"
             ],
             [
              0.8888888888888888,
              "#fdca26"
             ],
             [
              1,
              "#f0f921"
             ]
            ],
            "type": "heatmap"
           }
          ],
          "histogram": [
           {
            "marker": {
             "pattern": {
              "fillmode": "overlay",
              "size": 10,
              "solidity": 0.2
             }
            },
            "type": "histogram"
           }
          ],
          "histogram2d": [
           {
            "colorbar": {
             "outlinewidth": 0,
             "ticks": ""
            },
            "colorscale": [
             [
              0,
              "#0d0887"
             ],
             [
              0.1111111111111111,
              "#46039f"
             ],
             [
              0.2222222222222222,
              "#7201a8"
             ],
             [
              0.3333333333333333,
              "#9c179e"
             ],
             [
              0.4444444444444444,
              "#bd3786"
             ],
             [
              0.5555555555555556,
              "#d8576b"
             ],
             [
              0.6666666666666666,
              "#ed7953"
             ],
             [
              0.7777777777777778,
              "#fb9f3a"
             ],
             [
              0.8888888888888888,
              "#fdca26"
             ],
             [
              1,
              "#f0f921"
             ]
            ],
            "type": "histogram2d"
           }
          ],
          "histogram2dcontour": [
           {
            "colorbar": {
             "outlinewidth": 0,
             "ticks": ""
            },
            "colorscale": [
             [
              0,
              "#0d0887"
             ],
             [
              0.1111111111111111,
              "#46039f"
             ],
             [
              0.2222222222222222,
              "#7201a8"
             ],
             [
              0.3333333333333333,
              "#9c179e"
             ],
             [
              0.4444444444444444,
              "#bd3786"
             ],
             [
              0.5555555555555556,
              "#d8576b"
             ],
             [
              0.6666666666666666,
              "#ed7953"
             ],
             [
              0.7777777777777778,
              "#fb9f3a"
             ],
             [
              0.8888888888888888,
              "#fdca26"
             ],
             [
              1,
              "#f0f921"
             ]
            ],
            "type": "histogram2dcontour"
           }
          ],
          "mesh3d": [
           {
            "colorbar": {
             "outlinewidth": 0,
             "ticks": ""
            },
            "type": "mesh3d"
           }
          ],
          "parcoords": [
           {
            "line": {
             "colorbar": {
              "outlinewidth": 0,
              "ticks": ""
             }
            },
            "type": "parcoords"
           }
          ],
          "pie": [
           {
            "automargin": true,
            "type": "pie"
           }
          ],
          "scatter": [
           {
            "fillpattern": {
             "fillmode": "overlay",
             "size": 10,
             "solidity": 0.2
            },
            "type": "scatter"
           }
          ],
          "scatter3d": [
           {
            "line": {
             "colorbar": {
              "outlinewidth": 0,
              "ticks": ""
             }
            },
            "marker": {
             "colorbar": {
              "outlinewidth": 0,
              "ticks": ""
             }
            },
            "type": "scatter3d"
           }
          ],
          "scattercarpet": [
           {
            "marker": {
             "colorbar": {
              "outlinewidth": 0,
              "ticks": ""
             }
            },
            "type": "scattercarpet"
           }
          ],
          "scattergeo": [
           {
            "marker": {
             "colorbar": {
              "outlinewidth": 0,
              "ticks": ""
             }
            },
            "type": "scattergeo"
           }
          ],
          "scattergl": [
           {
            "marker": {
             "colorbar": {
              "outlinewidth": 0,
              "ticks": ""
             }
            },
            "type": "scattergl"
           }
          ],
          "scattermap": [
           {
            "marker": {
             "colorbar": {
              "outlinewidth": 0,
              "ticks": ""
             }
            },
            "type": "scattermap"
           }
          ],
          "scattermapbox": [
           {
            "marker": {
             "colorbar": {
              "outlinewidth": 0,
              "ticks": ""
             }
            },
            "type": "scattermapbox"
           }
          ],
          "scatterpolar": [
           {
            "marker": {
             "colorbar": {
              "outlinewidth": 0,
              "ticks": ""
             }
            },
            "type": "scatterpolar"
           }
          ],
          "scatterpolargl": [
           {
            "marker": {
             "colorbar": {
              "outlinewidth": 0,
              "ticks": ""
             }
            },
            "type": "scatterpolargl"
           }
          ],
          "scatterternary": [
           {
            "marker": {
             "colorbar": {
              "outlinewidth": 0,
              "ticks": ""
             }
            },
            "type": "scatterternary"
           }
          ],
          "surface": [
           {
            "colorbar": {
             "outlinewidth": 0,
             "ticks": ""
            },
            "colorscale": [
             [
              0,
              "#0d0887"
             ],
             [
              0.1111111111111111,
              "#46039f"
             ],
             [
              0.2222222222222222,
              "#7201a8"
             ],
             [
              0.3333333333333333,
              "#9c179e"
             ],
             [
              0.4444444444444444,
              "#bd3786"
             ],
             [
              0.5555555555555556,
              "#d8576b"
             ],
             [
              0.6666666666666666,
              "#ed7953"
             ],
             [
              0.7777777777777778,
              "#fb9f3a"
             ],
             [
              0.8888888888888888,
              "#fdca26"
             ],
             [
              1,
              "#f0f921"
             ]
            ],
            "type": "surface"
           }
          ],
          "table": [
           {
            "cells": {
             "fill": {
              "color": "#EBF0F8"
             },
             "line": {
              "color": "white"
             }
            },
            "header": {
             "fill": {
              "color": "#C8D4E3"
             },
             "line": {
              "color": "white"
             }
            },
            "type": "table"
           }
          ]
         },
         "layout": {
          "annotationdefaults": {
           "arrowcolor": "#2a3f5f",
           "arrowhead": 0,
           "arrowwidth": 1
          },
          "autotypenumbers": "strict",
          "coloraxis": {
           "colorbar": {
            "outlinewidth": 0,
            "ticks": ""
           }
          },
          "colorscale": {
           "diverging": [
            [
             0,
             "#8e0152"
            ],
            [
             0.1,
             "#c51b7d"
            ],
            [
             0.2,
             "#de77ae"
            ],
            [
             0.3,
             "#f1b6da"
            ],
            [
             0.4,
             "#fde0ef"
            ],
            [
             0.5,
             "#f7f7f7"
            ],
            [
             0.6,
             "#e6f5d0"
            ],
            [
             0.7,
             "#b8e186"
            ],
            [
             0.8,
             "#7fbc41"
            ],
            [
             0.9,
             "#4d9221"
            ],
            [
             1,
             "#276419"
            ]
           ],
           "sequential": [
            [
             0,
             "#0d0887"
            ],
            [
             0.1111111111111111,
             "#46039f"
            ],
            [
             0.2222222222222222,
             "#7201a8"
            ],
            [
             0.3333333333333333,
             "#9c179e"
            ],
            [
             0.4444444444444444,
             "#bd3786"
            ],
            [
             0.5555555555555556,
             "#d8576b"
            ],
            [
             0.6666666666666666,
             "#ed7953"
            ],
            [
             0.7777777777777778,
             "#fb9f3a"
            ],
            [
             0.8888888888888888,
             "#fdca26"
            ],
            [
             1,
             "#f0f921"
            ]
           ],
           "sequentialminus": [
            [
             0,
             "#0d0887"
            ],
            [
             0.1111111111111111,
             "#46039f"
            ],
            [
             0.2222222222222222,
             "#7201a8"
            ],
            [
             0.3333333333333333,
             "#9c179e"
            ],
            [
             0.4444444444444444,
             "#bd3786"
            ],
            [
             0.5555555555555556,
             "#d8576b"
            ],
            [
             0.6666666666666666,
             "#ed7953"
            ],
            [
             0.7777777777777778,
             "#fb9f3a"
            ],
            [
             0.8888888888888888,
             "#fdca26"
            ],
            [
             1,
             "#f0f921"
            ]
           ]
          },
          "colorway": [
           "#636efa",
           "#EF553B",
           "#00cc96",
           "#ab63fa",
           "#FFA15A",
           "#19d3f3",
           "#FF6692",
           "#B6E880",
           "#FF97FF",
           "#FECB52"
          ],
          "font": {
           "color": "#2a3f5f"
          },
          "geo": {
           "bgcolor": "white",
           "lakecolor": "white",
           "landcolor": "#E5ECF6",
           "showlakes": true,
           "showland": true,
           "subunitcolor": "white"
          },
          "hoverlabel": {
           "align": "left"
          },
          "hovermode": "closest",
          "mapbox": {
           "style": "light"
          },
          "paper_bgcolor": "white",
          "plot_bgcolor": "#E5ECF6",
          "polar": {
           "angularaxis": {
            "gridcolor": "white",
            "linecolor": "white",
            "ticks": ""
           },
           "bgcolor": "#E5ECF6",
           "radialaxis": {
            "gridcolor": "white",
            "linecolor": "white",
            "ticks": ""
           }
          },
          "scene": {
           "xaxis": {
            "backgroundcolor": "#E5ECF6",
            "gridcolor": "white",
            "gridwidth": 2,
            "linecolor": "white",
            "showbackground": true,
            "ticks": "",
            "zerolinecolor": "white"
           },
           "yaxis": {
            "backgroundcolor": "#E5ECF6",
            "gridcolor": "white",
            "gridwidth": 2,
            "linecolor": "white",
            "showbackground": true,
            "ticks": "",
            "zerolinecolor": "white"
           },
           "zaxis": {
            "backgroundcolor": "#E5ECF6",
            "gridcolor": "white",
            "gridwidth": 2,
            "linecolor": "white",
            "showbackground": true,
            "ticks": "",
            "zerolinecolor": "white"
           }
          },
          "shapedefaults": {
           "line": {
            "color": "#2a3f5f"
           }
          },
          "ternary": {
           "aaxis": {
            "gridcolor": "white",
            "linecolor": "white",
            "ticks": ""
           },
           "baxis": {
            "gridcolor": "white",
            "linecolor": "white",
            "ticks": ""
           },
           "bgcolor": "#E5ECF6",
           "caxis": {
            "gridcolor": "white",
            "linecolor": "white",
            "ticks": ""
           }
          },
          "title": {
           "x": 0.05
          },
          "xaxis": {
           "automargin": true,
           "gridcolor": "white",
           "linecolor": "white",
           "ticks": "",
           "title": {
            "standoff": 15
           },
           "zerolinecolor": "white",
           "zerolinewidth": 2
          },
          "yaxis": {
           "automargin": true,
           "gridcolor": "white",
           "linecolor": "white",
           "ticks": "",
           "title": {
            "standoff": 15
           },
           "zerolinecolor": "white",
           "zerolinewidth": 2
          }
         }
        },
        "title": {
         "text": "Optimization History Plot"
        },
        "xaxis": {
         "title": {
          "text": "Trial"
         }
        },
        "yaxis": {
         "title": {
          "text": "Objective Value"
         }
        }
       }
      },
      "image/png": "[encoded data removed]"
     },
     "metadata": {},
     "output_type": "display_data"
    }
   ],
   "source": [
    "optuna.visualization.plot_optimization_history(study)"
   ]
  },
  {
   "cell_type": "code",
   "execution_count": null,
   "id": "b77645b0-8db6-459b-ba98-cb6def84d1b5",
   "metadata": {},
   "outputs": [],
   "source": [
    "# optuna.visualization.plot_contour(study)"
   ]
  },
  {
   "cell_type": "code",
   "execution_count": null,
   "id": "fb27f927-d8cb-418f-a95a-09ac2f4209fa",
   "metadata": {},
   "outputs": [],
   "source": [
    "# for split in [[xgb_mae_history[i][\"validation_1\"][\"mae\"][-1] for i in range(split * 5, split * 5 + 5)] for split in range(4)]:\n",
    "#     print(np.round(np.mean(split), 3))\n",
    "\n",
    "# for split in [[lgbm_mae_history[i][\"valid_1\"][\"l1\"][-1] for i in range(split * 5, split * 5 + 5)] for split in range(4)]:\n",
    "#     print(np.round(np.mean(split), 3))\n",
    "\n",
    "# for split in [[cb_mae_history[i][\"validation_1\"][\"MAE\"][-1] for i in range(split * 5, split * 5 + 5)] for split in range(4)]:\n",
    "#     print(np.round(np.mean(split), 3))\n",
    "\n",
    "# [[i for i in range(split * 5, split * 5 + 5)] for split in range(4)]\n",
    "\n",
    "# residuals = y_test - y_pred\n",
    "\n",
    "# plt.scatter(y_pred, residuals, alpha=0.5)\n",
    "# plt.axhline(0, color=\"red\", linestyle=\"--\")\n",
    "# plt.xlabel(\"Predicted\")\n",
    "# plt.ylabel(\"Residuals\")\n",
    "# plt.title(\"Residuals vs Predicted\")\n",
    "# plt.show()\n",
    "\n",
    "# fi = pd.Series(xgbr.feature_importances_, index=X_train.columns)\n",
    "# fi = fi.sort_values(ascending=False).head(20)\n",
    "\n",
    "# fi.plot.barh(figsize=(8,6))\n",
    "# plt.xlabel(\"Feature Importance\")\n",
    "# plt.gca().invert_yaxis()\n",
    "# plt.title(\"Top 20 Important Features\")\n",
    "# plt.show()"
   ]
  }
 ],
 "metadata": {},
 "nbformat": 4,
 "nbformat_minor": 5
}
