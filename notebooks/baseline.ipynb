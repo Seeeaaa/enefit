{
 "cells": [
  {
   "cell_type": "markdown",
   "id": "af09e75c-0bf4-4c48-a601-01db2a2f3bd6",
   "metadata": {},
   "source": [
    "# 1. Setup"
   ]
  },
  {
   "cell_type": "code",
   "execution_count": null,
   "id": "c294f506-7ec6-42cb-88a3-07cf9ae2c71b",
   "metadata": {},
   "outputs": [],
   "source": [
    "import sys\n",
    "from pathlib import Path\n",
    "sys.path.append(str(Path().resolve().parent))"
   ]
  },
  {
   "cell_type": "code",
   "execution_count": null,
   "id": "b5d9fc89-7313-4a85-8519-e9d590e69243",
   "metadata": {},
   "outputs": [],
   "source": [
    "# Horizontal Scrolling\n",
    "import io\n",
    "import base64\n",
    "from IPython.display import HTML, display"
   ]
  },
  {
   "cell_type": "code",
   "execution_count": null,
   "id": "b609dd18-6839-426a-bc21-f94adbdf60ce",
   "metadata": {},
   "outputs": [],
   "source": [
    "import matplotlib.pyplot as plt\n",
    "import numpy as np\n",
    "import pandas as pd\n",
    "import seaborn as sns\n",
    "from scipy.ndimage import binary_dilation\n",
    "from xgboost import XGBRegressor\n",
    "from sklearn.metrics import mean_absolute_error as MAE\n",
    "from pandas import DataFrame, Series, Timedelta"
   ]
  },
  {
   "cell_type": "code",
   "execution_count": null,
   "id": "1cfa8367-1fd6-49f1-87e7-a0abaf056807",
   "metadata": {},
   "outputs": [],
   "source": [
    "from utils.loading import load_all_raw_data\n",
    "from utils.preprocessing import process_all_dfs\n",
    "from utils.merging import merge_all_dfs\n",
    "from utils.feature_engineering import *"
   ]
  },
  {
   "cell_type": "code",
   "execution_count": null,
   "id": "c517a23d-20f1-4d78-9500-cdad996b9962",
   "metadata": {},
   "outputs": [],
   "source": [
    "pd.set_option(\n",
    "    \"display.float_format\",\n",
    "    lambda x: f\"{x:.2e}\" if abs(x) < 0.01 and x != 0 else f\"{x:.2f}\",\n",
    ")\n",
    "pd.set_option('display.max_columns', 100)\n",
    "pd.set_option(\"display.max_rows\", 100)"
   ]
  },
  {
   "cell_type": "code",
   "execution_count": null,
   "id": "fecf64f8-3024-49c1-8003-2bf3bdf7a1ce",
   "metadata": {},
   "outputs": [],
   "source": [
    "SEGMENT_C = [\"county\", \"product_type\", \"is_business\"]\n",
    "CATEGORICAL_C = [\"county\", \"product_type\", \"is_business\", \"is_consumption\"]\n",
    "TARGET_C = [\n",
    "    \"county\",\n",
    "    \"product_type\",\n",
    "    \"is_business\",\n",
    "    \"is_consumption\",\n",
    "    \"datetime\",\n",
    "]\n",
    "RAND = 10"
   ]
  },
  {
   "cell_type": "code",
   "execution_count": null,
   "id": "d693455f-cee5-4942-8852-07d57c94bfbe",
   "metadata": {},
   "outputs": [],
   "source": [
    "RAW_DATA_PATH = \"../raw_data/\"\n",
    "ADDITIONAL_DATA_PATH = \"../additional_data/\""
   ]
  },
  {
   "cell_type": "markdown",
   "id": "8c38031e-6fd2-4ad1-8c50-dbd1858776f6",
   "metadata": {},
   "source": [
    "# 2. Processing"
   ]
  },
  {
   "cell_type": "code",
   "execution_count": null,
   "id": "e744670d-0bd3-44cb-a39a-f71406dfcc21",
   "metadata": {},
   "outputs": [],
   "source": [
    "processed_dfs = process_all_dfs(\n",
    "    load_all_raw_data(RAW_DATA_PATH, ADDITIONAL_DATA_PATH)\n",
    ")"
   ]
  },
  {
   "cell_type": "code",
   "execution_count": null,
   "id": "05d97801-1f74-4776-b2e7-ce9234d10c11",
   "metadata": {},
   "outputs": [
    {
     "data": {
      "text/plain": [
       "dict_keys(['train', 'gas_prices', 'client', 'electricity_prices', 'forecast_weather', 'historical_weather', 'station_county_mapping', 'county_id_to_name_map', 'holidays'])"
      ]
     },
     "execution_count": null,
     "metadata": {},
     "output_type": "execute_result"
    }
   ],
   "source": [
    "processed_dfs.keys()"
   ]
  },
  {
   "cell_type": "code",
   "execution_count": null,
   "id": "718f9a1a-1d63-45d7-9f51-e7029aad6ccb",
   "metadata": {},
   "outputs": [],
   "source": [
    "df = merge_all_dfs(processed_dfs, how=\"left\")"
   ]
  },
  {
   "cell_type": "code",
   "execution_count": null,
   "id": "5b88997f-e282-4183-8432-b26b2bdfe988",
   "metadata": {},
   "outputs": [],
   "source": [
    "df = add_dst_flag(df)"
   ]
  },
  {
   "cell_type": "code",
   "execution_count": null,
   "id": "3b94a016-f449-4b8e-8e09-9c3abbe5fd9f",
   "metadata": {},
   "outputs": [],
   "source": [
    "df = add_cyclic_datetime_features(df, drop_raw=True)"
   ]
  },
  {
   "cell_type": "code",
   "execution_count": null,
   "id": "11122383-2f03-4716-a628-104dd4f8469d",
   "metadata": {},
   "outputs": [],
   "source": [
    "# for lag in [2, 3, 7]:\n",
    "for lag in range(2, 15):\n",
    "    df = df.merge(\n",
    "        get_lag(processed_dfs[\"train\"][TARGET_C + [\"target\"]], lag=lag),\n",
    "        on=TARGET_C,\n",
    "    )"
   ]
  },
  {
   "cell_type": "code",
   "execution_count": null,
   "id": "4ac5bae2-9407-4fb6-a9fa-1414023b3e73",
   "metadata": {},
   "outputs": [],
   "source": [
    "# for window in [24, 24 * 3, 24 * 7, 24 * 14]:\n",
    "for window in [24 * i for i in range(1, 15)]:\n",
    "    df = df.merge(\n",
    "        get_moving_average(\n",
    "            processed_dfs[\"train\"]\n",
    "            .set_index(\"datetime\")\n",
    "            .sort_index()\n",
    "            .groupby(CATEGORICAL_C, observed=True, as_index=False),\n",
    "            window=window,\n",
    "        ).dropna(),\n",
    "        on=TARGET_C,\n",
    "    )"
   ]
  },
  {
   "cell_type": "code",
   "execution_count": null,
   "id": "03cc127e-7d7f-4455-a3de-eb55ffdb8b61",
   "metadata": {},
   "outputs": [],
   "source": [
    "df[\"t_over_cap\"] = (df[\"2d_lag_target\"] / df[\"installed_capacity\"]).astype(\n",
    "    \"float32\"\n",
    ")\n",
    "df[\"t_over_eic\"] = (df[\"2d_lag_target\"] / df[\"eic_count\"]).astype(\"float32\")\n",
    "df[\"cap_per_eic\"] = (df[\"installed_capacity\"] / df[\"eic_count\"]).astype(\n",
    "    \"float32\"\n",
    ")"
   ]
  },
  {
   "cell_type": "code",
   "execution_count": null,
   "id": "09f19fac-bbc0-49cc-b0b9-cfcc89e02abd",
   "metadata": {},
   "outputs": [],
   "source": [
    "# w, h = 20, 14\n",
    "\n",
    "# fig, ax = plt.subplots(figsize=(w, h))\n",
    "# # plt.figure(figsize=(w, h))\n",
    "\n",
    "# sns.heatmap(\n",
    "#     df.drop(\n",
    "#         columns=df.select_dtypes([\"category\"]).columns.tolist()\n",
    "#         + [\n",
    "#             \"datetime\",\n",
    "#             \"data_block_id\",\n",
    "#             \"date\",\n",
    "#         ]\n",
    "#     ).corr(),\n",
    "#     annot=True,\n",
    "#     fmt=\".1f\",\n",
    "#     annot_kws={\"size\": 7},\n",
    "# )\n",
    "\n",
    "\n",
    "# buf = io.BytesIO()\n",
    "# fig.savefig(buf, format=\"png\", bbox_inches=\"tight\")\n",
    "# buf.seek(0)\n",
    "# img_base64 = base64.b64encode(buf.getvalue()).decode(\"utf-8\")\n",
    "\n",
    "# html_code = (\n",
    "#     '<div style=\"overflow-x: auto; width: 100%;\">'\n",
    "#     '<img src=\"data:image/png;base64,{}\" style=\"display: block; max-width: none; width: auto;\">'\n",
    "#     \"</div>\"\n",
    "# ).format(img_base64)\n",
    "\n",
    "# display(HTML(html_code))\n",
    "# plt.close(fig)\n",
    "# # plt.show()"
   ]
  },
  {
   "cell_type": "markdown",
   "id": "d4f041bf-4858-46a3-9889-a1fb7b7cf085",
   "metadata": {},
   "source": [
    "# 3. Simple Baseline"
   ]
  },
  {
   "cell_type": "code",
   "execution_count": null,
   "id": "846595d0-3622-49ad-b87d-28a428d90760",
   "metadata": {},
   "outputs": [],
   "source": [
    "def split_by_equal_days(\n",
    "    dt: Series,\n",
    "    train_days: int = 1,\n",
    "    fh_days: int = 1,  # Same for val and test\n",
    "    val_steps: int = 1,\n",
    "    expanding: bool = True,\n",
    ") -> list[dict[str, tuple[pd.Timestamp, pd.Timestamp] | None]]:\n",
    "    dt = dt.dt.floor(\"D\")\n",
    "\n",
    "    train_days = Timedelta(days=train_days)\n",
    "    train_days_delta = train_days - Timedelta(days=1)  # Indexing from 0\n",
    "\n",
    "    fh_days = Timedelta(days=fh_days)  # Indexing from 0\n",
    "    fh_days_delta = fh_days - Timedelta(days=1)\n",
    "\n",
    "    first_day = dt.min()\n",
    "    last_day = dt.max()\n",
    "\n",
    "    test_start = last_day - fh_days\n",
    "    test_end = last_day + pd.Timedelta(hours=23)\n",
    "\n",
    "    \n",
    "\n",
    "    splits = []\n",
    "\n",
    "    for step in range(val_steps + 1):  # val_steps times + 1 test-only\n",
    "        if expanding:\n",
    "            train_start = first_day\n",
    "        else:\n",
    "            train_start = first_day + step * train_days\n",
    "\n",
    "        train_end = train_start + train_days_delta + pd.Timedelta(hours=23)\n",
    "\n",
    "        val_start = train_end + pd.Timedelta(hours=1)\n",
    "        val_end = val_start + fh_days_delta + pd.Timedelta(hours=23)\n",
    "\n",
    "        if val_end >= test_start:\n",
    "            # Skip creating val if it overlaps with test\n",
    "            splits.append(\n",
    "                {\n",
    "                    \"train\": (train_start, train_end),\n",
    "                    \"val\": None,\n",
    "                    \"test\": (test_start, test_end),\n",
    "                }\n",
    "            )\n",
    "            break\n",
    "\n",
    "        splits.append(\n",
    "            {\n",
    "                \"train\": (train_start, train_end),\n",
    "                \"val\": (val_start, val_end),\n",
    "                \"test\": (test_start, test_end),\n",
    "            }\n",
    "        )\n",
    "\n",
    "    return splits"
   ]
  },
  {
   "cell_type": "code",
   "execution_count": null,
   "id": "475ed027-3ff0-41c3-b977-e4db60bebfad",
   "metadata": {},
   "outputs": [
    {
     "name": "stdout",
     "output_type": "stream",
     "text": [
      "First timestamp: 2021-09-17 00:00:00\n",
      "Last timestamp: 2023-05-31 23:00:00\n"
     ]
    }
   ],
   "source": [
    "print(\n",
    "    f\"First timestamp: {df[\"datetime\"].min()}\",\n",
    "    f\"Last timestamp: {df[\"datetime\"].max()}\",\n",
    "    sep=\"\\n\"\n",
    ")"
   ]
  },
  {
   "cell_type": "markdown",
   "id": "169e7c10-53c4-46a7-81e6-3ca00042b929",
   "metadata": {},
   "source": [
    "Since the minimum usable lag for prediction is 48 hours, this horizon is particularly well suited as a naive baseline."
   ]
  },
  {
   "cell_type": "code",
   "execution_count": null,
   "id": "1645af8f-001a-4556-b7d3-b00df5fb39ae",
   "metadata": {},
   "outputs": [],
   "source": [
    "splits_expanding = split_by_equal_days(\n",
    "    df[\"datetime\"],\n",
    "    train_days=90,\n",
    "    fh_days=1,  # Only daily predictions as per problem statement\n",
    "    val_steps=4,  # Plus 1 without val\n",
    "    expanding=True,\n",
    ")"
   ]
  },
  {
   "cell_type": "code",
   "execution_count": null,
   "id": "411f5e9a-0837-41e4-97c2-1f79e42ea490",
   "metadata": {},
   "outputs": [
    {
     "name": "stdout",
     "output_type": "stream",
     "text": [
      "(Timestamp('2021-09-17 00:00:00'), Timestamp('2021-12-15 23:00:00'))\n",
      "(Timestamp('2021-09-17 00:00:00'), Timestamp('2021-12-15 23:00:00'))\n",
      "(Timestamp('2021-09-17 00:00:00'), Timestamp('2021-12-15 23:00:00'))\n",
      "(Timestamp('2021-09-17 00:00:00'), Timestamp('2021-12-15 23:00:00'))\n",
      "(Timestamp('2021-09-17 00:00:00'), Timestamp('2021-12-15 23:00:00'))\n",
      "[]\n",
      "[]\n"
     ]
    }
   ],
   "source": [
    "val_mae = []\n",
    "test_mae = []\n",
    "\n",
    "for split in splits_expanding:\n",
    "    print(split[\"train\"])\n",
    "    # val_slice = df.loc[\n",
    "    #     (df[\"datetime\"] >= split[\"val\"][0])\n",
    "    #     & (df[\"datetime\"] <= split[\"val\"][1]),\n",
    "    #     [\"target\", \"2d_lag_target\"],\n",
    "    # ]\n",
    "    # test_slice = df.loc[\n",
    "    #     (df[\"datetime\"] >= split[\"test\"][0])\n",
    "    #     & (df[\"datetime\"] <= split[\"test\"][1]),\n",
    "    #     [\"target\", \"2d_lag_target\"],\n",
    "    # ]\n",
    "    # val_mae.append(MAE(val_slice[\"target\"], val_slice[\"2d_lag_target\"]))\n",
    "    # test_mae.append(MAE(test_slice[\"target\"], test_slice[\"2d_lag_target\"]))\n",
    "\n",
    "print(val_mae)\n",
    "print(test_mae)"
   ]
  },
  {
   "cell_type": "code",
   "execution_count": null,
   "id": "9476c238-26af-4623-aa37-2708ee10e020",
   "metadata": {},
   "outputs": [
    {
     "data": {
      "text/plain": [
       "81.69410705566406"
      ]
     },
     "execution_count": null,
     "metadata": {},
     "output_type": "execute_result"
    }
   ],
   "source": [
    "MAE(df[\"\n",
    "\"], df[\"target\"])"
   ]
  },
  {
   "cell_type": "code",
   "execution_count": null,
   "id": "8709e9f2-66da-4ef7-9c4e-0510e93e8522",
   "metadata": {},
   "outputs": [],
   "source": [
    "FEATURES_TO_DROP = [\"datetime\", \"data_block_id\", \"date\"]"
   ]
  },
  {
   "cell_type": "code",
   "execution_count": null,
   "id": "12aefefb-2912-4136-bff4-a567e5e2cb7f",
   "metadata": {},
   "outputs": [
    {
     "data": {
      "text/plain": [
       "True"
      ]
     },
     "execution_count": null,
     "metadata": {},
     "output_type": "execute_result"
    }
   ],
   "source": [
    "df[\"datetime\"].is_monotonic_increasing\n",
    "# df = df.sort_values('datetime', ignore_index=True)"
   ]
  },
  {
   "cell_type": "code",
   "execution_count": null,
   "id": "eef7024e-cd0e-4ff7-9426-42355bd4a487",
   "metadata": {},
   "outputs": [],
   "source": [
    "# for split in splits:\n",
    "#     for k, v in split.items():\n",
    "#         print(k, v, sep=\"\\n\")\n",
    "#         print(\"\\n\")"
   ]
  },
  {
   "cell_type": "code",
   "execution_count": null,
   "id": "c40c14f1-46d4-4c1d-9701-bf2c50973257",
   "metadata": {},
   "outputs": [],
   "source": [
    "train_ts = \"2022-06-01 00:00:00\"\n",
    "val_ts = \"2022-07-01 00:00:00\"\n",
    "test_ts = \"2022-08-01 00:00:00\""
   ]
  },
  {
   "cell_type": "code",
   "execution_count": null,
   "id": "b65c97d6-05f2-4043-a32a-a5567e866d86",
   "metadata": {},
   "outputs": [],
   "source": [
    "# example_df = df.loc[df[\"datetime\"] < test_timestamp]"
   ]
  },
  {
   "cell_type": "code",
   "execution_count": null,
   "id": "85b5a81b-7cb9-4125-abc5-f30de3502444",
   "metadata": {},
   "outputs": [],
   "source": [
    "df_train = df[df[\"datetime\"] < train_ts].drop(FEATURES_TO_DROP, axis=1)\n",
    "df_val = df[\n",
    "    (df[\"datetime\"] >= train_ts) & (df[\"datetime\"] < val_ts)\n",
    "].drop(FEATURES_TO_DROP, axis=1)\n",
    "df_test = df[\n",
    "    (df[\"datetime\"] >= val_ts) & (df[\"datetime\"] < test_ts)\n",
    "].drop(FEATURES_TO_DROP, axis=1)\n",
    "\n",
    "X_train, y_train = df_train.drop([\"target\"], axis=1), df_train[\"target\"]\n",
    "X_val, y_val = df_val.drop([\"target\"], axis=1), df_val[\"target\"]\n",
    "X_test, y_test = df_test.drop([\"target\"], axis=1), df_test[\"target\"]"
   ]
  },
  {
   "cell_type": "code",
   "execution_count": null,
   "id": "17455a67-fd40-4278-a1c5-5cf5ea7bcf30",
   "metadata": {},
   "outputs": [],
   "source": [
    "eval_set = [(X_train, y_train), (X_val, y_val)]"
   ]
  },
  {
   "cell_type": "code",
   "execution_count": null,
   "id": "32ee8d5b-89ac-460b-b6d2-92a6b16bc26f",
   "metadata": {},
   "outputs": [],
   "source": [
    "n_estimators = 1000\n",
    "max_depth=5\n",
    "early_stopping_rounds = 100\n",
    "learning_rate = 0.1"
   ]
  },
  {
   "cell_type": "code",
   "execution_count": null,
   "id": "e72b6610-d0b9-4475-a63d-bd59c4951d0b",
   "metadata": {},
   "outputs": [],
   "source": [
    "xgbr = XGBRegressor(\n",
    "    n_estimators=n_estimators,\n",
    "    max_depth=max_depth,\n",
    "    random_state=RAND,\n",
    "    enable_categorical=True,\n",
    "    eval_metric=\"mae\",\n",
    "    early_stopping_rounds=early_stopping_rounds,\n",
    "    learning_rate=learning_rate,\n",
    ")"
   ]
  },
  {
   "cell_type": "code",
   "execution_count": null,
   "id": "da118f6b-616b-41b6-a511-cfb84ec87457",
   "metadata": {},
   "outputs": [],
   "source": [
    "xgbr.fit(\n",
    "    X_train,\n",
    "    y_train,\n",
    "    eval_set=eval_set,\n",
    "    verbose=True\n",
    ")"
   ]
  },
  {
   "cell_type": "code",
   "execution_count": null,
   "id": "b1790cf8-0cea-4d3b-b4c8-ac425c297f98",
   "metadata": {},
   "outputs": [],
   "source": [
    "results = xgbr.evals_result()\n",
    "\n",
    "plt.plot(results[\"validation_0\"][\"mae\"], label=\"Training loss\")\n",
    "plt.plot(results[\"validation_1\"][\"mae\"], label=\"Validation loss\")\n",
    "\n",
    "plt.xlabel(\"Number of estimators\")\n",
    "plt.ylabel(\"Loss\")\n",
    "\n",
    "plt.legend()\n",
    "# plt.yscale(\"log\")\n",
    "plt.grid(which='both')\n",
    "\n",
    "plt.show()"
   ]
  },
  {
   "cell_type": "code",
   "execution_count": null,
   "id": "b05d3745-266f-4770-a4ea-86196da2273e",
   "metadata": {},
   "outputs": [],
   "source": [
    "y_pred = xgbr.predict(X_test)"
   ]
  },
  {
   "cell_type": "code",
   "execution_count": null,
   "id": "53cc68b0-2523-42ba-9542-807b3583f31f",
   "metadata": {},
   "outputs": [],
   "source": [
    "mean_absolute_error(y_test, y_pred)"
   ]
  },
  {
   "cell_type": "code",
   "execution_count": null,
   "id": "e20064da-6d29-43ff-baab-fbdbac96770c",
   "metadata": {},
   "outputs": [],
   "source": [
    "residuals = y_test - y_pred\n",
    "\n",
    "plt.scatter(y_pred, residuals, alpha=0.5)\n",
    "plt.axhline(0, color=\"red\", linestyle=\"--\")\n",
    "plt.xlabel(\"Predicted\")\n",
    "plt.ylabel(\"Residuals\")\n",
    "plt.title(\"Residuals vs Predicted\")\n",
    "plt.show()"
   ]
  },
  {
   "cell_type": "code",
   "execution_count": null,
   "id": "dfa79087-4e06-48a8-bf03-2fbfdd1fcf1a",
   "metadata": {},
   "outputs": [],
   "source": [
    "fi = pd.Series(xgbr.feature_importances_, index=X_train.columns)\n",
    "fi = fi.sort_values(ascending=False).head(20)\n",
    "\n",
    "fi.plot.barh(figsize=(8,6))\n",
    "plt.xlabel(\"Feature Importance\")\n",
    "plt.gca().invert_yaxis()\n",
    "plt.title(\"Top 20 Important Features\")\n",
    "plt.show()"
   ]
  }
 ],
 "metadata": {},
 "nbformat": 4,
 "nbformat_minor": 5
}
