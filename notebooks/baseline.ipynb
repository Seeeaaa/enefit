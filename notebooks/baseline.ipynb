{
 "cells": [
  {
   "cell_type": "markdown",
   "id": "af09e75c-0bf4-4c48-a601-01db2a2f3bd6",
   "metadata": {},
   "source": [
    "# 1. Setup"
   ]
  },
  {
   "cell_type": "code",
   "execution_count": null,
   "id": "665a87a1-37ef-47a8-bfb6-bf95175c2871",
   "metadata": {},
   "outputs": [],
   "source": [
    "import json\n",
    "from datetime import date, time\n",
    "\n",
    "import colorcet as cc\n",
    "import holidays\n",
    "import matplotlib.patches as mpatches\n",
    "import matplotlib.pyplot as plt\n",
    "import matplotlib.transforms as mt\n",
    "import numpy as np\n",
    "import pandas as pd\n",
    "import plotly.express as px\n",
    "import plotly.graph_objects as go\n",
    "import seaborn as sns\n",
    "from IPython.display import Image\n",
    "from matplotlib.dates import DateFormatter, MonthLocator\n",
    "from matplotlib.lines import Line2D\n",
    "from matplotlib.ticker import MultipleLocator\n",
    "from pandas.core.groupby.generic import DataFrameGroupBy\n",
    "from prophet import Prophet\n",
    "from scipy.ndimage import binary_dilation\n",
    "from shapely.geometry import shape\n",
    "from statsmodels.tsa.seasonal import MSTL, seasonal_decompose"
   ]
  },
  {
   "cell_type": "code",
   "execution_count": null,
   "id": "3cf5341c-1aeb-4c7d-8f95-0b56827cb482",
   "metadata": {},
   "outputs": [],
   "source": [
    "RAND = 10\n",
    "RAW_DATA = \"../raw_data/\""
   ]
  },
  {
   "cell_type": "code",
   "execution_count": null,
   "id": "1cfa8367-1fd6-49f1-87e7-a0abaf056807",
   "metadata": {},
   "outputs": [],
   "source": [
    "from utils.load import load_all_raw_data\n",
    "from utils.process import process_all_dfs\n",
    "from utils.merge import merge_all_dfs"
   ]
  },
  {
   "cell_type": "code",
   "execution_count": null,
   "id": "e388e019-021b-4072-a6d8-4d7481eef0ce",
   "metadata": {},
   "outputs": [],
   "source": [
    "df = merge_all_dfs(process_all_dfs(load_all_raw_data(RAW_DATA)))"
   ]
  },
  {
   "cell_type": "code",
   "execution_count": null,
   "id": "3d95d944-6fa3-4f89-abd1-1087b0b263e0",
   "metadata": {},
   "outputs": [
    {
     "data": {
      "text/plain": [
       "360.0"
      ]
     },
     "execution_count": null,
     "metadata": {},
     "output_type": "execute_result"
    }
   ],
   "source": [
    "df.h2_winddirection_10m.max()"
   ]
  },
  {
   "cell_type": "code",
   "execution_count": null,
   "id": "3302b522-c750-481d-a0fa-f8e73bb0af1f",
   "metadata": {},
   "outputs": [
    {
     "data": {
      "text/plain": [
       "county                                        category\n",
       "product_type                                  category\n",
       "is_business                                   category\n",
       "is_consumption                                category\n",
       "datetime                                datetime64[ns]\n",
       "target                                         float32\n",
       "data_block_id                                   uint16\n",
       "eic_count                                      float64\n",
       "installed_capacity                             float32\n",
       "lowest_price_per_mwh                           float32\n",
       "highest_price_per_mwh                          float32\n",
       "euros_per_mwh                                  float32\n",
       "f1_temperature                                 float32\n",
       "f1_dewpoint                                    float32\n",
       "f1_cloudcover_low                                uint8\n",
       "f1_cloudcover_mid                                uint8\n",
       "f1_cloudcover_high                               uint8\n",
       "f1_cloudcover_total                              uint8\n",
       "f1_10_metre_u_wind_component                   float32\n",
       "f1_10_metre_v_wind_component                   float32\n",
       "f1_direct_solar_radiation                      float32\n",
       "f1_surface_solar_radiation_downwards           float32\n",
       "f1_snowfall                                    float32\n",
       "f1_total_precipitation                         float32\n",
       "h2_temperature                                 float32\n",
       "h2_dewpoint                                    float32\n",
       "h2_rain                                        float32\n",
       "h2_snowfall                                    float32\n",
       "h2_surface_pressure                            float32\n",
       "h2_cloudcover_total                            float64\n",
       "h2_cloudcover_low                              float64\n",
       "h2_cloudcover_mid                              float64\n",
       "h2_cloudcover_high                             float64\n",
       "h2_windspeed_10m                               float32\n",
       "h2_winddirection_10m                           float64\n",
       "h2_shortwave_radiation                         float64\n",
       "h2_direct_solar_radiation                      float64\n",
       "h2_diffuse_radiation                           float64\n",
       "dtype: object"
      ]
     },
     "execution_count": null,
     "metadata": {},
     "output_type": "execute_result"
    }
   ],
   "source": [
    "df.dtypes"
   ]
  },
  {
   "cell_type": "code",
   "execution_count": null,
   "id": "b2c36618-2dae-489f-9bf0-99ab0f8633f5",
   "metadata": {},
   "outputs": [
    {
     "data": {
      "text/plain": [
       "county                                     0\n",
       "product_type                               0\n",
       "is_business                                0\n",
       "is_consumption                             0\n",
       "datetime                                   0\n",
       "target                                     0\n",
       "data_block_id                              0\n",
       "eic_count                               5710\n",
       "installed_capacity                      5710\n",
       "lowest_price_per_mwh                       0\n",
       "highest_price_per_mwh                      0\n",
       "euros_per_mwh                              0\n",
       "f1_temperature                             0\n",
       "f1_dewpoint                                0\n",
       "f1_cloudcover_low                          0\n",
       "f1_cloudcover_mid                          0\n",
       "f1_cloudcover_high                         0\n",
       "f1_cloudcover_total                        0\n",
       "f1_10_metre_u_wind_component               0\n",
       "f1_10_metre_v_wind_component               0\n",
       "f1_direct_solar_radiation                  0\n",
       "f1_surface_solar_radiation_downwards       0\n",
       "f1_snowfall                                0\n",
       "f1_total_precipitation                     0\n",
       "h2_temperature                          2928\n",
       "h2_dewpoint                             2928\n",
       "h2_rain                                 2928\n",
       "h2_snowfall                             2928\n",
       "h2_surface_pressure                     2928\n",
       "h2_cloudcover_total                     2928\n",
       "h2_cloudcover_low                       2928\n",
       "h2_cloudcover_mid                       2928\n",
       "h2_cloudcover_high                      2928\n",
       "h2_windspeed_10m                        2928\n",
       "h2_winddirection_10m                    2928\n",
       "h2_shortwave_radiation                  2928\n",
       "h2_direct_solar_radiation               2928\n",
       "h2_diffuse_radiation                    2928\n",
       "dtype: int64"
      ]
     },
     "execution_count": null,
     "metadata": {},
     "output_type": "execute_result"
    }
   ],
   "source": [
    "df.isna().sum()"
   ]
  },
  {
   "cell_type": "code",
   "execution_count": null,
   "id": "e44e09c7-6509-4887-b247-3c0bedbe2338",
   "metadata": {},
   "outputs": [],
   "source": [
    "CATEGORICAL_DICT = {\n",
    "    \"county\": county_id_to_name_map,\n",
    "    \"is_business\": {0: \"not_business\", 1: \"business\"},\n",
    "    \"is_consumption\": {0: \"production\", 1: \"consumption\"},\n",
    "    \"product_type\": {\n",
    "        0: \"combined\",\n",
    "        1: \"fixed\",\n",
    "        2: \"general_service\",\n",
    "        3: \"spot\",\n",
    "    },\n",
    "}\n",
    "\n",
    "PALETTE = sns.color_palette(\n",
    "    cc.glasbey[:4]\n",
    "    + [cc.glasbey[8]]\n",
    "    + cc.glasbey[5:8]\n",
    "    + [cc.glasbey[4]]\n",
    "    + [cc.glasbey[12]]\n",
    "    + cc.glasbey[10:12]\n",
    "    + [cc.glasbey[9]]\n",
    "    + cc.glasbey[13:16]\n",
    ").as_hex()\n",
    "\n",
    "SEGMENT_C = [\"county\", \"product_type\", \"is_business\"]\n",
    "CATEGORICAL_C = [\"county\", \"product_type\", \"is_business\", \"is_consumption\"]\n",
    "TARGET_C = [\n",
    "    \"county\",\n",
    "    \"product_type\",\n",
    "    \"is_business\",\n",
    "    \"is_consumption\",\n",
    "    \"datetime\",\n",
    "]"
   ]
  },
  {
   "cell_type": "code",
   "execution_count": null,
   "id": "488b17ef-c6b4-40fa-b431-8725859e0b3d",
   "metadata": {},
   "outputs": [],
   "source": [
    "pd.set_option(\n",
    "    \"display.float_format\",\n",
    "    lambda x: f\"{x:.2e}\" if abs(x) < 0.01 and x != 0 else f\"{x:.2f}\",\n",
    ")\n",
    "pd.set_option(\"display.max_columns\", None)"
   ]
  },
  {
   "cell_type": "code",
   "execution_count": null,
   "id": "4d404b91-fce1-4b4b-8198-9f8ef0e051cd",
   "metadata": {},
   "outputs": [],
   "source": [
    "sns.set_style(\"whitegrid\")"
   ]
  }
 ],
 "metadata": {},
 "nbformat": 4,
 "nbformat_minor": 5
}
