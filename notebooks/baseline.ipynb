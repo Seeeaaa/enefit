{
 "cells": [
  {
   "cell_type": "markdown",
   "id": "af09e75c-0bf4-4c48-a601-01db2a2f3bd6",
   "metadata": {},
   "source": [
    "# 1. Setup"
   ]
  },
  {
   "cell_type": "code",
   "execution_count": null,
   "id": "665a87a1-37ef-47a8-bfb6-bf95175c2871",
   "metadata": {},
   "outputs": [],
   "source": [
    "# import json\n",
    "# from datetime import date, time\n",
    "\n",
    "# import colorcet as cc\n",
    "# import holidays\n",
    "# import matplotlib.patches as mpatches\n",
    "# import matplotlib.pyplot as plt\n",
    "# import matplotlib.transforms as mt\n",
    "import numpy as np\n",
    "import pandas as pd\n",
    "# import plotly.express as px\n",
    "# import plotly.graph_objects as go\n",
    "# import seaborn as sns\n",
    "# from IPython.display import Image\n",
    "# from matplotlib.dates import DateFormatter, MonthLocator\n",
    "# from matplotlib.lines import Line2D\n",
    "# from matplotlib.ticker import MultipleLocator\n",
    "# from pandas.core.groupby.generic import DataFrameGroupBy\n",
    "# from prophet import Prophet\n",
    "# from scipy.ndimage import binary_dilation\n",
    "# from shapely.geometry import shape\n",
    "# from statsmodels.tsa.seasonal import MSTL, seasonal_decompose"
   ]
  },
  {
   "cell_type": "code",
   "execution_count": null,
   "id": "3cf5341c-1aeb-4c7d-8f95-0b56827cb482",
   "metadata": {},
   "outputs": [],
   "source": [
    "RAND = 10\n",
    "RAW_DATA = \"../raw_data/\"\n",
    "ADDITIONAL_DATA = \"../additional_data/\""
   ]
  },
  {
   "cell_type": "code",
   "execution_count": null,
   "id": "1cfa8367-1fd6-49f1-87e7-a0abaf056807",
   "metadata": {},
   "outputs": [],
   "source": [
    "from utils.load import load_all_raw_data\n",
    "from utils.process import process_all_dfs\n",
    "from utils.merge import merge_all_dfs"
   ]
  },
  {
   "cell_type": "code",
   "execution_count": null,
   "id": "e388e019-021b-4072-a6d8-4d7481eef0ce",
   "metadata": {},
   "outputs": [],
   "source": [
    "df = merge_all_dfs(process_all_dfs(load_all_raw_data(RAW_DATA, ADDITIONAL_DATA)))"
   ]
  },
  {
   "cell_type": "code",
   "execution_count": null,
   "id": "3af86962-f296-46e5-ac79-871e07be804b",
   "metadata": {},
   "outputs": [
    {
     "data": {
      "text/plain": [
       "(2012370, 43)"
      ]
     },
     "execution_count": null,
     "metadata": {},
     "output_type": "execute_result"
    }
   ],
   "source": [
    "df.shape"
   ]
  },
  {
   "cell_type": "code",
   "execution_count": null,
   "id": "69440eec-4da8-4c5c-a4b8-05d256daf2aa",
   "metadata": {},
   "outputs": [
    {
     "data": {
      "text/html": [
       "<div>\n",
       "<style scoped>\n",
       "    .dataframe tbody tr th:only-of-type {\n",
       "        vertical-align: middle;\n",
       "    }\n",
       "\n",
       "    .dataframe tbody tr th {\n",
       "        vertical-align: top;\n",
       "    }\n",
       "\n",
       "    .dataframe thead th {\n",
       "        text-align: right;\n",
       "    }\n",
       "</style>\n",
       "<table border=\"1\" class=\"dataframe\">\n",
       "  <thead>\n",
       "    <tr style=\"text-align: right;\">\n",
       "      <th></th>\n",
       "      <th>date</th>\n",
       "      <th>holiday_type</th>\n",
       "    </tr>\n",
       "  </thead>\n",
       "  <tbody>\n",
       "    <tr>\n",
       "      <th>0</th>\n",
       "      <td>2021-09-03</td>\n",
       "      <td>ordinary_day</td>\n",
       "    </tr>\n",
       "    <tr>\n",
       "      <th>1</th>\n",
       "      <td>2021-09-04</td>\n",
       "      <td>ordinary_day</td>\n",
       "    </tr>\n",
       "    <tr>\n",
       "      <th>2</th>\n",
       "      <td>2021-09-05</td>\n",
       "      <td>ordinary_day</td>\n",
       "    </tr>\n",
       "    <tr>\n",
       "      <th>3</th>\n",
       "      <td>2021-09-06</td>\n",
       "      <td>ordinary_day</td>\n",
       "    </tr>\n",
       "    <tr>\n",
       "      <th>4</th>\n",
       "      <td>2021-09-07</td>\n",
       "      <td>ordinary_day</td>\n",
       "    </tr>\n",
       "    <tr>\n",
       "      <th>...</th>\n",
       "      <td>...</td>\n",
       "      <td>...</td>\n",
       "    </tr>\n",
       "    <tr>\n",
       "      <th>631</th>\n",
       "      <td>2023-05-27</td>\n",
       "      <td>ordinary_day</td>\n",
       "    </tr>\n",
       "    <tr>\n",
       "      <th>632</th>\n",
       "      <td>2023-05-28</td>\n",
       "      <td>ordinary_day</td>\n",
       "    </tr>\n",
       "    <tr>\n",
       "      <th>633</th>\n",
       "      <td>2023-05-29</td>\n",
       "      <td>ordinary_day</td>\n",
       "    </tr>\n",
       "    <tr>\n",
       "      <th>634</th>\n",
       "      <td>2023-05-30</td>\n",
       "      <td>ordinary_day</td>\n",
       "    </tr>\n",
       "    <tr>\n",
       "      <th>635</th>\n",
       "      <td>2023-05-31</td>\n",
       "      <td>ordinary_day</td>\n",
       "    </tr>\n",
       "  </tbody>\n",
       "</table>\n",
       "<p>636 rows × 2 columns</p>\n",
       "</div>"
      ],
      "text/plain": [
       "          date  holiday_type\n",
       "0   2021-09-03  ordinary_day\n",
       "1   2021-09-04  ordinary_day\n",
       "2   2021-09-05  ordinary_day\n",
       "3   2021-09-06  ordinary_day\n",
       "4   2021-09-07  ordinary_day\n",
       "..         ...           ...\n",
       "631 2023-05-27  ordinary_day\n",
       "632 2023-05-28  ordinary_day\n",
       "633 2023-05-29  ordinary_day\n",
       "634 2023-05-30  ordinary_day\n",
       "635 2023-05-31  ordinary_day\n",
       "\n",
       "[636 rows x 2 columns]"
      ]
     },
     "execution_count": null,
     "metadata": {},
     "output_type": "execute_result"
    }
   ],
   "source": [
    "pd.DataFrame({\"date\": pd.date_range(df.datetime.min(),df.datetime.max(), freq='D'), \"holiday_type\": \"ordinary_day\"})"
   ]
  },
  {
   "cell_type": "code",
   "execution_count": null,
   "id": "475e4160-89d9-47a0-bdd7-9d12b27dd7ea",
   "metadata": {},
   "outputs": [],
   "source": [
    "df.columns"
   ]
  },
  {
   "cell_type": "code",
   "execution_count": null,
   "id": "f1da28b3-3428-4dba-9ec2-6c609df598cc",
   "metadata": {},
   "outputs": [],
   "source": [
    "# df.loc[df.dateisna().sum()'2023-03-26 03:00:00'"
   ]
  },
  {
   "cell_type": "code",
   "execution_count": null,
   "id": "e44e09c7-6509-4887-b247-3c0bedbe2338",
   "metadata": {},
   "outputs": [],
   "source": [
    "CATEGORICAL_DICT = {\n",
    "    \"county\": county_id_to_name_map,\n",
    "    \"is_business\": {0: \"not_business\", 1: \"business\"},\n",
    "    \"is_consumption\": {0: \"production\", 1: \"consumption\"},\n",
    "    \"product_type\": {\n",
    "        0: \"combined\",\n",
    "        1: \"fixed\",\n",
    "        2: \"general_service\",\n",
    "        3: \"spot\",\n",
    "    },\n",
    "}\n",
    "\n",
    "PALETTE = sns.color_palette(\n",
    "    cc.glasbey[:4]\n",
    "    + [cc.glasbey[8]]\n",
    "    + cc.glasbey[5:8]\n",
    "    + [cc.glasbey[4]]\n",
    "    + [cc.glasbey[12]]\n",
    "    + cc.glasbey[10:12]\n",
    "    + [cc.glasbey[9]]\n",
    "    + cc.glasbey[13:16]\n",
    ").as_hex()\n",
    "\n",
    "SEGMENT_C = [\"county\", \"product_type\", \"is_business\"]\n",
    "CATEGORICAL_C = [\"county\", \"product_type\", \"is_business\", \"is_consumption\"]\n",
    "TARGET_C = [\n",
    "    \"county\",\n",
    "    \"product_type\",\n",
    "    \"is_business\",\n",
    "    \"is_consumption\",\n",
    "    \"datetime\",\n",
    "]"
   ]
  },
  {
   "cell_type": "code",
   "execution_count": null,
   "id": "488b17ef-c6b4-40fa-b431-8725859e0b3d",
   "metadata": {},
   "outputs": [],
   "source": [
    "pd.set_option(\n",
    "    \"display.float_format\",\n",
    "    lambda x: f\"{x:.2e}\" if abs(x) < 0.01 and x != 0 else f\"{x:.2f}\",\n",
    ")\n",
    "pd.set_option(\"display.max_columns\", None)"
   ]
  },
  {
   "cell_type": "code",
   "execution_count": null,
   "id": "4d404b91-fce1-4b4b-8198-9f8ef0e051cd",
   "metadata": {},
   "outputs": [],
   "source": [
    "sns.set_style(\"whitegrid\")"
   ]
  }
 ],
 "metadata": {},
 "nbformat": 4,
 "nbformat_minor": 5
}
