{
 "cells": [
  {
   "cell_type": "markdown",
   "id": "af09e75c-0bf4-4c48-a601-01db2a2f3bd6",
   "metadata": {},
   "source": [
    "# 1. Setup"
   ]
  },
  {
   "cell_type": "code",
   "execution_count": null,
   "id": "c294f506-7ec6-42cb-88a3-07cf9ae2c71b",
   "metadata": {},
   "outputs": [],
   "source": [
    "import sys\n",
    "from pathlib import Path\n",
    "sys.path.append(str(Path().resolve().parent))"
   ]
  },
  {
   "cell_type": "code",
   "execution_count": null,
   "id": "b5d9fc89-7313-4a85-8519-e9d590e69243",
   "metadata": {},
   "outputs": [],
   "source": [
    "# Horizontal Scrolling\n",
    "import io\n",
    "import base64\n",
    "from IPython.display import HTML, display"
   ]
  },
  {
   "cell_type": "code",
   "execution_count": null,
   "id": "b609dd18-6839-426a-bc21-f94adbdf60ce",
   "metadata": {},
   "outputs": [],
   "source": [
    "import matplotlib.pyplot as plt\n",
    "import matplotlib.transforms as mt\n",
    "import matplotlib.patches as mpatches\n",
    "import numpy as np\n",
    "import pandas as pd\n",
    "import seaborn as sns\n",
    "from pandas import DataFrame, Series, Timedelta\n",
    "from scipy.ndimage import binary_dilation\n",
    "from sklearn.metrics import mean_absolute_error as MAE"
   ]
  },
  {
   "cell_type": "code",
   "execution_count": null,
   "id": "cb66e024-d3af-43ad-8a53-aa261e6c108c",
   "metadata": {},
   "outputs": [],
   "source": [
    "from catboost import CatBoostRegressor\n",
    "from lightgbm import LGBMRegressor\n",
    "from xgboost import XGBRegressor"
   ]
  },
  {
   "cell_type": "code",
   "execution_count": null,
   "id": "1cfa8367-1fd6-49f1-87e7-a0abaf056807",
   "metadata": {},
   "outputs": [],
   "source": [
    "from utils.loading import load_all_raw_data\n",
    "from utils.preprocessing import process_all_dfs\n",
    "from utils.merging import merge_all_dfs\n",
    "from utils.feature_engineering import *"
   ]
  },
  {
   "cell_type": "code",
   "execution_count": null,
   "id": "c517a23d-20f1-4d78-9500-cdad996b9962",
   "metadata": {},
   "outputs": [],
   "source": [
    "pd.set_option(\n",
    "    \"display.float_format\",\n",
    "    lambda x: f\"{x:.2e}\" if abs(x) < 0.01 and x != 0 else f\"{x:.2f}\",\n",
    ")\n",
    "pd.set_option('display.max_columns', 100)\n",
    "pd.set_option(\"display.max_rows\", 100)"
   ]
  },
  {
   "cell_type": "code",
   "execution_count": null,
   "id": "fecf64f8-3024-49c1-8003-2bf3bdf7a1ce",
   "metadata": {},
   "outputs": [],
   "source": [
    "SEGMENT_C = [\"county\", \"product_type\", \"is_business\"]\n",
    "CATEGORICAL_C = [\"county\", \"product_type\", \"is_business\", \"is_consumption\"]\n",
    "TARGET_C = [\n",
    "    \"county\",\n",
    "    \"product_type\",\n",
    "    \"is_business\",\n",
    "    \"is_consumption\",\n",
    "    \"datetime\",\n",
    "]\n",
    "RAND = 10"
   ]
  },
  {
   "cell_type": "code",
   "execution_count": null,
   "id": "d693455f-cee5-4942-8852-07d57c94bfbe",
   "metadata": {},
   "outputs": [],
   "source": [
    "RAW_DATA_PATH = \"../raw_data/\"\n",
    "ADDITIONAL_DATA_PATH = \"../additional_data/\""
   ]
  },
  {
   "cell_type": "markdown",
   "id": "8c38031e-6fd2-4ad1-8c50-dbd1858776f6",
   "metadata": {},
   "source": [
    "# 2. Processing"
   ]
  },
  {
   "cell_type": "code",
   "execution_count": null,
   "id": "e744670d-0bd3-44cb-a39a-f71406dfcc21",
   "metadata": {},
   "outputs": [],
   "source": [
    "processed_dfs = process_all_dfs(\n",
    "    load_all_raw_data(RAW_DATA_PATH, ADDITIONAL_DATA_PATH)\n",
    ")"
   ]
  },
  {
   "cell_type": "code",
   "execution_count": null,
   "id": "05d97801-1f74-4776-b2e7-ce9234d10c11",
   "metadata": {},
   "outputs": [
    {
     "data": {
      "text/plain": [
       "dict_keys(['train', 'gas_prices', 'client', 'electricity_prices', 'forecast_weather', 'historical_weather', 'station_county_mapping', 'county_id_to_name_map', 'holidays'])"
      ]
     },
     "execution_count": null,
     "metadata": {},
     "output_type": "execute_result"
    }
   ],
   "source": [
    "processed_dfs.keys()"
   ]
  },
  {
   "cell_type": "code",
   "execution_count": null,
   "id": "718f9a1a-1d63-45d7-9f51-e7029aad6ccb",
   "metadata": {},
   "outputs": [],
   "source": [
    "df = merge_all_dfs(processed_dfs, how=\"left\")"
   ]
  },
  {
   "cell_type": "code",
   "execution_count": null,
   "id": "5b88997f-e282-4183-8432-b26b2bdfe988",
   "metadata": {},
   "outputs": [],
   "source": [
    "df = add_dst_flag(df)"
   ]
  },
  {
   "cell_type": "code",
   "execution_count": null,
   "id": "3b94a016-f449-4b8e-8e09-9c3abbe5fd9f",
   "metadata": {},
   "outputs": [],
   "source": [
    "df = add_cyclic_datetime_features(df, drop_raw=True)"
   ]
  },
  {
   "cell_type": "code",
   "execution_count": null,
   "id": "11122383-2f03-4716-a628-104dd4f8469d",
   "metadata": {},
   "outputs": [],
   "source": [
    "for lag in [2, 3, 7]:\n",
    "# for lag in range(2, 15):\n",
    "    df = df.merge(\n",
    "        get_lag(processed_dfs[\"train\"][TARGET_C + [\"target\"]], lag=lag),\n",
    "        on=TARGET_C,\n",
    "    )"
   ]
  },
  {
   "cell_type": "code",
   "execution_count": null,
   "id": "4ac5bae2-9407-4fb6-a9fa-1414023b3e73",
   "metadata": {},
   "outputs": [],
   "source": [
    "for window in [24, 24 * 3, 24 * 7, 24 * 14]:\n",
    "# for window in [24 * i for i in range(1, 15)]:\n",
    "    df = df.merge(\n",
    "        get_moving_average(\n",
    "            processed_dfs[\"train\"]\n",
    "            .set_index(\"datetime\")\n",
    "            .sort_index()\n",
    "            .groupby(CATEGORICAL_C, observed=True, as_index=False),\n",
    "            window=window,\n",
    "        ).dropna(),\n",
    "        on=TARGET_C,\n",
    "    )"
   ]
  },
  {
   "cell_type": "code",
   "execution_count": null,
   "id": "03cc127e-7d7f-4455-a3de-eb55ffdb8b61",
   "metadata": {},
   "outputs": [],
   "source": [
    "df[\"t_over_cap\"] = (df[\"2d_lag_target\"] / df[\"installed_capacity\"]).astype(\n",
    "    \"float32\"\n",
    ")\n",
    "df[\"t_over_eic\"] = (df[\"2d_lag_target\"] / df[\"eic_count\"]).astype(\"float32\")\n",
    "df[\"cap_per_eic\"] = (df[\"installed_capacity\"] / df[\"eic_count\"]).astype(\n",
    "    \"float32\"\n",
    ")"
   ]
  },
  {
   "cell_type": "code",
   "execution_count": null,
   "id": "09f19fac-bbc0-49cc-b0b9-cfcc89e02abd",
   "metadata": {},
   "outputs": [],
   "source": [
    "# w, h = 20, 14\n",
    "\n",
    "# fig, ax = plt.subplots(figsize=(w, h))\n",
    "# # plt.figure(figsize=(w, h))\n",
    "\n",
    "# sns.heatmap(\n",
    "#     df.drop(\n",
    "#         columns=df.select_dtypes([\"category\"]).columns.tolist()\n",
    "#         + [\n",
    "#             \"datetime\",\n",
    "#             \"data_block_id\",\n",
    "#             \"date\",\n",
    "#         ]\n",
    "#     ).corr(),\n",
    "#     annot=True,\n",
    "#     fmt=\".1f\",\n",
    "#     annot_kws={\"size\": 7},\n",
    "# )\n",
    "\n",
    "\n",
    "# buf = io.BytesIO()\n",
    "# fig.savefig(buf, format=\"png\", bbox_inches=\"tight\")\n",
    "# buf.seek(0)\n",
    "# img_base64 = base64.b64encode(buf.getvalue()).decode(\"utf-8\")\n",
    "\n",
    "# html_code = (\n",
    "#     '<div style=\"overflow-x: auto; width: 100%;\">'\n",
    "#     '<img src=\"data:image/png;base64,{}\" style=\"display: block; max-width: none; width: auto;\">'\n",
    "#     \"</div>\"\n",
    "# ).format(img_base64)\n",
    "\n",
    "# display(HTML(html_code))\n",
    "# plt.close(fig)\n",
    "# # plt.show()"
   ]
  },
  {
   "cell_type": "code",
   "execution_count": null,
   "id": "05d86b9f-3922-4018-9a64-e7b06cb56c63",
   "metadata": {},
   "outputs": [
    {
     "data": {
      "image/png": "[encoded data removed]",
      "text/plain": [
       "<Figure size 1400x700 with 1 Axes>"
      ]
     },
     "metadata": {},
     "output_type": "display_data"
    }
   ],
   "source": [
    "df_for_missing = df[TARGET_C + [\"target\"]].dropna().copy()\n",
    "\n",
    "# Add hour index starting from the beginning\n",
    "df_for_missing[\"hour_index\"] = (\n",
    "    (df_for_missing[\"datetime\"] - df_for_missing[\"datetime\"].min())\n",
    "    // pd.Timedelta(hours=1)\n",
    ").astype(np.uint16)\n",
    "\n",
    "\n",
    "# Add a group index corresponding to the unique combination of all\n",
    "# categorical features (i.e. this feature is not equal to\n",
    "# prediction_unit_id): county, is_business, product_type,\n",
    "# is_consumption.\n",
    "# The maximum number of combinations is 16 * 4 * 2 * 2 = 256, but the\n",
    "# actual number of observed values is less than 256\n",
    "df_for_missing[\"group_index\"] = (\n",
    "    df_for_missing.groupby(\n",
    "        CATEGORICAL_C,\n",
    "        observed=True,\n",
    "    )\n",
    "    .ngroup()\n",
    "    .astype(np.uint8)\n",
    ")\n",
    "\n",
    "# Create a 2D array with a shape equal to the number of groups and the\n",
    "# total number of hours between the minimum and maximum timestamps\n",
    "n_groups = df_for_missing[\"group_index\"].nunique()\n",
    "n_hours = df_for_missing[\"hour_index\"].max() + 1\n",
    "missmap = np.full((n_groups, n_hours), np.nan)\n",
    "\n",
    "# Fill the array with the corresponding flag values\n",
    "missmap[df_for_missing[\"group_index\"], df_for_missing[\"hour_index\"]] = (\n",
    "    df_for_missing[\"target\"] != 0\n",
    ")\n",
    "\n",
    "# Dilate missing values because of high density of plot and isolated\n",
    "# missing values are not visible.\n",
    "n = 6  # How many hours before and after count as missing\n",
    "structure = np.ones((1, 2 * n + 1), dtype=bool)\n",
    "missing_dilated = binary_dilation(np.isnan(missmap), structure=structure)\n",
    "missmap[missing_dilated] = np.nan\n",
    "\n",
    "alpha = 0.8\n",
    "\n",
    "min_date = df_for_missing[\"datetime\"].min()\n",
    "max_date = df_for_missing[\"datetime\"].max()\n",
    "n_months = len(pd.date_range(start=min_date, end=max_date, freq=\"ME\"))\n",
    "\n",
    "\n",
    "fig, ax = plt.subplots(figsize=(14, 7))\n",
    "sns.heatmap(\n",
    "    missmap,\n",
    "    cmap=sns.color_palette([\"tab:blue\", \"tab:orange\"]),\n",
    "    cbar=False,\n",
    "    alpha=alpha,\n",
    "    ax=ax,\n",
    ")\n",
    "\n",
    "xtick_indices = np.linspace(0, n_hours, num=n_months, dtype=int)\n",
    "xtick_labels = pd.date_range(min_date, max_date, freq=\"ME\")\n",
    "\n",
    "\n",
    "ax.set_xticks(xtick_indices)\n",
    "ax.set_xticklabels(xtick_labels.strftime(\"%Y-%m\"), rotation=45, ha=\"right\")\n",
    "\n",
    "dx, dy = 0, -2.5\n",
    "for label in ax.get_yticklabels():\n",
    "    offset = mt.ScaledTranslation(dx / 72, dy / 72, fig.dpi_scale_trans)\n",
    "    label.set_transform(label.get_transform() + offset)\n",
    "\n",
    "legend_patches = [\n",
    "    mpatches.Patch(\n",
    "        facecolor=\"white\",\n",
    "        label=\"Missing value\",\n",
    "        edgecolor=\"black\",\n",
    "        linewidth=0.5,\n",
    "    ),\n",
    "    mpatches.Patch(\n",
    "        facecolor=\"tab:blue\",\n",
    "        alpha=alpha,\n",
    "        label=\"Zero value\",\n",
    "        edgecolor=\"black\",\n",
    "        linewidth=0.5,\n",
    "    ),\n",
    "    mpatches.Patch(\n",
    "        facecolor=\"tab:orange\",\n",
    "        alpha=alpha,\n",
    "        label=\"Not zero value\",\n",
    "        edgecolor=\"black\",\n",
    "        linewidth=0.5,\n",
    "    ),\n",
    "]\n",
    "\n",
    "plt.legend(\n",
    "    handles=legend_patches,\n",
    "    title=\"Data Presence\",\n",
    "    title_fontsize=12,\n",
    "    bbox_to_anchor=(1, 1),\n",
    "    loc=\"upper left\",\n",
    "    fontsize=11,\n",
    "    frameon=False,\n",
    ")\n",
    "\n",
    "plt.title(\n",
    "    \"Heatmap of time series gaps for all combinations \"\n",
    "    \"of categorical features\",\n",
    "    fontsize=13,\n",
    ")\n",
    "plt.xlabel(\"Month\", fontsize=10)\n",
    "plt.ylabel(\"Group index\", fontsize=10)\n",
    "plt.grid(False)\n",
    "plt.show()"
   ]
  },
  {
   "cell_type": "markdown",
   "id": "d4f041bf-4858-46a3-9889-a1fb7b7cf085",
   "metadata": {},
   "source": [
    "# 3. Simple Baseline"
   ]
  },
  {
   "cell_type": "markdown",
   "id": "37cac443-ed70-4db4-8d2a-2dcc1d255b35",
   "metadata": {},
   "source": [
    "## xgb with splits"
   ]
  },
  {
   "cell_type": "code",
   "execution_count": null,
   "id": "846595d0-3622-49ad-b87d-28a428d90760",
   "metadata": {},
   "outputs": [],
   "source": [
    "def split_by_equal_days(\n",
    "    dt: Series,\n",
    "    train_days: int = 1,\n",
    "    fh_days: int = 1, # Only daily predictions as per problem statement\n",
    "    val_splits: int = 1,\n",
    "    expanding: bool = True,\n",
    ") -> list[dict[str, tuple[pd.Timestamp, pd.Timestamp]]]:\n",
    "    dt = dt.dt.floor(\"D\") # Processing on a day scope\n",
    "\n",
    "    train_days = Timedelta(days=train_days)\n",
    "    train_days_delta = train_days - Timedelta(days=1)  # Indexing from 0\n",
    "\n",
    "\n",
    "    fh_days = Timedelta(days=fh_days)\n",
    "    fh_days_delta = fh_days - Timedelta(days=1)  # Indexing from 0\n",
    "\n",
    "    first_day = dt.min()\n",
    "    last_day = dt.max()\n",
    "\n",
    "    # test_start = last_day - fh_days_delta\n",
    "    # test_end = last_day + pd.Timedelta(hours=23)\n",
    "\n",
    "    splits = []\n",
    "\n",
    "    intermediate_period_start = first_day + train_days\n",
    "    intermediate_period_end = last_day - fh_days\n",
    "    intermediate_period_days = (intermediate_period_end - intermediate_period_start).days\n",
    "    base_step = Timedelta(days=intermediate_period_days // val_splits)\n",
    "    step_rem = Timedelta(days=intermediate_period_days % val_splits)\n",
    "    \n",
    "    for step in range(val_splits):\n",
    "        offset = base_step * step + min(Timedelta(days=step), step_rem)\n",
    "        if expanding:\n",
    "            train_start = first_day\n",
    "            train_end = train_start + train_days_delta + offset + pd.Timedelta(hours=23)\n",
    "        else:\n",
    "            train_start = first_day + offset\n",
    "            train_end = train_start + train_days_delta + pd.Timedelta(hours=23)\n",
    "\n",
    "        val_start = train_end + pd.Timedelta(hours=1)\n",
    "        val_end = val_start + fh_days_delta + pd.Timedelta(hours=23)\n",
    "        splits.append(\n",
    "            {\n",
    "                \"train\": (train_start, train_end),\n",
    "                \"val\": (val_start, val_end),\n",
    "                # \"test\": (test_start, test_end),\n",
    "            }\n",
    "        )\n",
    "\n",
    "    return splits"
   ]
  },
  {
   "cell_type": "code",
   "execution_count": null,
   "id": "475ed027-3ff0-41c3-b977-e4db60bebfad",
   "metadata": {},
   "outputs": [],
   "source": [
    "print(\n",
    "    f\"First timestamp: {df[\"datetime\"].min()}\",\n",
    "    f\"Last timestamp: {df[\"datetime\"].max()}\",\n",
    "    sep=\"\\n\"\n",
    ")"
   ]
  },
  {
   "cell_type": "markdown",
   "id": "169e7c10-53c4-46a7-81e6-3ca00042b929",
   "metadata": {},
   "source": [
    "Since the minimum usable lag for prediction is 48 hours, this horizon is particularly well suited as a naive baseline."
   ]
  },
  {
   "cell_type": "code",
   "execution_count": null,
   "id": "47113607-a276-453d-8fa8-426e8863e1f6",
   "metadata": {},
   "outputs": [],
   "source": [
    "FEATURES_TO_DROP = [\"datetime\", \"data_block_id\", \"date\"]"
   ]
  },
  {
   "cell_type": "code",
   "execution_count": null,
   "id": "6a445ac2-9b4a-41ac-ae6a-e8eafae2a8d8",
   "metadata": {},
   "outputs": [],
   "source": [
    "val_splits = 10"
   ]
  },
  {
   "cell_type": "code",
   "execution_count": null,
   "id": "77a5f67b-7aed-4dc3-b34b-29db0c3c7b1a",
   "metadata": {},
   "outputs": [],
   "source": [
    "test_start = df[\"datetime\"].max().normalize()\n",
    "df_test = df.loc[df[\"datetime\"] >= test_start].drop(FEATURES_TO_DROP, axis=1)"
   ]
  },
  {
   "cell_type": "code",
   "execution_count": null,
   "id": "1645af8f-001a-4556-b7d3-b00df5fb39ae",
   "metadata": {},
   "outputs": [],
   "source": [
    "splits_expanding = split_by_equal_days(\n",
    "    dt=df[\"datetime\"],\n",
    "    train_days=365,\n",
    "    fh_days=30,\n",
    "    val_splits=val_splits,\n",
    "    expanding=True,\n",
    ")\n",
    "splits_fixed = split_by_equal_days(\n",
    "    dt=df[\"datetime\"],\n",
    "    train_days=365,\n",
    "    fh_days=2,\n",
    "    val_splits=val_splits,\n",
    "    expanding=False,\n",
    ")"
   ]
  },
  {
   "cell_type": "code",
   "execution_count": null,
   "id": "411f5e9a-0837-41e4-97c2-1f79e42ea490",
   "metadata": {},
   "outputs": [],
   "source": [
    "val_mae_2dlag = []\n",
    "\n",
    "for split in range(val_splits):\n",
    "    val_df = df.loc[\n",
    "        (df[\"datetime\"] >= splits_expanding[split][\"val\"][0])\n",
    "        & (df[\"datetime\"] <= splits_expanding[split][\"val\"][1]),\n",
    "        [\"target\", \"2d_lag_target\"],\n",
    "    ]\n",
    "    val_mae_2dlag.append(MAE(val_df[\"target\"], val_df[\"2d_lag_target\"]))\n",
    "else:\n",
    "    test_df = df.loc[df[\"datetime\"] >= test_start]\n",
    "    val_mae_2dlag.append(MAE(test_df[\"target\"], test_df[\"2d_lag_target\"]))\n",
    "\n",
    "print(\"Validation MAE:\", np.round(val_mae_2dlag, 3))\n",
    "print(\"Validation mean MAE:\", np.round(np.mean(val_mae_2dlag), 3))"
   ]
  },
  {
   "cell_type": "code",
   "execution_count": null,
   "id": "12aefefb-2912-4136-bff4-a567e5e2cb7f",
   "metadata": {},
   "outputs": [],
   "source": [
    "# df[\"datetime\"].is_monotonic_increasing\n",
    "# df = df.sort_values('datetime', ignore_index=True)"
   ]
  },
  {
   "cell_type": "code",
   "execution_count": null,
   "id": "06747c39-53ff-40e3-a5b6-ea9538a00517",
   "metadata": {},
   "outputs": [],
   "source": [
    "splits_fixed = split_by_equal_days(\n",
    "    dt=df[\"datetime\"],\n",
    "    train_days=365,\n",
    "    fh_days=3,\n",
    "    val_splits=5,\n",
    "    expanding=False,\n",
    ")"
   ]
  },
  {
   "cell_type": "code",
   "execution_count": null,
   "id": "f6fdc080-eadf-40fe-82c4-39911bd16071",
   "metadata": {},
   "outputs": [],
   "source": [
    "xgbr_p = {\n",
    "    \"n_estimators\": 1000,\n",
    "    \"max_depth\": 5,\n",
    "    \"early_stopping_rounds\": 100,\n",
    "    \"eval_metric\": \"mae\",\n",
    "    \"learning_rate\": 0.1,\n",
    "    \"random_state\": RAND,\n",
    "    \"verbosity\": 1,\n",
    "    \"enable_categorical\": True,\n",
    "}\n",
    "\n",
    "MAE_xgbr = []\n",
    "\n",
    "# for split in splits_expanding:\n",
    "for i, split in enumerate(splits_fixed):\n",
    "    df_train = df[\n",
    "        (df[\"datetime\"] >= split[\"train\"][0])\n",
    "        & (df[\"datetime\"] <= split[\"train\"][1])\n",
    "    ].drop(FEATURES_TO_DROP, axis=1)\n",
    "    df_val = df[\n",
    "        (df[\"datetime\"] >= split[\"val\"][0])\n",
    "        & (df[\"datetime\"] <= split[\"val\"][1])\n",
    "    ].drop(FEATURES_TO_DROP, axis=1)\n",
    "\n",
    "    X_train, y_train = df_train.drop([\"target\"], axis=1), df_train[\"target\"]\n",
    "    X_val, y_val = df_val.drop([\"target\"], axis=1), df_val[\"target\"]\n",
    "    X_test, y_test = df_test.drop([\"target\"], axis=1), df_test[\"target\"]\n",
    "\n",
    "    eval_set = [(X_train, y_train), (X_val, y_val), (X_test, y_test)]\n",
    "\n",
    "    print(f\"{i+1} split\")\n",
    "    print(\"-\" * 20)\n",
    "    print(\"train\")\n",
    "    print(\"start:\", split[\"train\"][0])\n",
    "    print(\"end:\", split[\"train\"][1])\n",
    "    print(\"shape:\", X_train.shape, y_train.shape)\n",
    "    print(\"-\" * 20)\n",
    "    print(\"val\")\n",
    "    print(\"start:\", split[\"val\"][0])\n",
    "    print(\"end:\", split[\"val\"][1])\n",
    "    print(\"shape:\", X_val.shape, y_val.shape)\n",
    "\n",
    "    xgbr = XGBRegressor(**xgbr_p)\n",
    "    xgbr.fit(X_train, y_train, eval_set=eval_set)\n",
    "    y_pred = xgbr.predict(X_test)\n",
    "    MAE_xgbr.append(\n",
    "        {\n",
    "            \"train_mae\": xgbr.evals_result()[\"validation_0\"][\"mae\"],\n",
    "            \"val_mae\": xgbr.evals_result()[\"validation_1\"][\"mae\"],\n",
    "            \"test_mae\": xgbr.evals_result()[\"validation_2\"][\"mae\"],\n",
    "        },\n",
    "    )"
   ]
  },
  {
   "cell_type": "code",
   "execution_count": null,
   "id": "5277cbd5-62b6-46b4-b759-bce3601825bc",
   "metadata": {},
   "outputs": [],
   "source": [
    "# MAE_xgbr"
   ]
  },
  {
   "cell_type": "code",
   "execution_count": null,
   "id": "6ab71762-0c09-436c-9de7-2703bc674ed0",
   "metadata": {},
   "outputs": [],
   "source": [
    "plt.figure(figsize=(15, 12))\n",
    "\n",
    "for i, d in enumerate(MAE_xgbr):\n",
    "    plt.plot(d[\"train_mae\"], label=f\"{i+1} split train\")\n",
    "    plt.plot(d[\"val_mae\"], label=f\"{i+1} split val\")\n",
    "    plt.plot(d[\"test_mae\"], label=f\"{i+1} split test\")\n",
    "\n",
    "plt.xlabel(\"Number of estimators\")\n",
    "plt.ylabel(\"MAE\")\n",
    "\n",
    "plt.legend()\n",
    "# plt.yscale(\"log\")\n",
    "plt.grid(which='both')\n",
    "plt.show()"
   ]
  },
  {
   "cell_type": "code",
   "execution_count": null,
   "id": "94b1de78-462f-4cde-8452-2da436f7287d",
   "metadata": {},
   "outputs": [],
   "source": [
    "qwe"
   ]
  },
  {
   "cell_type": "code",
   "execution_count": null,
   "id": "0493cb23-88e0-4d3c-8934-7e46ebe0296d",
   "metadata": {},
   "outputs": [],
   "source": [
    "df.shape[0]*.8"
   ]
  },
  {
   "cell_type": "code",
   "execution_count": null,
   "id": "e50e9fbb-8a22-4749-bdd7-db0d0de85565",
   "metadata": {},
   "outputs": [],
   "source": [
    "MAE_xgbr[0][2]"
   ]
  },
  {
   "cell_type": "code",
   "execution_count": null,
   "id": "dd4c1011-c813-4299-86bc-19dfa844d49a",
   "metadata": {},
   "outputs": [],
   "source": [
    "df_train = df[df[\"datetime\"] < train_ts].drop(FEATURES_TO_DROP, axis=1)\n",
    "df_val = df[\n",
    "    (df[\"datetime\"] >= train_ts) & (df[\"datetime\"] < val_ts)\n",
    "].drop(FEATURES_TO_DROP, axis=1)\n",
    "df_test = df[\n",
    "    (df[\"datetime\"] >= val_ts) & (df[\"datetime\"] < test_ts)\n",
    "].drop(FEATURES_TO_DROP, axis=1)\n",
    "\n",
    "X_train, y_train = df_train.drop([\"target\"], axis=1), df_train[\"target\"]\n",
    "X_val, y_val = df_val.drop([\"target\"], axis=1), df_val[\"target\"]\n",
    "X_test, y_test = df_test.drop([\"target\"], axis=1), df_test[\"target\"]\n",
    "\n",
    "eval_set = [(X_train, y_train), (X_val, y_val)]"
   ]
  },
  {
   "cell_type": "code",
   "execution_count": null,
   "id": "b65c97d6-05f2-4043-a32a-a5567e866d86",
   "metadata": {},
   "outputs": [],
   "source": [
    "# example_df = df.loc[df[\"datetime\"] < test_timestamp]"
   ]
  },
  {
   "cell_type": "code",
   "execution_count": null,
   "id": "32ee8d5b-89ac-460b-b6d2-92a6b16bc26f",
   "metadata": {},
   "outputs": [],
   "source": [
    "from lightgbm import LGBMRegressor, early_stopping, log_evaluation\n",
    "\n",
    "params = {\n",
    "    \"boosting_type\": \"dart\",\n",
    "    \"n_estimators\": 1000,\n",
    "    \"max_depth\": 5,\n",
    "    # \"early_stopping_rounds\": 100,\n",
    "    \"metric\": \"mae\",\n",
    "    \"learning_rate\": 0.1,\n",
    "    \"random_state\": RAND,\n",
    "    \"verbose\": 1\n",
    "}"
   ]
  },
  {
   "cell_type": "code",
   "execution_count": null,
   "id": "cd9141b3-7cd2-4838-a2f6-4eedbda5188a",
   "metadata": {},
   "outputs": [],
   "source": [
    "lgbmr = LGBMRegressor( **params)"
   ]
  },
  {
   "cell_type": "code",
   "execution_count": null,
   "id": "cdf8c6ab-c879-4ebf-8326-ada5acd24413",
   "metadata": {},
   "outputs": [],
   "source": [
    "lgbmr.fit(\n",
    "    X_train,\n",
    "    y_train,\n",
    "    eval_set=eval_set,\n",
    "    callbacks=[\n",
    "        early_stopping(stopping_rounds=100, verbose=True),\n",
    "        log_evaluation(period=20),\n",
    "    ],\n",
    ")"
   ]
  },
  {
   "cell_type": "code",
   "execution_count": null,
   "id": "75e3ba83-1dab-4911-965c-866373e1a4f9",
   "metadata": {},
   "outputs": [],
   "source": [
    "results = lgbmr.evals_result_\n",
    "\n",
    "plt.plot(results[\"training\"][\"l1\"], label=\"Training loss\")\n",
    "plt.plot(results[\"valid_1\"][\"l1\"], label=\"Validation loss\")\n",
    "\n",
    "plt.xlabel(\"Number of estimators\")\n",
    "plt.ylabel(\"Loss\")\n",
    "\n",
    "plt.legend()\n",
    "# plt.yscale(\"log\")\n",
    "plt.grid(which='both')\n",
    "\n",
    "plt.show()"
   ]
  },
  {
   "cell_type": "code",
   "execution_count": null,
   "id": "89667a7b-6304-49ab-b0c7-00d3273c7ac3",
   "metadata": {},
   "outputs": [],
   "source": [
    "xgbr = XGBRegressor(**params, enable_categorical=True)\n",
    "lgbmr = LGBMRegressor(**params)\n",
    "cbr = CatBoostRegressor(**params)\n",
    "\n",
    "MAE_xgbr = []\n",
    "MAE_lgbmr = []\n",
    "MAE_cbr = []"
   ]
  },
  {
   "cell_type": "code",
   "execution_count": null,
   "id": "9b889b68-3f38-47e4-890b-06b93616e6a0",
   "metadata": {},
   "outputs": [],
   "source": [
    "df_test = df[\n",
    "    (df[\"datetime\"] >= splits_expanding[0][\"test\"][0])\n",
    "    & (df[\"datetime\"] <= splits_expanding[0][\"test\"][1])\n",
    "].drop(FEATURES_TO_DROP, axis=1)"
   ]
  },
  {
   "cell_type": "code",
   "execution_count": null,
   "id": "8f9ba6a9-c475-4e39-bd9e-77d299adde9c",
   "metadata": {},
   "outputs": [],
   "source": [
    "for split in splits_expanding:\n",
    "    df_train = df[\n",
    "        (df[\"datetime\"] >= split[\"train\"][0])\n",
    "        & (df[\"datetime\"] <= split[\"train\"][1])\n",
    "    ].drop(FEATURES_TO_DROP, axis=1)\n",
    "    df_val = df[\n",
    "        (df[\"datetime\"] >= split[\"val\"][0])\n",
    "        & (df[\"datetime\"] <= split[\"val\"][1])\n",
    "    ].drop(FEATURES_TO_DROP, axis=1)\n",
    "\n",
    "    X_train, y_train = df_train.drop([\"target\"], axis=1), df_train[\"target\"]\n",
    "    X_val, y_val = df_val.drop([\"target\"], axis=1), df_val[\"target\"]\n",
    "    X_test, y_test = df_test.drop([\"target\"], axis=1), df_test[\"target\"]\n",
    "    eval_set = [(X_train, y_train), (X_val, y_val)]\n",
    "\n",
    "    xgbr.fit(X_train, y_train, eval_set=eval_set, verbose=True)\n",
    "    y_pred = xgbr.predict(X_test)\n",
    "    MAE_xgbr.append(\n",
    "        ({\n",
    "            \"val_mae\": xgbr.evals_result()[\"validation_0\"][\"mae\"],\n",
    "            \"test_mae\": np.mean(MAE(y_test, y_pred), 3),}\n",
    "        )\n",
    "    )\n",
    "-------------\n",
    "    lgbmr.fit(X_train, y_train, eval_set=eval_set, verbose=True)\n",
    "    y_pred = lgbmr.predict(X_test)\n",
    "    MAE_lgbmr.append(\n",
    "        (\n",
    "            {\"val_mae\": lgbmr.evals_result_[\"valid_1\"][\"mae\"],\n",
    "            np.mean(MAE(y_test, y_pred), 3),\n",
    "        )\n",
    "    )\n",
    "\n",
    "    cbr.fit(X_train, y_train, eval_set=eval_set, verbose=True)\n",
    "    y_pred = cbr.predict(X_test)\n",
    "    MAE_cbr.append(\n",
    "        (\n",
    "            cbr.evals_result()[\"validation_0\"][\"mae\"],\n",
    "            np.mean(MAE(y_test, y_pred), 3),\n",
    "        )\n",
    "    )"
   ]
  },
  {
   "cell_type": "code",
   "execution_count": null,
   "id": "da118f6b-616b-41b6-a511-cfb84ec87457",
   "metadata": {},
   "outputs": [],
   "source": [
    "xgbr.fit(\n",
    "    X_train,\n",
    "    y_train,\n",
    "    eval_set=eval_set,\n",
    "    verbose=True\n",
    ")"
   ]
  },
  {
   "cell_type": "code",
   "execution_count": null,
   "id": "b05d3745-266f-4770-a4ea-86196da2273e",
   "metadata": {},
   "outputs": [],
   "source": [
    "y_pred = xgbr.predict(X_test)"
   ]
  },
  {
   "cell_type": "code",
   "execution_count": null,
   "id": "53cc68b0-2523-42ba-9542-807b3583f31f",
   "metadata": {},
   "outputs": [],
   "source": [
    "mean_absolute_error(y_test, y_pred)"
   ]
  },
  {
   "cell_type": "code",
   "execution_count": null,
   "id": "b1790cf8-0cea-4d3b-b4c8-ac425c297f98",
   "metadata": {},
   "outputs": [],
   "source": [
    "results = xgbr.evals_result()\n",
    "\n",
    "plt.plot(results[\"validation_0\"][\"mae\"], label=\"Training loss\")\n",
    "plt.plot(results[\"validation_1\"][\"mae\"], label=\"Validation loss\")\n",
    "\n",
    "plt.xlabel(\"Number of estimators\")\n",
    "plt.ylabel(\"Loss\")\n",
    "\n",
    "plt.legend()\n",
    "# plt.yscale(\"log\")\n",
    "plt.grid(which='both')\n",
    "\n",
    "plt.show()"
   ]
  },
  {
   "cell_type": "code",
   "execution_count": null,
   "id": "85b5a81b-7cb9-4125-abc5-f30de3502444",
   "metadata": {},
   "outputs": [],
   "source": [
    "# df_train = df[df[\"datetime\"] < train_ts].drop(FEATURES_TO_DROP, axis=1)\n",
    "# df_val = df[\n",
    "#     (df[\"datetime\"] >= train_ts) & (df[\"datetime\"] < val_ts)\n",
    "# ].drop(FEATURES_TO_DROP, axis=1)\n",
    "# df_test = df[\n",
    "#     (df[\"datetime\"] >= val_ts) & (df[\"datetime\"] < test_ts)\n",
    "# ].drop(FEATURES_TO_DROP, axis=1)\n",
    "\n",
    "# X_train, y_train = df_train.drop([\"target\"], axis=1), df_train[\"target\"]\n",
    "# X_val, y_val = df_val.drop([\"target\"], axis=1), df_val[\"target\"]\n",
    "# X_test, y_test = df_test.drop([\"target\"], axis=1), df_test[\"target\"]"
   ]
  },
  {
   "cell_type": "code",
   "execution_count": null,
   "id": "17455a67-fd40-4278-a1c5-5cf5ea7bcf30",
   "metadata": {},
   "outputs": [],
   "source": [
    "# eval_set = [(X_train, y_train), (X_val, y_val)]"
   ]
  },
  {
   "cell_type": "code",
   "execution_count": null,
   "id": "e20064da-6d29-43ff-baab-fbdbac96770c",
   "metadata": {},
   "outputs": [],
   "source": [
    "residuals = y_test - y_pred\n",
    "\n",
    "plt.scatter(y_pred, residuals, alpha=0.5)\n",
    "plt.axhline(0, color=\"red\", linestyle=\"--\")\n",
    "plt.xlabel(\"Predicted\")\n",
    "plt.ylabel(\"Residuals\")\n",
    "plt.title(\"Residuals vs Predicted\")\n",
    "plt.show()"
   ]
  },
  {
   "cell_type": "code",
   "execution_count": null,
   "id": "dfa79087-4e06-48a8-bf03-2fbfdd1fcf1a",
   "metadata": {},
   "outputs": [],
   "source": [
    "fi = pd.Series(xgbr.feature_importances_, index=X_train.columns)\n",
    "fi = fi.sort_values(ascending=False).head(20)\n",
    "\n",
    "fi.plot.barh(figsize=(8,6))\n",
    "plt.xlabel(\"Feature Importance\")\n",
    "plt.gca().invert_yaxis()\n",
    "plt.title(\"Top 20 Important Features\")\n",
    "plt.show()"
   ]
  }
 ],
 "metadata": {},
 "nbformat": 4,
 "nbformat_minor": 5
}
