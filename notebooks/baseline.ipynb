{
 "cells": [
  {
   "cell_type": "markdown",
   "id": "af09e75c-0bf4-4c48-a601-01db2a2f3bd6",
   "metadata": {},
   "source": [
    "# 1. Setup"
   ]
  },
  {
   "cell_type": "code",
   "execution_count": null,
   "id": "665a87a1-37ef-47a8-bfb6-bf95175c2871",
   "metadata": {},
   "outputs": [],
   "source": [
    "# import json\n",
    "# from datetime import date, time\n",
    "\n",
    "# import colorcet as cc\n",
    "# import holidays\n",
    "# import matplotlib.patches as mpatches\n",
    "# import matplotlib.pyplot as plt\n",
    "# import matplotlib.transforms as mt\n",
    "import numpy as np\n",
    "import pandas as pd\n",
    "# import plotly.express as px\n",
    "# import plotly.graph_objects as go\n",
    "# import seaborn as sns\n",
    "# from IPython.display import Image\n",
    "# from matplotlib.dates import DateFormatter, MonthLocator\n",
    "# from matplotlib.lines import Line2D\n",
    "# from matplotlib.ticker import MultipleLocator\n",
    "# from pandas.core.groupby.generic import DataFrameGroupBy\n",
    "# from prophet import Prophet\n",
    "# from scipy.ndimage import binary_dilation\n",
    "# from shapely.geometry import shape\n",
    "# from statsmodels.tsa.seasonal import MSTL, seasonal_decompose"
   ]
  },
  {
   "cell_type": "code",
   "execution_count": null,
   "id": "3cf5341c-1aeb-4c7d-8f95-0b56827cb482",
   "metadata": {},
   "outputs": [],
   "source": [
    "RAND = 10\n",
    "RAW_DATA = \"../raw_data/\"\n",
    "ADDITIONAL_DATA = \"../additional_data/\""
   ]
  },
  {
   "cell_type": "code",
   "execution_count": null,
   "id": "1cfa8367-1fd6-49f1-87e7-a0abaf056807",
   "metadata": {},
   "outputs": [],
   "source": [
    "from utils.load import load_all_raw_data\n",
    "from utils.process import process_all_dfs\n",
    "from utils.merge import merge_all_dfs"
   ]
  },
  {
   "cell_type": "code",
   "execution_count": null,
   "id": "e388e019-021b-4072-a6d8-4d7481eef0ce",
   "metadata": {},
   "outputs": [
    {
     "ename": "TypeError",
     "evalue": "load_all_raw_data() takes 1 positional argument but 2 were given",
     "output_type": "error",
     "traceback": [
      "\u001b[31m---------------------------------------------------------------------------\u001b[39m",
      "\u001b[31mTypeError\u001b[39m                                 Traceback (most recent call last)",
      "\u001b[36mCell\u001b[39m\u001b[36m \u001b[39m\u001b[32mIn[79]\u001b[39m\u001b[32m, line 1\u001b[39m\n\u001b[32m----> \u001b[39m\u001b[32m1\u001b[39m df = merge_all_dfs(process_all_dfs(\u001b[43mload_all_raw_data\u001b[49m\u001b[43m(\u001b[49m\u001b[43mRAW_DATA\u001b[49m\u001b[43m,\u001b[49m\u001b[43m \u001b[49m\u001b[43mADDITIONAL_DATA\u001b[49m\u001b[43m)\u001b[49m))\n",
      "\u001b[31mTypeError\u001b[39m: load_all_raw_data() takes 1 positional argument but 2 were given"
     ]
    }
   ],
   "source": [
    "df = merge_all_dfs(process_all_dfs(load_all_raw_data(RAW_DATA, ADDITIONAL_DATA)))"
   ]
  },
  {
   "cell_type": "code",
   "execution_count": null,
   "id": "3af86962-f296-46e5-ac79-871e07be804b",
   "metadata": {},
   "outputs": [],
   "source": [
    "df"
   ]
  },
  {
   "cell_type": "code",
   "execution_count": null,
   "id": "475e4160-89d9-47a0-bdd7-9d12b27dd7ea",
   "metadata": {},
   "outputs": [
    {
     "data": {
      "text/plain": [
       "county                                        category\n",
       "product_type                                  category\n",
       "is_business                                   category\n",
       "is_consumption                                category\n",
       "datetime                                datetime64[ns]\n",
       "target                                         float32\n",
       "data_block_id                                   uint16\n",
       "eic_count                                       uint32\n",
       "installed_capacity                             float32\n",
       "lowest_price_per_mwh                           float32\n",
       "highest_price_per_mwh                          float32\n",
       "euros_per_mwh                                  float32\n",
       "f1_temperature                                 float32\n",
       "f1_dewpoint                                    float32\n",
       "f1_snowfall                                    float32\n",
       "f1_total_precipitation                         float32\n",
       "f1_cloudcover_low                                uint8\n",
       "f1_cloudcover_mid                                uint8\n",
       "f1_cloudcover_high                               uint8\n",
       "f1_cloudcover_total                              uint8\n",
       "f1_u_component                                 float32\n",
       "f1_v_component                                 float32\n",
       "f1_windspeed                                   float32\n",
       "f1_direct_solar_radiation                      float32\n",
       "f1_surface_solar_radiation_downwards           float32\n",
       "h2_temperature                                 float32\n",
       "h2_dewpoint                                    float32\n",
       "h2_rain                                        float32\n",
       "h2_snowfall                                    float32\n",
       "h2_surface_pressure                            float32\n",
       "h2_cloudcover_low                                uint8\n",
       "h2_cloudcover_mid                                uint8\n",
       "h2_cloudcover_high                               uint8\n",
       "h2_cloudcover_total                              uint8\n",
       "h2_windspeed                                   float32\n",
       "h2_u_component                                 float32\n",
       "h2_v_component                                 float32\n",
       "h2_shortwave_radiation                          uint16\n",
       "h2_direct_solar_radiation                       uint16\n",
       "h2_diffuse_radiation                            uint16\n",
       "dst                                               bool\n",
       "dtype: object"
      ]
     },
     "execution_count": null,
     "metadata": {},
     "output_type": "execute_result"
    }
   ],
   "source": [
    "df.dtypes"
   ]
  },
  {
   "cell_type": "code",
   "execution_count": null,
   "id": "f1da28b3-3428-4dba-9ec2-6c609df598cc",
   "metadata": {},
   "outputs": [
    {
     "data": {
      "text/plain": [
       "county                                  0\n",
       "product_type                            0\n",
       "is_business                             0\n",
       "is_consumption                          0\n",
       "datetime                                0\n",
       "target                                  0\n",
       "data_block_id                           0\n",
       "eic_count                               0\n",
       "installed_capacity                      0\n",
       "lowest_price_per_mwh                    0\n",
       "highest_price_per_mwh                   0\n",
       "euros_per_mwh                           0\n",
       "f1_temperature                          0\n",
       "f1_dewpoint                             0\n",
       "f1_snowfall                             0\n",
       "f1_total_precipitation                  0\n",
       "f1_cloudcover_low                       0\n",
       "f1_cloudcover_mid                       0\n",
       "f1_cloudcover_high                      0\n",
       "f1_cloudcover_total                     0\n",
       "f1_u_component                          0\n",
       "f1_v_component                          0\n",
       "f1_windspeed                            0\n",
       "f1_direct_solar_radiation               0\n",
       "f1_surface_solar_radiation_downwards    0\n",
       "h2_temperature                          0\n",
       "h2_dewpoint                             0\n",
       "h2_rain                                 0\n",
       "h2_snowfall                             0\n",
       "h2_surface_pressure                     0\n",
       "h2_cloudcover_low                       0\n",
       "h2_cloudcover_mid                       0\n",
       "h2_cloudcover_high                      0\n",
       "h2_cloudcover_total                     0\n",
       "h2_windspeed                            0\n",
       "h2_u_component                          0\n",
       "h2_v_component                          0\n",
       "h2_shortwave_radiation                  0\n",
       "h2_direct_solar_radiation               0\n",
       "h2_diffuse_radiation                    0\n",
       "dst                                     0\n",
       "dtype: int64"
      ]
     },
     "execution_count": null,
     "metadata": {},
     "output_type": "execute_result"
    }
   ],
   "source": [
    "# df.loc[df.dateisna().sum()'2023-03-26 03:00:00'"
   ]
  },
  {
   "cell_type": "code",
   "execution_count": null,
   "id": "e44e09c7-6509-4887-b247-3c0bedbe2338",
   "metadata": {},
   "outputs": [],
   "source": [
    "CATEGORICAL_DICT = {\n",
    "    \"county\": county_id_to_name_map,\n",
    "    \"is_business\": {0: \"not_business\", 1: \"business\"},\n",
    "    \"is_consumption\": {0: \"production\", 1: \"consumption\"},\n",
    "    \"product_type\": {\n",
    "        0: \"combined\",\n",
    "        1: \"fixed\",\n",
    "        2: \"general_service\",\n",
    "        3: \"spot\",\n",
    "    },\n",
    "}\n",
    "\n",
    "PALETTE = sns.color_palette(\n",
    "    cc.glasbey[:4]\n",
    "    + [cc.glasbey[8]]\n",
    "    + cc.glasbey[5:8]\n",
    "    + [cc.glasbey[4]]\n",
    "    + [cc.glasbey[12]]\n",
    "    + cc.glasbey[10:12]\n",
    "    + [cc.glasbey[9]]\n",
    "    + cc.glasbey[13:16]\n",
    ").as_hex()\n",
    "\n",
    "SEGMENT_C = [\"county\", \"product_type\", \"is_business\"]\n",
    "CATEGORICAL_C = [\"county\", \"product_type\", \"is_business\", \"is_consumption\"]\n",
    "TARGET_C = [\n",
    "    \"county\",\n",
    "    \"product_type\",\n",
    "    \"is_business\",\n",
    "    \"is_consumption\",\n",
    "    \"datetime\",\n",
    "]"
   ]
  },
  {
   "cell_type": "code",
   "execution_count": null,
   "id": "488b17ef-c6b4-40fa-b431-8725859e0b3d",
   "metadata": {},
   "outputs": [],
   "source": [
    "pd.set_option(\n",
    "    \"display.float_format\",\n",
    "    lambda x: f\"{x:.2e}\" if abs(x) < 0.01 and x != 0 else f\"{x:.2f}\",\n",
    ")\n",
    "pd.set_option(\"display.max_columns\", None)"
   ]
  },
  {
   "cell_type": "code",
   "execution_count": null,
   "id": "4d404b91-fce1-4b4b-8198-9f8ef0e051cd",
   "metadata": {},
   "outputs": [],
   "source": [
    "sns.set_style(\"whitegrid\")"
   ]
  }
 ],
 "metadata": {},
 "nbformat": 4,
 "nbformat_minor": 5
}
