{
 "cells": [
  {
   "cell_type": "markdown",
   "id": "af09e75c-0bf4-4c48-a601-01db2a2f3bd6",
   "metadata": {},
   "source": [
    "# 1. Setup"
   ]
  },
  {
   "cell_type": "code",
   "execution_count": null,
   "id": "665a87a1-37ef-47a8-bfb6-bf95175c2871",
   "metadata": {},
   "outputs": [],
   "source": [
    "# import json\n",
    "# from datetime import date, time\n",
    "\n",
    "# import colorcet as cc\n",
    "# import holidays\n",
    "# import matplotlib.patches as mpatches\n",
    "import matplotlib.pyplot as plt\n",
    "# import matplotlib.transforms as mt\n",
    "import numpy as np\n",
    "import pandas as pd\n",
    "# import plotly.express as px\n",
    "# import plotly.graph_objects as go\n",
    "import seaborn as sns\n",
    "# from IPython.display import Image\n",
    "# from matplotlib.dates import DateFormatter, MonthLocator\n",
    "# from matplotlib.lines import Line2D\n",
    "# from matplotlib.ticker import MultipleLocator\n",
    "# from pandas.core.groupby.generic import DataFrameGroupBy\n",
    "# from prophet import Prophet\n",
    "# from scipy.ndimage import binary_dilation\n",
    "# from shapely.geometry import shape\n",
    "# from statsmodels.tsa.seasonal import MSTL, seasonal_decompose"
   ]
  },
  {
   "cell_type": "code",
   "execution_count": null,
   "id": "c517a23d-20f1-4d78-9500-cdad996b9962",
   "metadata": {},
   "outputs": [],
   "source": [
    "pd.set_option(\n",
    "    \"display.float_format\",\n",
    "    lambda x: f\"{x:.2e}\" if abs(x) < 0.01 and x != 0 else f\"{x:.2f}\",\n",
    ")\n",
    "pd.set_option('display.max_columns', 100)\n",
    "pd.set_option(\"display.max_rows\", 100)"
   ]
  },
  {
   "cell_type": "code",
   "execution_count": null,
   "id": "fecf64f8-3024-49c1-8003-2bf3bdf7a1ce",
   "metadata": {},
   "outputs": [],
   "source": [
    "SEGMENT_C = [\"county\", \"product_type\", \"is_business\"]\n",
    "CATEGORICAL_C = [\"county\", \"product_type\", \"is_business\", \"is_consumption\"]\n",
    "TARGET_C = [\n",
    "    \"county\",\n",
    "    \"product_type\",\n",
    "    \"is_business\",\n",
    "    \"is_consumption\",\n",
    "    \"datetime\",\n",
    "]\n",
    "RAND = 10"
   ]
  },
  {
   "cell_type": "code",
   "execution_count": null,
   "id": "d693455f-cee5-4942-8852-07d57c94bfbe",
   "metadata": {},
   "outputs": [],
   "source": [
    "RAW_DATA_PATH = \"../raw_data/\"\n",
    "ADDITIONAL_DATA_PATH = \"../additional_data/\""
   ]
  },
  {
   "cell_type": "code",
   "execution_count": null,
   "id": "1cfa8367-1fd6-49f1-87e7-a0abaf056807",
   "metadata": {},
   "outputs": [],
   "source": [
    "from utils.loading import load_all_raw_data\n",
    "from utils.preprocessing import process_all_dfs\n",
    "from utils.merging import merge_all_dfs"
   ]
  },
  {
   "cell_type": "code",
   "execution_count": null,
   "id": "1d5fe80e-d32f-4c2e-b04c-1b5fa1e22149",
   "metadata": {},
   "outputs": [],
   "source": [
    "from utils.feature_engineering import (\n",
    "    get_lag,\n",
    "    get_moving_average,\n",
    "    add_cyclic_datetime_features,\n",
    ")"
   ]
  },
  {
   "cell_type": "markdown",
   "id": "8c38031e-6fd2-4ad1-8c50-dbd1858776f6",
   "metadata": {},
   "source": [
    "# 2. Processing"
   ]
  },
  {
   "cell_type": "code",
   "execution_count": null,
   "id": "e744670d-0bd3-44cb-a39a-f71406dfcc21",
   "metadata": {},
   "outputs": [],
   "source": [
    "processed_dfs = process_all_dfs(\n",
    "    load_all_raw_data(RAW_DATA_PATH, ADDITIONAL_DATA_PATH)\n",
    ")"
   ]
  },
  {
   "cell_type": "code",
   "execution_count": null,
   "id": "05d97801-1f74-4776-b2e7-ce9234d10c11",
   "metadata": {},
   "outputs": [
    {
     "data": {
      "text/plain": [
       "dict_keys(['train', 'gas_prices', 'client', 'electricity_prices', 'forecast_weather', 'historical_weather', 'station_county_mapping', 'county_id_to_name_map', 'holidays'])"
      ]
     },
     "execution_count": null,
     "metadata": {},
     "output_type": "execute_result"
    }
   ],
   "source": [
    "processed_dfs.keys()"
   ]
  },
  {
   "cell_type": "code",
   "execution_count": null,
   "id": "718f9a1a-1d63-45d7-9f51-e7029aad6ccb",
   "metadata": {},
   "outputs": [],
   "source": [
    "df = merge_all_dfs(processed_dfs)"
   ]
  },
  {
   "cell_type": "code",
   "execution_count": null,
   "id": "11122383-2f03-4716-a628-104dd4f8469d",
   "metadata": {},
   "outputs": [],
   "source": [
    "for lag in [2, 3, 7]:\n",
    "    df = df.merge(\n",
    "        get_lag(processed_dfs[\"train\"][TARGET_C + [\"target\"]], lag=lag),\n",
    "        on=TARGET_C,\n",
    "    )"
   ]
  },
  {
   "cell_type": "code",
   "execution_count": null,
   "id": "3b94a016-f449-4b8e-8e09-9c3abbe5fd9f",
   "metadata": {},
   "outputs": [],
   "source": [
    "df = add_cyclic_datetime_features(df)"
   ]
  },
  {
   "cell_type": "code",
   "execution_count": null,
   "id": "4ac5bae2-9407-4fb6-a9fa-1414023b3e73",
   "metadata": {},
   "outputs": [],
   "source": [
    "for window in [24, 24 * 3, 24 * 7]:\n",
    "    df = df.merge(\n",
    "        get_moving_average(\n",
    "            processed_dfs[\"train\"]\n",
    "            .set_index(\"datetime\")\n",
    "            .sort_index()\n",
    "            .groupby(CATEGORICAL_C, observed=True, as_index=False),\n",
    "            window=window,\n",
    "        ).dropna(),\n",
    "        on=TARGET_C,\n",
    "    )"
   ]
  },
  {
   "cell_type": "code",
   "execution_count": null,
   "id": "3af86962-f296-46e5-ac79-871e07be804b",
   "metadata": {},
   "outputs": [],
   "source": [
    "# df.shape"
   ]
  },
  {
   "cell_type": "code",
   "execution_count": null,
   "id": "0dc64dd7-26d0-4f76-b5d0-4a190dabe3d7",
   "metadata": {},
   "outputs": [],
   "source": [
    "# df.head()"
   ]
  },
  {
   "cell_type": "code",
   "execution_count": null,
   "id": "de665db5-0fad-43c7-94d3-ea0330c4354f",
   "metadata": {},
   "outputs": [],
   "source": [
    "# df.dtypes"
   ]
  },
  {
   "cell_type": "code",
   "execution_count": null,
   "id": "09f19fac-bbc0-49cc-b0b9-cfcc89e02abd",
   "metadata": {},
   "outputs": [],
   "source": [
    "# plt.figure(figsize=(18, 11))\n",
    "# sns.heatmap(\n",
    "#     df.drop(\n",
    "#         columns=[\n",
    "#             \"county\",\n",
    "#             \"product_type\",\n",
    "#             \"datetime\",\n",
    "#             \"data_block_id\",\n",
    "#             \"date\",\n",
    "#             \"holiday_type\"\n",
    "#         ]\n",
    "#     ).corr(),\n",
    "#     annot=True,\n",
    "#     fmt=\".1f\",\n",
    "#     annot_kws={\"size\": 7}\n",
    "# )\n",
    "# plt.show()"
   ]
  }
 ],
 "metadata": {},
 "nbformat": 4,
 "nbformat_minor": 5
}
