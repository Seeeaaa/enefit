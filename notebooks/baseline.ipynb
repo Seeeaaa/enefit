{
 "cells": [
  {
   "cell_type": "markdown",
   "id": "af09e75c-0bf4-4c48-a601-01db2a2f3bd6",
   "metadata": {},
   "source": [
    "# 1. Import"
   ]
  },
  {
   "cell_type": "code",
   "execution_count": null,
   "id": "665a87a1-37ef-47a8-bfb6-bf95175c2871",
   "metadata": {},
   "outputs": [],
   "source": [
    "import numpy as np\n",
    "import pandas as pd\n",
    "import matplotlib.pyplot as plt\n",
    "import seaborn as sns\n",
    "\n",
    "RAND = 10"
   ]
  },
  {
   "cell_type": "code",
   "execution_count": null,
   "id": "91db6276-bab9-4bff-a2cf-7edf94d65762",
   "metadata": {},
   "outputs": [],
   "source": [
    "clientdf = pd.read_csv(\"client.csv\")"
   ]
  },
  {
   "cell_type": "markdown",
   "id": "3934e9de-48c6-46d6-897a-20f2be78bfd2",
   "metadata": {},
   "source": [
    "# 2. EDA"
   ]
  }
 ],
 "metadata": {},
 "nbformat": 4,
 "nbformat_minor": 5
}
